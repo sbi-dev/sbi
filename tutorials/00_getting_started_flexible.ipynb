{
 "cells": [
  {
   "cell_type": "markdown",
   "metadata": {},
   "source": [
    "# Getting started with `sbi`"
   ]
  },
  {
   "cell_type": "markdown",
   "metadata": {},
   "source": [
    "Note, you can find the original version of this notebook at [https://github.com/sbi-dev/sbi/blob/main/tutorials/00_getting_started_flexible.ipynb](https://github.com/sbi-dev/sbi/blob/main/tutorials/00_getting_started_flexible.ipynb) in the `sbi` repository."
   ]
  },
  {
   "cell_type": "markdown",
   "metadata": {},
   "source": [
    "`sbi` provides a simple interface to run state-of-the-art algorithms for simulation-based inference.\n",
    "\n",
    "**The overall goal of simulation-based inference is to algorithmically identify model parameters which are consistent with data.**\n",
    "\n",
    "In this tutorial we demonstrate how to get started with the `sbi` toolbox and how to perform parameter inference on a simple model. \n",
    "\n",
    "Each of the implemented inference methods takes three inputs: \n",
    "1. A candidate (mechanistic) model - _the simulator_\n",
    "2. prior knowledge or constraints on model parameters - _the prior_\n",
    "3. observational data (or summary statistics thereof) - _the observations_\n",
    "\n",
    "\n",
    "If you are new to simulation-based inference, please first read the information in the tutorial [README](README.md) or the [website](https://sbi-dev.github.io/sbi/) to familiarise with the motivation and relevant terms."
   ]
  },
  {
   "cell_type": "code",
   "execution_count": 17,
   "metadata": {},
   "outputs": [],
   "source": [
    "import torch\n",
    "\n",
    "from sbi import analysis as analysis\n",
    "from sbi import utils as utils\n",
    "from sbi.inference import SNPE, simulate_for_sbi\n",
    "from sbi.utils.user_input_checks import (\n",
    "    check_sbi_inputs,\n",
    "    process_prior,\n",
    "    process_simulator,\n",
    ")"
   ]
  },
  {
   "cell_type": "markdown",
   "metadata": {},
   "source": [
    "## Parameter inference in a linear Gaussian example\n",
    "\n"
   ]
  },
  {
   "cell_type": "markdown",
   "metadata": {},
   "source": [
    "For this illustrative example, we consider a model _simulator_, that takes in 3 parameters ($\\theta$). For simplicity, the _simulator_ outputs simulations of the same dimensionality and just adds 1.0 and some Gaussian noise to the parameter set. \n",
    "\n",
    "> Note: This is where you would specify your model _simulator_ and with its parameters. \n",
    "\n",
    "For the 3-dimensional parameter space we consider a uniform _prior_ between [-2,2].\n",
    "\n",
    "> Note: This is where you would incorporate prior knowlegde about the parameters you want to infer, e.g., ranges known from literature. \n",
    "\n"
   ]
  },
  {
   "cell_type": "code",
   "execution_count": 18,
   "metadata": {},
   "outputs": [],
   "source": [
    "num_dim = 3\n",
    "prior = utils.BoxUniform(low=-2 * torch.ones(num_dim), high=2 * torch.ones(num_dim))\n",
    "\n",
    "def simulator(theta):\n",
    "    return theta + 1.0 + torch.randn_like(theta) * 0.1"
   ]
  },
  {
   "cell_type": "markdown",
   "metadata": {},
   "source": [
    "We have to ensure that your _simulator_ and _prior_ adhere to the requirements of `sbi` such as returning `torch.Tensor`s in a standardised shape. \n",
    "\n",
    "You can do so with the `process_simulator()` and `process_prior()` functions, which prepare them appropriately. Finally, you can call `check_sbi_input()` to make sure they are consistent which each other."
   ]
  },
  {
   "cell_type": "code",
   "execution_count": 19,
   "metadata": {},
   "outputs": [],
   "source": [
    "# Check prior, return PyTorch prior.\n",
    "prior, num_parameters, prior_returns_numpy = process_prior(prior)\n",
    "\n",
    "# Check simulator, returns PyTorch simulator able to simulate batches.\n",
    "simulator = process_simulator(simulator, prior, prior_returns_numpy)\n",
    "\n",
    "# Consistency check after making ready for sbi.\n",
    "check_sbi_inputs(simulator, prior)"
   ]
  },
  {
   "cell_type": "markdown",
   "metadata": {},
   "source": [
    "Next, we instantiate the inference object. Here, to neural perform posterior estimation (NPE):"
   ]
  },
  {
   "cell_type": "markdown",
   "metadata": {},
   "source": [
    "> Note: Single round sequential NPE which we call via SNPE corresponds to NPE. \n",
    "\n",
    "> Note: This is where you could specify an alternative inference object such as (S)NRE for ratio estimation or (S)NLE for likelihood estimation. Here, you can see [all implemented methods.](16_implemented_methods.ipynb)\n",
    "\n"
   ]
  },
  {
   "cell_type": "code",
   "execution_count": 4,
   "metadata": {},
   "outputs": [],
   "source": [
    "inference = SNPE(prior=prior)"
   ]
  },
  {
   "cell_type": "markdown",
   "metadata": {},
   "source": [
    "Next, we need simulations or more specifically pairs of paramters $\\theta$ which we sample from the _prior_ and correpsonding simulations $x = \\mathrm{simulator} (\\theta)$. The `sbi` helper function called `simulate_for_sbi` allows to parallelize your code with `joblib`.\n",
    "\n",
    " > Note: You might already have your own parameter, simulation pairs which were generated elsewhere (e.g., on a compute cluster), then you would add them here.  \n"
   ]
  },
  {
   "cell_type": "code",
   "execution_count": 20,
   "metadata": {},
   "outputs": [
    {
     "data": {
      "application/vnd.jupyter.widget-view+json": {
       "model_id": "297cd0c1931746e3aa596c0fd1c3e0e4",
       "version_major": 2,
       "version_minor": 0
      },
      "text/plain": [
       "Running 2000 simulations.:   0%|          | 0/2000 [00:00<?, ?it/s]"
      ]
     },
     "metadata": {},
     "output_type": "display_data"
    }
   ],
   "source": [
    "theta, x = simulate_for_sbi(simulator, proposal=prior, num_simulations=2000)"
   ]
  },
  {
   "cell_type": "markdown",
   "metadata": {},
   "source": [
    "We then pass the simulated data to the inference object. Both `theta` and `x` should be a `torch.Tensor` of type `float32`."
   ]
  },
  {
   "cell_type": "code",
   "execution_count": 6,
   "metadata": {},
   "outputs": [],
   "source": [
    "inference = inference.append_simulations(theta, x)"
   ]
  },
  {
   "cell_type": "markdown",
   "metadata": {},
   "source": [
    "Next, we train the _neural density estimator_ to learn the association between the simulated data (or data features) and the underlying parameters:"
   ]
  },
  {
   "cell_type": "code",
   "execution_count": 7,
   "metadata": {},
   "outputs": [
    {
     "name": "stdout",
     "output_type": "stream",
     "text": [
      " Neural network successfully converged after 52 epochs."
     ]
    }
   ],
   "source": [
    "density_estimator = inference.train()"
   ]
  },
  {
   "cell_type": "markdown",
   "metadata": {},
   "source": [
    "Finally, we use this _density estimator_ to build the posterior distribution $p(\\theta|x)$, i.e., the distributions over paramters $\\theta$ given observation $x$. \n",
    "\n",
    "Effectively, `build_posterior` acts as a wrapper for the raw _density estimator_ that among other features (which go beyond the scope of this introductory tutorial) allows us to sample parameters $\\theta$ from the posterior via `.sample()`, i.e., parameters that are likely given the observation $x$. \n",
    "\n",
    "We can also get log-probabilities under the posterior via `.log_prob()`, i.e., we can evaluate the likelihood of parameters $\\theta$ given the observation $x$. "
   ]
  },
  {
   "cell_type": "code",
   "execution_count": 16,
   "metadata": {},
   "outputs": [
    {
     "name": "stdout",
     "output_type": "stream",
     "text": [
      "Posterior conditional density p(θ|x) of type DirectPosterior. It samples the posterior network and rejects samples that\n",
      "            lie outside of the prior bounds.\n"
     ]
    }
   ],
   "source": [
    "posterior = inference.build_posterior(density_estimator)\n",
    "\n",
    "print(posterior) # prints how the posterior was trained"
   ]
  },
  {
   "cell_type": "markdown",
   "metadata": {},
   "source": [
    "## Visualisations of the inferred posterior for a new observation\n",
    "\n",
    "Let's say we have made some observation $x_{obs}$ for which we now want to infer the posterior:"
   ]
  },
  {
   "cell_type": "code",
   "execution_count": 21,
   "metadata": {},
   "outputs": [],
   "source": [
    "x_obs = torch.zeros(3)"
   ]
  },
  {
   "cell_type": "markdown",
   "metadata": {},
   "source": [
    " Given this observation, we can then sample from the posterior $p(\\theta|x_{obs})$ and visualise the univariate and pairwise marginals for the three parameters via `analysis.pairplot()`."
   ]
  },
  {
   "cell_type": "code",
   "execution_count": 34,
   "metadata": {},
   "outputs": [
    {
     "data": {
      "application/vnd.jupyter.widget-view+json": {
       "model_id": "5848a8d82ade45418ce453a2a0747de3",
       "version_major": 2,
       "version_minor": 0
      },
      "text/plain": [
       "Drawing 10000 posterior samples:   0%|          | 0/10000 [00:00<?, ?it/s]"
      ]
     },
     "metadata": {},
     "output_type": "display_data"
    },
    {
     "data": {
      "image/png": "[encoded data removed]",
      "text/plain": [
       "<Figure size 600x600 with 9 Axes>"
      ]
     },
     "metadata": {},
     "output_type": "display_data"
    }
   ],
   "source": [
    "samples = posterior.sample((10000,), x=x_obs)\n",
    "_ = analysis.pairplot(samples, limits=[[-2, 2], [-2, 2], [-2, 2]], figsize=(6, 6),labels=[r\"$\\theta_1$\", r\"$\\theta_2$\", r\"$\\theta_3$\"])"
   ]
  },
  {
   "cell_type": "markdown",
   "metadata": {},
   "source": [
    "## Assessing the posterior for a known $\\theta, x$ - pair "
   ]
  },
  {
   "cell_type": "code",
   "execution_count": 37,
   "metadata": {},
   "outputs": [],
   "source": [
    "# generate a true theta and an observation x pair\n",
    "theta_true = prior.sample((1,))\n",
    "x_true = simulator(theta_true)\n",
    "# randomly samle a different set of parameters theta\n",
    "theta_diff = prior.sample((1,))"
   ]
  },
  {
   "cell_type": "markdown",
   "metadata": {},
   "source": [
    "Now we can assess, if the interred distirbutions over the parameters match the parameters we used to generate our test sample."
   ]
  },
  {
   "cell_type": "code",
   "execution_count": 38,
   "metadata": {},
   "outputs": [
    {
     "data": {
      "application/vnd.jupyter.widget-view+json": {
       "model_id": "bab25640d11f44fa889df5a7b4d04c8e",
       "version_major": 2,
       "version_minor": 0
      },
      "text/plain": [
       "Drawing 10000 posterior samples:   0%|          | 0/10000 [00:00<?, ?it/s]"
      ]
     },
     "metadata": {},
     "output_type": "display_data"
    },
    {
     "data": {
      "image/png": "[encoded data removed]",
      "text/plain": [
       "<Figure size 600x600 with 9 Axes>"
      ]
     },
     "metadata": {},
     "output_type": "display_data"
    }
   ],
   "source": [
    "samples = posterior.sample((10000,), x=x_true)\n",
    "_ = analysis.pairplot(samples, points=theta_true, limits=[[-2, 2], [-2, 2], [-2, 2]], figsize=(6, 6), labels=[r\"$\\theta_1$\", r\"$\\theta_2$\", r\"$\\theta_3$\"])"
   ]
  },
  {
   "cell_type": "markdown",
   "metadata": {},
   "source": [
    "The log-probability should ideally indicate that the true parameters are more likely given the correspinding observation than the different set of parameters. \n",
    "\n",
    "We can further assess the range of log probabilities of the samples from the posterior."
   ]
  },
  {
   "cell_type": "code",
   "execution_count": 39,
   "metadata": {},
   "outputs": [
    {
     "name": "stdout",
     "output_type": "stream",
     "text": [
      "high for true theta : tensor([3.3860])\n",
      "low for different theta : tensor([-82.1151])\n",
      "range of posterior samples: min: tensor(-7.3333)  max : tensor(3.9999)\n"
     ]
    }
   ],
   "source": [
    "log_probability_true_theta = posterior.log_prob(theta_true, x=x_true)\n",
    "log_probability_diff_theta = posterior.log_prob(theta_diff, x=x_true)\n",
    "log_probability_samples = posterior.log_prob(samples, x=x_true)\n",
    "\n",
    "print( r'high for true theta :', log_probability_true_theta)\n",
    "print( r'low for different theta :', log_probability_diff_theta)\n",
    "print( r'range of posterior samples: min:', torch.min(log_probability_samples),' max :', torch.max(log_probability_samples))\n"
   ]
  },
  {
   "cell_type": "markdown",
   "metadata": {},
   "source": [
    "## Next steps\n",
    "\n",
    "For `sbi` _contributers_ we recommend directly heading over to [Inferring parameters for multiple observations ](01_gaussian_amortized.ipynb) which introduces the concept of amortization. \n",
    "\n",
    "\n",
    "For _users_ and `sbi` beginners, we recommend going through [the example for a scientific simulator from neuroscience](../examples/00_HH_simulator.ipynb) to see a scientific use case.\n",
    "\n",
    "Alternatively, also head over to [Inferring parameters for multiple observations ](01_gaussian_amortized.ipynb) which introduces the concept of amortization. "
   ]
  }
 ],
 "metadata": {
  "kernelspec": {
   "display_name": "Python 3",
   "language": "python",
   "name": "python3"
  },
  "language_info": {
   "codemirror_mode": {
    "name": "ipython",
    "version": 3
   },
   "file_extension": ".py",
   "mimetype": "text/x-python",
   "name": "python",
   "nbconvert_exporter": "python",
   "pygments_lexer": "ipython3",
   "version": "3.8.18"
  }
 },
 "nbformat": 4,
 "nbformat_minor": 4
}
