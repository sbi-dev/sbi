{
 "cells": [
  {
   "cell_type": "markdown",
   "metadata": {},
   "source": [
    "# Simulation-based Calibration in SBI\n",
    "\n",
    "After a density estimator has been trained with simulated data to obtain a posterior, the estimator should be made subject to several diagnostic tests, before being used for inference given the actual observed data. *Posterior Predictive Checks* (see tutorial 12) provide one way to \"critique\" a trained estimator via its predictive performance. Another important approach to such diagnostics is simulation-based calibration as reported by [Talts et al, 2018](https://arxiv.org/abs/1804.06788).\n",
    "\n",
    "**Simulation-based calibration** (SBC) provides a (qualitative) view and a quantitive measure to check, whether the uncertainties of the posterior are balanced, i.e., neither over-confident nor under-confident. As such, SBC can be viewed as a necessary condition (but not sufficient) for a valid inference algorithm: If SBC checks fail, this tells you that your inference is invalid. If SBC checks pass, this is no guarantee that the posterior estimation is working."
   ]
  },
  {
   "cell_type": "markdown",
   "metadata": {},
   "source": [
    "## In a nutshell\n",
    "\n",
    "To run SBC,  \n",
    "\n",
    "1. we sample `theta_o_i` values from the prior of the problem at hand\n",
    "2. we simulate \"observations\" from these parameters: `x_o_i = simulator(theta_o_i)` \n",
    "3. we perform inference given each observation `x_o_i`.\n",
    "\n",
    "This produces a separate posterior $p_i(\\theta | x_{o,i})$ for each of `x_o_i`. The key step for SBC is to generate a set of posterior samples $\\{\\theta\\}_i$ from each posterior (let's call this `theta_i_s`, referring to `s` samples from posterior $p_i(\\theta | x_{o,i})$), and to rank the corresponding `theta_o_i` under this set of samples. A rank is computed by counting how many samples `theta_i_s` fall below their corresponding `theta_o_i` (see section 4.1 in Talts et al.). These ranks are then used to perform the SBC check.\n",
    "\n",
    "### Key ideas behind SBC\n",
    "\n",
    "The core idea behind SBC is two fold: \n",
    "\n",
    "- SBC ranks of ground truth parameters under the inferred posterior samples follow a uniform distribution.  \n",
    "(If the SBC ranks are not uniformly distributed, the posterior is not well calibrated.)\n",
    "\n",
    "- samples from the data averaged posterior (ensemble of randomly chosen posterior samples given multiple distinct observations `x_o`) are distributed according to the prior\n",
    "\n",
    "### What can SBC diagnose?\n",
    "\n",
    "**SBC can inform us whether we are not wrong.** However, it cannot tell us whether we are right, i.e., SBC checks a necessary condition. For example, imagine you run SBC using the prior as a posterior. The ranks would be perfectly uniform. But the inference would be wrong.\n",
    "\n",
    "**The Posterior Predictive Checks (see tutorial 12) can be seen as the complementary sufficient check** for the posterior (only as a methaphor, no theoretical guarantees here). Using the prior as a posterior and then doing predictive checks would clearly show that inference failed. \n",
    "\n",
    "To summarize SBC can:\n",
    "\n",
    "- tell us whether the SBI method applied to the problem at hand produces posteriors that have well-calibrated uncertainties,\n",
    "- and if not, what kind of systematic bias it has: negative or positive bias (shift in the mean of the predictions) or over- or underdispersion (too large or too small variance)"
   ]
  },
  {
   "cell_type": "markdown",
   "metadata": {},
   "source": [
    "## A healthy posterior\n",
    "\n",
    "Let's take the gaussian linear simulator from the previous tutorials and run inference with NPE on it. \n",
    "\n",
    "__Note:__ SBC requires running inference several times. Using SBC with amortized methods like NPE is hence a justified endavour: repeated inference is cheap and SBC can be performed with little runtime penalty. This does not hold for sequential methods or anything relying on MCMC or VI (here, parallelization is your friend, `num_workers>1`)."
   ]
  },
  {
   "cell_type": "code",
   "execution_count": 1,
   "metadata": {
    "tags": []
   },
   "outputs": [],
   "source": [
    "import torch\n",
    "\n",
    "from torch import eye, ones, zeros\n",
    "from torch.distributions import MultivariateNormal\n",
    "\n",
    "from sbi.analysis import check_sbc, run_sbc, get_nltp, sbc_rank_plot\n",
    "from sbi.inference import SNPE, SNPE_C, prepare_for_sbi, simulate_for_sbi\n",
    "from sbi.simulators import linear_gaussian, diagonal_linear_gaussian"
   ]
  },
  {
   "cell_type": "code",
   "execution_count": 27,
   "metadata": {
    "tags": []
   },
   "outputs": [],
   "source": [
    "num_dim = 2\n",
    "num_simulations = 10_000\n",
    "\n",
    "prior_mean = ones(num_dim)\n",
    "prior_cov = 2 * eye(num_dim)\n",
    "prior = MultivariateNormal(\n",
    "    loc=prior_mean, covariance_matrix=prior_cov, validate_args=False\n",
    ")"
   ]
  },
  {
   "cell_type": "markdown",
   "metadata": {},
   "source": [
    "## An ideal case\n",
    "\n",
    "To explore SBC, we make our life easy and assume that we deal with a problem where the likelihood is modelled by an identity mapping and a bit of smear. But to start, we only use an almost vanishing smear of `0.01`."
   ]
  },
  {
   "cell_type": "code",
   "execution_count": 28,
   "metadata": {
    "tags": []
   },
   "outputs": [
    {
     "data": {
      "application/vnd.jupyter.widget-view+json": {
       "model_id": "72bad49557014c4b8a7d7daca1d53f3d",
       "version_major": 2,
       "version_minor": 0
      },
      "text/plain": [
       "Running 10000 simulations.:   0%|          | 0/10000 [00:00<?, ?it/s]"
      ]
     },
     "metadata": {},
     "output_type": "display_data"
    }
   ],
   "source": [
    "default_likelihood_loc = 0.0  # let's start with 0 shift\n",
    "default_likelihood_scale = 0.01  # let's smear theta only by a little bit\n",
    "\n",
    "\n",
    "def simulator(theta, loc=default_likelihood_loc, scale=default_likelihood_scale):\n",
    "    \"\"\"linear gaussian inspired by sbibm\n",
    "    https://github.com/sbi-benchmark/sbibm/blob/15f068a08a938383116ffd92b92de50c580810a3/sbibm/tasks/gaussian_linear/task.py#L74\n",
    "    \"\"\"\n",
    "    num_dim = theta.shape[-1]\n",
    "    cov_ = scale * eye(num_dim)  # always positively semi-definite\n",
    "\n",
    "    # using validate_args=False disables sanity checks on `covariance_matrix`\n",
    "    # for the sake of speed\n",
    "    value = MultivariateNormal(\n",
    "        loc=(theta + loc), covariance_matrix=cov_, validate_args=False\n",
    "    ).sample()\n",
    "    return value\n",
    "\n",
    "\n",
    "_ = torch.manual_seed(0)\n",
    "theta, x = simulate_for_sbi(simulator, prior, num_simulations)"
   ]
  },
  {
   "cell_type": "code",
   "execution_count": 29,
   "metadata": {
    "tags": []
   },
   "outputs": [
    {
     "name": "stdout",
     "output_type": "stream",
     "text": [
      "theta: [[1.9352932 1.3774877]]\n",
      "x    : [[1.941461  1.4396194]]\n"
     ]
    }
   ],
   "source": [
    "# let's obtain an observation\n",
    "_ = torch.manual_seed(1)\n",
    "\n",
    "theta_o = prior.sample((1,))\n",
    "x_o = simulator(theta_o)\n",
    "print(\"theta:\", theta_o.numpy())\n",
    "print(\"x    :\", x_o.numpy())"
   ]
  },
  {
   "cell_type": "code",
   "execution_count": 30,
   "metadata": {
    "tags": []
   },
   "outputs": [
    {
     "name": "stdout",
     "output_type": "stream",
     "text": [
      " Neural network successfully converged after 70 epochs."
     ]
    }
   ],
   "source": [
    "_ = torch.manual_seed(2)\n",
    "\n",
    "# we use a mdn model to have a fast turnaround with training.\n",
    "inferer = SNPE(prior, density_estimator=\"mdn\")\n",
    "# append simulations and run training.\n",
    "inferer.append_simulations(theta, x).train();"
   ]
  },
  {
   "cell_type": "code",
   "execution_count": 31,
   "metadata": {
    "tags": []
   },
   "outputs": [
    {
     "data": {
      "application/vnd.jupyter.widget-view+json": {
       "model_id": "de679668cc9340caa9fd3bba4f43c63c",
       "version_major": 2,
       "version_minor": 0
      },
      "text/plain": [
       "Drawing 15000 posterior samples:   0%|          | 0/15000 [00:00<?, ?it/s]"
      ]
     },
     "metadata": {},
     "output_type": "display_data"
    }
   ],
   "source": [
    "posterior = inferer.build_posterior()\n",
    "posterior_samples = posterior.sample((15_000,), x=x_o)\n",
    "# Generate predictive samples by simulating from posterior samples.\n",
    "posterior_predictive_samples = simulator(posterior_samples)"
   ]
  },
  {
   "cell_type": "code",
   "execution_count": 32,
   "metadata": {
    "tags": []
   },
   "outputs": [
    {
     "data": {
      "image/png": "[encoded data removed]",
      "text/plain": [
       "<Figure size 500x500 with 4 Axes>"
      ]
     },
     "metadata": {},
     "output_type": "display_data"
    }
   ],
   "source": [
    "# let's do some posterior predictive checks to see if the\n",
    "# posterior predictive samples cluster aournd the observation `x_o`.\n",
    "from sbi.analysis import pairplot\n",
    "\n",
    "fig, ax = pairplot(\n",
    "    samples=posterior_predictive_samples,\n",
    "    points=x_o,\n",
    "    limits=list(zip(x_o.flatten() - 1.0, x_o.flatten() + 1.0)),\n",
    "    upper=\"kde\",\n",
    "    diag=\"kde\",\n",
    "    figsize=(5, 5),\n",
    "    labels=[rf\"$x_{d}$\" for d in range(3)],\n",
    ")"
   ]
  },
  {
   "cell_type": "markdown",
   "metadata": {},
   "source": [
    "The observation `x_o` falls into the support of the predicted posterior samples, i.e. it is within `simulator(posterior_samples)`. Given the simulator, this is indicative that our posterior estimates the data well."
   ]
  },
  {
   "cell_type": "markdown",
   "metadata": {},
   "source": [
    "### Running SBC\n",
    "\n",
    "We have a working and trained posterior at this point! Hurray! Let's look at the SBC metrics now."
   ]
  },
  {
   "cell_type": "code",
   "execution_count": 33,
   "metadata": {
    "tags": []
   },
   "outputs": [],
   "source": [
    "num_sbc_runs = 1_000  # choose a number of sbc runs, should be ~100s or ideally 1000\n",
    "# generate ground truth parameters and corresponding simulated observations for SBC.\n",
    "thetas = prior.sample((num_sbc_runs,))\n",
    "xs = simulator(thetas)"
   ]
  },
  {
   "cell_type": "markdown",
   "metadata": {},
   "source": [
    "SBC is implemented in `sbi` for your use on any `sbi` posterior. To run it, we only need to call `run_sbc` with appropriate parameters. \n",
    "\n",
    "__Note__: For amortized neural posteriors (like in this tutorial), execution of `sbc` is expected to be fast. For posteriors that conduct inference with MCMC and hence are slow, `run_sbc` exposes the use of multiple internal parallel workers to the user. To use this feature, add `num_workers = 2` to the parameters for use of two workers. See the API documentation for details."
   ]
  },
  {
   "cell_type": "code",
   "execution_count": 34,
   "metadata": {
    "tags": []
   },
   "outputs": [
    {
     "data": {
      "application/vnd.jupyter.widget-view+json": {
       "model_id": "eb2a9ab4b0ce42a69ec03fec906fcf0e",
       "version_major": 2,
       "version_minor": 0
      },
      "text/plain": [
       "Running 1000 sbc samples.:   0%|          | 0/1000 [00:00<?, ?it/s]"
      ]
     },
     "metadata": {},
     "output_type": "display_data"
    }
   ],
   "source": [
    "# run SBC: for each inference we draw 1000 posterior samples.\n",
    "num_posterior_samples = 1_000\n",
    "ranks, dap_samples = run_sbc(\n",
    "    thetas, xs, posterior, num_posterior_samples=num_posterior_samples\n",
    ")"
   ]
  },
  {
   "cell_type": "markdown",
   "metadata": {},
   "source": [
    "`sbi` establishes two methods to do simulation-based calibration:\n",
    "\n",
    "- metrics to compare the sbc ranks with a uniform distribution \n",
    "- control plots for visual inspections like fig. 1 or 2 in [Talts et al, 2018](https://arxiv.org/abs/1804.06788)\n",
    "\n",
    "The `ranks` count is performed per dimension of `theta`, i.e. on the 1-D marginal posterior estimates. According to theory, the distribution of these ranks (per dimension of `theta`) should turn out to be uniformly distributed. \n",
    "\n",
    "The data average posterior `dap` (see equation 1 of [Talts et al, 2018](https://arxiv.org/abs/1804.06788)) is yet another metric of interest. It is built from singular random samples of the estimated posterior samples for each `xs` above. The `dap` is expected to match the prior distribution used (see equation 1 in [Talts et al, 2018](https://arxiv.org/abs/1804.06788) too). "
   ]
  },
  {
   "cell_type": "code",
   "execution_count": 35,
   "metadata": {
    "tags": []
   },
   "outputs": [],
   "source": [
    "check_stats = check_sbc(\n",
    "    ranks, thetas, dap_samples, num_posterior_samples=num_posterior_samples\n",
    ")"
   ]
  },
  {
   "cell_type": "markdown",
   "metadata": {},
   "source": [
    "The `check_stats` variable created contains a dictionary with 3 metrics that help to judge our posterior. The \"first\" two compare the ranks to a uniform distribution."
   ]
  },
  {
   "cell_type": "markdown",
   "metadata": {},
   "source": [
    "### Ranks versus Uniform distribution"
   ]
  },
  {
   "cell_type": "code",
   "execution_count": 36,
   "metadata": {
    "tags": []
   },
   "outputs": [
    {
     "name": "stdout",
     "output_type": "stream",
     "text": [
      "kolmogorov-smirnov p-values \n",
      "check_stats['ks_pvals'] = [0.36269188 0.551029  ]\n"
     ]
    }
   ],
   "source": [
    "print(\n",
    "    f\"kolmogorov-smirnov p-values \\ncheck_stats['ks_pvals'] = {check_stats['ks_pvals'].numpy()}\"\n",
    ")"
   ]
  },
  {
   "cell_type": "markdown",
   "metadata": {},
   "source": [
    "The Kolmogorov-Smirnov (KS test, see also [here](https://en.wikipedia.org/wiki/Kolmogorov%E2%80%93Smirnov_test#Two-sample_Kolmogorov%E2%80%93Smirnov_test)) as used by `check_sbc` provides p-values `pvals` on the null hypothesis that the samples from `ranks` are drawn from a uniform distribution (in other words `H_0: PDF(ranks) == PDF(uniform)`). We are provided two values as our problem is two-dimensional - one p-value for each dimension. \n",
    "\n",
    "The null hypothesis (of both distributions being equal) is rejected if the p-values fall below a significance threshold (usually `< 0.05`). Therefor, vanishing p-values (`ks_pvals=0`) are interpreted to indicate a vanishing false positive rate to (mistakenly) consider both distrubtions being \"equal\". As we are provided high values of this statistic in dimension 0, samples appear to be from the same distribution, i.e. samples from `ranks` follow a uniform distribution here. The picture is not so clear cut with dimension 1. This merits a second test."
   ]
  },
  {
   "cell_type": "code",
   "execution_count": 37,
   "metadata": {
    "tags": []
   },
   "outputs": [
    {
     "name": "stdout",
     "output_type": "stream",
     "text": [
      "c2st accuracies \n",
      "check_stats['c2st_ranks'] = [0.5575 0.567 ]\n"
     ]
    }
   ],
   "source": [
    "print(\n",
    "    f\"c2st accuracies \\ncheck_stats['c2st_ranks'] = {check_stats['c2st_ranks'].numpy()}\"\n",
    ")"
   ]
  },
  {
   "cell_type": "markdown",
   "metadata": {},
   "source": [
    "The second tier of metrics comparing `ranks` with a uniform distributions is a `c2st` test (see [here](http://arxiv.org/abs/1610.06545) for details). This is a nonparametric two sample test based on training a classifier to differented one of the ensembles (`ranks` versus samples from a uniform distribution) by being trained on the other. The values reported are the accuracies from cross-validation. If you see values around `0.5`, the classifier was unable to differentiate both ensembles, i.e. `ranks` are very uniform. If the values are high towards `1`, this matches the case where `ranks` is very unlike a uniform distribution."
   ]
  },
  {
   "cell_type": "markdown",
   "metadata": {},
   "source": [
    "### Data averaged posterior (DAP) versus prior"
   ]
  },
  {
   "cell_type": "code",
   "execution_count": 38,
   "metadata": {
    "tags": []
   },
   "outputs": [
    {
     "name": "stdout",
     "output_type": "stream",
     "text": [
      "- c2st accuracies check_stats['c2st_dap'] = [0.4825 0.4775]\n"
     ]
    }
   ],
   "source": [
    "print(f\"- c2st accuracies check_stats['c2st_dap'] = {check_stats['c2st_dap'].numpy()}\")"
   ]
  },
  {
   "cell_type": "markdown",
   "metadata": {},
   "source": [
    "The last metric reported is again based on `c2st` computed per dimension of `theta`. If you see values around `0.5`, the `c2st` classifier was unable to differentiate both ensembles for each dimension of `theta`, i.e. `dap` are much like (if not identical to) the prior. If the values are very high towards `1`, this represents the case where `dap` is very unlike the prior distribution."
   ]
  },
  {
   "cell_type": "markdown",
   "metadata": {},
   "source": [
    "### Visual Inspection"
   ]
  },
  {
   "cell_type": "code",
   "execution_count": 39,
   "metadata": {
    "tags": []
   },
   "outputs": [
    {
     "data": {
      "image/png": "[encoded data removed]",
      "text/plain": [
       "<Figure size 800x500 with 2 Axes>"
      ]
     },
     "metadata": {},
     "output_type": "display_data"
    }
   ],
   "source": [
    "from sbi.analysis import sbc_rank_plot\n",
    "\n",
    "f, ax = sbc_rank_plot(\n",
    "    ranks=ranks,\n",
    "    num_posterior_samples=num_posterior_samples,\n",
    "    plot_type=\"hist\",\n",
    "    num_bins=None,  # by passing None we use a heuristic for the number of bins.\n",
    ")"
   ]
  },
  {
   "cell_type": "markdown",
   "metadata": {},
   "source": [
    "The two plots visualize the distribution of `ranks` (here depicted in red) in each dimension. Highlighted in grey you see the 99% confidence interval of a uniform distribution given the number of samples provided. In plain english: for a uniform distribution, we would expect 1 out of 100 (red) bars to lie outside the grey area.\n",
    "\n",
    "We also observe, that the entries fluctuate to some degree. This can be considered a hint that `sbc` should be conducted with a lot more samples than 1000. A good rule of thumb is that given the number of bins `B` and the number of SBC samples `N` (chosed to be `1_000` here) should amount to `N / B ~ 20`."
   ]
  },
  {
   "cell_type": "code",
   "execution_count": 40,
   "metadata": {
    "tags": []
   },
   "outputs": [
    {
     "data": {
      "image/png": "[encoded data removed]",
      "text/plain": [
       "<Figure size 800x500 with 1 Axes>"
      ]
     },
     "metadata": {},
     "output_type": "display_data"
    }
   ],
   "source": [
    "f, ax = sbc_rank_plot(ranks, 1_000, plot_type=\"cdf\")"
   ]
  },
  {
   "cell_type": "markdown",
   "metadata": {},
   "source": [
    "The above provides a visual representation of the cumulative density function (CDF) of `ranks` (blue and orange for each dimension of `theta`) with respect to the 95% confidence interval of a uniform distribution (grey)."
   ]
  },
  {
   "cell_type": "markdown",
   "metadata": {},
   "source": [
    "# When things go haywire\n",
    "\n",
    "Next, we would like to explore some pathologies visible in sbc plots which can hint at our estimated posterior being somewhat wrong or completely off."
   ]
  },
  {
   "cell_type": "markdown",
   "metadata": {},
   "source": [
    "## A shifted posterior mean\n",
    "\n",
    "In this scenario we emulate the situation that our posterior estimates incorrectly with a constant shift. We reuse our trained NPE posterior from above and wrap it so that all samples returned expose a constant shift by `+0.1`."
   ]
  },
  {
   "cell_type": "code",
   "execution_count": 41,
   "metadata": {
    "tags": []
   },
   "outputs": [],
   "source": [
    "from utils_13_diagnosis_sbc import BiasedPosterior\n",
    "\n",
    "# this posterior shifts the expected value of the prior by .1\n",
    "posterior_ = BiasedPosterior(posterior, shift=0.1)"
   ]
  },
  {
   "cell_type": "code",
   "execution_count": 42,
   "metadata": {
    "tags": []
   },
   "outputs": [
    {
     "data": {
      "application/vnd.jupyter.widget-view+json": {
       "model_id": "9e6c56f5da484f22bdedc0cbe6d6139a",
       "version_major": 2,
       "version_minor": 0
      },
      "text/plain": [
       "Running 1000 sbc samples.:   0%|          | 0/1000 [00:00<?, ?it/s]"
      ]
     },
     "metadata": {},
     "output_type": "display_data"
    },
    {
     "name": "stdout",
     "output_type": "stream",
     "text": [
      "{'ks_pvals': tensor([0., 0.]), 'c2st_ranks': tensor([0.6440, 0.6840]), 'c2st_dap': tensor([0.5085, 0.4710])}\n"
     ]
    }
   ],
   "source": [
    "ranks, dap_samples = run_sbc(thetas, xs, posterior_)\n",
    "check_stats = check_sbc(ranks, thetas, dap_samples, 1_000)\n",
    "print(check_stats)"
   ]
  },
  {
   "cell_type": "markdown",
   "metadata": {},
   "source": [
    "We can see that the Kolmogorv-Smirnov p-values vanish (`'ks_pvals': tensor([0., 0.])`). Thus, we can reject the hypothesis that the `ranks` PDF is the uniform PDF. The `c2st` accuracies show values higher than `0.5`. This is indicative that the `ranks` distribution is not a uniform PDF as well."
   ]
  },
  {
   "cell_type": "code",
   "execution_count": 43,
   "metadata": {
    "tags": []
   },
   "outputs": [
    {
     "data": {
      "image/png": "[encoded data removed]",
      "text/plain": [
       "<Figure size 800x500 with 2 Axes>"
      ]
     },
     "metadata": {},
     "output_type": "display_data"
    }
   ],
   "source": [
    "f, ax = sbc_rank_plot(ranks, 1_000, plot_type=\"hist\", num_bins=30)"
   ]
  },
  {
   "cell_type": "markdown",
   "metadata": {},
   "source": [
    "Inspecting the histograms for both dimenions, the rank distribution is clearly tilted to low rank values for both dimensions. Because we have shifted the expected value of the posterior to higher values (by `0.1`), we see more entries at low rank values."
   ]
  },
  {
   "cell_type": "markdown",
   "metadata": {},
   "source": [
    "Let's try to shift all posterior samples in the opposite direction. We shift the expectation value by `-0.1`:"
   ]
  },
  {
   "cell_type": "code",
   "execution_count": 44,
   "metadata": {
    "tags": []
   },
   "outputs": [],
   "source": [
    "posterior_ = BiasedPosterior(posterior, shift=-0.1)"
   ]
  },
  {
   "cell_type": "code",
   "execution_count": 45,
   "metadata": {
    "tags": []
   },
   "outputs": [
    {
     "data": {
      "application/vnd.jupyter.widget-view+json": {
       "model_id": "0cbcb2637e0643aa880ddc7e6dc94718",
       "version_major": 2,
       "version_minor": 0
      },
      "text/plain": [
       "Running 1000 sbc samples.:   0%|          | 0/1000 [00:00<?, ?it/s]"
      ]
     },
     "metadata": {},
     "output_type": "display_data"
    },
    {
     "name": "stdout",
     "output_type": "stream",
     "text": [
      "{'ks_pvals': tensor([0., 0.]), 'c2st_ranks': tensor([0.6775, 0.6830]), 'c2st_dap': tensor([0.5205, 0.4890])}\n"
     ]
    },
    {
     "data": {
      "image/png": "[encoded data removed]",
      "text/plain": [
       "<Figure size 800x500 with 2 Axes>"
      ]
     },
     "metadata": {},
     "output_type": "display_data"
    }
   ],
   "source": [
    "ranks, dap_samples = run_sbc(thetas, xs, posterior_)\n",
    "check_stats = check_sbc(ranks, thetas, dap_samples, 1_000)\n",
    "print(check_stats)\n",
    "f, ax = sbc_rank_plot(ranks, 1_000, plot_type=\"hist\", num_bins=30)"
   ]
  },
  {
   "cell_type": "markdown",
   "metadata": {},
   "source": [
    "A similar behavior is observed, but this time we see an upshot of ranks to higher values. Because we have shifted the expected value of the posterior to smaller values, we see an upshot in high rank counts.\n",
    "\n",
    "It is interesting to see that the historgams obtained provide very convincing evidence that this is not a uniform distribution. \n",
    "\n",
    "To conlude at this point, **the rank distribution is capable of identifying pathologies of the estimated posterior**:\n",
    "\n",
    "+ a **left-skewed rank distribution** shows a systematic **underestimation of the posterior mean**  \n",
    "(we shifted the posterior by `0.1`)\n",
    "+ a **rank-skewed rank distribution** shows a systematic **overestimation of the posterior mean**  \n",
    "(we shifted the posterior by `-0.1`)"
   ]
  },
  {
   "cell_type": "markdown",
   "metadata": {},
   "source": [
    "## A dispersed posterior\n",
    "\n",
    "In this scenario we emulate the situation if our posterior estimates incorrectly with a dispersion, i.e. the posterior is too wide or too thin. We reuse our trained NPE posterior from above and wrap it so that all samples return a dispersion by 100% more wide (`2`), i.e. the variance is overestimated by a factor of 2."
   ]
  },
  {
   "cell_type": "code",
   "execution_count": 46,
   "metadata": {
    "tags": []
   },
   "outputs": [],
   "source": [
    "from utils_13_diagnosis_sbc import DispersedPosterior\n",
    "\n",
    "# this posterior which disperses the expected posterior value of the prior by 2.\n",
    "posterior_ = DispersedPosterior(posterior, dispersion=2.0)"
   ]
  },
  {
   "cell_type": "code",
   "execution_count": 47,
   "metadata": {
    "tags": []
   },
   "outputs": [
    {
     "data": {
      "application/vnd.jupyter.widget-view+json": {
       "model_id": "570c6e0e384446fa930adb0b168b7afb",
       "version_major": 2,
       "version_minor": 0
      },
      "text/plain": [
       "Running 1000 sbc samples.:   0%|          | 0/1000 [00:00<?, ?it/s]"
      ]
     },
     "metadata": {},
     "output_type": "display_data"
    },
    {
     "name": "stdout",
     "output_type": "stream",
     "text": [
      "{'ks_pvals': tensor([3.8500e-08, 1.7929e-08]), 'c2st_ranks': tensor([0.6005, 0.5950]), 'c2st_dap': tensor([0.4900, 0.4600])}\n"
     ]
    },
    {
     "data": {
      "image/png": "[encoded data removed]",
      "text/plain": [
       "<Figure size 800x500 with 2 Axes>"
      ]
     },
     "metadata": {},
     "output_type": "display_data"
    }
   ],
   "source": [
    "ranks, dap_samples = run_sbc(thetas, xs, posterior_)\n",
    "check_stats = check_sbc(ranks, thetas, dap_samples, 1_000)\n",
    "print(check_stats)\n",
    "f, ax = sbc_rank_plot(ranks, 1_000, plot_type=\"hist\", num_bins=30)"
   ]
  },
  {
   "cell_type": "markdown",
   "metadata": {},
   "source": [
    "The rank histograms now look more like a very wide gaussian distribution centered in the middle. The KS p-values again vanish unsurprisingly (we must reject the hypothesis that both distributions are from the same uniform PDF) and the c2st_ranks indicate that the rank histogram is not uniform too. As our posterior samples are distributed too broad now, we obtain more \"medium\" range ranks and hence produce the peak of ranks in the center of the histogram."
   ]
  },
  {
   "cell_type": "markdown",
   "metadata": {},
   "source": [
    "We can repeat this exercise by making our posterior too thin, i.e. the variance of the posterior is too small. Let's cut it by half."
   ]
  },
  {
   "cell_type": "code",
   "execution_count": 48,
   "metadata": {
    "tags": []
   },
   "outputs": [],
   "source": [
    "posterior_ = DispersedPosterior(posterior, dispersion=0.5)"
   ]
  },
  {
   "cell_type": "code",
   "execution_count": 49,
   "metadata": {
    "tags": []
   },
   "outputs": [
    {
     "data": {
      "application/vnd.jupyter.widget-view+json": {
       "model_id": "112b9bc7c9c840a6b998907146d7d488",
       "version_major": 2,
       "version_minor": 0
      },
      "text/plain": [
       "Running 1000 sbc samples.:   0%|          | 0/1000 [00:00<?, ?it/s]"
      ]
     },
     "metadata": {},
     "output_type": "display_data"
    },
    {
     "name": "stdout",
     "output_type": "stream",
     "text": [
      "{'ks_pvals': tensor([2.2118e-11, 1.3279e-05]), 'c2st_ranks': tensor([0.6300, 0.5880]), 'c2st_dap': tensor([0.4850, 0.5025])}\n"
     ]
    },
    {
     "data": {
      "image/png": "[encoded data removed]",
      "text/plain": [
       "<Figure size 800x500 with 2 Axes>"
      ]
     },
     "metadata": {},
     "output_type": "display_data"
    }
   ],
   "source": [
    "ranks, dap_samples = run_sbc(thetas, xs, posterior_)\n",
    "check_stats = check_sbc(ranks, thetas, dap_samples, 1_000)\n",
    "print(check_stats)\n",
    "f, ax = sbc_rank_plot(ranks, 1_000, plot_type=\"hist\", num_bins=30)"
   ]
  },
  {
   "cell_type": "markdown",
   "metadata": {},
   "source": [
    "The histogram of ranks now shoots above the allowed (greyed) area for a uniform distributed around the extrema. We made the posterior samples too thin, so we received more extreme counts of ranks. The KS p-values vanish again and the `c2st` metric of the ranks is also larger than `.5` which underlines that our rank distribution is not uniformly distributed."
   ]
  },
  {
   "cell_type": "markdown",
   "metadata": {},
   "source": [
    "We again see, **the rank distribution is capable of identifying pathologies of the estimated posterior**:\n",
    "\n",
    "+ a **centrally peaked rank distribution** shows a systematic **over-estimation of the posterior variance**  \n",
    "(we dispersed the variance of the posterior by a factor of `2`)\n",
    "+ a **U shaped rank distribution** shows a systematic **under-estimation of the posterior variance**  \n",
    "(we dispersed the variance of the posterior by a factor of `.5`)\n"
   ]
  },
  {
   "cell_type": "markdown",
   "metadata": {},
   "source": [
    "Simulation-based calibration offers a direct handle on which pathology an estimated posterior examines. Outside of this tutorial, you may very well encounter situations with mixtures of effects (a shifted mean and over-estimated variance). Moreover, uncovering a malignant posterior is only the first step to fix your analysis. "
   ]
  },
  {
   "cell_type": "code",
   "execution_count": null,
   "metadata": {},
   "outputs": [],
   "source": []
  }
 ],
 "metadata": {
  "interpreter": {
   "hash": "2193897e41726b46f35b9de052100742a934a9183b8a000ae8eb69e12e860d83"
  },
  "kernelspec": {
   "display_name": "Python 3 (ipykernel)",
   "language": "python",
   "name": "python3"
  },
  "language_info": {
   "codemirror_mode": {
    "name": "ipython",
    "version": 3
   },
   "file_extension": ".py",
   "mimetype": "text/x-python",
   "name": "python",
   "nbconvert_exporter": "python",
   "pygments_lexer": "ipython3",
   "version": "3.10.11"
  },
  "name": "13_diagnosis_sbc.ipynb"
 },
 "nbformat": 4,
 "nbformat_minor": 4
}
