{
 "cells": [
  {
   "cell_type": "code",
   "execution_count": 1,
   "metadata": {},
   "outputs": [],
   "source": [
    "import torch\n",
    "\n",
    "from sbi import analysis as analysis\n",
    "from sbi import utils as utils\n",
    "from sbi.inference.base import infer\n",
    "import matplotlib.pyplot as plt\n",
    "from typing import Any, Dict, List, Optional, Tuple, Union\n",
    "import numpy as np\n",
    "from matplotlib import pyplot as plt\n",
    "from matplotlib.axes import Axes\n",
    "from matplotlib.figure import Figure\n",
    "from scipy.stats import binom, gaussian_kde\n",
    "#from sbi.analysis.plot import _update, prepare_for_plot,_arrange_plots, probs2contours, get_diag_func, ensure_numpy,_format_axis\n",
    "import matplotlib as mpl\n",
    "from logging import warn\n",
    "from sbi.analysis import pairplot, marginal_plot"
   ]
  },
  {
   "cell_type": "code",
   "execution_count": 2,
   "metadata": {},
   "outputs": [],
   "source": [
    "from toy_posterior_for_07_cc import ExamplePosterior\n",
    "\n",
    "posterior = ExamplePosterior()"
   ]
  },
  {
   "cell_type": "code",
   "execution_count": 3,
   "metadata": {},
   "outputs": [],
   "source": [
    "x_o = torch.ones(1, 20)  # simulator output was 20-dimensional\n",
    "posterior.set_default_x(x_o)"
   ]
  },
  {
   "cell_type": "code",
   "execution_count": 4,
   "metadata": {},
   "outputs": [
    {
     "data": {
      "text/plain": [
       "torch.Size([232, 3])"
      ]
     },
     "execution_count": 4,
     "metadata": {},
     "output_type": "execute_result"
    }
   ],
   "source": [
    "posterior_samples = posterior.sample((200,))\n",
    "\n",
    "posterior_samples.shape"
   ]
  },
  {
   "cell_type": "code",
   "execution_count": 5,
   "metadata": {},
   "outputs": [
    {
     "data": {
      "text/plain": [
       "{'a': 2}"
      ]
     },
     "execution_count": 5,
     "metadata": {},
     "output_type": "execute_result"
    }
   ],
   "source": [
    "{'a':2}"
   ]
  },
  {
   "cell_type": "code",
   "execution_count": 6,
   "metadata": {},
   "outputs": [
    {
     "name": "stdout",
     "output_type": "stream",
     "text": [
      "2\n",
      "torch.Size([110, 3])\n",
      "(110,)\n",
      "(102,)\n",
      "(110,)\n",
      "(102,)\n",
      "(110,)\n",
      "(102,)\n"
     ]
    },
    {
     "data": {
      "text/plain": [
       "(<Figure size 200x100 with 3 Axes>,\n",
       " array([[<Axes: xlabel='dim 1'>, <Axes: xlabel='dim 2'>,\n",
       "         <Axes: xlabel='dim 3'>]], dtype=object))"
      ]
     },
     "execution_count": 6,
     "metadata": {},
     "output_type": "execute_result"
    },
    {
     "data": {
      "image/png": "[encoded data removed]",
      "text/plain": [
       "<Figure size 200x100 with 3 Axes>"
      ]
     },
     "metadata": {},
     "output_type": "display_data"
    }
   ],
   "source": [
    "posterior_samples = posterior.sample((100,))\n",
    "posterior_samples2 = posterior.sample((100,))\n",
    "\n",
    "marginal_plot(diag ='hist', samples=[posterior_samples,posterior_samples2],\n",
    "            diag_kwargs={'mpl_kwargs':{\"bins\":10,\n",
    "                                        \"alpha\":1,\n",
    "                                        \"color\":'tab:blue'}\n",
    "            },\n",
    "             figsize=(2,1))"
   ]
  },
  {
   "cell_type": "code",
   "execution_count": 7,
   "metadata": {},
   "outputs": [
    {
     "name": "stdout",
     "output_type": "stream",
     "text": [
      "2\n",
      "torch.Size([110, 3])\n"
     ]
    },
    {
     "data": {
      "text/plain": [
       "(<Figure size 200x100 with 3 Axes>,\n",
       " array([[<Axes: xlabel='dim 1'>, <Axes: xlabel='dim 2'>,\n",
       "         <Axes: xlabel='dim 3'>]], dtype=object))"
      ]
     },
     "execution_count": 7,
     "metadata": {},
     "output_type": "execute_result"
    },
    {
     "data": {
      "image/png": "[encoded data removed]",
      "text/plain": [
       "<Figure size 200x100 with 3 Axes>"
      ]
     },
     "metadata": {},
     "output_type": "display_data"
    }
   ],
   "source": [
    "marginal_plot(diag ='kde', samples=[posterior_samples,posterior_samples2],\n",
    "            diag_kwargs={'bins': 20,\n",
    "                         'bw_method':'scott',\n",
    "                          'mpl_kwargs':{\n",
    "                                        \"alpha\":1,\n",
    "                                        \"color\":'tab:blue'}\n",
    "            },\n",
    "             figsize=(2,1))"
   ]
  },
  {
   "cell_type": "code",
   "execution_count": 8,
   "metadata": {},
   "outputs": [
    {
     "name": "stdout",
     "output_type": "stream",
     "text": [
      "2\n",
      "torch.Size([110, 3])\n"
     ]
    },
    {
     "data": {
      "text/plain": [
       "(<Figure size 200x100 with 3 Axes>,\n",
       " array([[<Axes: xlabel='dim 1'>, <Axes: xlabel='dim 2'>,\n",
       "         <Axes: xlabel='dim 3'>]], dtype=object))"
      ]
     },
     "execution_count": 8,
     "metadata": {},
     "output_type": "execute_result"
    },
    {
     "data": {
      "image/png": "[encoded data removed]",
      "text/plain": [
       "<Figure size 200x100 with 3 Axes>"
      ]
     },
     "metadata": {},
     "output_type": "display_data"
    }
   ],
   "source": [
    "marginal_plot(diag ='scatter', samples=[posterior_samples,posterior_samples2],\n",
    "            diag_kwargs={\n",
    "                          'mpl_kwargs':{\"lw\":0.01,\n",
    "                                        \"alpha\":1,\n",
    "                                        \"color\":'tab:blue'}\n",
    "            },\n",
    "             figsize=(2,1))"
   ]
  }
 ],
 "metadata": {
  "kernelspec": {
   "display_name": "Python 3",
   "language": "python",
   "name": "python3"
  },
  "language_info": {
   "codemirror_mode": {
    "name": "ipython",
    "version": 3
   },
   "file_extension": ".py",
   "mimetype": "text/x-python",
   "name": "python",
   "nbconvert_exporter": "python",
   "pygments_lexer": "ipython3",
   "version": "3.9.18"
  }
 },
 "nbformat": 4,
 "nbformat_minor": 4
}
