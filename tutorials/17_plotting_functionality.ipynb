{
 "cells": [
  {
   "cell_type": "code",
   "execution_count": 1,
   "metadata": {},
   "outputs": [],
   "source": [
    "import torch\n",
    "\n",
    "from sbi import analysis as analysis\n",
    "from sbi import utils as utils\n",
    "from sbi.inference.base import infer\n",
    "import matplotlib.pyplot as plt\n",
    "from typing import Any, Dict, List, Optional, Tuple, Union\n",
    "import numpy as np\n",
    "from matplotlib import pyplot as plt\n",
    "from matplotlib.axes import Axes\n",
    "from matplotlib.figure import Figure\n",
    "from scipy.stats import binom, gaussian_kde\n",
    "#from sbi.analysis.plot import _update, prepare_for_plot,_arrange_plots, probs2contours, get_diag_func, ensure_numpy,_format_axis\n",
    "import matplotlib as mpl\n",
    "from logging import warn\n",
    "from sbi.analysis import pairplot, marginal_plot"
   ]
  },
  {
   "cell_type": "code",
   "execution_count": 2,
   "metadata": {},
   "outputs": [],
   "source": [
    "from toy_posterior_for_07_cc import ExamplePosterior\n",
    "\n",
    "posterior = ExamplePosterior()"
   ]
  },
  {
   "cell_type": "code",
   "execution_count": 3,
   "metadata": {},
   "outputs": [],
   "source": [
    "x_o = torch.ones(1, 20)  # simulator output was 20-dimensional\n",
    "posterior.set_default_x(x_o)"
   ]
  },
  {
   "cell_type": "code",
   "execution_count": 4,
   "metadata": {},
   "outputs": [
    {
     "data": {
      "text/plain": [
       "torch.Size([203, 3])"
      ]
     },
     "execution_count": 4,
     "metadata": {},
     "output_type": "execute_result"
    }
   ],
   "source": [
    "posterior_samples = posterior.sample((200,))\n",
    "\n",
    "posterior_samples.shape"
   ]
  },
  {
   "cell_type": "code",
   "execution_count": 9,
   "metadata": {},
   "outputs": [],
   "source": [
    "def _get_default_fig_kwargs():\n",
    "    return {\n",
    "        \"legend\":None,\n",
    "        \"legend_kwargs\": {},\n",
    "        # labels\n",
    "        \"points_labels\": [f\"points_{idx}\" for idx in range(10)],  # for points\n",
    "        \"samples_labels\": [f\"samples_{idx}\" for idx in range(10)],  # for samples\n",
    "        # colors: take even colors for samples, odd colors for points\n",
    "        \"samples_colors\": plt.rcParams[\"axes.prop_cycle\"].by_key()[\"color\"][0::2],\n",
    "        \"points_colors\": plt.rcParams[\"axes.prop_cycle\"].by_key()[\"color\"][1::2],\n",
    "        # ticks\n",
    "        \"tickformatter\": mpl.ticker.FormatStrFormatter(\"%g\"),  # type: ignore\n",
    "        \"tick_labels\": None,\n",
    "         # formatting points (scale, markers)\n",
    "        \"points_diag\": {},\n",
    "        \"points_offdiag\": {\n",
    "            \"marker\": \".\",\n",
    "            \"markersize\": 10,\n",
    "        },\n",
    "        # other options\n",
    "        \"fig_bg_colors\": {\"offdiag\": None, \"diag\": None, \"lower\": None},\n",
    "        \"fig_subplots_adjust\": {\n",
    "            \"top\": 0.9,\n",
    "        },\n",
    "        \"subplots\": {},\n",
    "        \"despine\": {\n",
    "            \"offset\": 0,\n",
    "        },\n",
    "        \"title\":None,\n",
    "        \"title_format\": {\"fontsize\": 16},\n",
    "}\n"
   ]
  },
  {
   "cell_type": "code",
   "execution_count": 10,
   "metadata": {},
   "outputs": [
    {
     "name": "stdout",
     "output_type": "stream",
     "text": [
      "DEPRECATION WARNING: TODO describe\n",
      "(101,)\n",
      "(107,)\n",
      "(101,)\n",
      "(107,)\n",
      "(101,)\n",
      "(107,)\n"
     ]
    },
    {
     "data": {
      "image/png": "[encoded data removed]",
      "text/plain": [
       "<Figure size 200x100 with 3 Axes>"
      ]
     },
     "metadata": {},
     "output_type": "display_data"
    }
   ],
   "source": [
    "posterior_samples = posterior.sample((100,))\n",
    "posterior_samples2 = posterior.sample((100,))\n",
    "fig_kwargs = _get_default_fig_kwargs()\n",
    "fig, ax = marginal_plot(diag ='hist', samples=[posterior_samples,posterior_samples2],\n",
    "            diag_kwargs={'mpl_kwargs':{\"bins\":10,\n",
    "                                        \"alpha\":1,\n",
    "                                        \"color\":'tab:blue'},\n",
    "                        },\n",
    "\n",
    "            fig_kwargs = fig_kwargs,\n",
    "             figsize=(2,1))"
   ]
  },
  {
   "cell_type": "code",
   "execution_count": null,
   "metadata": {},
   "outputs": [],
   "source": [
    "marginal_plot(diag ='kde', samples=[posterior_samples,posterior_samples2],\n",
    "            diag_kwargs={'bins': 20,\n",
    "                         'bw_method':'scott',\n",
    "                          'mpl_kwargs':{\n",
    "                                        \"alpha\":1,\n",
    "                                        \"color\":'tab:blue'},\n",
    "\n",
    "            },            fig = fig,\n",
    "            ax = ax,\n",
    "             figsize=(2,1))"
   ]
  },
  {
   "cell_type": "code",
   "execution_count": null,
   "metadata": {},
   "outputs": [],
   "source": [
    "marginal_plot(diag ='scatter', samples=[posterior_samples,posterior_samples2],\n",
    "            diag_kwargs={\n",
    "                          'mpl_kwargs':{\"lw\":0.01,\n",
    "                                        \"alpha\":1,\n",
    "                                        \"color\":'tab:blue'}\n",
    "            },\n",
    "             figsize=(2,1))"
   ]
  }
 ],
 "metadata": {
  "kernelspec": {
   "display_name": "Python 3",
   "language": "python",
   "name": "python3"
  },
  "language_info": {
   "codemirror_mode": {
    "name": "ipython",
    "version": 3
   },
   "file_extension": ".py",
   "mimetype": "text/x-python",
   "name": "python",
   "nbconvert_exporter": "python",
   "pygments_lexer": "ipython3",
   "version": "3.9.18"
  }
 },
 "nbformat": 4,
 "nbformat_minor": 4
}
