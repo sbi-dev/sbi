{
 "cells": [
  {
   "cell_type": "markdown",
   "metadata": {},
   "source": [
    "# Providing presimulated data\n",
    "\n",
    "In this tutorial, we will demonstrate how one can obtain the posterior with `sbi` using data that was generated beforehand (for example on a compute cluster)."
   ]
  },
  {
   "cell_type": "markdown",
   "metadata": {},
   "source": [
    "Note, you can find the original version of this notebook at [https://github.com/mackelab/sbi/blob/main/tutorial/06_presimulated.ipynb](https://github.com/mackelab/sbi/blob/main/tutorial/06_presimulated.ipynb) in the `sbi` repository."
   ]
  },
  {
   "cell_type": "markdown",
   "metadata": {},
   "source": [
    "## Main syntax\n",
    "After having instantiated the inference object (`SNPE`, `SNRE`, or `SNLE`), but before running the inference, we can provide the externally generated data. \n",
    "\n",
    "See below for details on the `from_round` argument."
   ]
  },
  {
   "cell_type": "code",
   "execution_count": null,
   "metadata": {},
   "outputs": [],
   "source": [
    "inference = SNPE(simulator, prior)\n",
    "inference.provide_presimulated(theta, x, from_round=0)\n",
    "# num_simulations will be the number of simulations on top of the presimulated data.\n",
    "posterior = inference(num_simulations=0)"
   ]
  },
  {
   "cell_type": "markdown",
   "metadata": {},
   "source": [
    "## Linear Gaussian example\n",
    "We now give a full example for how to use presimulated data. We will do this on the previously introduced example of a Uniform prior and Gaussian simulator (see [here](https://www.mackelab.org/sbi/tutorial/00_getting_started/)).\n",
    "\n",
    "First, we will import the relevant libraries, define the prior and simulator, and make them comply with `sbi`:"
   ]
  },
  {
   "cell_type": "code",
   "execution_count": 1,
   "metadata": {},
   "outputs": [],
   "source": [
    "import torch\n",
    "from sbi.inference import SNPE, prepare_for_sbi\n",
    "import sbi.utils as utils"
   ]
  },
  {
   "cell_type": "code",
   "execution_count": 2,
   "metadata": {},
   "outputs": [],
   "source": [
    "num_dim = 3\n",
    "prior = utils.BoxUniform(low=-2*torch.ones(num_dim), \n",
    "                         high=2*torch.ones(num_dim))"
   ]
  },
  {
   "cell_type": "code",
   "execution_count": 3,
   "metadata": {},
   "outputs": [],
   "source": [
    "def linear_gaussian(theta):\n",
    "    return theta + 1.0 + torch.randn_like(theta) * 0.1"
   ]
  },
  {
   "cell_type": "code",
   "execution_count": 4,
   "metadata": {},
   "outputs": [],
   "source": [
    "simulator, prior = prepare_for_sbi(linear_gaussian, prior)"
   ]
  },
  {
   "cell_type": "markdown",
   "metadata": {},
   "source": [
    "Let's now generate simulated data (this step could happen e.g. on a cluster). It does not matter how `x_presimulated` is created from `theta_presimulated`, but `x_presimulated` should be a `torch.tensor` of shape `(number_presimulated, num_dim_x)`:"
   ]
  },
  {
   "cell_type": "code",
   "execution_count": 5,
   "metadata": {},
   "outputs": [
    {
     "name": "stdout",
     "output_type": "stream",
     "text": [
      "Shape of x_presimulated    :  torch.Size([1000, 3])\n"
     ]
    }
   ],
   "source": [
    "number_presimulated = 1000\n",
    "theta_presimulated = prior.sample((number_presimulated,))\n",
    "x_presimulated = simulator(theta_presimulated)\n",
    "\n",
    "print('Shape of x_presimulated    : ', x_presimulated.shape)"
   ]
  },
  {
   "cell_type": "markdown",
   "metadata": {},
   "source": [
    "Next, we create the inference object and pass to it the presimulated parameters and presimulated simulation outputs:"
   ]
  },
  {
   "cell_type": "code",
   "execution_count": 6,
   "metadata": {},
   "outputs": [],
   "source": [
    "inference = SNPE(simulator, prior)\n",
    "inference.provide_presimulated(theta_presimulated, x_presimulated, from_round=0)"
   ]
  },
  {
   "cell_type": "markdown",
   "metadata": {},
   "source": [
    "The last argument, `from_round`, indicates what round the presimulated data was drawn from. `from_round=0` means that the parameters were drawn from the prior (see above: `prior.sample((number_presimulated,))`). Later in this tutorial, we will show how one can adjust it if the data did not come from the prior."
   ]
  },
  {
   "cell_type": "markdown",
   "metadata": {},
   "source": [
    "We can then run inference. The `num_simulations` argument indicates that number of simulations on top of the presimulated data. In our example, we want to use only presimulated data and not run any new simulations."
   ]
  },
  {
   "cell_type": "code",
   "execution_count": 7,
   "metadata": {},
   "outputs": [
    {
     "name": "stdout",
     "output_type": "stream",
     "text": [
      "Neural network successfully converged after 133 epochs.\n"
     ]
    }
   ],
   "source": [
    "posterior = inference(num_simulations=0)"
   ]
  },
  {
   "cell_type": "code",
   "execution_count": 8,
   "metadata": {},
   "outputs": [
    {
     "data": {
      "application/vnd.jupyter.widget-view+json": {
       "model_id": "90eeac78be0349d780dcb5685c6e41bb",
       "version_major": 2,
       "version_minor": 0
      },
      "text/plain": [
       "HBox(children=(FloatProgress(value=0.0, description='Drawing 10000 posterior samples', max=10000.0, style=Prog…"
      ]
     },
     "metadata": {},
     "output_type": "display_data"
    },
    {
     "name": "stdout",
     "output_type": "stream",
     "text": [
      "\n"
     ]
    },
    {
     "data": {
      "image/png": "[encoded data removed]",
      "text/plain": [
       "<Figure size 360x360 with 9 Axes>"
      ]
     },
     "metadata": {
      "needs_background": "light"
     },
     "output_type": "display_data"
    }
   ],
   "source": [
    "x_o = torch.zeros(1, num_dim)\n",
    "posterior_samples = posterior.sample((10000,), x=x_o)\n",
    "\n",
    "# plot posterior samples\n",
    "_ = utils.pairplot(posterior_samples, limits=[[-2,2],[-2,2],[-2,2]], \n",
    "                   fig_size=(5,5))"
   ]
  },
  {
   "cell_type": "markdown",
   "metadata": {},
   "source": [
    "It is also possible to run multi-round inference with presimulated data. In multi-round inference, we simulate new data from the previous estimate of the posterior:"
   ]
  },
  {
   "cell_type": "code",
   "execution_count": 9,
   "metadata": {},
   "outputs": [
    {
     "data": {
      "application/vnd.jupyter.widget-view+json": {
       "model_id": "5aa5f871761e4fd99c8bcb808e1c1196",
       "version_major": 2,
       "version_minor": 0
      },
      "text/plain": [
       "HBox(children=(FloatProgress(value=0.0, description='Drawing 1000 posterior samples', max=1000.0, style=Progre…"
      ]
     },
     "metadata": {},
     "output_type": "display_data"
    },
    {
     "name": "stdout",
     "output_type": "stream",
     "text": [
      "\n"
     ]
    }
   ],
   "source": [
    "proposal = posterior.set_default_x(x_o)\n",
    "theta_presimulated_next_round = proposal.sample((1000,))\n",
    "x_presimulated_next_round = simulator(theta_presimulated_next_round)"
   ]
  },
  {
   "cell_type": "markdown",
   "metadata": {},
   "source": [
    "We again pass this data to the inference object, this time indicating `from_round=1` (we started counting from `0`, so `1` indicates the second round):"
   ]
  },
  {
   "cell_type": "code",
   "execution_count": 12,
   "metadata": {},
   "outputs": [],
   "source": [
    "inference.provide_presimulated(theta_presimulated_next_round, x_presimulated_next_round, from_round=1)"
   ]
  },
  {
   "cell_type": "markdown",
   "metadata": {},
   "source": [
    "...and we can run inference. As shown in [a previous tutorial](http://127.0.0.1:8000/tutorial/02_flexible_interface/), we have to pass the proposal distribution (the one we drew the new parameters `theta_presimulated_next_round` from) to the inference object:"
   ]
  },
  {
   "cell_type": "code",
   "execution_count": 13,
   "metadata": {},
   "outputs": [
    {
     "name": "stdout",
     "output_type": "stream",
     "text": [
      "Using SNPE-C with atomic loss\n",
      "Neural network successfully converged after 51 epochs.\n"
     ]
    }
   ],
   "source": [
    "posterior_next_round = inference(num_simulations=0, proposal=proposal)"
   ]
  },
  {
   "cell_type": "code",
   "execution_count": 14,
   "metadata": {},
   "outputs": [
    {
     "data": {
      "application/vnd.jupyter.widget-view+json": {
       "model_id": "b50ab41225604627a8f61ce08f6bff14",
       "version_major": 2,
       "version_minor": 0
      },
      "text/plain": [
       "HBox(children=(FloatProgress(value=0.0, description='Drawing 10000 posterior samples', max=10000.0, style=Prog…"
      ]
     },
     "metadata": {},
     "output_type": "display_data"
    },
    {
     "name": "stdout",
     "output_type": "stream",
     "text": [
      "\n"
     ]
    },
    {
     "data": {
      "image/png": "[encoded data removed]",
      "text/plain": [
       "<Figure size 360x360 with 9 Axes>"
      ]
     },
     "metadata": {
      "needs_background": "light"
     },
     "output_type": "display_data"
    }
   ],
   "source": [
    "posterior_new_samples = posterior_next_round.sample((10000,), x=x_o)\n",
    "\n",
    "# plot posterior samples\n",
    "_ = utils.pairplot(posterior_new_samples, limits=[[-2,2],[-2,2],[-2,2]], \n",
    "                   fig_size=(5,5))"
   ]
  }
 ],
 "metadata": {
  "kernelspec": {
   "display_name": "Python 3",
   "language": "python",
   "name": "python3"
  },
  "language_info": {
   "codemirror_mode": {
    "name": "ipython",
    "version": 3
   },
   "file_extension": ".py",
   "mimetype": "text/x-python",
   "name": "python",
   "nbconvert_exporter": "python",
   "pygments_lexer": "ipython3",
   "version": "3.7.6"
  }
 },
 "nbformat": 4,
 "nbformat_minor": 4
}
