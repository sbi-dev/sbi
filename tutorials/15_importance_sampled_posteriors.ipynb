{
 "cells": [
  {
   "cell_type": "markdown",
   "id": "cf9f505b-f478-4da4-9ccd-5208aa806825",
   "metadata": {},
   "source": [
    "# Refining posterior estimates with importance sampling"
   ]
  },
  {
   "cell_type": "markdown",
   "id": "cb0b9d26-e5f7-4866-ae1b-fad6485d54b1",
   "metadata": {},
   "source": [
    "# Theory\n",
    "\n",
    "SBI estimates the posterior $p(\\theta|x) = {p(\\theta)p(x|\\theta)}/{p(x)}$ based on samples from the prior $\\theta\\sim p(\\theta)$ and the likelihood $x\\sim p(x|\\theta)$. Sometimes, we can do both, *sample* and *evaluate* the prior and likelihood. In this case, we can combine the *simulation-based* estimate $q(\\theta|x)$ with *likelihood-based* importance sampling, and thereby generate an asymptotically exact estimate for $p(\\theta|x)$.\n",
    "\n",
    "### Importance weights\n",
    "\n",
    "The main idea is to interpret $q(\\theta|x)$ as a proposal distribution and generate proposal samples $\\theta_i\\sim q(\\theta|x)$, and then augment each sample with an importance weight $w_i = p(\\theta_i|x) / q(\\theta_i|x)$. The definition of the importance weights is motivated from Monte Carlo estimates for the random variable $f(\\theta)$, \n",
    "\n",
    "$$ \n",
    "\\mathbb{E}_{\\theta\\sim p(\\theta|x)}\\left[f(\\theta)\\right] \n",
    "=\\int p(\\theta|x) f(\\theta)\\,\\text{d}\\theta\n",
    "\\approx \\sum_{\\theta_i\\sim p(\\theta_i|x)} f(\\theta_i).\n",
    "$$\n",
    "\n",
    "We can rewrite this expression as \n",
    "\n",
    "$$ \n",
    "\\mathbb{E}_{\\theta\\sim p(\\theta|x)}\\left[f(\\theta)\\right] \n",
    "=\\int p(\\theta|x) f(\\theta)\\,\\text{d}\\theta\n",
    "=\\int q(\\theta|x) \\frac{p(\\theta|x)}{q(\\theta|x)}f(\\theta)\\,\\text{d}\\theta\n",
    "\\approx \\sum_{\\theta_i\\sim q(\\theta_i|x)} \\frac{p(\\theta_i|x)}{q(\\theta_i|x)}f(\\theta_i)\n",
    "\\approx \\sum_{\\theta_i\\sim q(\\theta_i|x)} w_i\\cdot f(\\theta_i).\n",
    "$$\n",
    "\n",
    "Instead of sampling $\\theta_i\\sim p(\\theta_i|x)$, we can thus sample $\\theta_i\\sim q(\\theta_i|x)$ and attach a corresponding importance weight $w_i$ to each sample. Intuitively, the importance weights downweight samples where $q(\\theta|x)$ overestimates $p(\\theta|x)$ and upweight samples where $p(\\theta|x)$ underestimates $q(\\theta|x)$.\n",
    "\n",
    "### Effective sample size $n_\\text{eff}$ and sample efficiency $\\epsilon$\n",
    "\n",
    "If inference were perfect, we would have $w_i = p(\\theta_i|x) / q(\\theta_i|x) = 1~\\forall i$. In practice however, SBI does not provide exact inference results $q(\\theta_i|x)$, and the weights will have a finite variance $\\text{Var}(w) > 0$. Performing the Monte Carlo estimate above with $n$ samples from $q(\\theta|x)$ thus results in reduced precision compared to doing the same with $n$ samples from $p(\\theta|x)$. This is formalized by the notion of the *effective sample size* (see e.g. [here](http://www2.stat.duke.edu/~scs/Courses/Stat376/Papers/ConvergeRates/LiuMetropolized1996.pdf))\n",
    "\n",
    "$$\n",
    "n_\\text{eff} = \\frac{n}{1 + \\text{Var}(w)} = \\frac{\\left(\\sum_i w_i\\right)^2}{\\sum_i \\left(w_i^2\\right)}.\n",
    "$$\n",
    "\n",
    "Loosely speaking, using $n$ samples $\\theta_i\\sim q(\\theta_i|x)$ is equivalent to using $n_\\text{eff}$ samples from the true posterior $p(\\theta|x)$. The *sample efficiency*\n",
    "\n",
    "$$\n",
    "\\epsilon = \\frac{n_\\text{eff}}{n} \\in (0, 1]\n",
    "$$\n",
    "\n",
    "is an indirect measure of the quality of the proposal $q(\\theta|x)$.\n",
    "\n",
    "### Mass coverage\n",
    "Importance sampling requires $p(\\theta|x) \\subseteq q(\\theta|x)$. When using NPE, this should naturally be ensured, as NPE is trained with the mass-covering forward KL divergence, such that $p(\\theta|x) \\not\\subseteq q(\\theta|x)$ for in-distribution data would imply a diverging validation loss. \n",
    "\n",
    "When $q(\\theta|x)$ is a light-tailed estimate of $p(\\theta|x)$, the variance of the importance weights is unbounded and we may encounter a small sample efficiency $\\epsilon$.\n",
    "\n",
    "### Self-normalized importance sampling and the Bayesian evidence\n",
    "\n",
    "In practice, we don't have access to the normalized posterior, but only to $p(\\theta|x) \\cdot p(x) = p(\\theta)p(x|\\theta)$. We thus have to use self-normalized importance sampling. In this case, an unbiased estimate of the Bayesian evidence $p(x)$ can be computed from the normalization of the importance weights (see e.g. [here](https://arxiv.org/abs/2210.05686))\n",
    "\n",
    "$$\n",
    "p(x) = \\frac{\\sum_i w_i}{n}\n",
    "$$\n",
    "\n",
    "with a statistical uncertainty scaling with $1/\\sqrt{n}$,\n",
    "\n",
    "$$\n",
    "\\sigma_{p(x)} = p(x)\\cdot \\sqrt{\\frac{1-\\epsilon}{n\\cdot \\epsilon}}.\n",
    "$$"
   ]
  },
  {
   "cell_type": "markdown",
   "id": "fe5e6091-285a-4841-b902-7e335fc15513",
   "metadata": {},
   "source": [
    "# Implementation"
   ]
  },
  {
   "cell_type": "code",
   "execution_count": 1,
   "id": "f3284c6a-5205-492a-bbd9-c1b46bb2feb3",
   "metadata": {},
   "outputs": [
    {
     "name": "stderr",
     "output_type": "stream",
     "text": [
      "WARNING (pytensor.tensor.blas): Using NumPy C-API based implementation for BLAS functions.\n"
     ]
    }
   ],
   "source": [
    "from torch import ones, eye\n",
    "import torch\n",
    "from torch.distributions import MultivariateNormal\n",
    "import matplotlib.pyplot as plt\n",
    "\n",
    "from sbi.inference import SNPE, ImportanceSamplingPosterior\n",
    "from sbi.utils import BoxUniform\n",
    "from sbi.inference.potentials.base_potential import BasePotential\n",
    "from sbi.analysis import marginal_plot"
   ]
  },
  {
   "cell_type": "markdown",
   "id": "4808d6d3-cb14-4ecd-a0f5-824bf54a5b01",
   "metadata": {},
   "source": [
    "We first define a simulator and a prior which both have functions for sampling (as required for SBI) and log_prob evaluations (as required for importance sampling)."
   ]
  },
  {
   "cell_type": "markdown",
   "id": "7bafcabf-bf3f-4133-aeaa-ab1e36e89267",
   "metadata": {},
   "source": [
    "Next we train an NPE model for inference."
   ]
  },
  {
   "cell_type": "markdown",
   "id": "cb514776-590a-4c41-93f4-e42a32f8470e",
   "metadata": {},
   "source": [
    "Now we perfrom inference with the model."
   ]
  },
  {
   "cell_type": "code",
   "execution_count": 2,
   "id": "3e72c9d2-7973-499a-8d56-485cd69f2ebb",
   "metadata": {},
   "outputs": [
    {
     "name": "stdout",
     "output_type": "stream",
     "text": [
      " Neural network successfully converged after 70 epochs.observations.shape torch.Size([2])\n"
     ]
    },
    {
     "data": {
      "application/vnd.jupyter.widget-view+json": {
       "model_id": "8e758ddd98d64180b75e93f63bbb8b90",
       "version_major": 2,
       "version_minor": 0
      },
      "text/plain": [
       "Drawing 10000 posterior samples:   0%|          | 0/10000 [00:00<?, ?it/s]"
      ]
     },
     "metadata": {},
     "output_type": "display_data"
    }
   ],
   "source": [
    "# define prior and simulator\n",
    "class Simulator:\n",
    "    def __init__(self):\n",
    "        pass\n",
    "\n",
    "    def log_likelihood(self, theta, x):\n",
    "        return MultivariateNormal(theta, eye(2)).log_prob(x)\n",
    "\n",
    "    def sample(self, theta):\n",
    "        return theta + torch.randn((theta.shape))\n",
    "\n",
    "prior = BoxUniform(-5 * ones((2,)), 5 * ones((2,)))\n",
    "sim = Simulator()\n",
    "log_prob_fn = lambda theta, x_o: sim.log_likelihood(theta, x_o) + prior.log_prob(theta)\n",
    "\n",
    "# generate train data\n",
    "_ = torch.manual_seed(3)\n",
    "theta = prior.sample((10,))\n",
    "x = sim.sample(theta)\n",
    "\n",
    "# train NPE model\n",
    "_ = torch.manual_seed(4)\n",
    "inference = SNPE(prior=prior)\n",
    "_ = inference.append_simulations(theta, x).train()\n",
    "posterior = inference.build_posterior()\n",
    "\n",
    "# generate a synthetic observation\n",
    "_ = torch.manual_seed(2)\n",
    "theta_gt = prior.sample((1,))\n",
    "observation = sim.sample(theta_gt)[0]\n",
    "posterior = posterior.set_default_x(observation)\n",
    "print(\"observations.shape\", observation.shape)\n",
    "\n",
    "# sample from posterior\n",
    "theta_inferred = posterior.sample((10_000,))"
   ]
  },
  {
   "cell_type": "markdown",
   "id": "4fb48fc5-08fb-42e1-9dd8-d2cda41b7fde",
   "metadata": {},
   "source": [
    "### Manual importance sampling"
   ]
  },
  {
   "cell_type": "markdown",
   "id": "101e8005-8ac7-4730-bb8a-f51c652c4ecf",
   "metadata": {},
   "source": [
    "For the inferred samples, we can evaluate the proposal density (i.e., the density under our inference model) and the ground truth density defined by the prior and the simulator likelihood (unnormalized)."
   ]
  },
  {
   "cell_type": "code",
   "execution_count": 3,
   "id": "3648cc7c-b8bc-43f9-a36a-219a9d1c5f80",
   "metadata": {},
   "outputs": [
    {
     "data": {
      "image/png": "[encoded data removed]",
      "text/plain": [
       "<Figure size 640x480 with 1 Axes>"
      ]
     },
     "metadata": {},
     "output_type": "display_data"
    }
   ],
   "source": [
    "log_probs_inferred = posterior.log_prob(theta_inferred)  # log probs of proposal\n",
    "log_probs_gt = log_prob_fn(theta_inferred, observation)  # gt log probs (unnormalized)\n",
    "\n",
    "plt.plot(log_probs_inferred, log_probs_gt, '.')\n",
    "plt.xlabel(\"proposal log prob\")\n",
    "plt.ylabel(\"ground truth log prob (unnormalized)\");"
   ]
  },
  {
   "cell_type": "markdown",
   "id": "4796c043-3faa-4c91-8ef2-a967cfc4b160",
   "metadata": {},
   "source": [
    "Based on these densities, we can now compute the importance weights."
   ]
  },
  {
   "cell_type": "code",
   "execution_count": 4,
   "id": "4a990c0b-ef62-495b-a529-3d8d653e91d4",
   "metadata": {},
   "outputs": [
    {
     "name": "stdout",
     "output_type": "stream",
     "text": [
      "Effective sample size: 1466\n",
      "Sample efficiency: 14.7%\n"
     ]
    },
    {
     "data": {
      "image/png": "[encoded data removed]",
      "text/plain": [
       "<Figure size 640x480 with 1 Axes>"
      ]
     },
     "metadata": {},
     "output_type": "display_data"
    }
   ],
   "source": [
    "w = torch.exp(log_probs_gt - log_probs_inferred)  # importance weights\n",
    "w = w / torch.mean(w)  # self-normalized importance sampling: normalize weights to mean 1\n",
    "ESS = torch.sum(w)**2 / torch.sum(w**2)\n",
    "sample_efficiency = ESS / len(w)\n",
    "\n",
    "print(f\"Effective sample size: {ESS:.0f}\")\n",
    "print(f\"Sample efficiency: {100 * sample_efficiency:.1f}%\")\n",
    "\n",
    "plt.hist(w, density=True, bins=50);"
   ]
  },
  {
   "cell_type": "markdown",
   "id": "af125b98-726f-4365-9cfc-e3c221bb549d",
   "metadata": {},
   "source": [
    "With these importance weights, we can correct the inferred samples."
   ]
  },
  {
   "cell_type": "code",
   "execution_count": 5,
   "id": "c1aec66d-4148-40d8-881a-bf4e43f3092d",
   "metadata": {},
   "outputs": [
    {
     "data": {
      "image/png": "[encoded data removed]",
      "text/plain": [
       "<Figure size 600x300 with 2 Axes>"
      ]
     },
     "metadata": {},
     "output_type": "display_data"
    }
   ],
   "source": [
    "# get weighted samples\n",
    "theta_inferred_is = theta_inferred[torch.where(w > torch.rand(len(w)) * torch.max(w))]\n",
    "# *Note*: we here perform rejection sampling, as the plotting function\n",
    "# used below does not support weighted samples. In general, with rejection\n",
    "# sampling the number of samples will be smaller than the effective sample\n",
    "# size unless we allow for duplicate samples.\n",
    "\n",
    "# gt samples\n",
    "gt_samples = MultivariateNormal(observation, eye(2)).sample((len(theta_inferred) * 5,))\n",
    "gt_samples = gt_samples[prior.support.check(gt_samples)][:len(theta_inferred)]\n",
    "\n",
    "# plot\n",
    "fig, ax = marginal_plot(\n",
    "    [theta_inferred, theta_inferred_is, gt_samples],\n",
    "    limits=[[-5, 5], [-5, 5]],\n",
    "    figsize=(6, 3),\n",
    "    diag=\"kde\",  # smooth histogram\n",
    ")\n",
    "ax[1].legend([\"NPE\", \"NPE-IS\", \"Groud Truth\"], loc=\"upper right\",\n",
    "                bbox_to_anchor=[1.8, 1.0, 0.0, 0.0]);"
   ]
  },
  {
   "cell_type": "markdown",
   "id": "87290c05-2945-4b0f-bb39-f1eaa17b0594",
   "metadata": {},
   "source": [
    "Indeed, the importance-sampled posterior matches the ground truth well, despite significant deviations of the initial NPE estimate."
   ]
  },
  {
   "cell_type": "markdown",
   "id": "26d8d8c7-05a0-4fd4-ac64-0dabf1a848f6",
   "metadata": {},
   "source": [
    "### Importance sampling with the SBI toolbox"
   ]
  },
  {
   "cell_type": "markdown",
   "id": "7150cc13-9911-4656-936f-9cafb867eba4",
   "metadata": {},
   "source": [
    "With the SBI toolbox, importance sampling is a one-liner. SBI supports two methods for importance sampling:\n",
    "- `\"importance\"`: returns `n_samples` weighted samples (as above) corresponding to `n_samples * sample_efficiency` samples from the posterior. This results in unbiased samples, but the number of effective samples may be small when the SBI estimate is inaccurate.\n",
    "- `\"sir\"` (sampling-importance-resampling): performs rejection sampling on a batched basis with batch size `oversampling_factor`.  This is a guaranteed way to obtain `N / oversampling_factor` samples, but these may be biased as the weight normalization is not performed across the entire set of samples."
   ]
  },
  {
   "cell_type": "code",
   "execution_count": 6,
   "id": "1479c986-a677-4367-9037-d72f5f34569d",
   "metadata": {},
   "outputs": [
    {
     "data": {
      "application/vnd.jupyter.widget-view+json": {
       "model_id": "1b627e8b495e4a85b5659b9bf4343948",
       "version_major": 2,
       "version_minor": 0
      },
      "text/plain": [
       "Drawing 10000 posterior samples:   0%|          | 0/10000 [00:00<?, ?it/s]"
      ]
     },
     "metadata": {},
     "output_type": "display_data"
    },
    {
     "data": {
      "application/vnd.jupyter.widget-view+json": {
       "model_id": "5ce80c049e754f9aa3263ce0910bba58",
       "version_major": 2,
       "version_minor": 0
      },
      "text/plain": [
       "Drawing 9984 posterior samples:   0%|          | 0/9984 [00:00<?, ?it/s]"
      ]
     },
     "metadata": {},
     "output_type": "display_data"
    },
    {
     "data": {
      "application/vnd.jupyter.widget-view+json": {
       "model_id": "727ff4d3aa154431afe70e52cc9eb2b3",
       "version_major": 2,
       "version_minor": 0
      },
      "text/plain": [
       "Drawing 9984 posterior samples:   0%|          | 0/9984 [00:00<?, ?it/s]"
      ]
     },
     "metadata": {},
     "output_type": "display_data"
    },
    {
     "data": {
      "application/vnd.jupyter.widget-view+json": {
       "model_id": "9541b58c24654eb28d1479ba54d2ffec",
       "version_major": 2,
       "version_minor": 0
      },
      "text/plain": [
       "Drawing 9984 posterior samples:   0%|          | 0/9984 [00:00<?, ?it/s]"
      ]
     },
     "metadata": {},
     "output_type": "display_data"
    },
    {
     "data": {
      "application/vnd.jupyter.widget-view+json": {
       "model_id": "097ae5cdcec94abf97739c8c14a33c1d",
       "version_major": 2,
       "version_minor": 0
      },
      "text/plain": [
       "Drawing 9984 posterior samples:   0%|          | 0/9984 [00:00<?, ?it/s]"
      ]
     },
     "metadata": {},
     "output_type": "display_data"
    },
    {
     "data": {
      "application/vnd.jupyter.widget-view+json": {
       "model_id": "b76c1a3256e94fc196a6ec472d190c3d",
       "version_major": 2,
       "version_minor": 0
      },
      "text/plain": [
       "Drawing 9984 posterior samples:   0%|          | 0/9984 [00:00<?, ?it/s]"
      ]
     },
     "metadata": {},
     "output_type": "display_data"
    },
    {
     "data": {
      "application/vnd.jupyter.widget-view+json": {
       "model_id": "981414b42f84444ebb1e49167b4b4038",
       "version_major": 2,
       "version_minor": 0
      },
      "text/plain": [
       "Drawing 9984 posterior samples:   0%|          | 0/9984 [00:00<?, ?it/s]"
      ]
     },
     "metadata": {},
     "output_type": "display_data"
    },
    {
     "data": {
      "application/vnd.jupyter.widget-view+json": {
       "model_id": "306a3480c4e24695b6b4c18f42a6ce96",
       "version_major": 2,
       "version_minor": 0
      },
      "text/plain": [
       "Drawing 9984 posterior samples:   0%|          | 0/9984 [00:00<?, ?it/s]"
      ]
     },
     "metadata": {},
     "output_type": "display_data"
    },
    {
     "data": {
      "application/vnd.jupyter.widget-view+json": {
       "model_id": "bea01f1d265147afbd49e7dc400ba627",
       "version_major": 2,
       "version_minor": 0
      },
      "text/plain": [
       "Drawing 9984 posterior samples:   0%|          | 0/9984 [00:00<?, ?it/s]"
      ]
     },
     "metadata": {},
     "output_type": "display_data"
    },
    {
     "data": {
      "application/vnd.jupyter.widget-view+json": {
       "model_id": "052abb15276d425e88e1ab4a734bbcf9",
       "version_major": 2,
       "version_minor": 0
      },
      "text/plain": [
       "Drawing 9984 posterior samples:   0%|          | 0/9984 [00:00<?, ?it/s]"
      ]
     },
     "metadata": {},
     "output_type": "display_data"
    },
    {
     "data": {
      "application/vnd.jupyter.widget-view+json": {
       "model_id": "1ce8b88930fd4eb2a120837a97bf8d44",
       "version_major": 2,
       "version_minor": 0
      },
      "text/plain": [
       "Drawing 9984 posterior samples:   0%|          | 0/9984 [00:00<?, ?it/s]"
      ]
     },
     "metadata": {},
     "output_type": "display_data"
    },
    {
     "data": {
      "application/vnd.jupyter.widget-view+json": {
       "model_id": "e665e218921a4711ad734618ead180a3",
       "version_major": 2,
       "version_minor": 0
      },
      "text/plain": [
       "Drawing 9984 posterior samples:   0%|          | 0/9984 [00:00<?, ?it/s]"
      ]
     },
     "metadata": {},
     "output_type": "display_data"
    },
    {
     "data": {
      "application/vnd.jupyter.widget-view+json": {
       "model_id": "9b035d14f9d64d868ed45e8a7bac1a24",
       "version_major": 2,
       "version_minor": 0
      },
      "text/plain": [
       "Drawing 9984 posterior samples:   0%|          | 0/9984 [00:00<?, ?it/s]"
      ]
     },
     "metadata": {},
     "output_type": "display_data"
    },
    {
     "data": {
      "application/vnd.jupyter.widget-view+json": {
       "model_id": "f555e08ba12b4552aea29899e1b4ca5d",
       "version_major": 2,
       "version_minor": 0
      },
      "text/plain": [
       "Drawing 9984 posterior samples:   0%|          | 0/9984 [00:00<?, ?it/s]"
      ]
     },
     "metadata": {},
     "output_type": "display_data"
    },
    {
     "data": {
      "application/vnd.jupyter.widget-view+json": {
       "model_id": "5dc411e7e1054cd18762a32eea0d4c32",
       "version_major": 2,
       "version_minor": 0
      },
      "text/plain": [
       "Drawing 9984 posterior samples:   0%|          | 0/9984 [00:00<?, ?it/s]"
      ]
     },
     "metadata": {},
     "output_type": "display_data"
    },
    {
     "data": {
      "application/vnd.jupyter.widget-view+json": {
       "model_id": "b24d80cf2713444498fe7432e1e9483e",
       "version_major": 2,
       "version_minor": 0
      },
      "text/plain": [
       "Drawing 9984 posterior samples:   0%|          | 0/9984 [00:00<?, ?it/s]"
      ]
     },
     "metadata": {},
     "output_type": "display_data"
    },
    {
     "data": {
      "application/vnd.jupyter.widget-view+json": {
       "model_id": "6dce34983c644a5980c2c8300901265c",
       "version_major": 2,
       "version_minor": 0
      },
      "text/plain": [
       "Drawing 9984 posterior samples:   0%|          | 0/9984 [00:00<?, ?it/s]"
      ]
     },
     "metadata": {},
     "output_type": "display_data"
    },
    {
     "data": {
      "application/vnd.jupyter.widget-view+json": {
       "model_id": "b7fc19c0626a4532b6d28cb5e96c8374",
       "version_major": 2,
       "version_minor": 0
      },
      "text/plain": [
       "Drawing 9984 posterior samples:   0%|          | 0/9984 [00:00<?, ?it/s]"
      ]
     },
     "metadata": {},
     "output_type": "display_data"
    },
    {
     "data": {
      "application/vnd.jupyter.widget-view+json": {
       "model_id": "eb435e5faa1749c08756a3eaef3edabb",
       "version_major": 2,
       "version_minor": 0
      },
      "text/plain": [
       "Drawing 9984 posterior samples:   0%|          | 0/9984 [00:00<?, ?it/s]"
      ]
     },
     "metadata": {},
     "output_type": "display_data"
    },
    {
     "data": {
      "application/vnd.jupyter.widget-view+json": {
       "model_id": "694fe0aeb41340b29e46d097d788d712",
       "version_major": 2,
       "version_minor": 0
      },
      "text/plain": [
       "Drawing 9984 posterior samples:   0%|          | 0/9984 [00:00<?, ?it/s]"
      ]
     },
     "metadata": {},
     "output_type": "display_data"
    },
    {
     "data": {
      "application/vnd.jupyter.widget-view+json": {
       "model_id": "b9cc4e87fa5a4d66aff1340d53dc3fd3",
       "version_major": 2,
       "version_minor": 0
      },
      "text/plain": [
       "Drawing 9984 posterior samples:   0%|          | 0/9984 [00:00<?, ?it/s]"
      ]
     },
     "metadata": {},
     "output_type": "display_data"
    },
    {
     "data": {
      "application/vnd.jupyter.widget-view+json": {
       "model_id": "051c0d8ac6ff4e2297c50388fb673b20",
       "version_major": 2,
       "version_minor": 0
      },
      "text/plain": [
       "Drawing 9984 posterior samples:   0%|          | 0/9984 [00:00<?, ?it/s]"
      ]
     },
     "metadata": {},
     "output_type": "display_data"
    },
    {
     "data": {
      "application/vnd.jupyter.widget-view+json": {
       "model_id": "f28c161b86794c00861c9e421e26e463",
       "version_major": 2,
       "version_minor": 0
      },
      "text/plain": [
       "Drawing 9984 posterior samples:   0%|          | 0/9984 [00:00<?, ?it/s]"
      ]
     },
     "metadata": {},
     "output_type": "display_data"
    },
    {
     "data": {
      "application/vnd.jupyter.widget-view+json": {
       "model_id": "9598041ed0fe4eb0a7cacea7a9b07360",
       "version_major": 2,
       "version_minor": 0
      },
      "text/plain": [
       "Drawing 9984 posterior samples:   0%|          | 0/9984 [00:00<?, ?it/s]"
      ]
     },
     "metadata": {},
     "output_type": "display_data"
    },
    {
     "data": {
      "application/vnd.jupyter.widget-view+json": {
       "model_id": "6acebc1bd1b24f768b7c321e65e9b3c2",
       "version_major": 2,
       "version_minor": 0
      },
      "text/plain": [
       "Drawing 9984 posterior samples:   0%|          | 0/9984 [00:00<?, ?it/s]"
      ]
     },
     "metadata": {},
     "output_type": "display_data"
    },
    {
     "data": {
      "application/vnd.jupyter.widget-view+json": {
       "model_id": "9aeab004aa494d96b913acc02f22dea7",
       "version_major": 2,
       "version_minor": 0
      },
      "text/plain": [
       "Drawing 9984 posterior samples:   0%|          | 0/9984 [00:00<?, ?it/s]"
      ]
     },
     "metadata": {},
     "output_type": "display_data"
    },
    {
     "data": {
      "application/vnd.jupyter.widget-view+json": {
       "model_id": "f1c7b0876eb1463581a73674321423e6",
       "version_major": 2,
       "version_minor": 0
      },
      "text/plain": [
       "Drawing 9984 posterior samples:   0%|          | 0/9984 [00:00<?, ?it/s]"
      ]
     },
     "metadata": {},
     "output_type": "display_data"
    },
    {
     "data": {
      "application/vnd.jupyter.widget-view+json": {
       "model_id": "d33a8a34b0fa4205877138fb77ff2ba8",
       "version_major": 2,
       "version_minor": 0
      },
      "text/plain": [
       "Drawing 9984 posterior samples:   0%|          | 0/9984 [00:00<?, ?it/s]"
      ]
     },
     "metadata": {},
     "output_type": "display_data"
    },
    {
     "data": {
      "application/vnd.jupyter.widget-view+json": {
       "model_id": "cf13915d9a244377a2bb4502154ff81f",
       "version_major": 2,
       "version_minor": 0
      },
      "text/plain": [
       "Drawing 9984 posterior samples:   0%|          | 0/9984 [00:00<?, ?it/s]"
      ]
     },
     "metadata": {},
     "output_type": "display_data"
    },
    {
     "data": {
      "application/vnd.jupyter.widget-view+json": {
       "model_id": "509f7c6d8d364fc1a61490791edaa5d4",
       "version_major": 2,
       "version_minor": 0
      },
      "text/plain": [
       "Drawing 9984 posterior samples:   0%|          | 0/9984 [00:00<?, ?it/s]"
      ]
     },
     "metadata": {},
     "output_type": "display_data"
    },
    {
     "data": {
      "application/vnd.jupyter.widget-view+json": {
       "model_id": "58684ddd2c2544e1a3f2243580c59fca",
       "version_major": 2,
       "version_minor": 0
      },
      "text/plain": [
       "Drawing 9984 posterior samples:   0%|          | 0/9984 [00:00<?, ?it/s]"
      ]
     },
     "metadata": {},
     "output_type": "display_data"
    },
    {
     "data": {
      "application/vnd.jupyter.widget-view+json": {
       "model_id": "c9c076daa64d4c89820f6cbb6c5dba36",
       "version_major": 2,
       "version_minor": 0
      },
      "text/plain": [
       "Drawing 9984 posterior samples:   0%|          | 0/9984 [00:00<?, ?it/s]"
      ]
     },
     "metadata": {},
     "output_type": "display_data"
    },
    {
     "data": {
      "application/vnd.jupyter.widget-view+json": {
       "model_id": "fd0f9d575ebd4577b4453b2d24d0bc34",
       "version_major": 2,
       "version_minor": 0
      },
      "text/plain": [
       "Drawing 9984 posterior samples:   0%|          | 0/9984 [00:00<?, ?it/s]"
      ]
     },
     "metadata": {},
     "output_type": "display_data"
    },
    {
     "data": {
      "application/vnd.jupyter.widget-view+json": {
       "model_id": "44b409634c4b4cee996d558cbb410a5c",
       "version_major": 2,
       "version_minor": 0
      },
      "text/plain": [
       "Drawing 512 posterior samples:   0%|          | 0/512 [00:00<?, ?it/s]"
      ]
     },
     "metadata": {},
     "output_type": "display_data"
    }
   ],
   "source": [
    "posterior_sir = ImportanceSamplingPosterior(\n",
    "    potential_fn=log_prob_fn,\n",
    "    proposal=posterior,\n",
    "    method=\"sir\",\n",
    ").set_default_x(observation)\n",
    "theta_inferred_sir_2 = posterior_sir.sample((len(theta_inferred),), show_progress_bars=False,\n",
    "                                            oversampling_factor=1)\n",
    "theta_inferred_sir_32 = posterior_sir.sample((len(theta_inferred),),\n",
    "                                             oversampling_factor=32, show_progress_bars=False)"
   ]
  },
  {
   "cell_type": "code",
   "execution_count": 7,
   "id": "8ee687f3-8ffe-427c-8caf-046c911d2033",
   "metadata": {},
   "outputs": [
    {
     "data": {
      "text/plain": [
       "torch.Size([10000, 2])"
      ]
     },
     "execution_count": 7,
     "metadata": {},
     "output_type": "execute_result"
    }
   ],
   "source": [
    "theta_inferred_sir_2.shape"
   ]
  },
  {
   "cell_type": "code",
   "execution_count": 8,
   "id": "6efc07ec-6b06-4c77-88c8-6d16685f5c68",
   "metadata": {},
   "outputs": [
    {
     "data": {
      "image/png": "[encoded data removed]",
      "text/plain": [
       "<Figure size 500x150 with 2 Axes>"
      ]
     },
     "metadata": {},
     "output_type": "display_data"
    }
   ],
   "source": [
    "fig, ax = marginal_plot(\n",
    "    [theta_inferred_sir_2, theta_inferred_sir_32, gt_samples],\n",
    "    limits=[[-5, 5], [-5, 5]],\n",
    "    figsize=(5, 1.5),\n",
    "    diag=\"kde\",  # smooth histogram\n",
    ")\n",
    "ax[1].legend([\"NPE\", \"NPE-IS\", \"Groud Truth\"], loc=\"upper right\", bbox_to_anchor=[1.8, 1.0, 0.0, 0.0]);"
   ]
  },
  {
   "cell_type": "code",
   "execution_count": 9,
   "id": "a5c4f6d0-d32c-46f9-b6f8-5a772b332d31",
   "metadata": {},
   "outputs": [
    {
     "data": {
      "image/png": "[encoded data removed]",
      "text/plain": [
       "<Figure size 500x150 with 2 Axes>"
      ]
     },
     "metadata": {},
     "output_type": "display_data"
    }
   ],
   "source": [
    "fig, ax = marginal_plot(\n",
    "    [gt_samples, theta_inferred],\n",
    "    limits=[[-5, 5], [-5, 5]],\n",
    "    figsize=(5, 1.5),\n",
    "    diag=\"kde\",  # smooth histogram\n",
    ")\n",
    "ax[1].legend([\"NPE\", \"Corrected\"], loc=\"upper right\",\n",
    "                bbox_to_anchor=[1.8, 1.0, 0.0, 0.0]);"
   ]
  },
  {
   "cell_type": "code",
   "execution_count": 10,
   "id": "1c0fc1a4-bc5c-49db-ac8f-8819b07aed0a",
   "metadata": {},
   "outputs": [
    {
     "data": {
      "image/png": "[encoded data removed]",
      "text/plain": [
       "<Figure size 640x480 with 1 Axes>"
      ]
     },
     "metadata": {},
     "output_type": "display_data"
    },
    {
     "data": {
      "image/png": "[encoded data removed]",
      "text/plain": [
       "<Figure size 640x480 with 1 Axes>"
      ]
     },
     "metadata": {},
     "output_type": "display_data"
    }
   ],
   "source": [
    "# gt samples\n",
    "gt_samples = MultivariateNormal(observation, eye(2)).sample((len(theta_inferred) * 5,))\n",
    "gt_samples = gt_samples[prior.support.check(gt_samples)][:len(theta_inferred)]\n",
    "\n",
    "kwargs = dict(density=True, bins=50)\n",
    "for idx_param in range(2):\n",
    "    plt.hist(gt_samples[:, idx_param], **kwargs)\n",
    "    plt.show()"
   ]
  },
  {
   "cell_type": "markdown",
   "id": "257c04cd-6ad7-46e1-8a10-88774d5e09c4",
   "metadata": {},
   "source": [
    "_ = torch.manual_seed(3)\n",
    "theta = prior.sample((50,))\n",
    "x = sim.sample(theta)\n",
    "\n",
    "_ = torch.manual_seed(4)\n",
    "inference = SNPE(prior=prior)\n",
    "_ = inference.append_simulations(theta, x).train()\n",
    "posterior = inference.build_posterior()\n",
    "\n",
    "_ = torch.manual_seed(2)\n",
    "theta_gt = prior.sample((5,))\n",
    "observations = sim.sample(theta_gt)\n",
    "print(\"observations.shape\", observations.shape)\n",
    "\n",
    "\n",
    "oversampling_factor = 128  # higher will be slower but more accurate\n",
    "n_samples = 5000\n",
    "\n",
    "non_corrected_samples_for_all_observations = []\n",
    "corrected_samples_for_all_observations = []\n",
    "true_samples = []\n",
    "for obs in observations:\n",
    "    non_corrected_samples_for_all_observations.append(posterior.set_default_x(obs).sample((n_samples,)))\n",
    "    corrected_posterior = ImportanceSamplingPosterior(\n",
    "        potential_fn=Potential(prior=None, x_o=obs),\n",
    "        proposal=posterior.set_default_x(obs),\n",
    "        method=\"sir\",\n",
    "    )\n",
    "    corrected_samples = corrected_posterior.sample((n_samples,), oversampling_factor=oversampling_factor)\n",
    "    corrected_samples_for_all_observations.append(corrected_samples)\n",
    "\n",
    "    gt_samples = MultivariateNormal(obs, eye(2)).sample((n_samples * 5,))\n",
    "    gt_samples = gt_samples[prior.support.check(gt_samples)][:n_samples]\n",
    "    true_samples.append(gt_samples)\n",
    "\n",
    "\n",
    "for i in range(len(observations)):\n",
    "    fig, ax = marginal_plot(\n",
    "        [non_corrected_samples_for_all_observations[i], corrected_samples_for_all_observations[i], true_samples[i]], \n",
    "        limits=[[-5, 5], [-5, 5]], \n",
    "        points=theta_gt[i], \n",
    "        figsize=(5, 1.5),\n",
    "        diag=\"kde\",  # smooth histogram\n",
    "    )\n",
    "    ax[0][1].legend([\"NPE\", \"Corrected\", \"Ground truth\"], loc=\"upper right\", bbox_to_anchor=[1.8, 1.0, 0.0, 0.0])"
   ]
  },
  {
   "cell_type": "code",
   "execution_count": 11,
   "id": "73d97121-7990-479f-b261-99ccbb2127e8",
   "metadata": {},
   "outputs": [
    {
     "name": "stdout",
     "output_type": "stream",
     "text": [
      " Neural network successfully converged after 93 epochs.observations.shape torch.Size([5, 2])\n"
     ]
    },
    {
     "data": {
      "application/vnd.jupyter.widget-view+json": {
       "model_id": "ec35acc6196b4bfda940bb2d87269ffe",
       "version_major": 2,
       "version_minor": 0
      },
      "text/plain": [
       "Drawing 5000 posterior samples:   0%|          | 0/5000 [00:00<?, ?it/s]"
      ]
     },
     "metadata": {},
     "output_type": "display_data"
    },
    {
     "data": {
      "application/vnd.jupyter.widget-view+json": {
       "model_id": "f234681d287d46ec80d219f5be70f59e",
       "version_major": 2,
       "version_minor": 0
      },
      "text/plain": [
       "Drawing 9984 posterior samples:   0%|          | 0/9984 [00:00<?, ?it/s]"
      ]
     },
     "metadata": {},
     "output_type": "display_data"
    },
    {
     "data": {
      "application/vnd.jupyter.widget-view+json": {
       "model_id": "e9c7c4aafb014d14b6a00a56e507db68",
       "version_major": 2,
       "version_minor": 0
      },
      "text/plain": [
       "Drawing 9984 posterior samples:   0%|          | 0/9984 [00:00<?, ?it/s]"
      ]
     },
     "metadata": {},
     "output_type": "display_data"
    },
    {
     "data": {
      "application/vnd.jupyter.widget-view+json": {
       "model_id": "a9ceed47bc8c41adabef48d4a377104e",
       "version_major": 2,
       "version_minor": 0
      },
      "text/plain": [
       "Drawing 9984 posterior samples:   0%|          | 0/9984 [00:00<?, ?it/s]"
      ]
     },
     "metadata": {},
     "output_type": "display_data"
    },
    {
     "data": {
      "application/vnd.jupyter.widget-view+json": {
       "model_id": "83bb1e51180c4095bb29330ce509a175",
       "version_major": 2,
       "version_minor": 0
      },
      "text/plain": [
       "Drawing 9984 posterior samples:   0%|          | 0/9984 [00:00<?, ?it/s]"
      ]
     },
     "metadata": {},
     "output_type": "display_data"
    },
    {
     "data": {
      "application/vnd.jupyter.widget-view+json": {
       "model_id": "d4a301744a4c4083be252b4dd4940712",
       "version_major": 2,
       "version_minor": 0
      },
      "text/plain": [
       "Drawing 9984 posterior samples:   0%|          | 0/9984 [00:00<?, ?it/s]"
      ]
     },
     "metadata": {},
     "output_type": "display_data"
    },
    {
     "data": {
      "application/vnd.jupyter.widget-view+json": {
       "model_id": "f3b5433332ed4e7eb6cff201d74080b1",
       "version_major": 2,
       "version_minor": 0
      },
      "text/plain": [
       "Drawing 9984 posterior samples:   0%|          | 0/9984 [00:00<?, ?it/s]"
      ]
     },
     "metadata": {},
     "output_type": "display_data"
    },
    {
     "data": {
      "application/vnd.jupyter.widget-view+json": {
       "model_id": "e2d9e0525cc54addb7d5e739702191a5",
       "version_major": 2,
       "version_minor": 0
      },
      "text/plain": [
       "Drawing 9984 posterior samples:   0%|          | 0/9984 [00:00<?, ?it/s]"
      ]
     },
     "metadata": {},
     "output_type": "display_data"
    },
    {
     "data": {
      "application/vnd.jupyter.widget-view+json": {
       "model_id": "5e898c2bc04a4babb3dead9e80371b19",
       "version_major": 2,
       "version_minor": 0
      },
      "text/plain": [
       "Drawing 9984 posterior samples:   0%|          | 0/9984 [00:00<?, ?it/s]"
      ]
     },
     "metadata": {},
     "output_type": "display_data"
    },
    {
     "data": {
      "application/vnd.jupyter.widget-view+json": {
       "model_id": "596f0e35c67f4452a9748884403889df",
       "version_major": 2,
       "version_minor": 0
      },
      "text/plain": [
       "Drawing 9984 posterior samples:   0%|          | 0/9984 [00:00<?, ?it/s]"
      ]
     },
     "metadata": {},
     "output_type": "display_data"
    },
    {
     "data": {
      "application/vnd.jupyter.widget-view+json": {
       "model_id": "41d3aeab7e5c4361bccb2b194a26888c",
       "version_major": 2,
       "version_minor": 0
      },
      "text/plain": [
       "Drawing 9984 posterior samples:   0%|          | 0/9984 [00:00<?, ?it/s]"
      ]
     },
     "metadata": {},
     "output_type": "display_data"
    },
    {
     "data": {
      "application/vnd.jupyter.widget-view+json": {
       "model_id": "1165c48985fd4ca188de77bfe81b3db4",
       "version_major": 2,
       "version_minor": 0
      },
      "text/plain": [
       "Drawing 9984 posterior samples:   0%|          | 0/9984 [00:00<?, ?it/s]"
      ]
     },
     "metadata": {},
     "output_type": "display_data"
    },
    {
     "data": {
      "application/vnd.jupyter.widget-view+json": {
       "model_id": "ab11eb5c981741b39a72cdf6d96285ea",
       "version_major": 2,
       "version_minor": 0
      },
      "text/plain": [
       "Drawing 9984 posterior samples:   0%|          | 0/9984 [00:00<?, ?it/s]"
      ]
     },
     "metadata": {},
     "output_type": "display_data"
    },
    {
     "data": {
      "application/vnd.jupyter.widget-view+json": {
       "model_id": "1f84958b7b61409eac3224bfb39a19e6",
       "version_major": 2,
       "version_minor": 0
      },
      "text/plain": [
       "Drawing 9984 posterior samples:   0%|          | 0/9984 [00:00<?, ?it/s]"
      ]
     },
     "metadata": {},
     "output_type": "display_data"
    },
    {
     "data": {
      "application/vnd.jupyter.widget-view+json": {
       "model_id": "b62a311035ab4517bf0b107b7ad1fbf8",
       "version_major": 2,
       "version_minor": 0
      },
      "text/plain": [
       "Drawing 9984 posterior samples:   0%|          | 0/9984 [00:00<?, ?it/s]"
      ]
     },
     "metadata": {},
     "output_type": "display_data"
    },
    {
     "data": {
      "application/vnd.jupyter.widget-view+json": {
       "model_id": "aac4019eb9e941c9ba2534e827b7bcca",
       "version_major": 2,
       "version_minor": 0
      },
      "text/plain": [
       "Drawing 9984 posterior samples:   0%|          | 0/9984 [00:00<?, ?it/s]"
      ]
     },
     "metadata": {},
     "output_type": "display_data"
    },
    {
     "data": {
      "application/vnd.jupyter.widget-view+json": {
       "model_id": "575042da799f4314b312ab7a7ea115af",
       "version_major": 2,
       "version_minor": 0
      },
      "text/plain": [
       "Drawing 9984 posterior samples:   0%|          | 0/9984 [00:00<?, ?it/s]"
      ]
     },
     "metadata": {},
     "output_type": "display_data"
    },
    {
     "data": {
      "application/vnd.jupyter.widget-view+json": {
       "model_id": "a20be42415044c19b0a0e84f4af7bb95",
       "version_major": 2,
       "version_minor": 0
      },
      "text/plain": [
       "Drawing 9984 posterior samples:   0%|          | 0/9984 [00:00<?, ?it/s]"
      ]
     },
     "metadata": {},
     "output_type": "display_data"
    },
    {
     "data": {
      "application/vnd.jupyter.widget-view+json": {
       "model_id": "eeb3422616d440a09f4a6a373d27db00",
       "version_major": 2,
       "version_minor": 0
      },
      "text/plain": [
       "Drawing 9984 posterior samples:   0%|          | 0/9984 [00:00<?, ?it/s]"
      ]
     },
     "metadata": {},
     "output_type": "display_data"
    },
    {
     "data": {
      "application/vnd.jupyter.widget-view+json": {
       "model_id": "18447a4c4701405083451f7894f362f4",
       "version_major": 2,
       "version_minor": 0
      },
      "text/plain": [
       "Drawing 9984 posterior samples:   0%|          | 0/9984 [00:00<?, ?it/s]"
      ]
     },
     "metadata": {},
     "output_type": "display_data"
    },
    {
     "data": {
      "application/vnd.jupyter.widget-view+json": {
       "model_id": "42d9af40765940ac8a0aa87454226c05",
       "version_major": 2,
       "version_minor": 0
      },
      "text/plain": [
       "Drawing 9984 posterior samples:   0%|          | 0/9984 [00:00<?, ?it/s]"
      ]
     },
     "metadata": {},
     "output_type": "display_data"
    },
    {
     "data": {
      "application/vnd.jupyter.widget-view+json": {
       "model_id": "08b4e156d24e4b819f997410467fe303",
       "version_major": 2,
       "version_minor": 0
      },
      "text/plain": [
       "Drawing 9984 posterior samples:   0%|          | 0/9984 [00:00<?, ?it/s]"
      ]
     },
     "metadata": {},
     "output_type": "display_data"
    },
    {
     "data": {
      "application/vnd.jupyter.widget-view+json": {
       "model_id": "50b88f41775940d98d9a686ee0d226a6",
       "version_major": 2,
       "version_minor": 0
      },
      "text/plain": [
       "Drawing 9984 posterior samples:   0%|          | 0/9984 [00:00<?, ?it/s]"
      ]
     },
     "metadata": {},
     "output_type": "display_data"
    },
    {
     "data": {
      "application/vnd.jupyter.widget-view+json": {
       "model_id": "265e828ba04342898abe3bf318bf4b77",
       "version_major": 2,
       "version_minor": 0
      },
      "text/plain": [
       "Drawing 9984 posterior samples:   0%|          | 0/9984 [00:00<?, ?it/s]"
      ]
     },
     "metadata": {},
     "output_type": "display_data"
    },
    {
     "data": {
      "application/vnd.jupyter.widget-view+json": {
       "model_id": "4ecf634c43c2429eb2e281fae3c1b6f8",
       "version_major": 2,
       "version_minor": 0
      },
      "text/plain": [
       "Drawing 9984 posterior samples:   0%|          | 0/9984 [00:00<?, ?it/s]"
      ]
     },
     "metadata": {},
     "output_type": "display_data"
    },
    {
     "data": {
      "application/vnd.jupyter.widget-view+json": {
       "model_id": "d470b09eaceb4dfd95e8f64a7e8f91cc",
       "version_major": 2,
       "version_minor": 0
      },
      "text/plain": [
       "Drawing 9984 posterior samples:   0%|          | 0/9984 [00:00<?, ?it/s]"
      ]
     },
     "metadata": {},
     "output_type": "display_data"
    },
    {
     "data": {
      "application/vnd.jupyter.widget-view+json": {
       "model_id": "b9f1e3ae0d8d4a6d911f2b8758658eb4",
       "version_major": 2,
       "version_minor": 0
      },
      "text/plain": [
       "Drawing 9984 posterior samples:   0%|          | 0/9984 [00:00<?, ?it/s]"
      ]
     },
     "metadata": {},
     "output_type": "display_data"
    },
    {
     "data": {
      "application/vnd.jupyter.widget-view+json": {
       "model_id": "4ead651d541642018d8ee27911792008",
       "version_major": 2,
       "version_minor": 0
      },
      "text/plain": [
       "Drawing 9984 posterior samples:   0%|          | 0/9984 [00:00<?, ?it/s]"
      ]
     },
     "metadata": {},
     "output_type": "display_data"
    },
    {
     "data": {
      "application/vnd.jupyter.widget-view+json": {
       "model_id": "1e9c5b4ebc4d4ac492b396b170ea1113",
       "version_major": 2,
       "version_minor": 0
      },
      "text/plain": [
       "Drawing 9984 posterior samples:   0%|          | 0/9984 [00:00<?, ?it/s]"
      ]
     },
     "metadata": {},
     "output_type": "display_data"
    },
    {
     "data": {
      "application/vnd.jupyter.widget-view+json": {
       "model_id": "e56a446fb4db4e5f84ab79d69cf850d5",
       "version_major": 2,
       "version_minor": 0
      },
      "text/plain": [
       "Drawing 9984 posterior samples:   0%|          | 0/9984 [00:00<?, ?it/s]"
      ]
     },
     "metadata": {},
     "output_type": "display_data"
    },
    {
     "data": {
      "application/vnd.jupyter.widget-view+json": {
       "model_id": "542152d4bc2f417ca19932ba915724d0",
       "version_major": 2,
       "version_minor": 0
      },
      "text/plain": [
       "Drawing 9984 posterior samples:   0%|          | 0/9984 [00:00<?, ?it/s]"
      ]
     },
     "metadata": {},
     "output_type": "display_data"
    },
    {
     "data": {
      "application/vnd.jupyter.widget-view+json": {
       "model_id": "c41a937a1c204d11bba520aa42d3d11e",
       "version_major": 2,
       "version_minor": 0
      },
      "text/plain": [
       "Drawing 9984 posterior samples:   0%|          | 0/9984 [00:00<?, ?it/s]"
      ]
     },
     "metadata": {},
     "output_type": "display_data"
    },
    {
     "data": {
      "application/vnd.jupyter.widget-view+json": {
       "model_id": "532ca7737a874210852da0df2abaab34",
       "version_major": 2,
       "version_minor": 0
      },
      "text/plain": [
       "Drawing 9984 posterior samples:   0%|          | 0/9984 [00:00<?, ?it/s]"
      ]
     },
     "metadata": {},
     "output_type": "display_data"
    },
    {
     "data": {
      "application/vnd.jupyter.widget-view+json": {
       "model_id": "1e6b5b6ea820474597d657dc481f6172",
       "version_major": 2,
       "version_minor": 0
      },
      "text/plain": [
       "Drawing 9984 posterior samples:   0%|          | 0/9984 [00:00<?, ?it/s]"
      ]
     },
     "metadata": {},
     "output_type": "display_data"
    },
    {
     "data": {
      "application/vnd.jupyter.widget-view+json": {
       "model_id": "df6a1f086b84428986358c1ef8c63aaa",
       "version_major": 2,
       "version_minor": 0
      },
      "text/plain": [
       "Drawing 9984 posterior samples:   0%|          | 0/9984 [00:00<?, ?it/s]"
      ]
     },
     "metadata": {},
     "output_type": "display_data"
    },
    {
     "data": {
      "application/vnd.jupyter.widget-view+json": {
       "model_id": "774a4eee5d534a01ac9f1a0c0fb6ded4",
       "version_major": 2,
       "version_minor": 0
      },
      "text/plain": [
       "Drawing 9984 posterior samples:   0%|          | 0/9984 [00:00<?, ?it/s]"
      ]
     },
     "metadata": {},
     "output_type": "display_data"
    },
    {
     "data": {
      "application/vnd.jupyter.widget-view+json": {
       "model_id": "96d52afeb35442d1bfaf1220b8df1fbd",
       "version_major": 2,
       "version_minor": 0
      },
      "text/plain": [
       "Drawing 9984 posterior samples:   0%|          | 0/9984 [00:00<?, ?it/s]"
      ]
     },
     "metadata": {},
     "output_type": "display_data"
    },
    {
     "data": {
      "application/vnd.jupyter.widget-view+json": {
       "model_id": "7e98a3dbd382440d95d2e14e04cb48b3",
       "version_major": 2,
       "version_minor": 0
      },
      "text/plain": [
       "Drawing 9984 posterior samples:   0%|          | 0/9984 [00:00<?, ?it/s]"
      ]
     },
     "metadata": {},
     "output_type": "display_data"
    },
    {
     "data": {
      "application/vnd.jupyter.widget-view+json": {
       "model_id": "c34503966a97402da101fe3173e46b27",
       "version_major": 2,
       "version_minor": 0
      },
      "text/plain": [
       "Drawing 9984 posterior samples:   0%|          | 0/9984 [00:00<?, ?it/s]"
      ]
     },
     "metadata": {},
     "output_type": "display_data"
    },
    {
     "data": {
      "application/vnd.jupyter.widget-view+json": {
       "model_id": "dccacb1d659c4ff68aceda591c7c8ff9",
       "version_major": 2,
       "version_minor": 0
      },
      "text/plain": [
       "Drawing 9984 posterior samples:   0%|          | 0/9984 [00:00<?, ?it/s]"
      ]
     },
     "metadata": {},
     "output_type": "display_data"
    },
    {
     "data": {
      "application/vnd.jupyter.widget-view+json": {
       "model_id": "188d55ef00f24afb8af2e70851a8c3bb",
       "version_major": 2,
       "version_minor": 0
      },
      "text/plain": [
       "Drawing 9984 posterior samples:   0%|          | 0/9984 [00:00<?, ?it/s]"
      ]
     },
     "metadata": {},
     "output_type": "display_data"
    },
    {
     "data": {
      "application/vnd.jupyter.widget-view+json": {
       "model_id": "c5a4318ba8c545208c256bdaf8335a74",
       "version_major": 2,
       "version_minor": 0
      },
      "text/plain": [
       "Drawing 9984 posterior samples:   0%|          | 0/9984 [00:00<?, ?it/s]"
      ]
     },
     "metadata": {},
     "output_type": "display_data"
    },
    {
     "data": {
      "application/vnd.jupyter.widget-view+json": {
       "model_id": "b29f0f7fddaf4f11b1bf126800892a84",
       "version_major": 2,
       "version_minor": 0
      },
      "text/plain": [
       "Drawing 9984 posterior samples:   0%|          | 0/9984 [00:00<?, ?it/s]"
      ]
     },
     "metadata": {},
     "output_type": "display_data"
    },
    {
     "data": {
      "application/vnd.jupyter.widget-view+json": {
       "model_id": "149997547d1f4bdb889a524667363698",
       "version_major": 2,
       "version_minor": 0
      },
      "text/plain": [
       "Drawing 9984 posterior samples:   0%|          | 0/9984 [00:00<?, ?it/s]"
      ]
     },
     "metadata": {},
     "output_type": "display_data"
    },
    {
     "data": {
      "application/vnd.jupyter.widget-view+json": {
       "model_id": "9950779224db4656825ddbdd2bd4e472",
       "version_major": 2,
       "version_minor": 0
      },
      "text/plain": [
       "Drawing 9984 posterior samples:   0%|          | 0/9984 [00:00<?, ?it/s]"
      ]
     },
     "metadata": {},
     "output_type": "display_data"
    },
    {
     "data": {
      "application/vnd.jupyter.widget-view+json": {
       "model_id": "323e5a24ad024bb38b628b15fd7d06af",
       "version_major": 2,
       "version_minor": 0
      },
      "text/plain": [
       "Drawing 9984 posterior samples:   0%|          | 0/9984 [00:00<?, ?it/s]"
      ]
     },
     "metadata": {},
     "output_type": "display_data"
    },
    {
     "data": {
      "application/vnd.jupyter.widget-view+json": {
       "model_id": "f4220003b6954c7d8bf123d5d6194ada",
       "version_major": 2,
       "version_minor": 0
      },
      "text/plain": [
       "Drawing 9984 posterior samples:   0%|          | 0/9984 [00:00<?, ?it/s]"
      ]
     },
     "metadata": {},
     "output_type": "display_data"
    },
    {
     "data": {
      "application/vnd.jupyter.widget-view+json": {
       "model_id": "eeb669ee587b4ef39eb32563536f3911",
       "version_major": 2,
       "version_minor": 0
      },
      "text/plain": [
       "Drawing 9984 posterior samples:   0%|          | 0/9984 [00:00<?, ?it/s]"
      ]
     },
     "metadata": {},
     "output_type": "display_data"
    },
    {
     "data": {
      "application/vnd.jupyter.widget-view+json": {
       "model_id": "0761ed491bef485696f641b8cc749a85",
       "version_major": 2,
       "version_minor": 0
      },
      "text/plain": [
       "Drawing 9984 posterior samples:   0%|          | 0/9984 [00:00<?, ?it/s]"
      ]
     },
     "metadata": {},
     "output_type": "display_data"
    },
    {
     "data": {
      "application/vnd.jupyter.widget-view+json": {
       "model_id": "ceaf622807d44227a4781b3ff92f3aaf",
       "version_major": 2,
       "version_minor": 0
      },
      "text/plain": [
       "Drawing 9984 posterior samples:   0%|          | 0/9984 [00:00<?, ?it/s]"
      ]
     },
     "metadata": {},
     "output_type": "display_data"
    },
    {
     "data": {
      "application/vnd.jupyter.widget-view+json": {
       "model_id": "6f76b6c3a85c41a08160ef09f9c3a3dc",
       "version_major": 2,
       "version_minor": 0
      },
      "text/plain": [
       "Drawing 9984 posterior samples:   0%|          | 0/9984 [00:00<?, ?it/s]"
      ]
     },
     "metadata": {},
     "output_type": "display_data"
    },
    {
     "data": {
      "application/vnd.jupyter.widget-view+json": {
       "model_id": "0bd44d5aee954200abdaf15c143b9a21",
       "version_major": 2,
       "version_minor": 0
      },
      "text/plain": [
       "Drawing 9984 posterior samples:   0%|          | 0/9984 [00:00<?, ?it/s]"
      ]
     },
     "metadata": {},
     "output_type": "display_data"
    },
    {
     "data": {
      "application/vnd.jupyter.widget-view+json": {
       "model_id": "d96ffb52a1054fabaac992666d01113b",
       "version_major": 2,
       "version_minor": 0
      },
      "text/plain": [
       "Drawing 9984 posterior samples:   0%|          | 0/9984 [00:00<?, ?it/s]"
      ]
     },
     "metadata": {},
     "output_type": "display_data"
    },
    {
     "data": {
      "application/vnd.jupyter.widget-view+json": {
       "model_id": "e84a00ba2f6d47b7bddf4d1e56253557",
       "version_major": 2,
       "version_minor": 0
      },
      "text/plain": [
       "Drawing 9984 posterior samples:   0%|          | 0/9984 [00:00<?, ?it/s]"
      ]
     },
     "metadata": {},
     "output_type": "display_data"
    },
    {
     "data": {
      "application/vnd.jupyter.widget-view+json": {
       "model_id": "47c4a7ddbad84f7da2eae22ed214d328",
       "version_major": 2,
       "version_minor": 0
      },
      "text/plain": [
       "Drawing 9984 posterior samples:   0%|          | 0/9984 [00:00<?, ?it/s]"
      ]
     },
     "metadata": {},
     "output_type": "display_data"
    },
    {
     "data": {
      "application/vnd.jupyter.widget-view+json": {
       "model_id": "9436b8a26cbf4bd0b772369b87051d6b",
       "version_major": 2,
       "version_minor": 0
      },
      "text/plain": [
       "Drawing 9984 posterior samples:   0%|          | 0/9984 [00:00<?, ?it/s]"
      ]
     },
     "metadata": {},
     "output_type": "display_data"
    },
    {
     "data": {
      "application/vnd.jupyter.widget-view+json": {
       "model_id": "8a4f2b0724eb401bbd7560e53911c0fc",
       "version_major": 2,
       "version_minor": 0
      },
      "text/plain": [
       "Drawing 9984 posterior samples:   0%|          | 0/9984 [00:00<?, ?it/s]"
      ]
     },
     "metadata": {},
     "output_type": "display_data"
    },
    {
     "data": {
      "application/vnd.jupyter.widget-view+json": {
       "model_id": "08a2fdb2fab94264a80f86d566b0ae15",
       "version_major": 2,
       "version_minor": 0
      },
      "text/plain": [
       "Drawing 9984 posterior samples:   0%|          | 0/9984 [00:00<?, ?it/s]"
      ]
     },
     "metadata": {},
     "output_type": "display_data"
    },
    {
     "data": {
      "application/vnd.jupyter.widget-view+json": {
       "model_id": "21ba5752ea7446778e25c94f476479c4",
       "version_major": 2,
       "version_minor": 0
      },
      "text/plain": [
       "Drawing 9984 posterior samples:   0%|          | 0/9984 [00:00<?, ?it/s]"
      ]
     },
     "metadata": {},
     "output_type": "display_data"
    },
    {
     "data": {
      "application/vnd.jupyter.widget-view+json": {
       "model_id": "c91a62f1884349dd854be846454ee79f",
       "version_major": 2,
       "version_minor": 0
      },
      "text/plain": [
       "Drawing 9984 posterior samples:   0%|          | 0/9984 [00:00<?, ?it/s]"
      ]
     },
     "metadata": {},
     "output_type": "display_data"
    },
    {
     "data": {
      "application/vnd.jupyter.widget-view+json": {
       "model_id": "a7dd39e78fb2462281529de1657050aa",
       "version_major": 2,
       "version_minor": 0
      },
      "text/plain": [
       "Drawing 9984 posterior samples:   0%|          | 0/9984 [00:00<?, ?it/s]"
      ]
     },
     "metadata": {},
     "output_type": "display_data"
    },
    {
     "data": {
      "application/vnd.jupyter.widget-view+json": {
       "model_id": "f2aa0f9638b3488a9886dd69e34bfa41",
       "version_major": 2,
       "version_minor": 0
      },
      "text/plain": [
       "Drawing 9984 posterior samples:   0%|          | 0/9984 [00:00<?, ?it/s]"
      ]
     },
     "metadata": {},
     "output_type": "display_data"
    },
    {
     "data": {
      "application/vnd.jupyter.widget-view+json": {
       "model_id": "bd69ba93fe4f4f258a0267b66be9713a",
       "version_major": 2,
       "version_minor": 0
      },
      "text/plain": [
       "Drawing 9984 posterior samples:   0%|          | 0/9984 [00:00<?, ?it/s]"
      ]
     },
     "metadata": {},
     "output_type": "display_data"
    },
    {
     "data": {
      "application/vnd.jupyter.widget-view+json": {
       "model_id": "b190ae578c5f46a1811849af09373dfb",
       "version_major": 2,
       "version_minor": 0
      },
      "text/plain": [
       "Drawing 9984 posterior samples:   0%|          | 0/9984 [00:00<?, ?it/s]"
      ]
     },
     "metadata": {},
     "output_type": "display_data"
    },
    {
     "data": {
      "application/vnd.jupyter.widget-view+json": {
       "model_id": "1dbcd16d938a4e53942e1256757eabbd",
       "version_major": 2,
       "version_minor": 0
      },
      "text/plain": [
       "Drawing 9984 posterior samples:   0%|          | 0/9984 [00:00<?, ?it/s]"
      ]
     },
     "metadata": {},
     "output_type": "display_data"
    },
    {
     "data": {
      "application/vnd.jupyter.widget-view+json": {
       "model_id": "29fc4c01b7684db4b7763a0ac753cf09",
       "version_major": 2,
       "version_minor": 0
      },
      "text/plain": [
       "Drawing 1024 posterior samples:   0%|          | 0/1024 [00:00<?, ?it/s]"
      ]
     },
     "metadata": {},
     "output_type": "display_data"
    },
    {
     "data": {
      "application/vnd.jupyter.widget-view+json": {
       "model_id": "4b0d0d4fdc6c4d9fa2fa706ee47f835b",
       "version_major": 2,
       "version_minor": 0
      },
      "text/plain": [
       "Drawing 5000 posterior samples:   0%|          | 0/5000 [00:00<?, ?it/s]"
      ]
     },
     "metadata": {},
     "output_type": "display_data"
    },
    {
     "data": {
      "application/vnd.jupyter.widget-view+json": {
       "model_id": "a07a644b630a4d7d8b230ed0b2c443be",
       "version_major": 2,
       "version_minor": 0
      },
      "text/plain": [
       "Drawing 9984 posterior samples:   0%|          | 0/9984 [00:00<?, ?it/s]"
      ]
     },
     "metadata": {},
     "output_type": "display_data"
    },
    {
     "data": {
      "application/vnd.jupyter.widget-view+json": {
       "model_id": "64c737a86496471eb302d5b7984a2209",
       "version_major": 2,
       "version_minor": 0
      },
      "text/plain": [
       "Drawing 9984 posterior samples:   0%|          | 0/9984 [00:00<?, ?it/s]"
      ]
     },
     "metadata": {},
     "output_type": "display_data"
    },
    {
     "data": {
      "application/vnd.jupyter.widget-view+json": {
       "model_id": "9f7cc5552b504958b4baa6069d9bf282",
       "version_major": 2,
       "version_minor": 0
      },
      "text/plain": [
       "Drawing 9984 posterior samples:   0%|          | 0/9984 [00:00<?, ?it/s]"
      ]
     },
     "metadata": {},
     "output_type": "display_data"
    },
    {
     "data": {
      "application/vnd.jupyter.widget-view+json": {
       "model_id": "96bdf99ef77946e3bc53104ee8b68e1e",
       "version_major": 2,
       "version_minor": 0
      },
      "text/plain": [
       "Drawing 9984 posterior samples:   0%|          | 0/9984 [00:00<?, ?it/s]"
      ]
     },
     "metadata": {},
     "output_type": "display_data"
    },
    {
     "data": {
      "application/vnd.jupyter.widget-view+json": {
       "model_id": "f3ac592828ff426abf438479334eb0e7",
       "version_major": 2,
       "version_minor": 0
      },
      "text/plain": [
       "Drawing 9984 posterior samples:   0%|          | 0/9984 [00:00<?, ?it/s]"
      ]
     },
     "metadata": {},
     "output_type": "display_data"
    },
    {
     "data": {
      "application/vnd.jupyter.widget-view+json": {
       "model_id": "34ddd27263f44afcb47957462270c832",
       "version_major": 2,
       "version_minor": 0
      },
      "text/plain": [
       "Drawing 9984 posterior samples:   0%|          | 0/9984 [00:00<?, ?it/s]"
      ]
     },
     "metadata": {},
     "output_type": "display_data"
    },
    {
     "data": {
      "application/vnd.jupyter.widget-view+json": {
       "model_id": "de6f4ce3865e426fa4197798641c5ee5",
       "version_major": 2,
       "version_minor": 0
      },
      "text/plain": [
       "Drawing 9984 posterior samples:   0%|          | 0/9984 [00:00<?, ?it/s]"
      ]
     },
     "metadata": {},
     "output_type": "display_data"
    },
    {
     "data": {
      "application/vnd.jupyter.widget-view+json": {
       "model_id": "904758994df645ffb8aec44a4f8dcba5",
       "version_major": 2,
       "version_minor": 0
      },
      "text/plain": [
       "Drawing 9984 posterior samples:   0%|          | 0/9984 [00:00<?, ?it/s]"
      ]
     },
     "metadata": {},
     "output_type": "display_data"
    },
    {
     "data": {
      "application/vnd.jupyter.widget-view+json": {
       "model_id": "e832554439de4bdf97f92ba3dcb56b78",
       "version_major": 2,
       "version_minor": 0
      },
      "text/plain": [
       "Drawing 9984 posterior samples:   0%|          | 0/9984 [00:00<?, ?it/s]"
      ]
     },
     "metadata": {},
     "output_type": "display_data"
    },
    {
     "data": {
      "application/vnd.jupyter.widget-view+json": {
       "model_id": "a11691a709b646e582ffc90ef2da49f0",
       "version_major": 2,
       "version_minor": 0
      },
      "text/plain": [
       "Drawing 9984 posterior samples:   0%|          | 0/9984 [00:00<?, ?it/s]"
      ]
     },
     "metadata": {},
     "output_type": "display_data"
    },
    {
     "data": {
      "application/vnd.jupyter.widget-view+json": {
       "model_id": "4a7dbbd6d649494c8982be78d76d3b30",
       "version_major": 2,
       "version_minor": 0
      },
      "text/plain": [
       "Drawing 9984 posterior samples:   0%|          | 0/9984 [00:00<?, ?it/s]"
      ]
     },
     "metadata": {},
     "output_type": "display_data"
    },
    {
     "data": {
      "application/vnd.jupyter.widget-view+json": {
       "model_id": "97db2b02c8694793a34cbe7a6f6b9331",
       "version_major": 2,
       "version_minor": 0
      },
      "text/plain": [
       "Drawing 9984 posterior samples:   0%|          | 0/9984 [00:00<?, ?it/s]"
      ]
     },
     "metadata": {},
     "output_type": "display_data"
    },
    {
     "data": {
      "application/vnd.jupyter.widget-view+json": {
       "model_id": "bb7bf594603241d8bf4cd224cb7eec3c",
       "version_major": 2,
       "version_minor": 0
      },
      "text/plain": [
       "Drawing 9984 posterior samples:   0%|          | 0/9984 [00:00<?, ?it/s]"
      ]
     },
     "metadata": {},
     "output_type": "display_data"
    },
    {
     "data": {
      "application/vnd.jupyter.widget-view+json": {
       "model_id": "42d476e8a4c6441b9397e082670a71b6",
       "version_major": 2,
       "version_minor": 0
      },
      "text/plain": [
       "Drawing 9984 posterior samples:   0%|          | 0/9984 [00:00<?, ?it/s]"
      ]
     },
     "metadata": {},
     "output_type": "display_data"
    },
    {
     "data": {
      "application/vnd.jupyter.widget-view+json": {
       "model_id": "5eb4de5ed3b0407bb9db22f524e23a6f",
       "version_major": 2,
       "version_minor": 0
      },
      "text/plain": [
       "Drawing 9984 posterior samples:   0%|          | 0/9984 [00:00<?, ?it/s]"
      ]
     },
     "metadata": {},
     "output_type": "display_data"
    },
    {
     "data": {
      "application/vnd.jupyter.widget-view+json": {
       "model_id": "14e762d798c546e880691298a7cb0bc9",
       "version_major": 2,
       "version_minor": 0
      },
      "text/plain": [
       "Drawing 9984 posterior samples:   0%|          | 0/9984 [00:00<?, ?it/s]"
      ]
     },
     "metadata": {},
     "output_type": "display_data"
    },
    {
     "data": {
      "application/vnd.jupyter.widget-view+json": {
       "model_id": "5f9fa2abcab9470a99a96b867a5f541c",
       "version_major": 2,
       "version_minor": 0
      },
      "text/plain": [
       "Drawing 9984 posterior samples:   0%|          | 0/9984 [00:00<?, ?it/s]"
      ]
     },
     "metadata": {},
     "output_type": "display_data"
    },
    {
     "data": {
      "application/vnd.jupyter.widget-view+json": {
       "model_id": "2321262ed7554396a48ca5325c1f423f",
       "version_major": 2,
       "version_minor": 0
      },
      "text/plain": [
       "Drawing 9984 posterior samples:   0%|          | 0/9984 [00:00<?, ?it/s]"
      ]
     },
     "metadata": {},
     "output_type": "display_data"
    },
    {
     "data": {
      "application/vnd.jupyter.widget-view+json": {
       "model_id": "0d5aa2386d7e468dab755148ad0d25ba",
       "version_major": 2,
       "version_minor": 0
      },
      "text/plain": [
       "Drawing 9984 posterior samples:   0%|          | 0/9984 [00:00<?, ?it/s]"
      ]
     },
     "metadata": {},
     "output_type": "display_data"
    },
    {
     "data": {
      "application/vnd.jupyter.widget-view+json": {
       "model_id": "4b22122c4ec045cab19fae72a0f92f8e",
       "version_major": 2,
       "version_minor": 0
      },
      "text/plain": [
       "Drawing 9984 posterior samples:   0%|          | 0/9984 [00:00<?, ?it/s]"
      ]
     },
     "metadata": {},
     "output_type": "display_data"
    },
    {
     "data": {
      "application/vnd.jupyter.widget-view+json": {
       "model_id": "41d597155a8640ebb7c3ae7f4abe8eb5",
       "version_major": 2,
       "version_minor": 0
      },
      "text/plain": [
       "Drawing 9984 posterior samples:   0%|          | 0/9984 [00:00<?, ?it/s]"
      ]
     },
     "metadata": {},
     "output_type": "display_data"
    },
    {
     "data": {
      "application/vnd.jupyter.widget-view+json": {
       "model_id": "953d0eaa160b4ecb906099489ef41628",
       "version_major": 2,
       "version_minor": 0
      },
      "text/plain": [
       "Drawing 9984 posterior samples:   0%|          | 0/9984 [00:00<?, ?it/s]"
      ]
     },
     "metadata": {},
     "output_type": "display_data"
    },
    {
     "data": {
      "application/vnd.jupyter.widget-view+json": {
       "model_id": "cd3dbbdfa2534c89a6e0ccd22bd29f13",
       "version_major": 2,
       "version_minor": 0
      },
      "text/plain": [
       "Drawing 9984 posterior samples:   0%|          | 0/9984 [00:00<?, ?it/s]"
      ]
     },
     "metadata": {},
     "output_type": "display_data"
    },
    {
     "data": {
      "application/vnd.jupyter.widget-view+json": {
       "model_id": "5d47b5e09acb4c5b82aa06b12fb8876a",
       "version_major": 2,
       "version_minor": 0
      },
      "text/plain": [
       "Drawing 9984 posterior samples:   0%|          | 0/9984 [00:00<?, ?it/s]"
      ]
     },
     "metadata": {},
     "output_type": "display_data"
    },
    {
     "data": {
      "application/vnd.jupyter.widget-view+json": {
       "model_id": "84e23537a4f34630a22c9456a1a7677a",
       "version_major": 2,
       "version_minor": 0
      },
      "text/plain": [
       "Drawing 9984 posterior samples:   0%|          | 0/9984 [00:00<?, ?it/s]"
      ]
     },
     "metadata": {},
     "output_type": "display_data"
    },
    {
     "data": {
      "application/vnd.jupyter.widget-view+json": {
       "model_id": "2e84fada90c544f8b55c2d3bfdf3f1e3",
       "version_major": 2,
       "version_minor": 0
      },
      "text/plain": [
       "Drawing 9984 posterior samples:   0%|          | 0/9984 [00:00<?, ?it/s]"
      ]
     },
     "metadata": {},
     "output_type": "display_data"
    },
    {
     "data": {
      "application/vnd.jupyter.widget-view+json": {
       "model_id": "e7738bdfdac14422a444a72b1687b3c6",
       "version_major": 2,
       "version_minor": 0
      },
      "text/plain": [
       "Drawing 9984 posterior samples:   0%|          | 0/9984 [00:00<?, ?it/s]"
      ]
     },
     "metadata": {},
     "output_type": "display_data"
    },
    {
     "data": {
      "application/vnd.jupyter.widget-view+json": {
       "model_id": "0f9b5e7c3156424bb2990df1a100ac4e",
       "version_major": 2,
       "version_minor": 0
      },
      "text/plain": [
       "Drawing 9984 posterior samples:   0%|          | 0/9984 [00:00<?, ?it/s]"
      ]
     },
     "metadata": {},
     "output_type": "display_data"
    },
    {
     "data": {
      "application/vnd.jupyter.widget-view+json": {
       "model_id": "9e36eb66d3894367a3e6c1917e07fdb9",
       "version_major": 2,
       "version_minor": 0
      },
      "text/plain": [
       "Drawing 9984 posterior samples:   0%|          | 0/9984 [00:00<?, ?it/s]"
      ]
     },
     "metadata": {},
     "output_type": "display_data"
    },
    {
     "data": {
      "application/vnd.jupyter.widget-view+json": {
       "model_id": "9e11909b5bae4cc9a631fa54ba1fffe7",
       "version_major": 2,
       "version_minor": 0
      },
      "text/plain": [
       "Drawing 9984 posterior samples:   0%|          | 0/9984 [00:00<?, ?it/s]"
      ]
     },
     "metadata": {},
     "output_type": "display_data"
    },
    {
     "data": {
      "application/vnd.jupyter.widget-view+json": {
       "model_id": "4468e1d9f8ba47c9a098746d732a31e6",
       "version_major": 2,
       "version_minor": 0
      },
      "text/plain": [
       "Drawing 9984 posterior samples:   0%|          | 0/9984 [00:00<?, ?it/s]"
      ]
     },
     "metadata": {},
     "output_type": "display_data"
    },
    {
     "data": {
      "application/vnd.jupyter.widget-view+json": {
       "model_id": "9071532c7e144a98b212ebe1795b282e",
       "version_major": 2,
       "version_minor": 0
      },
      "text/plain": [
       "Drawing 9984 posterior samples:   0%|          | 0/9984 [00:00<?, ?it/s]"
      ]
     },
     "metadata": {},
     "output_type": "display_data"
    },
    {
     "data": {
      "application/vnd.jupyter.widget-view+json": {
       "model_id": "ddca98b688404ae391aa6d2c3d191904",
       "version_major": 2,
       "version_minor": 0
      },
      "text/plain": [
       "Drawing 9984 posterior samples:   0%|          | 0/9984 [00:00<?, ?it/s]"
      ]
     },
     "metadata": {},
     "output_type": "display_data"
    },
    {
     "data": {
      "application/vnd.jupyter.widget-view+json": {
       "model_id": "a6da880abb4f449987c00e23eef0426b",
       "version_major": 2,
       "version_minor": 0
      },
      "text/plain": [
       "Drawing 9984 posterior samples:   0%|          | 0/9984 [00:00<?, ?it/s]"
      ]
     },
     "metadata": {},
     "output_type": "display_data"
    },
    {
     "data": {
      "application/vnd.jupyter.widget-view+json": {
       "model_id": "4f793da59528432eb84bbfaa704fe04c",
       "version_major": 2,
       "version_minor": 0
      },
      "text/plain": [
       "Drawing 9984 posterior samples:   0%|          | 0/9984 [00:00<?, ?it/s]"
      ]
     },
     "metadata": {},
     "output_type": "display_data"
    },
    {
     "data": {
      "application/vnd.jupyter.widget-view+json": {
       "model_id": "1f4ba24f35854100b03d51a6be468048",
       "version_major": 2,
       "version_minor": 0
      },
      "text/plain": [
       "Drawing 9984 posterior samples:   0%|          | 0/9984 [00:00<?, ?it/s]"
      ]
     },
     "metadata": {},
     "output_type": "display_data"
    },
    {
     "data": {
      "application/vnd.jupyter.widget-view+json": {
       "model_id": "3e4ce1ae02de4725a334ff1ff4a4a657",
       "version_major": 2,
       "version_minor": 0
      },
      "text/plain": [
       "Drawing 9984 posterior samples:   0%|          | 0/9984 [00:00<?, ?it/s]"
      ]
     },
     "metadata": {},
     "output_type": "display_data"
    },
    {
     "data": {
      "application/vnd.jupyter.widget-view+json": {
       "model_id": "25edb27ef2ee4a3bbea5fd1117b99f7a",
       "version_major": 2,
       "version_minor": 0
      },
      "text/plain": [
       "Drawing 9984 posterior samples:   0%|          | 0/9984 [00:00<?, ?it/s]"
      ]
     },
     "metadata": {},
     "output_type": "display_data"
    },
    {
     "data": {
      "application/vnd.jupyter.widget-view+json": {
       "model_id": "04888a9ed4be45449e9bec363587c761",
       "version_major": 2,
       "version_minor": 0
      },
      "text/plain": [
       "Drawing 9984 posterior samples:   0%|          | 0/9984 [00:00<?, ?it/s]"
      ]
     },
     "metadata": {},
     "output_type": "display_data"
    },
    {
     "data": {
      "application/vnd.jupyter.widget-view+json": {
       "model_id": "3613ebba9aa24952ae0a86ccaf6868d2",
       "version_major": 2,
       "version_minor": 0
      },
      "text/plain": [
       "Drawing 9984 posterior samples:   0%|          | 0/9984 [00:00<?, ?it/s]"
      ]
     },
     "metadata": {},
     "output_type": "display_data"
    },
    {
     "data": {
      "application/vnd.jupyter.widget-view+json": {
       "model_id": "6d9f5ae0de814908acf9fd2a7ace56c6",
       "version_major": 2,
       "version_minor": 0
      },
      "text/plain": [
       "Drawing 9984 posterior samples:   0%|          | 0/9984 [00:00<?, ?it/s]"
      ]
     },
     "metadata": {},
     "output_type": "display_data"
    },
    {
     "data": {
      "application/vnd.jupyter.widget-view+json": {
       "model_id": "ff046e1da61048dd8e223c300cefd093",
       "version_major": 2,
       "version_minor": 0
      },
      "text/plain": [
       "Drawing 9984 posterior samples:   0%|          | 0/9984 [00:00<?, ?it/s]"
      ]
     },
     "metadata": {},
     "output_type": "display_data"
    },
    {
     "data": {
      "application/vnd.jupyter.widget-view+json": {
       "model_id": "7778b87dc7f04d7c8ed7ec6df509fba0",
       "version_major": 2,
       "version_minor": 0
      },
      "text/plain": [
       "Drawing 9984 posterior samples:   0%|          | 0/9984 [00:00<?, ?it/s]"
      ]
     },
     "metadata": {},
     "output_type": "display_data"
    },
    {
     "data": {
      "application/vnd.jupyter.widget-view+json": {
       "model_id": "e1e0bcfead474bfdae99bcd9c5034b60",
       "version_major": 2,
       "version_minor": 0
      },
      "text/plain": [
       "Drawing 9984 posterior samples:   0%|          | 0/9984 [00:00<?, ?it/s]"
      ]
     },
     "metadata": {},
     "output_type": "display_data"
    },
    {
     "data": {
      "application/vnd.jupyter.widget-view+json": {
       "model_id": "0317b6bee629478ca14cfa04c5f6ab42",
       "version_major": 2,
       "version_minor": 0
      },
      "text/plain": [
       "Drawing 9984 posterior samples:   0%|          | 0/9984 [00:00<?, ?it/s]"
      ]
     },
     "metadata": {},
     "output_type": "display_data"
    },
    {
     "data": {
      "application/vnd.jupyter.widget-view+json": {
       "model_id": "f502cbf9c52f4d588f5e0d341f6235d0",
       "version_major": 2,
       "version_minor": 0
      },
      "text/plain": [
       "Drawing 9984 posterior samples:   0%|          | 0/9984 [00:00<?, ?it/s]"
      ]
     },
     "metadata": {},
     "output_type": "display_data"
    },
    {
     "data": {
      "application/vnd.jupyter.widget-view+json": {
       "model_id": "00467b495e9248419ed518c02c78da88",
       "version_major": 2,
       "version_minor": 0
      },
      "text/plain": [
       "Drawing 9984 posterior samples:   0%|          | 0/9984 [00:00<?, ?it/s]"
      ]
     },
     "metadata": {},
     "output_type": "display_data"
    },
    {
     "data": {
      "application/vnd.jupyter.widget-view+json": {
       "model_id": "6caa01097eda4be59c6334db8322b194",
       "version_major": 2,
       "version_minor": 0
      },
      "text/plain": [
       "Drawing 9984 posterior samples:   0%|          | 0/9984 [00:00<?, ?it/s]"
      ]
     },
     "metadata": {},
     "output_type": "display_data"
    },
    {
     "data": {
      "application/vnd.jupyter.widget-view+json": {
       "model_id": "942026af49ff4e3ca1e4c4b0db95983a",
       "version_major": 2,
       "version_minor": 0
      },
      "text/plain": [
       "Drawing 9984 posterior samples:   0%|          | 0/9984 [00:00<?, ?it/s]"
      ]
     },
     "metadata": {},
     "output_type": "display_data"
    },
    {
     "data": {
      "application/vnd.jupyter.widget-view+json": {
       "model_id": "bde5dc6654a844b784b691ca8bcfedbc",
       "version_major": 2,
       "version_minor": 0
      },
      "text/plain": [
       "Drawing 9984 posterior samples:   0%|          | 0/9984 [00:00<?, ?it/s]"
      ]
     },
     "metadata": {},
     "output_type": "display_data"
    },
    {
     "data": {
      "application/vnd.jupyter.widget-view+json": {
       "model_id": "836ce71d20384f8d8f028a9f06c282d4",
       "version_major": 2,
       "version_minor": 0
      },
      "text/plain": [
       "Drawing 9984 posterior samples:   0%|          | 0/9984 [00:00<?, ?it/s]"
      ]
     },
     "metadata": {},
     "output_type": "display_data"
    },
    {
     "data": {
      "application/vnd.jupyter.widget-view+json": {
       "model_id": "5f56b4a40d1f464386b3dd1432400695",
       "version_major": 2,
       "version_minor": 0
      },
      "text/plain": [
       "Drawing 9984 posterior samples:   0%|          | 0/9984 [00:00<?, ?it/s]"
      ]
     },
     "metadata": {},
     "output_type": "display_data"
    },
    {
     "data": {
      "application/vnd.jupyter.widget-view+json": {
       "model_id": "0820593e5a3a47c0891fc9629d8807c3",
       "version_major": 2,
       "version_minor": 0
      },
      "text/plain": [
       "Drawing 9984 posterior samples:   0%|          | 0/9984 [00:00<?, ?it/s]"
      ]
     },
     "metadata": {},
     "output_type": "display_data"
    },
    {
     "data": {
      "application/vnd.jupyter.widget-view+json": {
       "model_id": "e68296d01d454926bf0b496c56f85788",
       "version_major": 2,
       "version_minor": 0
      },
      "text/plain": [
       "Drawing 9984 posterior samples:   0%|          | 0/9984 [00:00<?, ?it/s]"
      ]
     },
     "metadata": {},
     "output_type": "display_data"
    },
    {
     "data": {
      "application/vnd.jupyter.widget-view+json": {
       "model_id": "3154b335166c4de8a480d0e357a6092a",
       "version_major": 2,
       "version_minor": 0
      },
      "text/plain": [
       "Drawing 9984 posterior samples:   0%|          | 0/9984 [00:00<?, ?it/s]"
      ]
     },
     "metadata": {},
     "output_type": "display_data"
    },
    {
     "data": {
      "application/vnd.jupyter.widget-view+json": {
       "model_id": "ee06b7d150374330b260e3f0d766eb4c",
       "version_major": 2,
       "version_minor": 0
      },
      "text/plain": [
       "Drawing 9984 posterior samples:   0%|          | 0/9984 [00:00<?, ?it/s]"
      ]
     },
     "metadata": {},
     "output_type": "display_data"
    },
    {
     "data": {
      "application/vnd.jupyter.widget-view+json": {
       "model_id": "b6a6ca48802c4f06a626b87c1f969dba",
       "version_major": 2,
       "version_minor": 0
      },
      "text/plain": [
       "Drawing 9984 posterior samples:   0%|          | 0/9984 [00:00<?, ?it/s]"
      ]
     },
     "metadata": {},
     "output_type": "display_data"
    },
    {
     "data": {
      "application/vnd.jupyter.widget-view+json": {
       "model_id": "e17ceaabfb4f404cac3c3c8f773d9768",
       "version_major": 2,
       "version_minor": 0
      },
      "text/plain": [
       "Drawing 9984 posterior samples:   0%|          | 0/9984 [00:00<?, ?it/s]"
      ]
     },
     "metadata": {},
     "output_type": "display_data"
    },
    {
     "data": {
      "application/vnd.jupyter.widget-view+json": {
       "model_id": "9857b408ee37403e9de38923c457ac44",
       "version_major": 2,
       "version_minor": 0
      },
      "text/plain": [
       "Drawing 9984 posterior samples:   0%|          | 0/9984 [00:00<?, ?it/s]"
      ]
     },
     "metadata": {},
     "output_type": "display_data"
    },
    {
     "data": {
      "application/vnd.jupyter.widget-view+json": {
       "model_id": "909e709b6b314ae4a3584cef8e825718",
       "version_major": 2,
       "version_minor": 0
      },
      "text/plain": [
       "Drawing 9984 posterior samples:   0%|          | 0/9984 [00:00<?, ?it/s]"
      ]
     },
     "metadata": {},
     "output_type": "display_data"
    },
    {
     "data": {
      "application/vnd.jupyter.widget-view+json": {
       "model_id": "d924412ce87d4e8e897696035f414603",
       "version_major": 2,
       "version_minor": 0
      },
      "text/plain": [
       "Drawing 9984 posterior samples:   0%|          | 0/9984 [00:00<?, ?it/s]"
      ]
     },
     "metadata": {},
     "output_type": "display_data"
    },
    {
     "data": {
      "application/vnd.jupyter.widget-view+json": {
       "model_id": "5bc7642fe6bf46269cfff3c0b62d2e13",
       "version_major": 2,
       "version_minor": 0
      },
      "text/plain": [
       "Drawing 9984 posterior samples:   0%|          | 0/9984 [00:00<?, ?it/s]"
      ]
     },
     "metadata": {},
     "output_type": "display_data"
    },
    {
     "data": {
      "application/vnd.jupyter.widget-view+json": {
       "model_id": "5d13c7f1929e4025b7e98073b88fd4f6",
       "version_major": 2,
       "version_minor": 0
      },
      "text/plain": [
       "Drawing 9984 posterior samples:   0%|          | 0/9984 [00:00<?, ?it/s]"
      ]
     },
     "metadata": {},
     "output_type": "display_data"
    },
    {
     "data": {
      "application/vnd.jupyter.widget-view+json": {
       "model_id": "c68a8815217049b7903661abbd68b46f",
       "version_major": 2,
       "version_minor": 0
      },
      "text/plain": [
       "Drawing 9984 posterior samples:   0%|          | 0/9984 [00:00<?, ?it/s]"
      ]
     },
     "metadata": {},
     "output_type": "display_data"
    },
    {
     "data": {
      "application/vnd.jupyter.widget-view+json": {
       "model_id": "ceef070a389f4d21b48c5723840aabe6",
       "version_major": 2,
       "version_minor": 0
      },
      "text/plain": [
       "Drawing 1024 posterior samples:   0%|          | 0/1024 [00:00<?, ?it/s]"
      ]
     },
     "metadata": {},
     "output_type": "display_data"
    },
    {
     "data": {
      "application/vnd.jupyter.widget-view+json": {
       "model_id": "45eea2b7a67e401e8d38102851a5ff9c",
       "version_major": 2,
       "version_minor": 0
      },
      "text/plain": [
       "Drawing 5000 posterior samples:   0%|          | 0/5000 [00:00<?, ?it/s]"
      ]
     },
     "metadata": {},
     "output_type": "display_data"
    },
    {
     "data": {
      "application/vnd.jupyter.widget-view+json": {
       "model_id": "5e85ac341710466cb6a4d6ec31d83655",
       "version_major": 2,
       "version_minor": 0
      },
      "text/plain": [
       "Drawing 9984 posterior samples:   0%|          | 0/9984 [00:00<?, ?it/s]"
      ]
     },
     "metadata": {},
     "output_type": "display_data"
    },
    {
     "data": {
      "application/vnd.jupyter.widget-view+json": {
       "model_id": "f7d5198e141d40f3958ae53e8fbd0aba",
       "version_major": 2,
       "version_minor": 0
      },
      "text/plain": [
       "Drawing 9984 posterior samples:   0%|          | 0/9984 [00:00<?, ?it/s]"
      ]
     },
     "metadata": {},
     "output_type": "display_data"
    },
    {
     "data": {
      "application/vnd.jupyter.widget-view+json": {
       "model_id": "0ac87fa7e83147ad9747bdee095a6da6",
       "version_major": 2,
       "version_minor": 0
      },
      "text/plain": [
       "Drawing 9984 posterior samples:   0%|          | 0/9984 [00:00<?, ?it/s]"
      ]
     },
     "metadata": {},
     "output_type": "display_data"
    },
    {
     "data": {
      "application/vnd.jupyter.widget-view+json": {
       "model_id": "d7db1b05cd294bdba7a4979e4a758495",
       "version_major": 2,
       "version_minor": 0
      },
      "text/plain": [
       "Drawing 9984 posterior samples:   0%|          | 0/9984 [00:00<?, ?it/s]"
      ]
     },
     "metadata": {},
     "output_type": "display_data"
    },
    {
     "data": {
      "application/vnd.jupyter.widget-view+json": {
       "model_id": "7371d8f5763d446aa3281ff97b0e4afa",
       "version_major": 2,
       "version_minor": 0
      },
      "text/plain": [
       "Drawing 9984 posterior samples:   0%|          | 0/9984 [00:00<?, ?it/s]"
      ]
     },
     "metadata": {},
     "output_type": "display_data"
    },
    {
     "data": {
      "application/vnd.jupyter.widget-view+json": {
       "model_id": "bdc0c79b98474cc2b6892621ff889695",
       "version_major": 2,
       "version_minor": 0
      },
      "text/plain": [
       "Drawing 9984 posterior samples:   0%|          | 0/9984 [00:00<?, ?it/s]"
      ]
     },
     "metadata": {},
     "output_type": "display_data"
    },
    {
     "data": {
      "application/vnd.jupyter.widget-view+json": {
       "model_id": "613e266b921d4b16b9b58c57e39049b2",
       "version_major": 2,
       "version_minor": 0
      },
      "text/plain": [
       "Drawing 9984 posterior samples:   0%|          | 0/9984 [00:00<?, ?it/s]"
      ]
     },
     "metadata": {},
     "output_type": "display_data"
    },
    {
     "data": {
      "application/vnd.jupyter.widget-view+json": {
       "model_id": "039d34ff73a24dd0a81e7a38aa768cfe",
       "version_major": 2,
       "version_minor": 0
      },
      "text/plain": [
       "Drawing 9984 posterior samples:   0%|          | 0/9984 [00:00<?, ?it/s]"
      ]
     },
     "metadata": {},
     "output_type": "display_data"
    },
    {
     "data": {
      "application/vnd.jupyter.widget-view+json": {
       "model_id": "970a755fd2c048819eb10354864c30c1",
       "version_major": 2,
       "version_minor": 0
      },
      "text/plain": [
       "Drawing 9984 posterior samples:   0%|          | 0/9984 [00:00<?, ?it/s]"
      ]
     },
     "metadata": {},
     "output_type": "display_data"
    },
    {
     "data": {
      "application/vnd.jupyter.widget-view+json": {
       "model_id": "a0d3d0b7457146c0be9536ff971cdd6e",
       "version_major": 2,
       "version_minor": 0
      },
      "text/plain": [
       "Drawing 9984 posterior samples:   0%|          | 0/9984 [00:00<?, ?it/s]"
      ]
     },
     "metadata": {},
     "output_type": "display_data"
    },
    {
     "data": {
      "application/vnd.jupyter.widget-view+json": {
       "model_id": "5490695ebf7d4501a1d0dca5b23db138",
       "version_major": 2,
       "version_minor": 0
      },
      "text/plain": [
       "Drawing 9984 posterior samples:   0%|          | 0/9984 [00:00<?, ?it/s]"
      ]
     },
     "metadata": {},
     "output_type": "display_data"
    },
    {
     "data": {
      "application/vnd.jupyter.widget-view+json": {
       "model_id": "8eed6d079e89481fae9669303dadc877",
       "version_major": 2,
       "version_minor": 0
      },
      "text/plain": [
       "Drawing 9984 posterior samples:   0%|          | 0/9984 [00:00<?, ?it/s]"
      ]
     },
     "metadata": {},
     "output_type": "display_data"
    },
    {
     "data": {
      "application/vnd.jupyter.widget-view+json": {
       "model_id": "0b85c1a4f4f5413aaf22cfc5404177ad",
       "version_major": 2,
       "version_minor": 0
      },
      "text/plain": [
       "Drawing 9984 posterior samples:   0%|          | 0/9984 [00:00<?, ?it/s]"
      ]
     },
     "metadata": {},
     "output_type": "display_data"
    },
    {
     "data": {
      "application/vnd.jupyter.widget-view+json": {
       "model_id": "8cd3362f63e0409d8c14125f55317eed",
       "version_major": 2,
       "version_minor": 0
      },
      "text/plain": [
       "Drawing 9984 posterior samples:   0%|          | 0/9984 [00:00<?, ?it/s]"
      ]
     },
     "metadata": {},
     "output_type": "display_data"
    },
    {
     "data": {
      "application/vnd.jupyter.widget-view+json": {
       "model_id": "969cfc84ff584669af5f1af7440e43c3",
       "version_major": 2,
       "version_minor": 0
      },
      "text/plain": [
       "Drawing 9984 posterior samples:   0%|          | 0/9984 [00:00<?, ?it/s]"
      ]
     },
     "metadata": {},
     "output_type": "display_data"
    },
    {
     "data": {
      "application/vnd.jupyter.widget-view+json": {
       "model_id": "96f9f6537b644cb593c159af21979e3f",
       "version_major": 2,
       "version_minor": 0
      },
      "text/plain": [
       "Drawing 9984 posterior samples:   0%|          | 0/9984 [00:00<?, ?it/s]"
      ]
     },
     "metadata": {},
     "output_type": "display_data"
    },
    {
     "data": {
      "application/vnd.jupyter.widget-view+json": {
       "model_id": "5598fb6c48394e438fd0256cd15bcf36",
       "version_major": 2,
       "version_minor": 0
      },
      "text/plain": [
       "Drawing 9984 posterior samples:   0%|          | 0/9984 [00:00<?, ?it/s]"
      ]
     },
     "metadata": {},
     "output_type": "display_data"
    },
    {
     "data": {
      "application/vnd.jupyter.widget-view+json": {
       "model_id": "634e75c373f64110ae99a6744aa1341c",
       "version_major": 2,
       "version_minor": 0
      },
      "text/plain": [
       "Drawing 9984 posterior samples:   0%|          | 0/9984 [00:00<?, ?it/s]"
      ]
     },
     "metadata": {},
     "output_type": "display_data"
    },
    {
     "data": {
      "application/vnd.jupyter.widget-view+json": {
       "model_id": "38f314c2482445f4916f9701aac5f6cf",
       "version_major": 2,
       "version_minor": 0
      },
      "text/plain": [
       "Drawing 9984 posterior samples:   0%|          | 0/9984 [00:00<?, ?it/s]"
      ]
     },
     "metadata": {},
     "output_type": "display_data"
    },
    {
     "data": {
      "application/vnd.jupyter.widget-view+json": {
       "model_id": "10aaa42f5b8b437fb9681dda54b6ba40",
       "version_major": 2,
       "version_minor": 0
      },
      "text/plain": [
       "Drawing 9984 posterior samples:   0%|          | 0/9984 [00:00<?, ?it/s]"
      ]
     },
     "metadata": {},
     "output_type": "display_data"
    },
    {
     "data": {
      "application/vnd.jupyter.widget-view+json": {
       "model_id": "39a9536d983540e8a3fae684800ef185",
       "version_major": 2,
       "version_minor": 0
      },
      "text/plain": [
       "Drawing 9984 posterior samples:   0%|          | 0/9984 [00:00<?, ?it/s]"
      ]
     },
     "metadata": {},
     "output_type": "display_data"
    },
    {
     "data": {
      "application/vnd.jupyter.widget-view+json": {
       "model_id": "ae640d8800b24badb91b6f8ae3284fd3",
       "version_major": 2,
       "version_minor": 0
      },
      "text/plain": [
       "Drawing 9984 posterior samples:   0%|          | 0/9984 [00:00<?, ?it/s]"
      ]
     },
     "metadata": {},
     "output_type": "display_data"
    },
    {
     "data": {
      "application/vnd.jupyter.widget-view+json": {
       "model_id": "7a657f253d404b16b1c7f8bfe24d058b",
       "version_major": 2,
       "version_minor": 0
      },
      "text/plain": [
       "Drawing 9984 posterior samples:   0%|          | 0/9984 [00:00<?, ?it/s]"
      ]
     },
     "metadata": {},
     "output_type": "display_data"
    },
    {
     "data": {
      "application/vnd.jupyter.widget-view+json": {
       "model_id": "1e8b68962220472f9a7d84771f5905da",
       "version_major": 2,
       "version_minor": 0
      },
      "text/plain": [
       "Drawing 9984 posterior samples:   0%|          | 0/9984 [00:00<?, ?it/s]"
      ]
     },
     "metadata": {},
     "output_type": "display_data"
    },
    {
     "data": {
      "application/vnd.jupyter.widget-view+json": {
       "model_id": "35c4e125091649dbad5b44dff2486b67",
       "version_major": 2,
       "version_minor": 0
      },
      "text/plain": [
       "Drawing 9984 posterior samples:   0%|          | 0/9984 [00:00<?, ?it/s]"
      ]
     },
     "metadata": {},
     "output_type": "display_data"
    },
    {
     "data": {
      "application/vnd.jupyter.widget-view+json": {
       "model_id": "f8e81cdea9344f25ac5bf667b22cab55",
       "version_major": 2,
       "version_minor": 0
      },
      "text/plain": [
       "Drawing 9984 posterior samples:   0%|          | 0/9984 [00:00<?, ?it/s]"
      ]
     },
     "metadata": {},
     "output_type": "display_data"
    },
    {
     "data": {
      "application/vnd.jupyter.widget-view+json": {
       "model_id": "720e65c47ca343d0b51eea14f002d407",
       "version_major": 2,
       "version_minor": 0
      },
      "text/plain": [
       "Drawing 9984 posterior samples:   0%|          | 0/9984 [00:00<?, ?it/s]"
      ]
     },
     "metadata": {},
     "output_type": "display_data"
    },
    {
     "data": {
      "application/vnd.jupyter.widget-view+json": {
       "model_id": "349bac075bca4eef93202b3e3ecf4d53",
       "version_major": 2,
       "version_minor": 0
      },
      "text/plain": [
       "Drawing 9984 posterior samples:   0%|          | 0/9984 [00:00<?, ?it/s]"
      ]
     },
     "metadata": {},
     "output_type": "display_data"
    },
    {
     "data": {
      "application/vnd.jupyter.widget-view+json": {
       "model_id": "dca04b2b23674a8aab78eab48a0e24be",
       "version_major": 2,
       "version_minor": 0
      },
      "text/plain": [
       "Drawing 9984 posterior samples:   0%|          | 0/9984 [00:00<?, ?it/s]"
      ]
     },
     "metadata": {},
     "output_type": "display_data"
    },
    {
     "data": {
      "application/vnd.jupyter.widget-view+json": {
       "model_id": "c1c41de393064a43b924c56086f7bb9f",
       "version_major": 2,
       "version_minor": 0
      },
      "text/plain": [
       "Drawing 9984 posterior samples:   0%|          | 0/9984 [00:00<?, ?it/s]"
      ]
     },
     "metadata": {},
     "output_type": "display_data"
    },
    {
     "data": {
      "application/vnd.jupyter.widget-view+json": {
       "model_id": "533435e92e9c493299e7294c1d0992f0",
       "version_major": 2,
       "version_minor": 0
      },
      "text/plain": [
       "Drawing 9984 posterior samples:   0%|          | 0/9984 [00:00<?, ?it/s]"
      ]
     },
     "metadata": {},
     "output_type": "display_data"
    },
    {
     "data": {
      "application/vnd.jupyter.widget-view+json": {
       "model_id": "48f68128c5c0447aa7d3d48d185935a7",
       "version_major": 2,
       "version_minor": 0
      },
      "text/plain": [
       "Drawing 9984 posterior samples:   0%|          | 0/9984 [00:00<?, ?it/s]"
      ]
     },
     "metadata": {},
     "output_type": "display_data"
    },
    {
     "data": {
      "application/vnd.jupyter.widget-view+json": {
       "model_id": "5dd3c473080742cb8015f91b1884b6fa",
       "version_major": 2,
       "version_minor": 0
      },
      "text/plain": [
       "Drawing 9984 posterior samples:   0%|          | 0/9984 [00:00<?, ?it/s]"
      ]
     },
     "metadata": {},
     "output_type": "display_data"
    },
    {
     "data": {
      "application/vnd.jupyter.widget-view+json": {
       "model_id": "e9a134aac13b4c0ba4c334f37487641c",
       "version_major": 2,
       "version_minor": 0
      },
      "text/plain": [
       "Drawing 9984 posterior samples:   0%|          | 0/9984 [00:00<?, ?it/s]"
      ]
     },
     "metadata": {},
     "output_type": "display_data"
    },
    {
     "data": {
      "application/vnd.jupyter.widget-view+json": {
       "model_id": "4186d238a0364c46b123967116ecc0bf",
       "version_major": 2,
       "version_minor": 0
      },
      "text/plain": [
       "Drawing 9984 posterior samples:   0%|          | 0/9984 [00:00<?, ?it/s]"
      ]
     },
     "metadata": {},
     "output_type": "display_data"
    },
    {
     "data": {
      "application/vnd.jupyter.widget-view+json": {
       "model_id": "8508bbf8b2d340868e09e9d298e19c09",
       "version_major": 2,
       "version_minor": 0
      },
      "text/plain": [
       "Drawing 9984 posterior samples:   0%|          | 0/9984 [00:00<?, ?it/s]"
      ]
     },
     "metadata": {},
     "output_type": "display_data"
    },
    {
     "data": {
      "application/vnd.jupyter.widget-view+json": {
       "model_id": "1f513beb5f3946a9904e93c8b882a2a3",
       "version_major": 2,
       "version_minor": 0
      },
      "text/plain": [
       "Drawing 9984 posterior samples:   0%|          | 0/9984 [00:00<?, ?it/s]"
      ]
     },
     "metadata": {},
     "output_type": "display_data"
    },
    {
     "data": {
      "application/vnd.jupyter.widget-view+json": {
       "model_id": "6c31fc516c544c079dbdb352a11facf6",
       "version_major": 2,
       "version_minor": 0
      },
      "text/plain": [
       "Drawing 9984 posterior samples:   0%|          | 0/9984 [00:00<?, ?it/s]"
      ]
     },
     "metadata": {},
     "output_type": "display_data"
    },
    {
     "data": {
      "application/vnd.jupyter.widget-view+json": {
       "model_id": "618ddc8000a54b269984a3cd463d461b",
       "version_major": 2,
       "version_minor": 0
      },
      "text/plain": [
       "Drawing 9984 posterior samples:   0%|          | 0/9984 [00:00<?, ?it/s]"
      ]
     },
     "metadata": {},
     "output_type": "display_data"
    },
    {
     "data": {
      "application/vnd.jupyter.widget-view+json": {
       "model_id": "4ac591cbe3714d608b21787d25c45c8f",
       "version_major": 2,
       "version_minor": 0
      },
      "text/plain": [
       "Drawing 9984 posterior samples:   0%|          | 0/9984 [00:00<?, ?it/s]"
      ]
     },
     "metadata": {},
     "output_type": "display_data"
    },
    {
     "data": {
      "application/vnd.jupyter.widget-view+json": {
       "model_id": "27c5eacce66b4686a4d4ee7ee533e5d5",
       "version_major": 2,
       "version_minor": 0
      },
      "text/plain": [
       "Drawing 9984 posterior samples:   0%|          | 0/9984 [00:00<?, ?it/s]"
      ]
     },
     "metadata": {},
     "output_type": "display_data"
    },
    {
     "data": {
      "application/vnd.jupyter.widget-view+json": {
       "model_id": "4b839036ffb34cf7bc6df2ecc52440d6",
       "version_major": 2,
       "version_minor": 0
      },
      "text/plain": [
       "Drawing 9984 posterior samples:   0%|          | 0/9984 [00:00<?, ?it/s]"
      ]
     },
     "metadata": {},
     "output_type": "display_data"
    },
    {
     "data": {
      "application/vnd.jupyter.widget-view+json": {
       "model_id": "474ea3f44b3f4c58835abbf4271a63c3",
       "version_major": 2,
       "version_minor": 0
      },
      "text/plain": [
       "Drawing 9984 posterior samples:   0%|          | 0/9984 [00:00<?, ?it/s]"
      ]
     },
     "metadata": {},
     "output_type": "display_data"
    },
    {
     "data": {
      "application/vnd.jupyter.widget-view+json": {
       "model_id": "782c710900654fba8fd302de527f7744",
       "version_major": 2,
       "version_minor": 0
      },
      "text/plain": [
       "Drawing 9984 posterior samples:   0%|          | 0/9984 [00:00<?, ?it/s]"
      ]
     },
     "metadata": {},
     "output_type": "display_data"
    },
    {
     "data": {
      "application/vnd.jupyter.widget-view+json": {
       "model_id": "c854f983d1164db68c3bbe4098790686",
       "version_major": 2,
       "version_minor": 0
      },
      "text/plain": [
       "Drawing 9984 posterior samples:   0%|          | 0/9984 [00:00<?, ?it/s]"
      ]
     },
     "metadata": {},
     "output_type": "display_data"
    },
    {
     "data": {
      "application/vnd.jupyter.widget-view+json": {
       "model_id": "0cfc7185176845389beb64c03b877cd7",
       "version_major": 2,
       "version_minor": 0
      },
      "text/plain": [
       "Drawing 9984 posterior samples:   0%|          | 0/9984 [00:00<?, ?it/s]"
      ]
     },
     "metadata": {},
     "output_type": "display_data"
    },
    {
     "data": {
      "application/vnd.jupyter.widget-view+json": {
       "model_id": "0e8a4de703244aa0a828a91c6cf52369",
       "version_major": 2,
       "version_minor": 0
      },
      "text/plain": [
       "Drawing 9984 posterior samples:   0%|          | 0/9984 [00:00<?, ?it/s]"
      ]
     },
     "metadata": {},
     "output_type": "display_data"
    },
    {
     "data": {
      "application/vnd.jupyter.widget-view+json": {
       "model_id": "40695ad737fe4bdf833ab09d04b45836",
       "version_major": 2,
       "version_minor": 0
      },
      "text/plain": [
       "Drawing 9984 posterior samples:   0%|          | 0/9984 [00:00<?, ?it/s]"
      ]
     },
     "metadata": {},
     "output_type": "display_data"
    },
    {
     "data": {
      "application/vnd.jupyter.widget-view+json": {
       "model_id": "2f4219a43ad048028060c335c151e1d0",
       "version_major": 2,
       "version_minor": 0
      },
      "text/plain": [
       "Drawing 9984 posterior samples:   0%|          | 0/9984 [00:00<?, ?it/s]"
      ]
     },
     "metadata": {},
     "output_type": "display_data"
    },
    {
     "data": {
      "application/vnd.jupyter.widget-view+json": {
       "model_id": "a1fae72867e8450bb473f32fed50e732",
       "version_major": 2,
       "version_minor": 0
      },
      "text/plain": [
       "Drawing 9984 posterior samples:   0%|          | 0/9984 [00:00<?, ?it/s]"
      ]
     },
     "metadata": {},
     "output_type": "display_data"
    },
    {
     "data": {
      "application/vnd.jupyter.widget-view+json": {
       "model_id": "5977b557b5114d1e93f312b831a43c3a",
       "version_major": 2,
       "version_minor": 0
      },
      "text/plain": [
       "Drawing 9984 posterior samples:   0%|          | 0/9984 [00:00<?, ?it/s]"
      ]
     },
     "metadata": {},
     "output_type": "display_data"
    },
    {
     "data": {
      "application/vnd.jupyter.widget-view+json": {
       "model_id": "22c3dfcf0c76423c983b195d9885b71e",
       "version_major": 2,
       "version_minor": 0
      },
      "text/plain": [
       "Drawing 9984 posterior samples:   0%|          | 0/9984 [00:00<?, ?it/s]"
      ]
     },
     "metadata": {},
     "output_type": "display_data"
    },
    {
     "data": {
      "application/vnd.jupyter.widget-view+json": {
       "model_id": "86e63d7f98084ddc9fc42a77a377e0c3",
       "version_major": 2,
       "version_minor": 0
      },
      "text/plain": [
       "Drawing 9984 posterior samples:   0%|          | 0/9984 [00:00<?, ?it/s]"
      ]
     },
     "metadata": {},
     "output_type": "display_data"
    },
    {
     "data": {
      "application/vnd.jupyter.widget-view+json": {
       "model_id": "0f16f630482148bc92122054b6f7bd39",
       "version_major": 2,
       "version_minor": 0
      },
      "text/plain": [
       "Drawing 9984 posterior samples:   0%|          | 0/9984 [00:00<?, ?it/s]"
      ]
     },
     "metadata": {},
     "output_type": "display_data"
    },
    {
     "data": {
      "application/vnd.jupyter.widget-view+json": {
       "model_id": "e1b33894df744e53aeb35d61690c96a5",
       "version_major": 2,
       "version_minor": 0
      },
      "text/plain": [
       "Drawing 9984 posterior samples:   0%|          | 0/9984 [00:00<?, ?it/s]"
      ]
     },
     "metadata": {},
     "output_type": "display_data"
    },
    {
     "data": {
      "application/vnd.jupyter.widget-view+json": {
       "model_id": "f386ce03cd75498abde8ea5f5157eb8c",
       "version_major": 2,
       "version_minor": 0
      },
      "text/plain": [
       "Drawing 9984 posterior samples:   0%|          | 0/9984 [00:00<?, ?it/s]"
      ]
     },
     "metadata": {},
     "output_type": "display_data"
    },
    {
     "data": {
      "application/vnd.jupyter.widget-view+json": {
       "model_id": "db5b3c7495104344bea237996aa4e89e",
       "version_major": 2,
       "version_minor": 0
      },
      "text/plain": [
       "Drawing 9984 posterior samples:   0%|          | 0/9984 [00:00<?, ?it/s]"
      ]
     },
     "metadata": {},
     "output_type": "display_data"
    },
    {
     "data": {
      "application/vnd.jupyter.widget-view+json": {
       "model_id": "970040382c374c30b803056f64808388",
       "version_major": 2,
       "version_minor": 0
      },
      "text/plain": [
       "Drawing 9984 posterior samples:   0%|          | 0/9984 [00:00<?, ?it/s]"
      ]
     },
     "metadata": {},
     "output_type": "display_data"
    },
    {
     "data": {
      "application/vnd.jupyter.widget-view+json": {
       "model_id": "1431b96ea1c54a99ae4aee8d3e40bd59",
       "version_major": 2,
       "version_minor": 0
      },
      "text/plain": [
       "Drawing 9984 posterior samples:   0%|          | 0/9984 [00:00<?, ?it/s]"
      ]
     },
     "metadata": {},
     "output_type": "display_data"
    },
    {
     "data": {
      "application/vnd.jupyter.widget-view+json": {
       "model_id": "6a92ac80e86e4b3888e590ad060fd813",
       "version_major": 2,
       "version_minor": 0
      },
      "text/plain": [
       "Drawing 9984 posterior samples:   0%|          | 0/9984 [00:00<?, ?it/s]"
      ]
     },
     "metadata": {},
     "output_type": "display_data"
    },
    {
     "data": {
      "application/vnd.jupyter.widget-view+json": {
       "model_id": "59f3c93ffb124ef2bcb95a63b1cdc778",
       "version_major": 2,
       "version_minor": 0
      },
      "text/plain": [
       "Drawing 9984 posterior samples:   0%|          | 0/9984 [00:00<?, ?it/s]"
      ]
     },
     "metadata": {},
     "output_type": "display_data"
    },
    {
     "data": {
      "application/vnd.jupyter.widget-view+json": {
       "model_id": "4c63b5a3d85f44668121ddd27608d528",
       "version_major": 2,
       "version_minor": 0
      },
      "text/plain": [
       "Drawing 9984 posterior samples:   0%|          | 0/9984 [00:00<?, ?it/s]"
      ]
     },
     "metadata": {},
     "output_type": "display_data"
    },
    {
     "data": {
      "application/vnd.jupyter.widget-view+json": {
       "model_id": "57c65b87f06c4b4a81a87ab4d3372752",
       "version_major": 2,
       "version_minor": 0
      },
      "text/plain": [
       "Drawing 9984 posterior samples:   0%|          | 0/9984 [00:00<?, ?it/s]"
      ]
     },
     "metadata": {},
     "output_type": "display_data"
    },
    {
     "data": {
      "application/vnd.jupyter.widget-view+json": {
       "model_id": "eb6d0115f08b4a2d8586d3c6ae5df4a4",
       "version_major": 2,
       "version_minor": 0
      },
      "text/plain": [
       "Drawing 9984 posterior samples:   0%|          | 0/9984 [00:00<?, ?it/s]"
      ]
     },
     "metadata": {},
     "output_type": "display_data"
    },
    {
     "data": {
      "application/vnd.jupyter.widget-view+json": {
       "model_id": "a6c7d87bd4494811b0a835eca5c7cc32",
       "version_major": 2,
       "version_minor": 0
      },
      "text/plain": [
       "Drawing 1024 posterior samples:   0%|          | 0/1024 [00:00<?, ?it/s]"
      ]
     },
     "metadata": {},
     "output_type": "display_data"
    },
    {
     "data": {
      "application/vnd.jupyter.widget-view+json": {
       "model_id": "a98035ba0cb043f69f9c0d3e8db93663",
       "version_major": 2,
       "version_minor": 0
      },
      "text/plain": [
       "Drawing 5000 posterior samples:   0%|          | 0/5000 [00:00<?, ?it/s]"
      ]
     },
     "metadata": {},
     "output_type": "display_data"
    },
    {
     "data": {
      "application/vnd.jupyter.widget-view+json": {
       "model_id": "66ad819156f248e39afd6fee7b7922f6",
       "version_major": 2,
       "version_minor": 0
      },
      "text/plain": [
       "Drawing 9984 posterior samples:   0%|          | 0/9984 [00:00<?, ?it/s]"
      ]
     },
     "metadata": {},
     "output_type": "display_data"
    },
    {
     "data": {
      "application/vnd.jupyter.widget-view+json": {
       "model_id": "c52d8f09f7854b3db817f0383576f73a",
       "version_major": 2,
       "version_minor": 0
      },
      "text/plain": [
       "Drawing 9984 posterior samples:   0%|          | 0/9984 [00:00<?, ?it/s]"
      ]
     },
     "metadata": {},
     "output_type": "display_data"
    },
    {
     "data": {
      "application/vnd.jupyter.widget-view+json": {
       "model_id": "15f32ce01031459f9010f8fc131b642e",
       "version_major": 2,
       "version_minor": 0
      },
      "text/plain": [
       "Drawing 9984 posterior samples:   0%|          | 0/9984 [00:00<?, ?it/s]"
      ]
     },
     "metadata": {},
     "output_type": "display_data"
    },
    {
     "data": {
      "application/vnd.jupyter.widget-view+json": {
       "model_id": "b141266bd5864c339717abeb6039cbd9",
       "version_major": 2,
       "version_minor": 0
      },
      "text/plain": [
       "Drawing 9984 posterior samples:   0%|          | 0/9984 [00:00<?, ?it/s]"
      ]
     },
     "metadata": {},
     "output_type": "display_data"
    },
    {
     "data": {
      "application/vnd.jupyter.widget-view+json": {
       "model_id": "014cd9c4226f435097d5abaf8c99ac7e",
       "version_major": 2,
       "version_minor": 0
      },
      "text/plain": [
       "Drawing 9984 posterior samples:   0%|          | 0/9984 [00:00<?, ?it/s]"
      ]
     },
     "metadata": {},
     "output_type": "display_data"
    },
    {
     "data": {
      "application/vnd.jupyter.widget-view+json": {
       "model_id": "7b31b3bebc244fd08841404d62af369b",
       "version_major": 2,
       "version_minor": 0
      },
      "text/plain": [
       "Drawing 9984 posterior samples:   0%|          | 0/9984 [00:00<?, ?it/s]"
      ]
     },
     "metadata": {},
     "output_type": "display_data"
    },
    {
     "data": {
      "application/vnd.jupyter.widget-view+json": {
       "model_id": "0b60ba80ecd446d4a23babf85e3850e5",
       "version_major": 2,
       "version_minor": 0
      },
      "text/plain": [
       "Drawing 9984 posterior samples:   0%|          | 0/9984 [00:00<?, ?it/s]"
      ]
     },
     "metadata": {},
     "output_type": "display_data"
    },
    {
     "data": {
      "application/vnd.jupyter.widget-view+json": {
       "model_id": "acc60de994904489ac62c8d7521e0440",
       "version_major": 2,
       "version_minor": 0
      },
      "text/plain": [
       "Drawing 9984 posterior samples:   0%|          | 0/9984 [00:00<?, ?it/s]"
      ]
     },
     "metadata": {},
     "output_type": "display_data"
    },
    {
     "data": {
      "application/vnd.jupyter.widget-view+json": {
       "model_id": "addbe253abcc4e39a3e8afacd1e8398d",
       "version_major": 2,
       "version_minor": 0
      },
      "text/plain": [
       "Drawing 9984 posterior samples:   0%|          | 0/9984 [00:00<?, ?it/s]"
      ]
     },
     "metadata": {},
     "output_type": "display_data"
    },
    {
     "data": {
      "application/vnd.jupyter.widget-view+json": {
       "model_id": "eb69a2a447cb4637b23f8f0943f9bcd9",
       "version_major": 2,
       "version_minor": 0
      },
      "text/plain": [
       "Drawing 9984 posterior samples:   0%|          | 0/9984 [00:00<?, ?it/s]"
      ]
     },
     "metadata": {},
     "output_type": "display_data"
    },
    {
     "data": {
      "application/vnd.jupyter.widget-view+json": {
       "model_id": "d5493ae58b0a4fb4a0982def048a7416",
       "version_major": 2,
       "version_minor": 0
      },
      "text/plain": [
       "Drawing 9984 posterior samples:   0%|          | 0/9984 [00:00<?, ?it/s]"
      ]
     },
     "metadata": {},
     "output_type": "display_data"
    },
    {
     "data": {
      "application/vnd.jupyter.widget-view+json": {
       "model_id": "9d7d4fab4c0d4ba28a824ac2aa9d5fa2",
       "version_major": 2,
       "version_minor": 0
      },
      "text/plain": [
       "Drawing 9984 posterior samples:   0%|          | 0/9984 [00:00<?, ?it/s]"
      ]
     },
     "metadata": {},
     "output_type": "display_data"
    },
    {
     "data": {
      "application/vnd.jupyter.widget-view+json": {
       "model_id": "76236a3107ac4926888c30322bfbc2cb",
       "version_major": 2,
       "version_minor": 0
      },
      "text/plain": [
       "Drawing 9984 posterior samples:   0%|          | 0/9984 [00:00<?, ?it/s]"
      ]
     },
     "metadata": {},
     "output_type": "display_data"
    },
    {
     "data": {
      "application/vnd.jupyter.widget-view+json": {
       "model_id": "d218fefb37b7467d8877bd43ea64e1fa",
       "version_major": 2,
       "version_minor": 0
      },
      "text/plain": [
       "Drawing 9984 posterior samples:   0%|          | 0/9984 [00:00<?, ?it/s]"
      ]
     },
     "metadata": {},
     "output_type": "display_data"
    },
    {
     "data": {
      "application/vnd.jupyter.widget-view+json": {
       "model_id": "81c0875be9f440a9bf5d22a18df6e27a",
       "version_major": 2,
       "version_minor": 0
      },
      "text/plain": [
       "Drawing 9984 posterior samples:   0%|          | 0/9984 [00:00<?, ?it/s]"
      ]
     },
     "metadata": {},
     "output_type": "display_data"
    },
    {
     "data": {
      "application/vnd.jupyter.widget-view+json": {
       "model_id": "4df0693aa530482a8afecc4815af8988",
       "version_major": 2,
       "version_minor": 0
      },
      "text/plain": [
       "Drawing 9984 posterior samples:   0%|          | 0/9984 [00:00<?, ?it/s]"
      ]
     },
     "metadata": {},
     "output_type": "display_data"
    },
    {
     "data": {
      "application/vnd.jupyter.widget-view+json": {
       "model_id": "051fff35ccde49d890a53d08715203f4",
       "version_major": 2,
       "version_minor": 0
      },
      "text/plain": [
       "Drawing 9984 posterior samples:   0%|          | 0/9984 [00:00<?, ?it/s]"
      ]
     },
     "metadata": {},
     "output_type": "display_data"
    },
    {
     "data": {
      "application/vnd.jupyter.widget-view+json": {
       "model_id": "935fe54b0b5f42e59b8256a235a9756f",
       "version_major": 2,
       "version_minor": 0
      },
      "text/plain": [
       "Drawing 9984 posterior samples:   0%|          | 0/9984 [00:00<?, ?it/s]"
      ]
     },
     "metadata": {},
     "output_type": "display_data"
    },
    {
     "data": {
      "application/vnd.jupyter.widget-view+json": {
       "model_id": "0c3a67ce33b54f689cf760d4be9a8b5e",
       "version_major": 2,
       "version_minor": 0
      },
      "text/plain": [
       "Drawing 9984 posterior samples:   0%|          | 0/9984 [00:00<?, ?it/s]"
      ]
     },
     "metadata": {},
     "output_type": "display_data"
    },
    {
     "data": {
      "application/vnd.jupyter.widget-view+json": {
       "model_id": "b40a2b8e785c49918ea086fead931aa5",
       "version_major": 2,
       "version_minor": 0
      },
      "text/plain": [
       "Drawing 9984 posterior samples:   0%|          | 0/9984 [00:00<?, ?it/s]"
      ]
     },
     "metadata": {},
     "output_type": "display_data"
    },
    {
     "data": {
      "application/vnd.jupyter.widget-view+json": {
       "model_id": "bb0ce798d6f540948b93f8716d8d5502",
       "version_major": 2,
       "version_minor": 0
      },
      "text/plain": [
       "Drawing 9984 posterior samples:   0%|          | 0/9984 [00:00<?, ?it/s]"
      ]
     },
     "metadata": {},
     "output_type": "display_data"
    },
    {
     "data": {
      "application/vnd.jupyter.widget-view+json": {
       "model_id": "a5e656ef9c914168b6a142f4444a152c",
       "version_major": 2,
       "version_minor": 0
      },
      "text/plain": [
       "Drawing 9984 posterior samples:   0%|          | 0/9984 [00:00<?, ?it/s]"
      ]
     },
     "metadata": {},
     "output_type": "display_data"
    },
    {
     "data": {
      "application/vnd.jupyter.widget-view+json": {
       "model_id": "09f99e9bfd424cd0a105264f73c7b916",
       "version_major": 2,
       "version_minor": 0
      },
      "text/plain": [
       "Drawing 9984 posterior samples:   0%|          | 0/9984 [00:00<?, ?it/s]"
      ]
     },
     "metadata": {},
     "output_type": "display_data"
    },
    {
     "data": {
      "application/vnd.jupyter.widget-view+json": {
       "model_id": "4000517d3a9b49e6819bbf3893190e17",
       "version_major": 2,
       "version_minor": 0
      },
      "text/plain": [
       "Drawing 9984 posterior samples:   0%|          | 0/9984 [00:00<?, ?it/s]"
      ]
     },
     "metadata": {},
     "output_type": "display_data"
    },
    {
     "data": {
      "application/vnd.jupyter.widget-view+json": {
       "model_id": "31ace25dff9a4dc3b3244152c2d89249",
       "version_major": 2,
       "version_minor": 0
      },
      "text/plain": [
       "Drawing 9984 posterior samples:   0%|          | 0/9984 [00:00<?, ?it/s]"
      ]
     },
     "metadata": {},
     "output_type": "display_data"
    },
    {
     "data": {
      "application/vnd.jupyter.widget-view+json": {
       "model_id": "62e8cca14b4249739aaa9575de90c43d",
       "version_major": 2,
       "version_minor": 0
      },
      "text/plain": [
       "Drawing 9984 posterior samples:   0%|          | 0/9984 [00:00<?, ?it/s]"
      ]
     },
     "metadata": {},
     "output_type": "display_data"
    },
    {
     "data": {
      "application/vnd.jupyter.widget-view+json": {
       "model_id": "bfa5fcad37aa4bd891046a0a295a9f53",
       "version_major": 2,
       "version_minor": 0
      },
      "text/plain": [
       "Drawing 9984 posterior samples:   0%|          | 0/9984 [00:00<?, ?it/s]"
      ]
     },
     "metadata": {},
     "output_type": "display_data"
    },
    {
     "data": {
      "application/vnd.jupyter.widget-view+json": {
       "model_id": "0db6a3e2e3054fd8b010bd274c512d33",
       "version_major": 2,
       "version_minor": 0
      },
      "text/plain": [
       "Drawing 9984 posterior samples:   0%|          | 0/9984 [00:00<?, ?it/s]"
      ]
     },
     "metadata": {},
     "output_type": "display_data"
    },
    {
     "data": {
      "application/vnd.jupyter.widget-view+json": {
       "model_id": "66da3a4b72cf4e289069b234b982885b",
       "version_major": 2,
       "version_minor": 0
      },
      "text/plain": [
       "Drawing 9984 posterior samples:   0%|          | 0/9984 [00:00<?, ?it/s]"
      ]
     },
     "metadata": {},
     "output_type": "display_data"
    },
    {
     "data": {
      "application/vnd.jupyter.widget-view+json": {
       "model_id": "6808e491d63c4314b31670a5f0912536",
       "version_major": 2,
       "version_minor": 0
      },
      "text/plain": [
       "Drawing 9984 posterior samples:   0%|          | 0/9984 [00:00<?, ?it/s]"
      ]
     },
     "metadata": {},
     "output_type": "display_data"
    },
    {
     "data": {
      "application/vnd.jupyter.widget-view+json": {
       "model_id": "b548aca39471476c98bbdd5236c74d43",
       "version_major": 2,
       "version_minor": 0
      },
      "text/plain": [
       "Drawing 9984 posterior samples:   0%|          | 0/9984 [00:00<?, ?it/s]"
      ]
     },
     "metadata": {},
     "output_type": "display_data"
    },
    {
     "data": {
      "application/vnd.jupyter.widget-view+json": {
       "model_id": "1dcadcf6e660477fae7e7e122b81d674",
       "version_major": 2,
       "version_minor": 0
      },
      "text/plain": [
       "Drawing 9984 posterior samples:   0%|          | 0/9984 [00:00<?, ?it/s]"
      ]
     },
     "metadata": {},
     "output_type": "display_data"
    },
    {
     "data": {
      "application/vnd.jupyter.widget-view+json": {
       "model_id": "ba57527f38e1431ca749dcccc58f8d80",
       "version_major": 2,
       "version_minor": 0
      },
      "text/plain": [
       "Drawing 9984 posterior samples:   0%|          | 0/9984 [00:00<?, ?it/s]"
      ]
     },
     "metadata": {},
     "output_type": "display_data"
    },
    {
     "data": {
      "application/vnd.jupyter.widget-view+json": {
       "model_id": "9d7d6d72d4804db39ea98a11420ada8a",
       "version_major": 2,
       "version_minor": 0
      },
      "text/plain": [
       "Drawing 9984 posterior samples:   0%|          | 0/9984 [00:00<?, ?it/s]"
      ]
     },
     "metadata": {},
     "output_type": "display_data"
    },
    {
     "data": {
      "application/vnd.jupyter.widget-view+json": {
       "model_id": "9960efa119054a959967436c497d201b",
       "version_major": 2,
       "version_minor": 0
      },
      "text/plain": [
       "Drawing 9984 posterior samples:   0%|          | 0/9984 [00:00<?, ?it/s]"
      ]
     },
     "metadata": {},
     "output_type": "display_data"
    },
    {
     "data": {
      "application/vnd.jupyter.widget-view+json": {
       "model_id": "811e5bcff0af420e979a8fb08e0aefa4",
       "version_major": 2,
       "version_minor": 0
      },
      "text/plain": [
       "Drawing 9984 posterior samples:   0%|          | 0/9984 [00:00<?, ?it/s]"
      ]
     },
     "metadata": {},
     "output_type": "display_data"
    },
    {
     "data": {
      "application/vnd.jupyter.widget-view+json": {
       "model_id": "3305fb9699b949479dc06719945961e3",
       "version_major": 2,
       "version_minor": 0
      },
      "text/plain": [
       "Drawing 9984 posterior samples:   0%|          | 0/9984 [00:00<?, ?it/s]"
      ]
     },
     "metadata": {},
     "output_type": "display_data"
    },
    {
     "data": {
      "application/vnd.jupyter.widget-view+json": {
       "model_id": "511e1e0ad63846609a3cc27de8d5ac78",
       "version_major": 2,
       "version_minor": 0
      },
      "text/plain": [
       "Drawing 9984 posterior samples:   0%|          | 0/9984 [00:00<?, ?it/s]"
      ]
     },
     "metadata": {},
     "output_type": "display_data"
    },
    {
     "data": {
      "application/vnd.jupyter.widget-view+json": {
       "model_id": "be05e3de862e4bc2956766140ea9349c",
       "version_major": 2,
       "version_minor": 0
      },
      "text/plain": [
       "Drawing 9984 posterior samples:   0%|          | 0/9984 [00:00<?, ?it/s]"
      ]
     },
     "metadata": {},
     "output_type": "display_data"
    },
    {
     "data": {
      "application/vnd.jupyter.widget-view+json": {
       "model_id": "b00c18812edd4d599176fa4ed2be75d2",
       "version_major": 2,
       "version_minor": 0
      },
      "text/plain": [
       "Drawing 9984 posterior samples:   0%|          | 0/9984 [00:00<?, ?it/s]"
      ]
     },
     "metadata": {},
     "output_type": "display_data"
    },
    {
     "data": {
      "application/vnd.jupyter.widget-view+json": {
       "model_id": "6dc5e6d06be842a09f6b3993651412a9",
       "version_major": 2,
       "version_minor": 0
      },
      "text/plain": [
       "Drawing 9984 posterior samples:   0%|          | 0/9984 [00:00<?, ?it/s]"
      ]
     },
     "metadata": {},
     "output_type": "display_data"
    },
    {
     "data": {
      "application/vnd.jupyter.widget-view+json": {
       "model_id": "b5a95c9e1b90467dbf021384625e0506",
       "version_major": 2,
       "version_minor": 0
      },
      "text/plain": [
       "Drawing 9984 posterior samples:   0%|          | 0/9984 [00:00<?, ?it/s]"
      ]
     },
     "metadata": {},
     "output_type": "display_data"
    },
    {
     "data": {
      "application/vnd.jupyter.widget-view+json": {
       "model_id": "fd69e330290f479ea84159b43878674d",
       "version_major": 2,
       "version_minor": 0
      },
      "text/plain": [
       "Drawing 9984 posterior samples:   0%|          | 0/9984 [00:00<?, ?it/s]"
      ]
     },
     "metadata": {},
     "output_type": "display_data"
    },
    {
     "data": {
      "application/vnd.jupyter.widget-view+json": {
       "model_id": "622284fcfb1c43068e0fb3b0de98cc20",
       "version_major": 2,
       "version_minor": 0
      },
      "text/plain": [
       "Drawing 9984 posterior samples:   0%|          | 0/9984 [00:00<?, ?it/s]"
      ]
     },
     "metadata": {},
     "output_type": "display_data"
    },
    {
     "data": {
      "application/vnd.jupyter.widget-view+json": {
       "model_id": "d92ed164a86d40658a7b4f8f5c7b0fca",
       "version_major": 2,
       "version_minor": 0
      },
      "text/plain": [
       "Drawing 9984 posterior samples:   0%|          | 0/9984 [00:00<?, ?it/s]"
      ]
     },
     "metadata": {},
     "output_type": "display_data"
    },
    {
     "data": {
      "application/vnd.jupyter.widget-view+json": {
       "model_id": "0ce266c89c2b462e8e8fa04ebef53959",
       "version_major": 2,
       "version_minor": 0
      },
      "text/plain": [
       "Drawing 9984 posterior samples:   0%|          | 0/9984 [00:00<?, ?it/s]"
      ]
     },
     "metadata": {},
     "output_type": "display_data"
    },
    {
     "data": {
      "application/vnd.jupyter.widget-view+json": {
       "model_id": "5223b26729c2466eb794e8f65090e19d",
       "version_major": 2,
       "version_minor": 0
      },
      "text/plain": [
       "Drawing 9984 posterior samples:   0%|          | 0/9984 [00:00<?, ?it/s]"
      ]
     },
     "metadata": {},
     "output_type": "display_data"
    },
    {
     "data": {
      "application/vnd.jupyter.widget-view+json": {
       "model_id": "c4d2538a4b3142698ed0b0c4130b2f50",
       "version_major": 2,
       "version_minor": 0
      },
      "text/plain": [
       "Drawing 9984 posterior samples:   0%|          | 0/9984 [00:00<?, ?it/s]"
      ]
     },
     "metadata": {},
     "output_type": "display_data"
    },
    {
     "data": {
      "application/vnd.jupyter.widget-view+json": {
       "model_id": "a3509538c9c844e5a483985a93dbc345",
       "version_major": 2,
       "version_minor": 0
      },
      "text/plain": [
       "Drawing 9984 posterior samples:   0%|          | 0/9984 [00:00<?, ?it/s]"
      ]
     },
     "metadata": {},
     "output_type": "display_data"
    },
    {
     "data": {
      "application/vnd.jupyter.widget-view+json": {
       "model_id": "49c3fb1080bd4b8f935b82f61f0f98d8",
       "version_major": 2,
       "version_minor": 0
      },
      "text/plain": [
       "Drawing 9984 posterior samples:   0%|          | 0/9984 [00:00<?, ?it/s]"
      ]
     },
     "metadata": {},
     "output_type": "display_data"
    },
    {
     "data": {
      "application/vnd.jupyter.widget-view+json": {
       "model_id": "b8e14d9f39464975a0780ecd0da0bbc8",
       "version_major": 2,
       "version_minor": 0
      },
      "text/plain": [
       "Drawing 9984 posterior samples:   0%|          | 0/9984 [00:00<?, ?it/s]"
      ]
     },
     "metadata": {},
     "output_type": "display_data"
    },
    {
     "data": {
      "application/vnd.jupyter.widget-view+json": {
       "model_id": "1fc6d5a15b8047f898369d25cf641a2b",
       "version_major": 2,
       "version_minor": 0
      },
      "text/plain": [
       "Drawing 9984 posterior samples:   0%|          | 0/9984 [00:00<?, ?it/s]"
      ]
     },
     "metadata": {},
     "output_type": "display_data"
    },
    {
     "data": {
      "application/vnd.jupyter.widget-view+json": {
       "model_id": "884043b14a2044d8bcea1758b0e2efd7",
       "version_major": 2,
       "version_minor": 0
      },
      "text/plain": [
       "Drawing 9984 posterior samples:   0%|          | 0/9984 [00:00<?, ?it/s]"
      ]
     },
     "metadata": {},
     "output_type": "display_data"
    },
    {
     "data": {
      "application/vnd.jupyter.widget-view+json": {
       "model_id": "f69fc63385b849b9a0efcbc8ddeb2d57",
       "version_major": 2,
       "version_minor": 0
      },
      "text/plain": [
       "Drawing 9984 posterior samples:   0%|          | 0/9984 [00:00<?, ?it/s]"
      ]
     },
     "metadata": {},
     "output_type": "display_data"
    },
    {
     "data": {
      "application/vnd.jupyter.widget-view+json": {
       "model_id": "d3fbec00b30f4fe5ba7b3446241a6fee",
       "version_major": 2,
       "version_minor": 0
      },
      "text/plain": [
       "Drawing 9984 posterior samples:   0%|          | 0/9984 [00:00<?, ?it/s]"
      ]
     },
     "metadata": {},
     "output_type": "display_data"
    },
    {
     "data": {
      "application/vnd.jupyter.widget-view+json": {
       "model_id": "42ce4a2a7a684ea0bc23f47738c315e3",
       "version_major": 2,
       "version_minor": 0
      },
      "text/plain": [
       "Drawing 9984 posterior samples:   0%|          | 0/9984 [00:00<?, ?it/s]"
      ]
     },
     "metadata": {},
     "output_type": "display_data"
    },
    {
     "data": {
      "application/vnd.jupyter.widget-view+json": {
       "model_id": "b406a717c0e2482faa9be2d87524af78",
       "version_major": 2,
       "version_minor": 0
      },
      "text/plain": [
       "Drawing 9984 posterior samples:   0%|          | 0/9984 [00:00<?, ?it/s]"
      ]
     },
     "metadata": {},
     "output_type": "display_data"
    },
    {
     "data": {
      "application/vnd.jupyter.widget-view+json": {
       "model_id": "8c1121080d964e7aa72a6e918535dd8a",
       "version_major": 2,
       "version_minor": 0
      },
      "text/plain": [
       "Drawing 9984 posterior samples:   0%|          | 0/9984 [00:00<?, ?it/s]"
      ]
     },
     "metadata": {},
     "output_type": "display_data"
    },
    {
     "data": {
      "application/vnd.jupyter.widget-view+json": {
       "model_id": "b52dc38688d54bbdaf95d10f8ee5e567",
       "version_major": 2,
       "version_minor": 0
      },
      "text/plain": [
       "Drawing 9984 posterior samples:   0%|          | 0/9984 [00:00<?, ?it/s]"
      ]
     },
     "metadata": {},
     "output_type": "display_data"
    },
    {
     "data": {
      "application/vnd.jupyter.widget-view+json": {
       "model_id": "6ef91c241918442492eea2e803c990b6",
       "version_major": 2,
       "version_minor": 0
      },
      "text/plain": [
       "Drawing 9984 posterior samples:   0%|          | 0/9984 [00:00<?, ?it/s]"
      ]
     },
     "metadata": {},
     "output_type": "display_data"
    },
    {
     "data": {
      "application/vnd.jupyter.widget-view+json": {
       "model_id": "877931d8253f47cd82d523484ed1c891",
       "version_major": 2,
       "version_minor": 0
      },
      "text/plain": [
       "Drawing 9984 posterior samples:   0%|          | 0/9984 [00:00<?, ?it/s]"
      ]
     },
     "metadata": {},
     "output_type": "display_data"
    },
    {
     "data": {
      "application/vnd.jupyter.widget-view+json": {
       "model_id": "a0accd5260884d7d93ecca778b34aeb2",
       "version_major": 2,
       "version_minor": 0
      },
      "text/plain": [
       "Drawing 9984 posterior samples:   0%|          | 0/9984 [00:00<?, ?it/s]"
      ]
     },
     "metadata": {},
     "output_type": "display_data"
    },
    {
     "data": {
      "application/vnd.jupyter.widget-view+json": {
       "model_id": "2e589c49bb274e1596c86a226ddc1a18",
       "version_major": 2,
       "version_minor": 0
      },
      "text/plain": [
       "Drawing 9984 posterior samples:   0%|          | 0/9984 [00:00<?, ?it/s]"
      ]
     },
     "metadata": {},
     "output_type": "display_data"
    },
    {
     "data": {
      "application/vnd.jupyter.widget-view+json": {
       "model_id": "55a6bf05b2024737bc948fa9f381a05f",
       "version_major": 2,
       "version_minor": 0
      },
      "text/plain": [
       "Drawing 9984 posterior samples:   0%|          | 0/9984 [00:00<?, ?it/s]"
      ]
     },
     "metadata": {},
     "output_type": "display_data"
    },
    {
     "data": {
      "application/vnd.jupyter.widget-view+json": {
       "model_id": "6c767dea28344499981c726b74da8a02",
       "version_major": 2,
       "version_minor": 0
      },
      "text/plain": [
       "Drawing 1024 posterior samples:   0%|          | 0/1024 [00:00<?, ?it/s]"
      ]
     },
     "metadata": {},
     "output_type": "display_data"
    },
    {
     "data": {
      "application/vnd.jupyter.widget-view+json": {
       "model_id": "bf24d51804904aaf8ac293e817c50113",
       "version_major": 2,
       "version_minor": 0
      },
      "text/plain": [
       "Drawing 5000 posterior samples:   0%|          | 0/5000 [00:00<?, ?it/s]"
      ]
     },
     "metadata": {},
     "output_type": "display_data"
    },
    {
     "data": {
      "application/vnd.jupyter.widget-view+json": {
       "model_id": "b18ba674c4d84f1184b85db9fbad6c17",
       "version_major": 2,
       "version_minor": 0
      },
      "text/plain": [
       "Drawing 9984 posterior samples:   0%|          | 0/9984 [00:00<?, ?it/s]"
      ]
     },
     "metadata": {},
     "output_type": "display_data"
    },
    {
     "data": {
      "application/vnd.jupyter.widget-view+json": {
       "model_id": "b4e751726a1245d59ec18531884d5836",
       "version_major": 2,
       "version_minor": 0
      },
      "text/plain": [
       "Drawing 9984 posterior samples:   0%|          | 0/9984 [00:00<?, ?it/s]"
      ]
     },
     "metadata": {},
     "output_type": "display_data"
    },
    {
     "data": {
      "application/vnd.jupyter.widget-view+json": {
       "model_id": "e526fb1562764ed2bd08f3ff2f8f8fd2",
       "version_major": 2,
       "version_minor": 0
      },
      "text/plain": [
       "Drawing 9984 posterior samples:   0%|          | 0/9984 [00:00<?, ?it/s]"
      ]
     },
     "metadata": {},
     "output_type": "display_data"
    },
    {
     "data": {
      "application/vnd.jupyter.widget-view+json": {
       "model_id": "86f973a432d04c5db7d12b92bbd19afe",
       "version_major": 2,
       "version_minor": 0
      },
      "text/plain": [
       "Drawing 9984 posterior samples:   0%|          | 0/9984 [00:00<?, ?it/s]"
      ]
     },
     "metadata": {},
     "output_type": "display_data"
    },
    {
     "data": {
      "application/vnd.jupyter.widget-view+json": {
       "model_id": "66bb232f23024e7e8b9dce9982b308dd",
       "version_major": 2,
       "version_minor": 0
      },
      "text/plain": [
       "Drawing 9984 posterior samples:   0%|          | 0/9984 [00:00<?, ?it/s]"
      ]
     },
     "metadata": {},
     "output_type": "display_data"
    },
    {
     "data": {
      "application/vnd.jupyter.widget-view+json": {
       "model_id": "97a77065a41c4bbb872228c0f23ea05a",
       "version_major": 2,
       "version_minor": 0
      },
      "text/plain": [
       "Drawing 9984 posterior samples:   0%|          | 0/9984 [00:00<?, ?it/s]"
      ]
     },
     "metadata": {},
     "output_type": "display_data"
    },
    {
     "data": {
      "application/vnd.jupyter.widget-view+json": {
       "model_id": "be2e935087d64e64876e179e804e1827",
       "version_major": 2,
       "version_minor": 0
      },
      "text/plain": [
       "Drawing 9984 posterior samples:   0%|          | 0/9984 [00:00<?, ?it/s]"
      ]
     },
     "metadata": {},
     "output_type": "display_data"
    },
    {
     "data": {
      "application/vnd.jupyter.widget-view+json": {
       "model_id": "12a798213dfc4ece8a68be350e1a2ec6",
       "version_major": 2,
       "version_minor": 0
      },
      "text/plain": [
       "Drawing 9984 posterior samples:   0%|          | 0/9984 [00:00<?, ?it/s]"
      ]
     },
     "metadata": {},
     "output_type": "display_data"
    },
    {
     "data": {
      "application/vnd.jupyter.widget-view+json": {
       "model_id": "743eff2285164da28170a89a52c6df44",
       "version_major": 2,
       "version_minor": 0
      },
      "text/plain": [
       "Drawing 9984 posterior samples:   0%|          | 0/9984 [00:00<?, ?it/s]"
      ]
     },
     "metadata": {},
     "output_type": "display_data"
    },
    {
     "data": {
      "application/vnd.jupyter.widget-view+json": {
       "model_id": "7e77d64b71b34ed68c5cd5123e9adb42",
       "version_major": 2,
       "version_minor": 0
      },
      "text/plain": [
       "Drawing 9984 posterior samples:   0%|          | 0/9984 [00:00<?, ?it/s]"
      ]
     },
     "metadata": {},
     "output_type": "display_data"
    },
    {
     "data": {
      "application/vnd.jupyter.widget-view+json": {
       "model_id": "7296fcb0eda74d569c6a55451d0d283a",
       "version_major": 2,
       "version_minor": 0
      },
      "text/plain": [
       "Drawing 9984 posterior samples:   0%|          | 0/9984 [00:00<?, ?it/s]"
      ]
     },
     "metadata": {},
     "output_type": "display_data"
    },
    {
     "data": {
      "application/vnd.jupyter.widget-view+json": {
       "model_id": "95523413961b4fc8a7b34b6d4747d659",
       "version_major": 2,
       "version_minor": 0
      },
      "text/plain": [
       "Drawing 9984 posterior samples:   0%|          | 0/9984 [00:00<?, ?it/s]"
      ]
     },
     "metadata": {},
     "output_type": "display_data"
    },
    {
     "data": {
      "application/vnd.jupyter.widget-view+json": {
       "model_id": "d49b7bd942ce45f58855e79ad78d38ed",
       "version_major": 2,
       "version_minor": 0
      },
      "text/plain": [
       "Drawing 9984 posterior samples:   0%|          | 0/9984 [00:00<?, ?it/s]"
      ]
     },
     "metadata": {},
     "output_type": "display_data"
    },
    {
     "data": {
      "application/vnd.jupyter.widget-view+json": {
       "model_id": "55efa268e875440a97456c4b05d840fb",
       "version_major": 2,
       "version_minor": 0
      },
      "text/plain": [
       "Drawing 9984 posterior samples:   0%|          | 0/9984 [00:00<?, ?it/s]"
      ]
     },
     "metadata": {},
     "output_type": "display_data"
    },
    {
     "data": {
      "application/vnd.jupyter.widget-view+json": {
       "model_id": "0b25c1f1bae64b4d8aee9c8b268ce048",
       "version_major": 2,
       "version_minor": 0
      },
      "text/plain": [
       "Drawing 9984 posterior samples:   0%|          | 0/9984 [00:00<?, ?it/s]"
      ]
     },
     "metadata": {},
     "output_type": "display_data"
    },
    {
     "data": {
      "application/vnd.jupyter.widget-view+json": {
       "model_id": "e11884d53ab04d979bd39ad2041d0da2",
       "version_major": 2,
       "version_minor": 0
      },
      "text/plain": [
       "Drawing 9984 posterior samples:   0%|          | 0/9984 [00:00<?, ?it/s]"
      ]
     },
     "metadata": {},
     "output_type": "display_data"
    },
    {
     "data": {
      "application/vnd.jupyter.widget-view+json": {
       "model_id": "9d11b1f0936d420ab8185e6b0a489052",
       "version_major": 2,
       "version_minor": 0
      },
      "text/plain": [
       "Drawing 9984 posterior samples:   0%|          | 0/9984 [00:00<?, ?it/s]"
      ]
     },
     "metadata": {},
     "output_type": "display_data"
    },
    {
     "data": {
      "application/vnd.jupyter.widget-view+json": {
       "model_id": "e376be1ca3a6401ab29a62a946f42f46",
       "version_major": 2,
       "version_minor": 0
      },
      "text/plain": [
       "Drawing 9984 posterior samples:   0%|          | 0/9984 [00:00<?, ?it/s]"
      ]
     },
     "metadata": {},
     "output_type": "display_data"
    },
    {
     "data": {
      "application/vnd.jupyter.widget-view+json": {
       "model_id": "cfc4c15ae9c84972a29216ff388d3d16",
       "version_major": 2,
       "version_minor": 0
      },
      "text/plain": [
       "Drawing 9984 posterior samples:   0%|          | 0/9984 [00:00<?, ?it/s]"
      ]
     },
     "metadata": {},
     "output_type": "display_data"
    },
    {
     "data": {
      "application/vnd.jupyter.widget-view+json": {
       "model_id": "8a7cbc972c7e47b2ab8d2fa3ab62b296",
       "version_major": 2,
       "version_minor": 0
      },
      "text/plain": [
       "Drawing 9984 posterior samples:   0%|          | 0/9984 [00:00<?, ?it/s]"
      ]
     },
     "metadata": {},
     "output_type": "display_data"
    },
    {
     "data": {
      "application/vnd.jupyter.widget-view+json": {
       "model_id": "503ae1b47f9644c4a0d7ef6f72ad5b83",
       "version_major": 2,
       "version_minor": 0
      },
      "text/plain": [
       "Drawing 9984 posterior samples:   0%|          | 0/9984 [00:00<?, ?it/s]"
      ]
     },
     "metadata": {},
     "output_type": "display_data"
    },
    {
     "data": {
      "application/vnd.jupyter.widget-view+json": {
       "model_id": "0b090a78367e4647bf57fdb4aba095a9",
       "version_major": 2,
       "version_minor": 0
      },
      "text/plain": [
       "Drawing 9984 posterior samples:   0%|          | 0/9984 [00:00<?, ?it/s]"
      ]
     },
     "metadata": {},
     "output_type": "display_data"
    },
    {
     "data": {
      "application/vnd.jupyter.widget-view+json": {
       "model_id": "78153e94c6ab4cdc8c57a8a0a8da354a",
       "version_major": 2,
       "version_minor": 0
      },
      "text/plain": [
       "Drawing 9984 posterior samples:   0%|          | 0/9984 [00:00<?, ?it/s]"
      ]
     },
     "metadata": {},
     "output_type": "display_data"
    },
    {
     "data": {
      "application/vnd.jupyter.widget-view+json": {
       "model_id": "5fd07ae84fb64421b85e586a1fa215f4",
       "version_major": 2,
       "version_minor": 0
      },
      "text/plain": [
       "Drawing 9984 posterior samples:   0%|          | 0/9984 [00:00<?, ?it/s]"
      ]
     },
     "metadata": {},
     "output_type": "display_data"
    },
    {
     "data": {
      "application/vnd.jupyter.widget-view+json": {
       "model_id": "64d530e421b54969befb59f43dd097bb",
       "version_major": 2,
       "version_minor": 0
      },
      "text/plain": [
       "Drawing 9984 posterior samples:   0%|          | 0/9984 [00:00<?, ?it/s]"
      ]
     },
     "metadata": {},
     "output_type": "display_data"
    },
    {
     "data": {
      "application/vnd.jupyter.widget-view+json": {
       "model_id": "c6708be73218453685151e6588563899",
       "version_major": 2,
       "version_minor": 0
      },
      "text/plain": [
       "Drawing 9984 posterior samples:   0%|          | 0/9984 [00:00<?, ?it/s]"
      ]
     },
     "metadata": {},
     "output_type": "display_data"
    },
    {
     "data": {
      "application/vnd.jupyter.widget-view+json": {
       "model_id": "c1ba129ea13b41689a187300386e5975",
       "version_major": 2,
       "version_minor": 0
      },
      "text/plain": [
       "Drawing 9984 posterior samples:   0%|          | 0/9984 [00:00<?, ?it/s]"
      ]
     },
     "metadata": {},
     "output_type": "display_data"
    },
    {
     "data": {
      "application/vnd.jupyter.widget-view+json": {
       "model_id": "2fcd3b676110447faa502ec2f76bcd5a",
       "version_major": 2,
       "version_minor": 0
      },
      "text/plain": [
       "Drawing 9984 posterior samples:   0%|          | 0/9984 [00:00<?, ?it/s]"
      ]
     },
     "metadata": {},
     "output_type": "display_data"
    },
    {
     "data": {
      "application/vnd.jupyter.widget-view+json": {
       "model_id": "fe24609e56094bba86cb77e295c3e3be",
       "version_major": 2,
       "version_minor": 0
      },
      "text/plain": [
       "Drawing 9984 posterior samples:   0%|          | 0/9984 [00:00<?, ?it/s]"
      ]
     },
     "metadata": {},
     "output_type": "display_data"
    },
    {
     "data": {
      "application/vnd.jupyter.widget-view+json": {
       "model_id": "ef5e6f43a114473792b170d13c2bd835",
       "version_major": 2,
       "version_minor": 0
      },
      "text/plain": [
       "Drawing 9984 posterior samples:   0%|          | 0/9984 [00:00<?, ?it/s]"
      ]
     },
     "metadata": {},
     "output_type": "display_data"
    },
    {
     "data": {
      "application/vnd.jupyter.widget-view+json": {
       "model_id": "097aa11c0a77423fbe0ad85c535a9d9e",
       "version_major": 2,
       "version_minor": 0
      },
      "text/plain": [
       "Drawing 9984 posterior samples:   0%|          | 0/9984 [00:00<?, ?it/s]"
      ]
     },
     "metadata": {},
     "output_type": "display_data"
    },
    {
     "data": {
      "application/vnd.jupyter.widget-view+json": {
       "model_id": "aaf6be0d5828409984b42526589cd7ed",
       "version_major": 2,
       "version_minor": 0
      },
      "text/plain": [
       "Drawing 9984 posterior samples:   0%|          | 0/9984 [00:00<?, ?it/s]"
      ]
     },
     "metadata": {},
     "output_type": "display_data"
    },
    {
     "data": {
      "application/vnd.jupyter.widget-view+json": {
       "model_id": "21c87ce9916843e0b0a7f665f8c48f29",
       "version_major": 2,
       "version_minor": 0
      },
      "text/plain": [
       "Drawing 9984 posterior samples:   0%|          | 0/9984 [00:00<?, ?it/s]"
      ]
     },
     "metadata": {},
     "output_type": "display_data"
    },
    {
     "data": {
      "application/vnd.jupyter.widget-view+json": {
       "model_id": "e404e0b414f0477b8086ee7e83d371e6",
       "version_major": 2,
       "version_minor": 0
      },
      "text/plain": [
       "Drawing 9984 posterior samples:   0%|          | 0/9984 [00:00<?, ?it/s]"
      ]
     },
     "metadata": {},
     "output_type": "display_data"
    },
    {
     "data": {
      "application/vnd.jupyter.widget-view+json": {
       "model_id": "aa25d4d300bc449dbf400219f3eb781d",
       "version_major": 2,
       "version_minor": 0
      },
      "text/plain": [
       "Drawing 9984 posterior samples:   0%|          | 0/9984 [00:00<?, ?it/s]"
      ]
     },
     "metadata": {},
     "output_type": "display_data"
    },
    {
     "data": {
      "application/vnd.jupyter.widget-view+json": {
       "model_id": "19baa9847c054f2eb6534976886d5c56",
       "version_major": 2,
       "version_minor": 0
      },
      "text/plain": [
       "Drawing 9984 posterior samples:   0%|          | 0/9984 [00:00<?, ?it/s]"
      ]
     },
     "metadata": {},
     "output_type": "display_data"
    },
    {
     "data": {
      "application/vnd.jupyter.widget-view+json": {
       "model_id": "227279371802449a821737d49978f7b1",
       "version_major": 2,
       "version_minor": 0
      },
      "text/plain": [
       "Drawing 9984 posterior samples:   0%|          | 0/9984 [00:00<?, ?it/s]"
      ]
     },
     "metadata": {},
     "output_type": "display_data"
    },
    {
     "data": {
      "application/vnd.jupyter.widget-view+json": {
       "model_id": "691c6a11c8ff418eb0e09c09ff549fb9",
       "version_major": 2,
       "version_minor": 0
      },
      "text/plain": [
       "Drawing 9984 posterior samples:   0%|          | 0/9984 [00:00<?, ?it/s]"
      ]
     },
     "metadata": {},
     "output_type": "display_data"
    },
    {
     "data": {
      "application/vnd.jupyter.widget-view+json": {
       "model_id": "5402ea1232fd416db417a5df52be159d",
       "version_major": 2,
       "version_minor": 0
      },
      "text/plain": [
       "Drawing 9984 posterior samples:   0%|          | 0/9984 [00:00<?, ?it/s]"
      ]
     },
     "metadata": {},
     "output_type": "display_data"
    },
    {
     "data": {
      "application/vnd.jupyter.widget-view+json": {
       "model_id": "46324e8079064e9f903f64c869a19bcd",
       "version_major": 2,
       "version_minor": 0
      },
      "text/plain": [
       "Drawing 9984 posterior samples:   0%|          | 0/9984 [00:00<?, ?it/s]"
      ]
     },
     "metadata": {},
     "output_type": "display_data"
    },
    {
     "data": {
      "application/vnd.jupyter.widget-view+json": {
       "model_id": "a688e3b7c2994c65939ffb8be51d7ead",
       "version_major": 2,
       "version_minor": 0
      },
      "text/plain": [
       "Drawing 9984 posterior samples:   0%|          | 0/9984 [00:00<?, ?it/s]"
      ]
     },
     "metadata": {},
     "output_type": "display_data"
    },
    {
     "data": {
      "application/vnd.jupyter.widget-view+json": {
       "model_id": "9f42400056a94fde803d637c4e742edc",
       "version_major": 2,
       "version_minor": 0
      },
      "text/plain": [
       "Drawing 9984 posterior samples:   0%|          | 0/9984 [00:00<?, ?it/s]"
      ]
     },
     "metadata": {},
     "output_type": "display_data"
    },
    {
     "data": {
      "application/vnd.jupyter.widget-view+json": {
       "model_id": "87100978954d41abacdfa0cb04b05be9",
       "version_major": 2,
       "version_minor": 0
      },
      "text/plain": [
       "Drawing 9984 posterior samples:   0%|          | 0/9984 [00:00<?, ?it/s]"
      ]
     },
     "metadata": {},
     "output_type": "display_data"
    },
    {
     "data": {
      "application/vnd.jupyter.widget-view+json": {
       "model_id": "4da5f683dcc842378458873921f74009",
       "version_major": 2,
       "version_minor": 0
      },
      "text/plain": [
       "Drawing 9984 posterior samples:   0%|          | 0/9984 [00:00<?, ?it/s]"
      ]
     },
     "metadata": {},
     "output_type": "display_data"
    },
    {
     "data": {
      "application/vnd.jupyter.widget-view+json": {
       "model_id": "7c8c0157368b463a9916d9a8de3f9cb2",
       "version_major": 2,
       "version_minor": 0
      },
      "text/plain": [
       "Drawing 9984 posterior samples:   0%|          | 0/9984 [00:00<?, ?it/s]"
      ]
     },
     "metadata": {},
     "output_type": "display_data"
    },
    {
     "data": {
      "application/vnd.jupyter.widget-view+json": {
       "model_id": "ad8450b84bbd42d4a4aeb8cf07fb6693",
       "version_major": 2,
       "version_minor": 0
      },
      "text/plain": [
       "Drawing 9984 posterior samples:   0%|          | 0/9984 [00:00<?, ?it/s]"
      ]
     },
     "metadata": {},
     "output_type": "display_data"
    },
    {
     "data": {
      "application/vnd.jupyter.widget-view+json": {
       "model_id": "d561b44454c04d64bf34cc4b09e2522c",
       "version_major": 2,
       "version_minor": 0
      },
      "text/plain": [
       "Drawing 9984 posterior samples:   0%|          | 0/9984 [00:00<?, ?it/s]"
      ]
     },
     "metadata": {},
     "output_type": "display_data"
    },
    {
     "data": {
      "application/vnd.jupyter.widget-view+json": {
       "model_id": "379b6989b27c4dd398bdcb632f42a74e",
       "version_major": 2,
       "version_minor": 0
      },
      "text/plain": [
       "Drawing 9984 posterior samples:   0%|          | 0/9984 [00:00<?, ?it/s]"
      ]
     },
     "metadata": {},
     "output_type": "display_data"
    },
    {
     "data": {
      "application/vnd.jupyter.widget-view+json": {
       "model_id": "b23dc68466024f808986a299608365d4",
       "version_major": 2,
       "version_minor": 0
      },
      "text/plain": [
       "Drawing 9984 posterior samples:   0%|          | 0/9984 [00:00<?, ?it/s]"
      ]
     },
     "metadata": {},
     "output_type": "display_data"
    },
    {
     "data": {
      "application/vnd.jupyter.widget-view+json": {
       "model_id": "20c44bc78e6b4a0cacd31c4fa8208b89",
       "version_major": 2,
       "version_minor": 0
      },
      "text/plain": [
       "Drawing 9984 posterior samples:   0%|          | 0/9984 [00:00<?, ?it/s]"
      ]
     },
     "metadata": {},
     "output_type": "display_data"
    },
    {
     "data": {
      "application/vnd.jupyter.widget-view+json": {
       "model_id": "18aa68a6f2ee44a280f23cad49c899ee",
       "version_major": 2,
       "version_minor": 0
      },
      "text/plain": [
       "Drawing 9984 posterior samples:   0%|          | 0/9984 [00:00<?, ?it/s]"
      ]
     },
     "metadata": {},
     "output_type": "display_data"
    },
    {
     "data": {
      "application/vnd.jupyter.widget-view+json": {
       "model_id": "d4b2a95e988548af9a0366b1ef82849f",
       "version_major": 2,
       "version_minor": 0
      },
      "text/plain": [
       "Drawing 9984 posterior samples:   0%|          | 0/9984 [00:00<?, ?it/s]"
      ]
     },
     "metadata": {},
     "output_type": "display_data"
    },
    {
     "data": {
      "application/vnd.jupyter.widget-view+json": {
       "model_id": "3f9e04bb78334efa9b9cd3b984e543c2",
       "version_major": 2,
       "version_minor": 0
      },
      "text/plain": [
       "Drawing 9984 posterior samples:   0%|          | 0/9984 [00:00<?, ?it/s]"
      ]
     },
     "metadata": {},
     "output_type": "display_data"
    },
    {
     "data": {
      "application/vnd.jupyter.widget-view+json": {
       "model_id": "548b01f36cb24f02b4626dd6815b68fd",
       "version_major": 2,
       "version_minor": 0
      },
      "text/plain": [
       "Drawing 9984 posterior samples:   0%|          | 0/9984 [00:00<?, ?it/s]"
      ]
     },
     "metadata": {},
     "output_type": "display_data"
    },
    {
     "data": {
      "application/vnd.jupyter.widget-view+json": {
       "model_id": "a0ebeabce13143e7be15ee16f9fa6bd9",
       "version_major": 2,
       "version_minor": 0
      },
      "text/plain": [
       "Drawing 9984 posterior samples:   0%|          | 0/9984 [00:00<?, ?it/s]"
      ]
     },
     "metadata": {},
     "output_type": "display_data"
    },
    {
     "data": {
      "application/vnd.jupyter.widget-view+json": {
       "model_id": "39cca81210914adf902ed5578b08c1a5",
       "version_major": 2,
       "version_minor": 0
      },
      "text/plain": [
       "Drawing 9984 posterior samples:   0%|          | 0/9984 [00:00<?, ?it/s]"
      ]
     },
     "metadata": {},
     "output_type": "display_data"
    },
    {
     "data": {
      "application/vnd.jupyter.widget-view+json": {
       "model_id": "3f959c9173074b5498d9d8487c45ea19",
       "version_major": 2,
       "version_minor": 0
      },
      "text/plain": [
       "Drawing 9984 posterior samples:   0%|          | 0/9984 [00:00<?, ?it/s]"
      ]
     },
     "metadata": {},
     "output_type": "display_data"
    },
    {
     "data": {
      "application/vnd.jupyter.widget-view+json": {
       "model_id": "26bfc13dc1f34323924d2a219010b840",
       "version_major": 2,
       "version_minor": 0
      },
      "text/plain": [
       "Drawing 9984 posterior samples:   0%|          | 0/9984 [00:00<?, ?it/s]"
      ]
     },
     "metadata": {},
     "output_type": "display_data"
    },
    {
     "data": {
      "application/vnd.jupyter.widget-view+json": {
       "model_id": "2c1d4ff2c7b740e8b2ca975893a1ecc4",
       "version_major": 2,
       "version_minor": 0
      },
      "text/plain": [
       "Drawing 9984 posterior samples:   0%|          | 0/9984 [00:00<?, ?it/s]"
      ]
     },
     "metadata": {},
     "output_type": "display_data"
    },
    {
     "data": {
      "application/vnd.jupyter.widget-view+json": {
       "model_id": "aef1c65018224427bfd1d36ea9898469",
       "version_major": 2,
       "version_minor": 0
      },
      "text/plain": [
       "Drawing 9984 posterior samples:   0%|          | 0/9984 [00:00<?, ?it/s]"
      ]
     },
     "metadata": {},
     "output_type": "display_data"
    },
    {
     "data": {
      "application/vnd.jupyter.widget-view+json": {
       "model_id": "3d494cab98d14151ab8da9b2246c56f8",
       "version_major": 2,
       "version_minor": 0
      },
      "text/plain": [
       "Drawing 9984 posterior samples:   0%|          | 0/9984 [00:00<?, ?it/s]"
      ]
     },
     "metadata": {},
     "output_type": "display_data"
    },
    {
     "data": {
      "application/vnd.jupyter.widget-view+json": {
       "model_id": "f6db80bbff8d4a79b2e8396858441f33",
       "version_major": 2,
       "version_minor": 0
      },
      "text/plain": [
       "Drawing 9984 posterior samples:   0%|          | 0/9984 [00:00<?, ?it/s]"
      ]
     },
     "metadata": {},
     "output_type": "display_data"
    },
    {
     "data": {
      "application/vnd.jupyter.widget-view+json": {
       "model_id": "516ea570b8ea4ba0944f9441e5f53d16",
       "version_major": 2,
       "version_minor": 0
      },
      "text/plain": [
       "Drawing 9984 posterior samples:   0%|          | 0/9984 [00:00<?, ?it/s]"
      ]
     },
     "metadata": {},
     "output_type": "display_data"
    },
    {
     "data": {
      "application/vnd.jupyter.widget-view+json": {
       "model_id": "9d7e2532cf0045d4b822242a8cefd47f",
       "version_major": 2,
       "version_minor": 0
      },
      "text/plain": [
       "Drawing 9984 posterior samples:   0%|          | 0/9984 [00:00<?, ?it/s]"
      ]
     },
     "metadata": {},
     "output_type": "display_data"
    },
    {
     "data": {
      "application/vnd.jupyter.widget-view+json": {
       "model_id": "489735d1b424412b984c795b6c428977",
       "version_major": 2,
       "version_minor": 0
      },
      "text/plain": [
       "Drawing 1024 posterior samples:   0%|          | 0/1024 [00:00<?, ?it/s]"
      ]
     },
     "metadata": {},
     "output_type": "display_data"
    },
    {
     "data": {
      "image/png": "[encoded data removed]",
      "text/plain": [
       "<Figure size 500x150 with 2 Axes>"
      ]
     },
     "metadata": {},
     "output_type": "display_data"
    },
    {
     "data": {
      "image/png": "[encoded data removed]",
      "text/plain": [
       "<Figure size 500x150 with 2 Axes>"
      ]
     },
     "metadata": {},
     "output_type": "display_data"
    },
    {
     "data": {
      "image/png": "[encoded data removed]",
      "text/plain": [
       "<Figure size 500x150 with 2 Axes>"
      ]
     },
     "metadata": {},
     "output_type": "display_data"
    },
    {
     "data": {
      "image/png": "[encoded data removed]",
      "text/plain": [
       "<Figure size 500x150 with 2 Axes>"
      ]
     },
     "metadata": {},
     "output_type": "display_data"
    },
    {
     "data": {
      "image/png": "[encoded data removed]",
      "text/plain": [
       "<Figure size 500x150 with 2 Axes>"
      ]
     },
     "metadata": {},
     "output_type": "display_data"
    }
   ],
   "source": [
    "class Simulator:\n",
    "    def __init__(self):\n",
    "        pass\n",
    "\n",
    "    def log_prob(self, theta, x):\n",
    "        return MultivariateNormal(theta, eye(2)).log_prob(x) + prior.log_prob(theta)\n",
    "\n",
    "    def sample(self, theta):\n",
    "        return theta + torch.randn((theta.shape))\n",
    "\n",
    "\n",
    "class Potential(BasePotential):\n",
    "    allow_iid_x = False\n",
    "\n",
    "    def __init__(self, prior, x_o, **kwargs):\n",
    "        super().__init__(prior, x_o, **kwargs)\n",
    "\n",
    "    def __call__(self, theta, **kwargs):\n",
    "        return sim.log_prob(theta, self.x_o)\n",
    "\n",
    "\n",
    "prior = BoxUniform(-5 * ones((2,)), 5 * ones((2,)))\n",
    "sim = Simulator()\n",
    "\n",
    "_ = torch.manual_seed(3)\n",
    "theta = prior.sample((50,))\n",
    "x = sim.sample(theta)\n",
    "\n",
    "_ = torch.manual_seed(4)\n",
    "inference = SNPE(prior=prior)\n",
    "_ = inference.append_simulations(theta, x).train()\n",
    "posterior = inference.build_posterior()\n",
    "\n",
    "_ = torch.manual_seed(2)\n",
    "theta_gt = prior.sample((5,))\n",
    "observations = sim.sample(theta_gt)\n",
    "print(\"observations.shape\", observations.shape)\n",
    "\n",
    "\n",
    "oversampling_factor = 128  # higher will be slower but more accurate\n",
    "n_samples = 5000\n",
    "\n",
    "non_corrected_samples_for_all_observations = []\n",
    "corrected_samples_for_all_observations = []\n",
    "true_samples = []\n",
    "for obs in observations:\n",
    "    non_corrected_samples_for_all_observations.append(posterior.set_default_x(obs).sample((n_samples,)))\n",
    "    corrected_posterior = ImportanceSamplingPosterior(\n",
    "        potential_fn=Potential(prior=None, x_o=obs),\n",
    "        proposal=posterior.set_default_x(obs),\n",
    "        method=\"sir\",\n",
    "    )\n",
    "    corrected_samples = corrected_posterior.sample((n_samples,),\n",
    "                                                   oversampling_factor=oversampling_factor)\n",
    "    corrected_samples_for_all_observations.append(corrected_samples)\n",
    "\n",
    "    gt_samples = MultivariateNormal(obs, eye(2)).sample((n_samples * 5,))\n",
    "    gt_samples = gt_samples[prior.support.check(gt_samples)][:n_samples]\n",
    "    true_samples.append(gt_samples)\n",
    "\n",
    "\n",
    "for i in range(len(observations)):\n",
    "    fig, ax = marginal_plot(\n",
    "        [non_corrected_samples_for_all_observations[i],\n",
    "         corrected_samples_for_all_observations[i],\n",
    "         true_samples[i]],\n",
    "        limits=[[-5, 5], [-5, 5]],\n",
    "        points=theta_gt[i],\n",
    "        figsize=(5, 1.5),\n",
    "        diag=\"kde\",  # smooth histogram\n",
    "    )\n",
    "    ax[1].legend([\"NPE\", \"Corrected\", \"Ground truth\"], loc=\"upper right\", bbox_to_anchor=[1.8, 1.0, 0.0, 0.0])"
   ]
  },
  {
   "cell_type": "code",
   "execution_count": 12,
   "id": "7be8609b-d616-4a5f-9177-62e230aaa6fe",
   "metadata": {},
   "outputs": [
    {
     "data": {
      "application/vnd.jupyter.widget-view+json": {
       "model_id": "e1ef7485288f47cbb8764148c15fb8a4",
       "version_major": 2,
       "version_minor": 0
      },
      "text/plain": [
       "Drawing 5000 posterior samples:   0%|          | 0/5000 [00:00<?, ?it/s]"
      ]
     },
     "metadata": {},
     "output_type": "display_data"
    },
    {
     "data": {
      "application/vnd.jupyter.widget-view+json": {
       "model_id": "51da76dea8504751875df8d09b9555d3",
       "version_major": 2,
       "version_minor": 0
      },
      "text/plain": [
       "Drawing 9984 posterior samples:   0%|          | 0/9984 [00:00<?, ?it/s]"
      ]
     },
     "metadata": {},
     "output_type": "display_data"
    },
    {
     "data": {
      "application/vnd.jupyter.widget-view+json": {
       "model_id": "9d9b7a9b6bc5429a8adcc46702f65799",
       "version_major": 2,
       "version_minor": 0
      },
      "text/plain": [
       "Drawing 9984 posterior samples:   0%|          | 0/9984 [00:00<?, ?it/s]"
      ]
     },
     "metadata": {},
     "output_type": "display_data"
    },
    {
     "data": {
      "application/vnd.jupyter.widget-view+json": {
       "model_id": "a2867cffd29c43888767c5b351f98739",
       "version_major": 2,
       "version_minor": 0
      },
      "text/plain": [
       "Drawing 9984 posterior samples:   0%|          | 0/9984 [00:00<?, ?it/s]"
      ]
     },
     "metadata": {},
     "output_type": "display_data"
    },
    {
     "data": {
      "application/vnd.jupyter.widget-view+json": {
       "model_id": "effa5e510564447a911c0a89c2e1ffab",
       "version_major": 2,
       "version_minor": 0
      },
      "text/plain": [
       "Drawing 9984 posterior samples:   0%|          | 0/9984 [00:00<?, ?it/s]"
      ]
     },
     "metadata": {},
     "output_type": "display_data"
    },
    {
     "data": {
      "application/vnd.jupyter.widget-view+json": {
       "model_id": "483a825d845b4ddcbeda9186faf53140",
       "version_major": 2,
       "version_minor": 0
      },
      "text/plain": [
       "Drawing 9984 posterior samples:   0%|          | 0/9984 [00:00<?, ?it/s]"
      ]
     },
     "metadata": {},
     "output_type": "display_data"
    },
    {
     "data": {
      "application/vnd.jupyter.widget-view+json": {
       "model_id": "dac2a7c8486a474b9a194115ff3f3291",
       "version_major": 2,
       "version_minor": 0
      },
      "text/plain": [
       "Drawing 9984 posterior samples:   0%|          | 0/9984 [00:00<?, ?it/s]"
      ]
     },
     "metadata": {},
     "output_type": "display_data"
    },
    {
     "data": {
      "application/vnd.jupyter.widget-view+json": {
       "model_id": "cfcae2b3192046369a284f6870d39e80",
       "version_major": 2,
       "version_minor": 0
      },
      "text/plain": [
       "Drawing 9984 posterior samples:   0%|          | 0/9984 [00:00<?, ?it/s]"
      ]
     },
     "metadata": {},
     "output_type": "display_data"
    },
    {
     "data": {
      "application/vnd.jupyter.widget-view+json": {
       "model_id": "eeb2426c75fa46758db6a46e936b3c6d",
       "version_major": 2,
       "version_minor": 0
      },
      "text/plain": [
       "Drawing 9984 posterior samples:   0%|          | 0/9984 [00:00<?, ?it/s]"
      ]
     },
     "metadata": {},
     "output_type": "display_data"
    },
    {
     "data": {
      "application/vnd.jupyter.widget-view+json": {
       "model_id": "8a3801ebf43544db8290d5c5cb6c6b27",
       "version_major": 2,
       "version_minor": 0
      },
      "text/plain": [
       "Drawing 9984 posterior samples:   0%|          | 0/9984 [00:00<?, ?it/s]"
      ]
     },
     "metadata": {},
     "output_type": "display_data"
    },
    {
     "data": {
      "application/vnd.jupyter.widget-view+json": {
       "model_id": "100c3c2cb7344b5a8b98c8a1c5e1138b",
       "version_major": 2,
       "version_minor": 0
      },
      "text/plain": [
       "Drawing 9984 posterior samples:   0%|          | 0/9984 [00:00<?, ?it/s]"
      ]
     },
     "metadata": {},
     "output_type": "display_data"
    },
    {
     "data": {
      "application/vnd.jupyter.widget-view+json": {
       "model_id": "c6cdbb7875f743e092dfaa117451819b",
       "version_major": 2,
       "version_minor": 0
      },
      "text/plain": [
       "Drawing 9984 posterior samples:   0%|          | 0/9984 [00:00<?, ?it/s]"
      ]
     },
     "metadata": {},
     "output_type": "display_data"
    },
    {
     "data": {
      "application/vnd.jupyter.widget-view+json": {
       "model_id": "77c445175047415cb40b9530e3f5583a",
       "version_major": 2,
       "version_minor": 0
      },
      "text/plain": [
       "Drawing 9984 posterior samples:   0%|          | 0/9984 [00:00<?, ?it/s]"
      ]
     },
     "metadata": {},
     "output_type": "display_data"
    },
    {
     "data": {
      "application/vnd.jupyter.widget-view+json": {
       "model_id": "108dcdf958384145b1356ace4c7b0ba9",
       "version_major": 2,
       "version_minor": 0
      },
      "text/plain": [
       "Drawing 9984 posterior samples:   0%|          | 0/9984 [00:00<?, ?it/s]"
      ]
     },
     "metadata": {},
     "output_type": "display_data"
    },
    {
     "data": {
      "application/vnd.jupyter.widget-view+json": {
       "model_id": "79994222014a4ffd96b0293ae03d6e15",
       "version_major": 2,
       "version_minor": 0
      },
      "text/plain": [
       "Drawing 9984 posterior samples:   0%|          | 0/9984 [00:00<?, ?it/s]"
      ]
     },
     "metadata": {},
     "output_type": "display_data"
    },
    {
     "data": {
      "application/vnd.jupyter.widget-view+json": {
       "model_id": "9fc3741a0a78429c9ffa2ab6d10c205c",
       "version_major": 2,
       "version_minor": 0
      },
      "text/plain": [
       "Drawing 9984 posterior samples:   0%|          | 0/9984 [00:00<?, ?it/s]"
      ]
     },
     "metadata": {},
     "output_type": "display_data"
    },
    {
     "data": {
      "application/vnd.jupyter.widget-view+json": {
       "model_id": "9407481ec96c415ba96ee4b76ea6af4a",
       "version_major": 2,
       "version_minor": 0
      },
      "text/plain": [
       "Drawing 9984 posterior samples:   0%|          | 0/9984 [00:00<?, ?it/s]"
      ]
     },
     "metadata": {},
     "output_type": "display_data"
    },
    {
     "data": {
      "application/vnd.jupyter.widget-view+json": {
       "model_id": "7f3607692c24400596318609e0b78229",
       "version_major": 2,
       "version_minor": 0
      },
      "text/plain": [
       "Drawing 9984 posterior samples:   0%|          | 0/9984 [00:00<?, ?it/s]"
      ]
     },
     "metadata": {},
     "output_type": "display_data"
    },
    {
     "data": {
      "application/vnd.jupyter.widget-view+json": {
       "model_id": "9adc1253530e48898c1f352d756efc53",
       "version_major": 2,
       "version_minor": 0
      },
      "text/plain": [
       "Drawing 9984 posterior samples:   0%|          | 0/9984 [00:00<?, ?it/s]"
      ]
     },
     "metadata": {},
     "output_type": "display_data"
    },
    {
     "data": {
      "application/vnd.jupyter.widget-view+json": {
       "model_id": "e2deaa44be354f5d86d1a3117b6305a4",
       "version_major": 2,
       "version_minor": 0
      },
      "text/plain": [
       "Drawing 9984 posterior samples:   0%|          | 0/9984 [00:00<?, ?it/s]"
      ]
     },
     "metadata": {},
     "output_type": "display_data"
    },
    {
     "data": {
      "application/vnd.jupyter.widget-view+json": {
       "model_id": "90a6619faf3b4701bd3657bd93d1c3d7",
       "version_major": 2,
       "version_minor": 0
      },
      "text/plain": [
       "Drawing 9984 posterior samples:   0%|          | 0/9984 [00:00<?, ?it/s]"
      ]
     },
     "metadata": {},
     "output_type": "display_data"
    },
    {
     "data": {
      "application/vnd.jupyter.widget-view+json": {
       "model_id": "f75f54920e6f4d2bafda8c2368b4dd40",
       "version_major": 2,
       "version_minor": 0
      },
      "text/plain": [
       "Drawing 9984 posterior samples:   0%|          | 0/9984 [00:00<?, ?it/s]"
      ]
     },
     "metadata": {},
     "output_type": "display_data"
    },
    {
     "data": {
      "application/vnd.jupyter.widget-view+json": {
       "model_id": "85ecf3838ffa4184bdbdf01616528c81",
       "version_major": 2,
       "version_minor": 0
      },
      "text/plain": [
       "Drawing 9984 posterior samples:   0%|          | 0/9984 [00:00<?, ?it/s]"
      ]
     },
     "metadata": {},
     "output_type": "display_data"
    },
    {
     "data": {
      "application/vnd.jupyter.widget-view+json": {
       "model_id": "968e15c0cc40470f8397f23531d126ca",
       "version_major": 2,
       "version_minor": 0
      },
      "text/plain": [
       "Drawing 9984 posterior samples:   0%|          | 0/9984 [00:00<?, ?it/s]"
      ]
     },
     "metadata": {},
     "output_type": "display_data"
    },
    {
     "data": {
      "application/vnd.jupyter.widget-view+json": {
       "model_id": "a52692a8b6a54e238c1677abadcf9493",
       "version_major": 2,
       "version_minor": 0
      },
      "text/plain": [
       "Drawing 9984 posterior samples:   0%|          | 0/9984 [00:00<?, ?it/s]"
      ]
     },
     "metadata": {},
     "output_type": "display_data"
    },
    {
     "data": {
      "application/vnd.jupyter.widget-view+json": {
       "model_id": "cbfc1ffaef104422aaf7e65f76e599a7",
       "version_major": 2,
       "version_minor": 0
      },
      "text/plain": [
       "Drawing 9984 posterior samples:   0%|          | 0/9984 [00:00<?, ?it/s]"
      ]
     },
     "metadata": {},
     "output_type": "display_data"
    },
    {
     "data": {
      "application/vnd.jupyter.widget-view+json": {
       "model_id": "dc6655bb92454b268e504a492fb5f334",
       "version_major": 2,
       "version_minor": 0
      },
      "text/plain": [
       "Drawing 9984 posterior samples:   0%|          | 0/9984 [00:00<?, ?it/s]"
      ]
     },
     "metadata": {},
     "output_type": "display_data"
    },
    {
     "data": {
      "application/vnd.jupyter.widget-view+json": {
       "model_id": "bd6ba21857614e4288769dbb547297e6",
       "version_major": 2,
       "version_minor": 0
      },
      "text/plain": [
       "Drawing 9984 posterior samples:   0%|          | 0/9984 [00:00<?, ?it/s]"
      ]
     },
     "metadata": {},
     "output_type": "display_data"
    },
    {
     "data": {
      "application/vnd.jupyter.widget-view+json": {
       "model_id": "509781159f9244ce8f5987c881be47bd",
       "version_major": 2,
       "version_minor": 0
      },
      "text/plain": [
       "Drawing 9984 posterior samples:   0%|          | 0/9984 [00:00<?, ?it/s]"
      ]
     },
     "metadata": {},
     "output_type": "display_data"
    },
    {
     "data": {
      "application/vnd.jupyter.widget-view+json": {
       "model_id": "37cdf95fde9d4f9ab2946adb1f55795c",
       "version_major": 2,
       "version_minor": 0
      },
      "text/plain": [
       "Drawing 9984 posterior samples:   0%|          | 0/9984 [00:00<?, ?it/s]"
      ]
     },
     "metadata": {},
     "output_type": "display_data"
    },
    {
     "data": {
      "application/vnd.jupyter.widget-view+json": {
       "model_id": "ef2077c3f7e04c43b09b204ba9ed8fd1",
       "version_major": 2,
       "version_minor": 0
      },
      "text/plain": [
       "Drawing 9984 posterior samples:   0%|          | 0/9984 [00:00<?, ?it/s]"
      ]
     },
     "metadata": {},
     "output_type": "display_data"
    },
    {
     "data": {
      "application/vnd.jupyter.widget-view+json": {
       "model_id": "2525ff8c2e874b11ae4ad9543c93f482",
       "version_major": 2,
       "version_minor": 0
      },
      "text/plain": [
       "Drawing 9984 posterior samples:   0%|          | 0/9984 [00:00<?, ?it/s]"
      ]
     },
     "metadata": {},
     "output_type": "display_data"
    },
    {
     "data": {
      "application/vnd.jupyter.widget-view+json": {
       "model_id": "b9c3f84860d94be3a70fea4f2611f447",
       "version_major": 2,
       "version_minor": 0
      },
      "text/plain": [
       "Drawing 9984 posterior samples:   0%|          | 0/9984 [00:00<?, ?it/s]"
      ]
     },
     "metadata": {},
     "output_type": "display_data"
    },
    {
     "data": {
      "application/vnd.jupyter.widget-view+json": {
       "model_id": "d298fcb40da84f52bc19027e5dfb1ebd",
       "version_major": 2,
       "version_minor": 0
      },
      "text/plain": [
       "Drawing 9984 posterior samples:   0%|          | 0/9984 [00:00<?, ?it/s]"
      ]
     },
     "metadata": {},
     "output_type": "display_data"
    },
    {
     "data": {
      "application/vnd.jupyter.widget-view+json": {
       "model_id": "e407c111893440418c16960ccb43ef1b",
       "version_major": 2,
       "version_minor": 0
      },
      "text/plain": [
       "Drawing 9984 posterior samples:   0%|          | 0/9984 [00:00<?, ?it/s]"
      ]
     },
     "metadata": {},
     "output_type": "display_data"
    },
    {
     "data": {
      "application/vnd.jupyter.widget-view+json": {
       "model_id": "7116bb546b0746f0948d3e54e2b1407f",
       "version_major": 2,
       "version_minor": 0
      },
      "text/plain": [
       "Drawing 9984 posterior samples:   0%|          | 0/9984 [00:00<?, ?it/s]"
      ]
     },
     "metadata": {},
     "output_type": "display_data"
    },
    {
     "data": {
      "application/vnd.jupyter.widget-view+json": {
       "model_id": "2ca24857037043458e9f96e6c3cb88bc",
       "version_major": 2,
       "version_minor": 0
      },
      "text/plain": [
       "Drawing 9984 posterior samples:   0%|          | 0/9984 [00:00<?, ?it/s]"
      ]
     },
     "metadata": {},
     "output_type": "display_data"
    },
    {
     "data": {
      "application/vnd.jupyter.widget-view+json": {
       "model_id": "c4db55a193ee4530af1a6483e0945e4a",
       "version_major": 2,
       "version_minor": 0
      },
      "text/plain": [
       "Drawing 9984 posterior samples:   0%|          | 0/9984 [00:00<?, ?it/s]"
      ]
     },
     "metadata": {},
     "output_type": "display_data"
    },
    {
     "data": {
      "application/vnd.jupyter.widget-view+json": {
       "model_id": "6de6f94e3a4f4a7186dfd8d4c4fd9b80",
       "version_major": 2,
       "version_minor": 0
      },
      "text/plain": [
       "Drawing 9984 posterior samples:   0%|          | 0/9984 [00:00<?, ?it/s]"
      ]
     },
     "metadata": {},
     "output_type": "display_data"
    },
    {
     "data": {
      "application/vnd.jupyter.widget-view+json": {
       "model_id": "e63786ebdda74ca6ab67a46c256570a8",
       "version_major": 2,
       "version_minor": 0
      },
      "text/plain": [
       "Drawing 9984 posterior samples:   0%|          | 0/9984 [00:00<?, ?it/s]"
      ]
     },
     "metadata": {},
     "output_type": "display_data"
    },
    {
     "data": {
      "application/vnd.jupyter.widget-view+json": {
       "model_id": "37092b983bd74a3e9866c5e6b995c79e",
       "version_major": 2,
       "version_minor": 0
      },
      "text/plain": [
       "Drawing 9984 posterior samples:   0%|          | 0/9984 [00:00<?, ?it/s]"
      ]
     },
     "metadata": {},
     "output_type": "display_data"
    },
    {
     "data": {
      "application/vnd.jupyter.widget-view+json": {
       "model_id": "3561672dd7b94afb905a3ae9947fd141",
       "version_major": 2,
       "version_minor": 0
      },
      "text/plain": [
       "Drawing 9984 posterior samples:   0%|          | 0/9984 [00:00<?, ?it/s]"
      ]
     },
     "metadata": {},
     "output_type": "display_data"
    },
    {
     "data": {
      "application/vnd.jupyter.widget-view+json": {
       "model_id": "484636bb87a0468da568114d4788a5ae",
       "version_major": 2,
       "version_minor": 0
      },
      "text/plain": [
       "Drawing 9984 posterior samples:   0%|          | 0/9984 [00:00<?, ?it/s]"
      ]
     },
     "metadata": {},
     "output_type": "display_data"
    },
    {
     "data": {
      "application/vnd.jupyter.widget-view+json": {
       "model_id": "138d4d601542467997b1cf99a93466c3",
       "version_major": 2,
       "version_minor": 0
      },
      "text/plain": [
       "Drawing 9984 posterior samples:   0%|          | 0/9984 [00:00<?, ?it/s]"
      ]
     },
     "metadata": {},
     "output_type": "display_data"
    },
    {
     "data": {
      "application/vnd.jupyter.widget-view+json": {
       "model_id": "bd2c20a23cae4259b85b7dbdca6c0005",
       "version_major": 2,
       "version_minor": 0
      },
      "text/plain": [
       "Drawing 9984 posterior samples:   0%|          | 0/9984 [00:00<?, ?it/s]"
      ]
     },
     "metadata": {},
     "output_type": "display_data"
    },
    {
     "data": {
      "application/vnd.jupyter.widget-view+json": {
       "model_id": "d09380e98eb44a25b4df4b4c8acfc051",
       "version_major": 2,
       "version_minor": 0
      },
      "text/plain": [
       "Drawing 9984 posterior samples:   0%|          | 0/9984 [00:00<?, ?it/s]"
      ]
     },
     "metadata": {},
     "output_type": "display_data"
    },
    {
     "data": {
      "application/vnd.jupyter.widget-view+json": {
       "model_id": "7e6413888b134625b9420d48fec29b82",
       "version_major": 2,
       "version_minor": 0
      },
      "text/plain": [
       "Drawing 9984 posterior samples:   0%|          | 0/9984 [00:00<?, ?it/s]"
      ]
     },
     "metadata": {},
     "output_type": "display_data"
    },
    {
     "data": {
      "application/vnd.jupyter.widget-view+json": {
       "model_id": "31f69502e8e24c109304a5bbeb98460b",
       "version_major": 2,
       "version_minor": 0
      },
      "text/plain": [
       "Drawing 9984 posterior samples:   0%|          | 0/9984 [00:00<?, ?it/s]"
      ]
     },
     "metadata": {},
     "output_type": "display_data"
    },
    {
     "data": {
      "application/vnd.jupyter.widget-view+json": {
       "model_id": "9f60e42b780b4adbb406a29f20660636",
       "version_major": 2,
       "version_minor": 0
      },
      "text/plain": [
       "Drawing 9984 posterior samples:   0%|          | 0/9984 [00:00<?, ?it/s]"
      ]
     },
     "metadata": {},
     "output_type": "display_data"
    },
    {
     "data": {
      "application/vnd.jupyter.widget-view+json": {
       "model_id": "4563ef57e4ee4bef983ee85ed0b2d645",
       "version_major": 2,
       "version_minor": 0
      },
      "text/plain": [
       "Drawing 9984 posterior samples:   0%|          | 0/9984 [00:00<?, ?it/s]"
      ]
     },
     "metadata": {},
     "output_type": "display_data"
    },
    {
     "data": {
      "application/vnd.jupyter.widget-view+json": {
       "model_id": "b8024b19c64b4f648fba2d3536e3a887",
       "version_major": 2,
       "version_minor": 0
      },
      "text/plain": [
       "Drawing 9984 posterior samples:   0%|          | 0/9984 [00:00<?, ?it/s]"
      ]
     },
     "metadata": {},
     "output_type": "display_data"
    },
    {
     "data": {
      "application/vnd.jupyter.widget-view+json": {
       "model_id": "e2e1866e8ac5471aa1425f0979b8b468",
       "version_major": 2,
       "version_minor": 0
      },
      "text/plain": [
       "Drawing 9984 posterior samples:   0%|          | 0/9984 [00:00<?, ?it/s]"
      ]
     },
     "metadata": {},
     "output_type": "display_data"
    },
    {
     "data": {
      "application/vnd.jupyter.widget-view+json": {
       "model_id": "1d1e12b19399413d9072a94748725d19",
       "version_major": 2,
       "version_minor": 0
      },
      "text/plain": [
       "Drawing 9984 posterior samples:   0%|          | 0/9984 [00:00<?, ?it/s]"
      ]
     },
     "metadata": {},
     "output_type": "display_data"
    },
    {
     "data": {
      "application/vnd.jupyter.widget-view+json": {
       "model_id": "955262ad674648109edd42d7dde66cf9",
       "version_major": 2,
       "version_minor": 0
      },
      "text/plain": [
       "Drawing 9984 posterior samples:   0%|          | 0/9984 [00:00<?, ?it/s]"
      ]
     },
     "metadata": {},
     "output_type": "display_data"
    },
    {
     "data": {
      "application/vnd.jupyter.widget-view+json": {
       "model_id": "fb885e3971e84d6b99ee6d4d369e454d",
       "version_major": 2,
       "version_minor": 0
      },
      "text/plain": [
       "Drawing 9984 posterior samples:   0%|          | 0/9984 [00:00<?, ?it/s]"
      ]
     },
     "metadata": {},
     "output_type": "display_data"
    },
    {
     "data": {
      "application/vnd.jupyter.widget-view+json": {
       "model_id": "bc40fdf069624a9d83328a574a5bb06b",
       "version_major": 2,
       "version_minor": 0
      },
      "text/plain": [
       "Drawing 9984 posterior samples:   0%|          | 0/9984 [00:00<?, ?it/s]"
      ]
     },
     "metadata": {},
     "output_type": "display_data"
    },
    {
     "data": {
      "application/vnd.jupyter.widget-view+json": {
       "model_id": "e89dd5e55a4a456e97d0e83bdf66f4b3",
       "version_major": 2,
       "version_minor": 0
      },
      "text/plain": [
       "Drawing 9984 posterior samples:   0%|          | 0/9984 [00:00<?, ?it/s]"
      ]
     },
     "metadata": {},
     "output_type": "display_data"
    },
    {
     "data": {
      "application/vnd.jupyter.widget-view+json": {
       "model_id": "0d72837f351d4cffaf37ef3df3fa5405",
       "version_major": 2,
       "version_minor": 0
      },
      "text/plain": [
       "Drawing 9984 posterior samples:   0%|          | 0/9984 [00:00<?, ?it/s]"
      ]
     },
     "metadata": {},
     "output_type": "display_data"
    },
    {
     "data": {
      "application/vnd.jupyter.widget-view+json": {
       "model_id": "29cde7e284a9429ca12be3baf0d5e8e0",
       "version_major": 2,
       "version_minor": 0
      },
      "text/plain": [
       "Drawing 9984 posterior samples:   0%|          | 0/9984 [00:00<?, ?it/s]"
      ]
     },
     "metadata": {},
     "output_type": "display_data"
    },
    {
     "data": {
      "application/vnd.jupyter.widget-view+json": {
       "model_id": "f15dcff3061842619a6f382b45beef44",
       "version_major": 2,
       "version_minor": 0
      },
      "text/plain": [
       "Drawing 9984 posterior samples:   0%|          | 0/9984 [00:00<?, ?it/s]"
      ]
     },
     "metadata": {},
     "output_type": "display_data"
    },
    {
     "data": {
      "application/vnd.jupyter.widget-view+json": {
       "model_id": "a7c34fcb41fb47cb912479f7c370d41a",
       "version_major": 2,
       "version_minor": 0
      },
      "text/plain": [
       "Drawing 9984 posterior samples:   0%|          | 0/9984 [00:00<?, ?it/s]"
      ]
     },
     "metadata": {},
     "output_type": "display_data"
    },
    {
     "data": {
      "application/vnd.jupyter.widget-view+json": {
       "model_id": "2987bd47f17a4b5e9e34dd4c7a7a213d",
       "version_major": 2,
       "version_minor": 0
      },
      "text/plain": [
       "Drawing 9984 posterior samples:   0%|          | 0/9984 [00:00<?, ?it/s]"
      ]
     },
     "metadata": {},
     "output_type": "display_data"
    },
    {
     "data": {
      "application/vnd.jupyter.widget-view+json": {
       "model_id": "c5b3eccdff1c43d9ae5bcaa8b3c269d5",
       "version_major": 2,
       "version_minor": 0
      },
      "text/plain": [
       "Drawing 9984 posterior samples:   0%|          | 0/9984 [00:00<?, ?it/s]"
      ]
     },
     "metadata": {},
     "output_type": "display_data"
    },
    {
     "data": {
      "application/vnd.jupyter.widget-view+json": {
       "model_id": "bda07c0fa03d4c70a0f3dc70748d933b",
       "version_major": 2,
       "version_minor": 0
      },
      "text/plain": [
       "Drawing 9984 posterior samples:   0%|          | 0/9984 [00:00<?, ?it/s]"
      ]
     },
     "metadata": {},
     "output_type": "display_data"
    },
    {
     "data": {
      "application/vnd.jupyter.widget-view+json": {
       "model_id": "37a96ce5d47249d4b7201b7810a64eab",
       "version_major": 2,
       "version_minor": 0
      },
      "text/plain": [
       "Drawing 9984 posterior samples:   0%|          | 0/9984 [00:00<?, ?it/s]"
      ]
     },
     "metadata": {},
     "output_type": "display_data"
    },
    {
     "data": {
      "application/vnd.jupyter.widget-view+json": {
       "model_id": "e3a9a1c03f9e4ab1b115ca0ee6477eef",
       "version_major": 2,
       "version_minor": 0
      },
      "text/plain": [
       "Drawing 1024 posterior samples:   0%|          | 0/1024 [00:00<?, ?it/s]"
      ]
     },
     "metadata": {},
     "output_type": "display_data"
    }
   ],
   "source": [
    "non_corrected_samples_for_all_observations.append(posterior.set_default_x(obs).sample((n_samples,)))\n",
    "corrected_posterior = ImportanceSamplingPosterior(\n",
    "    potential_fn=Potential(prior=None, x_o=obs),\n",
    "    proposal=posterior.set_default_x(obs),\n",
    "    method=\"sir\",\n",
    ")\n",
    "corrected_samples = corrected_posterior.sample((n_samples,), oversampling_factor=oversampling_factor)\n",
    "corrected_samples_for_all_observations.append(corrected_samples)\n",
    "\n",
    "gt_samples = MultivariateNormal(obs, eye(2)).sample((n_samples * 5,))\n",
    "gt_samples = gt_samples[prior.support.check(gt_samples)][:n_samples]\n",
    "true_samples.append(gt_samples)"
   ]
  }
 ],
 "metadata": {
  "kernelspec": {
   "display_name": "Python 3 (ipykernel)",
   "language": "python",
   "name": "python3"
  },
  "language_info": {
   "codemirror_mode": {
    "name": "ipython",
    "version": 3
   },
   "file_extension": ".py",
   "mimetype": "text/x-python",
   "name": "python",
   "nbconvert_exporter": "python",
   "pygments_lexer": "ipython3",
   "version": "3.12.4"
  }
 },
 "nbformat": 4,
 "nbformat_minor": 5
}
