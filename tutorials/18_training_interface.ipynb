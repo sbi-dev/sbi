{
 "cells": [
  {
   "cell_type": "markdown",
   "id": "02ef8ff7-d8e5-43d7-9795-92e39069c9b5",
   "metadata": {},
   "source": [
    "\n",
    "# More flexibility over the training loop and samplers"
   ]
  },
  {
   "cell_type": "markdown",
   "id": "0e5d329e-b30e-43c9-a497-d088d3ce57d5",
   "metadata": {},
   "source": [
    "Note, you can find the original version of this notebook at [tutorials/18_training_interface.ipynb](https://github.com/sbi-dev/sbi/blob/main/tutorials/18_training_interface.ipynb) in the `sbi` repository."
   ]
  },
  {
   "cell_type": "markdown",
   "id": "a3b3e07e-838a-46e2-9ed6-02bfb27a4ede",
   "metadata": {},
   "source": [
    "In the previous tutorials, we showed how `sbi` can be used to train neural networks and sample from the posterior. If you are an `sbi` power-user, then you might want more control over individual stages of this process. For example, you might want to write a custom training loop or more flexibility over the samplers that are used. In this tutorial, we will explain how you can achieve this."
   ]
  },
  {
   "cell_type": "code",
   "execution_count": 1,
   "id": "3ce293ed-5d23-4440-b3fc-22c66bd079a8",
   "metadata": {},
   "outputs": [
    {
     "name": "stderr",
     "output_type": "stream",
     "text": [
      "WARNING (pytensor.tensor.blas): Using NumPy C-API based implementation for BLAS functions.\n"
     ]
    }
   ],
   "source": [
    "import torch\n",
    "from torch import ones, zeros, eye, float32, as_tensor, tensor\n",
    "from torch.distributions import MultivariateNormal\n",
    "from torch.optim.adam import Adam\n",
    "\n",
    "from sbi.utils import BoxUniform\n",
    "from sbi.analysis import pairplot"
   ]
  },
  {
   "cell_type": "markdown",
   "id": "c8dffec5-843a-48fc-91e8-2feb1f22a0e6",
   "metadata": {},
   "source": [
    "As in the previous tutorials, we first define the prior and simulator and use them to generate simulated data: "
   ]
  },
  {
   "cell_type": "code",
   "execution_count": 2,
   "id": "19122e88-2a8d-4e09-8c4e-061a087d175a",
   "metadata": {},
   "outputs": [],
   "source": [
    "prior = BoxUniform(-3 * ones((2,)), 3 * ones((2,)))\n",
    "\n",
    "def simulator(theta):\n",
    "    return theta + torch.randn_like(theta) * 0.1\n",
    "\n",
    "theta = prior.sample((1000,))\n",
    "x = simulator(theta)"
   ]
  },
  {
   "cell_type": "markdown",
   "id": "3877610b-c76c-4653-abba-355c387f8e06",
   "metadata": {},
   "source": [
    "Below, we will first describe how you can run `Neural Posterior Estimation (NPE)`. We will attach code snippets for `Neural Likelihood Estimation (NLE)` and `Neural Ratio Estimation (NRE)` at the end."
   ]
  },
  {
   "cell_type": "markdown",
   "id": "73f85c4d-fa93-44dd-85ca-24787b4cfbfc",
   "metadata": {},
   "source": [
    "## Neural Posterior Estimation"
   ]
  },
  {
   "cell_type": "markdown",
   "id": "6c9d207b-fd00-4c8c-ab9b-5eb9f811c21a",
   "metadata": {},
   "source": [
    "First, we have to decide on what `DensityEstimator` to use. In this tutorial, we will use a `Neural Spline Flow` (NSF) taken from the [`nflows`](https://github.com/bayesiains/nflows) package."
   ]
  },
  {
   "cell_type": "code",
   "execution_count": 3,
   "id": "8b520f28-5f30-444a-92b7-3407f70860ac",
   "metadata": {},
   "outputs": [],
   "source": [
    "from sbi.neural_nets.build_nets import build_nsf\n",
    "\n",
    "density_estimator = build_nsf(theta, x)"
   ]
  },
  {
   "cell_type": "markdown",
   "id": "a208249e-d606-4bf4-b1f5-22cc777efef1",
   "metadata": {},
   "source": [
    "Every `density_estimator` in `sbi` implements at least two methods: `.sample()` and `.loss()`. Their input and output shapes are:\n",
    "\n",
    "\n",
    "**`density_estimator.loss(input, condition)`:**\n",
    "```\n",
    "Args:\n",
    "    input: `(batch_dim, *event_shape_input)`\n",
    "    condition: `(batch_dim, *event_shape_condition)`\n",
    "\n",
    "Returns:\n",
    "    Loss of shape `(batch_dim,)`\n",
    "```\n",
    "\n",
    "**`density_estimator.sample(sample_shape, condition)`:**\n",
    "```\n",
    "Args:\n",
    "    sample_shape: Tuple of ints which indicates the desired number of samples.\n",
    "    condition: `(batch_dim, *event_shape_condition)`\n",
    "\n",
    "Returns:\n",
    "    Samples of shape `(sample_shape, batch_dim, *event_shape_input)`\n",
    "```"
   ]
  },
  {
   "cell_type": "markdown",
   "id": "c5bd6333-cee6-4b28-90ce-693ff4e2931a",
   "metadata": {},
   "source": [
    "Some `DensityEstimator`s, such as Normalizing flows, also allow to evaluate the `log probability`. In those cases, the `DensityEstimator` also has the following method:\n",
    "\n",
    "**`density_estimator.log_prob(input, condition)`:**\n",
    "```\n",
    "Args:\n",
    "    input: `(sample_dim, batch_dim, *event_shape_input)`\n",
    "    condition: `(batch_dim, *event_shape_condition)`\n",
    "\n",
    "Returns:\n",
    "    Loss of shape `(sample_dim, batch_dim,)`\n",
    "```"
   ]
  },
  {
   "cell_type": "markdown",
   "id": "5e4a0c77-2407-4c90-a708-afd826f5d1da",
   "metadata": {},
   "source": [
    "## Training the density estimator"
   ]
  },
  {
   "cell_type": "markdown",
   "id": "612f82c9-6ba8-4270-bda1-06c47f87f0cd",
   "metadata": {},
   "source": [
    "We can now write our own custom training loop to train the above-generated `DensityEstimator`:"
   ]
  },
  {
   "cell_type": "code",
   "execution_count": 4,
   "id": "27188bb7-4a3f-433f-9d68-04c18fbe6485",
   "metadata": {},
   "outputs": [],
   "source": [
    "opt = Adam(list(density_estimator.parameters()), lr=5e-4)\n",
    "\n",
    "for _ in range(100):\n",
    "    opt.zero_grad()\n",
    "    losses = density_estimator.loss(theta, condition=x)\n",
    "    loss = torch.mean(losses)\n",
    "    loss.backward()\n",
    "    opt.step()"
   ]
  },
  {
   "cell_type": "markdown",
   "id": "30babe16-8ad6-48e0-b0a1-600f8b88a6cc",
   "metadata": {},
   "source": [
    "Given this trained `density_estimator`, we can already generate samples from the posterior given observations (but we have to adhere to the shape specifications of the `DensityEstimator` explained above:"
   ]
  },
  {
   "cell_type": "code",
   "execution_count": null,
   "id": "ca964f37-b7aa-4570-80b3-64667b0a30e1",
   "metadata": {},
   "outputs": [],
   "source": [
    "x_o = torch.as_tensor([[1.0, 1.0]])\n",
    "print(f\"Shape of x_o: {x_o.shape}            # Must have a batch dimension\")\n",
    "\n",
    "samples = density_estimator.sample((1000,), condition=x_o).detach()\n",
    "print(f\"Shape of samples: {samples.shape}  # Samples are returned with a batch dimension.\")\n",
    "\n",
    "samples = samples.squeeze(dim=1)\n",
    "print(f\"Shape of samples: {samples.shape}     # Removed batch dimension.\")"
   ]
  },
  {
   "cell_type": "code",
   "execution_count": 6,
   "id": "cd37d472-4b6b-43f2-8fef-2ad967544a6a",
   "metadata": {},
   "outputs": [
    {
     "data": {
      "image/png": "[encoded data removed]",
      "text/plain": [
       "<Figure size 300x300 with 4 Axes>"
      ]
     },
     "metadata": {},
     "output_type": "display_data"
    }
   ],
   "source": [
    "_ = pairplot(samples, limits=[[-3, 3], [-3, 3]], figsize=(3, 3))"
   ]
  },
  {
   "cell_type": "markdown",
   "id": "3f1cab68-4196-47ee-a4c2-3ed2cd8a454b",
   "metadata": {},
   "source": [
    "You can also wrap the `DensityEstimator` as a `DirectPosterior`. The `DirectPosterior` is also returned by  `inference.build_posterior` and you have already learned how to use it in the [introduction tutorial](https://sbi-dev.github.io/sbi/dev/tutorials/00_getting_started/) and the [amortization tutotrial](https://sbi-dev.github.io/sbi/dev/tutorials/01_gaussian_amortized/). It adds the following functionality over the raw `DensityEstimator`:\n",
    "\n",
    "- automatically reject samples outside of the prior bounds  \n",
    "- compute the Maximum-a-posteriori (MAP) estimate\n",
    "\n"
   ]
  },
  {
   "cell_type": "code",
   "execution_count": 7,
   "id": "77f5e432-1399-4b26-8942-bb710a009651",
   "metadata": {},
   "outputs": [],
   "source": [
    "from sbi.inference.posteriors import DirectPosterior\n",
    "\n",
    "posterior = DirectPosterior(density_estimator, prior)"
   ]
  },
  {
   "cell_type": "code",
   "execution_count": 8,
   "id": "012870c0-7551-4895-9b3d-7cae3d103ae9",
   "metadata": {},
   "outputs": [
    {
     "name": "stdout",
     "output_type": "stream",
     "text": [
      "Shape of x_o: torch.Size([1, 2])\n"
     ]
    },
    {
     "data": {
      "application/vnd.jupyter.widget-view+json": {
       "model_id": "568643d340f84b69843cff4976d573b0",
       "version_major": 2,
       "version_minor": 0
      },
      "text/plain": [
       "Drawing 1000 posterior samples:   0%|          | 0/1000 [00:00<?, ?it/s]"
      ]
     },
     "metadata": {},
     "output_type": "display_data"
    },
    {
     "name": "stdout",
     "output_type": "stream",
     "text": [
      "Shape of samples: torch.Size([1000, 2])\n"
     ]
    }
   ],
   "source": [
    "print(f\"Shape of x_o: {x_o.shape}\")\n",
    "samples = posterior.sample((1000,), x=x_o)\n",
    "print(f\"Shape of samples: {samples.shape}\")"
   ]
  },
  {
   "cell_type": "markdown",
   "id": "0abcbddf",
   "metadata": {},
   "source": [
    "Note: For the `DirectPosterior`, the batch dimension is optional, i.e., it is possible to sample for multiple observations simultaneously. Use `.sample_batch` in that case."
   ]
  },
  {
   "cell_type": "code",
   "execution_count": 9,
   "id": "e01d496c-d4f0-43aa-96a3-103afa745416",
   "metadata": {},
   "outputs": [
    {
     "data": {
      "image/png": "[encoded data removed]",
      "text/plain": [
       "<Figure size 300x300 with 4 Axes>"
      ]
     },
     "metadata": {},
     "output_type": "display_data"
    }
   ],
   "source": [
    "_ = pairplot(samples, limits=[[-3, 3], [-3, 3]], figsize=(3, 3), upper=\"contour\")"
   ]
  },
  {
   "cell_type": "markdown",
   "id": "5a5b9e60-f504-4837-9ce8-c5af63dd03bd",
   "metadata": {},
   "source": [
    "## Neural Likelihood Estimation"
   ]
  },
  {
   "cell_type": "markdown",
   "id": "a502a9df-dde9-4953-84ea-8058e05432fd",
   "metadata": {},
   "source": [
    "The workflow for Neural Likelihood Estimation is very similar. Unlike for NPE, we have to sample with MCMC (or variational inference) though, so we will build an `MCMCPosterior` after training:"
   ]
  },
  {
   "cell_type": "code",
   "execution_count": 10,
   "id": "794d401c-9410-4f39-9fd8-787a90a391cc",
   "metadata": {},
   "outputs": [],
   "source": [
    "from sbi.neural_nets.flow import build_nsf\n",
    "from sbi.inference.posteriors import MCMCPosterior\n",
    "from sbi.inference.potentials import likelihood_estimator_based_potential"
   ]
  },
  {
   "cell_type": "code",
   "execution_count": 11,
   "id": "ccb162e2-c4ed-4268-82f7-81ef79ab8ddb",
   "metadata": {},
   "outputs": [],
   "source": [
    "density_estimator = build_nsf(x, theta)  # Note that the order of x and theta are reversed in comparison to NPE.\n",
    "\n",
    "# Training loop.\n",
    "opt = Adam(list(density_estimator.parameters()), lr=5e-4)\n",
    "for _ in range(100):\n",
    "    opt.zero_grad()\n",
    "    losses = density_estimator.loss(x, condition=theta)\n",
    "    loss = torch.mean(losses)\n",
    "    loss.backward()\n",
    "    opt.step()\n",
    "\n",
    "# Build the posterior.\n",
    "potential, tf = likelihood_estimator_based_potential(density_estimator, prior, x_o)\n",
    "posterior = MCMCPosterior(\n",
    "    potential,\n",
    "    proposal=prior,\n",
    "    theta_transform=tf,\n",
    "    num_chains=50,\n",
    "    thin=1,\n",
    "    method=\"slice_np_vectorized\"\n",
    ")"
   ]
  },
  {
   "cell_type": "code",
   "execution_count": 12,
   "id": "cb208afd-5ec0-4995-82ee-8611ade423e3",
   "metadata": {},
   "outputs": [
    {
     "data": {
      "application/vnd.jupyter.widget-view+json": {
       "model_id": "effbde14110b4fa5bf9365ac7efb7ea4",
       "version_major": 2,
       "version_minor": 0
      },
      "text/plain": [
       "Running vectorized MCMC with 50 chains:   0%|          | 0/13500 [00:00<?, ?it/s]"
      ]
     },
     "metadata": {},
     "output_type": "display_data"
    },
    {
     "data": {
      "image/png": "[encoded data removed]",
      "text/plain": [
       "<Figure size 300x300 with 4 Axes>"
      ]
     },
     "metadata": {},
     "output_type": "display_data"
    }
   ],
   "source": [
    "samples = posterior.sample((1000,), x=x_o)\n",
    "_ = pairplot(samples, limits=[[-3, 3], [-3, 3]], figsize=(3, 3), upper=\"contour\")"
   ]
  },
  {
   "cell_type": "markdown",
   "id": "2cb59c62-389e-4292-8cb5-1fbfc883076b",
   "metadata": {},
   "source": [
    "## Neural Ratio Estimation\n",
    "\n",
    "Finally, for NRE, at this point, you have to implement the loss function yourself:"
   ]
  },
  {
   "cell_type": "code",
   "execution_count": 13,
   "id": "6078a8bb-c03f-4649-8035-632581f0b8c2",
   "metadata": {},
   "outputs": [],
   "source": [
    "from sbi.neural_nets.classifier import build_resnet_classifier\n",
    "from sbi.inference.posteriors import MCMCPosterior\n",
    "from sbi.inference.potentials import ratio_estimator_based_potential\n",
    "from sbi import utils as utils"
   ]
  },
  {
   "cell_type": "code",
   "execution_count": 14,
   "id": "1644654f-12e3-4655-a8fc-00f80c4dde39",
   "metadata": {},
   "outputs": [],
   "source": [
    "net = build_resnet_classifier(x, theta)"
   ]
  },
  {
   "cell_type": "code",
   "execution_count": 15,
   "id": "337b13c5-e6f8-460f-80c4-bdec4b30e93f",
   "metadata": {},
   "outputs": [],
   "source": [
    "opt = Adam(list(net.parameters()), lr=5e-4)\n",
    "\n",
    "\n",
    "def classifier_logits(net, theta, x, num_atoms):\n",
    "    batch_size = theta.shape[0]\n",
    "    repeated_x = utils.repeat_rows(x, num_atoms)\n",
    "    probs = ones(batch_size, batch_size) * (1 - eye(batch_size)) / (batch_size - 1)\n",
    "    choices = torch.multinomial(probs, num_samples=num_atoms - 1, replacement=False)\n",
    "    contrasting_theta = theta[choices]\n",
    "    atomic_theta = torch.cat((theta[:, None, :], contrasting_theta), dim=1).reshape(\n",
    "        batch_size * num_atoms, -1\n",
    "    )\n",
    "    return net(atomic_theta, repeated_x)\n",
    "\n",
    "\n",
    "num_atoms = 10\n",
    "for _ in range(300):\n",
    "    opt.zero_grad()\n",
    "    batch_size = theta.shape[0]\n",
    "    logits = classifier_logits(net, theta, x, num_atoms=num_atoms)\n",
    "    logits = logits.reshape(batch_size, num_atoms)\n",
    "    log_probs = logits[:, 0] - torch.logsumexp(logits, dim=-1)\n",
    "    loss = -torch.mean(log_probs)\n",
    "    loss.backward()\n",
    "    opt.step()"
   ]
  },
  {
   "cell_type": "code",
   "execution_count": null,
   "id": "f70d4cb3-b283-4b36-b259-5c8cc4b540c8",
   "metadata": {},
   "outputs": [],
   "source": [
    "potential, tf = ratio_estimator_based_potential(net, prior, x_o)\n",
    "posterior = MCMCPosterior(\n",
    "    potential,\n",
    "    proposal=prior,\n",
    "    theta_transform=tf,\n",
    "    num_chains=100,\n",
    "    method=\"slice_np_vectorized\"\n",
    ")"
   ]
  },
  {
   "cell_type": "code",
   "execution_count": 17,
   "id": "8a0b3de2-b630-4502-ace1-2a4b827451be",
   "metadata": {},
   "outputs": [
    {
     "data": {
      "application/vnd.jupyter.widget-view+json": {
       "model_id": "154eb52746d64e92b7e819e4f7257cc1",
       "version_major": 2,
       "version_minor": 0
      },
      "text/plain": [
       "Running vectorized MCMC with 100 chains:   0%|          | 0/26000 [00:00<?, ?it/s]"
      ]
     },
     "metadata": {},
     "output_type": "display_data"
    },
    {
     "data": {
      "image/png": "[encoded data removed]",
      "text/plain": [
       "<Figure size 300x300 with 4 Axes>"
      ]
     },
     "metadata": {},
     "output_type": "display_data"
    }
   ],
   "source": [
    "samples = posterior.sample((1000,), x=x_o)\n",
    "_ = pairplot(samples, limits=[[-3, 3], [-3, 3]], figsize=(3, 3))"
   ]
  },
  {
   "cell_type": "code",
   "execution_count": null,
   "id": "c73e7f28-ac9e-4953-9c29-f06b5fe1548b",
   "metadata": {},
   "outputs": [],
   "source": []
  }
 ],
 "metadata": {
  "kernelspec": {
   "display_name": "Python 3 (ipykernel)",
   "language": "python",
   "name": "python3"
  },
  "language_info": {
   "codemirror_mode": {
    "name": "ipython",
    "version": 3
   },
   "file_extension": ".py",
   "mimetype": "text/x-python",
   "name": "python",
   "nbconvert_exporter": "python",
   "pygments_lexer": "ipython3",
   "version": "3.10.14"
  },
  "toc": {
   "base_numbering": 1,
   "nav_menu": {},
   "number_sections": true,
   "sideBar": true,
   "skip_h1_title": false,
   "title_cell": "Table of Contents",
   "title_sidebar": "Contents",
   "toc_cell": false,
   "toc_position": {},
   "toc_section_display": true,
   "toc_window_display": false
  }
 },
 "nbformat": 4,
 "nbformat_minor": 5
}
