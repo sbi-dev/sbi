{
 "cells": [
  {
   "cell_type": "markdown",
   "metadata": {},
   "source": [
    "# Score-based methods : improvements and new features\n",
    "\n",
    "`sbi` incorporates recent algorithms based on Score Matching generative models. This is encoded in the sbi class NPSE (Neural Posterior Score Estimation).\n",
    "\n",
    "In this tutorial, we will show how to use NPSE and highlight the new functionalities of score-based methods with a toy example.\n",
    "\n",
    "For more information, see :\n",
    "\n",
    "**Score Matching**:\n",
    "\n",
    "- Hyvärinen, A. \"Estimation of Non-Normalized Statistical Models by Score Matching.\" JMLR 2005.\n",
    "\n",
    "- Song, Y., et al. \"Score-Based Generative Modeling through Stochastic Differential Equations.\" ICLR 2021.\n",
    "\n",
    "- Geffner, T., Papamakarios, G., and Mnih, A. \"Score modeling for simulation-based inference.\" NeurIPS 2022 Workshop on Score-Based Methods. 2022.\n",
    "\n",
    "- Sharrock, L., Simons, J., et al. \"Sequential neural score estimation: Likelihood-free inference with conditional score based diffusion models.\" ICML 2024.\n",
    "\n",
    "- Karras, T.,  Aittala, M., et al. \"Elucidating the Design Space of Diffusion-Based Generative Models.\" NeurIPS 2022.\n",
    "\n",
    "- Linhart J., et al. \"Diffusion posterior sampling for simulation-based inference in tall data settings.\" 2024\n"
   ]
  },
  {
   "cell_type": "markdown",
   "metadata": {},
   "source": [
    "## Key concepts of NPSE\n",
    "NPSE approximates a target posterior distribution $p_0(\\theta|x_0)$ by learning its score function, i.e., gradient of the log-density of the (diffused) posterior $\\nabla_{\\theta}\\log p_t(\\theta|x)$, for all times $t$ and all conditional observations $x$, using the denoising score matching loss. Score-based generative models are indeed closely linked to diffusion models, especially during the sampling phase.\n",
    "\n",
    "Note that only the **single-round** version of NPSE is implemented currently.\n",
    "\n",
    "Sampling from the target posterior $p_0(\\theta|x_0)$ can be split into $2$ steps :\n",
    "- *forward* step : diffuse samples from $p_0(\\theta|x_0)$ over time and learn the diffused scores i.e. $\\nabla_{\\theta}\\log p_t(\\theta|x)$ for all $t \\in [0,t_{\\max}]$. At the end ($t=t_{\\max}$) the diffused posterior is really close to a standard Gaussian.\n",
    "- *reverse* step : reverse the diffusion process, starting from a standard Gaussian, using the learnt scores to get new samples from $p_0(\\theta|x_0)$.\n",
    "\n",
    "We first introduce the sampling for **individual** posterior (when $x_0$ is a single observation) then for **tall** posterior (when $x_0$ is  a batch of i.i.d. observations.)"
   ]
  },
  {
   "cell_type": "markdown",
   "metadata": {},
   "source": [
    "## Single observation\n",
    "\n",
    "In this section, $x_0$ is a single observation. We define a simple simulator in 2D."
   ]
  },
  {
   "cell_type": "code",
   "execution_count": 77,
   "metadata": {},
   "outputs": [],
   "source": [
    "import torch\n",
    "\n",
    "from sbi.analysis import pairplot\n",
    "from sbi.inference import NPSE\n",
    "from sbi.utils import BoxUniform"
   ]
  },
  {
   "cell_type": "code",
   "execution_count": 78,
   "metadata": {},
   "outputs": [],
   "source": [
    "# Example toy simulator\n",
    "# Define the prior\n",
    "num_dims = 2\n",
    "num_sims = 5000\n",
    "prior = BoxUniform(low=-torch.ones(num_dims), high=torch.ones(num_dims))\n",
    "\n",
    "def simulator(theta):\n",
    "    \"\"\"Linear gaussian simulator.\"\"\"\n",
    "    return theta + 1.0 + torch.randn_like(theta) * 0.1\n",
    "\n",
    "# Produce simulations\n",
    "theta = prior.sample((num_sims,))\n",
    "x = simulator(theta)\n",
    "\n",
    "# Ground truth parameter/observation\n",
    "theta_o = torch.zeros(num_dims)\n",
    "x_o = simulator(theta_o)"
   ]
  },
  {
   "cell_type": "code",
   "execution_count": 79,
   "metadata": {},
   "outputs": [
    {
     "data": {
      "text/plain": [
       "<sbi.inference.trainers.npse.npse.NPSE at 0x7cf48c47fdf0>"
      ]
     },
     "execution_count": 79,
     "metadata": {},
     "output_type": "execute_result"
    }
   ],
   "source": [
    "# Instantiate NPSE and append simulations\n",
    "inference = NPSE(prior=prior, sde_type=\"vp\")\n",
    "inference.append_simulations(theta, x)"
   ]
  },
  {
   "cell_type": "markdown",
   "metadata": {},
   "source": [
    "The argument `sde_type` defines whether the forward diffusion process has a noising schedule that is Variance Exploding (`ve`, i.e., [SMLD](https://proceedings.neurips.cc/paper/2019/hash/3001ef257407d5a371a96dcd947c7d93-Abstract.html?ref=https://githubhelp.com)), Variance Preserving (`vp`, i.e., [DDPM](https://proceedings.neurips.cc/paper/2020/hash/4c5bcfec8584af0d967f1ab10179ca4b-Abstract.html)), or sub-Variance Preserving (`subvp`) in the limit.  "
   ]
  },
  {
   "cell_type": "markdown",
   "metadata": {},
   "source": [
    "### Training and improved convergence checks"
   ]
  },
  {
   "cell_type": "code",
   "execution_count": 80,
   "metadata": {},
   "outputs": [
    {
     "name": "stdout",
     "output_type": "stream",
     "text": [
      " Neural network successfully converged after 361 epochs."
     ]
    }
   ],
   "source": [
    "# Train the score estimator\n",
    "score_estimator = inference.train()"
   ]
  },
  {
   "cell_type": "markdown",
   "metadata": {},
   "source": [
    "The method `train` calls the denoising score-matching loss corresponding to the chosen noising schedule (VE, VP, subVP). As the variance of the loss may be high, especially for times $t$ near $0$, **control variates** are automatically used in the expression of the loss.  \n",
    "\n",
    "As NPSE deals with times, **convergence** checks have been changed during training : the validation loss is now evaluated at a **fixed** set of times $T = \\{t_0,..,t_N\\}$ to reduce its variance, meaning that the entire validation batch is only evaluated at all times $t_i \\in T$.  \n",
    "\n",
    "After training, we obtain an **amortized** score estimate that approximates the score of the diffused posterior distribution for all times $t \\in [0,t_{\\max}]$ and **any** conditional observation $x$, i.e. $\\nabla_{\\theta}\\log p_t(\\theta|x)$.  \n",
    "We can use these score estimates to reverse the diffusion process and sample from the target distribution."
   ]
  },
  {
   "cell_type": "markdown",
   "metadata": {},
   "source": [
    "### Sampling procedures"
   ]
  },
  {
   "cell_type": "code",
   "execution_count": 82,
   "metadata": {},
   "outputs": [
    {
     "name": "stderr",
     "output_type": "stream",
     "text": [
      "\n",
      "\u001b[A\n",
      "\u001b[A\n",
      "\u001b[A\n",
      "\u001b[A\n",
      "\u001b[A\n",
      "\u001b[A\n",
      "\u001b[A\n",
      "\u001b[A\n",
      "\u001b[A\n",
      "\u001b[A\n",
      "\u001b[A\n",
      "\u001b[A\n",
      "\u001b[A\n",
      "\u001b[A\n",
      "\u001b[A\n",
      "\u001b[A\n",
      "\u001b[A\n",
      "\u001b[A\n",
      "\u001b[A\n",
      "\u001b[A\n",
      "\u001b[A\n",
      "\u001b[A\n",
      "\u001b[A\n",
      "\u001b[A\n",
      "\u001b[A\n",
      "\u001b[A\n",
      "\u001b[A\n",
      "\u001b[A\n",
      "\u001b[A\n",
      "\u001b[A\n",
      "\u001b[A\n",
      "\u001b[A\n",
      "\u001b[A\n",
      "\u001b[A\n",
      "\u001b[A\n",
      "\u001b[A\n",
      "\u001b[A\n",
      "\u001b[A\n",
      "\u001b[A\n",
      "\u001b[A\n",
      "\u001b[A\n",
      "\u001b[A\n",
      "\u001b[A\n",
      "\u001b[A\n",
      "\u001b[A\n",
      "\u001b[A\n",
      "\u001b[A\n",
      "\u001b[A\n",
      "\u001b[A\n",
      "\u001b[A\n",
      "\u001b[A\n",
      "\u001b[A\n",
      "\u001b[A\n",
      "\u001b[A\n",
      "\u001b[A\n",
      "\u001b[A\n",
      "\u001b[A\n",
      "\u001b[A\n",
      "\u001b[A\n",
      "\u001b[A\n",
      "\u001b[A\n",
      "\u001b[A\n",
      "\u001b[A\n",
      "\u001b[A\n",
      "\u001b[A\n",
      "\u001b[A\n",
      "\u001b[A\n",
      "\u001b[A\n",
      "\u001b[A\n",
      "\u001b[A\n",
      "\u001b[A\n",
      "\u001b[A\n",
      "\u001b[A\n",
      "\u001b[A\n",
      "\u001b[A\n",
      "\u001b[A\n",
      "\u001b[A\n",
      "\u001b[A\n",
      "\u001b[A\n",
      "\u001b[A\n",
      "\u001b[A\n",
      "\u001b[A\n",
      "\u001b[A\n",
      "\u001b[A\n",
      "\u001b[A\n",
      "\u001b[A\n",
      "\u001b[A\n",
      "\u001b[A\n",
      "\u001b[A\n",
      "\u001b[A\n",
      "\u001b[A\n",
      "\u001b[A\n",
      "\u001b[A\n",
      "\u001b[A\n",
      "\u001b[A\n",
      "\u001b[A\n",
      "\u001b[A\n",
      "\u001b[A\n",
      "\u001b[A\n",
      "\u001b[A\n",
      "\u001b[A\n",
      "\u001b[A\n",
      "\u001b[A\n",
      "\u001b[A\n",
      "\u001b[A\n",
      "\u001b[A\n",
      "\u001b[A\n",
      "\u001b[A\n",
      "\u001b[A\n",
      "\u001b[A\n",
      "\u001b[A\n",
      "\u001b[A\n",
      "\u001b[A\n",
      "\u001b[A\n",
      "\u001b[A\n",
      "\u001b[A\n",
      "\u001b[A\n",
      "\u001b[A\n",
      "\u001b[A\n",
      "\u001b[A\n",
      "\u001b[A\n",
      "\u001b[A\n",
      "\u001b[A\n",
      "\u001b[A\n",
      "\u001b[A\n",
      "\u001b[A\n",
      "\u001b[A\n",
      "\u001b[A\n",
      "\u001b[A\n",
      "\u001b[A\n",
      "\u001b[A\n",
      "\u001b[A\n",
      "\u001b[A\n",
      "\u001b[A\n",
      "\u001b[A\n",
      "Drawing 10000 posterior samples: 100%|██████████| 499/499 [00:17<00:00, 28.73it/s]\n",
      "\n",
      "\u001b[A\n",
      "\u001b[A\n",
      "\u001b[A\n",
      "\u001b[A\n",
      "\u001b[A\n",
      "\u001b[A\n",
      "\u001b[A\n",
      "\u001b[A\n",
      "\u001b[A\n",
      "\u001b[A\n",
      "\u001b[A\n",
      "\u001b[A\n",
      "\u001b[A\n",
      "\u001b[A\n",
      "\u001b[A\n",
      "\u001b[A\n",
      "\u001b[A\n",
      "\u001b[A\n",
      "\u001b[A\n",
      "\u001b[A\n",
      "\u001b[A\n",
      "\u001b[A\n",
      "\u001b[A\n",
      "Drawing 100 posterior samples: 100%|██████████| 499/499 [00:03<00:00, 148.17it/s]\n",
      "Drawing 10000 posterior samples: 10099it [00:20, 486.58it/s]\n"
     ]
    }
   ],
   "source": [
    "# Build the posterior using the trained score estimate, and sample with the sde option\n",
    "posterior = inference.build_posterior(score_estimator, sample_with=\"sde\")\n",
    "samples = posterior.sample((10000,), x=x_o, predictor=\"euler_maruyama\", corrector=\"langevin\")"
   ]
  },
  {
   "cell_type": "markdown",
   "metadata": {},
   "source": [
    "The argument `sample_with` allows to choose which kind of solver we want to use to reverse the diffusion equation :\n",
    "\n",
    "- `\"ode\"` : builds the probability flow ODE using the zuko library. We can sample from the flow afterwards by calling `.sample()`\n",
    "\n",
    "- `\"sde\"` : solves the reverse SDE by alternating **prediction** and **correction** steps  \n",
    "\n",
    "Both options contain **rejection sampling** steps to ensure prior coverage.  \n",
    "Note that in the `\"sde\"` option, the only available predictor is `\"euler_maruyama\"` and the available correctors are `\"langevin\"` (for **Unadjusted Langevin Dynamics**) and `\"gibbs\"`.  \n",
    "\n",
    "The argument `x_o` in the `.sample()` method indicates which observation the posterior should be evaluated at before sampling and replaces the `.set_default()`method."
   ]
  },
  {
   "cell_type": "markdown",
   "metadata": {},
   "source": [
    "### MAP estimation\n",
    "It is possible to get a Maximum A Posterior (MAP) estimate in the case of score-based methods. Note that in this case, you should **first** evaluate the posterior at the desired observation, using the `set_default_x` method !  \n",
    "The optimization procedure can be interrupted by the user : the best estimate will still be saved and can be accessed with `.map()`.  \n",
    "\n",
    "The default values used by this function (e.g. number of optimization steps, number of starting positions, learning rate) might require hand-tuning from the user for the problem at hand."
   ]
  },
  {
   "cell_type": "code",
   "execution_count": 83,
   "metadata": {},
   "outputs": [
    {
     "name": "stderr",
     "output_type": "stream",
     "text": [
      "\n",
      "\u001b[A\n",
      "\u001b[A\n",
      "\u001b[A\n",
      "\u001b[A\n",
      "\u001b[A\n",
      "\u001b[A\n",
      "\u001b[A\n",
      "\u001b[A\n",
      "Drawing 1000 posterior samples: 100%|██████████| 499/499 [00:01<00:00, 451.12it/s]\n",
      "Drawing 1000 posterior samples: 100%|██████████| 1000/1000 [00:01<00:00, 895.55it/s]\n"
     ]
    },
    {
     "name": "stdout",
     "output_type": "stream",
     "text": [
      "tensor([[-0.1480,  0.0664]])\n"
     ]
    }
   ],
   "source": [
    "# MAP estimation\n",
    "posterior.set_default_x(x_o)\n",
    "map_est = posterior.map(num_iter=5)\n",
    "print(map_est)"
   ]
  },
  {
   "cell_type": "code",
   "execution_count": 97,
   "metadata": {},
   "outputs": [
    {
     "name": "stderr",
     "output_type": "stream",
     "text": [
      "/tmp/ipykernel_598559/3862025465.py:2: DeprecationWarning: you passed deprecated arguments **kwargs: ['points_offdiag'], use fig_kwargs instead. We continue calling the deprecated pairplot function\n",
      "  fig, ax = pairplot(\n"
     ]
    },
    {
     "data": {
      "text/plain": [
       "<matplotlib.legend.Legend at 0x7cf4846aea70>"
      ]
     },
     "execution_count": 97,
     "metadata": {},
     "output_type": "execute_result"
    },
    {
     "data": {
      "image/png": "[encoded data removed]",
      "text/plain": [
       "<Figure size 500x500 with 4 Axes>"
      ]
     },
     "metadata": {},
     "output_type": "display_data"
    }
   ],
   "source": [
    "# Plot posterior samples and MAP\n",
    "fig, ax = pairplot(\n",
    "    samples, limits=[[-2, 2], [-2, 2], [-2, 2]], figsize=(5, 5),\n",
    "    labels=[r\"$\\theta_1$\", r\"$\\theta_2$\"],\n",
    "    points=[map_est,theta_o], # add ground truth thetas and MAP\n",
    "    points_offdiag={\"markersize\": 6}\n",
    ")\n",
    "ax[0][1].legend([\"Ground truth\", \"MAP\"], loc=\"upper right\")#, bbox_to_anchor=[2.0, 1.0, 0.0, 0.0]);"
   ]
  },
  {
   "cell_type": "markdown",
   "metadata": {},
   "source": [
    "### Batched sampling\n",
    "Given a batch of observations $[x_1, ..., x_B]$, it is now possible to get samples from posteriors $p(\\theta|x_1)$, ... ,$p(\\theta|x_B)$, in a vectorized manner and without retraining the score network ! This is implemented in the `.sample_batched()` method of the posterior.  \n",
    "The argument `sample_shape` specifies the desired number of samples for **each** posterior."
   ]
  },
  {
   "cell_type": "code",
   "execution_count": 85,
   "metadata": {},
   "outputs": [
    {
     "name": "stderr",
     "output_type": "stream",
     "text": [
      "\n",
      "\u001b[A\n",
      "\u001b[A\n",
      "\u001b[A\n",
      "Drawing 100 posterior samples: 100%|██████████| 499/499 [00:00<00:00, 1332.21it/s]\n",
      "Drawing 100 posterior samples: 100%|██████████| 100/100 [00:00<00:00, 259.99it/s]"
     ]
    },
    {
     "name": "stdout",
     "output_type": "stream",
     "text": [
      "The size of the batched samples is :  torch.Size([100, 5, 2])\n"
     ]
    },
    {
     "name": "stderr",
     "output_type": "stream",
     "text": [
      "\n"
     ]
    }
   ],
   "source": [
    "# Sample in a vectorized manner from different posteriors\n",
    "num_obs = 5\n",
    "x_batch = simulator(theta_o.repeat(5,1)) # get 5 different obs from the same theta\n",
    "posterior_batched_samples = posterior.sample_batched(sample_shape=(100,), x=x_batch)\n",
    "print(\"The size of the batched samples is : \", posterior_batched_samples.size())"
   ]
  },
  {
   "cell_type": "markdown",
   "metadata": {},
   "source": [
    "## IID setting\n",
    "\n",
    "In this section, $x_0$ is a batch of i.i.d. observations, $x_0=[x_0^0,...,x_0^N]$. It is possible to sample from the *tall* posterior distribution $p(\\theta|x_0^0,...,x_0^N)$ using NPSE trained for **individual** observations !  \n",
    "\n",
    "Once the score estimate is trained (see previous section), sampling from $p(\\theta|x_0^0,...,x_0^N)$ is split into $2$ steps :\n",
    "\n",
    "- estimate the scores of the *tall* posterior for all times $t$ based on the learnt scores of **individual** posteriors $p(\\theta|x_0^i)$ for all $i$. $4$ different methods are implemented for the moment.\n",
    "\n",
    "- reverse the diffusion process or perform Langevin dynamics using the estimated scores  \n",
    "\n",
    "Note that in this i.i.d. setting, only the `\"sde\"` option is implemented for the moment.\n"
   ]
  },
  {
   "cell_type": "code",
   "execution_count": 86,
   "metadata": {},
   "outputs": [
    {
     "name": "stderr",
     "output_type": "stream",
     "text": []
    },
    {
     "name": "stderr",
     "output_type": "stream",
     "text": [
      "\n",
      "\u001b[A\n",
      "\u001b[A\n",
      "\u001b[A\n",
      "\u001b[A\n",
      "\u001b[A\n",
      "\u001b[A\n",
      "\u001b[A\n",
      "\u001b[A\n",
      "\u001b[A\n",
      "\u001b[A\n",
      "\u001b[A\n",
      "\u001b[A\n",
      "\u001b[A\n",
      "\u001b[A\n",
      "\u001b[A\n",
      "\u001b[A\n",
      "\u001b[A\n",
      "\u001b[A\n",
      "\u001b[A\n",
      "\u001b[A\n",
      "\u001b[A\n",
      "\u001b[A\n",
      "\u001b[A\n",
      "\u001b[A\n",
      "\u001b[A\n",
      "\u001b[A\n",
      "\u001b[A\n",
      "\u001b[A\n",
      "\u001b[A\n",
      "\u001b[A\n",
      "\u001b[A\n",
      "\u001b[A\n",
      "\u001b[A\n",
      "\u001b[A\n",
      "\u001b[A\n",
      "\u001b[A\n",
      "\u001b[A\n",
      "\u001b[A\n",
      "\u001b[A\n",
      "\u001b[A\n",
      "\u001b[A\n",
      "\u001b[A\n",
      "\u001b[A\n",
      "\u001b[A\n",
      "\u001b[A\n",
      "\u001b[A\n",
      "\u001b[A\n",
      "\u001b[A\n",
      "\u001b[A\n",
      "\u001b[A\n",
      "\u001b[A\n",
      "\u001b[A\n",
      "\u001b[A\n",
      "\u001b[A\n",
      "\u001b[A\n",
      "\u001b[A\n",
      "\u001b[A\n",
      "\u001b[A\n",
      "\u001b[A\n",
      "\u001b[A\n",
      "\u001b[A\n",
      "\u001b[A\n",
      "\u001b[A\n",
      "\u001b[A\n",
      "\u001b[A\n",
      "\u001b[A\n",
      "\u001b[A\n",
      "\u001b[A\n",
      "\u001b[A\n",
      "\u001b[A\n",
      "\u001b[A\n",
      "\u001b[A\n",
      "\u001b[A\n",
      "\u001b[A\n",
      "\u001b[A\n",
      "\u001b[A\n",
      "\u001b[A\n",
      "\u001b[A\n",
      "\u001b[A\n",
      "\u001b[A\n",
      "\u001b[A\n",
      "\u001b[A\n",
      "\u001b[A\n",
      "\u001b[A\n",
      "Drawing 100 posterior samples: 100%|██████████| 499/499 [00:13<00:00, 37.00it/s]\n",
      "Drawing 100 posterior samples: 100%|██████████| 100/100 [00:13<00:00,  7.41it/s]\n"
     ]
    }
   ],
   "source": [
    "# Build the tall posterior, and sample using sde option\n",
    "tall_posterior = inference.build_posterior(score_estimator=score_estimator, prior=prior, sample_with=\"sde\")\n",
    "tall_samples = tall_posterior.sample(sample_shape=(100,),x=x_batch,iid_method=\"auto_gauss\",corrector=\"gibbs\")"
   ]
  },
  {
   "cell_type": "markdown",
   "metadata": {},
   "source": [
    "The argument `iid_method` only applies when `x_o` is a **batch** of observations.  \n",
    "It specifies the method used to estimate the scores of the *tall* posterior at different times $t$ using the scores of individual posteriors.  For the moment the available options are :\n",
    "\n",
    "- `\"jac_gauss\"`, `\"gauss\"` and `\"auto_gauss\"` (see [Linhart et al., 2024](https://arxiv.org/abs/2404.07593) for more details)\n",
    "\n",
    "- `\"fnpe\"`, standing for Factorized Neural Posterior Estimation (see [Geffner et al., 2023](https://arxiv.org/abs/2209.14249) for more details)."
   ]
  },
  {
   "cell_type": "code",
   "execution_count": 96,
   "metadata": {},
   "outputs": [
    {
     "data": {
      "text/plain": [
       "<matplotlib.legend.Legend at 0x7cf484767250>"
      ]
     },
     "execution_count": 96,
     "metadata": {},
     "output_type": "execute_result"
    },
    {
     "data": {
      "image/png": "[encoded data removed]",
      "text/plain": [
       "<Figure size 500x500 with 4 Axes>"
      ]
     },
     "metadata": {},
     "output_type": "display_data"
    }
   ],
   "source": [
    "# Plot the samples and the ground truth parameter\n",
    "fig, ax = pairplot(\n",
    "    tall_samples, limits=[[-2, 2], [-2, 2], [-2, 2]], figsize=(5, 5),\n",
    "    labels=[r\"$\\theta_1$\", r\"$\\theta_2$\"],\n",
    "    points=[theta_o], # add ground truth thetas\n",
    "    fig_kwargs=dict(\n",
    "        points_offdiag={\"markersize\": 6},\n",
    "    ),\n",
    ")\n",
    "ax[0][1].legend([\"Ground truth\"], loc=\"upper right\")"
   ]
  },
  {
   "cell_type": "markdown",
   "metadata": {},
   "source": []
  }
 ],
 "metadata": {
  "kernelspec": {
   "display_name": "sbi_dev",
   "language": "python",
   "name": "python3"
  },
  "language_info": {
   "codemirror_mode": {
    "name": "ipython",
    "version": 3
   },
   "file_extension": ".py",
   "mimetype": "text/x-python",
   "name": "python",
   "nbconvert_exporter": "python",
   "pygments_lexer": "ipython3",
   "version": "3.10.16"
  }
 },
 "nbformat": 4,
 "nbformat_minor": 4
}
