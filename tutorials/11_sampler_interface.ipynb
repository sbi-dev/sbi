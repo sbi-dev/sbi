{
 "cells": [
  {
   "cell_type": "markdown",
   "metadata": {},
   "source": [
    "# The sampler interface\n",
    "\n",
    "Note: this tutorial requires that the user is already familiar with the [flexible interface](https://www.mackelab.org/sbi/tutorial/02_flexible_interface/).\n",
    "\n",
    "`sbi` implements three methods: SNPE, SNLE, and SNRE. When using SNPE, the trained neural network directly approximates the posterior. Thus, sampling from the posterior can be done by sampling from the trained neural network. The neural networks trained in SNLE and SNRE approximate the likelihood(-ratio). Thus, in order to draw samples from the posterior, one has to perform additional sampling steps, e.g. Markov-chain Monte-Carlo (MCMC). In `sbi`, the implemented samplers are:\n",
    "- Markov-chain Monte-Carlo (MCMC)\n",
    "- Rejection sampling  \n",
    "- Variational inference (VI)\n",
    "\n",
    "When using the flexible interface, the sampler as well as its attributes can be set with `sample_with=\"mcmc\"`, `mcmc_method=\"slice_np\"`, and `mcmc_parameters={}`. However, for full flexibility in customizing the sampler, we recommend using the **sampler interface**. This interface is described here. Further details can be found [here](https://github.com/mackelab/sbi/pull/573)."
   ]
  },
  {
   "cell_type": "markdown",
   "metadata": {},
   "source": [
    "## Main syntax for SNLE"
   ]
  },
  {
   "cell_type": "code",
   "execution_count": 1,
   "metadata": {},
   "outputs": [
    {
     "name": "stdout",
     "output_type": "stream",
     "text": [
      " Neural network successfully converged after 52 epochs."
     ]
    }
   ],
   "source": [
    "import torch\n",
    "\n",
    "from sbi.inference import SNLE\n",
    "from sbi.inference import likelihood_estimator_based_potential, MCMCPosterior\n",
    "\n",
    "# dummy Gaussian simulator for demonstration\n",
    "num_dim = 2\n",
    "prior = torch.distributions.MultivariateNormal(torch.zeros(num_dim), torch.eye(num_dim))\n",
    "theta = prior.sample((1000,))\n",
    "x = theta + torch.randn((1000, num_dim))\n",
    "x_o = torch.randn((1, num_dim))\n",
    "\n",
    "inference = SNLE(show_progress_bars=False)\n",
    "likelihood_estimator = inference.append_simulations(theta, x).train()\n",
    "\n",
    "potential_fn, parameter_transform = likelihood_estimator_based_potential(likelihood_estimator, prior, x_o)\n",
    "posterior = MCMCPosterior(potential_fn, proposal=prior, theta_transform=parameter_transform)"
   ]
  },
  {
   "cell_type": "markdown",
   "metadata": {},
   "source": [
    "## Further explanation\n",
    "\n",
    "The first lines are the same as for the flexible interface:"
   ]
  },
  {
   "cell_type": "code",
   "execution_count": 2,
   "metadata": {},
   "outputs": [
    {
     "name": "stdout",
     "output_type": "stream",
     "text": [
      " Neural network successfully converged after 33 epochs."
     ]
    }
   ],
   "source": [
    "inference = SNLE()\n",
    "likelihood_estimator = inference.append_simulations(theta, x).train()"
   ]
  },
  {
   "cell_type": "markdown",
   "metadata": {},
   "source": [
    "Next, we obtain the potential function. A potential function is a function of the parameter $f(\\theta)$. The posterior is proportional to the product of likelihood and prior: $p(\\theta | x_o) \\propto p(x_o | \\theta)p(\\theta)$. The potential function is the logarithm of the right-hand side of this equation: $f(\\theta) = \\log(p(x_o | \\theta)p(\\theta))$"
   ]
  },
  {
   "cell_type": "code",
   "execution_count": 3,
   "metadata": {},
   "outputs": [],
   "source": [
    "potential_fn, parameter_transform = likelihood_estimator_based_potential(likelihood_estimator, prior, x_o)"
   ]
  },
  {
   "cell_type": "markdown",
   "metadata": {},
   "source": [
    "By calling the `potential_fn`, you can evaluate the potential:"
   ]
  },
  {
   "cell_type": "code",
   "execution_count": 4,
   "metadata": {},
   "outputs": [],
   "source": [
    "# Assuming that your parameters are 1D.\n",
    "potential = potential_fn(torch.zeros(1, num_dim))  # -> returns f(0) = log( p(x_o|0) p(0) )"
   ]
  },
  {
   "cell_type": "markdown",
   "metadata": {},
   "source": [
    "The other object that is returned by `likelihood_estimator_based_potential` is a `parameter_transform`. The `parameter_transform` is a [pytorch transform](https://github.com/pytorch/pytorch/blob/master/torch/distributions/transforms.py). The `parameter_transform` is a fixed transform that is can be applied to parameter `theta`. It transforms the parameters into unconstrained space (if the prior is bounded, e.g. `BoxUniform`), and standardizes the parameters (i.e. zero mean, one std). Using `parameter_transform` during sampling is optional, but it usually improves the performance of MCMC."
   ]
  },
  {
   "cell_type": "code",
   "execution_count": 5,
   "metadata": {},
   "outputs": [
    {
     "name": "stdout",
     "output_type": "stream",
     "text": [
      "tensor([[0., 0.]])\n"
     ]
    }
   ],
   "source": [
    "theta_tf = parameter_transform(torch.zeros(1, num_dim))\n",
    "theta_original = parameter_transform.inv(theta_tf)\n",
    "print(theta_original)  # -> tensor([[0.0]])"
   ]
  },
  {
   "cell_type": "markdown",
   "metadata": {},
   "source": [
    "After having obtained the `potential_fn`, we can sample from the posterior with MCMC or rejection sampling:"
   ]
  },
  {
   "cell_type": "code",
   "execution_count": 6,
   "metadata": {},
   "outputs": [],
   "source": [
    "from sbi.inference import MCMCPosterior, RejectionPosterior\n",
    "\n",
    "posterior = MCMCPosterior(potential_fn, proposal=prior, theta_transform=parameter_transform)\n",
    "posterior = RejectionPosterior(potential_fn, proposal=prior)"
   ]
  },
  {
   "cell_type": "markdown",
   "metadata": {},
   "source": [
    "## Main syntax for SNPE\n",
    "\n",
    "SNPE usually does not require MCMC or rejection sampling (if you still need it, you can use the same syntax as above with the `posterior_estimator_based_potential` function). Instead, SNPE samples from the neural network. If the support of the prior is bounded, some samples can lie outside of the support of the prior. The `DirectPosterior` class automatically rejects these samples:"
   ]
  },
  {
   "cell_type": "code",
   "execution_count": 7,
   "metadata": {},
   "outputs": [
    {
     "name": "stdout",
     "output_type": "stream",
     "text": [
      " Neural network successfully converged after 57 epochs."
     ]
    }
   ],
   "source": [
    "from sbi.inference import SNPE\n",
    "from sbi.inference import DirectPosterior\n",
    "\n",
    "inference = SNPE()\n",
    "posterior_estimator = inference.append_simulations(theta, x).train()\n",
    "\n",
    "posterior = DirectPosterior(posterior_estimator, prior=prior)"
   ]
  },
  {
   "cell_type": "code",
   "execution_count": null,
   "metadata": {},
   "outputs": [],
   "source": []
  }
 ],
 "metadata": {
  "kernelspec": {
   "display_name": "Python 3 (ipykernel)",
   "language": "python",
   "name": "python3"
  },
  "language_info": {
   "codemirror_mode": {
    "name": "ipython",
    "version": 3
   },
   "file_extension": ".py",
   "mimetype": "text/x-python",
   "name": "python",
   "nbconvert_exporter": "python",
   "pygments_lexer": "ipython3",
   "version": "3.7.11"
  }
 },
 "nbformat": 4,
 "nbformat_minor": 4
}
