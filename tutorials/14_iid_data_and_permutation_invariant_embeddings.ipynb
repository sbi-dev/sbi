{
 "cells": [
  {
   "cell_type": "markdown",
   "metadata": {},
   "source": [
    "# SBI with iid data and permutation-invariant embeddings\n",
    "\n",
    "There are scenarios in which we observe multiple data points per experiment and we can assume that they are independent and identically distributed (iid, i.e., they are assumed to have the same underlying model parameters).\n",
    "For example, in decision-making experiments, the experiment is often repeated in trials with the same experimental settings and conditions. The corresponding set of trials is then assumed to be \"iid\" given a single parameter set.\n",
    "In such a scenario, we may want to obtain the posterior given a set of observation $p(\\theta | X=\\{x_i\\}_i^N)$.\n",
    "\n",
    "### Amortization of neural network training: iid-inference with NLE / NRE\n",
    "\n",
    "For some SBI variants the iid assumption can be exploited: when using a likelihood-based SBI method (`SNLE`, `SNRE`) one can train the density or ratio estimator on single-trial data, and then perform inference with `MCMC` or variational inference (`VI`). Crucially, because the data is iid and the estimator is trained on single-trial data, one can repeat the inference with a different `x_o` (a different set of trials, or different number of trials) without having to retrain the density estimator. One can interpet this as amortization of the SBI training: we can obtain a neural likelihood, or likelihood-ratio estimate for new `x_o`s without retraining, but we still have to run `MCMC` or `VI` to do inference.\n",
    "\n",
    "In addition, one cannot only change the number of trials of a new `x_o`, but also the entire inference setting.\n",
    "For example, one can apply hierarchical inference with changing hierarchical denpendencies between the model parameters--all without having to retrain the density estimator because it estimates single-trail likelihoods.\n",
    "\n",
    "### Full amortization: iid-inference with NPE and permutation-invariant embedding nets\n",
    "\n",
    "When performing neural posterior estimation (`SNPE`) we cannot exploit the iid assumption directly.\n",
    "Thus, the underlying neural network takes `x` as input and predicts the parameters of the density estimator.\n",
    "As a consequence, if `x` is a set of iid observations $X=\\{x_i\\}_i^N$ then the neural network has to be invariant to permutations of this set, i.e., it has to be permutation invariant. In addition, the neural network has to be able to consume a varying number of iid datapoints in order to be amortized over the number of trials.\n",
    "Therefore, in order to use `SNPE` for inference on iid data, we need to provide a corresponding embedding network that handles the iid-data.\n",
    "This will likely require some hyperparameter tuning and more training data for inference to work accurately. But once we have this, inference is fully amortized, i.e., we can get new posterior samples almost instantly without retraining and without running `MCMC` or `VI`.\n"
   ]
  },
  {
   "cell_type": "markdown",
   "metadata": {},
   "source": [
    "## SBI with trial-based data\n",
    "\n",
    "For illustration, we use a simple linear Gaussian simulator, as in previous tutorials. The simulator takes a single parameter (vector) which is the mean of a Gaussian. The simulator then adds noise with a fixed variance (set to one).\n",
    "We define a Gaussian prior over the mean and perform inference.\n",
    "\n",
    "The observed data is also sampled from a Gaussian with some fixed \"ground-truth\" parameter $\\theta_o$.\n",
    "Crucially, the observed data `x_o` can consist of multiple samples given the same ground-truth parameters and these samples are iid given $\\theta$:\n",
    "\n",
    "$$\n",
    "\\theta \\sim \\mathcal{N}(\\mu_0,\\; \\Sigma_0) \\\\\n",
    "x | \\theta \\sim \\mathcal{N}(\\theta,\\; \\Sigma=I) \\\\\n",
    "\\mathbf{x_o} = \\{x_o^i\\}_{i=1}^N \\sim  \\mathcal{N}(\\theta_o,\\; \\Sigma=I)\n",
    "$$\n",
    "\n",
    "For this toy problem, the ground-truth posterior is well defined, it is again a Gaussian, centered on the mean of $\\mathbf{x_o}$ and with variance scaled by the number of trials $N$, i.e., the more trials we observe, the more information about the underlying $\\theta_o$ we have and the more concentrated the posteriors becomes.\n",
    "\n",
    "We will illustrate this below:\n"
   ]
  },
  {
   "cell_type": "code",
   "execution_count": null,
   "metadata": {},
   "outputs": [],
   "source": [
    "import matplotlib.pyplot as plt\n",
    "import torch\n",
    "from torch import eye, zeros\n",
    "from torch.distributions import MultivariateNormal\n",
    "\n",
    "from sbi.analysis import pairplot\n",
    "from sbi.utils.user_input_checks import process_prior, process_simulator\n",
    "from sbi.inference import SNLE, SNPE, simulate_for_sbi\n",
    "from sbi.simulators.linear_gaussian import (\n",
    "    linear_gaussian,\n",
    "    true_posterior_linear_gaussian_mvn_prior,\n",
    ")\n",
    "from sbi.utils.metrics import c2st\n",
    "\n",
    "# Seeding\n",
    "torch.manual_seed(1);"
   ]
  },
  {
   "cell_type": "code",
   "execution_count": null,
   "metadata": {},
   "outputs": [],
   "source": [
    "# Gaussian simulator\n",
    "theta_dim = 2\n",
    "x_dim = theta_dim\n",
    "\n",
    "# likelihood_mean will be likelihood_shift+theta\n",
    "likelihood_shift = -1.0 * zeros(x_dim)\n",
    "likelihood_cov = 0.3 * eye(x_dim)\n",
    "\n",
    "prior_mean = zeros(theta_dim)\n",
    "prior_cov = eye(theta_dim)\n",
    "prior = MultivariateNormal(loc=prior_mean, covariance_matrix=prior_cov)\n",
    "\n",
    "# Define Gaussian simulator\n",
    "prior, num_parameters, prior_returns_numpy = process_prior(prior)\n",
    "simulator = process_simulator(\n",
    "    lambda theta: linear_gaussian(theta, likelihood_shift, likelihood_cov),\n",
    "    prior, prior_returns_numpy)\n",
    "\n",
    "# Use built-in function to obtain ground-truth posterior given x_o\n",
    "def get_true_posterior_samples(x_o, num_samples=1):\n",
    "    return true_posterior_linear_gaussian_mvn_prior(\n",
    "        x_o, likelihood_shift, likelihood_cov, prior_mean, prior_cov\n",
    "    ).sample((num_samples,))"
   ]
  },
  {
   "cell_type": "markdown",
   "metadata": {},
   "source": [
    "### The analytical posterior concentrates around true parameters with increasing number of IID trials\n"
   ]
  },
  {
   "cell_type": "code",
   "execution_count": null,
   "metadata": {},
   "outputs": [],
   "source": [
    "num_trials = [1, 5, 15, 20]\n",
    "theta_o = zeros(1, theta_dim)\n",
    "\n",
    "# Generate multiple x_os with increasing number of trials.\n",
    "xos = [theta_o.repeat(nt, 1) for nt in num_trials]\n",
    "\n",
    "# Obtain analytical posterior samples for each of them.\n",
    "true_samples = [get_true_posterior_samples(xo, 5000) for xo in xos]"
   ]
  },
  {
   "cell_type": "code",
   "execution_count": null,
   "metadata": {},
   "outputs": [],
   "source": [
    "# Plot them in one pairplot as contours (obtained via KDE on the samples).\n",
    "fig, ax = pairplot(\n",
    "    true_samples,\n",
    "    points=theta_o,\n",
    "    diag=\"kde\",\n",
    "    upper=\"contour\",\n",
    "    kde_offdiag=dict(bins=50),\n",
    "    kde_diag=dict(bins=100),\n",
    "    contour_offdiag=dict(levels=[0.95]),\n",
    "    points_colors=[\"k\"],\n",
    "    points_offdiag=dict(marker=\"*\", markersize=10),\n",
    ")\n",
    "plt.sca(ax[1, 1])\n",
    "plt.legend(\n",
    "    [f\"{nt} trials\" if nt > 1 else f\"{nt} trial\" for nt in num_trials]\n",
    "    + [r\"$\\theta_o$\"],\n",
    "    frameon=False,\n",
    "    fontsize=12,\n",
    ");"
   ]
  },
  {
   "cell_type": "markdown",
   "metadata": {},
   "source": [
    "Indeed, with increasing number of trials the posterior density concentrates around the true underlying parameter.\n"
   ]
  },
  {
   "cell_type": "markdown",
   "metadata": {},
   "source": [
    "## IID inference with NLE\n",
    "\n",
    "(S)NLE and (S)NRE can perform inference given multiple IID obserations by using only single-trial training data (i.e., for training, we run the simulator only once per parameter set). Once the likelihood is learned on single trials (i.e., a neural network that predicts the likelihood of a single observation given a parameter set), one can sample the posterior for any number of trials. This works because, given a single-trial neural likelihood from (S)NLE or (S)NRE, we can calculate the joint likelihoods of all trials by multiplying them together (or adding them in log-space). The joint likelihood can then be plugged into `MCMC` or `VI`. `sbi` takes care of all of these steps, so you do not have to implement anything yourself:\n"
   ]
  },
  {
   "cell_type": "code",
   "execution_count": null,
   "metadata": {},
   "outputs": [],
   "source": [
    "# Train SNLE.\n",
    "inferer = SNLE(prior, show_progress_bars=True, density_estimator=\"mdn\")\n",
    "theta, x = simulate_for_sbi(simulator, prior, 10000, simulation_batch_size=1000)\n",
    "inferer.append_simulations(theta, x).train(training_batch_size=1000);"
   ]
  },
  {
   "cell_type": "code",
   "execution_count": null,
   "metadata": {},
   "outputs": [],
   "source": [
    "# Obtain posterior samples for different number of iid xos.\n",
    "nle_samples = []\n",
    "num_samples = 5000\n",
    "\n",
    "mcmc_parameters = dict(\n",
    "    num_chains=50,\n",
    "    thin=5,\n",
    "    warmup_steps=10,\n",
    "    init_strategy=\"proposal\",\n",
    ")\n",
    "mcmc_method = \"slice_np_vectorized\"\n",
    "\n",
    "posterior = inferer.build_posterior(\n",
    "    mcmc_method=mcmc_method,\n",
    "    mcmc_parameters=mcmc_parameters,\n",
    ")\n",
    "\n",
    "# Generate samples with MCMC given the same set of x_os as above.\n",
    "for xo in xos:\n",
    "    nle_samples.append(posterior.sample(sample_shape=(num_samples,), x=xo))"
   ]
  },
  {
   "cell_type": "markdown",
   "metadata": {},
   "source": [
    "Note that `sbi` warns about `iid-x` with increasing number of trial here. We ignore the warning because that's exactly what we want to do.\n"
   ]
  },
  {
   "cell_type": "code",
   "execution_count": null,
   "metadata": {},
   "outputs": [],
   "source": [
    "# Plot them in one pairplot as contours (obtained via KDE on the samples).\n",
    "fig, ax = pairplot(\n",
    "    nle_samples,\n",
    "    points=theta_o,\n",
    "    diag=\"kde\",\n",
    "    upper=\"contour\",\n",
    "    kde_offdiag=dict(bins=50),\n",
    "    kde_diag=dict(bins=100),\n",
    "    contour_offdiag=dict(levels=[0.95]),\n",
    "    points_colors=[\"k\"],\n",
    "    points_offdiag=dict(marker=\"*\", markersize=10),\n",
    ")\n",
    "plt.sca(ax[1, 1])\n",
    "plt.legend(\n",
    "    [f\"{nt} trials\" if nt > 1 else f\"{nt} trial\" for nt in num_trials]\n",
    "    + [r\"$\\theta_o$\"],\n",
    "    frameon=False,\n",
    "    fontsize=12,\n",
    ");"
   ]
  },
  {
   "cell_type": "markdown",
   "metadata": {},
   "source": [
    "The pairplot above already indicates that (S)NLE is well able to obtain accurate posterior samples also for increasing number of trials (note that we trained the single-round version of SNLE so that we did not have to re-train it for new $x_o$).\n",
    "\n",
    "Quantitatively we can measure the accuracy of SNLE by calculating the `c2st` score between SNLE and the true posterior samples, where the best accuracy is perfect for `0.5`:\n"
   ]
  },
  {
   "cell_type": "code",
   "execution_count": null,
   "metadata": {},
   "outputs": [],
   "source": [
    "cs = [\n",
    "    c2st(torch.from_numpy(s1), torch.from_numpy(s2))\n",
    "    for s1, s2 in zip(true_samples, nle_samples)\n",
    "]\n",
    "\n",
    "for _ in range(len(num_trials)):\n",
    "    print(f\"c2st score for num_trials={num_trials[_]}: {cs[_].item():.2f}\")"
   ]
  },
  {
   "cell_type": "markdown",
   "metadata": {},
   "source": [
    "## IID inference with NPE using permutation-invariant embedding nets\n",
    "\n",
    "For NPE we need to define an embedding net that handles the set-like structure of iid-data, i.e., that it permutation invariant and can handle different number of trials.\n",
    "\n",
    "We implemented several embedding net classes that allow to construct such a permutation- and number-of-trials invariant embedding net.\n",
    "\n",
    "To become permutation invariant, the neural net first learns embeddings for single trials and then performs a permutation invariant operation on those embeddings, e.g., by taking the sum or the mean (Chen et al. 2018, Radev et al. 2021).\n",
    "\n",
    "To become invariant w.r.t. the number-of-trials, we train the net with varying number of trials for each parameter setting. This means that, unlike for (S)NLE and (S)NRE, (S)NPE requires to run the simulator multiple times for individual parameter sets to generate the training data.\n",
    "\n",
    "In order to implement this in `sbi`, \"unobserved\" trials in the training dataset have to be masked by NaNs (and ignore the resulting SBI warning about NaNs in the training data).\n",
    "\n",
    "### Construct training data set.\n"
   ]
  },
  {
   "cell_type": "code",
   "execution_count": null,
   "metadata": {},
   "outputs": [],
   "source": [
    "# we need to fix the maximum number of trials.\n",
    "max_num_trials = 20\n",
    "\n",
    "# construct training data set: we want to cover the full range of possible number of\n",
    "# trials\n",
    "num_training_samples = 5000\n",
    "theta = prior.sample((num_training_samples,))\n",
    "\n",
    "# there are certainly smarter ways to construct the training data set, but we go with a\n",
    "# for loop here for illustration purposes.\n",
    "x = torch.ones(num_training_samples * max_num_trials, max_num_trials, x_dim) * float(\n",
    "    \"nan\"\n",
    ")\n",
    "for i in range(num_training_samples):\n",
    "    xi = simulator(theta[i].repeat(max_num_trials, 1))\n",
    "    for j in range(max_num_trials):\n",
    "        x[i * max_num_trials + j, : j + 1, :] = xi[: j + 1, :]\n",
    "\n",
    "theta = theta.repeat_interleave(max_num_trials, dim=0)"
   ]
  },
  {
   "cell_type": "markdown",
   "metadata": {},
   "source": [
    "### Build embedding net\n"
   ]
  },
  {
   "cell_type": "code",
   "execution_count": null,
   "metadata": {},
   "outputs": [],
   "source": [
    "from sbi.neural_nets.embedding_nets import (\n",
    "    FCEmbedding,\n",
    "    PermutationInvariantEmbedding,\n",
    ")\n",
    "from sbi.utils import posterior_nn\n",
    "\n",
    "# embedding\n",
    "latent_dim = 10\n",
    "single_trial_net = FCEmbedding(\n",
    "    input_dim=theta_dim,\n",
    "    num_hiddens=40,\n",
    "    num_layers=2,\n",
    "    output_dim=latent_dim,\n",
    ")\n",
    "embedding_net = PermutationInvariantEmbedding(\n",
    "    single_trial_net,\n",
    "    trial_net_output_dim=latent_dim,\n",
    "    # NOTE: post-embedding is not needed really.\n",
    "    num_layers=1,\n",
    "    num_hiddens=10,\n",
    "    output_dim=10,\n",
    ")\n",
    "\n",
    "# we choose a simple MDN as the density estimator.\n",
    "# NOTE: we turn off z-scoring of the data, as we used NaNs for the missing trials.\n",
    "density_estimator = posterior_nn(\"mdn\", embedding_net=embedding_net, z_score_x=\"none\")"
   ]
  },
  {
   "cell_type": "markdown",
   "metadata": {},
   "source": [
    "### Run training\n"
   ]
  },
  {
   "cell_type": "code",
   "execution_count": null,
   "metadata": {},
   "outputs": [],
   "source": [
    "inference = SNPE(prior, density_estimator=density_estimator)\n",
    "# NOTE: we don't exclude invalid x because we used NaNs for the missing trials.\n",
    "inference.append_simulations(\n",
    "    theta,\n",
    "    x,\n",
    "    exclude_invalid_x=False,\n",
    ").train(training_batch_size=1000)\n",
    "posterior = inference.build_posterior()"
   ]
  },
  {
   "cell_type": "markdown",
   "metadata": {},
   "source": [
    "### Amortized inference\n",
    "\n",
    "Comparing runtimes, we see that the NPE training takes a bit longer than the training on single trials for `NLE` above.\n",
    "\n",
    "However, we trained the density estimator such that it can handle multiple and changing number of iid trials (up to 20).\n",
    "\n",
    "Thus, we can obtain posterior samples for different `x_o` with just a single forward pass instead of having to run `MCMC` for each new observation.\n",
    "\n",
    "As you can see below, the c2st score for increasing number of observed trials remains close to the ideal `0.5`.\n"
   ]
  },
  {
   "cell_type": "code",
   "execution_count": null,
   "metadata": {
    "scrolled": false
   },
   "outputs": [],
   "source": [
    "npe_samples = []\n",
    "for xo in xos:\n",
    "    # we need to pad the x_os with NaNs to match the shape of the training data.\n",
    "    xoi = torch.ones(1, max_num_trials, x_dim) * float(\"nan\")\n",
    "    xoi[0, : len(xo), :] = xo\n",
    "    npe_samples.append(posterior.sample(sample_shape=(num_samples,), x=xoi))\n",
    "\n",
    "cs = [c2st(torch.from_numpy(s1), s2) for s1, s2 in zip(true_samples, npe_samples)]\n",
    "\n",
    "for _ in range(len(num_trials)):\n",
    "    print(f\"c2st score for num_trials={num_trials[_]}: {cs[_].item():.2f}\")"
   ]
  },
  {
   "cell_type": "code",
   "execution_count": null,
   "metadata": {},
   "outputs": [],
   "source": [
    "num_trials = [1, 5, 15, 20]\n",
    "xos = [theta_o.repeat(nt, 1) for nt in num_trials]\n",
    "\n",
    "npe_samples = []\n",
    "for xo in xos:\n",
    "    # we need to pad the x_os with NaNs to match the shape of the training data.\n",
    "    xoi = torch.ones(1, max_num_trials, x_dim) * float(\"nan\")\n",
    "    xoi[0, : len(xo), :] = xo\n",
    "    npe_samples.append(posterior.sample(sample_shape=(num_samples,), x=xoi))\n",
    "\n",
    "\n",
    "# Plot them in one pairplot as contours (obtained via KDE on the samples).\n",
    "fig, ax = pairplot(\n",
    "    npe_samples,\n",
    "    points=theta_o,\n",
    "    diag=\"kde\",\n",
    "    upper=\"contour\",\n",
    "    kde_offdiag=dict(bins=50),\n",
    "    kde_diag=dict(bins=100),\n",
    "    contour_offdiag=dict(levels=[0.95]),\n",
    "    points_colors=[\"k\"],\n",
    "    points_offdiag=dict(marker=\"*\", markersize=10),\n",
    ")\n",
    "plt.sca(ax[1, 1])\n",
    "plt.legend(\n",
    "    [f\"{nt} trials\" if nt > 1 else f\"{nt} trial\" for nt in num_trials]\n",
    "    + [r\"$\\theta_o$\"],\n",
    "    frameon=False,\n",
    "    fontsize=12,\n",
    ");"
   ]
  },
  {
   "cell_type": "code",
   "execution_count": null,
   "metadata": {},
   "outputs": [],
   "source": [
    "# We can easily obtain posteriors for many different x_os, instantly, because\n",
    "# NPE is fully amortized:\n",
    "num_trials = [2, 4, 6, 8, 12, 14, 18]\n",
    "npe_samples = []\n",
    "for xo in xos:\n",
    "    # we need to pad the x_os with NaNs to match the shape of the training data.\n",
    "    xoi = torch.ones(1, max_num_trials, x_dim) * float(\"nan\")\n",
    "    xoi[0, : len(xo), :] = xo\n",
    "    npe_samples.append(posterior.sample(sample_shape=(num_samples,), x=xoi))\n",
    "\n",
    "\n",
    "# Plot them in one pairplot as contours (obtained via KDE on the samples).\n",
    "fig, ax = pairplot(\n",
    "    npe_samples,\n",
    "    points=theta_o,\n",
    "    diag=\"kde\",\n",
    "    upper=\"contour\",\n",
    "    kde_offdiag=dict(bins=50),\n",
    "    kde_diag=dict(bins=100),\n",
    "    contour_offdiag=dict(levels=[0.95]),\n",
    "    points_colors=[\"k\"],\n",
    "    points_offdiag=dict(marker=\"*\", markersize=10),\n",
    ")\n",
    "plt.sca(ax[1, 1])\n",
    "plt.legend(\n",
    "    [f\"{nt} trials\" if nt > 1 else f\"{nt} trial\" for nt in num_trials]\n",
    "    + [r\"$\\theta_o$\"],\n",
    "    frameon=False,\n",
    "    fontsize=12,\n",
    ");"
   ]
  },
  {
   "cell_type": "code",
   "execution_count": null,
   "metadata": {},
   "outputs": [],
   "source": []
  }
 ],
 "metadata": {
  "kernelspec": {
   "display_name": "Python 3 (ipykernel)",
   "language": "python",
   "name": "python3"
  },
  "language_info": {
   "codemirror_mode": {
    "name": "ipython",
    "version": 3
   },
   "file_extension": ".py",
   "mimetype": "text/x-python",
   "name": "python",
   "nbconvert_exporter": "python",
   "pygments_lexer": "ipython3",
   "version": "3.11.8"
  },
  "toc": {
   "base_numbering": 1,
   "nav_menu": {},
   "number_sections": true,
   "sideBar": true,
   "skip_h1_title": false,
   "title_cell": "Table of Contents",
   "title_sidebar": "Contents",
   "toc_cell": false,
   "toc_position": {},
   "toc_section_display": true,
   "toc_window_display": false
  },
  "vscode": {
   "interpreter": {
    "hash": "9ef9b53a5ce850816b9705a866e49207a37a04a71269aa157d9f9ab944ea42bf"
   }
  }
 },
 "nbformat": 4,
 "nbformat_minor": 4
}
