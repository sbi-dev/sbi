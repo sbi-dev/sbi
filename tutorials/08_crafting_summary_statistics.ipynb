{
 "cells": [
  {
   "cell_type": "markdown",
   "metadata": {},
   "source": [
    "# Crafting summary statistics\n"
   ]
  },
  {
   "cell_type": "markdown",
   "metadata": {},
   "source": [
    "Many simulators produce outputs that are high-dimesional. For example, a simulator might\n",
    "generate a time series or an image. In the tutorial [04_embedding_networks](04_embedding_networks.md), we discussed how a\n",
    "neural networks can be used to learn summary statistics from such data. In this\n",
    "notebook, we will instead focus on hand-crafting summary statistics. We demonstrate that\n",
    "the choice of summary statistics can be crucial for the performance of the inference\n",
    "algorithm.\n"
   ]
  },
  {
   "cell_type": "code",
   "execution_count": 2,
   "metadata": {
    "tags": []
   },
   "outputs": [],
   "source": [
    "import matplotlib as mpl\n",
    "import matplotlib.pyplot as plt\n",
    "import numpy as np\n",
    "import torch\n",
    "\n",
    "from sbi.analysis import pairplot\n",
    "from sbi.inference import NPE\n",
    "from sbi.utils import BoxUniform"
   ]
  },
  {
   "cell_type": "code",
   "execution_count": 3,
   "metadata": {
    "tags": []
   },
   "outputs": [],
   "source": [
    "# remove top and right axis from plots\n",
    "mpl.rcParams[\"axes.spines.right\"] = False\n",
    "mpl.rcParams[\"axes.spines.top\"] = False"
   ]
  },
  {
   "cell_type": "markdown",
   "metadata": {},
   "source": [
    "This notebook is not intended to provide a one-fits-all approach. In fact it argues against this: it argues for the user to carefully construct their summary statistics to (i) further help the user understand his observed data, (ii) help them understand exactly what they want the model to recover from the observation and (iii) help the inference framework itself.\n"
   ]
  },
  {
   "cell_type": "markdown",
   "metadata": {},
   "source": [
    "# Example 1: The quadratic function\n"
   ]
  },
  {
   "cell_type": "markdown",
   "metadata": {},
   "source": [
    "Assume we have a simulator that is given by a quadratic function:\n",
    "\n",
    "$x(t) = a\\cdot t^2 + b\\cdot t + c + \\epsilon$,\n",
    "\n",
    "where $\\epsilon$ is Gaussian observation noise and $\\theta = \\{a, b, c\\}$ are the parameters. Given an observed quadratic function $x_o$, we would like to recover the posterior over parameters $a_o$, $b_o$ and $c_o$.\n"
   ]
  },
  {
   "cell_type": "markdown",
   "metadata": {},
   "source": [
    "## 1.1 Prior over parameters\n"
   ]
  },
  {
   "cell_type": "markdown",
   "metadata": {},
   "source": [
    "First we define a prior distribution over parameters $a$, $b$ and $c$. Here, we use a uniform prior for $a$, $b$ and $c$ to go from $-1$ to $1$.\n"
   ]
  },
  {
   "cell_type": "code",
   "execution_count": 4,
   "metadata": {
    "tags": []
   },
   "outputs": [],
   "source": [
    "prior_min = [-1, -1, -1]\n",
    "prior_max = [1, 1, 1]\n",
    "prior = BoxUniform(\n",
    "    low=torch.as_tensor(prior_min), high=torch.as_tensor(prior_max)\n",
    ")"
   ]
  },
  {
   "cell_type": "markdown",
   "metadata": {},
   "source": [
    "## 1.2 Simulator\n"
   ]
  },
  {
   "cell_type": "markdown",
   "metadata": {},
   "source": [
    "Defining some helper functions first:\n"
   ]
  },
  {
   "cell_type": "code",
   "execution_count": 5,
   "metadata": {
    "tags": []
   },
   "outputs": [],
   "source": [
    "def create_t_x(theta, seed=None):\n",
    "    \"\"\"Return an t, x array for plotting based on params\"\"\"\n",
    "    if theta.ndim == 1:\n",
    "        theta = theta[np.newaxis, :]\n",
    "\n",
    "    rng = np.random.RandomState(seed) if seed is not None else np.random.RandomState()\n",
    "\n",
    "    t = np.linspace(-1, 1, 200)\n",
    "    ts = np.repeat(t[:, np.newaxis], theta.shape[0], axis=1)\n",
    "    x = (\n",
    "        theta[:, 0] * ts**2\n",
    "        + theta[:, 1] * ts\n",
    "        + theta[:, 2]\n",
    "        + 0.01 * rng.randn(ts.shape[0], theta.shape[0])\n",
    "    )\n",
    "    return t, x\n",
    "\n",
    "\n",
    "def eval(theta, t, seed=None):\n",
    "    \"\"\"Evaluate the quadratic function at `t`\"\"\"\n",
    "\n",
    "    if theta.ndim == 1:\n",
    "        theta = theta[np.newaxis, :]\n",
    "\n",
    "    rng = np.random.RandomState(seed) if seed is not None else np.random.RandomState()\n",
    "\n",
    "    return theta[:, 0] * t**2 + theta[:, 1] * t + theta[:, 2] + 0.01 * rng.randn(1)"
   ]
  },
  {
   "cell_type": "markdown",
   "metadata": {},
   "source": [
    "In this example, we generate the observation $x_o$ from parameters $\\theta_o=(a_o, b_o, c_o)=(0.3, -0.2, -0.1)$. The observation as follows.\n"
   ]
  },
  {
   "cell_type": "code",
   "execution_count": 6,
   "metadata": {
    "tags": []
   },
   "outputs": [],
   "source": [
    "theta_o = np.array([0.3, -0.2, -0.1])\n",
    "t, x = create_t_x(theta_o)\n",
    "plt.plot(t, x, \"k\");"
   ]
  },
  {
   "cell_type": "markdown",
   "metadata": {},
   "source": [
    "## 1.3 Summary statistics\n"
   ]
  },
  {
   "cell_type": "markdown",
   "metadata": {},
   "source": [
    "We will compare two methods for defining summary statistics. One method uses three summary statistics which are function evaluations at three points in time. The other method uses a single summary statistic: the mean squared error between the observed and the simulated trace. In the second case, one then tries to obtain the posterior $p(\\theta | 0)$, i.e. the error being zero. These two methods are implemented below:\n",
    "<br>\n",
    "$\\textbf{get_3_values()}$ returns 3 function evaluations at $x=-0.5, x=0$ and $x=0.75$.\n",
    "<br>\n",
    "$\\textbf{get_MSE()}$ returns the mean squared error between true and a quadratic function corresponding to a prior distributions sample.\n"
   ]
  },
  {
   "cell_type": "code",
   "execution_count": 7,
   "metadata": {
    "tags": []
   },
   "outputs": [],
   "source": [
    "def get_3_values(theta, seed=None):\n",
    "    \"\"\"\n",
    "    Return 3 'x' values corresponding to t=-0.5,0,0.75 as summary statistic vector\n",
    "    \"\"\"\n",
    "    return np.array(\n",
    "        [\n",
    "            eval(theta, -0.5, seed=seed),\n",
    "            eval(theta, 0, seed=seed),\n",
    "            eval(theta, 0.75, seed=seed),\n",
    "        ]\n",
    "    ).T"
   ]
  },
  {
   "cell_type": "code",
   "execution_count": 8,
   "metadata": {
    "tags": []
   },
   "outputs": [],
   "source": [
    "def get_MSE(theta, theta_o, seed=None):\n",
    "    \"\"\"\n",
    "    Return the mean-squared error (MSE) i.e. Euclidean distance from the\n",
    "    observation function\n",
    "    \"\"\"\n",
    "    _, x = create_t_x(theta_o, seed=seed)  # truth\n",
    "    _, x_ = create_t_x(theta, seed=seed)  # simulations\n",
    "    return np.mean(np.square(x_ - x), axis=0, keepdims=True).T  # MSE"
   ]
  },
  {
   "cell_type": "markdown",
   "metadata": {},
   "source": [
    "Let's try a couple of samples from our prior and see their summary statistics. Notice that these indeed change in small amounts every time you rerun it due to the noise, except if you set the seed.\n"
   ]
  },
  {
   "cell_type": "markdown",
   "metadata": {},
   "source": [
    "## 1.4 Simulating data\n"
   ]
  },
  {
   "cell_type": "markdown",
   "metadata": {},
   "source": [
    "Let us see various plots of prior samples and their summary statistics versus the truth, i.e. our artificial observation.\n"
   ]
  },
  {
   "cell_type": "code",
   "execution_count": 9,
   "metadata": {
    "tags": []
   },
   "outputs": [],
   "source": [
    "t, x_truth = create_t_x(theta_o)\n",
    "plt.plot(t, x_truth, \"k\", zorder=1, label=\"truth\")\n",
    "n_samples = 100\n",
    "theta = prior.sample((n_samples,))\n",
    "t, x = create_t_x(theta.numpy())\n",
    "plt.plot(t, x, \"grey\", zorder=0)\n",
    "plt.legend()"
   ]
  },
  {
   "cell_type": "markdown",
   "metadata": {},
   "source": [
    "In summary, we defined reasonable summary statistics and, a priori, there might be an apparent reason why one method would be better than another. When we do inference, we'd like our posterior to focus around parameter samples that have their simulated MSE very close to 0 (i.e. the truth MSE summary statistic) or their 3 extracted $(t, x)$ coordinates to be the truthful ones.\n"
   ]
  },
  {
   "cell_type": "markdown",
   "metadata": {},
   "source": [
    "## 1.5 Inference\n"
   ]
  },
  {
   "cell_type": "markdown",
   "metadata": {},
   "source": [
    "### 1.5.1 Using the MSE\n"
   ]
  },
  {
   "cell_type": "markdown",
   "metadata": {},
   "source": [
    "Let's see if we can use the MSE to recover the true observation parameters $\\theta_o=(a_0,b_0,c_0)$.\n"
   ]
  },
  {
   "cell_type": "code",
   "execution_count": 10,
   "metadata": {
    "tags": []
   },
   "outputs": [],
   "source": [
    "theta = prior.sample((1000,))\n",
    "x = get_MSE(theta.numpy(), theta_o)\n",
    "\n",
    "theta = torch.as_tensor(theta, dtype=torch.float32)\n",
    "x = torch.as_tensor(x, dtype=torch.float32)"
   ]
  },
  {
   "cell_type": "code",
   "execution_count": 11,
   "metadata": {
    "tags": []
   },
   "outputs": [],
   "source": [
    "inference = NPE(prior)\n",
    "_ = inference.append_simulations(theta, x).train()\n",
    "posterior = inference.build_posterior()"
   ]
  },
  {
   "cell_type": "markdown",
   "metadata": {},
   "source": [
    "Now that we've built the posterior as such, we can see how likely it finds certain parameters given that we tell it that we've observed a certain summary statistic (in this case the MSE). We can then sample from it."
   ]
  },
  {
   "cell_type": "code",
   "execution_count": 12,
   "metadata": {
    "tags": []
   },
   "outputs": [],
   "source": [
    "x_o = torch.as_tensor(\n",
    "    [\n",
    "        [\n",
    "            0.0,\n",
    "        ]\n",
    "    ]\n",
    ")\n",
    "theta_p = posterior.sample((10000,), x=x_o)"
   ]
  },
  {
   "cell_type": "code",
   "execution_count": 13,
   "metadata": {
    "tags": []
   },
   "outputs": [],
   "source": [
    "fig, axes = pairplot(\n",
    "    theta_p,\n",
    "    limits=list(zip(prior_min, prior_max, strict=False)),\n",
    "    ticks=list(zip(prior_min, prior_max, strict=False)),\n",
    "    figsize=(7, 7),\n",
    "    labels=[\"a\", \"b\", \"c\"],\n",
    "    fig_kwargs=dict(\n",
    "        points_offdiag={\"markersize\": 6},\n",
    "        points_colors=\"r\",\n",
    "    ),\n",
    "    points=theta_o,\n",
    ");"
   ]
  },
  {
   "cell_type": "markdown",
   "metadata": {},
   "source": [
    "The posterior seems to pretty broad: i.e. it is not so certain about the 'true' parameters (here showcased in red).\n"
   ]
  },
  {
   "cell_type": "code",
   "execution_count": 14,
   "metadata": {
    "tags": []
   },
   "outputs": [],
   "source": [
    "x_o_t, x_o_x = create_t_x(theta_o)\n",
    "plt.plot(x_o_t, x_o_x, \"k\", zorder=1, label=\"truth\")\n",
    "\n",
    "theta_p = posterior.sample((10,), x=x_o)\n",
    "x_t, x_x = create_t_x(theta_p.numpy())\n",
    "plt.plot(x_t, x_x, \"grey\", zorder=0)\n",
    "plt.legend();"
   ]
  },
  {
   "cell_type": "markdown",
   "metadata": {},
   "source": [
    "The functions are a bit closer to the observation than prior samples, but many posterior samples generate activity that is very far off from the observation. We would expect `sbi` do better on such a simple example. So what's going on? Do we need more simulations? Feel free to try, but below we will show that one can use the same number of simulation samples with different summary statistics and do much better.\n"
   ]
  },
  {
   "cell_type": "markdown",
   "metadata": {},
   "source": [
    "### 1.5.2 Using 3 coordinates as summary statistics\n"
   ]
  },
  {
   "cell_type": "code",
   "execution_count": 15,
   "metadata": {
    "tags": []
   },
   "outputs": [],
   "source": [
    "x = get_3_values(theta.numpy())\n",
    "x = torch.as_tensor(x, dtype=torch.float32)"
   ]
  },
  {
   "cell_type": "code",
   "execution_count": 16,
   "metadata": {
    "tags": []
   },
   "outputs": [],
   "source": [
    "inference = NPE(prior)\n",
    "\n",
    "_ = inference.append_simulations(theta, x).train()\n",
    "posterior = inference.build_posterior()"
   ]
  },
  {
   "cell_type": "markdown",
   "metadata": {},
   "source": [
    "The observation is now given by the values of the observed trace at three different coordinates:\n"
   ]
  },
  {
   "cell_type": "code",
   "execution_count": 17,
   "metadata": {
    "tags": []
   },
   "outputs": [],
   "source": [
    "x_o = torch.as_tensor(get_3_values(theta_o), dtype=float)"
   ]
  },
  {
   "cell_type": "code",
   "execution_count": 18,
   "metadata": {
    "tags": []
   },
   "outputs": [],
   "source": [
    "theta_p = posterior.sample((10000,), x=x_o)\n",
    "\n",
    "fig, axes = pairplot(\n",
    "    theta_p,\n",
    "    limits=list(zip(prior_min, prior_max, strict=False)),\n",
    "    ticks=list(zip(prior_min, prior_max, strict=False)),\n",
    "    figsize=(7, 7),\n",
    "    labels=[\"a\", \"b\", \"c\"],\n",
    "    fig_kwargs=dict(\n",
    "        points_offdiag={\"markersize\": 6},\n",
    "        points_colors=\"r\",\n",
    "    ),\n",
    "    points=theta_o,\n",
    ");"
   ]
  },
  {
   "cell_type": "code",
   "execution_count": 19,
   "metadata": {
    "tags": []
   },
   "outputs": [],
   "source": [
    "x_o_t, x_o_x = create_t_x(theta_o)\n",
    "plt.plot(x_o_t, x_o_x, \"k\", zorder=1, label=\"truth\")\n",
    "theta_p = posterior.sample((100,), x=x_o)\n",
    "ind_10_highest = np.argsort(np.array(posterior.log_prob(theta=theta_p, x=x_o)))[-10:]\n",
    "theta_p_considered = theta_p[ind_10_highest, :]\n",
    "x_t, x_x = create_t_x(theta_p_considered.numpy())\n",
    "plt.plot(x_t, x_x, \"grey\", zorder=0)\n",
    "plt.legend()"
   ]
  },
  {
   "cell_type": "markdown",
   "metadata": {},
   "source": [
    "Ok this definitely seems to work! The posterior correctly focuses on the true parameters with greater confidence. You can experiment yourself how this improves further with more training samples or you could try to see how many you'd exactly need to keep having a satisfyingly looking posterior and high posterior sample simulations.\n"
   ]
  },
  {
   "cell_type": "markdown",
   "metadata": {},
   "source": [
    "So, what's up with the MSE? Why does it not seem so informative to constrain the posterior? In 1.6, we'll see both the power and pitfalls of summary statistics.\n"
   ]
  },
  {
   "cell_type": "markdown",
   "metadata": {},
   "source": [
    "## 1.6 Prior simulations' summary statistics vs observed summary statistics\n"
   ]
  },
  {
   "cell_type": "markdown",
   "metadata": {},
   "source": [
    "Let's try to understand this...Let's look at a histogram of the four summary statistics we've experimented with, and see how they compare to our observed truth summary statistic vector:\n"
   ]
  },
  {
   "cell_type": "code",
   "execution_count": 20,
   "metadata": {
    "tags": []
   },
   "outputs": [],
   "source": [
    "stats = np.concatenate(\n",
    "    (get_3_values(theta.numpy()), get_MSE(theta.numpy(), theta_o)), axis=1\n",
    ")\n",
    "x_o = np.concatenate((get_3_values(theta_o), np.asarray([[0.0]])), axis=1)\n",
    "\n",
    "features = [\"x @ t=-0.5\", \"x @ t=0\", \"x @ t=0.7\", \"MSE\"]\n",
    "fig, axes = plt.subplots(1, 4, figsize=(10, 3))\n",
    "xlabelfontsize = 10\n",
    "for i, ax in enumerate(axes.reshape(-1)):\n",
    "    ax.hist(\n",
    "        stats[:, i],\n",
    "        color=[\"grey\"],\n",
    "        alpha=0.5,\n",
    "        bins=30,\n",
    "        density=True,\n",
    "        histtype=\"stepfilled\",\n",
    "        label=[\"simulations\"],\n",
    "    )\n",
    "    ax.axvline(x_o[:, i], label=\"observation\", color='k')\n",
    "    ax.set_xlabel(features[i], fontsize=xlabelfontsize)\n",
    "    if i == 3:\n",
    "        ax.legend()\n",
    "plt.tight_layout()"
   ]
  },
  {
   "cell_type": "markdown",
   "metadata": {},
   "source": [
    "We see that for the coordinates (three plots on the left), simulations cover the observation. That is: it covers it from the left and right side in each case. For the MSE, simulations never truly reach the observation $0.0$.\n",
    "\n",
    "For the trained neural network, it is strongly preferable if the simulations cover the observation. In that case, the neural network can **interpolate** between simulated data. Contrary to that, for the MSE, the neural network has to **extrapolate**: it never observes a simulation that is to the left of the observation and has to extrapolate to the region of MSE=$0.0$. This seems like a technical point but, as we saw above, it makes a huge difference in performance.\n"
   ]
  },
  {
   "cell_type": "markdown",
   "metadata": {},
   "source": [
    "## 1.7 Explicit recommendations\n",
    "\n",
    "We give some explicit recommendation when using summary statistics\n",
    "\n",
    "- Visualize the histogram of each summary statistic and plot the value of the observation. If, for some summary statistics, the observation is not covered (or is at the very border, e.g. the MSE above), the trained neural network will struggle.\n",
    "\n",
    "- Do not use an \"error\" as summary statistic. This is common in optimization (e.g. genetic algorithms), but it often leads to trouble in `sbi` due to the reason above.\n",
    "\n",
    "- Only use summary statistics that are necessary. The less summary statistics you use, the less can go wrong with them. Of course, you have to ensure that the summary statistics describe the raw data sufficiently well.\n"
   ]
  }
 ],
 "metadata": {
  "kernelspec": {
   "display_name": "Python 3 (ipykernel)",
   "language": "python",
   "name": "python3"
  },
  "language_info": {
   "codemirror_mode": {
    "name": "ipython",
    "version": 3
   },
   "file_extension": ".py",
   "mimetype": "text/x-python",
   "name": "python",
   "nbconvert_exporter": "python",
   "pygments_lexer": "ipython3",
   "version": "3.10.14"
  },
  "toc": {
   "base_numbering": 1,
   "nav_menu": {},
   "number_sections": true,
   "sideBar": true,
   "skip_h1_title": false,
   "title_cell": "Table of Contents",
   "title_sidebar": "Contents",
   "toc_cell": false,
   "toc_position": {},
   "toc_section_display": true,
   "toc_window_display": false
  }
 },
 "nbformat": 4,
 "nbformat_minor": 4
}
