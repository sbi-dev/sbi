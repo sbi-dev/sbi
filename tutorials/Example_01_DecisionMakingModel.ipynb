{
 "cells": [
  {
   "cell_type": "markdown",
   "metadata": {},
   "source": [
    "# SBI for decision-making models\n",
    "\n",
    "In [a previous\n",
    "tutorial](https://sbi-dev.github.io/sbi/latest/tutorials/12_iid_data_and_permutation_invariant_embeddings.md),\n",
    "we showed how to use SBI with trial-based iid data. Such scenarios can arise,\n",
    "for example, in models of perceptual decision making. In addition to trial-based\n",
    "iid data points, these models often come with mixed data types and varying\n",
    "experimental conditions. Here, we show how `sbi` can be used to perform\n",
    "inference in such models with the `MNLE` method.\n"
   ]
  },
  {
   "cell_type": "markdown",
   "metadata": {},
   "source": [
    "Note, you find the original version of this notebook in the `sbi` repository under\n",
    "[tutorials/Example_01_DecisionMakingModel.ipynb](https://github.com/sbi-dev/sbi/blob/main/tutorials/Example_01_DecisionMakingModel.ipynb)."
   ]
  },
  {
   "cell_type": "markdown",
   "metadata": {},
   "source": [
    "## Trial-based SBI with mixed data types\n",
    "\n",
    "In some cases, models with trial-based data additionally return data with mixed data types, e.g., continous and discrete data. For example, most computational models of decision-making have continuous reaction times and discrete choices as output.\n",
    "\n",
    "This can induce a problem when performing trial-based SBI that relies on learning a neural likelihood: It is challenging for most density estimators to handle both, continuous and discrete data at the same time.\n",
    "However, there is a recent SBI method for solving this problem, it's called **Mixed Neural Likelihood Estimation** (MNLE). It works just like NLE, but with mixed data types. The trick is that it learns two separate density estimators, one for the discrete part of the data, and one for the continuous part, and combines the two to obtain the final neural likelihood. Crucially, the continuous density estimator is trained conditioned on the output of the discrete one, such that statistical dependencies between the discrete and continuous data (e.g., between choices and reaction times) are modeled as well. The interested reader is referred to the original paper available [here](https://elifesciences.org/articles/77220).\n",
    "\n",
    "MNLE was recently added to `sbi` (see this [PR](https://github.com/mackelab/sbi/pull/638) and also [issue](https://github.com/mackelab/sbi/issues/845)) and follows the same API as `SNLE`.\n",
    "\n",
    "In this tutorial we will show how to apply `MNLE` to mixed data, and how to deal with varying experimental conditions.\n"
   ]
  },
  {
   "cell_type": "markdown",
   "metadata": {},
   "source": [
    "## Toy problem for `MNLE`\n",
    "\n",
    "To illustrate `MNLE` we set up a toy simulator that outputs mixed data and for which we know the likelihood such we can obtain reference posterior samples via MCMC.\n",
    "\n",
    "**Simulator**: To simulate mixed data we do the following\n",
    "\n",
    "- Sample reaction time from `inverse Gamma`\n",
    "- Sample choices from `Binomial`\n",
    "- Return reaction time $rt \\in (0, \\infty)$ and choice index $c \\in \\{0, 1\\}$\n",
    "\n",
    "$$\n",
    "c \\sim \\text{Binomial}(\\rho) \\\\\n",
    "rt \\sim \\text{InverseGamma}(\\alpha=2, \\beta) \\\\\n",
    "$$\n",
    "\n",
    "**Prior**: The priors of the two parameters $\\rho$ and $\\beta$ are independent. We define a `Beta` prior over the probabilty parameter of the `Binomial` used in the simulator and a `Gamma` prior over the shape-parameter of the `inverse Gamma` used in the simulator:\n",
    "\n",
    "$$\n",
    "p(\\beta, \\rho) = p(\\beta) \\; p(\\rho) ; \\\\\n",
    "p(\\beta) = \\text{Gamma}(1, 0.5) \\\\\n",
    "p(\\text{probs}) = \\text{Beta}(2, 2)\n",
    "$$\n",
    "\n",
    "Because the `InverseGamma` and the `Binomial` likelihoods are well-defined we can perform MCMC on this problem and obtain reference-posterior samples.\n"
   ]
  },
  {
   "cell_type": "code",
   "execution_count": 1,
   "metadata": {},
   "outputs": [
    {
     "name": "stderr",
     "output_type": "stream",
     "text": [
      "WARNING (pytensor.tensor.blas): Using NumPy C-API based implementation for BLAS functions.\n"
     ]
    }
   ],
   "source": [
    "import matplotlib.pyplot as plt\n",
    "import torch\n",
    "from pyro.distributions import InverseGamma\n",
    "from torch import Tensor\n",
    "from torch.distributions import Beta, Binomial, Gamma, Distribution\n",
    "from typing import Union\n",
    "\n",
    "from sbi.analysis import pairplot\n",
    "from sbi.inference import MNLE, MCMCPosterior\n",
    "from sbi.inference.potentials.base_potential import BasePotential\n",
    "from sbi.inference.potentials.likelihood_based_potential import LikelihoodBasedPotential\n",
    "from sbi.utils import BoxUniform, MultipleIndependent, mcmc_transform\n",
    "from sbi.utils.metrics import c2st\n",
    "from sbi.utils.torchutils import atleast_2d"
   ]
  },
  {
   "cell_type": "code",
   "execution_count": 2,
   "metadata": {},
   "outputs": [],
   "source": [
    "# Toy simulator for mixed data\n",
    "def mixed_simulator(theta: Tensor, concentration_scaling: float = 1.0):\n",
    "    \"\"\"Returns a sample from a mixed distribution given parameters theta.\n",
    "\n",
    "    Args:\n",
    "        theta: batch of parameters, shape (batch_size, 2) concentration_scaling:\n",
    "        scaling factor for the concentration parameter of the InverseGamma\n",
    "        distribution, mimics an experimental condition.\n",
    "\n",
    "    \"\"\"\n",
    "    beta, rho = theta[:, :1], theta[:, 1:]\n",
    "\n",
    "    choices = Binomial(probs=rho).sample()\n",
    "    rts = InverseGamma(\n",
    "        concentration=concentration_scaling * torch.ones_like(beta), rate=beta\n",
    "    ).sample()\n",
    "\n",
    "    return torch.cat((rts, choices), dim=1)\n",
    "\n",
    "\n",
    "class BinomialGammaPotential(BasePotential):\n",
    "    \"\"\"Binomial-Gamma potential for mixed data.\"\"\"\n",
    "\n",
    "    def __init__(\n",
    "        self,\n",
    "        prior: Distribution,\n",
    "        x_o: Tensor,\n",
    "        concentration_scaling: Union[Tensor, float] = 1.0,\n",
    "        device=\"cpu\",\n",
    "    ):\n",
    "        super().__init__(prior, x_o, device)\n",
    "\n",
    "        # concentration_scaling needs to be a float or match the batch size\n",
    "        if isinstance(concentration_scaling, Tensor):\n",
    "            num_trials = x_o.shape[0]\n",
    "            assert concentration_scaling.shape[0] == num_trials\n",
    "\n",
    "            # Reshape to match convention (batch_size, num_trials, *event_shape)\n",
    "            concentration_scaling = concentration_scaling.reshape(1, num_trials, -1)\n",
    "\n",
    "        self.concentration_scaling = concentration_scaling\n",
    "\n",
    "    def __call__(self, theta: Tensor, track_gradients: bool = True) -> Tensor:\n",
    "        theta = atleast_2d(theta)\n",
    "\n",
    "        with torch.set_grad_enabled(track_gradients):\n",
    "            iid_ll = self.iid_likelihood(theta)\n",
    "\n",
    "        return iid_ll + self.prior.log_prob(theta)\n",
    "\n",
    "    def iid_likelihood(self, theta: Tensor) -> Tensor:\n",
    "        batch_size = theta.shape[0]\n",
    "        num_trials = self.x_o.shape[0]\n",
    "        theta = theta.reshape(batch_size, 1, -1)\n",
    "        beta, rho = theta[:, :, :1], theta[:, :, 1:]\n",
    "\n",
    "        # vectorized\n",
    "        logprob_choices = Binomial(probs=rho).log_prob(\n",
    "            self.x_o[:, 1:].reshape(1, num_trials, -1)\n",
    "        )\n",
    "\n",
    "        logprob_rts = InverseGamma(\n",
    "            concentration=self.concentration_scaling * torch.ones_like(beta),\n",
    "            rate=beta,\n",
    "        ).log_prob(self.x_o[:, :1].reshape(1, num_trials, -1))\n",
    "\n",
    "        joint_likelihood = (logprob_choices + logprob_rts).squeeze()\n",
    "\n",
    "        assert joint_likelihood.shape == torch.Size([theta.shape[0], self.x_o.shape[0]])\n",
    "        return joint_likelihood.sum(1)"
   ]
  },
  {
   "cell_type": "code",
   "execution_count": 3,
   "metadata": {},
   "outputs": [],
   "source": [
    "# Define independent prior.\n",
    "prior = MultipleIndependent(\n",
    "    [\n",
    "        Gamma(torch.tensor([1.0]), torch.tensor([0.5])),\n",
    "        Beta(torch.tensor([2.0]), torch.tensor([2.0])),\n",
    "    ],\n",
    "    validate_args=False,\n",
    ")"
   ]
  },
  {
   "cell_type": "markdown",
   "metadata": {},
   "source": [
    "### Obtain reference-posterior samples via analytical likelihood and MCMC\n"
   ]
  },
  {
   "cell_type": "code",
   "execution_count": 4,
   "metadata": {},
   "outputs": [],
   "source": [
    "torch.manual_seed(42)\n",
    "num_trials = 10\n",
    "num_samples = 1000\n",
    "theta_o = prior.sample((1,))\n",
    "x_o = mixed_simulator(theta_o.repeat(num_trials, 1))"
   ]
  },
  {
   "cell_type": "code",
   "execution_count": 5,
   "metadata": {},
   "outputs": [
    {
     "name": "stderr",
     "output_type": "stream",
     "text": [
      "/Users/janteusen/qode/sbi/sbi/inference/posteriors/mcmc_posterior.py:115: UserWarning: The default value for thinning in MCMC sampling has been changed from 10 to 1. This might cause the results differ from the last benchmark.\n",
      "  thin = _process_thin_default(thin)\n"
     ]
    },
    {
     "data": {
      "application/vnd.jupyter.widget-view+json": {
       "model_id": "271465813a4f4e2aab0fce77c0520ed5",
       "version_major": 2,
       "version_minor": 0
      },
      "text/plain": [
       "Running vectorized MCMC with 20 chains:   0%|          | 0/3000 [00:00<?, ?it/s]"
      ]
     },
     "metadata": {},
     "output_type": "display_data"
    }
   ],
   "source": [
    "mcmc_kwargs = dict(\n",
    "    num_chains=20,\n",
    "    warmup_steps=50,\n",
    "    method=\"slice_np_vectorized\",\n",
    "    init_strategy=\"proposal\",\n",
    ")\n",
    "\n",
    "true_posterior = MCMCPosterior(\n",
    "    potential_fn=BinomialGammaPotential(prior, x_o),\n",
    "    proposal=prior,\n",
    "    theta_transform=mcmc_transform(prior, enable_transform=True),\n",
    "    **mcmc_kwargs,\n",
    ")\n",
    "true_samples = true_posterior.sample((num_samples,))"
   ]
  },
  {
   "cell_type": "markdown",
   "metadata": {},
   "source": [
    "### Train MNLE and generate samples via MCMC\n"
   ]
  },
  {
   "cell_type": "code",
   "execution_count": 6,
   "metadata": {},
   "outputs": [
    {
     "name": "stderr",
     "output_type": "stream",
     "text": [
      "/Users/janteusen/qode/sbi/sbi/neural_nets/factory.py:205: UserWarning: The mixed neural likelihood estimator assumes that x contains continuous data in the first n-1 columns (e.g., reaction times) and categorical data in the last column (e.g., corresponding choices). If this is not the case for the passed `x` do not use this function.\n",
      "  return model_builders[model](batch_x=batch_x, batch_y=batch_theta, **kwargs)\n"
     ]
    },
    {
     "name": "stdout",
     "output_type": "stream",
     "text": [
      " Neural network successfully converged after 70 epochs."
     ]
    }
   ],
   "source": [
    "# Training data\n",
    "num_simulations = 10000\n",
    "# For training the MNLE emulator we need to define a proposal distribution, the prior is\n",
    "# a good choice.\n",
    "proposal = prior\n",
    "theta = proposal.sample((num_simulations,))\n",
    "x = mixed_simulator(theta)\n",
    "\n",
    "# Train MNLE and obtain MCMC-based posterior.\n",
    "trainer = MNLE()\n",
    "estimator = trainer.append_simulations(theta, x).train()"
   ]
  },
  {
   "cell_type": "code",
   "execution_count": 7,
   "metadata": {},
   "outputs": [
    {
     "data": {
      "application/vnd.jupyter.widget-view+json": {
       "model_id": "b6672a4116a642ea9064dd37f4cc0a33",
       "version_major": 2,
       "version_minor": 0
      },
      "text/plain": [
       "Running vectorized MCMC with 20 chains:   0%|          | 0/3000 [00:00<?, ?it/s]"
      ]
     },
     "metadata": {},
     "output_type": "display_data"
    }
   ],
   "source": [
    "# Build posterior from the trained estimator and prior.\n",
    "mnle_posterior = trainer.build_posterior(prior=prior)\n",
    "\n",
    "mnle_samples = mnle_posterior.sample((num_samples,), x=x_o, **mcmc_kwargs)"
   ]
  },
  {
   "cell_type": "markdown",
   "metadata": {},
   "source": [
    "### Compare MNLE and reference posterior\n"
   ]
  },
  {
   "cell_type": "code",
   "execution_count": 8,
   "metadata": {},
   "outputs": [
    {
     "data": {
      "image/png": "[encoded data removed]",
      "text/plain": [
       "<Figure size 600x600 with 4 Axes>"
      ]
     },
     "metadata": {},
     "output_type": "display_data"
    }
   ],
   "source": [
    "# Plot them in one pairplot as contours (obtained via KDE on the samples).\n",
    "fig, ax = pairplot(\n",
    "    [\n",
    "        prior.sample((1000,)),\n",
    "        true_samples,\n",
    "        mnle_samples,\n",
    "    ],\n",
    "    points=theta_o,\n",
    "    diag=\"kde\",\n",
    "    upper=\"contour\",\n",
    "    upper_kwargs=dict(levels=[0.95]),\n",
    "    diag_kwargs=dict(bins=100),\n",
    "    fig_kwargs=dict(\n",
    "        points_offdiag=dict(marker=\"*\", markersize=10),\n",
    "        points_colors=[\"k\"],\n",
    "    ),\n",
    "    labels=[r\"$\\beta$\", r\"$\\rho$\"],\n",
    "    figsize=(6, 6),\n",
    ")\n",
    "\n",
    "plt.sca(ax[1, 1])\n",
    "plt.legend(\n",
    "    [\"Prior\", \"Reference\", \"MNLE\", r\"$\\theta_o$\"],\n",
    "    frameon=False,\n",
    "    fontsize=12,\n",
    ");"
   ]
  },
  {
   "cell_type": "markdown",
   "metadata": {},
   "source": [
    "We see that the inferred `MNLE` posterior nicely matches the reference posterior, and how both inferred a posterior that is quite different from the prior.\n",
    "\n",
    "Because MNLE training is amortized we can obtain another posterior given a different observation with potentially a different number of trials, just by running MCMC again (without re-training `MNLE`):\n"
   ]
  },
  {
   "cell_type": "markdown",
   "metadata": {},
   "source": [
    "### Repeat inference with different `x_o` that contains more trials\n"
   ]
  },
  {
   "cell_type": "code",
   "execution_count": 9,
   "metadata": {},
   "outputs": [
    {
     "data": {
      "application/vnd.jupyter.widget-view+json": {
       "model_id": "59ce5b5d56ac40f9ab6a8ba4a6f62dee",
       "version_major": 2,
       "version_minor": 0
      },
      "text/plain": [
       "Running vectorized MCMC with 20 chains:   0%|          | 0/3000 [00:00<?, ?it/s]"
      ]
     },
     "metadata": {},
     "output_type": "display_data"
    },
    {
     "data": {
      "application/vnd.jupyter.widget-view+json": {
       "model_id": "5f53b93e15914db098b7d8f67786eb27",
       "version_major": 2,
       "version_minor": 0
      },
      "text/plain": [
       "Running vectorized MCMC with 20 chains:   0%|          | 0/3000 [00:00<?, ?it/s]"
      ]
     },
     "metadata": {},
     "output_type": "display_data"
    }
   ],
   "source": [
    "num_trials = 50\n",
    "x_o = mixed_simulator(theta_o.repeat(num_trials, 1))\n",
    "true_samples = true_posterior.sample((num_samples,), x=x_o, **mcmc_kwargs)\n",
    "mnle_samples = mnle_posterior.sample((num_samples,), x=x_o, **mcmc_kwargs)"
   ]
  },
  {
   "cell_type": "code",
   "execution_count": 10,
   "metadata": {},
   "outputs": [
    {
     "data": {
      "image/png": "[encoded data removed]",
      "text/plain": [
       "<Figure size 600x600 with 4 Axes>"
      ]
     },
     "metadata": {},
     "output_type": "display_data"
    }
   ],
   "source": [
    "# Plot them in one pairplot as contours (obtained via KDE on the samples).\n",
    "fig, ax = pairplot(\n",
    "    [\n",
    "        prior.sample((1000,)),\n",
    "        true_samples,\n",
    "        mnle_samples,\n",
    "    ],\n",
    "    points=theta_o,\n",
    "    diag=\"kde\",\n",
    "    upper=\"contour\",\n",
    "    diag_kwargs=dict(bins=100),\n",
    "    upper_kwargs=dict(levels=[0.95]),\n",
    "    fig_kwargs=dict(\n",
    "        points_offdiag=dict(marker=\"*\", markersize=10),\n",
    "        points_colors=[\"k\"],\n",
    "    ),\n",
    "    labels=[r\"$\\beta$\", r\"$\\rho$\"],\n",
    "    figsize=(6, 6),\n",
    ")\n",
    "\n",
    "plt.sca(ax[1, 1])\n",
    "plt.legend(\n",
    "    [\"Prior\", \"Reference\", \"MNLE\", r\"$\\theta_o$\"],\n",
    "    frameon=False,\n",
    "    fontsize=12,\n",
    ");"
   ]
  },
  {
   "cell_type": "code",
   "execution_count": 11,
   "metadata": {},
   "outputs": [
    {
     "name": "stdout",
     "output_type": "stream",
     "text": [
      "c2st between true and MNLE posterior: 0.5605\n"
     ]
    }
   ],
   "source": [
    "print(\"c2st between true and MNLE posterior:\", c2st(true_samples, mnle_samples).item())"
   ]
  },
  {
   "cell_type": "markdown",
   "metadata": {},
   "source": [
    "Again we can see that the posteriors match nicely. In addition, we observe that the posterior's (epistemic) uncertainty reduces as we increase the number of trials.\n",
    "\n",
    "Note: `MNLE` is trained on single-trial data. Theoretically, density estimation is perfectly accurate only in the limit of infinite training data. Thus, training with a finite amount of training data naturally induces a small bias in the density estimator.\n",
    "As we observed above, this bias is so small that we don't really notice it, e.g., the `c2st` scores were close to 0.5.\n",
    "However, when we increase the number of trials in `x_o` dramatically (on the order of 1000s) the small bias can accumulate over the trials and inference with `MNLE` can become less accurate.\n"
   ]
  },
  {
   "cell_type": "markdown",
   "metadata": {},
   "source": [
    "## MNLE with experimental conditions\n",
    "\n",
    "In the perceptual decision-making research, it is common to design experiments with varying experimental decisions, e.g., to vary the difficulty of the task.\n",
    "During parameter inference, it can be beneficial to incorporate the experimental conditions.\n",
    "\n",
    "In MNLE, we are learning an emulator that should be able to generate synthetic experimental data including reaction times and choices given different experimental conditions.\n",
    "Thus, to make MNLE work with experimental conditions, we need to include them in the training process, i.e., treat them like auxiliary parameters of the simulator:\n"
   ]
  },
  {
   "cell_type": "code",
   "execution_count": 12,
   "metadata": {},
   "outputs": [],
   "source": [
    "# Define a proposal that contains both, priors for the parameters and a discrte\n",
    "# prior over experimental conditions.\n",
    "proposal = MultipleIndependent(\n",
    "    [\n",
    "        Gamma(torch.tensor([1.0]), torch.tensor([0.5])),\n",
    "        Beta(torch.tensor([2.0]), torch.tensor([2.0])),\n",
    "        BoxUniform(torch.tensor([0.0]), torch.tensor([1.0])),\n",
    "    ],\n",
    "    validate_args=False,\n",
    ")\n",
    "\n",
    "# define a simulator wrapper in which the experimental condition are contained\n",
    "# in theta and passed to the simulator.\n",
    "def sim_wrapper(theta_and_conditions):\n",
    "    # simulate with experiment conditions\n",
    "    return mixed_simulator(\n",
    "        # we assume the first two parameters are beta and rho\n",
    "        theta=theta_and_conditions[:, :2],\n",
    "        # we treat the third concentration parameter as an experimental condition\n",
    "        concentration_scaling=theta_and_conditions[:, 2:],\n",
    "    )"
   ]
  },
  {
   "cell_type": "code",
   "execution_count": 13,
   "metadata": {},
   "outputs": [],
   "source": [
    "# Simulated data\n",
    "num_simulations = 10000\n",
    "num_samples = 1000\n",
    "theta = proposal.sample((num_simulations,))\n",
    "x = sim_wrapper(theta)\n",
    "assert x.shape == (num_simulations, 2)\n",
    "\n",
    "# simulate observed data and define ground truth parameters\n",
    "num_trials = 10\n",
    "# draw one ground truth parameter\n",
    "theta_o = proposal.sample((1,))[:, :2]\n",
    "# draw num_trials many different conditions\n",
    "conditions = proposal.sample((num_trials,))[:, 2:]\n",
    "# Theta is repeated for each trial, conditions are different for each trial.\n",
    "theta_and_conditions_o = torch.cat((theta_o.repeat(num_trials, 1), conditions), dim=1)\n",
    "x_o = sim_wrapper(theta_and_conditions_o)"
   ]
  },
  {
   "cell_type": "markdown",
   "metadata": {},
   "source": [
    "#### Obtain ground truth posterior via MCMC\n",
    "\n",
    "We obtain a ground-truth posterior via MCMC by using the PotentialFunctionProvider.\n",
    "\n",
    "For that, we first the define the actual prior, i.e., the distribution over the parameter we want to infer (not the proposal).\n",
    "\n",
    "Thus, we leave out the discrete prior over experimental conditions.\n"
   ]
  },
  {
   "cell_type": "code",
   "execution_count": 14,
   "metadata": {},
   "outputs": [
    {
     "name": "stderr",
     "output_type": "stream",
     "text": [
      "/Users/janteusen/qode/sbi/sbi/inference/posteriors/mcmc_posterior.py:115: UserWarning: The default value for thinning in MCMC sampling has been changed from 10 to 1. This might cause the results differ from the last benchmark.\n",
      "  thin = _process_thin_default(thin)\n"
     ]
    },
    {
     "data": {
      "application/vnd.jupyter.widget-view+json": {
       "model_id": "bd0bec9c116a43eaa7783e3627485dfe",
       "version_major": 2,
       "version_minor": 0
      },
      "text/plain": [
       "Running vectorized MCMC with 20 chains:   0%|          | 0/3000 [00:00<?, ?it/s]"
      ]
     },
     "metadata": {},
     "output_type": "display_data"
    },
    {
     "ename": "KeyboardInterrupt",
     "evalue": "",
     "output_type": "error",
     "traceback": [
      "\u001b[0;31m---------------------------------------------------------------------------\u001b[0m",
      "\u001b[0;31mKeyboardInterrupt\u001b[0m                         Traceback (most recent call last)",
      "Cell \u001b[0;32mIn[14], line 21\u001b[0m\n\u001b[1;32m      8\u001b[0m prior_transform \u001b[38;5;241m=\u001b[39m mcmc_transform(prior)\n\u001b[1;32m     10\u001b[0m \u001b[38;5;66;03m# We can now use the PotentialFunctionProvider to obtain a ground-truth\u001b[39;00m\n\u001b[1;32m     11\u001b[0m \u001b[38;5;66;03m# posterior via MCMC.\u001b[39;00m\n\u001b[1;32m     12\u001b[0m true_posterior_samples \u001b[38;5;241m=\u001b[39m \u001b[43mMCMCPosterior\u001b[49m\u001b[43m(\u001b[49m\n\u001b[1;32m     13\u001b[0m \u001b[43m    \u001b[49m\u001b[43mBinomialGammaPotential\u001b[49m\u001b[43m(\u001b[49m\n\u001b[1;32m     14\u001b[0m \u001b[43m        \u001b[49m\u001b[43mprior\u001b[49m\u001b[43m,\u001b[49m\n\u001b[1;32m     15\u001b[0m \u001b[43m        \u001b[49m\u001b[43mx_o\u001b[49m\u001b[43m,\u001b[49m\n\u001b[1;32m     16\u001b[0m \u001b[43m        \u001b[49m\u001b[43mconcentration_scaling\u001b[49m\u001b[38;5;241;43m=\u001b[39;49m\u001b[43mconditions\u001b[49m\u001b[43m,\u001b[49m\n\u001b[1;32m     17\u001b[0m \u001b[43m    \u001b[49m\u001b[43m)\u001b[49m\u001b[43m,\u001b[49m\n\u001b[1;32m     18\u001b[0m \u001b[43m    \u001b[49m\u001b[43mtheta_transform\u001b[49m\u001b[38;5;241;43m=\u001b[39;49m\u001b[43mprior_transform\u001b[49m\u001b[43m,\u001b[49m\n\u001b[1;32m     19\u001b[0m \u001b[43m    \u001b[49m\u001b[43mproposal\u001b[49m\u001b[38;5;241;43m=\u001b[39;49m\u001b[43mprior\u001b[49m\u001b[43m,\u001b[49m\n\u001b[1;32m     20\u001b[0m \u001b[43m    \u001b[49m\u001b[38;5;241;43m*\u001b[39;49m\u001b[38;5;241;43m*\u001b[39;49m\u001b[43mmcmc_kwargs\u001b[49m\u001b[43m,\u001b[49m\n\u001b[0;32m---> 21\u001b[0m \u001b[43m)\u001b[49m\u001b[38;5;241;43m.\u001b[39;49m\u001b[43msample\u001b[49m\u001b[43m(\u001b[49m\u001b[43m(\u001b[49m\u001b[43mnum_samples\u001b[49m\u001b[43m,\u001b[49m\u001b[43m)\u001b[49m\u001b[43m,\u001b[49m\u001b[43m \u001b[49m\u001b[43mshow_progress_bars\u001b[49m\u001b[38;5;241;43m=\u001b[39;49m\u001b[38;5;28;43;01mTrue\u001b[39;49;00m\u001b[43m)\u001b[49m\n",
      "File \u001b[0;32m~/qode/sbi/sbi/inference/posteriors/mcmc_posterior.py:318\u001b[0m, in \u001b[0;36mMCMCPosterior.sample\u001b[0;34m(self, sample_shape, x, method, thin, warmup_steps, num_chains, init_strategy, init_strategy_parameters, init_strategy_num_candidates, mcmc_parameters, mcmc_method, sample_with, num_workers, mp_context, show_progress_bars)\u001b[0m\n\u001b[1;32m    316\u001b[0m \u001b[38;5;28;01mwith\u001b[39;00m torch\u001b[38;5;241m.\u001b[39mset_grad_enabled(track_gradients):\n\u001b[1;32m    317\u001b[0m     \u001b[38;5;28;01mif\u001b[39;00m method \u001b[38;5;129;01min\u001b[39;00m (\u001b[38;5;124m\"\u001b[39m\u001b[38;5;124mslice_np\u001b[39m\u001b[38;5;124m\"\u001b[39m, \u001b[38;5;124m\"\u001b[39m\u001b[38;5;124mslice_np_vectorized\u001b[39m\u001b[38;5;124m\"\u001b[39m):\n\u001b[0;32m--> 318\u001b[0m         transformed_samples \u001b[38;5;241m=\u001b[39m \u001b[38;5;28;43mself\u001b[39;49m\u001b[38;5;241;43m.\u001b[39;49m\u001b[43m_slice_np_mcmc\u001b[49m\u001b[43m(\u001b[49m\n\u001b[1;32m    319\u001b[0m \u001b[43m            \u001b[49m\u001b[43mnum_samples\u001b[49m\u001b[38;5;241;43m=\u001b[39;49m\u001b[43mnum_samples\u001b[49m\u001b[43m,\u001b[49m\n\u001b[1;32m    320\u001b[0m \u001b[43m            \u001b[49m\u001b[43mpotential_function\u001b[49m\u001b[38;5;241;43m=\u001b[39;49m\u001b[38;5;28;43mself\u001b[39;49m\u001b[38;5;241;43m.\u001b[39;49m\u001b[43mpotential_\u001b[49m\u001b[43m,\u001b[49m\n\u001b[1;32m    321\u001b[0m \u001b[43m            \u001b[49m\u001b[43minitial_params\u001b[49m\u001b[38;5;241;43m=\u001b[39;49m\u001b[43minitial_params\u001b[49m\u001b[43m,\u001b[49m\n\u001b[1;32m    322\u001b[0m \u001b[43m            \u001b[49m\u001b[43mthin\u001b[49m\u001b[38;5;241;43m=\u001b[39;49m\u001b[43mthin\u001b[49m\u001b[43m,\u001b[49m\u001b[43m  \u001b[49m\u001b[38;5;66;43;03m# type: ignore\u001b[39;49;00m\n\u001b[1;32m    323\u001b[0m \u001b[43m            \u001b[49m\u001b[43mwarmup_steps\u001b[49m\u001b[38;5;241;43m=\u001b[39;49m\u001b[43mwarmup_steps\u001b[49m\u001b[43m,\u001b[49m\u001b[43m  \u001b[49m\u001b[38;5;66;43;03m# type: ignore\u001b[39;49;00m\n\u001b[1;32m    324\u001b[0m \u001b[43m            \u001b[49m\u001b[43mvectorized\u001b[49m\u001b[38;5;241;43m=\u001b[39;49m\u001b[43m(\u001b[49m\u001b[43mmethod\u001b[49m\u001b[43m \u001b[49m\u001b[38;5;241;43m==\u001b[39;49m\u001b[43m \u001b[49m\u001b[38;5;124;43m\"\u001b[39;49m\u001b[38;5;124;43mslice_np_vectorized\u001b[39;49m\u001b[38;5;124;43m\"\u001b[39;49m\u001b[43m)\u001b[49m\u001b[43m,\u001b[49m\n\u001b[1;32m    325\u001b[0m \u001b[43m            \u001b[49m\u001b[43minterchangeable_chains\u001b[49m\u001b[38;5;241;43m=\u001b[39;49m\u001b[38;5;28;43;01mTrue\u001b[39;49;00m\u001b[43m,\u001b[49m\n\u001b[1;32m    326\u001b[0m \u001b[43m            \u001b[49m\u001b[43mnum_workers\u001b[49m\u001b[38;5;241;43m=\u001b[39;49m\u001b[43mnum_workers\u001b[49m\u001b[43m,\u001b[49m\n\u001b[1;32m    327\u001b[0m \u001b[43m            \u001b[49m\u001b[43mshow_progress_bars\u001b[49m\u001b[38;5;241;43m=\u001b[39;49m\u001b[43mshow_progress_bars\u001b[49m\u001b[43m,\u001b[49m\n\u001b[1;32m    328\u001b[0m \u001b[43m        \u001b[49m\u001b[43m)\u001b[49m\n\u001b[1;32m    329\u001b[0m     \u001b[38;5;28;01melif\u001b[39;00m method \u001b[38;5;129;01min\u001b[39;00m (\u001b[38;5;124m\"\u001b[39m\u001b[38;5;124mhmc_pyro\u001b[39m\u001b[38;5;124m\"\u001b[39m, \u001b[38;5;124m\"\u001b[39m\u001b[38;5;124mnuts_pyro\u001b[39m\u001b[38;5;124m\"\u001b[39m):\n\u001b[1;32m    330\u001b[0m         transformed_samples \u001b[38;5;241m=\u001b[39m \u001b[38;5;28mself\u001b[39m\u001b[38;5;241m.\u001b[39m_pyro_mcmc(\n\u001b[1;32m    331\u001b[0m             num_samples\u001b[38;5;241m=\u001b[39mnum_samples,\n\u001b[1;32m    332\u001b[0m             potential_function\u001b[38;5;241m=\u001b[39m\u001b[38;5;28mself\u001b[39m\u001b[38;5;241m.\u001b[39mpotential_,\n\u001b[0;32m   (...)\u001b[0m\n\u001b[1;32m    339\u001b[0m             mp_context\u001b[38;5;241m=\u001b[39mmp_context,\n\u001b[1;32m    340\u001b[0m         )\n",
      "File \u001b[0;32m~/qode/sbi/sbi/inference/posteriors/mcmc_posterior.py:753\u001b[0m, in \u001b[0;36mMCMCPosterior._slice_np_mcmc\u001b[0;34m(self, num_samples, potential_function, initial_params, thin, warmup_steps, vectorized, interchangeable_chains, num_workers, init_width, show_progress_bars)\u001b[0m\n\u001b[1;32m    751\u001b[0m num_samples_ \u001b[38;5;241m=\u001b[39m ceil((num_samples \u001b[38;5;241m*\u001b[39m thin) \u001b[38;5;241m/\u001b[39m num_chains)\n\u001b[1;32m    752\u001b[0m \u001b[38;5;66;03m# Run mcmc including warmup\u001b[39;00m\n\u001b[0;32m--> 753\u001b[0m samples \u001b[38;5;241m=\u001b[39m \u001b[43mposterior_sampler\u001b[49m\u001b[38;5;241;43m.\u001b[39;49m\u001b[43mrun\u001b[49m\u001b[43m(\u001b[49m\u001b[43mwarmup_\u001b[49m\u001b[43m \u001b[49m\u001b[38;5;241;43m+\u001b[39;49m\u001b[43m \u001b[49m\u001b[43mnum_samples_\u001b[49m\u001b[43m)\u001b[49m\n\u001b[1;32m    754\u001b[0m samples \u001b[38;5;241m=\u001b[39m samples[:, warmup_steps:, :]  \u001b[38;5;66;03m# discard warmup steps\u001b[39;00m\n\u001b[1;32m    755\u001b[0m samples \u001b[38;5;241m=\u001b[39m torch\u001b[38;5;241m.\u001b[39mfrom_numpy(samples)  \u001b[38;5;66;03m# chains x samples x dim\u001b[39;00m\n",
      "File \u001b[0;32m~/qode/sbi/sbi/samplers/mcmc/slice_numpy.py:462\u001b[0m, in \u001b[0;36mSliceSamplerVectorized.run\u001b[0;34m(self, num_samples)\u001b[0m\n\u001b[1;32m    455\u001b[0m         sc[\u001b[38;5;124m\"\u001b[39m\u001b[38;5;124mnext_param\u001b[39m\u001b[38;5;124m\"\u001b[39m] \u001b[38;5;241m=\u001b[39m np\u001b[38;5;241m.\u001b[39mconcatenate([\n\u001b[1;32m    456\u001b[0m             sc[\u001b[38;5;124m\"\u001b[39m\u001b[38;5;124mx\u001b[39m\u001b[38;5;124m\"\u001b[39m][: sc[\u001b[38;5;124m\"\u001b[39m\u001b[38;5;124morder\u001b[39m\u001b[38;5;124m\"\u001b[39m][sc[\u001b[38;5;124m\"\u001b[39m\u001b[38;5;124mi\u001b[39m\u001b[38;5;124m\"\u001b[39m]]],\n\u001b[1;32m    457\u001b[0m             [sc[\u001b[38;5;124m\"\u001b[39m\u001b[38;5;124mcxi\u001b[39m\u001b[38;5;124m\"\u001b[39m]],\n\u001b[1;32m    458\u001b[0m             sc[\u001b[38;5;124m\"\u001b[39m\u001b[38;5;124mx\u001b[39m\u001b[38;5;124m\"\u001b[39m][sc[\u001b[38;5;124m\"\u001b[39m\u001b[38;5;124morder\u001b[39m\u001b[38;5;124m\"\u001b[39m][sc[\u001b[38;5;124m\"\u001b[39m\u001b[38;5;124mi\u001b[39m\u001b[38;5;124m\"\u001b[39m]] \u001b[38;5;241m+\u001b[39m \u001b[38;5;241m1\u001b[39m :],\n\u001b[1;32m    459\u001b[0m         ])\n\u001b[1;32m    461\u001b[0m params \u001b[38;5;241m=\u001b[39m np\u001b[38;5;241m.\u001b[39mstack([sc[\u001b[38;5;124m\"\u001b[39m\u001b[38;5;124mnext_param\u001b[39m\u001b[38;5;124m\"\u001b[39m] \u001b[38;5;28;01mfor\u001b[39;00m sc \u001b[38;5;129;01min\u001b[39;00m \u001b[38;5;28mself\u001b[39m\u001b[38;5;241m.\u001b[39mstate\u001b[38;5;241m.\u001b[39mvalues()])\n\u001b[0;32m--> 462\u001b[0m log_probs \u001b[38;5;241m=\u001b[39m \u001b[38;5;28;43mself\u001b[39;49m\u001b[38;5;241;43m.\u001b[39;49m\u001b[43m_log_prob_fn\u001b[49m\u001b[43m(\u001b[49m\u001b[43mparams\u001b[49m\u001b[43m)\u001b[49m\n\u001b[1;32m    464\u001b[0m \u001b[38;5;28;01mfor\u001b[39;00m c \u001b[38;5;129;01min\u001b[39;00m \u001b[38;5;28mrange\u001b[39m(\u001b[38;5;28mself\u001b[39m\u001b[38;5;241m.\u001b[39mnum_chains):\n\u001b[1;32m    465\u001b[0m     sc \u001b[38;5;241m=\u001b[39m \u001b[38;5;28mself\u001b[39m\u001b[38;5;241m.\u001b[39mstate[c]\n",
      "File \u001b[0;32m~/qode/sbi/sbi/inference/posteriors/mcmc_posterior.py:738\u001b[0m, in \u001b[0;36mMCMCPosterior._slice_np_mcmc.<locals>.multi_obs_potential\u001b[0;34m(params)\u001b[0m\n\u001b[1;32m    736\u001b[0m \u001b[38;5;28;01mdef\u001b[39;00m \u001b[38;5;21mmulti_obs_potential\u001b[39m(params):\n\u001b[1;32m    737\u001b[0m     \u001b[38;5;66;03m# Params are of shape (num_chains * num_obs, event).\u001b[39;00m\n\u001b[0;32m--> 738\u001b[0m     all_potentials \u001b[38;5;241m=\u001b[39m \u001b[43mpotential_function\u001b[49m\u001b[43m(\u001b[49m\u001b[43mparams\u001b[49m\u001b[43m)\u001b[49m  \u001b[38;5;66;03m# Shape: (num_chains, num_obs)\u001b[39;00m\n\u001b[1;32m    739\u001b[0m     \u001b[38;5;28;01mreturn\u001b[39;00m all_potentials\u001b[38;5;241m.\u001b[39mflatten()\n",
      "File \u001b[0;32m~/qode/sbi/sbi/utils/potentialutils.py:44\u001b[0m, in \u001b[0;36mtransformed_potential\u001b[0;34m(theta, potential_fn, theta_transform, device, track_gradients)\u001b[0m\n\u001b[1;32m     41\u001b[0m theta \u001b[38;5;241m=\u001b[39m theta_transform\u001b[38;5;241m.\u001b[39minv(transformed_theta)  \u001b[38;5;66;03m# type: ignore\u001b[39;00m\n\u001b[1;32m     42\u001b[0m log_abs_det \u001b[38;5;241m=\u001b[39m theta_transform\u001b[38;5;241m.\u001b[39mlog_abs_det_jacobian(theta, transformed_theta)\n\u001b[0;32m---> 44\u001b[0m posterior_potential \u001b[38;5;241m=\u001b[39m \u001b[43mpotential_fn\u001b[49m\u001b[43m(\u001b[49m\u001b[43mtheta\u001b[49m\u001b[43m,\u001b[49m\u001b[43m \u001b[49m\u001b[43mtrack_gradients\u001b[49m\u001b[38;5;241;43m=\u001b[39;49m\u001b[43mtrack_gradients\u001b[49m\u001b[43m)\u001b[49m\n\u001b[1;32m     45\u001b[0m posterior_potential_transformed \u001b[38;5;241m=\u001b[39m posterior_potential \u001b[38;5;241m-\u001b[39m log_abs_det\n\u001b[1;32m     46\u001b[0m \u001b[38;5;28;01mreturn\u001b[39;00m posterior_potential_transformed\n",
      "Cell \u001b[0;32mIn[2], line 47\u001b[0m, in \u001b[0;36mBinomialGammaPotential.__call__\u001b[0;34m(self, theta, track_gradients)\u001b[0m\n\u001b[1;32m     44\u001b[0m theta \u001b[38;5;241m=\u001b[39m atleast_2d(theta)\n\u001b[1;32m     46\u001b[0m \u001b[38;5;28;01mwith\u001b[39;00m torch\u001b[38;5;241m.\u001b[39mset_grad_enabled(track_gradients):\n\u001b[0;32m---> 47\u001b[0m     iid_ll \u001b[38;5;241m=\u001b[39m \u001b[38;5;28;43mself\u001b[39;49m\u001b[38;5;241;43m.\u001b[39;49m\u001b[43miid_likelihood\u001b[49m\u001b[43m(\u001b[49m\u001b[43mtheta\u001b[49m\u001b[43m)\u001b[49m\n\u001b[1;32m     49\u001b[0m \u001b[38;5;28;01mreturn\u001b[39;00m iid_ll \u001b[38;5;241m+\u001b[39m \u001b[38;5;28mself\u001b[39m\u001b[38;5;241m.\u001b[39mprior\u001b[38;5;241m.\u001b[39mlog_prob(theta)\n",
      "Cell \u001b[0;32mIn[2], line 65\u001b[0m, in \u001b[0;36mBinomialGammaPotential.iid_likelihood\u001b[0;34m(self, theta)\u001b[0m\n\u001b[1;32m     57\u001b[0m \u001b[38;5;66;03m# vectorized\u001b[39;00m\n\u001b[1;32m     58\u001b[0m logprob_choices \u001b[38;5;241m=\u001b[39m Binomial(probs\u001b[38;5;241m=\u001b[39mrho)\u001b[38;5;241m.\u001b[39mlog_prob(\n\u001b[1;32m     59\u001b[0m     \u001b[38;5;28mself\u001b[39m\u001b[38;5;241m.\u001b[39mx_o[:, \u001b[38;5;241m1\u001b[39m:]\u001b[38;5;241m.\u001b[39mreshape(\u001b[38;5;241m1\u001b[39m, num_trials, \u001b[38;5;241m-\u001b[39m\u001b[38;5;241m1\u001b[39m)\n\u001b[1;32m     60\u001b[0m )\n\u001b[1;32m     62\u001b[0m logprob_rts \u001b[38;5;241m=\u001b[39m \u001b[43mInverseGamma\u001b[49m\u001b[43m(\u001b[49m\n\u001b[1;32m     63\u001b[0m \u001b[43m    \u001b[49m\u001b[43mconcentration\u001b[49m\u001b[38;5;241;43m=\u001b[39;49m\u001b[38;5;28;43mself\u001b[39;49m\u001b[38;5;241;43m.\u001b[39;49m\u001b[43mconcentration_scaling\u001b[49m\u001b[43m \u001b[49m\u001b[38;5;241;43m*\u001b[39;49m\u001b[43m \u001b[49m\u001b[43mtorch\u001b[49m\u001b[38;5;241;43m.\u001b[39;49m\u001b[43mones_like\u001b[49m\u001b[43m(\u001b[49m\u001b[43mbeta\u001b[49m\u001b[43m)\u001b[49m\u001b[43m,\u001b[49m\n\u001b[1;32m     64\u001b[0m \u001b[43m    \u001b[49m\u001b[43mrate\u001b[49m\u001b[38;5;241;43m=\u001b[39;49m\u001b[43mbeta\u001b[49m\u001b[43m,\u001b[49m\n\u001b[0;32m---> 65\u001b[0m \u001b[43m\u001b[49m\u001b[43m)\u001b[49m\u001b[38;5;241;43m.\u001b[39;49m\u001b[43mlog_prob\u001b[49m\u001b[43m(\u001b[49m\u001b[38;5;28;43mself\u001b[39;49m\u001b[38;5;241;43m.\u001b[39;49m\u001b[43mx_o\u001b[49m\u001b[43m[\u001b[49m\u001b[43m:\u001b[49m\u001b[43m,\u001b[49m\u001b[43m \u001b[49m\u001b[43m:\u001b[49m\u001b[38;5;241;43m1\u001b[39;49m\u001b[43m]\u001b[49m\u001b[38;5;241;43m.\u001b[39;49m\u001b[43mreshape\u001b[49m\u001b[43m(\u001b[49m\u001b[38;5;241;43m1\u001b[39;49m\u001b[43m,\u001b[49m\u001b[43m \u001b[49m\u001b[43mnum_trials\u001b[49m\u001b[43m,\u001b[49m\u001b[43m \u001b[49m\u001b[38;5;241;43m-\u001b[39;49m\u001b[38;5;241;43m1\u001b[39;49m\u001b[43m)\u001b[49m\u001b[43m)\u001b[49m\n\u001b[1;32m     67\u001b[0m joint_likelihood \u001b[38;5;241m=\u001b[39m (logprob_choices \u001b[38;5;241m+\u001b[39m logprob_rts)\u001b[38;5;241m.\u001b[39msqueeze()\n\u001b[1;32m     69\u001b[0m \u001b[38;5;28;01massert\u001b[39;00m joint_likelihood\u001b[38;5;241m.\u001b[39mshape \u001b[38;5;241m==\u001b[39m torch\u001b[38;5;241m.\u001b[39mSize([theta\u001b[38;5;241m.\u001b[39mshape[\u001b[38;5;241m0\u001b[39m], \u001b[38;5;28mself\u001b[39m\u001b[38;5;241m.\u001b[39mx_o\u001b[38;5;241m.\u001b[39mshape[\u001b[38;5;241m0\u001b[39m]])\n",
      "File \u001b[0;32m~/miniconda3/envs/sbi-dev/lib/python3.12/site-packages/torch/distributions/transformed_distribution.py:176\u001b[0m, in \u001b[0;36mTransformedDistribution.log_prob\u001b[0;34m(self, value)\u001b[0m\n\u001b[1;32m    169\u001b[0m     log_prob \u001b[38;5;241m=\u001b[39m log_prob \u001b[38;5;241m-\u001b[39m _sum_rightmost(\n\u001b[1;32m    170\u001b[0m         transform\u001b[38;5;241m.\u001b[39mlog_abs_det_jacobian(x, y),\n\u001b[1;32m    171\u001b[0m         event_dim \u001b[38;5;241m-\u001b[39m transform\u001b[38;5;241m.\u001b[39mdomain\u001b[38;5;241m.\u001b[39mevent_dim,\n\u001b[1;32m    172\u001b[0m     )\n\u001b[1;32m    173\u001b[0m     y \u001b[38;5;241m=\u001b[39m x\n\u001b[1;32m    175\u001b[0m log_prob \u001b[38;5;241m=\u001b[39m log_prob \u001b[38;5;241m+\u001b[39m _sum_rightmost(\n\u001b[0;32m--> 176\u001b[0m     \u001b[38;5;28;43mself\u001b[39;49m\u001b[38;5;241;43m.\u001b[39;49m\u001b[43mbase_dist\u001b[49m\u001b[38;5;241;43m.\u001b[39;49m\u001b[43mlog_prob\u001b[49m\u001b[43m(\u001b[49m\u001b[43my\u001b[49m\u001b[43m)\u001b[49m, event_dim \u001b[38;5;241m-\u001b[39m \u001b[38;5;28mlen\u001b[39m(\u001b[38;5;28mself\u001b[39m\u001b[38;5;241m.\u001b[39mbase_dist\u001b[38;5;241m.\u001b[39mevent_shape)\n\u001b[1;32m    177\u001b[0m )\n\u001b[1;32m    178\u001b[0m \u001b[38;5;28;01mreturn\u001b[39;00m log_prob\n",
      "File \u001b[0;32m~/miniconda3/envs/sbi-dev/lib/python3.12/site-packages/torch/distributions/gamma.py:86\u001b[0m, in \u001b[0;36mGamma.log_prob\u001b[0;34m(self, value)\u001b[0m\n\u001b[1;32m     82\u001b[0m \u001b[38;5;28;01mif\u001b[39;00m \u001b[38;5;28mself\u001b[39m\u001b[38;5;241m.\u001b[39m_validate_args:\n\u001b[1;32m     83\u001b[0m     \u001b[38;5;28mself\u001b[39m\u001b[38;5;241m.\u001b[39m_validate_sample(value)\n\u001b[1;32m     84\u001b[0m \u001b[38;5;28;01mreturn\u001b[39;00m (\n\u001b[1;32m     85\u001b[0m     torch\u001b[38;5;241m.\u001b[39mxlogy(\u001b[38;5;28mself\u001b[39m\u001b[38;5;241m.\u001b[39mconcentration, \u001b[38;5;28mself\u001b[39m\u001b[38;5;241m.\u001b[39mrate)\n\u001b[0;32m---> 86\u001b[0m     \u001b[38;5;241m+\u001b[39m \u001b[43mtorch\u001b[49m\u001b[38;5;241;43m.\u001b[39;49m\u001b[43mxlogy\u001b[49m\u001b[43m(\u001b[49m\u001b[38;5;28;43mself\u001b[39;49m\u001b[38;5;241;43m.\u001b[39;49m\u001b[43mconcentration\u001b[49m\u001b[43m \u001b[49m\u001b[38;5;241;43m-\u001b[39;49m\u001b[43m \u001b[49m\u001b[38;5;241;43m1\u001b[39;49m\u001b[43m,\u001b[49m\u001b[43m \u001b[49m\u001b[43mvalue\u001b[49m\u001b[43m)\u001b[49m\n\u001b[1;32m     87\u001b[0m     \u001b[38;5;241m-\u001b[39m \u001b[38;5;28mself\u001b[39m\u001b[38;5;241m.\u001b[39mrate \u001b[38;5;241m*\u001b[39m value\n\u001b[1;32m     88\u001b[0m     \u001b[38;5;241m-\u001b[39m torch\u001b[38;5;241m.\u001b[39mlgamma(\u001b[38;5;28mself\u001b[39m\u001b[38;5;241m.\u001b[39mconcentration)\n\u001b[1;32m     89\u001b[0m )\n",
      "\u001b[0;31mKeyboardInterrupt\u001b[0m: "
     ]
    }
   ],
   "source": [
    "prior = MultipleIndependent(\n",
    "    [\n",
    "        Gamma(torch.tensor([1.0]), torch.tensor([0.5])),\n",
    "        Beta(torch.tensor([2.0]), torch.tensor([2.0])),\n",
    "    ],\n",
    "    validate_args=False,\n",
    ")\n",
    "prior_transform = mcmc_transform(prior)\n",
    "\n",
    "# We can now use the PotentialFunctionProvider to obtain a ground-truth\n",
    "# posterior via MCMC.\n",
    "true_posterior_samples = MCMCPosterior(\n",
    "    BinomialGammaPotential(\n",
    "        prior,\n",
    "        x_o,\n",
    "        concentration_scaling=conditions,\n",
    "    ),\n",
    "    theta_transform=prior_transform,\n",
    "    proposal=prior,\n",
    "    **mcmc_kwargs,\n",
    ").sample((num_samples,), show_progress_bars=True)"
   ]
  },
  {
   "cell_type": "markdown",
   "metadata": {},
   "source": [
    "### Train MNLE including experimental conditions\n"
   ]
  },
  {
   "cell_type": "code",
   "execution_count": 15,
   "metadata": {},
   "outputs": [
    {
     "name": "stderr",
     "output_type": "stream",
     "text": [
      "/Users/janteusen/qode/sbi/sbi/inference/trainers/base.py:271: UserWarning: Z-scoring these simulation outputs resulted in 4 unique datapoints. Before z-scoring, it had been 19864. This can occur due to numerical inaccuracies when the data covers a large range of values. Consider either setting `z_score_x=False` (but beware that this can be problematic for training the NN) or exclude outliers from your dataset. Note: if you have already set `z_score_x=False`, this warning will still be displayed, but you can ignore it.\n",
      "  warn_if_zscoring_changes_data(x)\n",
      "/Users/janteusen/qode/sbi/sbi/neural_nets/factory.py:205: UserWarning: The mixed neural likelihood estimator assumes that x contains continuous data in the first n-1 columns (e.g., reaction times) and categorical data in the last column (e.g., corresponding choices). If this is not the case for the passed `x` do not use this function.\n",
      "  return model_builders[model](batch_x=batch_x, batch_y=batch_theta, **kwargs)\n"
     ]
    },
    {
     "name": "stdout",
     "output_type": "stream",
     "text": [
      " Neural network successfully converged after 102 epochs."
     ]
    }
   ],
   "source": [
    "from sbi.neural_nets import likelihood_nn\n",
    "\n",
    "estimator_builder = likelihood_nn(model=\"mnle\", z_score_x=None)\n",
    "trainer = MNLE(proposal, estimator_builder)\n",
    "estimator = trainer.append_simulations(theta, x).train()"
   ]
  },
  {
   "cell_type": "markdown",
   "metadata": {},
   "source": [
    "### Construct conditional potential function\n",
    "\n",
    "We have now an emulator for the extended simulator, i.e., the one that has both the\n",
    "model parameters and the experimental condition as parameters. \n",
    "\n",
    "To obtain posterior\n",
    "samples conditioned on a particular experimental condition (and on x_o), we need to\n",
    "construct a corresponding potential function that can return the log likelihood of the\n",
    "model parameters, but conditioned on the experimental condition.\n"
   ]
  },
  {
   "cell_type": "code",
   "execution_count": 16,
   "metadata": {},
   "outputs": [
    {
     "data": {
      "application/vnd.jupyter.widget-view+json": {
       "model_id": "4bfa2e454bdd44d192ee790ecd90d35f",
       "version_major": 2,
       "version_minor": 0
      },
      "text/plain": [
       "Running vectorized MCMC with 20 chains:   0%|          | 0/3000 [00:00<?, ?it/s]"
      ]
     },
     "metadata": {},
     "output_type": "display_data"
    }
   ],
   "source": [
    "# We define the potential function for the complete, unconditional MNLE-likelihood\n",
    "potential_fn = LikelihoodBasedPotential(estimator, proposal, x_o)\n",
    "conditioned_potential_fn = potential_fn.condition_on(conditions, dims_to_sample=[0, 1])\n",
    "\n",
    "# Using this potential function, we can now obtain conditional samples.\n",
    "mnle_posterior = MCMCPosterior(\n",
    "    potential_fn=conditioned_potential_fn,\n",
    "    theta_transform=prior_transform,\n",
    "    proposal=prior,\n",
    "    **mcmc_kwargs\n",
    ")\n",
    "conditional_samples = mnle_posterior.sample((num_samples,), x=x_o)"
   ]
  },
  {
   "cell_type": "code",
   "execution_count": null,
   "metadata": {},
   "outputs": [],
   "source": [
    "# Finally, we can compare the ground truth conditional posterior with the\n",
    "# MNLE-conditional posterior.\n",
    "fig, ax = pairplot(\n",
    "    [\n",
    "        prior.sample((1000,)),\n",
    "        true_posterior_samples,\n",
    "        conditional_samples,\n",
    "    ],\n",
    "    points=theta_o,\n",
    "    diag=\"kde\",\n",
    "    upper=\"contour\",\n",
    "    diag_kwargs=dict(bins=100),\n",
    "    upper_kwargs=dict(levels=[0.95]),\n",
    "    fig_kwargs=dict(\n",
    "        points_offdiag=dict(marker=\"*\", markersize=10),\n",
    "        points_colors=[\"k\"],\n",
    "    ),\n",
    "    labels=[r\"$\\beta$\", r\"$\\rho$\"],\n",
    ")\n",
    "\n",
    "plt.sca(ax[1, 1])\n",
    "plt.legend(\n",
    "    [\"Prior\", \"Reference\", \"MNLE\", r\"$\\theta_o$\"],\n",
    "    frameon=False,\n",
    "    fontsize=12,\n",
    ");\n",
    "print(\"c2st between true and MNLE posterior:\", c2st(true_posterior_samples, conditional_samples).item())"
   ]
  },
  {
   "cell_type": "markdown",
   "metadata": {},
   "source": [
    "They match accurately, showing that we can indeed post-hoc condition the trained MNLE likelihood on different experimental conditions.\n"
   ]
  }
 ],
 "metadata": {
  "kernelspec": {
   "display_name": "sbi-dev",
   "language": "python",
   "name": "python3"
  },
  "language_info": {
   "codemirror_mode": {
    "name": "ipython",
    "version": 3
   },
   "file_extension": ".py",
   "mimetype": "text/x-python",
   "name": "python",
   "nbconvert_exporter": "python",
   "pygments_lexer": "ipython3",
   "version": "3.12.4"
  }
 },
 "nbformat": 4,
 "nbformat_minor": 4
}
