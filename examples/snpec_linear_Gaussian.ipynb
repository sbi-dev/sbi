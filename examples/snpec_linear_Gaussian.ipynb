{
 "cells": [
  {
   "cell_type": "markdown",
   "metadata": {},
   "source": [
    "# Linear Gaussian test  \n",
    "deismic"
   ]
  },
  {
   "cell_type": "code",
   "execution_count": null,
   "metadata": {},
   "outputs": [],
   "source": [
    "%load_ext autoreload\n",
    "%autoreload 2"
   ]
  },
  {
   "cell_type": "code",
   "execution_count": null,
   "metadata": {},
   "outputs": [],
   "source": [
    "import sbi.simulators as simulators\n",
    "import sbi.utils as utils\n",
    "import torch\n",
    "from sbi.inference.snpe.snpe_c import SnpeC\n",
    "from torch import distributions\n",
    "\n",
    "# use cpu by default\n",
    "torch.set_default_tensor_type(\"torch.FloatTensor\")\n",
    "\n",
    "# seed the simulations\n",
    "torch.manual_seed(0)"
   ]
  },
  {
   "cell_type": "markdown",
   "metadata": {},
   "source": [
    "## Create NN instance"
   ]
  },
  {
   "cell_type": "code",
   "execution_count": null,
   "metadata": {},
   "outputs": [],
   "source": [
    "dim, std = 3, 0.5\n",
    "simulator = simulators.LinearGaussianSimulator(dim=dim, std=std)\n",
    "prior = distributions.MultivariateNormal(loc=torch.zeros(dim), covariance_matrix=torch.eye(dim))"
   ]
  },
  {
   "cell_type": "code",
   "execution_count": null,
   "metadata": {},
   "outputs": [],
   "source": [
    "ground_truth_parameters = prior.sample()\n",
    "true_observation = simulator(ground_truth_parameters) "
   ]
  },
  {
   "cell_type": "code",
   "execution_count": null,
   "metadata": {},
   "outputs": [],
   "source": [
    "neural_posterior = utils.get_sbi_posterior(\n",
    "    model='maf',\n",
    "    prior=prior,\n",
    "    context=true_observation,\n",
    ")"
   ]
  },
  {
   "cell_type": "code",
   "execution_count": null,
   "metadata": {},
   "outputs": [],
   "source": [
    "apt = SnpeC(\n",
    "    simulator=simulator,\n",
    "    true_observation=true_observation,\n",
    "    prior=prior,\n",
    "    density_estimator=neural_posterior,\n",
    "    num_atoms=-1,\n",
    "    z_score_obs=True,\n",
    "    use_combined_loss=False,\n",
    "    retrain_from_scratch_each_round=False,\n",
    "    discard_prior_samples=False,\n",
    ")"
   ]
  },
  {
   "cell_type": "markdown",
   "metadata": {},
   "source": [
    "### Run inference"
   ]
  },
  {
   "cell_type": "code",
   "execution_count": null,
   "metadata": {},
   "outputs": [],
   "source": [
    "num_rounds, num_simulations_per_round = 1, 2000\n",
    "apt.run_inference(\n",
    "    num_rounds=num_rounds, num_simulations_per_round=num_simulations_per_round\n",
    ")"
   ]
  },
  {
   "cell_type": "markdown",
   "metadata": {},
   "source": [
    "### Draw samples and plot hist"
   ]
  },
  {
   "cell_type": "code",
   "execution_count": null,
   "metadata": {},
   "outputs": [],
   "source": [
    "samples = apt._neural_posterior.sample(2500)\n",
    "samples = utils.tensor2numpy(samples)\n",
    "figure = utils.plot_hist_marginals(\n",
    "    data=samples,\n",
    "    ground_truth=utils.tensor2numpy(\n",
    "        ground_truth_parameters\n",
    "    ).reshape(-1),\n",
    "    lims=[-4, 4],\n",
    ")"
   ]
  },
  {
   "cell_type": "code",
   "execution_count": null,
   "metadata": {},
   "outputs": [],
   "source": []
  }
 ],
 "metadata": {
  "kernelspec": {
   "display_name": "Python 3",
   "language": "python",
   "name": "python3"
  },
  "language_info": {
   "codemirror_mode": {
    "name": "ipython",
    "version": 3
   },
   "file_extension": ".py",
   "mimetype": "text/x-python",
   "name": "python",
   "nbconvert_exporter": "python",
   "pygments_lexer": "ipython3",
   "version": "3.8.2"
  }
 },
 "nbformat": 4,
 "nbformat_minor": 4
}
