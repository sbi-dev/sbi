version https://git-lfs.github.com/spec/v1
oid sha256:429796943792d5a8c1f3e1409d87198cad711627e35f82c2c2b644f4658ec4c7
size 288
