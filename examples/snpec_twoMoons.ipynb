{
 "cells": [
  {
   "cell_type": "markdown",
   "metadata": {},
   "source": [
    "# Linear Gaussian test  \n",
    "deismic"
   ]
  },
  {
   "cell_type": "code",
   "execution_count": 1,
   "metadata": {},
   "outputs": [],
   "source": [
    "%load_ext autoreload\n",
    "%autoreload 2"
   ]
  },
  {
   "cell_type": "code",
   "execution_count": 2,
   "metadata": {},
   "outputs": [
    {
     "data": {
      "text/plain": [
       "<torch._C.Generator at 0x7fbc8eec3ef0>"
      ]
     },
     "execution_count": 2,
     "metadata": {},
     "output_type": "execute_result"
    }
   ],
   "source": [
    "import torch\n",
    "import sbi.simulators as simulators\n",
    "import sbi.utils as utils\n",
    "\n",
    "from torch import distributions\n",
    "from sbi.inference.snpe.snpe_c import APT\n",
    "import numpy as np\n",
    "\n",
    "# use cpu by default\n",
    "torch.set_default_tensor_type(\"torch.FloatTensor\")\n",
    "\n",
    "# seed the simulations\n",
    "torch.manual_seed(0)"
   ]
  },
  {
   "cell_type": "markdown",
   "metadata": {},
   "source": [
    "## Create NN instance"
   ]
  },
  {
   "cell_type": "code",
   "execution_count": 3,
   "metadata": {},
   "outputs": [],
   "source": [
    "dim, std = 3, 0.5\n",
    "simulator = simulators.TwoMoonsSimulator()\n",
    "a = 1\n",
    "prior = distributions.Uniform(low=-a * torch.ones(simulator.parameter_dim), high=a * torch.ones(simulator.parameter_dim))"
   ]
  },
  {
   "cell_type": "code",
   "execution_count": 4,
   "metadata": {},
   "outputs": [],
   "source": [
    "true_observation = torch.tensor([[0, 0]])\n",
    "ground_truth_parameters = torch.tensor([0, 0])"
   ]
  },
  {
   "cell_type": "code",
   "execution_count": 6,
   "metadata": {},
   "outputs": [],
   "source": [
    "neural_posterior = utils.get_sbi_posterior(\n",
    "    model='maf',\n",
    "    prior=prior,\n",
    "    context=true_observation,\n",
    ")"
   ]
  },
  {
   "cell_type": "code",
   "execution_count": 7,
   "metadata": {},
   "outputs": [],
   "source": [
    "apt = APT(\n",
    "    simulator=simulator,\n",
    "    true_observation=true_observation,\n",
    "    prior=prior,\n",
    "    num_atoms=10,\n",
    "    density_estimator=neural_posterior,\n",
    "    z_score_obs=True,\n",
    "    use_combined_loss=False,\n",
    "    retrain_from_scratch_each_round=False,\n",
    "    discard_prior_samples=False,\n",
    ")"
   ]
  },
  {
   "cell_type": "markdown",
   "metadata": {},
   "source": [
    "### Run inference"
   ]
  },
  {
   "cell_type": "code",
   "execution_count": 8,
   "metadata": {},
   "outputs": [
    {
     "name": "stderr",
     "output_type": "stream",
     "text": [
      "  0%|          | 0/2 [00:00<?, ?it/s]/home/michael/anaconda3/envs/sbi/lib/python3.8/site-packages/torch/nn/functional.py:1340: UserWarning: nn.functional.tanh is deprecated. Use torch.tanh instead.\n",
      "  warnings.warn(\"nn.functional.tanh is deprecated. Use torch.tanh instead.\")\n",
      "-------------------------00<01:00, 60.48s/it]\n",
      "||||| ROUND 1 STATS |||||:\n",
      "-------------------------\n",
      "Epochs trained: 142\n",
      "Best validation performance: 1.2356\n",
      "\n",
      "-------------------------1:00<01:00, 60.48s/it]\n",
      "||||| ROUND 1 STATS |||||:\n",
      "-------------------------\n",
      "Epochs trained: 142\n",
      "Best validation performance: 1.2356\n",
      "\n",
      "-------------------------1:30<00:00, 51.49s/it]\n",
      "||||| ROUND 1 STATS |||||:\n",
      "-------------------------\n",
      "Epochs trained: 142\n",
      "Best validation performance: 1.2356\n",
      "\n",
      ": 100%|██████████| 2/2 [01:30<00:00, 45.50s/it]\n"
     ]
    }
   ],
   "source": [
    "num_rounds, num_simulations_per_round = 2, [800, 500]\n",
    "apt.run_inference(\n",
    "    num_rounds=num_rounds, num_simulations_per_round=num_simulations_per_round, batch_size=50\n",
    ")"
   ]
  },
  {
   "cell_type": "markdown",
   "metadata": {},
   "source": [
    "### Draw samples and plot hist"
   ]
  },
  {
   "cell_type": "code",
   "execution_count": 9,
   "metadata": {},
   "outputs": [
    {
     "data": {
      "image/png": "[encoded data removed]",
      "text/plain": [
       "<Figure size 576x576 with 3 Axes>"
      ]
     },
     "metadata": {},
     "output_type": "display_data"
    }
   ],
   "source": [
    "samples = apt._neural_posterior.sample(2500)\n",
    "samples = utils.tensor2numpy(samples)\n",
    "figure = utils.plot_hist_marginals(\n",
    "    data=samples,\n",
    "    ground_truth=utils.tensor2numpy(ground_truth_parameters).reshape(-1),\n",
    "    lims=simulator.parameter_plotting_limits,\n",
    ")"
   ]
  },
  {
   "cell_type": "code",
   "execution_count": null,
   "metadata": {},
   "outputs": [],
   "source": []
  }
 ],
 "metadata": {
  "kernelspec": {
   "display_name": "Python 3",
   "language": "python",
   "name": "python3"
  },
  "language_info": {
   "codemirror_mode": {
    "name": "ipython",
    "version": 3
   },
   "file_extension": ".py",
   "mimetype": "text/x-python",
   "name": "python",
   "nbconvert_exporter": "python",
   "pygments_lexer": "ipython3",
   "version": "3.8.1"
  }
 },
 "nbformat": 4,
 "nbformat_minor": 4
}
