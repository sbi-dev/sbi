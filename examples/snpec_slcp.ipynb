version https://git-lfs.github.com/spec/v1
oid sha256:a0779e0aa3aa761c2efc0ebfab7b9dee7e70a8e5b8ded7bd575e84b733329e46
size 73649
