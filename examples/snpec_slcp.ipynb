{
 "cells": [
  {
   "cell_type": "code",
   "execution_count": null,
   "metadata": {},
   "outputs": [],
   "source": [
    "import torch\n",
    "\n",
    "from sbi import inference\n",
    "from sbi import simulators\n",
    "from sbi import utils\n",
    "\n",
    "from matplotlib import pyplot as plt\n",
    "\n",
    "# use GPU if available\n",
    "if torch.cuda.is_available():\n",
    "    device = torch.device(\"cuda\")\n",
    "    torch.set_default_tensor_type(\"torch.cuda.FloatTensor\")\n",
    "else:\n",
    "    device = torch.device(\"cpu\")\n",
    "    torch.set_default_tensor_type(\"torch.FloatTensor\")"
   ]
  },
  {
   "cell_type": "markdown",
   "metadata": {},
   "source": [
    "## SNPE C"
   ]
  },
  {
   "cell_type": "code",
   "execution_count": null,
   "metadata": {},
   "outputs": [],
   "source": [
    "# get simulator and prior\n",
    "simulator, prior, ground_truth_parameters, true_observation = simulators.get_simulator_prior_and_groundtruth(\"nonlinear-gaussian\")\n",
    "\n",
    "# create inference method\n",
    "# TODO: fix kwarg: density_estimator \n",
    "inference_method = inference.APT(\n",
    "    simulator=simulator,\n",
    "    prior=prior,\n",
    "    true_observation=true_observation,\n",
    "    density_estimator='maf',\n",
    "    num_atoms=-1,\n",
    ")"
   ]
  },
  {
   "cell_type": "code",
   "execution_count": null,
   "metadata": {},
   "outputs": [],
   "source": [
    "# run inference\n",
    "inference_method.run_inference(num_rounds=5, num_simulations_per_round=1000)"
   ]
  },
  {
   "cell_type": "code",
   "execution_count": null,
   "metadata": {},
   "outputs": [],
   "source": [
    "# sample posterior\n",
    "samples = inference_method.sample_posterior(num_samples=10000)"
   ]
  },
  {
   "cell_type": "code",
   "execution_count": null,
   "metadata": {},
   "outputs": [],
   "source": [
    "# plot samples\n",
    "utils.plot_hist_marginals(\n",
    "    utils.tensor2numpy(samples),\n",
    "    lims=simulator.parameter_plotting_limits,\n",
    "    ground_truth=utils.tensor2numpy(ground_truth_parameters).reshape(\n",
    "        -1\n",
    "    ),\n",
    ")\n",
    "plt.show()"
   ]
  },
  {
   "cell_type": "code",
   "execution_count": null,
   "metadata": {},
   "outputs": [],
   "source": []
  }
 ],
 "metadata": {
  "kernelspec": {
   "display_name": "Python 3",
   "language": "python",
   "name": "python3"
  },
  "language_info": {
   "codemirror_mode": {
    "name": "ipython",
    "version": 3
   },
   "file_extension": ".py",
   "mimetype": "text/x-python",
   "name": "python",
   "nbconvert_exporter": "python",
   "pygments_lexer": "ipython3",
   "version": "3.8.2"
  }
 },
 "nbformat": 4,
 "nbformat_minor": 4
}
