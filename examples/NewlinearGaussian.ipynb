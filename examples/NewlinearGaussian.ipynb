{
 "cells": [
  {
   "cell_type": "markdown",
   "metadata": {},
   "source": [
    "# Linear Gaussian"
   ]
  },
  {
   "cell_type": "code",
   "execution_count": null,
   "metadata": {},
   "outputs": [],
   "source": [
    "%load_ext autoreload\n",
    "%autoreload 2"
   ]
  },
  {
   "cell_type": "code",
   "execution_count": null,
   "metadata": {},
   "outputs": [],
   "source": [
    "import pytest\n",
    "import sbi.simulators as simulators\n",
    "import sbi.utils as utils\n",
    "import torch\n",
    "from sbi.inference.snpe.snpe_c import APT\n",
    "from torch import distributions\n",
    "\n",
    "# use cpu by default\n",
    "torch.set_default_tensor_type(\"torch.FloatTensor\")\n",
    "\n",
    "# seed the simulations\n",
    "torch.manual_seed(0)"
   ]
  },
  {
   "cell_type": "code",
   "execution_count": null,
   "metadata": {},
   "outputs": [],
   "source": [
    "dim, std = 3, 1.0\n",
    "simulator = simulators.LinearGaussianSimulator(dim=dim, std=std)\n",
    "prior = distributions.MultivariateNormal(\n",
    "    loc=torch.zeros(dim), covariance_matrix=torch.eye(dim)\n",
    ")"
   ]
  },
  {
   "cell_type": "code",
   "execution_count": null,
   "metadata": {},
   "outputs": [],
   "source": [
    "true_observation = torch.zeros(dim)\n",
    "\n",
    "# TODO: fails with unknown kwarg. adapt to sbi new version \n",
    "apt = APT(\n",
    "    simulator=simulator,\n",
    "    true_observation=true_observation,\n",
    "    prior=prior,\n",
    "    num_atoms=-1,\n",
    "    density_estimator='maf',\n",
    "    calibration_kernel=None,\n",
    "    z_score_obs=True,\n",
    "    use_combined_loss=False,\n",
    "    train_with_mcmc=False,\n",
    "    mcmc_method=\"slice-np\",\n",
    "    summary_net=None,\n",
    "    retrain_from_scratch_each_round=False,\n",
    "    discard_prior_samples=False,\n",
    ")"
   ]
  },
  {
   "cell_type": "code",
   "execution_count": null,
   "metadata": {},
   "outputs": [],
   "source": [
    "# run inference\n",
    "num_rounds, num_simulations_per_round = 2, 500\n",
    "apt.run_inference(\n",
    "    num_rounds=num_rounds, num_simulations_per_round=num_simulations_per_round\n",
    ")\n",
    "\n",
    "# draw samples from posterior\n",
    "samples = apt.sample(1000)"
   ]
  },
  {
   "cell_type": "code",
   "execution_count": null,
   "metadata": {},
   "outputs": [],
   "source": [
    "samples = apt.sample(2500)\n",
    "samples = utils.tensor2numpy(samples)\n",
    "figure = utils.plot_hist_marginals(\n",
    "    data=samples,\n",
    "    lims=[-4, 4],\n",
    ")"
   ]
  },
  {
   "cell_type": "code",
   "execution_count": null,
   "metadata": {},
   "outputs": [],
   "source": [
    "log_prob = apt.evaluate(torch.tensor([0.0, 0.0, 0.0]))\n",
    "print('log probability of origin: ', log_prob)"
   ]
  },
  {
   "cell_type": "markdown",
   "metadata": {},
   "source": [
    "# SNPE-B"
   ]
  },
  {
   "cell_type": "code",
   "execution_count": null,
   "metadata": {},
   "outputs": [],
   "source": [
    "from sbi.inference.snpe.snpe_b import SNPE_B"
   ]
  },
  {
   "cell_type": "code",
   "execution_count": null,
   "metadata": {},
   "outputs": [],
   "source": [
    "true_observation = torch.zeros(dim)\n",
    "\n",
    "snpe_b = SNPE_B(\n",
    "    simulator=simulator,\n",
    "    true_observation=true_observation,\n",
    "    prior=prior,\n",
    "    density_estimator='maf',\n",
    "    calibration_kernel=None,\n",
    "    z_score_obs=True,\n",
    "    use_combined_loss=False,\n",
    "    train_with_mcmc=False,\n",
    "    mcmc_method=\"slice-np\",\n",
    "    summary_net=None,\n",
    "    retrain_from_scratch_each_round=False,\n",
    "    discard_prior_samples=False,\n",
    ")"
   ]
  },
  {
   "cell_type": "code",
   "execution_count": null,
   "metadata": {},
   "outputs": [],
   "source": [
    "# run inference\n",
    "num_rounds, num_simulations_per_round = 2, 500\n",
    "snpe_b.run_inference(\n",
    "    num_rounds=num_rounds, num_simulations_per_round=num_simulations_per_round\n",
    ")"
   ]
  },
  {
   "cell_type": "code",
   "execution_count": null,
   "metadata": {},
   "outputs": [],
   "source": [
    "samples = snpe_b.sample(2500)\n",
    "samples = utils.tensor2numpy(samples)\n",
    "figure = utils.plot_hist_marginals(\n",
    "    data=samples,\n",
    "    lims=[-4, 4],\n",
    ")"
   ]
  },
  {
   "cell_type": "markdown",
   "metadata": {},
   "source": [
    "# SNPE-A"
   ]
  },
  {
   "cell_type": "code",
   "execution_count": null,
   "metadata": {},
   "outputs": [],
   "source": []
  }
 ],
 "metadata": {
  "kernelspec": {
   "display_name": "Python 3",
   "language": "python",
   "name": "python3"
  },
  "language_info": {
   "codemirror_mode": {
    "name": "ipython"
   },
   "file_extension": ".py",
   "mimetype": "text/x-python",
   "name": "python",
   "nbconvert_exporter": "python"
  }
 },
 "nbformat": 4,
 "nbformat_minor": 4
}
