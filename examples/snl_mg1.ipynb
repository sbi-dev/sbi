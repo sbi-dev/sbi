{
 "cells": [
  {
   "cell_type": "code",
   "execution_count": 1,
   "metadata": {},
   "outputs": [],
   "source": [
    "import torch\n",
    "\n",
    "from sbi import inference\n",
    "from sbi import simulators\n",
    "from sbi import utils\n",
    "\n",
    "from matplotlib import pyplot as plt\n",
    "\n",
    "# use GPU if available\n",
    "if torch.cuda.is_available():\n",
    "    device = torch.device(\"cuda\")\n",
    "    torch.set_default_tensor_type(\"torch.cuda.FloatTensor\")\n",
    "else:\n",
    "    device = torch.device(\"cpu\")\n",
    "    torch.set_default_tensor_type(\"torch.FloatTensor\")"
   ]
  },
  {
   "cell_type": "markdown",
   "metadata": {},
   "source": [
    "# SNL "
   ]
  },
  {
   "cell_type": "code",
   "execution_count": 3,
   "metadata": {},
   "outputs": [
    {
     "name": "stderr",
     "output_type": "stream",
     "text": [
      "/home/janfb/anaconda3/envs/lfi/lib/python3.7/site-packages/torch/nn/functional.py:1340: UserWarning: nn.functional.tanh is deprecated. Use torch.tanh instead.\n",
      "  warnings.warn(\"nn.functional.tanh is deprecated. Use torch.tanh instead.\")\n"
     ]
    }
   ],
   "source": [
    "# get simulator and prior\n",
    "simulator, prior, ground_truth_parameters, true_observation = simulators.get_simulator_prior_and_groundtruth('mg1')\n",
    "parameter_dim = ground_truth_parameters.shape[0]\n",
    "observation_dim = true_observation.shape[0]\n",
    "\n",
    "# get neural likelihood\n",
    "neural_likelihood = utils.get_neural_likelihood(\n",
    "    \"maf\",\n",
    "    parameter_dim=parameter_dim,\n",
    "    observation_dim=observation_dim,\n",
    ")\n",
    "\n",
    "# create inference method\n",
    "inference_method = inference.SNL(\n",
    "    simulator=simulator,\n",
    "    prior=prior,\n",
    "    true_observation=true_observation,\n",
    "    neural_likelihood=neural_likelihood,\n",
    "    mcmc_method=\"slice-np\",\n",
    ")"
   ]
  },
  {
   "cell_type": "code",
   "execution_count": null,
   "metadata": {},
   "outputs": [],
   "source": [
    "# run inference\n",
    "inference_method.run_inference(num_rounds=1, num_simulations_per_round=1000)"
   ]
  },
  {
   "cell_type": "code",
   "execution_count": 5,
   "metadata": {},
   "outputs": [
    {
     "name": "stderr",
     "output_type": "stream",
     "text": [
      "\n",
      "  0%|          | 0/20 [00:00<?, ?it/s]\u001b[A\n",
      "Generating samples:   0%|          | 0/20 [00:00<?, ?it/s]\u001b[A\n",
      "Generating samples:  50%|█████     | 10/20 [00:07<00:07,  1.36it/s]\u001b[A\n",
      "Generating samples: 100%|██████████| 20/20 [00:14<00:00,  1.36it/s]\u001b[A\n",
      "\n",
      "  0%|          | 0/1000 [00:00<?, ?it/s]\u001b[A\n",
      "Generating samples:   0%|          | 0/1000 [00:00<?, ?it/s]\u001b[A\n",
      "Generating samples:   1%|          | 10/1000 [00:07<12:26,  1.33it/s]\u001b[A\n",
      "Generating samples:   2%|▏         | 20/1000 [00:14<12:13,  1.34it/s]\u001b[A\n",
      "Generating samples:   3%|▎         | 30/1000 [00:22<12:09,  1.33it/s]\u001b[A\n",
      "Generating samples:   4%|▍         | 40/1000 [00:29<11:52,  1.35it/s]\u001b[A\n",
      "Generating samples:   5%|▌         | 50/1000 [00:37<11:43,  1.35it/s]\u001b[A\n",
      "Generating samples:   6%|▌         | 60/1000 [00:44<11:38,  1.35it/s]\u001b[A\n",
      "Generating samples:   7%|▋         | 70/1000 [00:52<11:35,  1.34it/s]\u001b[A\n",
      "Generating samples:   8%|▊         | 80/1000 [00:59<11:24,  1.34it/s]\u001b[A\n",
      "Generating samples:   9%|▉         | 90/1000 [01:06<11:16,  1.34it/s]\u001b[A\n",
      "Generating samples:  10%|█         | 100/1000 [01:14<11:10,  1.34it/s]\u001b[A\n",
      "Generating samples:  11%|█         | 110/1000 [01:21<11:04,  1.34it/s]\u001b[A\n",
      "Generating samples:  12%|█▏        | 120/1000 [01:29<11:00,  1.33it/s]\u001b[A\n",
      "Generating samples:  13%|█▎        | 130/1000 [01:36<10:51,  1.33it/s]\u001b[A\n",
      "Generating samples:  14%|█▍        | 140/1000 [01:44<10:39,  1.34it/s]\u001b[A\n",
      "Generating samples:  15%|█▌        | 150/1000 [01:51<10:31,  1.35it/s]\u001b[A\n",
      "Generating samples:  16%|█▌        | 160/1000 [01:59<10:29,  1.33it/s]\u001b[A\n",
      "Generating samples:  17%|█▋        | 170/1000 [02:06<10:18,  1.34it/s]\u001b[A\n",
      "Generating samples:  18%|█▊        | 180/1000 [02:14<10:15,  1.33it/s]\u001b[A\n",
      "Generating samples:  19%|█▉        | 190/1000 [02:21<10:04,  1.34it/s]\u001b[A\n",
      "Generating samples:  20%|██        | 200/1000 [02:29<09:59,  1.33it/s]\u001b[A\n",
      "Generating samples:  21%|██        | 210/1000 [02:36<09:51,  1.33it/s]\u001b[A\n",
      "Generating samples:  22%|██▏       | 220/1000 [02:44<09:41,  1.34it/s]\u001b[A\n",
      "Generating samples:  23%|██▎       | 230/1000 [02:51<09:30,  1.35it/s]\u001b[A\n",
      "Generating samples:  24%|██▍       | 240/1000 [02:58<09:20,  1.36it/s]\u001b[A\n",
      "Generating samples:  25%|██▌       | 250/1000 [03:06<09:12,  1.36it/s]\u001b[A\n",
      "Generating samples:  26%|██▌       | 260/1000 [03:13<09:07,  1.35it/s]\u001b[A\n",
      "Generating samples:  27%|██▋       | 270/1000 [03:20<08:59,  1.35it/s]\u001b[A\n",
      "Generating samples:  28%|██▊       | 280/1000 [03:28<08:51,  1.35it/s]\u001b[A\n",
      "Generating samples:  29%|██▉       | 290/1000 [03:35<08:43,  1.36it/s]\u001b[A\n",
      "Generating samples:  30%|███       | 300/1000 [03:43<08:38,  1.35it/s]\u001b[A\n",
      "Generating samples:  31%|███       | 310/1000 [03:50<08:40,  1.33it/s]\u001b[A\n",
      "Generating samples:  32%|███▏      | 320/1000 [03:58<08:30,  1.33it/s]\u001b[A\n",
      "Generating samples:  33%|███▎      | 330/1000 [04:05<08:17,  1.35it/s]\u001b[A\n",
      "Generating samples:  34%|███▍      | 340/1000 [04:12<08:05,  1.36it/s]\u001b[A\n",
      "Generating samples:  35%|███▌      | 350/1000 [04:20<07:59,  1.36it/s]\u001b[A\n",
      "Generating samples:  36%|███▌      | 360/1000 [04:27<07:51,  1.36it/s]\u001b[A\n",
      "Generating samples:  37%|███▋      | 370/1000 [04:35<07:46,  1.35it/s]\u001b[A\n",
      "Generating samples:  38%|███▊      | 380/1000 [04:42<07:39,  1.35it/s]\u001b[A\n",
      "Generating samples:  39%|███▉      | 390/1000 [04:49<07:28,  1.36it/s]\u001b[A\n",
      "Generating samples:  40%|████      | 400/1000 [04:56<07:17,  1.37it/s]\u001b[A\n",
      "Generating samples:  41%|████      | 410/1000 [05:04<07:12,  1.37it/s]\u001b[A\n",
      "Generating samples:  42%|████▏     | 420/1000 [05:11<07:06,  1.36it/s]\u001b[A\n",
      "Generating samples:  43%|████▎     | 430/1000 [05:18<06:57,  1.37it/s]\u001b[A\n",
      "Generating samples:  44%|████▍     | 440/1000 [05:26<06:51,  1.36it/s]\u001b[A\n",
      "Generating samples:  45%|████▌     | 450/1000 [05:33<06:44,  1.36it/s]\u001b[A\n",
      "Generating samples:  46%|████▌     | 460/1000 [05:41<06:38,  1.36it/s]\u001b[A\n",
      "Generating samples:  47%|████▋     | 470/1000 [05:48<06:28,  1.36it/s]\u001b[A\n",
      "Generating samples:  48%|████▊     | 480/1000 [05:55<06:22,  1.36it/s]\u001b[A\n",
      "Generating samples:  49%|████▉     | 490/1000 [06:03<06:15,  1.36it/s]\u001b[A\n",
      "Generating samples:  50%|█████     | 500/1000 [06:10<06:09,  1.35it/s]\u001b[A\n",
      "Generating samples:  51%|█████     | 510/1000 [06:18<06:04,  1.35it/s]\u001b[A\n",
      "Generating samples:  52%|█████▏    | 520/1000 [06:25<06:00,  1.33it/s]\u001b[A\n",
      "Generating samples:  53%|█████▎    | 530/1000 [06:33<05:54,  1.33it/s]\u001b[A\n",
      "Generating samples:  54%|█████▍    | 540/1000 [06:41<05:47,  1.33it/s]\u001b[A\n",
      "Generating samples:  55%|█████▌    | 550/1000 [06:48<05:38,  1.33it/s]\u001b[A\n",
      "Generating samples:  56%|█████▌    | 560/1000 [06:55<05:26,  1.35it/s]\u001b[A\n",
      "Generating samples:  57%|█████▋    | 570/1000 [07:03<05:18,  1.35it/s]\u001b[A\n",
      "Generating samples:  58%|█████▊    | 580/1000 [07:10<05:11,  1.35it/s]\u001b[A\n",
      "Generating samples:  59%|█████▉    | 590/1000 [07:17<05:04,  1.35it/s]\u001b[A\n",
      "Generating samples:  60%|██████    | 600/1000 [07:25<04:57,  1.35it/s]\u001b[A\n",
      "Generating samples:  61%|██████    | 610/1000 [07:33<04:53,  1.33it/s]\u001b[A\n",
      "Generating samples:  62%|██████▏   | 620/1000 [07:40<04:46,  1.33it/s]\u001b[A\n",
      "Generating samples:  63%|██████▎   | 630/1000 [07:48<04:37,  1.33it/s]\u001b[A\n",
      "Generating samples:  64%|██████▍   | 640/1000 [07:55<04:30,  1.33it/s]\u001b[A\n",
      "Generating samples:  65%|██████▌   | 650/1000 [08:03<04:22,  1.33it/s]\u001b[A\n",
      "Generating samples:  66%|██████▌   | 660/1000 [08:10<04:17,  1.32it/s]\u001b[A\n",
      "Generating samples:  67%|██████▋   | 670/1000 [08:18<04:10,  1.32it/s]\u001b[A\n",
      "Generating samples:  68%|██████▊   | 680/1000 [08:26<04:03,  1.32it/s]\u001b[A\n",
      "Generating samples:  69%|██████▉   | 690/1000 [08:33<03:53,  1.33it/s]\u001b[A\n",
      "Generating samples:  70%|███████   | 700/1000 [08:41<03:46,  1.32it/s]\u001b[A\n",
      "Generating samples:  71%|███████   | 710/1000 [08:48<03:38,  1.33it/s]\u001b[A\n",
      "Generating samples:  72%|███████▏  | 720/1000 [08:56<03:30,  1.33it/s]\u001b[A\n",
      "Generating samples:  73%|███████▎  | 730/1000 [09:03<03:21,  1.34it/s]\u001b[A\n",
      "Generating samples:  74%|███████▍  | 740/1000 [09:10<03:14,  1.34it/s]\u001b[A\n",
      "Generating samples:  75%|███████▌  | 750/1000 [09:18<03:07,  1.33it/s]\u001b[A\n",
      "Generating samples:  76%|███████▌  | 760/1000 [09:25<02:58,  1.34it/s]\u001b[A\n",
      "Generating samples:  77%|███████▋  | 770/1000 [09:32<02:49,  1.36it/s]\u001b[A\n",
      "Generating samples:  78%|███████▊  | 780/1000 [09:40<02:42,  1.35it/s]\u001b[A\n",
      "Generating samples:  79%|███████▉  | 790/1000 [09:48<02:37,  1.33it/s]\u001b[A\n",
      "Generating samples:  80%|████████  | 800/1000 [09:55<02:30,  1.33it/s]\u001b[A\n",
      "Generating samples:  81%|████████  | 810/1000 [10:03<02:21,  1.34it/s]\u001b[A\n",
      "Generating samples:  82%|████████▏ | 820/1000 [10:10<02:13,  1.35it/s]\u001b[A\n",
      "Generating samples:  83%|████████▎ | 830/1000 [10:17<02:05,  1.35it/s]\u001b[A\n",
      "Generating samples:  84%|████████▍ | 840/1000 [10:25<01:58,  1.35it/s]\u001b[A\n",
      "Generating samples:  85%|████████▌ | 850/1000 [10:32<01:51,  1.34it/s]\u001b[A\n",
      "Generating samples:  86%|████████▌ | 860/1000 [10:40<01:44,  1.34it/s]\u001b[A\n",
      "Generating samples:  87%|████████▋ | 870/1000 [10:47<01:37,  1.34it/s]\u001b[A\n",
      "Generating samples:  88%|████████▊ | 880/1000 [10:55<01:30,  1.33it/s]\u001b[A\n",
      "Generating samples:  89%|████████▉ | 890/1000 [11:02<01:22,  1.33it/s]\u001b[A\n",
      "Generating samples:  90%|█████████ | 900/1000 [11:10<01:14,  1.34it/s]\u001b[A\n",
      "Generating samples:  91%|█████████ | 910/1000 [11:17<01:07,  1.34it/s]\u001b[A\n",
      "Generating samples:  92%|█████████▏| 920/1000 [11:24<00:58,  1.36it/s]\u001b[A\n",
      "Generating samples:  93%|█████████▎| 930/1000 [11:32<00:51,  1.36it/s]\u001b[A\n",
      "Generating samples:  94%|█████████▍| 940/1000 [11:39<00:44,  1.35it/s]\u001b[A\n",
      "Generating samples:  95%|█████████▌| 950/1000 [11:47<00:37,  1.34it/s]\u001b[A\n",
      "Generating samples:  96%|█████████▌| 960/1000 [11:54<00:29,  1.35it/s]\u001b[A\n",
      "Generating samples:  97%|█████████▋| 970/1000 [12:02<00:22,  1.33it/s]\u001b[A\n",
      "Generating samples:  98%|█████████▊| 980/1000 [12:09<00:14,  1.34it/s]\u001b[A\n",
      "Generating samples:  99%|█████████▉| 990/1000 [12:17<00:07,  1.34it/s]\u001b[A\n",
      "Generating samples: 100%|██████████| 1000/1000 [12:24<00:00,  1.34it/s]\u001b[A\n"
     ]
    }
   ],
   "source": [
    "# sample posterior\n",
    "samples = inference_method.sample_posterior(num_samples=1000)"
   ]
  },
  {
   "cell_type": "code",
   "execution_count": 6,
   "metadata": {},
   "outputs": [
    {
     "data": {
      "image/png": "[encoded data removed]",
      "text/plain": [
       "<Figure size 576x576 with 6 Axes>"
      ]
     },
     "metadata": {},
     "output_type": "display_data"
    }
   ],
   "source": [
    "# plot samples\n",
    "utils.plot_hist_marginals(\n",
    "    utils.tensor2numpy(samples),\n",
    "    lims=simulator.parameter_plotting_limits,\n",
    "    ground_truth=utils.tensor2numpy(ground_truth_parameters).reshape(\n",
    "        -1\n",
    "    ),\n",
    ")\n",
    "plt.show()"
   ]
  },
  {
   "cell_type": "code",
   "execution_count": null,
   "metadata": {},
   "outputs": [],
   "source": []
  }
 ],
 "metadata": {
  "kernelspec": {
   "display_name": "Python 3",
   "language": "python",
   "name": "python3"
  },
  "language_info": {
   "codemirror_mode": {
    "name": "ipython",
    "version": 3
   },
   "file_extension": ".py",
   "mimetype": "text/x-python",
   "name": "python",
   "nbconvert_exporter": "python",
   "pygments_lexer": "ipython3",
   "version": "3.7.6"
  }
 },
 "nbformat": 4,
 "nbformat_minor": 4
}
