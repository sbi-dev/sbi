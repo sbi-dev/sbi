{
 "cells": [
  {
   "cell_type": "code",
   "execution_count": null,
   "metadata": {},
   "outputs": [],
   "source": [
    "%load_ext autoreload\n",
    "%autoreload 2"
   ]
  },
  {
   "cell_type": "code",
   "execution_count": null,
   "metadata": {},
   "outputs": [],
   "source": [
    "import os\n",
    "\n",
    "import numpy as np\n",
    "import sbi.simulators as simulators\n",
    "import sbi.utils as utils\n",
    "import torch\n",
    "from sbi.inference.snpe.snpe_c import APT\n",
    "from sbi.inference.snpe.snpe_b import SnpeB\n",
    "from torch import distributions\n",
    "\n",
    "# use cpu by default\n",
    "torch.set_default_tensor_type(\"torch.FloatTensor\")\n",
    "\n",
    "# seed the simulations\n",
    "torch.manual_seed(0)"
   ]
  },
  {
   "cell_type": "code",
   "execution_count": null,
   "metadata": {},
   "outputs": [],
   "source": [
    "a = "
   ]
  },
  {
   "cell_type": "code",
   "execution_count": null,
   "metadata": {},
   "outputs": [],
   "source": [
    "simulator = simulators.TwoMoonsSimulator()\n",
    "a = 1\n",
    "parameter_dim, observation_dim = 2, 2\n",
    "prior = distributions.Uniform(\n",
    "    low=-a * torch.ones(parameter_dim), high=a * torch.ones(parameter_dim),\n",
    ")\n",
    "\n",
    "true_observation = torch.Tensor([0, 0])"
   ]
  },
  {
   "cell_type": "code",
   "execution_count": null,
   "metadata": {},
   "outputs": [],
   "source": [
    "snpe_b = SNPE_B(\n",
    "    simulator=simulator,\n",
    "    true_observation=true_observation,\n",
    "    prior=prior,\n",
    "    use_combined_loss=False,\n",
    "    density_estimator=\"maf\",\n",
    "    z_score_obs=True,\n",
    "    train_with_mcmc=False,\n",
    "    mcmc_method=\"slice-np\",\n",
    "    summary_net=None,\n",
    "    retrain_from_scratch_each_round=False,\n",
    "    discard_prior_samples=False,\n",
    ")"
   ]
  },
  {
   "cell_type": "code",
   "execution_count": null,
   "metadata": {},
   "outputs": [],
   "source": [
    "num_rounds, num_simulations_per_round = 2, 500\n",
    "snpe_b.run_inference(\n",
    "    num_rounds=num_rounds,\n",
    "    num_simulations_per_round=num_simulations_per_round,\n",
    "    batch_size=20,\n",
    ")"
   ]
  },
  {
   "cell_type": "code",
   "execution_count": null,
   "metadata": {},
   "outputs": [],
   "source": [
    "samples = snpe_b.sample(2500)\n",
    "samples = utils.tensor2numpy(samples)\n",
    "figure = utils.plot_hist_marginals(\n",
    "    data=samples,\n",
    "    lims=[-1, 1],\n",
    ")"
   ]
  },
  {
   "cell_type": "code",
   "execution_count": null,
   "metadata": {},
   "outputs": [],
   "source": []
  }
 ],
 "metadata": {
  "kernelspec": {
   "display_name": "Python 3",
   "language": "python",
   "name": "python3"
  },
  "language_info": {
   "codemirror_mode": {
    "name": "ipython",
    "version": 3
   },
   "file_extension": ".py",
   "mimetype": "text/x-python",
   "name": "python",
   "nbconvert_exporter": "python",
   "pygments_lexer": "ipython3",
   "version": "3.8.2"
  }
 },
 "nbformat": 4,
 "nbformat_minor": 4
}
