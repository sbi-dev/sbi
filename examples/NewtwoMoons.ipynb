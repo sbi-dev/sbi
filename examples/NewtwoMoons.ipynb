{
 "cells": [
  {
   "cell_type": "code",
   "execution_count": 2,
   "metadata": {},
   "outputs": [
    {
     "name": "stdout",
     "output_type": "stream",
     "text": [
      "The autoreload extension is already loaded. To reload it, use:\n",
      "  %reload_ext autoreload\n"
     ]
    }
   ],
   "source": [
    "%load_ext autoreload\n",
    "%autoreload 2"
   ]
  },
  {
   "cell_type": "code",
   "execution_count": 2,
   "metadata": {},
   "outputs": [
    {
     "data": {
      "text/plain": [
       "<torch._C.Generator at 0x1145abf90>"
      ]
     },
     "execution_count": 2,
     "metadata": {},
     "output_type": "execute_result"
    }
   ],
   "source": [
    "import os\n",
    "\n",
    "import numpy as np\n",
    "import sbi.simulators as simulators\n",
    "import sbi.utils as utils\n",
    "import torch\n",
    "from sbi.inference.snpe.snpe_c import APT\n",
    "from sbi.inference.snpe.snpe_b import SNPE_B\n",
    "from torch import distributions\n",
    "\n",
    "# use cpu by default\n",
    "torch.set_default_tensor_type(\"torch.FloatTensor\")\n",
    "\n",
    "# seed the simulations\n",
    "torch.manual_seed(0)"
   ]
  },
  {
   "cell_type": "code",
   "execution_count": null,
   "metadata": {},
   "outputs": [],
   "source": [
    "a = "
   ]
  },
  {
   "cell_type": "code",
   "execution_count": 3,
   "metadata": {},
   "outputs": [],
   "source": [
    "simulator = simulators.TwoMoonsSimulator()\n",
    "a = 1\n",
    "parameter_dim, observation_dim = 2, 2\n",
    "prior = distributions.Uniform(\n",
    "    low=-a * torch.ones(parameter_dim), high=a * torch.ones(parameter_dim),\n",
    ")\n",
    "\n",
    "true_observation = torch.Tensor([0, 0])"
   ]
  },
  {
   "cell_type": "code",
   "execution_count": 4,
   "metadata": {},
   "outputs": [
    {
     "name": "stderr",
     "output_type": "stream",
     "text": [
      "/Users/deismic/Documents/PhD/pyknos/pyknos/transforms/standard.py:62: UserWarning: To copy construct from a tensor, it is recommended to use sourceTensor.clone().detach() or sourceTensor.clone().detach().requires_grad_(True), rather than torch.tensor(sourceTensor).\n",
      "  \"_shift\", torch.tensor(shift if (shift is not None) else 0.0)\n",
      "/Users/deismic/Documents/PhD/pyknos/pyknos/transforms/standard.py:65: UserWarning: To copy construct from a tensor, it is recommended to use sourceTensor.clone().detach() or sourceTensor.clone().detach().requires_grad_(True), rather than torch.tensor(sourceTensor).\n",
      "  \"_scale\", torch.tensor(scale if (scale is not None) else 1.0)\n"
     ]
    }
   ],
   "source": [
    "snpe_b = SNPE_B(\n",
    "    simulator=simulator,\n",
    "    true_observation=true_observation,\n",
    "    prior=prior,\n",
    "    use_combined_loss=False,\n",
    "    density_estimator=\"maf\",\n",
    "    z_score_obs=True,\n",
    "    train_with_mcmc=False,\n",
    "    mcmc_method=\"slice-np\",\n",
    "    summary_net=None,\n",
    "    retrain_from_scratch_each_round=False,\n",
    "    discard_prior_samples=False,\n",
    ")"
   ]
  },
  {
   "cell_type": "code",
   "execution_count": 5,
   "metadata": {},
   "outputs": [
    {
     "name": "stderr",
     "output_type": "stream",
     "text": [
      "  0%|          | 0/2 [00:00<?, ?it/s]/Users/deismic/anaconda3/envs/sbi/lib/python3.8/site-packages/torch/nn/functional.py:1340: UserWarning: nn.functional.tanh is deprecated. Use torch.tanh instead.\n",
      "  warnings.warn(\"nn.functional.tanh is deprecated. Use torch.tanh instead.\")\n"
     ]
    },
    {
     "name": "stdout",
     "output_type": "stream",
     "text": [
      "new epoch\n",
      "new epoch\n",
      "new epoch\n",
      "new epoch\n",
      "new epoch\n",
      "new epoch\n",
      "new epoch\n",
      "new epoch\n",
      "new epoch\n",
      "new epoch\n",
      "new epoch\n",
      "new epoch\n",
      "new epoch\n",
      "new epoch\n",
      "new epoch\n",
      "new epoch\n",
      "new epoch\n",
      "new epoch\n",
      "new epoch\n",
      "new epoch\n",
      "new epoch\n",
      "new epoch\n",
      "new epoch\n",
      "new epoch\n",
      "new epoch\n",
      "new epoch\n",
      "new epoch\n",
      "new epoch\n",
      "new epoch\n",
      "new epoch\n",
      "new epoch\n",
      "new epoch\n",
      "new epoch\n",
      "new epoch\n",
      "new epoch\n",
      "new epoch\n",
      "new epoch\n",
      "new epoch\n",
      "new epoch\n",
      "new epoch\n",
      "new epoch\n",
      "new epoch\n",
      "new epoch\n",
      "new epoch\n",
      "new epoch\n",
      "new epoch\n",
      "new epoch\n",
      "new epoch\n",
      "new epoch\n",
      "new epoch\n",
      "new epoch\n",
      "new epoch\n",
      "new epoch\n",
      "new epoch\n",
      "new epoch\n",
      "new epoch\n",
      "new epoch\n",
      "new epoch\n",
      "new epoch\n",
      "new epoch\n",
      "new epoch\n",
      "new epoch\n",
      "new epoch\n",
      "new epoch\n",
      "new epoch\n",
      "new epoch\n",
      "new epoch\n",
      "new epoch\n",
      "new epoch\n",
      "new epoch\n",
      "new epoch\n",
      "new epoch\n",
      "new epoch\n",
      "new epoch\n",
      "new epoch\n",
      "new epoch\n",
      "new epoch\n",
      "new epoch\n",
      "new epoch\n",
      "new epoch\n",
      "new epoch\n",
      "new epoch\n",
      "new epoch\n",
      "new epoch\n",
      "new epoch\n",
      "new epoch\n",
      "new epoch\n",
      "new epoch\n",
      "new epoch\n",
      "new epoch\n",
      "new epoch\n",
      "new epoch\n",
      "new epoch\n",
      "new epoch\n",
      "new epoch\n",
      "new epoch\n",
      "new epoch\n",
      "new epoch\n",
      "new epoch\n",
      "new epoch\n",
      "new epoch\n",
      "new epoch\n",
      "new epoch\n",
      "new epoch\n",
      "new epoch\n",
      "new epoch\n",
      "new epoch\n",
      "new epoch\n",
      "new epoch\n",
      "new epoch\n",
      "new epoch\n",
      "new epoch\n",
      "new epoch\n",
      "new epoch\n",
      "new epoch\n",
      "new epoch\n",
      "new epoch\n",
      "new epoch\n",
      "new epoch\n",
      "new epoch\n",
      "new epoch\n",
      "new epoch\n",
      "new epoch\n",
      "new epoch\n",
      "new epoch\n",
      "new epoch\n",
      "new epoch\n",
      "new epoch\n",
      "new epoch\n",
      "new epoch\n",
      "new epoch\n",
      "new epoch\n",
      "new epoch\n",
      "new epoch\n",
      "new epoch\n",
      "new epoch\n",
      "new epoch\n",
      "new epoch\n",
      "new epoch\n",
      "new epoch\n",
      "new epoch\n",
      "new epoch\n",
      "new epoch\n",
      "new epoch\n",
      "new epoch\n",
      "new epoch\n",
      "new epoch\n",
      "new epoch\n",
      "new epoch\n",
      "new epoch\n",
      "new epoch\n",
      "new epoch\n",
      "new epoch\n",
      "new epoch\n",
      "new epoch\n"
     ]
    },
    {
     "name": "stderr",
     "output_type": "stream",
     "text": [
      "-------------------------16<01:16, 76.43s/it]\n",
      "||||| ROUND 1 STATS |||||:\n",
      "-------------------------\n",
      "Epochs trained: 155\n",
      "Best validation performance: 1.4675\n",
      "\n",
      ":  50%|█████     | 1/2 [01:16<01:16, 76.43s/it]"
     ]
    },
    {
     "name": "stdout",
     "output_type": "stream",
     "text": [
      "new epoch\n",
      "new epoch\n",
      "new epoch\n",
      "new epoch\n",
      "new epoch\n",
      "new epoch\n",
      "new epoch\n",
      "new epoch\n",
      "new epoch\n",
      "new epoch\n",
      "new epoch\n",
      "new epoch\n",
      "new epoch\n",
      "new epoch\n",
      "new epoch\n",
      "new epoch\n",
      "new epoch\n",
      "new epoch\n",
      "new epoch\n",
      "new epoch\n",
      "new epoch\n",
      "new epoch\n",
      "new epoch\n",
      "new epoch\n",
      "new epoch\n",
      "new epoch\n",
      "new epoch\n",
      "new epoch\n",
      "new epoch\n",
      "new epoch\n",
      "new epoch\n",
      "new epoch\n",
      "new epoch\n",
      "new epoch\n",
      "new epoch\n",
      "new epoch\n",
      "new epoch\n",
      "new epoch\n",
      "new epoch\n",
      "new epoch\n",
      "new epoch\n",
      "new epoch\n",
      "new epoch\n",
      "new epoch\n",
      "new epoch\n",
      "new epoch\n",
      "new epoch\n",
      "new epoch\n",
      "new epoch\n",
      "new epoch\n",
      "new epoch\n",
      "new epoch\n",
      "new epoch\n",
      "new epoch\n",
      "new epoch\n",
      "new epoch\n",
      "new epoch\n",
      "new epoch\n",
      "new epoch\n",
      "new epoch\n",
      "new epoch\n",
      "new epoch\n",
      "new epoch\n",
      "new epoch\n",
      "new epoch\n"
     ]
    },
    {
     "name": "stderr",
     "output_type": "stream",
     "text": [
      "-------------------------\n",
      "||||| ROUND 1 STATS |||||:\n",
      "-------------------------\n",
      "Epochs trained: 155\n",
      "Best validation performance: 1.4675\n",
      "\n",
      "-------------------------2:48<00:00, 81.25s/it]\n",
      "||||| ROUND 1 STATS |||||:\n",
      "-------------------------\n",
      "Epochs trained: 155\n",
      "Best validation performance: 1.4675\n",
      "\n",
      ": 100%|██████████| 2/2 [02:48<00:00, 84.47s/it]\n"
     ]
    }
   ],
   "source": [
    "num_rounds, num_simulations_per_round = 2, 500\n",
    "snpe_b.run_inference(\n",
    "    num_rounds=num_rounds,\n",
    "    num_simulations_per_round=num_simulations_per_round,\n",
    "    batch_size=20,\n",
    ")"
   ]
  },
  {
   "cell_type": "code",
   "execution_count": 7,
   "metadata": {},
   "outputs": [
    {
     "data": {
      "image/png": "[encoded data removed]",
      "text/plain": [
       "<Figure size 576x576 with 3 Axes>"
      ]
     },
     "metadata": {},
     "output_type": "display_data"
    }
   ],
   "source": [
    "samples = snpe_b.sample(2500)\n",
    "samples = utils.tensor2numpy(samples)\n",
    "figure = utils.plot_hist_marginals(\n",
    "    data=samples,\n",
    "    lims=[-1, 1],\n",
    ")"
   ]
  },
  {
   "cell_type": "code",
   "execution_count": null,
   "metadata": {},
   "outputs": [],
   "source": []
  }
 ],
 "metadata": {
  "kernelspec": {
   "display_name": "Python [conda env:sbi] *",
   "language": "python",
   "name": "conda-env-sbi-py"
  },
  "language_info": {
   "codemirror_mode": {
    "name": "ipython",
    "version": 3
   },
   "file_extension": ".py",
   "mimetype": "text/x-python",
   "name": "python",
   "nbconvert_exporter": "python",
   "pygments_lexer": "ipython3",
   "version": "3.8.1"
  }
 },
 "nbformat": 4,
 "nbformat_minor": 4
}
