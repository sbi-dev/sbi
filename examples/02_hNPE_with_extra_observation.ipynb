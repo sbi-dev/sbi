{
 "cells": [
  {
   "cell_type": "markdown",
   "metadata": {},
   "source": [
    "# Hierarchical Neural Posterior Estimator\n",
    "\n",
    "\n",
    "Consider a ill posed problem $x = \\alpha \\dot \\beta$.\n",
    "When using SBI on such problem, we obtain a posterior with infinitely many equivalent solutions: "
   ]
  },
  {
   "cell_type": "code",
   "execution_count": 1,
   "metadata": {},
   "outputs": [
    {
     "name": "stderr",
     "output_type": "stream",
     "text": [
      "2024-03-22 02:21:39.984406: I tensorflow/core/util/port.cc:110] oneDNN custom operations are on. You may see slightly different numerical results due to floating-point round-off errors from different computation orders. To turn them off, set the environment variable `TF_ENABLE_ONEDNN_OPTS=0`.\n",
      "2024-03-22 02:21:39.986655: I tensorflow/tsl/cuda/cudart_stub.cc:28] Could not find cuda drivers on your machine, GPU will not be used.\n",
      "2024-03-22 02:21:40.034183: I tensorflow/tsl/cuda/cudart_stub.cc:28] Could not find cuda drivers on your machine, GPU will not be used.\n",
      "2024-03-22 02:21:40.035206: I tensorflow/core/platform/cpu_feature_guard.cc:182] This TensorFlow binary is optimized to use available CPU instructions in performance-critical operations.\n",
      "To enable the following instructions: AVX2 AVX_VNNI FMA, in other operations, rebuild TensorFlow with the appropriate compiler flags.\n",
      "2024-03-22 02:21:40.928558: W tensorflow/compiler/tf2tensorrt/utils/py_utils.cc:38] TF-TRT Warning: Could not find TensorRT\n"
     ]
    },
    {
     "data": {
      "application/vnd.jupyter.widget-view+json": {
       "model_id": "5d3ef23c301d46c88550bc800a6e084c",
       "version_major": 2,
       "version_minor": 0
      },
      "text/plain": [
       "Running 100 simulations.:   0%|          | 0/100 [00:00<?, ?it/s]"
      ]
     },
     "metadata": {},
     "output_type": "display_data"
    },
    {
     "name": "stdout",
     "output_type": "stream",
     "text": [
      " Neural network successfully converged after 192 epochs."
     ]
    },
    {
     "data": {
      "application/vnd.jupyter.widget-view+json": {
       "model_id": "1a7f3df9beb44756af75ae0a26b523a9",
       "version_major": 2,
       "version_minor": 0
      },
      "text/plain": [
       "Drawing 10000 posterior samples:   0%|          | 0/10000 [00:00<?, ?it/s]"
      ]
     },
     "metadata": {},
     "output_type": "display_data"
    },
    {
     "name": "stderr",
     "output_type": "stream",
     "text": [
      "/home/tom/.local/miniconda/lib/python3.10/site-packages/nflows/transforms/lu.py:80: UserWarning: torch.triangular_solve is deprecated in favor of torch.linalg.solve_triangularand will be removed in a future PyTorch release.\n",
      "torch.linalg.solve_triangular has its arguments reversed and does not return a copy of one of the inputs.\n",
      "X = torch.triangular_solve(B, A).solution\n",
      "should be replaced with\n",
      "X = torch.linalg.solve_triangular(A, B). (Triggered internally at /home/conda/feedstock_root/build_artifacts/pytorch-recipe_1690826107099/work/aten/src/ATen/native/BatchLinearAlgebra.cpp:2191.)\n",
      "  outputs, _ = torch.triangular_solve(\n"
     ]
    },
    {
     "data": {
      "image/png": "[encoded data removed]",
      "text/plain": [
       "<Figure size 500x500 with 4 Axes>"
      ]
     },
     "metadata": {},
     "output_type": "display_data"
    }
   ],
   "source": [
    "import torch\n",
    "\n",
    "from sbi import analysis\n",
    "\n",
    "from sbi.inference import SNPE\n",
    "from sbi.inference import prepare_for_sbi\n",
    "from sbi.inference import simulate_for_sbi\n",
    "from sbi.neural_nets.factory import build_maf\n",
    "from sbi.utils import BoxUniform\n",
    "\n",
    "\n",
    "prior = BoxUniform(\n",
    "    low=torch.tensor([0.0, 0.0]),\n",
    "    high=torch.tensor([1.0, 1.0])\n",
    ")\n",
    "\n",
    "\n",
    "def simulator(theta):\n",
    "    alpha, beta = theta[..., :1], theta[..., 1:]\n",
    "    return (alpha * beta).reshape(-1, 1)\n",
    "\n",
    "\n",
    "simulator, prior = prepare_for_sbi(simulator, prior)\n",
    "theta, x = simulate_for_sbi(simulator, proposal=prior, num_simulations=100)\n",
    "\n",
    "# setup the inference procedure\n",
    "inference = SNPE(\n",
    "    prior=prior,\n",
    "    density_estimator=build_maf,\n",
    "    show_progress_bars=True,\n",
    "    device='cpu',\n",
    ")\n",
    "density_estimator = inference.append_simulations(theta, x).train(\n",
    "    num_atoms=10,\n",
    "    training_batch_size=10,\n",
    ")\n",
    "posterior = inference.build_posterior(density_estimator)\n",
    "\n",
    "# plot posterior samples\n",
    "x0 = torch.tensor([0.25])\n",
    "posterior_samples = posterior.sample((10000,), x=x0)\n",
    "_ = analysis.pairplot(\n",
    "    posterior_samples, limits=[[0, 1], [0, 1], [0, 1]], figsize=(5, 5)\n",
    ")"
   ]
  },
  {
   "cell_type": "markdown",
   "metadata": {},
   "source": [
    "This ambiguity can some time be overcome with extra observation which share a common parameter. This is the purpose of hNPE.\n",
    "To do this, let's first build a simulator with extra observation.\n",
    "For this, we can use the `hierachical_simulator` helper, which can decorate a classical simulator, with parameter `n_extra` for the number of extra observation and the parameter `p_local` for drawing extra value for the non-common parameters, call here `local` parameters.\n",
    "We also need to specify how many parameters are local."
   ]
  },
  {
   "cell_type": "code",
   "execution_count": 2,
   "metadata": {},
   "outputs": [
    {
     "data": {
      "application/vnd.jupyter.widget-view+json": {
       "model_id": "f9f6842c9c93409881a44129b8c1c418",
       "version_major": 2,
       "version_minor": 0
      },
      "text/plain": [
       "Running 100 simulations.:   0%|          | 0/100 [00:00<?, ?it/s]"
      ]
     },
     "metadata": {},
     "output_type": "display_data"
    }
   ],
   "source": [
    "from sbi.neural_nets.density_estimators.hierarchical_estimator import hierachical_simulator\n",
    "\n",
    "\n",
    "prior = BoxUniform(\n",
    "    low=torch.tensor([0.0, 0.0]),\n",
    "    high=torch.tensor([1.0, 1.0])\n",
    ")\n",
    "\n",
    "p_local = BoxUniform(low=torch.tensor([0.0]), high=torch.tensor([1.0]))\n",
    "\n",
    "\n",
    "@hierachical_simulator(n_extra=10, dim_local=1, p_local=p_local)\n",
    "def simulator(theta):\n",
    "    alpha, beta = theta[..., :1], theta[..., 1:]\n",
    "    return (alpha * beta).reshape(-1, 1)\n",
    "\n",
    "\n",
    "simulator, prior = prepare_for_sbi(simulator, prior)\n",
    "theta, x = simulate_for_sbi(simulator, proposal=prior, num_simulations=100)"
   ]
  },
  {
   "cell_type": "markdown",
   "metadata": {},
   "source": [
    "Then, we can build a hierachical flow, which takes to flow building functions to construct the global and local density estimators, and perform the inference with SNPE."
   ]
  },
  {
   "cell_type": "code",
   "execution_count": 3,
   "metadata": {},
   "outputs": [
    {
     "name": "stderr",
     "output_type": "stream",
     "text": [
      "/home/tom/Work/prog/sbi/sbi/neural_nets/factory.py:327: UserWarning: In one-dimensional output space, this flow is limited to Gaussians\n",
      "  global_flow = build_global_flow(\n",
      "/home/tom/Work/prog/sbi/sbi/neural_nets/factory.py:333: UserWarning: In one-dimensional output space, this flow is limited to Gaussians\n",
      "  local_flow = build_local_flow(\n"
     ]
    },
    {
     "name": "stdout",
     "output_type": "stream",
     "text": [
      " Neural network successfully converged after 78 epochs."
     ]
    }
   ],
   "source": [
    "from sbi.inference import SNPE\n",
    "from sbi.neural_nets.factory import hierarchical_nn\n",
    "from sbi.neural_nets.factory import build_maf\n",
    "\n",
    "build_hierarchical = hierarchical_nn(build_maf, build_maf, 1)\n",
    "\n",
    "# setup the inference procedure\n",
    "inference = SNPE(\n",
    "    prior=prior,\n",
    "    density_estimator=build_hierarchical,\n",
    "    show_progress_bars=True,\n",
    "    device='cpu',\n",
    ")\n",
    "density_estimator = inference.append_simulations(theta, x).train(\n",
    "    num_atoms=10,\n",
    "    training_batch_size=10,\n",
    ")\n",
    "posterior = inference.build_posterior(density_estimator)"
   ]
  },
  {
   "cell_type": "markdown",
   "metadata": {},
   "source": [
    "You can now see that the posterior is better concentrated."
   ]
  },
  {
   "cell_type": "code",
   "execution_count": 4,
   "metadata": {},
   "outputs": [
    {
     "data": {
      "application/vnd.jupyter.widget-view+json": {
       "model_id": "4918aff06f61461e8915a49ffca59cbc",
       "version_major": 2,
       "version_minor": 0
      },
      "text/plain": [
       "Drawing 10000 posterior samples:   0%|          | 0/10000 [00:00<?, ?it/s]"
      ]
     },
     "metadata": {},
     "output_type": "display_data"
    },
    {
     "data": {
      "image/png": "[encoded data removed]",
      "text/plain": [
       "<Figure size 500x500 with 4 Axes>"
      ]
     },
     "metadata": {},
     "output_type": "display_data"
    }
   ],
   "source": [
    "\n",
    "# plot posterior samples\n",
    "x0 = simulator(torch.tensor([[0.5, 0.5]]))[0]\n",
    "posterior_samples = posterior.sample((10000,), x=x0)\n",
    "_ = analysis.pairplot(\n",
    "    posterior_samples, limits=[[0, 1], [0, 1], [0, 1]], figsize=(5, 5)\n",
    ")"
   ]
  },
  {
   "cell_type": "code",
   "execution_count": null,
   "metadata": {},
   "outputs": [],
   "source": []
  }
 ],
 "metadata": {
  "kernelspec": {
   "display_name": "Python 3 (ipykernel)",
   "language": "python",
   "name": "python3"
  },
  "language_info": {
   "codemirror_mode": {
    "name": "ipython",
    "version": 3
   },
   "file_extension": ".py",
   "mimetype": "text/x-python",
   "name": "python",
   "nbconvert_exporter": "python",
   "pygments_lexer": "ipython3",
   "version": "3.10.9"
  }
 },
 "nbformat": 4,
 "nbformat_minor": 2
}
