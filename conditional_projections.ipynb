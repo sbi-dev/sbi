{
 "cells": [
  {
   "cell_type": "code",
   "execution_count": 1,
   "metadata": {},
   "outputs": [],
   "source": [
    "%load_ext autoreload\n",
    "%autoreload 2"
   ]
  },
  {
   "cell_type": "code",
   "execution_count": 2,
   "metadata": {},
   "outputs": [],
   "source": [
    "def project_parameters(*args):\n",
    "    def build_red_fn(fn):\n",
    "        def wrapped_fn(params):\n",
    "            subselected_params = [params[a] for a in args]\n",
    "            return fn(*subselected_params), args\n",
    "        return wrapped_fn\n",
    "    return build_red_fn"
   ]
  },
  {
   "cell_type": "code",
   "execution_count": 3,
   "metadata": {},
   "outputs": [],
   "source": [
    "@project_parameters(0, 1, 3)\n",
    "def my_fn(a, b, c):\n",
    "    return a+b+c"
   ]
  },
  {
   "cell_type": "code",
   "execution_count": 4,
   "metadata": {},
   "outputs": [],
   "source": [
    "output = my_fn([0.3, 0.5, 0.6, 0.7])"
   ]
  },
  {
   "cell_type": "code",
   "execution_count": 5,
   "metadata": {},
   "outputs": [
    {
     "name": "stdout",
     "output_type": "stream",
     "text": [
      "(1.5, (0, 1, 3))\n"
     ]
    }
   ],
   "source": [
    "print(output)"
   ]
  },
  {
   "cell_type": "markdown",
   "metadata": {},
   "source": [
    "# Test the pairplot"
   ]
  },
  {
   "cell_type": "code",
   "execution_count": 23,
   "metadata": {},
   "outputs": [],
   "source": [
    "from torch.distributions import MultivariateNormal, Normal\n",
    "from sbi.utils import eval_conditional_density, pairplot, conditional_pairplot\n",
    "import matplotlib.pyplot as plt\n",
    "import torch"
   ]
  },
  {
   "cell_type": "code",
   "execution_count": 24,
   "metadata": {},
   "outputs": [],
   "source": [
    "# d = MultivariateNormal(torch.zeros(3), torch.tensor([[1.0, 0.95, 0.95], [0.95, 1.0, 0.95], [0.95, 0.95, 1.0]]))\n",
    "d = MultivariateNormal(torch.tensor([10., 5, 1]), torch.tensor([[100.0, 0, 0], [0, 10.0, 0], [0, 0, 1.0]]))\n",
    "d = MultivariateNormal(torch.tensor([0.6, 5.0]), torch.tensor([[0.1, 0.99], [0.99, 10.0]]))"
   ]
  },
  {
   "cell_type": "code",
   "execution_count": 25,
   "metadata": {},
   "outputs": [
    {
     "data": {
      "image/png": "[encoded data removed]",
      "text/plain": [
       "<Figure size 720x720 with 4 Axes>"
      ]
     },
     "metadata": {
      "needs_background": "light"
     },
     "output_type": "display_data"
    }
   ],
   "source": [
    "fig, ax = pairplot(\n",
    "    samples = d.sample((1000,)),\n",
    "    limits = torch.tensor([[-1.0, 1.0], [-30, 30]]),\n",
    "#     upper = ['cond'],\n",
    "#     diag = ['cond']\n",
    ")"
   ]
  },
  {
   "cell_type": "code",
   "execution_count": 30,
   "metadata": {},
   "outputs": [
    {
     "data": {
      "image/png": "[encoded data removed]",
      "text/plain": [
       "<Figure size 720x720 with 4 Axes>"
      ]
     },
     "metadata": {
      "needs_background": "light"
     },
     "output_type": "display_data"
    }
   ],
   "source": [
    "_ = conditional_pairplot(\n",
    "    density=d,\n",
    "    condition = torch.ones(1, 2),\n",
    "    limits = torch.tensor([[-1.0, 1.0], [-30, 30]]),\n",
    ")"
   ]
  },
  {
   "cell_type": "code",
   "execution_count": 10,
   "metadata": {},
   "outputs": [],
   "source": [
    "from sbi.utils import conditional_corrcoeff, av_conditional_corr_matrix"
   ]
  },
  {
   "cell_type": "code",
   "execution_count": 11,
   "metadata": {},
   "outputs": [],
   "source": [
    "d = MultivariateNormal(torch.tensor([0.6, 5.0]), torch.tensor([[0.1, 0.99], [0.99, 10.0]]))"
   ]
  },
  {
   "cell_type": "code",
   "execution_count": 12,
   "metadata": {},
   "outputs": [],
   "source": [
    "corr = conditional_corrcoeff(\n",
    "    density=d,\n",
    "    condition = torch.ones(1, 2),\n",
    "    limits = torch.tensor([[-3.0, 3.0], [-90, 90]]),\n",
    "    dim1=0,\n",
    "    dim2=1,\n",
    "    resolution=500\n",
    ")"
   ]
  },
  {
   "cell_type": "code",
   "execution_count": 13,
   "metadata": {},
   "outputs": [
    {
     "data": {
      "text/plain": [
       "tensor(0.9900)"
      ]
     },
     "execution_count": 13,
     "metadata": {},
     "output_type": "execute_result"
    }
   ],
   "source": [
    "corr"
   ]
  },
  {
   "cell_type": "code",
   "execution_count": 14,
   "metadata": {},
   "outputs": [],
   "source": [
    "x = []\n",
    "x.append([torch.ones(3) for a in range(3) for b in range(5)])"
   ]
  },
  {
   "cell_type": "code",
   "execution_count": 15,
   "metadata": {},
   "outputs": [
    {
     "data": {
      "text/plain": [
       "[[tensor([1., 1., 1.]),\n",
       "  tensor([1., 1., 1.]),\n",
       "  tensor([1., 1., 1.]),\n",
       "  tensor([1., 1., 1.]),\n",
       "  tensor([1., 1., 1.]),\n",
       "  tensor([1., 1., 1.]),\n",
       "  tensor([1., 1., 1.]),\n",
       "  tensor([1., 1., 1.]),\n",
       "  tensor([1., 1., 1.]),\n",
       "  tensor([1., 1., 1.]),\n",
       "  tensor([1., 1., 1.]),\n",
       "  tensor([1., 1., 1.]),\n",
       "  tensor([1., 1., 1.]),\n",
       "  tensor([1., 1., 1.]),\n",
       "  tensor([1., 1., 1.])]]"
      ]
     },
     "execution_count": 15,
     "metadata": {},
     "output_type": "execute_result"
    }
   ],
   "source": [
    "x"
   ]
  },
  {
   "cell_type": "code",
   "execution_count": 16,
   "metadata": {},
   "outputs": [
    {
     "name": "stdout",
     "output_type": "stream",
     "text": [
      "cond_mat tensor([[1.0000, 0.9487],\n",
      "        [0.9487, 1.0000]])\n"
     ]
    }
   ],
   "source": [
    "d = MultivariateNormal(torch.tensor([10., 5, 1]), torch.tensor([[100.0, 30., 0], [30., 10.0, 0], [0, 0, 1.0]]))\n",
    "cond_mat = av_conditional_corr_matrix(\n",
    "    density=d,\n",
    "    limits = torch.tensor([[-60.0, 60.0], [-20, 20], [-7, 7]]),\n",
    "    resolution=500,\n",
    "    subset=[0,1]\n",
    ")\n",
    "print(\"cond_mat\", cond_mat)"
   ]
  },
  {
   "cell_type": "code",
   "execution_count": 17,
   "metadata": {},
   "outputs": [
    {
     "data": {
      "text/plain": [
       "0.9486832980505138"
      ]
     },
     "execution_count": 17,
     "metadata": {},
     "output_type": "execute_result"
    }
   ],
   "source": [
    "import numpy as np\n",
    "np.sqrt(0.9)"
   ]
  },
  {
   "cell_type": "code",
   "execution_count": 18,
   "metadata": {},
   "outputs": [
    {
     "data": {
      "text/plain": [
       "<matplotlib.image.AxesImage at 0x7f65a0d16250>"
      ]
     },
     "execution_count": 18,
     "metadata": {},
     "output_type": "execute_result"
    },
    {
     "data": {
      "image/png": "[encoded data removed]",
      "text/plain": [
       "<Figure size 432x288 with 1 Axes>"
      ]
     },
     "metadata": {
      "needs_background": "light"
     },
     "output_type": "display_data"
    }
   ],
   "source": [
    "plt.imshow(cond_mat)"
   ]
  },
  {
   "cell_type": "code",
   "execution_count": 21,
   "metadata": {},
   "outputs": [
    {
     "name": "stdout",
     "output_type": "stream",
     "text": [
      "tensor([[0.0000e+00, 1.1325e-06, 8.9154e-07],\n",
      "        [1.1325e-06, 0.0000e+00, 1.0341e-06],\n",
      "        [8.9154e-07, 1.0341e-06, 0.0000e+00]])\n"
     ]
    }
   ],
   "source": [
    "d = MultivariateNormal(\n",
    "    torch.tensor([10.0, 5, 1]),\n",
    "    torch.tensor([[100.0, 30.0, 0], [30.0, 10.0, 0], [0, 0, 1.0]]),\n",
    ")\n",
    "cond_mat = av_conditional_corr_matrix(\n",
    "    density=d,\n",
    "    limits=torch.tensor([[-60.0, 60.0], [-20, 20], [-7, 7]]),\n",
    "    resolution=500,\n",
    ")\n",
    "corr_dim12 = torch.sqrt(torch.tensor(30.0 ** 2 / 100.0 / 10.0))\n",
    "gt_matrix = torch.tensor(\n",
    "    [[1.0, corr_dim12, 0.0], [corr_dim12, 1.0, 0.0], [0.0, 0.0, 1.0]]\n",
    ")\n",
    "\n",
    "print(torch.abs(gt_matrix - cond_mat))"
   ]
  },
  {
   "cell_type": "code",
   "execution_count": null,
   "metadata": {},
   "outputs": [],
   "source": []
  },
  {
   "cell_type": "markdown",
   "metadata": {},
   "source": [
    "# Run full test in 3D case"
   ]
  },
  {
   "cell_type": "code",
   "execution_count": 26,
   "metadata": {},
   "outputs": [],
   "source": [
    "joint_mean = torch.zeros(3)\n",
    "joint_cov = torch.tensor([[1.0, 0.95, 0.95], [0.95, 1.0, 0.95], [0.95, 0.95, 1.0]])\n",
    "d = MultivariateNormal(joint_mean, joint_cov)\n",
    "condition_2 = torch.ones(2)\n",
    "full_condition = torch.ones(3)\n",
    "\n",
    "resolution = 100\n",
    "vals_to_eval_at = torch.linspace(-3, 3, resolution)"
   ]
  },
  {
   "cell_type": "markdown",
   "metadata": {},
   "source": [
    "### Plot marginal"
   ]
  },
  {
   "cell_type": "code",
   "execution_count": 27,
   "metadata": {},
   "outputs": [
    {
     "data": {
      "text/plain": [
       "[<matplotlib.lines.Line2D at 0x7fe1c41eda60>]"
      ]
     },
     "execution_count": 27,
     "metadata": {},
     "output_type": "execute_result"
    },
    {
     "data": {
      "image/png": "[encoded data removed]",
      "text/plain": [
       "<Figure size 432x288 with 1 Axes>"
      ]
     },
     "metadata": {
      "needs_background": "light"
     },
     "output_type": "display_data"
    }
   ],
   "source": [
    "d_1D = Normal(joint_mean[0], joint_cov[0,0])\n",
    "\n",
    "probs = torch.exp(d_1D.log_prob(vals_to_eval_at))\n",
    "plt.plot(vals_to_eval_at, probs)"
   ]
  },
  {
   "cell_type": "markdown",
   "metadata": {},
   "source": [
    "### Conditional with SNPE"
   ]
  },
  {
   "cell_type": "code",
   "execution_count": 28,
   "metadata": {},
   "outputs": [
    {
     "data": {
      "text/plain": [
       "[<matplotlib.lines.Line2D at 0x7fe1b5e83fa0>]"
      ]
     },
     "execution_count": 28,
     "metadata": {},
     "output_type": "execute_result"
    },
    {
     "data": {
      "image/png": "[encoded data removed]",
      "text/plain": [
       "<Figure size 432x288 with 1 Axes>"
      ]
     },
     "metadata": {
      "needs_background": "light"
     },
     "output_type": "display_data"
    }
   ],
   "source": [
    "probs = eval_conditional_density(\n",
    "    pdf=d,\n",
    "    condition=full_condition,\n",
    "    limits=torch.tensor([[-3, 3], [-3, 3], [-3, 3]]),\n",
    "    dim1=0,\n",
    "    dim2=0,\n",
    "    resolution=resolution,\n",
    ")\n",
    "plt.plot(vals_to_eval_at, probs)"
   ]
  },
  {
   "cell_type": "markdown",
   "metadata": {},
   "source": [
    "### True conditional"
   ]
  },
  {
   "cell_type": "code",
   "execution_count": 29,
   "metadata": {},
   "outputs": [
    {
     "data": {
      "text/plain": [
       "[<matplotlib.lines.Line2D at 0x7fe1b5e5edc0>]"
      ]
     },
     "execution_count": 29,
     "metadata": {},
     "output_type": "execute_result"
    },
    {
     "data": {
      "image/png": "[encoded data removed]",
      "text/plain": [
       "<Figure size 432x288 with 1 Axes>"
      ]
     },
     "metadata": {
      "needs_background": "light"
     },
     "output_type": "display_data"
    }
   ],
   "source": [
    "mean_1 = joint_mean[0]\n",
    "mean_2 = joint_mean[1:]\n",
    "cov_11 = joint_cov[0, 0]\n",
    "cov_12 = joint_cov[0, 1:]\n",
    "cov_22 = joint_cov[1:, 1:]\n",
    "\n",
    "precision_observed = torch.inverse(cov_22)  # i.e. gram matrix for BI\n",
    "\n",
    "residual = condition_2 - mean_2\n",
    "precision_weighted_residual = torch.mv(precision_observed, residual)\n",
    "project_to_relevant = torch.dot(cov_12, precision_weighted_residual)\n",
    "condiotional_1Dmean = mean_1 + project_to_relevant\n",
    "\n",
    "conditional_1Dcov = cov_11 - torch.dot(cov_12, torch.mv(precision_observed, cov_12))\n",
    "conditional_dist = torch.distributions.Normal(condiotional_1Dmean, torch.sqrt(conditional_1Dcov))\n",
    "\n",
    "probs = torch.exp(conditional_dist.log_prob(vals_to_eval_at))\n",
    "plt.plot(vals_to_eval_at, probs)"
   ]
  },
  {
   "cell_type": "markdown",
   "metadata": {},
   "source": [
    "# Full test suite for 3D joint, conditioning on one value, obtaining a 2D dist."
   ]
  },
  {
   "cell_type": "code",
   "execution_count": 43,
   "metadata": {},
   "outputs": [],
   "source": [
    "joint_mean = torch.tensor([-1, 0.5, 2.0])\n",
    "joint_cov = torch.tensor([[1.0, 0.0, 0.7], [0.0, 1.0, 0.7], [0.7, 0.7, 1.0]])\n",
    "d = MultivariateNormal(joint_mean, joint_cov)\n",
    "condition_2 = torch.ones(1)\n",
    "full_condition = torch.ones(3)\n",
    "\n",
    "resolution = 100\n",
    "vals_to_eval_at_dim1 = torch.linspace(-3, 3, resolution).repeat(resolution).unsqueeze(1)\n",
    "vals_to_eval_at_dim2 = torch.repeat_interleave(torch.linspace(-3, 3, resolution), resolution).unsqueeze(1)\n",
    "vals_to_eval_at = torch.cat((vals_to_eval_at_dim1, vals_to_eval_at_dim2), axis=1)"
   ]
  },
  {
   "cell_type": "code",
   "execution_count": 44,
   "metadata": {},
   "outputs": [
    {
     "data": {
      "text/plain": [
       "tensor([[1.0000, 0.0000, 0.7000],\n",
       "        [0.0000, 1.0000, 0.7000],\n",
       "        [0.7000, 0.7000, 1.0000]])"
      ]
     },
     "execution_count": 44,
     "metadata": {},
     "output_type": "execute_result"
    }
   ],
   "source": [
    "joint_cov"
   ]
  },
  {
   "cell_type": "markdown",
   "metadata": {},
   "source": [
    "### Plot 2D marginal"
   ]
  },
  {
   "cell_type": "code",
   "execution_count": 45,
   "metadata": {},
   "outputs": [
    {
     "data": {
      "text/plain": [
       "torch.Size([10000, 2])"
      ]
     },
     "execution_count": 45,
     "metadata": {},
     "output_type": "execute_result"
    }
   ],
   "source": [
    "vals_to_eval_at.shape"
   ]
  },
  {
   "cell_type": "code",
   "execution_count": 46,
   "metadata": {},
   "outputs": [
    {
     "data": {
      "text/plain": [
       "<matplotlib.image.AxesImage at 0x7fe1b5f2c190>"
      ]
     },
     "execution_count": 46,
     "metadata": {},
     "output_type": "execute_result"
    },
    {
     "data": {
      "image/png": "[encoded data removed]",
      "text/plain": [
       "<Figure size 432x288 with 1 Axes>"
      ]
     },
     "metadata": {
      "needs_background": "light"
     },
     "output_type": "display_data"
    }
   ],
   "source": [
    "d_2D = MultivariateNormal(joint_mean[:2], joint_cov[:2, :2])\n",
    "\n",
    "probs = torch.exp(d_2D.log_prob(vals_to_eval_at))\n",
    "probs = torch.reshape(probs, (resolution, resolution))\n",
    "plt.imshow(probs)"
   ]
  },
  {
   "cell_type": "markdown",
   "metadata": {},
   "source": [
    "### Conditional with sbi"
   ]
  },
  {
   "cell_type": "code",
   "execution_count": 55,
   "metadata": {},
   "outputs": [
    {
     "data": {
      "text/plain": [
       "<matplotlib.image.AxesImage at 0x7fe1b5f1df10>"
      ]
     },
     "execution_count": 55,
     "metadata": {},
     "output_type": "execute_result"
    },
    {
     "data": {
      "image/png": "[encoded data removed]",
      "text/plain": [
       "<Figure size 432x288 with 1 Axes>"
      ]
     },
     "metadata": {
      "needs_background": "light"
     },
     "output_type": "display_data"
    }
   ],
   "source": [
    "probs = eval_conditional_density(\n",
    "    pdf=d,\n",
    "    condition=full_condition,\n",
    "    limits=torch.tensor([[-3, 3], [-3, 3], [-3, 3]]),\n",
    "    dim1=0,\n",
    "    dim2=1,\n",
    "    resolution=resolution,\n",
    ")\n",
    "probs_sbi = probs / torch.sum(probs)\n",
    "plt.imshow(probs_sbi)"
   ]
  },
  {
   "cell_type": "markdown",
   "metadata": {},
   "source": [
    "### Analytical conditonal"
   ]
  },
  {
   "cell_type": "code",
   "execution_count": 56,
   "metadata": {},
   "outputs": [
    {
     "name": "stdout",
     "output_type": "stream",
     "text": [
      "torch.Size([1, 1])\n"
     ]
    },
    {
     "data": {
      "text/plain": [
       "<matplotlib.image.AxesImage at 0x7fe1b5f43790>"
      ]
     },
     "execution_count": 56,
     "metadata": {},
     "output_type": "execute_result"
    },
    {
     "data": {
      "image/png": "[encoded data removed]",
      "text/plain": [
       "<Figure size 432x288 with 1 Axes>"
      ]
     },
     "metadata": {
      "needs_background": "light"
     },
     "output_type": "display_data"
    }
   ],
   "source": [
    "mean_1 = joint_mean[:2]\n",
    "mean_2 = joint_mean[2:]\n",
    "cov_11 = joint_cov[:2, :2]\n",
    "cov_12 = joint_cov[:2, 2:]\n",
    "cov_22 = joint_cov[2:, 2:]\n",
    "\n",
    "precision_observed = torch.inverse(cov_22)  # i.e. gram matrix for BI\n",
    "print(precision_observed.shape)\n",
    "residual = condition_2 - mean_2\n",
    "precision_weighted_residual = torch.einsum('ij, i -> j', precision_observed, residual)\n",
    "project_to_relevant = torch.mv(cov_12, precision_weighted_residual)\n",
    "condiotional_2Dmean = mean_1 + project_to_relevant\n",
    "\n",
    "prec_cov = torch.einsum('ji, kj -> ik', precision_observed, cov_12)\n",
    "cov_prec_cov = torch.einsum('ij, jk -> ik', cov_12, prec_cov)\n",
    "conditional_2Dcov = cov_11 - cov_prec_cov\n",
    "conditional_dist = torch.distributions.MultivariateNormal(condiotional_2Dmean, conditional_2Dcov)\n",
    "\n",
    "probs = torch.exp(conditional_dist.log_prob(vals_to_eval_at))\n",
    "probs = torch.reshape(probs, (resolution, resolution))\n",
    "probs_analytical = probs / torch.sum(probs)\n",
    "plt.imshow(probs_analytical)"
   ]
  },
  {
   "cell_type": "code",
   "execution_count": 253,
   "metadata": {},
   "outputs": [
    {
     "data": {
      "text/plain": [
       "torch.Size([100, 100])"
      ]
     },
     "execution_count": 253,
     "metadata": {},
     "output_type": "execute_result"
    }
   ],
   "source": [
    "torch.abs(probs_analytical - probs_sbi).shape"
   ]
  },
  {
   "cell_type": "code",
   "execution_count": 261,
   "metadata": {},
   "outputs": [
    {
     "data": {
      "text/plain": [
       "tensor(True)"
      ]
     },
     "execution_count": 261,
     "metadata": {},
     "output_type": "execute_result"
    }
   ],
   "source": [
    "torch.all(torch.abs(probs_analytical - probs_sbi) < 1e-5)"
   ]
  },
  {
   "cell_type": "markdown",
   "metadata": {},
   "source": [
    "# Run stuff from tests"
   ]
  },
  {
   "cell_type": "code",
   "execution_count": 278,
   "metadata": {},
   "outputs": [],
   "source": [
    "def conditional_density_2d():\n",
    "    \"\"\"\n",
    "    Test whether the conditional density matches analytical results for MVN.\n",
    "    \"\"\"\n",
    "    joint_mean = torch.zeros(3)\n",
    "    joint_cov = torch.tensor([[1.0, 0.0, 0.7], [0.0, 1.0, 0.7], [0.7, 0.7, 1.0]])\n",
    "    joint_dist = MultivariateNormal(joint_mean, joint_cov)\n",
    "\n",
    "    condition_dim2 = torch.ones(1)\n",
    "    full_condition = torch.ones(3)\n",
    "\n",
    "    resolution = 100\n",
    "    vals_to_eval_at_dim1 = (\n",
    "        torch.linspace(-3, 3, resolution).repeat(resolution).unsqueeze(1)\n",
    "    )\n",
    "    vals_to_eval_at_dim2 = torch.repeat_interleave(\n",
    "        torch.linspace(-3, 3, resolution), resolution\n",
    "    ).unsqueeze(1)\n",
    "    vals_to_eval_at = torch.cat((vals_to_eval_at_dim1, vals_to_eval_at_dim2), axis=1)\n",
    "\n",
    "    # Solution with sbi.\n",
    "    probs = eval_conditional_density(\n",
    "        pdf=joint_dist,\n",
    "        condition=full_condition,\n",
    "        limits=torch.tensor([[-3, 3], [-3, 3], [-3, 3]]),\n",
    "        dim1=0,\n",
    "        dim2=1,\n",
    "        resolution=resolution,\n",
    "    )\n",
    "    probs_sbi = probs / torch.sum(probs)\n",
    "\n",
    "    # Analytical solution.\n",
    "\n",
    "    conditional_2Dmean, conditional_2Dcov = conditional_of_mvn(\n",
    "        joint_mean, joint_cov, condition_dim2\n",
    "    )\n",
    "    conditional_dist = torch.distributions.MultivariateNormal(\n",
    "        conditional_2Dmean, conditional_2Dcov\n",
    "    )\n",
    "\n",
    "    probs = torch.exp(conditional_dist.log_prob(vals_to_eval_at))\n",
    "    probs = torch.reshape(probs, (resolution, resolution))\n",
    "    probs_analytical = probs / torch.sum(probs)\n",
    "\n",
    "    assert torch.all(torch.abs(probs_analytical - probs_sbi) < 1e-5)\n",
    "\n",
    "\n",
    "def conditional_of_mvn(joint_mean, joint_cov, condition):\n",
    "    \"\"\"\n",
    "    Return the mean and cov of a conditional Gaussian.\n",
    "\n",
    "    We assume that we always condtion on the last variables. \n",
    "    \"\"\"\n",
    "\n",
    "    mean_1 = joint_mean[:num_of_condition_dims]\n",
    "    mean_2 = joint_mean[num_of_condition_dims:]\n",
    "    cov_11 = joint_cov[:num_of_condition_dims, :num_of_condition_dims]\n",
    "    cov_12 = joint_cov[:num_of_condition_dims, num_of_condition_dims:]\n",
    "    cov_22 = joint_cov[num_of_condition_dims:, num_of_condition_dims:]\n",
    "\n",
    "    precision_observed = torch.inverse(cov_22)  # i.e. gram matrix for BI\n",
    "    residual = condition - mean_2\n",
    "    precision_weighted_residual = torch.einsum(\n",
    "        \"ij, i -> j\", precision_observed, residual\n",
    "    )\n",
    "    project_to_relevant = torch.mv(cov_12, precision_weighted_residual)\n",
    "    condiotional_2Dmean = mean_1 + project_to_relevant\n",
    "\n",
    "    prec_cov = torch.einsum(\"ji, kj -> ik\", precision_observed, cov_12)\n",
    "    cov_prec_cov = torch.einsum(\"ij, jk -> ik\", cov_12, prec_cov)\n",
    "    conditional_2Dcov = cov_11 - cov_prec_cov\n",
    "\n",
    "    return condiotional_2Dmean, conditional_2Dcov\n"
   ]
  },
  {
   "cell_type": "code",
   "execution_count": 280,
   "metadata": {},
   "outputs": [
    {
     "name": "stdout",
     "output_type": "stream",
     "text": [
      "2\n"
     ]
    }
   ],
   "source": [
    "conditional_density_2d()"
   ]
  },
  {
   "cell_type": "code",
   "execution_count": 301,
   "metadata": {},
   "outputs": [],
   "source": [
    "def conditional_density_2d():\n",
    "    \"\"\"\n",
    "    Test whether the conditional density matches analytical results for MVN.\n",
    "    \"\"\"\n",
    "    joint_mean = torch.zeros(3)\n",
    "    joint_cov = torch.tensor([[1.0, 0.0, 0.7], [0.0, 1.0, 0.7], [0.7, 0.7, 1.0]])\n",
    "    joint_dist = MultivariateNormal(joint_mean, joint_cov)\n",
    "\n",
    "    condition_dim2 = torch.ones(2)\n",
    "    full_condition = torch.ones(3)\n",
    "\n",
    "    resolution = 100\n",
    "    vals_to_eval_at = torch.linspace(-3, 3, resolution).unsqueeze(1)\n",
    "\n",
    "    # Solution with sbi.\n",
    "    probs = eval_conditional_density(\n",
    "        pdf=joint_dist,\n",
    "        condition=full_condition,\n",
    "        limits=torch.tensor([[-3, 3], [-3, 3], [-3, 3]]),\n",
    "        dim1=0,\n",
    "        dim2=0,\n",
    "        resolution=resolution,\n",
    "    )\n",
    "    probs_sbi = probs / torch.sum(probs)\n",
    "\n",
    "    # Analytical solution.\n",
    "\n",
    "    conditional_2Dmean, conditional_2Dcov = conditional_of_mvn(\n",
    "        joint_mean, joint_cov, condition_dim2\n",
    "    )\n",
    "    conditional_dist = torch.distributions.MultivariateNormal(\n",
    "        conditional_2Dmean, conditional_2Dcov\n",
    "    )\n",
    "\n",
    "    probs = torch.exp(conditional_dist.log_prob(vals_to_eval_at))\n",
    "    probs_analytical = probs / torch.sum(probs)\n",
    "\n",
    "    print(torch.abs(probs_analytical - probs_sbi))\n",
    "    assert torch.all(torch.abs(probs_analytical - probs_sbi) < 1e-5)\n",
    "\n",
    "\n",
    "def conditional_of_mvn(joint_mean, joint_cov, condition):\n",
    "    \"\"\"\n",
    "    Return the mean and cov of a conditional Gaussian.\n",
    "\n",
    "    We assume that we always condtion on the last variables. \n",
    "    \"\"\"\n",
    "    \n",
    "    num_of_condition_dims = joint_mean.shape[0] - condition.shape[0]\n",
    "\n",
    "    mean_1 = joint_mean[:num_of_condition_dims]\n",
    "    mean_2 = joint_mean[num_of_condition_dims:]\n",
    "    cov_11 = joint_cov[:num_of_condition_dims, :num_of_condition_dims]\n",
    "    cov_12 = joint_cov[:num_of_condition_dims, num_of_condition_dims:]\n",
    "    cov_22 = joint_cov[num_of_condition_dims:, num_of_condition_dims:]\n",
    "\n",
    "    precision_observed = torch.inverse(cov_22)  # i.e. gram matrix for BI\n",
    "    residual = condition - mean_2\n",
    "    precision_weighted_residual = torch.einsum(\n",
    "        \"ij, i -> j\", precision_observed, residual\n",
    "    )\n",
    "    project_to_relevant = torch.mv(cov_12, precision_weighted_residual)\n",
    "    condiotional_2Dmean = mean_1 + project_to_relevant\n",
    "\n",
    "    prec_cov = torch.einsum(\"ji, kj -> ik\", precision_observed, cov_12)\n",
    "    cov_prec_cov = torch.einsum(\"ij, jk -> ik\", cov_12, prec_cov)\n",
    "    conditional_2Dcov = cov_11 - cov_prec_cov\n",
    "\n",
    "    return condiotional_2Dmean, conditional_2Dcov\n"
   ]
  },
  {
   "cell_type": "code",
   "execution_count": 302,
   "metadata": {},
   "outputs": [
    {
     "name": "stdout",
     "output_type": "stream",
     "text": [
      "tensor([0.0000e+00, 0.0000e+00, 0.0000e+00, 0.0000e+00, 0.0000e+00, 0.0000e+00,\n",
      "        0.0000e+00, 0.0000e+00, 0.0000e+00, 0.0000e+00, 0.0000e+00, 0.0000e+00,\n",
      "        0.0000e+00, 2.9427e-44, 2.3710e-42, 6.0446e-41, 5.4183e-39, 7.7877e-38,\n",
      "        7.1235e-36, 1.4933e-34, 2.4435e-33, 1.3443e-31, 5.7192e-30, 6.9420e-29,\n",
      "        1.7860e-27, 2.3931e-26, 4.2813e-25, 4.1359e-25, 3.0606e-23, 7.3454e-22,\n",
      "        1.7047e-20, 7.8774e-20, 3.3881e-19, 9.7578e-18, 6.3317e-17, 6.2450e-16,\n",
      "        2.4425e-15, 9.3259e-15, 1.6165e-13, 7.6028e-13, 4.5475e-13, 8.4128e-12,\n",
      "        2.4556e-11, 1.1642e-10, 2.9104e-10, 4.3656e-10, 3.4925e-10, 4.6566e-09,\n",
      "        1.3970e-09, 2.7940e-09, 9.3132e-09, 7.4506e-09, 1.1176e-08, 1.4901e-08,\n",
      "        0.0000e+00, 7.4506e-09, 7.4506e-09, 0.0000e+00, 7.4506e-09, 1.4901e-08,\n",
      "        5.2154e-08, 2.6077e-08, 2.4214e-08, 3.1665e-08, 1.6298e-08, 4.1910e-09,\n",
      "        3.8417e-09, 1.8626e-09, 6.6939e-10, 2.9831e-10, 1.2369e-10, 1.8645e-11,\n",
      "        6.7075e-12, 1.7053e-12, 3.4461e-13, 7.9936e-14, 1.0325e-14, 1.5404e-15,\n",
      "        2.1511e-16, 5.6379e-17, 5.6107e-18, 6.7424e-19, 4.6587e-20, 9.0791e-21,\n",
      "        3.7058e-22, 4.2393e-23, 2.7530e-24, 1.3086e-25, 1.2117e-26, 5.0960e-28,\n",
      "        1.9031e-29, 1.0724e-30, 3.4185e-32, 1.5167e-33, 4.6550e-35, 1.6163e-36,\n",
      "        4.1050e-38, 1.1365e-39, 1.2197e-41, 3.8396e-43])\n"
     ]
    }
   ],
   "source": [
    "conditional_density_2d()"
   ]
  },
  {
   "cell_type": "code",
   "execution_count": 256,
   "metadata": {},
   "outputs": [
    {
     "data": {
      "text/plain": [
       "tensor([0.9500, 0.0000])"
      ]
     },
     "execution_count": 256,
     "metadata": {},
     "output_type": "execute_result"
    }
   ],
   "source": [
    "condiotional_1Dmean"
   ]
  },
  {
   "cell_type": "code",
   "execution_count": null,
   "metadata": {},
   "outputs": [],
   "source": [
    "_ = pairplot(\n",
    "    samples = d.sample((100000,)),\n",
    "    pdfs=[d],\n",
    "    condition = torch.zeros(1, 3),\n",
    "    limits = torch.tensor([[-3.0, 3.0], [-3, 3], [-3, 3]]),\n",
    "#     upper = ['cond'],\n",
    "#     diag = ['cond']\n",
    ")"
   ]
  },
  {
   "cell_type": "code",
   "execution_count": 137,
   "metadata": {},
   "outputs": [
    {
     "ename": "RuntimeError",
     "evalue": "The size of tensor a (2) must match the size of tensor b (3) at non-singleton dimension 1",
     "output_type": "error",
     "traceback": [
      "\u001b[0;31m---------------------------------------------------------------------------\u001b[0m",
      "\u001b[0;31mRuntimeError\u001b[0m                              Traceback (most recent call last)",
      "\u001b[0;32m<ipython-input-137-f30fa9aad575>\u001b[0m in \u001b[0;36m<module>\u001b[0;34m\u001b[0m\n\u001b[1;32m      1\u001b[0m \u001b[0;31m# vec = eval_conditional_density(d, torch.tensor([[1.0, 1.0, 0.0]]), limits=torch.tensor([[-0.2, 0.2], [-20, 20], [-2, 2]]), dim1=0, dim2=1, resolution=50)\u001b[0m\u001b[0;34m\u001b[0m\u001b[0;34m\u001b[0m\u001b[0;34m\u001b[0m\u001b[0m\n\u001b[0;32m----> 2\u001b[0;31m \u001b[0mvec\u001b[0m \u001b[0;34m=\u001b[0m \u001b[0meval_conditional_density\u001b[0m\u001b[0;34m(\u001b[0m\u001b[0md\u001b[0m\u001b[0;34m,\u001b[0m \u001b[0mtorch\u001b[0m\u001b[0;34m.\u001b[0m\u001b[0mtensor\u001b[0m\u001b[0;34m(\u001b[0m\u001b[0;34m[\u001b[0m\u001b[0;34m[\u001b[0m\u001b[0;36m0.0\u001b[0m\u001b[0;34m,\u001b[0m \u001b[0;36m0.0\u001b[0m\u001b[0;34m]\u001b[0m\u001b[0;34m]\u001b[0m\u001b[0;34m)\u001b[0m\u001b[0;34m,\u001b[0m \u001b[0mlimits\u001b[0m\u001b[0;34m=\u001b[0m\u001b[0mtorch\u001b[0m\u001b[0;34m.\u001b[0m\u001b[0mtensor\u001b[0m\u001b[0;34m(\u001b[0m\u001b[0;34m[\u001b[0m\u001b[0;34m[\u001b[0m\u001b[0;34m-\u001b[0m\u001b[0;36m0.4\u001b[0m\u001b[0;34m,\u001b[0m \u001b[0;36m0.4\u001b[0m\u001b[0;34m]\u001b[0m\u001b[0;34m,\u001b[0m \u001b[0;34m[\u001b[0m\u001b[0;34m-\u001b[0m\u001b[0;36m40\u001b[0m\u001b[0;34m,\u001b[0m \u001b[0;36m40\u001b[0m\u001b[0;34m]\u001b[0m\u001b[0;34m]\u001b[0m\u001b[0;34m)\u001b[0m\u001b[0;34m,\u001b[0m \u001b[0mdim1\u001b[0m\u001b[0;34m=\u001b[0m\u001b[0;36m0\u001b[0m\u001b[0;34m,\u001b[0m \u001b[0mdim2\u001b[0m\u001b[0;34m=\u001b[0m\u001b[0;36m1\u001b[0m\u001b[0;34m,\u001b[0m \u001b[0mresolution\u001b[0m\u001b[0;34m=\u001b[0m\u001b[0;36m50\u001b[0m\u001b[0;34m)\u001b[0m\u001b[0;34m\u001b[0m\u001b[0;34m\u001b[0m\u001b[0m\n\u001b[0m\u001b[1;32m      3\u001b[0m \u001b[0mvec_np\u001b[0m \u001b[0;34m=\u001b[0m \u001b[0mvec\u001b[0m\u001b[0;34m.\u001b[0m\u001b[0mnumpy\u001b[0m\u001b[0;34m(\u001b[0m\u001b[0;34m)\u001b[0m\u001b[0;34m\u001b[0m\u001b[0;34m\u001b[0m\u001b[0m\n",
      "\u001b[0;32m~/Documents/sbi/sbi/utils/conditional_density.py\u001b[0m in \u001b[0;36meval_conditional_density\u001b[0;34m(pdf, condition, limits, dim1, dim2, resolution, eps_margins)\u001b[0m\n\u001b[1;32m     62\u001b[0m         )\n\u001b[1;32m     63\u001b[0m \u001b[0;34m\u001b[0m\u001b[0m\n\u001b[0;32m---> 64\u001b[0;31m         \u001b[0mlog_probs_on_grid\u001b[0m \u001b[0;34m=\u001b[0m \u001b[0mpdf\u001b[0m\u001b[0;34m.\u001b[0m\u001b[0mlog_prob\u001b[0m\u001b[0;34m(\u001b[0m\u001b[0mrepeated_condition\u001b[0m\u001b[0;34m)\u001b[0m\u001b[0;34m\u001b[0m\u001b[0;34m\u001b[0m\u001b[0m\n\u001b[0m\u001b[1;32m     65\u001b[0m         \u001b[0mlog_probs_on_grid\u001b[0m \u001b[0;34m=\u001b[0m \u001b[0mtorch\u001b[0m\u001b[0;34m.\u001b[0m\u001b[0mreshape\u001b[0m\u001b[0;34m(\u001b[0m\u001b[0mlog_probs_on_grid\u001b[0m\u001b[0;34m,\u001b[0m \u001b[0;34m(\u001b[0m\u001b[0mresolution\u001b[0m\u001b[0;34m,\u001b[0m \u001b[0mresolution\u001b[0m\u001b[0;34m)\u001b[0m\u001b[0;34m)\u001b[0m\u001b[0;34m\u001b[0m\u001b[0;34m\u001b[0m\u001b[0m\n\u001b[1;32m     66\u001b[0m \u001b[0;34m\u001b[0m\u001b[0m\n",
      "\u001b[0;32m~/anaconda3/envs/sbi/lib/python3.8/site-packages/torch/distributions/multivariate_normal.py\u001b[0m in \u001b[0;36mlog_prob\u001b[0;34m(self, value)\u001b[0m\n\u001b[1;32m    205\u001b[0m         \u001b[0;32mif\u001b[0m \u001b[0mself\u001b[0m\u001b[0;34m.\u001b[0m\u001b[0m_validate_args\u001b[0m\u001b[0;34m:\u001b[0m\u001b[0;34m\u001b[0m\u001b[0;34m\u001b[0m\u001b[0m\n\u001b[1;32m    206\u001b[0m             \u001b[0mself\u001b[0m\u001b[0;34m.\u001b[0m\u001b[0m_validate_sample\u001b[0m\u001b[0;34m(\u001b[0m\u001b[0mvalue\u001b[0m\u001b[0;34m)\u001b[0m\u001b[0;34m\u001b[0m\u001b[0;34m\u001b[0m\u001b[0m\n\u001b[0;32m--> 207\u001b[0;31m         \u001b[0mdiff\u001b[0m \u001b[0;34m=\u001b[0m \u001b[0mvalue\u001b[0m \u001b[0;34m-\u001b[0m \u001b[0mself\u001b[0m\u001b[0;34m.\u001b[0m\u001b[0mloc\u001b[0m\u001b[0;34m\u001b[0m\u001b[0;34m\u001b[0m\u001b[0m\n\u001b[0m\u001b[1;32m    208\u001b[0m         \u001b[0mM\u001b[0m \u001b[0;34m=\u001b[0m \u001b[0m_batch_mahalanobis\u001b[0m\u001b[0;34m(\u001b[0m\u001b[0mself\u001b[0m\u001b[0;34m.\u001b[0m\u001b[0m_unbroadcasted_scale_tril\u001b[0m\u001b[0;34m,\u001b[0m \u001b[0mdiff\u001b[0m\u001b[0;34m)\u001b[0m\u001b[0;34m\u001b[0m\u001b[0;34m\u001b[0m\u001b[0m\n\u001b[1;32m    209\u001b[0m         \u001b[0mhalf_log_det\u001b[0m \u001b[0;34m=\u001b[0m \u001b[0mself\u001b[0m\u001b[0;34m.\u001b[0m\u001b[0m_unbroadcasted_scale_tril\u001b[0m\u001b[0;34m.\u001b[0m\u001b[0mdiagonal\u001b[0m\u001b[0;34m(\u001b[0m\u001b[0mdim1\u001b[0m\u001b[0;34m=\u001b[0m\u001b[0;34m-\u001b[0m\u001b[0;36m2\u001b[0m\u001b[0;34m,\u001b[0m \u001b[0mdim2\u001b[0m\u001b[0;34m=\u001b[0m\u001b[0;34m-\u001b[0m\u001b[0;36m1\u001b[0m\u001b[0;34m)\u001b[0m\u001b[0;34m.\u001b[0m\u001b[0mlog\u001b[0m\u001b[0;34m(\u001b[0m\u001b[0;34m)\u001b[0m\u001b[0;34m.\u001b[0m\u001b[0msum\u001b[0m\u001b[0;34m(\u001b[0m\u001b[0;34m-\u001b[0m\u001b[0;36m1\u001b[0m\u001b[0;34m)\u001b[0m\u001b[0;34m\u001b[0m\u001b[0;34m\u001b[0m\u001b[0m\n",
      "\u001b[0;31mRuntimeError\u001b[0m: The size of tensor a (2) must match the size of tensor b (3) at non-singleton dimension 1"
     ]
    }
   ],
   "source": [
    "# vec = eval_conditional_density(d, torch.tensor([[1.0, 1.0, 0.0]]), limits=torch.tensor([[-0.2, 0.2], [-20, 20], [-2, 2]]), dim1=0, dim2=1, resolution=50)\n",
    "vec = eval_conditional_density(d, torch.tensor([[0.0, 0.0]]), limits=torch.tensor([[-0.4, 0.4], [-40, 40]]), dim1=0, dim2=1, resolution=50)\n",
    "vec_np = vec.numpy()"
   ]
  },
  {
   "cell_type": "code",
   "execution_count": 110,
   "metadata": {},
   "outputs": [
    {
     "data": {
      "text/plain": [
       "<matplotlib.image.AxesImage at 0x7f476b86fa90>"
      ]
     },
     "execution_count": 110,
     "metadata": {},
     "output_type": "execute_result"
    },
    {
     "data": {
      "image/png": "[encoded data removed]",
      "text/plain": [
       "<Figure size 432x288 with 1 Axes>"
      ]
     },
     "metadata": {
      "needs_background": "light"
     },
     "output_type": "display_data"
    }
   ],
   "source": [
    "plt.imshow(vec_np)"
   ]
  },
  {
   "cell_type": "code",
   "execution_count": 116,
   "metadata": {},
   "outputs": [
    {
     "name": "stdout",
     "output_type": "stream",
     "text": [
      "tensor([[-0.4000,  0.0000],\n",
      "        [-0.3837,  0.0000],\n",
      "        [-0.3673,  0.0000],\n",
      "        [-0.3510,  0.0000],\n",
      "        [-0.3347,  0.0000],\n",
      "        [-0.3184,  0.0000],\n",
      "        [-0.3020,  0.0000],\n",
      "        [-0.2857,  0.0000],\n",
      "        [-0.2694,  0.0000],\n",
      "        [-0.2531,  0.0000],\n",
      "        [-0.2367,  0.0000],\n",
      "        [-0.2204,  0.0000],\n",
      "        [-0.2041,  0.0000],\n",
      "        [-0.1878,  0.0000],\n",
      "        [-0.1714,  0.0000],\n",
      "        [-0.1551,  0.0000],\n",
      "        [-0.1388,  0.0000],\n",
      "        [-0.1224,  0.0000],\n",
      "        [-0.1061,  0.0000],\n",
      "        [-0.0898,  0.0000],\n",
      "        [-0.0735,  0.0000],\n",
      "        [-0.0571,  0.0000],\n",
      "        [-0.0408,  0.0000],\n",
      "        [-0.0245,  0.0000],\n",
      "        [-0.0082,  0.0000],\n",
      "        [ 0.0082,  0.0000],\n",
      "        [ 0.0245,  0.0000],\n",
      "        [ 0.0408,  0.0000],\n",
      "        [ 0.0571,  0.0000],\n",
      "        [ 0.0735,  0.0000],\n",
      "        [ 0.0898,  0.0000],\n",
      "        [ 0.1061,  0.0000],\n",
      "        [ 0.1224,  0.0000],\n",
      "        [ 0.1388,  0.0000],\n",
      "        [ 0.1551,  0.0000],\n",
      "        [ 0.1714,  0.0000],\n",
      "        [ 0.1878,  0.0000],\n",
      "        [ 0.2041,  0.0000],\n",
      "        [ 0.2204,  0.0000],\n",
      "        [ 0.2367,  0.0000],\n",
      "        [ 0.2531,  0.0000],\n",
      "        [ 0.2694,  0.0000],\n",
      "        [ 0.2857,  0.0000],\n",
      "        [ 0.3020,  0.0000],\n",
      "        [ 0.3184,  0.0000],\n",
      "        [ 0.3347,  0.0000],\n",
      "        [ 0.3510,  0.0000],\n",
      "        [ 0.3673,  0.0000],\n",
      "        [ 0.3837,  0.0000],\n",
      "        [ 0.4000,  0.0000]])\n",
      "vec tensor([0.0715, 0.0762, 0.0811, 0.0860, 0.0909, 0.0959, 0.1009, 0.1058, 0.1107,\n",
      "        0.1155, 0.1203, 0.1248, 0.1292, 0.1334, 0.1374, 0.1411, 0.1445, 0.1477,\n",
      "        0.1504, 0.1529, 0.1549, 0.1566, 0.1578, 0.1587, 0.1591, 0.1591, 0.1587,\n",
      "        0.1578, 0.1566, 0.1549, 0.1529, 0.1504, 0.1477, 0.1445, 0.1411, 0.1374,\n",
      "        0.1334, 0.1292, 0.1248, 0.1203, 0.1155, 0.1107, 0.1058, 0.1009, 0.0959,\n",
      "        0.0909, 0.0860, 0.0811, 0.0762, 0.0715])\n"
     ]
    }
   ],
   "source": [
    "# vec = eval_conditional_density(d, torch.tensor([[1.0, 1.0, 0.0]]), limits=torch.tensor([[-0.2, 0.2], [-20, 20], [-2, 2]]), dim1=0, dim2=0, resolution=50)\n",
    "vec = eval_conditional_density(d, torch.tensor([[0.0, 0.0]]), limits=torch.tensor([[-0.4, 0.4], [-40, 40]]), dim1=0, dim2=0, resolution=50)\n",
    "vec_np = vec.numpy()"
   ]
  },
  {
   "cell_type": "code",
   "execution_count": 117,
   "metadata": {},
   "outputs": [
    {
     "data": {
      "text/plain": [
       "[<matplotlib.lines.Line2D at 0x7f476b763670>]"
      ]
     },
     "execution_count": 117,
     "metadata": {},
     "output_type": "execute_result"
    },
    {
     "data": {
      "image/png": "[encoded data removed]",
      "text/plain": [
       "<Figure size 432x288 with 1 Axes>"
      ]
     },
     "metadata": {
      "needs_background": "light"
     },
     "output_type": "display_data"
    }
   ],
   "source": [
    "plt.plot(vec_np)"
   ]
  },
  {
   "cell_type": "code",
   "execution_count": 123,
   "metadata": {},
   "outputs": [],
   "source": [
    "import numpy as np\n",
    "a = torch.randn(10000) * np.sqrt(0.1)"
   ]
  },
  {
   "cell_type": "code",
   "execution_count": 125,
   "metadata": {},
   "outputs": [
    {
     "data": {
      "image/png": "[encoded data removed]",
      "text/plain": [
       "<Figure size 432x288 with 1 Axes>"
      ]
     },
     "metadata": {
      "needs_background": "light"
     },
     "output_type": "display_data"
    }
   ],
   "source": [
    "_ = plt.hist(a, bins=100)"
   ]
  },
  {
   "cell_type": "code",
   "execution_count": null,
   "metadata": {},
   "outputs": [],
   "source": [
    "\n",
    "\n",
    "\n",
    "\n",
    "\n",
    "\n",
    "\n",
    "\n",
    "\n",
    "\n",
    "\n",
    "\n",
    "\n",
    "\n",
    "\n",
    "\n",
    "\n",
    "\n",
    "\n",
    "\n",
    "\n",
    "\n",
    "\n",
    "\n",
    "\n",
    "\n",
    "\n",
    "\n",
    "\n",
    "\n",
    "\n",
    "\n",
    "\n",
    "\n",
    "\n",
    "\n",
    "\n",
    "\n",
    "\n",
    "\n",
    "\n",
    "\n",
    "\n",
    "\n",
    "\n",
    "\n",
    "\n",
    "\n",
    "\n",
    "\n"
   ]
  },
  {
   "cell_type": "code",
   "execution_count": null,
   "metadata": {},
   "outputs": [],
   "source": []
  }
 ],
 "metadata": {
  "kernelspec": {
   "display_name": "sbi",
   "language": "python",
   "name": "sbi"
  },
  "language_info": {
   "codemirror_mode": {
    "name": "ipython",
    "version": 3
   },
   "file_extension": ".py",
   "mimetype": "text/x-python",
   "name": "python",
   "nbconvert_exporter": "python",
   "pygments_lexer": "ipython3",
   "version": "3.8.1"
  }
 },
 "nbformat": 4,
 "nbformat_minor": 4
}
