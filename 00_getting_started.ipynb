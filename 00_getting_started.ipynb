{
 "cells": [
  {
   "cell_type": "markdown",
   "metadata": {},
   "source": [
    "# Getting started with `sbi`"
   ]
  },
  {
   "cell_type": "markdown",
   "metadata": {},
   "source": [
    "Note, you can find the original version of this notebook at [https://github.com/sbi-dev/sbi/blob/main/tutorials/00_getting_started.ipynb](https://github.com/sbi-dev/sbi/blob/main/tutorials/00_getting_started.ipynb) in the `sbi` repository."
   ]
  },
  {
   "cell_type": "code",
   "execution_count": 1,
   "metadata": {},
   "outputs": [],
   "source": [
    "import torch\n",
    "\n",
    "from sbi import analysis as analysis\n",
    "from sbi import utils as utils\n",
    "from sbi.inference.base import infer"
   ]
  },
  {
   "cell_type": "code",
   "execution_count": 2,
   "metadata": {},
   "outputs": [],
   "source": [
    "sigma_min = 1e-2\n",
    "mean_fn = lambda x_source, x_target, t: (1-t)*x_source + t * x_target\n",
    "std_fn = lambda x_source, x_target, t: torch.sqrt(2*t * (1-t))\n"
   ]
  },
  {
   "cell_type": "code",
   "execution_count": 3,
   "metadata": {},
   "outputs": [],
   "source": [
    "\n",
    "from torch import nn\n",
    "\n",
    "from sbi.neural_nets.vf_estimators.flow_estimator import FlowMachtingEstimator\n"
   ]
  },
  {
   "cell_type": "code",
   "execution_count": 4,
   "metadata": {},
   "outputs": [],
   "source": [
    "import numpy as np\n",
    "\n",
    "\n",
    "class GaussianFourierProjection(nn.Module):\n",
    "    \"\"\"Gaussian random features for encoding time steps.\"\"\"\n",
    "\n",
    "    def __init__(self, embed_dim, scale=30.0):\n",
    "        super().__init__()\n",
    "        # Randomly sample weights during initialization. These weights are fixed\n",
    "        # during optimization and are not trainable.\n",
    "        self.W = nn.Parameter(torch.randn(embed_dim // 2) * scale, requires_grad=False)\n",
    "\n",
    "    def forward(self, x):\n",
    "        x_proj = x * self.W[None, :] * 2 * np.pi\n",
    "        return torch.cat([torch.sin(x_proj), torch.cos(x_proj)], dim=-1)\n",
    "\n",
    "\n",
    "class ScoreNet(nn.Module):\n",
    "    def __init__(self, input_dim, condition_dim):\n",
    "        super().__init__()\n",
    "        self.input_dim = input_dim\n",
    "        self.condition_dim = condition_dim\n",
    "        self.time_embed_dim = 100\n",
    "        self.time_embed = GaussianFourierProjection(self.time_embed_dim)\n",
    "        self.num_layers = 5\n",
    "        self.hidden_dim = 100\n",
    "        self.linear1 = nn.Linear(self.input_dim + self.condition_dim, self.hidden_dim)\n",
    "        self.dense = nn.Sequential(\n",
    "            nn.Linear(self.hidden_dim + self.time_embed_dim, self.hidden_dim),\n",
    "            nn.ReLU(),\n",
    "            nn.Linear(self.hidden_dim, self.hidden_dim),\n",
    "            nn.ReLU(),\n",
    "            nn.Linear(self.hidden_dim, self.input_dim)\n",
    "        )\n",
    "\n",
    "    def forward(self, input, condition, t):\n",
    "\n",
    "        input_and_condition = torch.cat([input, condition], dim=-1)\n",
    "        h_x = self.linear1(input_and_condition)\n",
    "        time_embed = self.time_embed(t)\n",
    "\n",
    "\n",
    "        h = torch.cat([h_x, time_embed], dim=-1)\n",
    "        out = self.dense(h)\n",
    "\n",
    "        return out"
   ]
  },
  {
   "cell_type": "code",
   "execution_count": 5,
   "metadata": {},
   "outputs": [],
   "source": [
    "times = torch.rand((100,1))\n",
    "xs_source = torch.rand((100,2))\n",
    "xs_target = torch.rand((100,2))\n",
    "with torch.enable_grad():\n",
    "    times = times.clone().requires_grad_(True)\n",
    "    m_t = mean_fn(xs_source, xs_target, times)\n",
    "    grad = torch.autograd.grad(m_t, times, grad_outputs=torch.ones_like(m_t), create_graph=True)[0]"
   ]
  },
  {
   "cell_type": "code",
   "execution_count": 190,
   "metadata": {},
   "outputs": [],
   "source": [
    "from torch import Tensor\n",
    "\n",
    "\n",
    "class OTFlowMatchingEstimator(FlowMachtingEstimator):\n",
    "\n",
    "    def __init__(self, net, condition_shape, sigma_min=1e-5):\n",
    "        super().__init__(net, condition_shape)\n",
    "        self.sigma_min = sigma_min\n",
    "\n",
    "    def mean_fn(self, xs_source: Tensor, xs_target: Tensor, times: Tensor):\n",
    "        return  times*xs_target\n",
    "\n",
    "    def std_fn(self, xs_source: Tensor, xs_target: Tensor, times: Tensor):\n",
    "        return  (1 - (1-self.sigma_min)*times)\n",
    "\n"
   ]
  },
  {
   "cell_type": "code",
   "execution_count": null,
   "metadata": {},
   "outputs": [],
   "source": [
    "# Variance preserving conditional flow matching\n",
    "sigma = 1e-4\n",
    "mean_fn = lambda x_source, x_target, t: jnp.cos(jnp.pi / 2*t)*x_source + jnp.sin(jnp.pi / 2*t)*x_target\n",
    "std_fn = lambda x_source, x_target, t: jnp.array(sigma)"
   ]
  },
  {
   "cell_type": "code",
   "execution_count": 145,
   "metadata": {},
   "outputs": [],
   "source": [
    "\n",
    "class VPFlow(FlowMachtingEstimator):\n",
    "\n",
    "\n",
    "    def mean_fn(self, xs_source: Tensor, xs_target: Tensor, times: Tensor):\n",
    "        return torch.cos(np.pi / 2*times)*xs_source + torch.sin(np.pi / 2*times)*xs_target\n",
    "\n",
    "    def std_fn(self, xs_source: Tensor, xs_target: Tensor, times: Tensor):\n",
    "        return torch.tensor([1e-5])\n",
    "\n",
    "    def std_fn_grad(self, xs_source: Tensor, xs_target: Tensor, times: Tensor) -> Tensor:\n",
    "        return torch.tensor([0.])\n"
   ]
  },
  {
   "cell_type": "code",
   "execution_count": 191,
   "metadata": {},
   "outputs": [],
   "source": [
    "flow_estimator = OTFlowMatchingEstimator(ScoreNet(3,3), (3,))"
   ]
  },
  {
   "cell_type": "code",
   "execution_count": null,
   "metadata": {},
   "outputs": [],
   "source": []
  },
  {
   "cell_type": "code",
   "execution_count": 192,
   "metadata": {},
   "outputs": [
    {
     "data": {
      "text/plain": [
       "tensor([[-1.0000],\n",
       "        [-1.0000],\n",
       "        [-1.0000],\n",
       "        [-1.0000],\n",
       "        [-1.0000],\n",
       "        [-1.0000],\n",
       "        [-1.0000],\n",
       "        [-1.0000],\n",
       "        [-1.0000],\n",
       "        [-1.0000]])"
      ]
     },
     "execution_count": 192,
     "metadata": {},
     "output_type": "execute_result"
    }
   ],
   "source": [
    "flow_estimator.std_fn_grad(torch.zeros((10,2)),torch.ones((10,2)),torch.zeros((10,1))+ 1e-4)"
   ]
  },
  {
   "cell_type": "code",
   "execution_count": 193,
   "metadata": {},
   "outputs": [],
   "source": [
    "def build_estimator(thetas,xs):\n",
    "    input_dim = thetas.shape[-1]\n",
    "    condition_dim = xs.shape[-1]\n",
    "    estimator = OTFlowMatchingEstimator(ScoreNet(input_dim,condition_dim), (condition_dim,))\n",
    "    return estimator\n"
   ]
  },
  {
   "cell_type": "code",
   "execution_count": 194,
   "metadata": {},
   "outputs": [],
   "source": [
    "from sbi.inference import SNPE"
   ]
  },
  {
   "cell_type": "code",
   "execution_count": 195,
   "metadata": {},
   "outputs": [],
   "source": [
    "inference = SNPE(density_estimator=build_estimator, show_progress_bars=True)"
   ]
  },
  {
   "cell_type": "code",
   "execution_count": 196,
   "metadata": {},
   "outputs": [],
   "source": [
    "num_dim = 3\n",
    "prior = utils.BoxUniform(low=-2 * torch.ones(num_dim), high=2 * torch.ones(num_dim))\n",
    "\n",
    "def simulator(parameter_set):\n",
    "    return 1.0 + parameter_set + torch.randn(parameter_set.shape) * 0.1\n",
    "\n",
    "thetas = prior.sample((10000,))\n",
    "xs = simulator(thetas)"
   ]
  },
  {
   "cell_type": "code",
   "execution_count": 197,
   "metadata": {},
   "outputs": [],
   "source": [
    "inference = inference.append_simulations(thetas, xs)"
   ]
  },
  {
   "cell_type": "code",
   "execution_count": 198,
   "metadata": {},
   "outputs": [
    {
     "data": {
      "text/plain": [
       "{'epochs_trained': [],\n",
       " 'best_validation_loss': [],\n",
       " 'validation_loss': [],\n",
       " 'training_loss': [],\n",
       " 'epoch_durations_sec': []}"
      ]
     },
     "execution_count": 198,
     "metadata": {},
     "output_type": "execute_result"
    }
   ],
   "source": [
    "inference._summary"
   ]
  },
  {
   "cell_type": "code",
   "execution_count": 199,
   "metadata": {},
   "outputs": [
    {
     "name": "stdout",
     "output_type": "stream",
     "text": [
      " Neural network successfully converged after 1495 epochs."
     ]
    }
   ],
   "source": [
    "score_net = inference.train(training_batch_size=1000,stop_after_epochs=500)"
   ]
  },
  {
   "cell_type": "code",
   "execution_count": 200,
   "metadata": {},
   "outputs": [
    {
     "data": {
      "text/plain": [
       "[<matplotlib.lines.Line2D at 0x7f5fdc28c2d0>]"
      ]
     },
     "execution_count": 200,
     "metadata": {},
     "output_type": "execute_result"
    },
    {
     "data": {
      "image/png": "[encoded data removed]",
      "text/plain": [
       "<Figure size 640x480 with 1 Axes>"
      ]
     },
     "metadata": {},
     "output_type": "display_data"
    }
   ],
   "source": [
    "import matplotlib.pyplot as plt\n",
    "\n",
    "plt.plot(inference._summary[\"validation_loss\"])\n",
    "plt.plot(inference._summary[\"training_loss\"])"
   ]
  },
  {
   "cell_type": "markdown",
   "metadata": {},
   "source": []
  },
  {
   "cell_type": "code",
   "execution_count": 182,
   "metadata": {},
   "outputs": [],
   "source": [
    "samples_0 = score_net.source_distribution.sample((1000,3))"
   ]
  },
  {
   "cell_type": "code",
   "execution_count": 183,
   "metadata": {},
   "outputs": [],
   "source": [
    "theta_o = prior.sample((1,))\n",
    "x_o = simulator(theta_o)"
   ]
  },
  {
   "cell_type": "code",
   "execution_count": 184,
   "metadata": {},
   "outputs": [],
   "source": [
    "x_os = torch.repeat_interleave(x_o, 1000, dim=0)\n",
    "\n",
    "def drift(x, t):\n",
    "    return score_net(x, condition = x_os, time=t* torch.ones((1000,1)))"
   ]
  },
  {
   "cell_type": "code",
   "execution_count": 185,
   "metadata": {},
   "outputs": [],
   "source": [
    "import torch\n",
    "\n",
    "\n",
    "def euler(f, y0, t):\n",
    "    \"\"\"\n",
    "    Euler's method for solving ODEs.\n",
    "\n",
    "    Parameters:\n",
    "    f : function\n",
    "        Function that defines the ODE.\n",
    "    y0 : torch.Tensor\n",
    "        Initial condition.\n",
    "    t : torch.Tensor\n",
    "        1D tensor of t values where the ODE should be solved.\n",
    "\n",
    "    Returns:\n",
    "    torch.Tensor\n",
    "        1D tensor of y values where the ODE has been solved.\n",
    "    \"\"\"\n",
    "    y = torch.zeros(t.shape[0], *y0.shape, dtype=y0.dtype, device=y0.device)\n",
    "    y[0] = y0\n",
    "\n",
    "    for i in range(1, t.shape[0]):\n",
    "        dt = t[i] - t[i-1]\n",
    "        y[i] = y[i-1] + f(y[i-1], t[i-1]) * dt\n",
    "\n",
    "    return y"
   ]
  },
  {
   "cell_type": "code",
   "execution_count": 186,
   "metadata": {},
   "outputs": [],
   "source": [
    "samples = euler(drift, samples_0, torch.linspace(0, 1, 100))"
   ]
  },
  {
   "cell_type": "code",
   "execution_count": 187,
   "metadata": {},
   "outputs": [],
   "source": [
    "from sbi.analysis import pairplot"
   ]
  },
  {
   "cell_type": "code",
   "execution_count": 188,
   "metadata": {},
   "outputs": [
    {
     "data": {
      "text/plain": [
       "(<Figure size 500x500 with 9 Axes>,\n",
       " array([[<Axes: xlabel='dim 1'>, <Axes: >, <Axes: >],\n",
       "        [<Axes: >, <Axes: xlabel='dim 2'>, <Axes: >],\n",
       "        [<Axes: >, <Axes: >, <Axes: xlabel='dim 3'>]], dtype=object))"
      ]
     },
     "execution_count": 188,
     "metadata": {},
     "output_type": "execute_result"
    },
    {
     "data": {
      "image/png": "[encoded data removed]",
      "text/plain": [
       "<Figure size 500x500 with 9 Axes>"
      ]
     },
     "metadata": {},
     "output_type": "display_data"
    }
   ],
   "source": [
    "pairplot(samples[-1].detach(), limits=[[-2, 2], [-2, 2], [-2, 2]], points=theta_o, figsize=(5, 5))"
   ]
  },
  {
   "cell_type": "code",
   "execution_count": null,
   "metadata": {},
   "outputs": [
    {
     "data": {
      "text/plain": [
       "(<Figure size 1000x1000 with 9 Axes>,\n",
       " array([[<Axes: xlabel='dim 1'>, <Axes: >, <Axes: >],\n",
       "        [<Axes: >, <Axes: xlabel='dim 2'>, <Axes: >],\n",
       "        [<Axes: >, <Axes: >, <Axes: xlabel='dim 3'>]], dtype=object))"
      ]
     },
     "execution_count": 76,
     "metadata": {},
     "output_type": "execute_result"
    },
    {
     "data": {
      "image/png": "[encoded data removed]",
      "text/plain": [
       "<Figure size 1000x1000 with 9 Axes>"
      ]
     },
     "metadata": {},
     "output_type": "display_data"
    }
   ],
   "source": [
    "from sbi.analysis import pairplot\n",
    "\n",
    "pairplot(samples_t.detach())"
   ]
  },
  {
   "cell_type": "markdown",
   "metadata": {},
   "source": [
    "## Running the inference procedure\n",
    "\n",
    "`sbi` provides a simple interface to run state-of-the-art algorithms for simulation-based inference."
   ]
  },
  {
   "cell_type": "markdown",
   "metadata": {},
   "source": [
    "For inference, you need to provide two ingredients:\n",
    "\n",
    "1) a prior distribution that allows to sample parameter sets.  \n",
    "2) a simulator that takes parameter sets and produces simulation outputs.\n",
    "\n",
    "For example, we can have a 3-dimensional parameter space with a uniform prior between [-1,1] and a simple simulator that for the sake of example adds 1.0 and some Gaussian noise to the parameter set:"
   ]
  },
  {
   "cell_type": "code",
   "execution_count": 6,
   "metadata": {},
   "outputs": [
    {
     "name": "stderr",
     "output_type": "stream",
     "text": [
      "UsageError: Line magic function `%autoreload` not found.\n"
     ]
    }
   ],
   "source": [
    "%autoreload"
   ]
  },
  {
   "cell_type": "code",
   "execution_count": 1,
   "metadata": {},
   "outputs": [
    {
     "name": "stderr",
     "output_type": "stream",
     "text": [
      "WARNING (pytensor.tensor.blas): Using NumPy C-API based implementation for BLAS functions.\n"
     ]
    }
   ],
   "source": [
    "import torch\n",
    "from sbi.analysis import pairplot\n",
    "from sbi import utils as utils\n",
    "from sbi.inference import infer"
   ]
  },
  {
   "cell_type": "code",
   "execution_count": 2,
   "metadata": {},
   "outputs": [],
   "source": [
    "num_dim = 3\n",
    "prior = utils.BoxUniform(low=-2 * torch.ones(num_dim), high=2 * torch.ones(num_dim))\n",
    "\n",
    "def simulator(parameter_set):\n",
    "    return 1.0 + parameter_set + torch.randn(parameter_set.shape) * 0.1"
   ]
  },
  {
   "cell_type": "markdown",
   "metadata": {},
   "source": [
    "`sbi` can then run inference:"
   ]
  },
  {
   "cell_type": "code",
   "execution_count": 14,
   "metadata": {},
   "outputs": [
    {
     "data": {
      "application/vnd.jupyter.widget-view+json": {
       "model_id": "a8bb9d4e09ab40768ae8485ba7b13c98",
       "version_major": 2,
       "version_minor": 0
      },
      "text/plain": [
       "Running 2000 simulations.:   0%|          | 0/2000 [00:00<?, ?it/s]"
      ]
     },
     "metadata": {},
     "output_type": "display_data"
    },
    {
     "name": "stdout",
     "output_type": "stream",
     "text": [
      " Neural network successfully converged after 110 epochs."
     ]
    },
    {
     "name": "stderr",
     "output_type": "stream",
     "text": [
      "/root/sbi/sbi/inference/posteriors/mcmc_posterior.py:114: UserWarning: The default value for thinning in MCMC sampling has been changed from 10 to 1. This might cause the results differ from the last benchmark.\n",
      "  thin = _process_thin_default(thin)\n"
     ]
    }
   ],
   "source": [
    "# Other methods are \"SNLE\" or \"SNRE\".\n",
    "posterior = infer(simulator, prior, method=\"SNLE\", num_simulations=2000)"
   ]
  },
  {
   "cell_type": "code",
   "execution_count": 15,
   "metadata": {},
   "outputs": [],
   "source": [
    "observation = torch.randn(2,3)"
   ]
  },
  {
   "cell_type": "code",
   "execution_count": 16,
   "metadata": {},
   "outputs": [
    {
     "name": "stdout",
     "output_type": "stream",
     "text": [
      "Start run\n"
     ]
    },
    {
     "name": "stderr",
     "output_type": "stream",
     "text": [
      "/root/sbi/sbi/utils/user_input_checks.py:604: UserWarning: An x with a batch size of 2 was passed. It will be interpreted as a batch of independent and identically\n",
      "            distributed data X={x_1, ..., x_n}, i.e., data generated based on the\n",
      "            same underlying (unknown) parameter. The resulting posterior will be with\n",
      "            respect to entire batch, i.e,. p(theta | X).\n",
      "  warn_on_iid_x(num_trials=input_x_shape[0])\n"
     ]
    },
    {
     "data": {
      "application/vnd.jupyter.widget-view+json": {
       "model_id": "3165b904e0994defb7282937341111ca",
       "version_major": 2,
       "version_minor": 0
      },
      "text/plain": [
       "Running vectorized MCMC with 2 chains:   0%|          | 0/600 [00:00<?, ?it/s]"
      ]
     },
     "metadata": {},
     "output_type": "display_data"
    },
    {
     "name": "stdout",
     "output_type": "stream",
     "text": [
      "Finish run\n"
     ]
    }
   ],
   "source": [
    "samples = posterior.sample_batched((100,), x=observation, method=\"slice_np_vectorized\", num_chains=1)"
   ]
  },
  {
   "cell_type": "code",
   "execution_count": 21,
   "metadata": {},
   "outputs": [
    {
     "name": "stdout",
     "output_type": "stream",
     "text": [
      "Start run\n"
     ]
    },
    {
     "data": {
      "application/vnd.jupyter.widget-view+json": {
       "model_id": "c803bf7866a44e81978ff035007124de",
       "version_major": 2,
       "version_minor": 0
      },
      "text/plain": [
       "Running vectorized MCMC with 3 chains:   0%|          | 0/900 [00:00<?, ?it/s]"
      ]
     },
     "metadata": {},
     "output_type": "display_data"
    },
    {
     "name": "stdout",
     "output_type": "stream",
     "text": [
      "Finish run\n"
     ]
    }
   ],
   "source": [
    "samples1 = posterior.sample_batched((100,), x=observation[0], method=\"slice_np_vectorized\", num_chains=1)"
   ]
  },
  {
   "cell_type": "markdown",
   "metadata": {},
   "source": [
    "Let's say we have made some observation $x$:"
   ]
  },
  {
   "cell_type": "code",
   "execution_count": 17,
   "metadata": {},
   "outputs": [
    {
     "data": {
      "text/plain": [
       "torch.Size([100, 2, 3])"
      ]
     },
     "execution_count": 17,
     "metadata": {},
     "output_type": "execute_result"
    }
   ],
   "source": [
    "samples.shape"
   ]
  },
  {
   "cell_type": "code",
   "execution_count": 26,
   "metadata": {},
   "outputs": [
    {
     "data": {
      "text/plain": [
       "(<Figure size 500x500 with 9 Axes>,\n",
       " array([[<Axes: xlabel='dim 1'>, <Axes: >, <Axes: >],\n",
       "        [<Axes: >, <Axes: xlabel='dim 2'>, <Axes: >],\n",
       "        [<Axes: xlabel='dim 1'>, <Axes: xlabel='dim 2'>,\n",
       "         <Axes: xlabel='dim 3'>]], dtype=object))"
      ]
     },
     "execution_count": 26,
     "metadata": {},
     "output_type": "execute_result"
    },
    {
     "data": {
      "image/png": "[encoded data removed]",
      "text/plain": [
       "<Figure size 500x500 with 9 Axes>"
      ]
     },
     "metadata": {},
     "output_type": "display_data"
    }
   ],
   "source": [
    "pairplot(samples[:,1], limits=[[-2, 2], [-2, 2], [-2, 2]], figsize=(5, 5))"
   ]
  },
  {
   "cell_type": "code",
   "execution_count": 27,
   "metadata": {},
   "outputs": [
    {
     "data": {
      "text/plain": [
       "(<Figure size 500x500 with 9 Axes>,\n",
       " array([[<Axes: xlabel='dim 1'>, <Axes: >, <Axes: >],\n",
       "        [<Axes: >, <Axes: xlabel='dim 2'>, <Axes: >],\n",
       "        [<Axes: xlabel='dim 1'>, <Axes: xlabel='dim 2'>,\n",
       "         <Axes: xlabel='dim 3'>]], dtype=object))"
      ]
     },
     "execution_count": 27,
     "metadata": {},
     "output_type": "execute_result"
    },
    {
     "data": {
      "image/png": "[encoded data removed]",
      "text/plain": [
       "<Figure size 500x500 with 9 Axes>"
      ]
     },
     "metadata": {},
     "output_type": "display_data"
    }
   ],
   "source": [
    "pairplot(samples1[:,0], limits=[[-2, 2], [-2, 2], [-2, 2]], figsize=(5, 5))"
   ]
  },
  {
   "cell_type": "code",
   "execution_count": 7,
   "metadata": {},
   "outputs": [
    {
     "name": "stdout",
     "output_type": "stream",
     "text": [
      "Start run\n"
     ]
    },
    {
     "data": {
      "application/vnd.jupyter.widget-view+json": {
       "model_id": "d81a562c29e9453f82d6bed492bf4cf4",
       "version_major": 2,
       "version_minor": 0
      },
      "text/plain": [
       "  0%|          | 0/50 [00:00<?, ?it/s]"
      ]
     },
     "metadata": {},
     "output_type": "display_data"
    },
    {
     "data": {
      "application/vnd.jupyter.widget-view+json": {
       "model_id": "b29fba4ebced4ffaabe27dcdcdd1f5ac",
       "version_major": 2,
       "version_minor": 0
      },
      "text/plain": [
       "  0%|          | 0/100200 [00:00<?, ?it/s]"
      ]
     },
     "metadata": {},
     "output_type": "display_data"
    },
    {
     "ename": "KeyboardInterrupt",
     "evalue": "",
     "output_type": "error",
     "traceback": [
      "\u001b[0;31m---------------------------------------------------------------------------\u001b[0m",
      "\u001b[0;31mKeyboardInterrupt\u001b[0m                         Traceback (most recent call last)",
      "Cell \u001b[0;32mIn[7], line 1\u001b[0m\n\u001b[0;32m----> 1\u001b[0m \u001b[43mposterior\u001b[49m\u001b[38;5;241;43m.\u001b[39;49m\u001b[43msample\u001b[49m\u001b[43m(\u001b[49m\u001b[43m(\u001b[49m\u001b[38;5;241;43m100000\u001b[39;49m\u001b[43m,\u001b[49m\u001b[43m)\u001b[49m\u001b[43m,\u001b[49m\u001b[43m \u001b[49m\u001b[43mx\u001b[49m\u001b[38;5;241;43m=\u001b[39;49m\u001b[43mtorch\u001b[49m\u001b[38;5;241;43m.\u001b[39;49m\u001b[43mzeros\u001b[49m\u001b[43m(\u001b[49m\u001b[38;5;241;43m3\u001b[39;49m\u001b[43m)\u001b[49m\u001b[43m)\u001b[49m\u001b[38;5;241m.\u001b[39mshape\n",
      "File \u001b[0;32m~/sbi/sbi/inference/posteriors/mcmc_posterior.py:317\u001b[0m, in \u001b[0;36mMCMCPosterior.sample\u001b[0;34m(self, sample_shape, x, method, thin, warmup_steps, num_chains, init_strategy, init_strategy_parameters, init_strategy_num_candidates, mcmc_parameters, mcmc_method, sample_with, num_workers, mp_context, show_progress_bars)\u001b[0m\n\u001b[1;32m    315\u001b[0m \u001b[38;5;28;01mwith\u001b[39;00m torch\u001b[38;5;241m.\u001b[39mset_grad_enabled(track_gradients):\n\u001b[1;32m    316\u001b[0m     \u001b[38;5;28;01mif\u001b[39;00m method \u001b[38;5;129;01min\u001b[39;00m (\u001b[38;5;124m\"\u001b[39m\u001b[38;5;124mslice_np\u001b[39m\u001b[38;5;124m\"\u001b[39m, \u001b[38;5;124m\"\u001b[39m\u001b[38;5;124mslice_np_vectorized\u001b[39m\u001b[38;5;124m\"\u001b[39m):\n\u001b[0;32m--> 317\u001b[0m         transformed_samples \u001b[38;5;241m=\u001b[39m \u001b[38;5;28;43mself\u001b[39;49m\u001b[38;5;241;43m.\u001b[39;49m\u001b[43m_slice_np_mcmc\u001b[49m\u001b[43m(\u001b[49m\n\u001b[1;32m    318\u001b[0m \u001b[43m            \u001b[49m\u001b[43mnum_samples\u001b[49m\u001b[38;5;241;43m=\u001b[39;49m\u001b[43mnum_samples\u001b[49m\u001b[43m,\u001b[49m\n\u001b[1;32m    319\u001b[0m \u001b[43m            \u001b[49m\u001b[43mpotential_function\u001b[49m\u001b[38;5;241;43m=\u001b[39;49m\u001b[38;5;28;43mself\u001b[39;49m\u001b[38;5;241;43m.\u001b[39;49m\u001b[43mpotential_\u001b[49m\u001b[43m,\u001b[49m\n\u001b[1;32m    320\u001b[0m \u001b[43m            \u001b[49m\u001b[43minitial_params\u001b[49m\u001b[38;5;241;43m=\u001b[39;49m\u001b[43minitial_params\u001b[49m\u001b[43m,\u001b[49m\n\u001b[1;32m    321\u001b[0m \u001b[43m            \u001b[49m\u001b[43mthin\u001b[49m\u001b[38;5;241;43m=\u001b[39;49m\u001b[43mthin\u001b[49m\u001b[43m,\u001b[49m\u001b[43m  \u001b[49m\u001b[38;5;66;43;03m# type: ignore\u001b[39;49;00m\n\u001b[1;32m    322\u001b[0m \u001b[43m            \u001b[49m\u001b[43mwarmup_steps\u001b[49m\u001b[38;5;241;43m=\u001b[39;49m\u001b[43mwarmup_steps\u001b[49m\u001b[43m,\u001b[49m\u001b[43m  \u001b[49m\u001b[38;5;66;43;03m# type: ignore\u001b[39;49;00m\n\u001b[1;32m    323\u001b[0m \u001b[43m            \u001b[49m\u001b[43mvectorized\u001b[49m\u001b[38;5;241;43m=\u001b[39;49m\u001b[43m(\u001b[49m\u001b[43mmethod\u001b[49m\u001b[43m \u001b[49m\u001b[38;5;241;43m==\u001b[39;49m\u001b[43m \u001b[49m\u001b[38;5;124;43m\"\u001b[39;49m\u001b[38;5;124;43mslice_np_vectorized\u001b[39;49m\u001b[38;5;124;43m\"\u001b[39;49m\u001b[43m)\u001b[49m\u001b[43m,\u001b[49m\n\u001b[1;32m    324\u001b[0m \u001b[43m            \u001b[49m\u001b[43mnum_workers\u001b[49m\u001b[38;5;241;43m=\u001b[39;49m\u001b[43mnum_workers\u001b[49m\u001b[43m,\u001b[49m\n\u001b[1;32m    325\u001b[0m \u001b[43m            \u001b[49m\u001b[43mshow_progress_bars\u001b[49m\u001b[38;5;241;43m=\u001b[39;49m\u001b[43mshow_progress_bars\u001b[49m\u001b[43m,\u001b[49m\n\u001b[1;32m    326\u001b[0m \u001b[43m        \u001b[49m\u001b[43m)\u001b[49m\n\u001b[1;32m    327\u001b[0m     \u001b[38;5;28;01melif\u001b[39;00m method \u001b[38;5;129;01min\u001b[39;00m (\u001b[38;5;124m\"\u001b[39m\u001b[38;5;124mhmc_pyro\u001b[39m\u001b[38;5;124m\"\u001b[39m, \u001b[38;5;124m\"\u001b[39m\u001b[38;5;124mnuts_pyro\u001b[39m\u001b[38;5;124m\"\u001b[39m):\n\u001b[1;32m    328\u001b[0m         transformed_samples \u001b[38;5;241m=\u001b[39m \u001b[38;5;28mself\u001b[39m\u001b[38;5;241m.\u001b[39m_pyro_mcmc(\n\u001b[1;32m    329\u001b[0m             num_samples\u001b[38;5;241m=\u001b[39mnum_samples,\n\u001b[1;32m    330\u001b[0m             potential_function\u001b[38;5;241m=\u001b[39m\u001b[38;5;28mself\u001b[39m\u001b[38;5;241m.\u001b[39mpotential_,\n\u001b[0;32m   (...)\u001b[0m\n\u001b[1;32m    337\u001b[0m             mp_context\u001b[38;5;241m=\u001b[39mmp_context,\n\u001b[1;32m    338\u001b[0m         )\n",
      "File \u001b[0;32m~/sbi/sbi/inference/posteriors/mcmc_posterior.py:608\u001b[0m, in \u001b[0;36mMCMCPosterior._slice_np_mcmc\u001b[0;34m(self, num_samples, potential_function, initial_params, thin, warmup_steps, vectorized, num_workers, init_width, show_progress_bars)\u001b[0m\n\u001b[1;32m    606\u001b[0m \u001b[38;5;66;03m# Run mcmc including warmup\u001b[39;00m\n\u001b[1;32m    607\u001b[0m \u001b[38;5;28mprint\u001b[39m(\u001b[38;5;124m\"\u001b[39m\u001b[38;5;124mStart run\u001b[39m\u001b[38;5;124m\"\u001b[39m)\n\u001b[0;32m--> 608\u001b[0m samples \u001b[38;5;241m=\u001b[39m \u001b[43mposterior_sampler\u001b[49m\u001b[38;5;241;43m.\u001b[39;49m\u001b[43mrun\u001b[49m\u001b[43m(\u001b[49m\u001b[43mwarmup_\u001b[49m\u001b[43m \u001b[49m\u001b[38;5;241;43m+\u001b[39;49m\u001b[43m \u001b[49m\u001b[43mnum_samples_\u001b[49m\u001b[43m)\u001b[49m\n\u001b[1;32m    609\u001b[0m \u001b[38;5;28mprint\u001b[39m(\u001b[38;5;124m\"\u001b[39m\u001b[38;5;124mFinish run\u001b[39m\u001b[38;5;124m\"\u001b[39m)\n\u001b[1;32m    610\u001b[0m samples \u001b[38;5;241m=\u001b[39m samples[:, warmup_steps:, :]  \u001b[38;5;66;03m# discard warmup steps\u001b[39;00m\n",
      "File \u001b[0;32m~/sbi/sbi/samplers/mcmc/slice_numpy.py:290\u001b[0m, in \u001b[0;36mSliceSamplerSerial.run\u001b[0;34m(self, num_samples)\u001b[0m\n\u001b[1;32m    279\u001b[0m seeds \u001b[38;5;241m=\u001b[39m torch\u001b[38;5;241m.\u001b[39mrandint(high\u001b[38;5;241m=\u001b[39m\u001b[38;5;241m2\u001b[39m\u001b[38;5;241m*\u001b[39m\u001b[38;5;241m*\u001b[39m\u001b[38;5;241m31\u001b[39m, size\u001b[38;5;241m=\u001b[39m(num_chains,))\n\u001b[1;32m    281\u001b[0m \u001b[38;5;28;01mwith\u001b[39;00m tqdm_joblib(\n\u001b[1;32m    282\u001b[0m     tqdm(\n\u001b[1;32m    283\u001b[0m         \u001b[38;5;28mrange\u001b[39m(num_chains),  \u001b[38;5;66;03m# type: ignore\u001b[39;00m\n\u001b[0;32m   (...)\u001b[0m\n\u001b[1;32m    288\u001b[0m     )\n\u001b[1;32m    289\u001b[0m ):\n\u001b[0;32m--> 290\u001b[0m     all_samples: Sequence[np\u001b[38;5;241m.\u001b[39mndarray] \u001b[38;5;241m=\u001b[39m \u001b[43mParallel\u001b[49m\u001b[43m(\u001b[49m\u001b[43mn_jobs\u001b[49m\u001b[38;5;241;43m=\u001b[39;49m\u001b[38;5;28;43mself\u001b[39;49m\u001b[38;5;241;43m.\u001b[39;49m\u001b[43mnum_workers\u001b[49m\u001b[43m)\u001b[49m\u001b[43m(\u001b[49m\u001b[43m  \u001b[49m\u001b[38;5;66;43;03m# pyright: ignore[reportAssignmentType]\u001b[39;49;00m\n\u001b[1;32m    291\u001b[0m \u001b[43m        \u001b[49m\u001b[43mdelayed\u001b[49m\u001b[43m(\u001b[49m\u001b[38;5;28;43mself\u001b[39;49m\u001b[38;5;241;43m.\u001b[39;49m\u001b[43mrun_fun\u001b[49m\u001b[43m)\u001b[49m\u001b[43m(\u001b[49m\u001b[43mnum_samples\u001b[49m\u001b[43m,\u001b[49m\u001b[43m \u001b[49m\u001b[43minitial_params_batch\u001b[49m\u001b[43m,\u001b[49m\u001b[43m \u001b[49m\u001b[43mseed\u001b[49m\u001b[43m)\u001b[49m\n\u001b[1;32m    292\u001b[0m \u001b[43m        \u001b[49m\u001b[38;5;28;43;01mfor\u001b[39;49;00m\u001b[43m \u001b[49m\u001b[43minitial_params_batch\u001b[49m\u001b[43m,\u001b[49m\u001b[43m \u001b[49m\u001b[43mseed\u001b[49m\u001b[43m \u001b[49m\u001b[38;5;129;43;01min\u001b[39;49;00m\u001b[43m \u001b[49m\u001b[38;5;28;43mzip\u001b[39;49m\u001b[43m(\u001b[49m\u001b[38;5;28;43mself\u001b[39;49m\u001b[38;5;241;43m.\u001b[39;49m\u001b[43mx\u001b[49m\u001b[43m,\u001b[49m\u001b[43m \u001b[49m\u001b[43mseeds\u001b[49m\u001b[43m)\u001b[49m\n\u001b[1;32m    293\u001b[0m \u001b[43m    \u001b[49m\u001b[43m)\u001b[49m\n\u001b[1;32m    295\u001b[0m samples \u001b[38;5;241m=\u001b[39m np\u001b[38;5;241m.\u001b[39mstack(all_samples)\u001b[38;5;241m.\u001b[39mastype(np\u001b[38;5;241m.\u001b[39mfloat32)\n\u001b[1;32m    296\u001b[0m samples \u001b[38;5;241m=\u001b[39m samples\u001b[38;5;241m.\u001b[39mreshape(num_chains, \u001b[38;5;241m-\u001b[39m\u001b[38;5;241m1\u001b[39m, dim_samples)  \u001b[38;5;66;03m# chains, samples, dim\u001b[39;00m\n",
      "File \u001b[0;32m~/miniconda3/envs/sbi3/lib/python3.11/site-packages/joblib/parallel.py:1863\u001b[0m, in \u001b[0;36mParallel.__call__\u001b[0;34m(self, iterable)\u001b[0m\n\u001b[1;32m   1861\u001b[0m     output \u001b[38;5;241m=\u001b[39m \u001b[38;5;28mself\u001b[39m\u001b[38;5;241m.\u001b[39m_get_sequential_output(iterable)\n\u001b[1;32m   1862\u001b[0m     \u001b[38;5;28mnext\u001b[39m(output)\n\u001b[0;32m-> 1863\u001b[0m     \u001b[38;5;28;01mreturn\u001b[39;00m output \u001b[38;5;28;01mif\u001b[39;00m \u001b[38;5;28mself\u001b[39m\u001b[38;5;241m.\u001b[39mreturn_generator \u001b[38;5;28;01melse\u001b[39;00m \u001b[38;5;28;43mlist\u001b[39;49m\u001b[43m(\u001b[49m\u001b[43moutput\u001b[49m\u001b[43m)\u001b[49m\n\u001b[1;32m   1865\u001b[0m \u001b[38;5;66;03m# Let's create an ID that uniquely identifies the current call. If the\u001b[39;00m\n\u001b[1;32m   1866\u001b[0m \u001b[38;5;66;03m# call is interrupted early and that the same instance is immediately\u001b[39;00m\n\u001b[1;32m   1867\u001b[0m \u001b[38;5;66;03m# re-used, this id will be used to prevent workers that were\u001b[39;00m\n\u001b[1;32m   1868\u001b[0m \u001b[38;5;66;03m# concurrently finalizing a task from the previous call to run the\u001b[39;00m\n\u001b[1;32m   1869\u001b[0m \u001b[38;5;66;03m# callback.\u001b[39;00m\n\u001b[1;32m   1870\u001b[0m \u001b[38;5;28;01mwith\u001b[39;00m \u001b[38;5;28mself\u001b[39m\u001b[38;5;241m.\u001b[39m_lock:\n",
      "File \u001b[0;32m~/miniconda3/envs/sbi3/lib/python3.11/site-packages/joblib/parallel.py:1792\u001b[0m, in \u001b[0;36mParallel._get_sequential_output\u001b[0;34m(self, iterable)\u001b[0m\n\u001b[1;32m   1790\u001b[0m \u001b[38;5;28mself\u001b[39m\u001b[38;5;241m.\u001b[39mn_dispatched_batches \u001b[38;5;241m+\u001b[39m\u001b[38;5;241m=\u001b[39m \u001b[38;5;241m1\u001b[39m\n\u001b[1;32m   1791\u001b[0m \u001b[38;5;28mself\u001b[39m\u001b[38;5;241m.\u001b[39mn_dispatched_tasks \u001b[38;5;241m+\u001b[39m\u001b[38;5;241m=\u001b[39m \u001b[38;5;241m1\u001b[39m\n\u001b[0;32m-> 1792\u001b[0m res \u001b[38;5;241m=\u001b[39m \u001b[43mfunc\u001b[49m\u001b[43m(\u001b[49m\u001b[38;5;241;43m*\u001b[39;49m\u001b[43margs\u001b[49m\u001b[43m,\u001b[49m\u001b[43m \u001b[49m\u001b[38;5;241;43m*\u001b[39;49m\u001b[38;5;241;43m*\u001b[39;49m\u001b[43mkwargs\u001b[49m\u001b[43m)\u001b[49m\n\u001b[1;32m   1793\u001b[0m \u001b[38;5;28mself\u001b[39m\u001b[38;5;241m.\u001b[39mn_completed_tasks \u001b[38;5;241m+\u001b[39m\u001b[38;5;241m=\u001b[39m \u001b[38;5;241m1\u001b[39m\n\u001b[1;32m   1794\u001b[0m \u001b[38;5;28mself\u001b[39m\u001b[38;5;241m.\u001b[39mprint_progress()\n",
      "File \u001b[0;32m~/sbi/sbi/samplers/mcmc/slice_numpy.py:317\u001b[0m, in \u001b[0;36mSliceSamplerSerial.run_fun\u001b[0;34m(self, num_samples, inits, seed)\u001b[0m\n\u001b[1;32m    306\u001b[0m np\u001b[38;5;241m.\u001b[39mrandom\u001b[38;5;241m.\u001b[39mseed(seed)\n\u001b[1;32m    307\u001b[0m posterior_sampler \u001b[38;5;241m=\u001b[39m SliceSampler(\n\u001b[1;32m    308\u001b[0m     inits,\n\u001b[1;32m    309\u001b[0m     lp_f\u001b[38;5;241m=\u001b[39m\u001b[38;5;28mself\u001b[39m\u001b[38;5;241m.\u001b[39m_log_prob_fn,\n\u001b[0;32m   (...)\u001b[0m\n\u001b[1;32m    315\u001b[0m     verbose\u001b[38;5;241m=\u001b[39m\u001b[38;5;28mself\u001b[39m\u001b[38;5;241m.\u001b[39mnum_workers \u001b[38;5;241m==\u001b[39m \u001b[38;5;241m1\u001b[39m \u001b[38;5;129;01mand\u001b[39;00m \u001b[38;5;28mself\u001b[39m\u001b[38;5;241m.\u001b[39mverbose,\n\u001b[1;32m    316\u001b[0m )\n\u001b[0;32m--> 317\u001b[0m \u001b[38;5;28;01mreturn\u001b[39;00m \u001b[43mposterior_sampler\u001b[49m\u001b[38;5;241;43m.\u001b[39;49m\u001b[43mgen\u001b[49m\u001b[43m(\u001b[49m\u001b[43mnum_samples\u001b[49m\u001b[43m)\u001b[49m\n",
      "File \u001b[0;32m~/sbi/sbi/samplers/mcmc/slice_numpy.py:127\u001b[0m, in \u001b[0;36mSliceSampler.gen\u001b[0;34m(self, n_samples, logger, show_info, rng)\u001b[0m\n\u001b[1;32m    124\u001b[0m     rng\u001b[38;5;241m.\u001b[39mshuffle(order)\n\u001b[1;32m    126\u001b[0m     \u001b[38;5;28;01mfor\u001b[39;00m i \u001b[38;5;129;01min\u001b[39;00m order:\n\u001b[0;32m--> 127\u001b[0m         \u001b[38;5;28mself\u001b[39m\u001b[38;5;241m.\u001b[39mx[i], _ \u001b[38;5;241m=\u001b[39m \u001b[38;5;28;43mself\u001b[39;49m\u001b[38;5;241;43m.\u001b[39;49m\u001b[43m_sample_from_conditional\u001b[49m\u001b[43m(\u001b[49m\u001b[43mi\u001b[49m\u001b[43m,\u001b[49m\u001b[43m \u001b[49m\u001b[38;5;28;43mself\u001b[39;49m\u001b[38;5;241;43m.\u001b[39;49m\u001b[43mx\u001b[49m\u001b[43m[\u001b[49m\u001b[43mi\u001b[49m\u001b[43m]\u001b[49m\u001b[43m,\u001b[49m\u001b[43m \u001b[49m\u001b[43mrng\u001b[49m\u001b[43m)\u001b[49m\n\u001b[1;32m    129\u001b[0m samples[n] \u001b[38;5;241m=\u001b[39m \u001b[38;5;28mself\u001b[39m\u001b[38;5;241m.\u001b[39mx\u001b[38;5;241m.\u001b[39mcopy()\n\u001b[1;32m    131\u001b[0m \u001b[38;5;28mself\u001b[39m\u001b[38;5;241m.\u001b[39mL \u001b[38;5;241m=\u001b[39m \u001b[38;5;28mself\u001b[39m\u001b[38;5;241m.\u001b[39mlp_f(\u001b[38;5;28mself\u001b[39m\u001b[38;5;241m.\u001b[39mx)\n",
      "File \u001b[0;32m~/sbi/sbi/samplers/mcmc/slice_numpy.py:202\u001b[0m, in \u001b[0;36mSliceSampler._sample_from_conditional\u001b[0;34m(self, i, cxi, rng)\u001b[0m\n\u001b[1;32m    199\u001b[0m     lx \u001b[38;5;241m-\u001b[39m\u001b[38;5;241m=\u001b[39m wi\n\u001b[1;32m    201\u001b[0m \u001b[38;5;66;03m# find upper bracket end\u001b[39;00m\n\u001b[0;32m--> 202\u001b[0m \u001b[38;5;28;01mwhile\u001b[39;00m \u001b[43mLi\u001b[49m\u001b[43m(\u001b[49m\u001b[43mux\u001b[49m\u001b[43m)\u001b[49m \u001b[38;5;241m>\u001b[39m\u001b[38;5;241m=\u001b[39m logu \u001b[38;5;129;01mand\u001b[39;00m ux \u001b[38;5;241m-\u001b[39m cxi \u001b[38;5;241m<\u001b[39m \u001b[38;5;28mself\u001b[39m\u001b[38;5;241m.\u001b[39mmax_width:\n\u001b[1;32m    203\u001b[0m     ux \u001b[38;5;241m+\u001b[39m\u001b[38;5;241m=\u001b[39m wi\n\u001b[1;32m    205\u001b[0m \u001b[38;5;66;03m# sample uniformly from bracket\u001b[39;00m\n",
      "File \u001b[0;32m~/sbi/sbi/samplers/mcmc/slice_numpy.py:187\u001b[0m, in \u001b[0;36mSliceSampler._sample_from_conditional.<locals>.<lambda>\u001b[0;34m(t)\u001b[0m\n\u001b[1;32m    184\u001b[0m \u001b[38;5;28;01massert\u001b[39;00m \u001b[38;5;28mself\u001b[39m\u001b[38;5;241m.\u001b[39mwidth \u001b[38;5;129;01mis\u001b[39;00m \u001b[38;5;129;01mnot\u001b[39;00m \u001b[38;5;28;01mNone\u001b[39;00m, \u001b[38;5;124m\"\u001b[39m\u001b[38;5;124mChain not initialized.\u001b[39m\u001b[38;5;124m\"\u001b[39m\n\u001b[1;32m    186\u001b[0m \u001b[38;5;66;03m# conditional log prob\u001b[39;00m\n\u001b[0;32m--> 187\u001b[0m Li \u001b[38;5;241m=\u001b[39m \u001b[38;5;28;01mlambda\u001b[39;00m t: \u001b[38;5;28;43mself\u001b[39;49m\u001b[38;5;241;43m.\u001b[39;49m\u001b[43mlp_f\u001b[49m\u001b[43m(\u001b[49m\u001b[43mnp\u001b[49m\u001b[38;5;241;43m.\u001b[39;49m\u001b[43mconcatenate\u001b[49m\u001b[43m(\u001b[49m\u001b[43m[\u001b[49m\u001b[38;5;28;43mself\u001b[39;49m\u001b[38;5;241;43m.\u001b[39;49m\u001b[43mx\u001b[49m\u001b[43m[\u001b[49m\u001b[43m:\u001b[49m\u001b[43mi\u001b[49m\u001b[43m]\u001b[49m\u001b[43m,\u001b[49m\u001b[43m \u001b[49m\u001b[43m[\u001b[49m\u001b[43mt\u001b[49m\u001b[43m]\u001b[49m\u001b[43m,\u001b[49m\u001b[43m \u001b[49m\u001b[38;5;28;43mself\u001b[39;49m\u001b[38;5;241;43m.\u001b[39;49m\u001b[43mx\u001b[49m\u001b[43m[\u001b[49m\u001b[43mi\u001b[49m\u001b[43m \u001b[49m\u001b[38;5;241;43m+\u001b[39;49m\u001b[43m \u001b[49m\u001b[38;5;241;43m1\u001b[39;49m\u001b[43m \u001b[49m\u001b[43m:\u001b[49m\u001b[43m]\u001b[49m\u001b[43m]\u001b[49m\u001b[43m)\u001b[49m\u001b[43m)\u001b[49m\n\u001b[1;32m    188\u001b[0m wi \u001b[38;5;241m=\u001b[39m \u001b[38;5;28mself\u001b[39m\u001b[38;5;241m.\u001b[39mwidth[i]\n\u001b[1;32m    190\u001b[0m \u001b[38;5;66;03m# sample a slice uniformly\u001b[39;00m\n",
      "File \u001b[0;32m~/sbi/sbi/inference/posteriors/mcmc_posterior.py:592\u001b[0m, in \u001b[0;36mMCMCPosterior._slice_np_mcmc.<locals>.multi_obs_potential\u001b[0;34m(params)\u001b[0m\n\u001b[1;32m    586\u001b[0m \u001b[38;5;28;01mdef\u001b[39;00m \u001b[38;5;21mmulti_obs_potential\u001b[39m(params):\n\u001b[1;32m    587\u001b[0m     \u001b[38;5;66;03m# Params are of shape (num_chains * num_obs, event).\u001b[39;00m\n\u001b[1;32m    588\u001b[0m     \u001b[38;5;66;03m# We now reshape them to (num_chains, num_obs, event).\u001b[39;00m\n\u001b[1;32m    589\u001b[0m     \u001b[38;5;66;03m# params = np.reshape(params, (num_chains, num_obs, -1))\u001b[39;00m\n\u001b[1;32m    590\u001b[0m \n\u001b[1;32m    591\u001b[0m     \u001b[38;5;66;03m# `all_potentials` is of shape (num_chains, num_obs).\u001b[39;00m\n\u001b[0;32m--> 592\u001b[0m     all_potentials \u001b[38;5;241m=\u001b[39m \u001b[43mpotential_function\u001b[49m\u001b[43m(\u001b[49m\u001b[43mparams\u001b[49m\u001b[43m)\u001b[49m\n\u001b[1;32m    593\u001b[0m     \u001b[38;5;28;01mreturn\u001b[39;00m all_potentials\u001b[38;5;241m.\u001b[39mflatten()\n",
      "File \u001b[0;32m~/sbi/sbi/utils/potentialutils.py:44\u001b[0m, in \u001b[0;36mtransformed_potential\u001b[0;34m(theta, potential_fn, theta_transform, device, track_gradients)\u001b[0m\n\u001b[1;32m     41\u001b[0m theta \u001b[38;5;241m=\u001b[39m theta_transform\u001b[38;5;241m.\u001b[39minv(transformed_theta)  \u001b[38;5;66;03m# type: ignore\u001b[39;00m\n\u001b[1;32m     42\u001b[0m log_abs_det \u001b[38;5;241m=\u001b[39m theta_transform\u001b[38;5;241m.\u001b[39mlog_abs_det_jacobian(theta, transformed_theta)\n\u001b[0;32m---> 44\u001b[0m posterior_potential \u001b[38;5;241m=\u001b[39m \u001b[43mpotential_fn\u001b[49m\u001b[43m(\u001b[49m\u001b[43mtheta\u001b[49m\u001b[43m,\u001b[49m\u001b[43m \u001b[49m\u001b[43mtrack_gradients\u001b[49m\u001b[38;5;241;43m=\u001b[39;49m\u001b[43mtrack_gradients\u001b[49m\u001b[43m)\u001b[49m\n\u001b[1;32m     45\u001b[0m posterior_potential_transformed \u001b[38;5;241m=\u001b[39m posterior_potential \u001b[38;5;241m-\u001b[39m log_abs_det\n\u001b[1;32m     46\u001b[0m \u001b[38;5;28;01mreturn\u001b[39;00m posterior_potential_transformed\n",
      "File \u001b[0;32m~/sbi/sbi/inference/potentials/likelihood_based_potential.py:95\u001b[0m, in \u001b[0;36mLikelihoodBasedPotential.__call__\u001b[0;34m(self, theta, track_gradients)\u001b[0m\n\u001b[1;32m     84\u001b[0m \u001b[38;5;250m\u001b[39m\u001b[38;5;124mr\u001b[39m\u001b[38;5;124;03m\"\"\"Returns the potential $\\log(p(x_o|\\theta)p(\\theta))$.\u001b[39;00m\n\u001b[1;32m     85\u001b[0m \n\u001b[1;32m     86\u001b[0m \u001b[38;5;124;03mArgs:\u001b[39;00m\n\u001b[0;32m   (...)\u001b[0m\n\u001b[1;32m     91\u001b[0m \u001b[38;5;124;03m    The potential $\\log(p(x_o|\\theta)p(\\theta))$.\u001b[39;00m\n\u001b[1;32m     92\u001b[0m \u001b[38;5;124;03m\"\"\"\u001b[39;00m\n\u001b[1;32m     94\u001b[0m \u001b[38;5;66;03m# Calculate likelihood over trials and in one batch.\u001b[39;00m\n\u001b[0;32m---> 95\u001b[0m log_likelihood_trial_sum \u001b[38;5;241m=\u001b[39m \u001b[43m_log_likelihoods_over_trials\u001b[49m\u001b[43m(\u001b[49m\n\u001b[1;32m     96\u001b[0m \u001b[43m    \u001b[49m\u001b[43mx\u001b[49m\u001b[38;5;241;43m=\u001b[39;49m\u001b[38;5;28;43mself\u001b[39;49m\u001b[38;5;241;43m.\u001b[39;49m\u001b[43mx_o\u001b[49m\u001b[43m,\u001b[49m\n\u001b[1;32m     97\u001b[0m \u001b[43m    \u001b[49m\u001b[43mtheta\u001b[49m\u001b[38;5;241;43m=\u001b[39;49m\u001b[43mtheta\u001b[49m\u001b[38;5;241;43m.\u001b[39;49m\u001b[43mto\u001b[49m\u001b[43m(\u001b[49m\u001b[38;5;28;43mself\u001b[39;49m\u001b[38;5;241;43m.\u001b[39;49m\u001b[43mdevice\u001b[49m\u001b[43m)\u001b[49m\u001b[43m,\u001b[49m\n\u001b[1;32m     98\u001b[0m \u001b[43m    \u001b[49m\u001b[43mestimator\u001b[49m\u001b[38;5;241;43m=\u001b[39;49m\u001b[38;5;28;43mself\u001b[39;49m\u001b[38;5;241;43m.\u001b[39;49m\u001b[43mlikelihood_estimator\u001b[49m\u001b[43m,\u001b[49m\n\u001b[1;32m     99\u001b[0m \u001b[43m    \u001b[49m\u001b[43mtrack_gradients\u001b[49m\u001b[38;5;241;43m=\u001b[39;49m\u001b[43mtrack_gradients\u001b[49m\u001b[43m,\u001b[49m\n\u001b[1;32m    100\u001b[0m \u001b[43m\u001b[49m\u001b[43m)\u001b[49m\n\u001b[1;32m    102\u001b[0m \u001b[38;5;28;01mreturn\u001b[39;00m log_likelihood_trial_sum \u001b[38;5;241m+\u001b[39m \u001b[38;5;28mself\u001b[39m\u001b[38;5;241m.\u001b[39mprior\u001b[38;5;241m.\u001b[39mlog_prob(theta)\n",
      "File \u001b[0;32m~/sbi/sbi/inference/potentials/likelihood_based_potential.py:151\u001b[0m, in \u001b[0;36m_log_likelihoods_over_trials\u001b[0;34m(x, theta, estimator, track_gradients)\u001b[0m\n\u001b[1;32m    149\u001b[0m \u001b[38;5;66;03m# Calculate likelihood in one batch.\u001b[39;00m\n\u001b[1;32m    150\u001b[0m \u001b[38;5;28;01mwith\u001b[39;00m torch\u001b[38;5;241m.\u001b[39mset_grad_enabled(track_gradients):\n\u001b[0;32m--> 151\u001b[0m     log_likelihood_trial_batch \u001b[38;5;241m=\u001b[39m \u001b[43mestimator\u001b[49m\u001b[38;5;241;43m.\u001b[39;49m\u001b[43mlog_prob\u001b[49m\u001b[43m(\u001b[49m\u001b[43mx\u001b[49m\u001b[43m,\u001b[49m\u001b[43m \u001b[49m\u001b[43mcondition\u001b[49m\u001b[38;5;241;43m=\u001b[39;49m\u001b[43mtheta\u001b[49m\u001b[43m)\u001b[49m\n\u001b[1;32m    152\u001b[0m     \u001b[38;5;66;03m# Sum over trial-log likelihoods.\u001b[39;00m\n\u001b[1;32m    153\u001b[0m     log_likelihood_trial_sum \u001b[38;5;241m=\u001b[39m log_likelihood_trial_batch\u001b[38;5;241m.\u001b[39msum(\u001b[38;5;241m0\u001b[39m)\n",
      "File \u001b[0;32m~/sbi/sbi/neural_nets/density_estimators/nflows_flow.py:109\u001b[0m, in \u001b[0;36mNFlowsFlow.log_prob\u001b[0;34m(self, input, condition)\u001b[0m\n\u001b[1;32m    106\u001b[0m ones_for_event_dims \u001b[38;5;241m=\u001b[39m (\u001b[38;5;241m1\u001b[39m,) \u001b[38;5;241m*\u001b[39m condition_event_dims  \u001b[38;5;66;03m# Tuple of 1s, e.g. (1, 1, 1)\u001b[39;00m\n\u001b[1;32m    107\u001b[0m condition \u001b[38;5;241m=\u001b[39m condition\u001b[38;5;241m.\u001b[39mrepeat(input_sample_dim, \u001b[38;5;241m*\u001b[39mones_for_event_dims)\n\u001b[0;32m--> 109\u001b[0m log_probs \u001b[38;5;241m=\u001b[39m \u001b[38;5;28;43mself\u001b[39;49m\u001b[38;5;241;43m.\u001b[39;49m\u001b[43mnet\u001b[49m\u001b[38;5;241;43m.\u001b[39;49m\u001b[43mlog_prob\u001b[49m\u001b[43m(\u001b[49m\u001b[38;5;28;43minput\u001b[39;49m\u001b[43m,\u001b[49m\u001b[43m \u001b[49m\u001b[43mcontext\u001b[49m\u001b[38;5;241;43m=\u001b[39;49m\u001b[43mcondition\u001b[49m\u001b[43m)\u001b[49m\n\u001b[1;32m    110\u001b[0m \u001b[38;5;28;01mreturn\u001b[39;00m log_probs\u001b[38;5;241m.\u001b[39mreshape((input_sample_dim, input_batch_dim))\n",
      "File \u001b[0;32m~/miniconda3/envs/sbi3/lib/python3.11/site-packages/nflows/distributions/base.py:40\u001b[0m, in \u001b[0;36mDistribution.log_prob\u001b[0;34m(self, inputs, context)\u001b[0m\n\u001b[1;32m     36\u001b[0m     \u001b[38;5;28;01mif\u001b[39;00m inputs\u001b[38;5;241m.\u001b[39mshape[\u001b[38;5;241m0\u001b[39m] \u001b[38;5;241m!=\u001b[39m context\u001b[38;5;241m.\u001b[39mshape[\u001b[38;5;241m0\u001b[39m]:\n\u001b[1;32m     37\u001b[0m         \u001b[38;5;28;01mraise\u001b[39;00m \u001b[38;5;167;01mValueError\u001b[39;00m(\n\u001b[1;32m     38\u001b[0m             \u001b[38;5;124m\"\u001b[39m\u001b[38;5;124mNumber of input items must be equal to number of context items.\u001b[39m\u001b[38;5;124m\"\u001b[39m\n\u001b[1;32m     39\u001b[0m         )\n\u001b[0;32m---> 40\u001b[0m \u001b[38;5;28;01mreturn\u001b[39;00m \u001b[38;5;28;43mself\u001b[39;49m\u001b[38;5;241;43m.\u001b[39;49m\u001b[43m_log_prob\u001b[49m\u001b[43m(\u001b[49m\u001b[43minputs\u001b[49m\u001b[43m,\u001b[49m\u001b[43m \u001b[49m\u001b[43mcontext\u001b[49m\u001b[43m)\u001b[49m\n",
      "File \u001b[0;32m~/miniconda3/envs/sbi3/lib/python3.11/site-packages/nflows/flows/base.py:39\u001b[0m, in \u001b[0;36mFlow._log_prob\u001b[0;34m(self, inputs, context)\u001b[0m\n\u001b[1;32m     37\u001b[0m \u001b[38;5;28;01mdef\u001b[39;00m \u001b[38;5;21m_log_prob\u001b[39m(\u001b[38;5;28mself\u001b[39m, inputs, context):\n\u001b[1;32m     38\u001b[0m     embedded_context \u001b[38;5;241m=\u001b[39m \u001b[38;5;28mself\u001b[39m\u001b[38;5;241m.\u001b[39m_embedding_net(context)\n\u001b[0;32m---> 39\u001b[0m     noise, logabsdet \u001b[38;5;241m=\u001b[39m \u001b[38;5;28;43mself\u001b[39;49m\u001b[38;5;241;43m.\u001b[39;49m\u001b[43m_transform\u001b[49m\u001b[43m(\u001b[49m\u001b[43minputs\u001b[49m\u001b[43m,\u001b[49m\u001b[43m \u001b[49m\u001b[43mcontext\u001b[49m\u001b[38;5;241;43m=\u001b[39;49m\u001b[43membedded_context\u001b[49m\u001b[43m)\u001b[49m\n\u001b[1;32m     40\u001b[0m     log_prob \u001b[38;5;241m=\u001b[39m \u001b[38;5;28mself\u001b[39m\u001b[38;5;241m.\u001b[39m_distribution\u001b[38;5;241m.\u001b[39mlog_prob(noise, context\u001b[38;5;241m=\u001b[39membedded_context)\n\u001b[1;32m     41\u001b[0m     \u001b[38;5;28;01mreturn\u001b[39;00m log_prob \u001b[38;5;241m+\u001b[39m logabsdet\n",
      "File \u001b[0;32m~/miniconda3/envs/sbi3/lib/python3.11/site-packages/torch/nn/modules/module.py:1511\u001b[0m, in \u001b[0;36mModule._wrapped_call_impl\u001b[0;34m(self, *args, **kwargs)\u001b[0m\n\u001b[1;32m   1509\u001b[0m     \u001b[38;5;28;01mreturn\u001b[39;00m \u001b[38;5;28mself\u001b[39m\u001b[38;5;241m.\u001b[39m_compiled_call_impl(\u001b[38;5;241m*\u001b[39margs, \u001b[38;5;241m*\u001b[39m\u001b[38;5;241m*\u001b[39mkwargs)  \u001b[38;5;66;03m# type: ignore[misc]\u001b[39;00m\n\u001b[1;32m   1510\u001b[0m \u001b[38;5;28;01melse\u001b[39;00m:\n\u001b[0;32m-> 1511\u001b[0m     \u001b[38;5;28;01mreturn\u001b[39;00m \u001b[38;5;28;43mself\u001b[39;49m\u001b[38;5;241;43m.\u001b[39;49m\u001b[43m_call_impl\u001b[49m\u001b[43m(\u001b[49m\u001b[38;5;241;43m*\u001b[39;49m\u001b[43margs\u001b[49m\u001b[43m,\u001b[49m\u001b[43m \u001b[49m\u001b[38;5;241;43m*\u001b[39;49m\u001b[38;5;241;43m*\u001b[39;49m\u001b[43mkwargs\u001b[49m\u001b[43m)\u001b[49m\n",
      "File \u001b[0;32m~/miniconda3/envs/sbi3/lib/python3.11/site-packages/torch/nn/modules/module.py:1520\u001b[0m, in \u001b[0;36mModule._call_impl\u001b[0;34m(self, *args, **kwargs)\u001b[0m\n\u001b[1;32m   1515\u001b[0m \u001b[38;5;66;03m# If we don't have any hooks, we want to skip the rest of the logic in\u001b[39;00m\n\u001b[1;32m   1516\u001b[0m \u001b[38;5;66;03m# this function, and just call forward.\u001b[39;00m\n\u001b[1;32m   1517\u001b[0m \u001b[38;5;28;01mif\u001b[39;00m \u001b[38;5;129;01mnot\u001b[39;00m (\u001b[38;5;28mself\u001b[39m\u001b[38;5;241m.\u001b[39m_backward_hooks \u001b[38;5;129;01mor\u001b[39;00m \u001b[38;5;28mself\u001b[39m\u001b[38;5;241m.\u001b[39m_backward_pre_hooks \u001b[38;5;129;01mor\u001b[39;00m \u001b[38;5;28mself\u001b[39m\u001b[38;5;241m.\u001b[39m_forward_hooks \u001b[38;5;129;01mor\u001b[39;00m \u001b[38;5;28mself\u001b[39m\u001b[38;5;241m.\u001b[39m_forward_pre_hooks\n\u001b[1;32m   1518\u001b[0m         \u001b[38;5;129;01mor\u001b[39;00m _global_backward_pre_hooks \u001b[38;5;129;01mor\u001b[39;00m _global_backward_hooks\n\u001b[1;32m   1519\u001b[0m         \u001b[38;5;129;01mor\u001b[39;00m _global_forward_hooks \u001b[38;5;129;01mor\u001b[39;00m _global_forward_pre_hooks):\n\u001b[0;32m-> 1520\u001b[0m     \u001b[38;5;28;01mreturn\u001b[39;00m \u001b[43mforward_call\u001b[49m\u001b[43m(\u001b[49m\u001b[38;5;241;43m*\u001b[39;49m\u001b[43margs\u001b[49m\u001b[43m,\u001b[49m\u001b[43m \u001b[49m\u001b[38;5;241;43m*\u001b[39;49m\u001b[38;5;241;43m*\u001b[39;49m\u001b[43mkwargs\u001b[49m\u001b[43m)\u001b[49m\n\u001b[1;32m   1522\u001b[0m \u001b[38;5;28;01mtry\u001b[39;00m:\n\u001b[1;32m   1523\u001b[0m     result \u001b[38;5;241m=\u001b[39m \u001b[38;5;28;01mNone\u001b[39;00m\n",
      "File \u001b[0;32m~/miniconda3/envs/sbi3/lib/python3.11/site-packages/nflows/transforms/base.py:56\u001b[0m, in \u001b[0;36mCompositeTransform.forward\u001b[0;34m(self, inputs, context)\u001b[0m\n\u001b[1;32m     54\u001b[0m \u001b[38;5;28;01mdef\u001b[39;00m \u001b[38;5;21mforward\u001b[39m(\u001b[38;5;28mself\u001b[39m, inputs, context\u001b[38;5;241m=\u001b[39m\u001b[38;5;28;01mNone\u001b[39;00m):\n\u001b[1;32m     55\u001b[0m     funcs \u001b[38;5;241m=\u001b[39m \u001b[38;5;28mself\u001b[39m\u001b[38;5;241m.\u001b[39m_transforms\n\u001b[0;32m---> 56\u001b[0m     \u001b[38;5;28;01mreturn\u001b[39;00m \u001b[38;5;28;43mself\u001b[39;49m\u001b[38;5;241;43m.\u001b[39;49m\u001b[43m_cascade\u001b[49m\u001b[43m(\u001b[49m\u001b[43minputs\u001b[49m\u001b[43m,\u001b[49m\u001b[43m \u001b[49m\u001b[43mfuncs\u001b[49m\u001b[43m,\u001b[49m\u001b[43m \u001b[49m\u001b[43mcontext\u001b[49m\u001b[43m)\u001b[49m\n",
      "File \u001b[0;32m~/miniconda3/envs/sbi3/lib/python3.11/site-packages/nflows/transforms/base.py:50\u001b[0m, in \u001b[0;36mCompositeTransform._cascade\u001b[0;34m(inputs, funcs, context)\u001b[0m\n\u001b[1;32m     48\u001b[0m total_logabsdet \u001b[38;5;241m=\u001b[39m inputs\u001b[38;5;241m.\u001b[39mnew_zeros(batch_size)\n\u001b[1;32m     49\u001b[0m \u001b[38;5;28;01mfor\u001b[39;00m func \u001b[38;5;129;01min\u001b[39;00m funcs:\n\u001b[0;32m---> 50\u001b[0m     outputs, logabsdet \u001b[38;5;241m=\u001b[39m \u001b[43mfunc\u001b[49m\u001b[43m(\u001b[49m\u001b[43moutputs\u001b[49m\u001b[43m,\u001b[49m\u001b[43m \u001b[49m\u001b[43mcontext\u001b[49m\u001b[43m)\u001b[49m\n\u001b[1;32m     51\u001b[0m     total_logabsdet \u001b[38;5;241m+\u001b[39m\u001b[38;5;241m=\u001b[39m logabsdet\n\u001b[1;32m     52\u001b[0m \u001b[38;5;28;01mreturn\u001b[39;00m outputs, total_logabsdet\n",
      "File \u001b[0;32m~/miniconda3/envs/sbi3/lib/python3.11/site-packages/torch/nn/modules/module.py:1511\u001b[0m, in \u001b[0;36mModule._wrapped_call_impl\u001b[0;34m(self, *args, **kwargs)\u001b[0m\n\u001b[1;32m   1509\u001b[0m     \u001b[38;5;28;01mreturn\u001b[39;00m \u001b[38;5;28mself\u001b[39m\u001b[38;5;241m.\u001b[39m_compiled_call_impl(\u001b[38;5;241m*\u001b[39margs, \u001b[38;5;241m*\u001b[39m\u001b[38;5;241m*\u001b[39mkwargs)  \u001b[38;5;66;03m# type: ignore[misc]\u001b[39;00m\n\u001b[1;32m   1510\u001b[0m \u001b[38;5;28;01melse\u001b[39;00m:\n\u001b[0;32m-> 1511\u001b[0m     \u001b[38;5;28;01mreturn\u001b[39;00m \u001b[38;5;28;43mself\u001b[39;49m\u001b[38;5;241;43m.\u001b[39;49m\u001b[43m_call_impl\u001b[49m\u001b[43m(\u001b[49m\u001b[38;5;241;43m*\u001b[39;49m\u001b[43margs\u001b[49m\u001b[43m,\u001b[49m\u001b[43m \u001b[49m\u001b[38;5;241;43m*\u001b[39;49m\u001b[38;5;241;43m*\u001b[39;49m\u001b[43mkwargs\u001b[49m\u001b[43m)\u001b[49m\n",
      "File \u001b[0;32m~/miniconda3/envs/sbi3/lib/python3.11/site-packages/torch/nn/modules/module.py:1520\u001b[0m, in \u001b[0;36mModule._call_impl\u001b[0;34m(self, *args, **kwargs)\u001b[0m\n\u001b[1;32m   1515\u001b[0m \u001b[38;5;66;03m# If we don't have any hooks, we want to skip the rest of the logic in\u001b[39;00m\n\u001b[1;32m   1516\u001b[0m \u001b[38;5;66;03m# this function, and just call forward.\u001b[39;00m\n\u001b[1;32m   1517\u001b[0m \u001b[38;5;28;01mif\u001b[39;00m \u001b[38;5;129;01mnot\u001b[39;00m (\u001b[38;5;28mself\u001b[39m\u001b[38;5;241m.\u001b[39m_backward_hooks \u001b[38;5;129;01mor\u001b[39;00m \u001b[38;5;28mself\u001b[39m\u001b[38;5;241m.\u001b[39m_backward_pre_hooks \u001b[38;5;129;01mor\u001b[39;00m \u001b[38;5;28mself\u001b[39m\u001b[38;5;241m.\u001b[39m_forward_hooks \u001b[38;5;129;01mor\u001b[39;00m \u001b[38;5;28mself\u001b[39m\u001b[38;5;241m.\u001b[39m_forward_pre_hooks\n\u001b[1;32m   1518\u001b[0m         \u001b[38;5;129;01mor\u001b[39;00m _global_backward_pre_hooks \u001b[38;5;129;01mor\u001b[39;00m _global_backward_hooks\n\u001b[1;32m   1519\u001b[0m         \u001b[38;5;129;01mor\u001b[39;00m _global_forward_hooks \u001b[38;5;129;01mor\u001b[39;00m _global_forward_pre_hooks):\n\u001b[0;32m-> 1520\u001b[0m     \u001b[38;5;28;01mreturn\u001b[39;00m \u001b[43mforward_call\u001b[49m\u001b[43m(\u001b[49m\u001b[38;5;241;43m*\u001b[39;49m\u001b[43margs\u001b[49m\u001b[43m,\u001b[49m\u001b[43m \u001b[49m\u001b[38;5;241;43m*\u001b[39;49m\u001b[38;5;241;43m*\u001b[39;49m\u001b[43mkwargs\u001b[49m\u001b[43m)\u001b[49m\n\u001b[1;32m   1522\u001b[0m \u001b[38;5;28;01mtry\u001b[39;00m:\n\u001b[1;32m   1523\u001b[0m     result \u001b[38;5;241m=\u001b[39m \u001b[38;5;28;01mNone\u001b[39;00m\n",
      "File \u001b[0;32m~/miniconda3/envs/sbi3/lib/python3.11/site-packages/nflows/transforms/autoregressive.py:39\u001b[0m, in \u001b[0;36mAutoregressiveTransform.forward\u001b[0;34m(self, inputs, context)\u001b[0m\n\u001b[1;32m     37\u001b[0m \u001b[38;5;28;01mdef\u001b[39;00m \u001b[38;5;21mforward\u001b[39m(\u001b[38;5;28mself\u001b[39m, inputs, context\u001b[38;5;241m=\u001b[39m\u001b[38;5;28;01mNone\u001b[39;00m):\n\u001b[1;32m     38\u001b[0m     autoregressive_params \u001b[38;5;241m=\u001b[39m \u001b[38;5;28mself\u001b[39m\u001b[38;5;241m.\u001b[39mautoregressive_net(inputs, context)\n\u001b[0;32m---> 39\u001b[0m     outputs, logabsdet \u001b[38;5;241m=\u001b[39m \u001b[38;5;28;43mself\u001b[39;49m\u001b[38;5;241;43m.\u001b[39;49m\u001b[43m_elementwise_forward\u001b[49m\u001b[43m(\u001b[49m\u001b[43minputs\u001b[49m\u001b[43m,\u001b[49m\u001b[43m \u001b[49m\u001b[43mautoregressive_params\u001b[49m\u001b[43m)\u001b[49m\n\u001b[1;32m     40\u001b[0m     \u001b[38;5;28;01mreturn\u001b[39;00m outputs, logabsdet\n",
      "File \u001b[0;32m~/miniconda3/envs/sbi3/lib/python3.11/site-packages/nflows/transforms/autoregressive.py:100\u001b[0m, in \u001b[0;36mMaskedAffineAutoregressiveTransform._elementwise_forward\u001b[0;34m(self, inputs, autoregressive_params)\u001b[0m\n\u001b[1;32m     96\u001b[0m unconstrained_scale, shift \u001b[38;5;241m=\u001b[39m \u001b[38;5;28mself\u001b[39m\u001b[38;5;241m.\u001b[39m_unconstrained_scale_and_shift(\n\u001b[1;32m     97\u001b[0m     autoregressive_params\n\u001b[1;32m     98\u001b[0m )\n\u001b[1;32m     99\u001b[0m \u001b[38;5;66;03m# scale = torch.sigmoid(unconstrained_scale + 2.0) + self._epsilon\u001b[39;00m\n\u001b[0;32m--> 100\u001b[0m scale \u001b[38;5;241m=\u001b[39m \u001b[43mF\u001b[49m\u001b[38;5;241;43m.\u001b[39;49m\u001b[43msoftplus\u001b[49m\u001b[43m(\u001b[49m\u001b[43munconstrained_scale\u001b[49m\u001b[43m)\u001b[49m \u001b[38;5;241m+\u001b[39m \u001b[38;5;28mself\u001b[39m\u001b[38;5;241m.\u001b[39m_epsilon\n\u001b[1;32m    101\u001b[0m log_scale \u001b[38;5;241m=\u001b[39m torch\u001b[38;5;241m.\u001b[39mlog(scale)\n\u001b[1;32m    102\u001b[0m outputs \u001b[38;5;241m=\u001b[39m scale \u001b[38;5;241m*\u001b[39m inputs \u001b[38;5;241m+\u001b[39m shift\n",
      "\u001b[0;31mKeyboardInterrupt\u001b[0m: "
     ]
    }
   ],
   "source": [
    "posterior.sample((100000,), x=torch.zeros(3)).shape"
   ]
  },
  {
   "cell_type": "code",
   "execution_count": null,
   "metadata": {},
   "outputs": [],
   "source": [
    "observation = torch.ones(3)"
   ]
  },
  {
   "cell_type": "code",
   "execution_count": null,
   "metadata": {},
   "outputs": [
    {
     "data": {
      "application/vnd.jupyter.widget-view+json": {
       "model_id": "6207cc805cb04b7dbc8c5413f30e41fb",
       "version_major": 2,
       "version_minor": 0
      },
      "text/plain": [
       "Drawing 1000 posterior samples:   0%|          | 0/1000 [00:00<?, ?it/s]"
      ]
     },
     "metadata": {},
     "output_type": "display_data"
    }
   ],
   "source": [
    "posterior_samples = posterior.sample_batched((1000,), x=observation)"
   ]
  },
  {
   "cell_type": "code",
   "execution_count": null,
   "metadata": {},
   "outputs": [
    {
     "data": {
      "text/plain": [
       "torch.Size([1000, 1, 3])"
      ]
     },
     "execution_count": 19,
     "metadata": {},
     "output_type": "execute_result"
    }
   ],
   "source": [
    "posterior_samples.shape"
   ]
  },
  {
   "cell_type": "code",
   "execution_count": null,
   "metadata": {},
   "outputs": [
    {
     "name": "stdout",
     "output_type": "stream",
     "text": [
      "torch.Size([1, 3])\n"
     ]
    },
    {
     "data": {
      "text/plain": [
       "torch.Size([1000, 1])"
      ]
     },
     "execution_count": 20,
     "metadata": {},
     "output_type": "execute_result"
    }
   ],
   "source": [
    "posterior.log_prob_batched(posterior_samples, x=observation).shape"
   ]
  },
  {
   "cell_type": "code",
   "execution_count": 21,
   "metadata": {},
   "outputs": [
    {
     "name": "stdout",
     "output_type": "stream",
     "text": [
      "torch.Size([1, 3])\n"
     ]
    },
    {
     "data": {
      "text/plain": [
       "torch.Size([1000, 1])"
      ]
     },
     "execution_count": 21,
     "metadata": {},
     "output_type": "execute_result"
    }
   ],
   "source": [
    "posterior.log_prob_batched(posterior_samples, x=observation).shape"
   ]
  },
  {
   "cell_type": "code",
   "execution_count": 15,
   "metadata": {},
   "outputs": [
    {
     "data": {
      "text/plain": [
       "torch.Size([1000, 1, 3])"
      ]
     },
     "execution_count": 15,
     "metadata": {},
     "output_type": "execute_result"
    }
   ],
   "source": [
    "posterior_samples.shape"
   ]
  },
  {
   "cell_type": "code",
   "execution_count": 14,
   "metadata": {},
   "outputs": [
    {
     "data": {
      "text/plain": [
       "tensor([[ 3.2115e+00],\n",
       "        [ 3.3251e+00],\n",
       "        [-8.1589e-01],\n",
       "        [ 2.1335e+00],\n",
       "        [ 3.3642e+00],\n",
       "        [ 3.5596e+00],\n",
       "        [ 2.5018e+00],\n",
       "        [ 1.6941e+00],\n",
       "        [ 2.0254e+00],\n",
       "        [ 2.5706e+00],\n",
       "        [-1.1574e+00],\n",
       "        [ 1.7518e+00],\n",
       "        [ 1.0811e+00],\n",
       "        [ 2.0845e+00],\n",
       "        [ 3.8704e+00],\n",
       "        [ 3.3941e+00],\n",
       "        [ 4.3088e-01],\n",
       "        [ 3.9793e+00],\n",
       "        [ 3.6628e+00],\n",
       "        [ 3.4932e+00],\n",
       "        [ 2.6633e+00],\n",
       "        [ 2.9332e+00],\n",
       "        [ 3.7385e+00],\n",
       "        [ 3.4523e+00],\n",
       "        [ 3.6666e+00],\n",
       "        [ 3.3699e+00],\n",
       "        [ 4.1876e+00],\n",
       "        [ 3.6965e+00],\n",
       "        [ 3.5368e+00],\n",
       "        [ 2.9084e+00],\n",
       "        [-3.4667e-01],\n",
       "        [ 3.6774e+00],\n",
       "        [ 3.5569e+00],\n",
       "        [ 2.0696e+00],\n",
       "        [ 2.8649e+00],\n",
       "        [ 3.0434e+00],\n",
       "        [-3.9730e+00],\n",
       "        [ 3.5918e+00],\n",
       "        [ 3.3842e+00],\n",
       "        [ 3.6109e+00],\n",
       "        [ 3.7828e+00],\n",
       "        [ 3.5782e+00],\n",
       "        [ 2.3492e+00],\n",
       "        [ 1.3461e+00],\n",
       "        [ 1.8596e+00],\n",
       "        [ 3.7375e+00],\n",
       "        [ 3.4223e+00],\n",
       "        [ 3.9361e+00],\n",
       "        [ 2.0295e+00],\n",
       "        [ 2.6656e+00],\n",
       "        [ 4.0904e+00],\n",
       "        [ 3.4732e+00],\n",
       "        [ 4.0507e+00],\n",
       "        [-2.4648e-01],\n",
       "        [ 2.8067e+00],\n",
       "        [ 2.4555e+00],\n",
       "        [ 4.1386e+00],\n",
       "        [ 2.9926e+00],\n",
       "        [ 3.7400e+00],\n",
       "        [ 2.0806e+00],\n",
       "        [ 3.3481e+00],\n",
       "        [ 3.5296e+00],\n",
       "        [ 3.0888e+00],\n",
       "        [ 8.3429e-01],\n",
       "        [-5.0113e+00],\n",
       "        [ 1.0231e+00],\n",
       "        [ 2.2608e+00],\n",
       "        [ 1.3881e+00],\n",
       "        [-1.8436e+00],\n",
       "        [ 2.7875e+00],\n",
       "        [ 9.7802e-01],\n",
       "        [ 3.2665e+00],\n",
       "        [ 1.3293e+00],\n",
       "        [ 2.6094e+00],\n",
       "        [-2.0566e-02],\n",
       "        [ 3.2293e+00],\n",
       "        [ 4.0246e+00],\n",
       "        [ 3.6524e+00],\n",
       "        [ 2.7747e+00],\n",
       "        [ 3.0416e+00],\n",
       "        [ 4.1078e+00],\n",
       "        [ 3.9842e+00],\n",
       "        [ 3.3945e+00],\n",
       "        [ 1.8166e+00],\n",
       "        [-7.6118e-01],\n",
       "        [ 2.6598e+00],\n",
       "        [ 3.1261e+00],\n",
       "        [ 4.0303e+00],\n",
       "        [ 3.8757e+00],\n",
       "        [ 1.1195e+00],\n",
       "        [ 3.5108e+00],\n",
       "        [ 2.6385e+00],\n",
       "        [ 4.1115e+00],\n",
       "        [ 3.9011e+00],\n",
       "        [ 2.7108e+00],\n",
       "        [ 3.0937e+00],\n",
       "        [ 3.3206e+00],\n",
       "        [ 3.6477e+00],\n",
       "        [ 3.6765e+00],\n",
       "        [-2.5454e+00],\n",
       "        [ 3.6371e+00],\n",
       "        [ 3.4598e+00],\n",
       "        [ 3.0938e+00],\n",
       "        [ 2.1555e+00],\n",
       "        [ 1.8190e+00],\n",
       "        [ 7.9549e-01],\n",
       "        [ 2.0221e+00],\n",
       "        [ 3.9321e+00],\n",
       "        [-1.3224e-01],\n",
       "        [ 8.9786e-01],\n",
       "        [ 8.8363e-01],\n",
       "        [ 3.9702e+00],\n",
       "        [ 2.7430e+00],\n",
       "        [ 3.0348e+00],\n",
       "        [ 3.4060e+00],\n",
       "        [ 2.5764e+00],\n",
       "        [-3.3078e-01],\n",
       "        [ 3.2765e+00],\n",
       "        [ 3.7258e+00],\n",
       "        [ 2.5243e+00],\n",
       "        [ 2.9450e+00],\n",
       "        [ 1.7673e+00],\n",
       "        [ 3.7789e+00],\n",
       "        [ 4.0131e+00],\n",
       "        [ 3.7408e+00],\n",
       "        [ 8.9225e-01],\n",
       "        [ 3.1460e+00],\n",
       "        [ 2.3160e+00],\n",
       "        [ 3.7676e+00],\n",
       "        [ 3.5134e+00],\n",
       "        [ 3.2905e+00],\n",
       "        [ 3.0091e+00],\n",
       "        [ 3.8431e+00],\n",
       "        [ 3.8705e+00],\n",
       "        [ 3.5526e+00],\n",
       "        [ 3.2597e+00],\n",
       "        [ 2.9578e+00],\n",
       "        [ 4.0484e+00],\n",
       "        [ 2.7240e+00],\n",
       "        [ 2.5376e+00],\n",
       "        [ 2.0703e+00],\n",
       "        [ 2.1858e+00],\n",
       "        [ 2.6453e+00],\n",
       "        [-1.8928e+00],\n",
       "        [ 4.1459e+00],\n",
       "        [ 2.5371e+00],\n",
       "        [ 1.3700e+00],\n",
       "        [ 3.0976e+00],\n",
       "        [ 2.5282e+00],\n",
       "        [ 3.7127e+00],\n",
       "        [ 3.5500e+00],\n",
       "        [ 3.1362e+00],\n",
       "        [ 2.6999e+00],\n",
       "        [ 1.5216e+00],\n",
       "        [ 3.0511e+00],\n",
       "        [ 3.1092e+00],\n",
       "        [ 3.1927e+00],\n",
       "        [ 2.2698e+00],\n",
       "        [ 3.7296e+00],\n",
       "        [ 3.0322e+00],\n",
       "        [-1.5625e+00],\n",
       "        [ 2.1735e+00],\n",
       "        [ 3.8663e+00],\n",
       "        [ 3.7606e+00],\n",
       "        [ 1.1634e+00],\n",
       "        [ 3.0360e+00],\n",
       "        [ 2.9251e+00],\n",
       "        [ 3.3237e+00],\n",
       "        [ 4.1335e+00],\n",
       "        [ 2.9721e+00],\n",
       "        [ 2.8448e+00],\n",
       "        [ 3.2003e+00],\n",
       "        [ 2.9925e+00],\n",
       "        [ 3.6109e+00],\n",
       "        [ 3.0336e+00],\n",
       "        [ 2.5668e+00],\n",
       "        [ 2.9407e+00],\n",
       "        [ 2.7909e+00],\n",
       "        [ 3.9638e+00],\n",
       "        [ 2.5995e+00],\n",
       "        [-1.6459e+00],\n",
       "        [ 2.6777e+00],\n",
       "        [ 4.0302e+00],\n",
       "        [ 3.3158e+00],\n",
       "        [ 1.7260e+00],\n",
       "        [ 2.7073e+00],\n",
       "        [ 3.2727e+00],\n",
       "        [ 1.7618e+00],\n",
       "        [ 1.3657e+00],\n",
       "        [ 2.3019e+00],\n",
       "        [ 1.6697e+00],\n",
       "        [ 2.9110e+00],\n",
       "        [ 3.2735e+00],\n",
       "        [ 1.5512e-01],\n",
       "        [ 2.5368e+00],\n",
       "        [ 2.1837e+00],\n",
       "        [ 4.4388e-01],\n",
       "        [ 3.3924e+00],\n",
       "        [ 3.3243e+00],\n",
       "        [ 3.6524e+00],\n",
       "        [ 2.8117e+00],\n",
       "        [ 2.3046e+00],\n",
       "        [ 1.8827e+00],\n",
       "        [ 3.4127e+00],\n",
       "        [ 8.1601e-01],\n",
       "        [ 2.0032e-01],\n",
       "        [ 2.6447e+00],\n",
       "        [ 2.9453e+00],\n",
       "        [ 2.9433e+00],\n",
       "        [ 2.6117e+00],\n",
       "        [-3.0355e-01],\n",
       "        [ 4.9646e-01],\n",
       "        [ 3.4857e+00],\n",
       "        [ 1.9456e+00],\n",
       "        [ 2.5473e+00],\n",
       "        [ 1.9446e+00],\n",
       "        [ 2.8416e+00],\n",
       "        [ 3.9075e+00],\n",
       "        [ 3.2738e+00],\n",
       "        [ 5.5647e-01],\n",
       "        [ 2.0063e+00],\n",
       "        [ 3.3450e+00],\n",
       "        [ 2.4490e+00],\n",
       "        [ 2.0577e+00],\n",
       "        [ 3.0398e+00],\n",
       "        [ 3.7196e+00],\n",
       "        [ 3.5330e+00],\n",
       "        [ 3.2622e+00],\n",
       "        [ 1.1305e-01],\n",
       "        [ 1.9294e+00],\n",
       "        [ 9.9875e-01],\n",
       "        [ 2.8684e-01],\n",
       "        [ 3.7383e+00],\n",
       "        [ 2.5613e+00],\n",
       "        [ 2.8478e+00],\n",
       "        [ 1.3761e+00],\n",
       "        [ 4.1875e+00],\n",
       "        [ 3.0647e+00],\n",
       "        [ 4.0704e+00],\n",
       "        [ 4.1032e+00],\n",
       "        [ 2.7936e+00],\n",
       "        [ 3.5513e+00],\n",
       "        [ 1.0099e+00],\n",
       "        [ 3.3111e+00],\n",
       "        [ 2.9031e+00],\n",
       "        [ 3.9480e+00],\n",
       "        [ 3.2236e+00],\n",
       "        [ 3.9831e+00],\n",
       "        [ 3.0426e+00],\n",
       "        [ 3.4886e+00],\n",
       "        [-4.2885e-01],\n",
       "        [ 2.6723e-01],\n",
       "        [-5.8098e-01],\n",
       "        [ 3.6931e+00],\n",
       "        [ 2.6089e+00],\n",
       "        [ 2.5180e+00],\n",
       "        [ 1.6321e+00],\n",
       "        [ 3.1861e+00],\n",
       "        [ 1.5202e+00],\n",
       "        [ 3.0787e+00],\n",
       "        [ 1.8364e+00],\n",
       "        [ 1.2238e+00],\n",
       "        [ 3.8554e+00],\n",
       "        [ 2.2769e+00],\n",
       "        [ 1.5720e+00],\n",
       "        [ 3.3655e+00],\n",
       "        [ 4.0268e+00],\n",
       "        [ 1.4053e+00],\n",
       "        [ 2.1876e+00],\n",
       "        [ 3.6721e+00],\n",
       "        [ 2.1311e+00],\n",
       "        [ 3.2077e+00],\n",
       "        [ 3.5148e+00],\n",
       "        [ 3.9626e+00],\n",
       "        [ 2.0634e+00],\n",
       "        [ 3.1572e+00],\n",
       "        [ 2.4937e+00],\n",
       "        [ 3.3476e+00],\n",
       "        [ 3.8246e+00],\n",
       "        [ 1.5661e+00],\n",
       "        [ 3.0554e+00],\n",
       "        [ 2.9731e+00],\n",
       "        [ 1.4515e+00],\n",
       "        [ 1.6539e+00],\n",
       "        [ 3.1178e+00],\n",
       "        [ 2.6365e+00],\n",
       "        [ 3.0279e-01],\n",
       "        [ 4.0086e+00],\n",
       "        [ 3.9889e+00],\n",
       "        [ 3.7894e+00],\n",
       "        [ 1.8683e+00],\n",
       "        [ 3.0107e+00],\n",
       "        [ 3.3600e+00],\n",
       "        [ 4.0734e+00],\n",
       "        [ 1.7948e+00],\n",
       "        [ 2.1873e+00],\n",
       "        [ 1.7240e+00],\n",
       "        [ 3.1647e+00],\n",
       "        [ 2.7991e+00],\n",
       "        [ 1.4003e+00],\n",
       "        [-5.8452e-01],\n",
       "        [ 3.5276e+00],\n",
       "        [ 3.3692e+00],\n",
       "        [ 3.7349e+00],\n",
       "        [ 3.4111e+00],\n",
       "        [ 3.9690e+00],\n",
       "        [ 1.1386e+00],\n",
       "        [ 2.3104e+00],\n",
       "        [ 2.9303e+00],\n",
       "        [ 3.3705e+00],\n",
       "        [ 2.8213e+00],\n",
       "        [ 3.3658e+00],\n",
       "        [ 3.6220e+00],\n",
       "        [ 3.8456e+00],\n",
       "        [ 3.4554e+00],\n",
       "        [-1.4993e+00],\n",
       "        [ 4.0330e+00],\n",
       "        [ 1.7388e+00],\n",
       "        [ 1.2136e+00],\n",
       "        [ 1.7734e+00],\n",
       "        [ 3.4739e+00],\n",
       "        [ 2.8644e+00],\n",
       "        [ 1.5208e+00],\n",
       "        [ 3.0274e-01],\n",
       "        [ 2.9636e+00],\n",
       "        [ 1.2904e+00],\n",
       "        [-4.1152e-01],\n",
       "        [ 3.7480e+00],\n",
       "        [ 3.1920e+00],\n",
       "        [ 3.5017e+00],\n",
       "        [ 2.8090e+00],\n",
       "        [ 3.6098e+00],\n",
       "        [ 2.5447e+00],\n",
       "        [ 1.1274e+00],\n",
       "        [ 3.5636e+00],\n",
       "        [ 3.5087e+00],\n",
       "        [ 2.0565e+00],\n",
       "        [ 3.5949e+00],\n",
       "        [ 7.0373e-01],\n",
       "        [ 7.4944e-01],\n",
       "        [ 2.5100e+00],\n",
       "        [ 3.6811e+00],\n",
       "        [-5.7152e+00],\n",
       "        [ 1.2992e-01],\n",
       "        [ 3.5623e+00],\n",
       "        [ 2.7847e+00],\n",
       "        [ 3.2397e+00],\n",
       "        [ 8.4950e-01],\n",
       "        [ 2.7005e+00],\n",
       "        [ 1.4603e+00],\n",
       "        [ 2.8100e+00],\n",
       "        [ 4.1796e+00],\n",
       "        [ 2.1789e+00],\n",
       "        [-1.6064e+00],\n",
       "        [ 3.8176e+00],\n",
       "        [ 1.3069e+00],\n",
       "        [ 2.4091e+00],\n",
       "        [ 2.6483e+00],\n",
       "        [ 4.0355e+00],\n",
       "        [ 1.0997e+00],\n",
       "        [ 9.0877e-01],\n",
       "        [ 2.9328e+00],\n",
       "        [ 2.5172e+00],\n",
       "        [ 1.1391e+00],\n",
       "        [ 1.6105e+00],\n",
       "        [ 3.6713e+00],\n",
       "        [-1.8551e+00],\n",
       "        [ 3.2744e+00],\n",
       "        [ 2.4809e+00],\n",
       "        [ 2.5091e+00],\n",
       "        [ 2.8843e+00],\n",
       "        [ 3.2260e+00],\n",
       "        [ 3.6698e+00],\n",
       "        [ 2.1559e+00],\n",
       "        [ 4.1385e+00],\n",
       "        [ 3.2671e+00],\n",
       "        [ 3.3933e+00],\n",
       "        [ 1.7986e-02],\n",
       "        [ 3.5356e+00],\n",
       "        [-1.2754e+00],\n",
       "        [ 3.3053e+00],\n",
       "        [ 4.6382e-01],\n",
       "        [ 3.0222e+00],\n",
       "        [ 3.2873e+00],\n",
       "        [ 3.9132e+00],\n",
       "        [-2.0586e+00],\n",
       "        [ 4.0766e+00],\n",
       "        [ 2.7074e+00],\n",
       "        [ 1.3234e+00],\n",
       "        [ 2.2611e+00],\n",
       "        [ 3.2828e+00],\n",
       "        [ 4.0958e+00],\n",
       "        [ 1.9301e+00],\n",
       "        [ 3.0482e+00],\n",
       "        [ 3.8651e+00],\n",
       "        [ 2.7895e+00],\n",
       "        [ 1.3269e+00],\n",
       "        [ 3.6304e+00],\n",
       "        [ 3.9380e+00],\n",
       "        [ 2.9830e+00],\n",
       "        [ 1.5159e+00],\n",
       "        [ 1.7945e+00],\n",
       "        [ 3.3730e+00],\n",
       "        [ 2.4304e+00],\n",
       "        [ 3.4930e+00],\n",
       "        [ 3.8042e+00],\n",
       "        [ 1.0786e+00],\n",
       "        [ 3.0646e+00],\n",
       "        [ 8.9586e-01],\n",
       "        [ 3.5520e+00],\n",
       "        [-4.7155e-01],\n",
       "        [ 2.0834e+00],\n",
       "        [ 4.1077e+00],\n",
       "        [ 8.3015e-01],\n",
       "        [-1.3453e+00],\n",
       "        [ 3.9706e+00],\n",
       "        [ 1.7141e+00],\n",
       "        [ 3.2763e+00],\n",
       "        [ 1.2927e+00],\n",
       "        [ 3.4527e+00],\n",
       "        [ 3.8240e+00],\n",
       "        [ 1.1536e+00],\n",
       "        [ 4.0404e+00],\n",
       "        [ 2.5644e+00],\n",
       "        [ 2.0175e+00],\n",
       "        [ 3.8907e+00],\n",
       "        [ 3.8624e+00],\n",
       "        [ 3.7840e+00],\n",
       "        [ 4.1911e+00],\n",
       "        [ 3.4159e+00],\n",
       "        [ 2.1284e+00],\n",
       "        [ 3.4852e-01],\n",
       "        [-2.3171e+00],\n",
       "        [ 2.8990e+00],\n",
       "        [ 3.5882e+00],\n",
       "        [ 1.8634e+00],\n",
       "        [ 3.8219e+00],\n",
       "        [ 1.9325e+00],\n",
       "        [ 1.4874e+00],\n",
       "        [ 1.8369e+00],\n",
       "        [ 2.2868e+00],\n",
       "        [ 1.0060e+00],\n",
       "        [ 2.4521e+00],\n",
       "        [ 3.5438e+00],\n",
       "        [ 9.2609e-01],\n",
       "        [ 4.1199e+00],\n",
       "        [ 3.6258e+00],\n",
       "        [ 2.8173e+00],\n",
       "        [ 2.0613e+00],\n",
       "        [ 3.1566e+00],\n",
       "        [ 3.3910e+00],\n",
       "        [ 2.4252e+00],\n",
       "        [ 3.2325e+00],\n",
       "        [ 4.0463e+00],\n",
       "        [ 2.4890e+00],\n",
       "        [ 3.8854e+00],\n",
       "        [ 2.8487e+00],\n",
       "        [ 3.9595e+00],\n",
       "        [ 2.4073e+00],\n",
       "        [ 3.1697e+00],\n",
       "        [ 3.2346e+00],\n",
       "        [ 3.0019e+00],\n",
       "        [ 2.8535e+00],\n",
       "        [ 2.4583e+00],\n",
       "        [ 3.3122e+00],\n",
       "        [ 2.6998e+00],\n",
       "        [ 2.1672e+00],\n",
       "        [-2.8913e-01],\n",
       "        [ 1.0401e+00],\n",
       "        [ 3.0495e+00],\n",
       "        [ 1.6971e+00],\n",
       "        [ 1.6436e+00],\n",
       "        [ 3.0275e+00],\n",
       "        [ 1.4289e+00],\n",
       "        [ 2.6378e+00],\n",
       "        [ 4.0157e+00],\n",
       "        [ 2.3406e+00],\n",
       "        [ 1.4116e+00],\n",
       "        [ 2.2222e+00],\n",
       "        [ 2.4247e+00],\n",
       "        [ 3.7186e+00],\n",
       "        [ 2.4816e-01],\n",
       "        [ 1.0181e+00],\n",
       "        [ 1.9513e+00],\n",
       "        [ 1.8144e+00],\n",
       "        [-8.8691e-01],\n",
       "        [ 2.7367e+00],\n",
       "        [ 2.9705e+00],\n",
       "        [ 3.9454e+00],\n",
       "        [ 4.1472e+00],\n",
       "        [ 3.2979e+00],\n",
       "        [ 3.4160e+00],\n",
       "        [ 3.1903e+00],\n",
       "        [ 4.1917e+00],\n",
       "        [ 2.7603e+00],\n",
       "        [ 3.8804e+00],\n",
       "        [ 3.1044e+00],\n",
       "        [ 2.2191e+00],\n",
       "        [ 3.6527e+00],\n",
       "        [ 2.5470e+00],\n",
       "        [ 3.4899e+00],\n",
       "        [ 3.2692e+00],\n",
       "        [ 9.6140e-01],\n",
       "        [ 1.5792e+00],\n",
       "        [ 3.2592e+00],\n",
       "        [ 3.3759e+00],\n",
       "        [-2.9887e+00],\n",
       "        [ 2.5841e+00],\n",
       "        [-4.8947e-01],\n",
       "        [ 3.4665e+00],\n",
       "        [ 4.1417e+00],\n",
       "        [ 3.3033e+00],\n",
       "        [ 3.9476e+00],\n",
       "        [ 4.1986e+00],\n",
       "        [ 2.3225e-01],\n",
       "        [ 3.1030e+00],\n",
       "        [ 3.1408e+00],\n",
       "        [ 3.4436e+00],\n",
       "        [-1.6356e-03],\n",
       "        [ 4.0809e+00],\n",
       "        [ 2.5609e+00],\n",
       "        [ 3.6192e+00],\n",
       "        [ 4.1299e+00],\n",
       "        [-3.5510e-01],\n",
       "        [ 2.9737e-01],\n",
       "        [ 3.9178e+00],\n",
       "        [ 3.8976e+00],\n",
       "        [ 3.9530e+00],\n",
       "        [ 2.3537e+00],\n",
       "        [ 1.8327e+00],\n",
       "        [ 2.8566e+00],\n",
       "        [ 2.8127e-01],\n",
       "        [ 7.5748e-01],\n",
       "        [ 7.4645e-01],\n",
       "        [ 3.5000e+00],\n",
       "        [ 2.4196e+00],\n",
       "        [ 2.0310e+00],\n",
       "        [ 7.1953e-01],\n",
       "        [ 3.7064e+00],\n",
       "        [ 2.8424e+00],\n",
       "        [ 1.8976e+00],\n",
       "        [ 1.6710e+00],\n",
       "        [-9.9341e-01],\n",
       "        [ 3.7653e+00],\n",
       "        [ 2.9091e+00],\n",
       "        [ 2.9325e+00],\n",
       "        [ 3.0932e+00],\n",
       "        [ 3.7202e+00],\n",
       "        [ 3.4262e+00],\n",
       "        [ 3.6517e+00],\n",
       "        [ 3.4247e+00],\n",
       "        [ 2.9269e+00],\n",
       "        [ 3.9052e+00],\n",
       "        [ 3.6261e+00],\n",
       "        [ 3.0640e+00],\n",
       "        [ 4.1368e+00],\n",
       "        [-5.6310e-01],\n",
       "        [ 3.6261e+00],\n",
       "        [ 2.1318e+00],\n",
       "        [ 2.4249e+00],\n",
       "        [-1.7506e+00],\n",
       "        [ 1.7173e+00],\n",
       "        [ 3.5976e+00],\n",
       "        [ 2.4352e+00],\n",
       "        [ 3.4098e+00],\n",
       "        [ 2.6428e+00],\n",
       "        [ 3.2606e+00],\n",
       "        [ 3.6873e+00],\n",
       "        [ 2.4637e-01],\n",
       "        [ 2.4783e+00],\n",
       "        [ 2.1633e+00],\n",
       "        [ 2.1839e+00],\n",
       "        [ 2.3212e+00],\n",
       "        [ 3.8653e+00],\n",
       "        [ 3.4378e+00],\n",
       "        [ 1.8857e+00],\n",
       "        [ 3.0528e+00],\n",
       "        [ 3.5883e+00],\n",
       "        [ 1.7079e+00],\n",
       "        [ 2.3822e+00],\n",
       "        [ 3.8568e+00],\n",
       "        [ 3.5598e+00],\n",
       "        [ 3.5171e+00],\n",
       "        [-7.3795e-01],\n",
       "        [ 3.5507e+00],\n",
       "        [ 2.7121e+00],\n",
       "        [ 3.5302e+00],\n",
       "        [ 2.0223e+00],\n",
       "        [ 1.3887e+00],\n",
       "        [ 3.3878e+00],\n",
       "        [ 3.3408e+00],\n",
       "        [ 3.6088e+00],\n",
       "        [ 3.0648e+00],\n",
       "        [ 3.3308e+00],\n",
       "        [ 2.4554e+00],\n",
       "        [ 3.5628e+00],\n",
       "        [ 2.6208e+00],\n",
       "        [ 1.9560e+00],\n",
       "        [ 3.0836e+00],\n",
       "        [ 1.7235e+00],\n",
       "        [ 1.3936e+00],\n",
       "        [ 1.1897e+00],\n",
       "        [ 3.9961e+00],\n",
       "        [ 2.3634e+00],\n",
       "        [ 3.8268e+00],\n",
       "        [ 3.0201e+00],\n",
       "        [ 3.5100e+00],\n",
       "        [ 1.9581e+00],\n",
       "        [ 3.5438e+00],\n",
       "        [ 1.0502e-01],\n",
       "        [-2.2053e+00],\n",
       "        [ 1.2028e+00],\n",
       "        [ 3.9414e+00],\n",
       "        [ 3.2691e+00],\n",
       "        [ 2.4520e+00],\n",
       "        [-1.0509e+00],\n",
       "        [ 3.9649e+00],\n",
       "        [ 3.5495e+00],\n",
       "        [ 2.7252e+00],\n",
       "        [ 3.2301e+00],\n",
       "        [ 2.5294e+00],\n",
       "        [ 2.6909e+00],\n",
       "        [ 1.9766e+00],\n",
       "        [ 3.2156e+00],\n",
       "        [ 1.1021e+00],\n",
       "        [ 3.6560e+00],\n",
       "        [ 7.0671e-01],\n",
       "        [ 2.2462e+00],\n",
       "        [ 3.4664e+00],\n",
       "        [ 3.0169e+00],\n",
       "        [ 2.9380e+00],\n",
       "        [ 3.2557e+00],\n",
       "        [ 2.9588e+00],\n",
       "        [ 3.3853e+00],\n",
       "        [ 2.4928e+00],\n",
       "        [ 3.3098e+00],\n",
       "        [ 1.4390e+00],\n",
       "        [ 3.7971e+00],\n",
       "        [ 1.9529e+00],\n",
       "        [ 2.8836e+00],\n",
       "        [ 2.6282e+00],\n",
       "        [ 5.8658e-02],\n",
       "        [ 6.0429e-01],\n",
       "        [ 4.1701e+00],\n",
       "        [ 1.9147e+00],\n",
       "        [ 3.8752e+00],\n",
       "        [ 1.0049e+00],\n",
       "        [ 1.0050e+00],\n",
       "        [ 2.8206e+00],\n",
       "        [ 2.9721e+00],\n",
       "        [ 3.1005e+00],\n",
       "        [ 2.7965e+00],\n",
       "        [-4.6208e+00],\n",
       "        [-5.1730e-02],\n",
       "        [ 1.1712e+00],\n",
       "        [ 2.6336e+00],\n",
       "        [ 3.6247e+00],\n",
       "        [ 1.0126e+00],\n",
       "        [ 3.1336e+00],\n",
       "        [ 2.8636e+00],\n",
       "        [ 2.8703e+00],\n",
       "        [ 3.5757e+00],\n",
       "        [ 3.7603e+00],\n",
       "        [ 8.4489e-01],\n",
       "        [ 5.8024e-01],\n",
       "        [ 3.3850e+00],\n",
       "        [ 1.4187e+00],\n",
       "        [ 1.1294e+00],\n",
       "        [-4.2567e-02],\n",
       "        [ 1.8489e+00],\n",
       "        [ 3.3561e+00],\n",
       "        [ 3.2946e+00],\n",
       "        [ 3.7225e+00],\n",
       "        [ 2.6312e+00],\n",
       "        [ 3.4939e+00],\n",
       "        [ 2.0577e+00],\n",
       "        [ 2.0581e+00],\n",
       "        [ 4.0902e+00],\n",
       "        [-1.2646e-01],\n",
       "        [ 2.4355e+00],\n",
       "        [ 3.7084e+00],\n",
       "        [ 3.1658e+00],\n",
       "        [ 7.9814e-01],\n",
       "        [ 4.1517e+00],\n",
       "        [ 3.8621e+00],\n",
       "        [ 2.6478e+00],\n",
       "        [ 2.8369e+00],\n",
       "        [ 1.3092e+00],\n",
       "        [-2.1905e+00],\n",
       "        [ 3.0079e+00],\n",
       "        [ 1.3306e+00],\n",
       "        [ 3.7867e+00],\n",
       "        [ 2.9359e+00],\n",
       "        [ 4.1214e+00],\n",
       "        [ 2.4092e+00],\n",
       "        [ 1.9154e+00],\n",
       "        [ 3.3587e+00],\n",
       "        [ 3.6430e+00],\n",
       "        [ 3.6842e+00],\n",
       "        [ 2.1984e+00],\n",
       "        [ 2.8398e+00],\n",
       "        [ 4.2483e+00],\n",
       "        [ 1.6939e+00],\n",
       "        [ 1.5307e+00],\n",
       "        [ 1.4949e-01],\n",
       "        [ 1.5588e+00],\n",
       "        [ 3.2788e+00],\n",
       "        [-1.3610e+00],\n",
       "        [-6.4116e-02],\n",
       "        [ 2.7859e+00],\n",
       "        [ 2.4457e+00],\n",
       "        [ 3.4482e+00],\n",
       "        [ 1.5131e+00],\n",
       "        [ 4.1396e+00],\n",
       "        [ 1.8362e+00],\n",
       "        [ 2.1420e+00],\n",
       "        [ 4.0382e+00],\n",
       "        [ 3.3074e+00],\n",
       "        [ 1.9102e-01],\n",
       "        [ 8.8639e-01],\n",
       "        [ 4.0238e+00],\n",
       "        [ 3.2910e+00],\n",
       "        [ 2.9780e+00],\n",
       "        [ 2.2193e+00],\n",
       "        [ 2.4185e+00],\n",
       "        [ 2.6766e+00],\n",
       "        [ 1.7255e+00],\n",
       "        [-1.7943e-01],\n",
       "        [ 2.0105e+00],\n",
       "        [ 2.4887e+00],\n",
       "        [ 3.7360e+00],\n",
       "        [ 2.7804e+00],\n",
       "        [ 4.1273e+00],\n",
       "        [ 2.6947e+00],\n",
       "        [ 1.5331e+00],\n",
       "        [ 1.7495e+00],\n",
       "        [ 3.8098e+00],\n",
       "        [ 2.5971e+00],\n",
       "        [ 2.6878e-01],\n",
       "        [ 2.2043e+00],\n",
       "        [ 2.5828e+00],\n",
       "        [ 3.0773e+00],\n",
       "        [ 2.2034e+00],\n",
       "        [ 2.8307e+00],\n",
       "        [ 3.2702e+00],\n",
       "        [ 3.6089e+00],\n",
       "        [ 4.1169e+00],\n",
       "        [ 4.2602e+00],\n",
       "        [ 2.3755e+00],\n",
       "        [ 3.9812e+00],\n",
       "        [-9.8363e-01],\n",
       "        [ 2.3887e+00],\n",
       "        [ 3.8954e+00],\n",
       "        [ 2.6276e+00],\n",
       "        [ 3.7690e+00],\n",
       "        [ 1.0573e-01],\n",
       "        [ 3.8943e+00],\n",
       "        [ 4.0784e+00],\n",
       "        [ 2.9871e+00],\n",
       "        [ 5.6828e-01],\n",
       "        [ 2.1082e+00],\n",
       "        [-4.2010e+00],\n",
       "        [ 2.4103e+00],\n",
       "        [ 2.5042e+00],\n",
       "        [ 3.9147e+00],\n",
       "        [ 2.9885e+00],\n",
       "        [ 3.5745e+00],\n",
       "        [ 2.6315e+00],\n",
       "        [ 3.6578e+00],\n",
       "        [ 3.7201e+00],\n",
       "        [ 1.3598e+00],\n",
       "        [ 3.8485e+00],\n",
       "        [ 2.9920e+00],\n",
       "        [ 1.8229e+00],\n",
       "        [ 3.6697e+00],\n",
       "        [-1.2682e+00],\n",
       "        [ 3.2436e+00],\n",
       "        [ 2.8998e+00],\n",
       "        [ 3.3939e+00],\n",
       "        [ 3.2314e+00],\n",
       "        [ 3.3570e+00],\n",
       "        [ 1.3112e+00],\n",
       "        [ 3.8876e+00],\n",
       "        [ 2.3133e+00],\n",
       "        [ 3.5410e+00],\n",
       "        [ 2.6332e+00],\n",
       "        [ 3.8024e+00],\n",
       "        [ 1.0667e+00],\n",
       "        [ 3.3502e+00],\n",
       "        [ 1.0126e+00],\n",
       "        [ 2.7285e+00],\n",
       "        [ 2.9160e+00],\n",
       "        [-5.4717e-01],\n",
       "        [ 1.5284e+00],\n",
       "        [ 3.5775e+00],\n",
       "        [ 2.7241e+00],\n",
       "        [ 3.0600e+00],\n",
       "        [ 4.0158e+00],\n",
       "        [ 1.9587e+00],\n",
       "        [ 4.1692e+00],\n",
       "        [ 1.8574e+00],\n",
       "        [ 3.3613e+00],\n",
       "        [ 2.6460e+00],\n",
       "        [ 4.0276e+00],\n",
       "        [ 3.0345e-01],\n",
       "        [ 2.1947e+00],\n",
       "        [ 3.2770e+00],\n",
       "        [ 4.1288e+00],\n",
       "        [ 3.1954e+00],\n",
       "        [ 2.2316e+00],\n",
       "        [ 1.0967e+00],\n",
       "        [ 3.3075e+00],\n",
       "        [ 1.8729e+00],\n",
       "        [ 2.8770e+00],\n",
       "        [ 2.0723e+00],\n",
       "        [ 3.4280e+00],\n",
       "        [ 3.3163e+00],\n",
       "        [ 1.0320e+00],\n",
       "        [ 3.5421e+00],\n",
       "        [ 4.2363e+00],\n",
       "        [ 1.4663e+00],\n",
       "        [ 4.0079e+00],\n",
       "        [ 2.9989e+00],\n",
       "        [ 2.0798e+00],\n",
       "        [ 3.7240e+00],\n",
       "        [-2.2620e-01],\n",
       "        [ 1.8431e+00],\n",
       "        [ 1.3200e+00],\n",
       "        [ 2.1216e+00],\n",
       "        [ 3.6115e+00],\n",
       "        [ 3.3153e+00],\n",
       "        [ 3.8031e+00],\n",
       "        [ 8.6810e-01],\n",
       "        [ 2.6899e+00],\n",
       "        [ 3.8748e+00],\n",
       "        [ 1.0311e+00],\n",
       "        [ 8.1136e-01],\n",
       "        [ 2.1983e+00],\n",
       "        [-4.5226e-01],\n",
       "        [ 3.5462e+00],\n",
       "        [ 7.2929e-01],\n",
       "        [ 2.6653e+00],\n",
       "        [ 2.8368e+00],\n",
       "        [ 1.9389e+00],\n",
       "        [ 3.7812e+00],\n",
       "        [ 3.5697e+00],\n",
       "        [ 7.9926e-01],\n",
       "        [ 2.8431e+00],\n",
       "        [ 3.4886e+00],\n",
       "        [ 3.0970e+00],\n",
       "        [ 3.8063e+00],\n",
       "        [-1.7888e+00],\n",
       "        [ 3.5109e+00],\n",
       "        [ 3.6191e+00],\n",
       "        [ 2.2153e+00],\n",
       "        [ 3.5401e+00],\n",
       "        [ 5.2564e-01],\n",
       "        [ 1.3482e+00],\n",
       "        [ 2.5103e+00],\n",
       "        [ 2.7789e+00],\n",
       "        [ 3.2585e+00],\n",
       "        [ 1.0722e+00],\n",
       "        [ 1.2455e+00],\n",
       "        [ 3.9609e+00],\n",
       "        [ 1.8252e+00],\n",
       "        [ 3.0555e+00],\n",
       "        [ 3.1674e+00],\n",
       "        [ 3.5462e+00],\n",
       "        [ 4.0188e+00],\n",
       "        [ 3.9961e+00],\n",
       "        [ 3.9368e+00],\n",
       "        [ 3.6969e+00],\n",
       "        [ 2.7165e+00],\n",
       "        [ 3.9404e+00],\n",
       "        [ 1.2313e+00],\n",
       "        [ 2.2190e+00],\n",
       "        [ 2.1168e+00],\n",
       "        [ 4.1561e+00],\n",
       "        [-2.9687e-01],\n",
       "        [ 3.7520e+00],\n",
       "        [ 4.6803e-02],\n",
       "        [ 3.8664e-01],\n",
       "        [ 2.5078e+00],\n",
       "        [ 2.8743e+00],\n",
       "        [ 2.4368e+00],\n",
       "        [ 4.0941e+00],\n",
       "        [ 4.1637e+00],\n",
       "        [ 2.1881e+00],\n",
       "        [ 3.8159e+00],\n",
       "        [ 4.0765e+00],\n",
       "        [ 2.5509e+00],\n",
       "        [ 1.9146e+00],\n",
       "        [ 3.3014e+00],\n",
       "        [ 3.7920e+00],\n",
       "        [ 3.1657e+00],\n",
       "        [ 3.9681e+00],\n",
       "        [ 2.9315e+00],\n",
       "        [ 3.2205e+00],\n",
       "        [-6.1321e-03],\n",
       "        [ 3.4363e+00],\n",
       "        [ 3.8707e+00],\n",
       "        [-3.0387e+00],\n",
       "        [ 3.9087e+00],\n",
       "        [ 3.6718e+00],\n",
       "        [ 2.9255e+00],\n",
       "        [ 2.9321e+00],\n",
       "        [ 3.0499e+00],\n",
       "        [ 2.3660e+00],\n",
       "        [ 1.7767e+00],\n",
       "        [ 3.9379e+00],\n",
       "        [ 3.5934e+00],\n",
       "        [ 3.9978e+00],\n",
       "        [ 4.1776e+00],\n",
       "        [ 2.0466e+00],\n",
       "        [ 3.3468e+00],\n",
       "        [ 2.3683e+00],\n",
       "        [ 1.7855e+00],\n",
       "        [ 1.8895e+00],\n",
       "        [ 3.8917e+00],\n",
       "        [ 1.9821e+00],\n",
       "        [ 2.7854e-01],\n",
       "        [ 1.3842e+00],\n",
       "        [ 9.9387e-01],\n",
       "        [ 2.8548e+00],\n",
       "        [ 2.0918e+00],\n",
       "        [ 1.3336e+00],\n",
       "        [ 2.5218e+00],\n",
       "        [ 3.4617e+00],\n",
       "        [ 1.2947e+00],\n",
       "        [ 2.2851e+00],\n",
       "        [ 1.9594e+00],\n",
       "        [ 2.4642e+00],\n",
       "        [ 3.1335e+00],\n",
       "        [ 2.9384e+00],\n",
       "        [ 2.5550e+00],\n",
       "        [ 3.8059e+00],\n",
       "        [ 3.6307e+00],\n",
       "        [ 3.5655e+00],\n",
       "        [ 2.4089e+00],\n",
       "        [ 3.3017e+00],\n",
       "        [ 3.2861e+00],\n",
       "        [ 3.2797e+00],\n",
       "        [ 1.7765e+00],\n",
       "        [ 3.1311e+00],\n",
       "        [ 3.6558e+00],\n",
       "        [ 2.0775e+00],\n",
       "        [ 2.1295e+00],\n",
       "        [ 3.1884e+00],\n",
       "        [ 3.3612e+00],\n",
       "        [ 3.3988e+00],\n",
       "        [ 1.8277e+00],\n",
       "        [ 3.5607e+00],\n",
       "        [ 3.6140e+00],\n",
       "        [ 2.9342e+00],\n",
       "        [ 1.3438e+00],\n",
       "        [ 4.0609e+00],\n",
       "        [ 3.3727e+00],\n",
       "        [ 1.2102e+00],\n",
       "        [ 3.2068e+00],\n",
       "        [ 3.1077e+00],\n",
       "        [ 3.1102e+00],\n",
       "        [ 3.5915e+00],\n",
       "        [ 3.4218e+00],\n",
       "        [ 1.8381e+00],\n",
       "        [ 3.6520e+00],\n",
       "        [ 2.9209e+00],\n",
       "        [ 1.3023e+00],\n",
       "        [ 3.3374e+00],\n",
       "        [ 3.0184e+00],\n",
       "        [-2.4382e+00],\n",
       "        [ 2.9368e+00],\n",
       "        [ 2.4690e+00],\n",
       "        [ 1.5301e+00],\n",
       "        [ 5.4454e-01],\n",
       "        [ 1.3708e+00],\n",
       "        [ 2.4320e+00],\n",
       "        [ 4.1624e+00],\n",
       "        [ 3.5901e+00],\n",
       "        [ 3.0579e+00],\n",
       "        [ 3.8090e+00],\n",
       "        [ 2.4401e+00],\n",
       "        [ 2.5354e+00],\n",
       "        [ 2.6916e+00],\n",
       "        [ 3.2682e+00],\n",
       "        [ 3.6591e+00],\n",
       "        [ 3.8703e+00],\n",
       "        [ 3.8518e+00],\n",
       "        [ 4.0719e+00],\n",
       "        [ 3.6320e+00],\n",
       "        [ 1.5392e-01],\n",
       "        [ 8.3084e-01],\n",
       "        [ 3.3344e+00],\n",
       "        [ 4.0228e+00],\n",
       "        [ 2.8098e+00],\n",
       "        [-8.9540e-03],\n",
       "        [ 3.5799e+00],\n",
       "        [ 3.8007e+00],\n",
       "        [ 5.2984e-01],\n",
       "        [ 2.6438e+00],\n",
       "        [ 3.0325e+00]], grad_fn=<ViewBackward0>)"
      ]
     },
     "execution_count": 14,
     "metadata": {},
     "output_type": "execute_result"
    }
   ],
   "source": [
    "posterior.posterior_estimator.log_prob(posterior_samples, condition=observation)"
   ]
  },
  {
   "cell_type": "code",
   "execution_count": 1,
   "metadata": {},
   "outputs": [
    {
     "name": "stderr",
     "output_type": "stream",
     "text": [
      "WARNING (pytensor.tensor.blas): Using NumPy C-API based implementation for BLAS functions.\n"
     ]
    }
   ],
   "source": [
    "\n",
    "\n",
    "\n",
    "# This file is part of sbi, a toolkit for simulation-based inference. sbi is licensed\n",
    "# under the Apache License Version 2.0, see <https://www.apache.org/licenses/>\n",
    "\n",
    "import torch\n",
    "from torch import eye, ones, zeros\n",
    "\n",
    "from sbi import utils as utils\n",
    "from sbi.inference import (\n",
    "    SNPE_C,\n",
    "    DirectPosterior,\n",
    "    simulate_for_sbi,\n",
    ")\n",
    "from sbi.simulators.linear_gaussian import (\n",
    "    linear_gaussian,\n",
    "    samples_true_posterior_linear_gaussian_uniform_prior,\n",
    ")\n",
    "from sbi.utils import RestrictionEstimator\n",
    "from sbi.utils.user_input_checks import (\n",
    "    check_sbi_inputs,\n",
    "    process_simulator,\n",
    ")\n",
    "from sbi.inference import SNLE_A, SNPE_C, SNRE_A\n",
    "from sbi.inference.posteriors import EnsemblePosterior\n",
    "from sbi.simulators.linear_gaussian import (\n",
    "    linear_gaussian,\n",
    "    true_posterior_linear_gaussian_mvn_prior,\n",
    ")"
   ]
  },
  {
   "cell_type": "code",
   "execution_count": 3,
   "metadata": {},
   "outputs": [
    {
     "name": "stdout",
     "output_type": "stream",
     "text": [
      " Neural network successfully converged after 71 epochs."
     ]
    },
    {
     "name": "stderr",
     "output_type": "stream",
     "text": [
      "/root/sbi/sbi/utils/user_input_checks.py:604: UserWarning: An x with a batch size of 5 was passed. It will be interpreted as a batch of independent and identically\n",
      "            distributed data X={x_1, ..., x_n}, i.e., data generated based on the\n",
      "            same underlying (unknown) parameter. The resulting posterior will be with\n",
      "            respect to entire batch, i.e,. p(theta | X).\n",
      "  warn_on_iid_x(num_trials=input_x_shape[0])\n"
     ]
    },
    {
     "name": "stdout",
     "output_type": "stream",
     "text": [
      "Start run\n"
     ]
    },
    {
     "data": {
      "application/vnd.jupyter.widget-view+json": {
       "model_id": "c45c2fad52324f6ab89f15d743fa1073",
       "version_major": 2,
       "version_minor": 0
      },
      "text/plain": [
       "Running vectorized MCMC with 20 chains:   0%|          | 0/2480 [00:00<?, ?it/s]"
      ]
     },
     "metadata": {},
     "output_type": "display_data"
    },
    {
     "name": "stdout",
     "output_type": "stream",
     "text": [
      "Finish run\n",
      "torch.Size([231, 2])\n",
      "Start run\n"
     ]
    },
    {
     "data": {
      "application/vnd.jupyter.widget-view+json": {
       "model_id": "ae8cc7916e9c438fa612a768ad52fc06",
       "version_major": 2,
       "version_minor": 0
      },
      "text/plain": [
       "Running vectorized MCMC with 20 chains:   0%|          | 0/2540 [00:00<?, ?it/s]"
      ]
     },
     "metadata": {},
     "output_type": "display_data"
    },
    {
     "name": "stdout",
     "output_type": "stream",
     "text": [
      "Finish run\n",
      "torch.Size([269, 2])\n"
     ]
    },
    {
     "data": {
      "text/plain": [
       "(tensor([[-0.6931],\n",
       "         [-0.6931]]),\n",
       " tensor([[ -7.4336,  -6.9223,  -7.8938,  -8.8298,  -7.0743,  -6.5152,  -9.2128,\n",
       "           -6.5681,  -8.7400,  -6.2765,  -7.2174,  -8.4947,  -6.2702,  -7.8866,\n",
       "           -6.2610,  -6.2908,  -7.3255,  -7.7226,  -6.7372,  -7.8981,  -7.1027,\n",
       "           -6.8723,  -6.8812,  -7.5888,  -7.3460,  -6.9320,  -6.7316,  -6.3312,\n",
       "           -6.4442,  -7.0695,  -7.4121,  -6.3988,  -7.3478,  -6.2714,  -8.2118,\n",
       "           -7.3753,  -8.4640,  -6.9190,  -6.8717,  -6.8066,  -9.9928,  -7.3078,\n",
       "           -8.0485,  -7.2805,  -6.7070,  -6.5855,  -6.9627,  -8.0247,  -6.5141,\n",
       "           -6.4445,  -9.0908,  -7.7227,  -7.8546,  -7.4221,  -6.6174,  -6.4591,\n",
       "           -6.4629,  -7.7549,  -7.1957,  -6.4203,  -6.8921,  -8.6906,  -7.3244,\n",
       "           -6.6333,  -6.7162,  -6.8824,  -7.5157,  -6.7391,  -6.9752,  -8.6719,\n",
       "           -8.3198,  -6.4059,  -6.4676,  -8.5537,  -8.1975,  -7.5111,  -8.7388,\n",
       "           -6.2830,  -6.7911,  -6.8002,  -6.8710,  -6.5664,  -6.6077,  -6.3470,\n",
       "          -10.0657,  -6.5677,  -6.3399,  -6.7430,  -7.7511,  -6.8936,  -7.7820,\n",
       "           -7.2883,  -6.3221,  -6.8268,  -7.1061,  -7.1557,  -7.1245,  -8.8373,\n",
       "           -6.6600,  -6.9593,  -9.3990,  -7.2688,  -6.5160,  -8.6511,  -7.7877,\n",
       "           -8.8366,  -6.5700,  -7.7828,  -6.4482,  -6.4149,  -6.5898,  -6.5850,\n",
       "           -7.5555,  -7.0383,  -8.8192,  -8.6402,  -6.4689,  -6.7586,  -7.9255,\n",
       "           -6.4782,  -7.1411,  -6.9820,  -7.5584,  -6.4415,  -7.3771,  -6.6244,\n",
       "           -8.7452,  -6.4622,  -6.5468,  -6.3026,  -7.7193,  -7.5263,  -6.5339,\n",
       "          -10.3388,  -6.3065,  -6.6520,  -6.3070,  -7.1335,  -9.5160,  -8.3420,\n",
       "           -7.1297,  -6.8640,  -6.6419,  -7.2472,  -7.1454,  -6.7111,  -7.3220,\n",
       "           -6.7530,  -8.4380,  -6.4030,  -6.3415,  -6.5518,  -6.3404,  -7.4139,\n",
       "           -6.9054,  -6.7972,  -9.0015, -11.0153,  -6.6709,  -7.2995,  -6.6250,\n",
       "           -7.3812,  -8.3526,  -6.3585,  -6.3698,  -6.5929,  -6.6664,  -6.6340,\n",
       "           -6.8876,  -8.1944,  -8.5566,  -8.3529,  -8.7377,  -7.0166,  -6.5806,\n",
       "           -6.4111,  -6.5608,  -6.3103,  -8.0882,  -8.0306,  -7.3714,  -7.3074,\n",
       "           -7.2683,  -7.1340,  -6.3787,  -6.7423,  -6.3414,  -8.5201,  -6.9188,\n",
       "           -7.6116,  -7.0322,  -8.5145,  -6.3375,  -6.2791,  -6.7248,  -6.7376,\n",
       "           -8.4061, -12.3879,  -6.3248,  -8.1192,  -7.7162,  -6.7795,  -6.3892,\n",
       "           -7.6142,  -6.9754,  -6.2521,  -6.5743,  -6.2953,  -8.5145,  -6.3906,\n",
       "           -7.7091,  -6.4010,  -9.6453,  -6.4054,  -9.7279,  -7.3344,  -6.4851,\n",
       "           -6.5373,  -8.1599,  -6.3842,  -6.3496,  -6.4648,  -6.5657,  -6.2605,\n",
       "           -7.1641,  -7.1729,  -7.4298,  -7.1290,  -7.0970,  -6.2838,  -6.6924,\n",
       "           -6.3263,  -6.7450,  -7.3889,  -7.2617,  -7.0802,  -7.1078,  -6.9779,\n",
       "           -6.9118,  -6.2972,  -7.4445,  -9.2909,  -6.9824,  -6.5340,  -6.3229,\n",
       "           -6.8058,  -6.7034,  -6.3702,  -7.0712,  -8.9337, -11.1906,  -9.4371,\n",
       "           -7.7085,  -6.7835,  -6.2694,  -7.0236,  -8.4050,  -6.8084,  -8.4573,\n",
       "           -9.4666,  -9.1358,  -6.7038,  -7.4581,  -6.8827,  -8.2515,  -6.4201,\n",
       "           -6.3124,  -6.6333,  -6.2656,  -6.5419,  -7.0992,  -7.3505,  -6.5718,\n",
       "           -6.5873,  -8.4851,  -7.9275,  -8.2030,  -6.5178,  -9.3256,  -8.6935,\n",
       "           -7.1663,  -6.2650,  -7.0583,  -8.1496,  -6.2615,  -7.8121,  -9.9221,\n",
       "           -6.4861,  -6.9551,  -7.3990,  -7.4945,  -6.3794,  -6.5187,  -8.9693,\n",
       "           -6.6739,  -9.9301,  -6.7752,  -6.9171,  -6.5280,  -8.2697,  -6.4180,\n",
       "           -6.5648,  -9.2273,  -7.6802,  -7.3087,  -7.4481,  -8.4575,  -6.6177,\n",
       "           -8.1310,  -6.3235,  -6.8537, -10.7684,  -7.0024,  -7.1612,  -7.9594,\n",
       "           -6.4854,  -6.6360,  -6.6114,  -6.3369,  -6.7099,  -7.9059,  -7.1444,\n",
       "           -8.5469,  -7.2018,  -8.3478,  -6.3547,  -6.7816,  -7.9937,  -6.4768,\n",
       "           -8.0669,  -6.8148,  -7.0566,  -6.8976,  -7.4839,  -6.9081,  -6.3366,\n",
       "          -11.8445,  -7.2269,  -6.4348,  -9.6453,  -6.2896,  -6.3422,  -6.4693,\n",
       "           -9.0146,  -8.7460,  -6.5451,  -7.7110,  -7.3367,  -6.2832,  -7.4098,\n",
       "           -6.8752,  -7.5749,  -6.7877,  -7.4395,  -6.2593,  -6.9572,  -6.4535,\n",
       "           -6.4676,  -8.6444,  -7.4311,  -8.9506,  -7.6670,  -7.8869,  -6.6497,\n",
       "           -6.6414,  -6.9267,  -9.0423, -10.6011,  -6.5800,  -7.9311,  -7.9289,\n",
       "           -6.9762,  -6.4740,  -6.5096,  -6.5009,  -7.1804,  -7.6070,  -9.3337,\n",
       "           -7.9897,  -7.2300,  -7.7505,  -6.6510,  -7.7766,  -6.5244,  -7.4004,\n",
       "           -7.1118,  -6.9216,  -7.3833,  -6.8592,  -7.7708,  -6.3507,  -7.5321,\n",
       "          -11.0784,  -6.8815,  -7.2099,  -6.9765,  -9.6860,  -7.3438,  -6.3886,\n",
       "          -10.6340,  -6.4696,  -6.8077,  -6.6431,  -6.4680,  -6.6496,  -8.4023,\n",
       "           -7.4071,  -6.6666,  -7.4255,  -8.3481,  -6.2837,  -7.8201,  -9.7475,\n",
       "           -6.5800,  -7.1016,  -7.0078,  -7.1695,  -7.8553,  -6.4055,  -6.7601,\n",
       "           -7.5395,  -6.3655,  -6.3345,  -6.7817,  -6.4935,  -7.2742,  -6.2535,\n",
       "           -6.8524,  -6.6442,  -6.8118,  -6.4834,  -6.5301,  -6.6574,  -6.7380,\n",
       "           -7.5190,  -6.7210,  -8.9721, -10.5900,  -7.1125,  -7.6139,  -8.1013,\n",
       "           -8.4836,  -7.2116,  -8.1938,  -7.4947,  -7.2475,  -7.9708,  -7.3839,\n",
       "           -7.9512,  -6.9264,  -7.0994,  -9.0878,  -6.6442,  -8.2476,  -7.3968,\n",
       "           -6.4116,  -6.3907,  -8.0149,  -8.5814,  -7.3279,  -6.5085,  -6.7163,\n",
       "           -7.3060,  -6.8454,  -6.8612,  -6.5212,  -7.6879, -10.7219,  -7.5433,\n",
       "           -6.4698,  -6.9814,  -7.5819,  -9.3908,  -6.6598,  -6.4618,  -6.5874,\n",
       "          -10.1662,  -7.4006,  -7.3518,  -6.8746,  -6.8222,  -6.3515,  -9.0177,\n",
       "           -9.6529,  -6.9922, -10.3491,  -9.8463,  -6.9200,  -7.8836,  -6.6721,\n",
       "           -6.5669,  -7.0569,  -7.8212,  -9.0188,  -6.4745,  -6.5030,  -6.6172,\n",
       "           -8.2561,  -7.4633,  -6.5763],\n",
       "         [ -7.9062,  -5.9184,  -7.8238,  -8.8543,  -6.5992,  -6.3127,  -8.3464,\n",
       "           -6.6629,  -8.4440,  -5.9336,  -7.1606,  -8.4646,  -5.6603,  -6.3467,\n",
       "           -5.7486,  -5.9353,  -5.8705,  -6.6145,  -6.9759,  -8.2356,  -7.2820,\n",
       "           -5.6658,  -6.3860,  -6.8075,  -5.8371,  -6.0836,  -5.7175,  -5.7368,\n",
       "           -5.5229,  -6.8330,  -6.7314,  -5.5680,  -7.9809,  -5.8975,  -8.8782,\n",
       "           -6.3654,  -6.6687,  -6.4853,  -6.6027,  -6.9533,  -8.6401,  -6.4819,\n",
       "           -6.9155,  -5.9156,  -6.4145,  -5.5550,  -7.3335,  -7.7586,  -5.8123,\n",
       "           -6.1401,  -8.3133,  -6.8310,  -7.5008,  -6.8465,  -6.1813,  -5.5381,\n",
       "           -6.2755,  -8.2208,  -7.0433,  -5.5325,  -5.7802,  -8.2961,  -7.8985,\n",
       "           -5.5591,  -5.7296,  -6.8764,  -7.7668,  -6.9174,  -5.8829,  -9.1833,\n",
       "           -7.3005,  -5.5303,  -5.5255,  -8.6099,  -8.4236,  -5.9705,  -8.5110,\n",
       "           -5.6507,  -6.9390,  -6.5378,  -6.9349,  -6.6288,  -5.5331,  -5.5682,\n",
       "          -10.0096,  -6.6033,  -5.7978,  -6.0291,  -7.5831,  -5.6334,  -6.1517,\n",
       "           -6.7285,  -5.8305,  -6.9378,  -6.0317,  -6.2767,  -7.5627,  -9.8196,\n",
       "           -6.8384,  -7.1840,  -7.3726,  -7.5794,  -6.2661,  -6.9077,  -7.5699,\n",
       "           -9.9414,  -6.3582,  -6.6180,  -6.3378,  -6.3234,  -6.6702,  -6.1825,\n",
       "           -7.8184,  -6.8907,  -8.7852,  -7.9246,  -5.8783,  -5.8867,  -8.7164,\n",
       "           -6.4649,  -6.9026,  -5.6556,  -7.2063,  -6.0491,  -7.5388,  -6.1870,\n",
       "           -6.9848,  -5.8832,  -6.0948,  -5.7235,  -6.1465,  -7.5855,  -5.7296,\n",
       "           -9.8084,  -5.6007,  -6.7196,  -5.6333,  -7.6142,  -8.5832,  -8.9137,\n",
       "           -5.7732,  -6.8137,  -5.9462,  -6.2115,  -6.2007,  -6.1599,  -5.9815,\n",
       "           -6.9871,  -8.9445,  -5.5934,  -5.5703,  -5.8125,  -6.1397,  -7.9457,\n",
       "           -6.7294,  -5.9872, -10.1168,  -9.5131,  -6.4499,  -7.5796,  -6.5948,\n",
       "           -6.7158,  -7.3943,  -5.5869,  -6.0273,  -6.2465,  -6.5476,  -6.7073,\n",
       "           -7.1323,  -7.3820,  -9.3264,  -6.4455,  -8.7251,  -7.4557,  -6.2272,\n",
       "           -5.5658,  -5.8474,  -5.7532,  -7.0398,  -7.0303,  -7.6674,  -7.8909,\n",
       "           -7.2137,  -7.1408,  -6.2303,  -6.9511,  -6.1163,  -7.7784,  -6.0793,\n",
       "           -7.1456,  -6.4223,  -7.9200,  -5.5641,  -5.8196,  -5.5738,  -5.5660,\n",
       "           -8.2413,  -9.4720,  -6.0499,  -6.6172,  -6.7517,  -7.0180,  -5.9138,\n",
       "           -7.9532,  -5.7910,  -5.7900,  -5.9205,  -5.9027,  -9.6669,  -5.8223,\n",
       "           -7.6949,  -5.8284,  -7.9359,  -5.9851,  -7.6625,  -5.8530,  -5.8198,\n",
       "           -6.3673,  -7.0496,  -5.5868,  -5.9290,  -6.3287,  -6.6142,  -5.6808,\n",
       "           -7.6490,  -7.3147,  -6.0779,  -6.3961,  -6.3075,  -5.9584,  -6.2638,\n",
       "           -5.7315,  -6.4363,  -6.2871,  -7.5790,  -5.7320,  -5.8179,  -6.0810,\n",
       "           -6.8687,  -6.0148,  -6.4569,  -7.2164,  -5.9162,  -5.6153,  -5.6372,\n",
       "           -5.7401,  -5.5802,  -5.9690,  -6.0024,  -7.1102,  -8.6900,  -7.3042,\n",
       "           -6.0377,  -6.8583,  -5.6505,  -5.6944,  -6.6644,  -6.4519,  -8.8704,\n",
       "           -7.8285,  -6.9745,  -5.9147,  -6.9693,  -5.6217,  -6.7079,  -5.7344,\n",
       "           -5.6959,  -5.5471,  -5.8997,  -6.4210,  -6.0288,  -6.2516,  -5.6494,\n",
       "           -5.6187,  -7.1059,  -8.6345,  -6.3466,  -6.0219,  -8.1185,  -7.1600,\n",
       "           -6.3115,  -5.6860,  -6.4735,  -7.4767,  -5.8346,  -6.5401,  -7.9251,\n",
       "           -5.5415,  -5.7836,  -6.2029,  -6.2617,  -5.6964,  -6.5170,  -7.4858,\n",
       "           -6.7487,  -7.5992,  -5.6255,  -6.9362,  -6.3228,  -6.3962,  -5.8036,\n",
       "           -6.1268,  -9.1868,  -7.8139,  -7.9216,  -7.5737,  -6.5811,  -6.7145,\n",
       "           -6.5748,  -5.5798,  -5.6048, -10.1985,  -7.3888,  -5.7372,  -6.1914,\n",
       "           -5.6336,  -6.6262,  -5.6392,  -5.8190,  -5.6763,  -6.2354,  -5.8039,\n",
       "           -7.4141,  -6.2309,  -7.8342,  -5.6765,  -6.5342,  -6.8101,  -5.7205,\n",
       "           -8.2340,  -5.6420,  -5.7333,  -5.8132,  -5.9069,  -5.7134,  -5.8027,\n",
       "           -9.6135,  -5.9847,  -5.6872,  -7.6633,  -5.7074,  -5.9124,  -5.5675,\n",
       "           -6.9564,  -6.7056,  -6.0776,  -6.0802,  -7.2493,  -5.7976,  -6.5470,\n",
       "           -6.0122,  -7.4689,  -6.4919,  -6.5931,  -5.7172,  -6.5583,  -5.5220,\n",
       "           -6.2788,  -6.7701,  -5.8813,  -8.5614,  -7.5093,  -7.4402,  -5.7496,\n",
       "           -5.7972,  -6.0847,  -8.4651,  -8.0755,  -6.0433,  -6.2558,  -8.2737,\n",
       "           -6.5076,  -5.5220,  -6.4311,  -5.7744,  -7.1431,  -7.4046,  -7.2398,\n",
       "           -7.1050,  -6.0255,  -6.0706,  -6.4865,  -8.1604,  -5.5768,  -6.0365,\n",
       "           -6.1277,  -5.6313,  -6.0181,  -6.2716,  -7.5207,  -6.0145,  -5.9342,\n",
       "           -8.7512,  -6.4660,  -5.7757,  -6.1188,  -7.7067,  -5.8652,  -5.8215,\n",
       "           -8.4967,  -5.6812,  -5.6060,  -6.0877,  -5.5400,  -5.5674,  -8.0926,\n",
       "           -6.1562,  -5.5535,  -6.3638,  -6.5735,  -5.6158,  -7.6795,  -8.9555,\n",
       "           -5.6611,  -6.2376,  -5.8973,  -5.8540,  -7.5785,  -5.6048,  -5.6393,\n",
       "           -6.3596,  -6.2233,  -5.8883,  -7.0538,  -6.5020,  -5.8455,  -5.7317,\n",
       "           -6.9486,  -6.3788,  -5.9670,  -5.7588,  -6.0423,  -5.7263,  -6.5018,\n",
       "           -6.0615,  -6.7167,  -7.8872, -10.5866,  -5.7359,  -6.2597,  -6.4172,\n",
       "           -6.5641,  -5.8835,  -6.9720,  -7.3647,  -6.3913,  -6.4017,  -6.5071,\n",
       "           -6.2143,  -7.2584,  -5.7185,  -6.9424,  -5.9427,  -6.5255,  -6.1871,\n",
       "           -5.9071,  -5.6130,  -6.9457,  -8.2177,  -7.8980,  -5.8878,  -5.9208,\n",
       "           -5.9749,  -5.6653,  -5.6376,  -5.5223,  -7.7573,  -8.7667,  -6.9806,\n",
       "           -5.5219,  -6.5650,  -6.9454,  -7.7334,  -5.6874,  -5.5301,  -6.6984,\n",
       "           -7.9687,  -5.8734,  -7.1906,  -6.9832,  -5.9814,  -6.0081,  -6.8933,\n",
       "           -9.5621,  -5.7487,  -8.3179,  -7.9197,  -5.8589,  -7.6113,  -6.4365,\n",
       "           -6.6473,  -5.9063,  -6.2111,  -9.0905,  -6.4143,  -5.9665,  -5.5597,\n",
       "           -6.3949,  -6.8228,  -5.7271]]))"
      ]
     },
     "execution_count": 3,
     "metadata": {},
     "output_type": "execute_result"
    }
   ],
   "source": [
    "from sbi.inference import SNLE_A\n",
    "from torch.distributions import MultivariateNormal\n",
    "    \n",
    "inference_method=SNLE_A\n",
    "num_trials = 5\n",
    "num_dim = 2\n",
    "ensemble_size = 2\n",
    "x_o = zeros(num_trials, num_dim)\n",
    "num_samples = 500\n",
    "num_simulations = 2000\n",
    "mcmc_params_accurate = dict(num_chains=20, thin=2, warmup_steps=50)\n",
    "\n",
    "# likelihood_mean will be likelihood_shift+theta\n",
    "likelihood_shift = -1.0 * ones(num_dim)\n",
    "likelihood_cov = 0.3 * eye(num_dim)\n",
    "\n",
    "prior_mean = zeros(num_dim)\n",
    "prior_cov = eye(num_dim)\n",
    "prior = MultivariateNormal(loc=prior_mean, covariance_matrix=prior_cov)\n",
    "gt_posterior = true_posterior_linear_gaussian_mvn_prior(\n",
    "x_o, likelihood_shift, likelihood_cov, prior_mean, prior_cov\n",
    ")\n",
    "target_samples = gt_posterior.sample((num_samples,))\n",
    "\n",
    "def simulator(theta):\n",
    "    return linear_gaussian(theta, likelihood_shift, likelihood_cov)\n",
    "\n",
    "# train ensemble components\n",
    "posteriors = []\n",
    "for _ in range(ensemble_size):\n",
    "    theta = prior.sample((num_simulations,))\n",
    "    x = simulator(theta)\n",
    "    inferer = inference_method(prior)\n",
    "    inferer.append_simulations(theta, x).train(\n",
    "        training_batch_size=100,\n",
    "        max_num_epochs=1 if inference_method == \"SNPE\" and num_trials > 1 else 100,\n",
    "    )\n",
    "    posteriors.append(inferer.build_posterior())\n",
    "\n",
    "# create ensemble\n",
    "posterior = EnsemblePosterior(posteriors)\n",
    "posterior.set_default_x(x_o)\n",
    "\n",
    "# test sampling and evaluation.\n",
    "if isinstance(inferer, (SNLE_A, SNRE_A)):\n",
    "    samples = posterior.sample(\n",
    "        (num_samples,),\n",
    "        method=\"slice_np_vectorized\",\n",
    "        **mcmc_params_accurate,\n",
    "    )\n",
    "else:\n",
    "    samples = posterior.sample((num_samples,))\n",
    "_ = posterior.potential(samples)\n",
    "\n",
    "# Compute the c2st and assert it is near chance level of 0.5.\n",
    "\n",
    "\n",
    "map_ = posterior.map(init_method=samples, show_progress_bars=False)\n",
    "assert ((map_ - gt_posterior.mean) ** 2).sum() < 0.5\n",
    "\n",
    "# Checks for log_prob()\n",
    "# For the Gaussian prior, we compute the KLd between ground truth and posterior.\n",
    "# This step is skipped for NLE since the probabilities are not normalised.\n",
    "if isinstance(inferer, (SNPE_C, SNRE_A)):\n",
    "    dkl = get_dkl_gaussian_prior(\n",
    "        posterior,\n",
    "        x_o[0],\n",
    "        likelihood_shift,\n",
    "        likelihood_cov,\n",
    "        prior_mean,\n",
    "        prior_cov,\n",
    "        num_samples=num_samples,\n",
    "    )\n",
    "    max_dkl = 0.15\n",
    "    assert (\n",
    "        dkl < max_dkl\n",
    "    ), f\"D-KL={dkl} is more than 2 stds above the average performance.\"\n",
    "\n",
    "# test individual log_prob and map\n",
    "posterior.log_prob(samples, individually=True)"
   ]
  },
  {
   "cell_type": "code",
   "execution_count": 3,
   "metadata": {},
   "outputs": [
    {
     "data": {
      "text/plain": [
       "260"
      ]
     },
     "execution_count": 3,
     "metadata": {},
     "output_type": "execute_result"
    }
   ],
   "source": [
    "13*20"
   ]
  },
  {
   "cell_type": "code",
   "execution_count": null,
   "metadata": {},
   "outputs": [
    {
     "data": {
      "text/plain": [
       "torch.Size([260, 2])"
      ]
     },
     "execution_count": 8,
     "metadata": {},
     "output_type": "execute_result"
    }
   ],
   "source": [
    "samples[0].shape"
   ]
  },
  {
   "cell_type": "markdown",
   "metadata": {},
   "source": [
    " Given this observation, we can then sample from the posterior $p(\\theta|x)$, evaluate its log-probability, or plot it."
   ]
  },
  {
   "cell_type": "code",
   "execution_count": null,
   "metadata": {},
   "outputs": [
    {
     "data": {
      "image/png": "[encoded data removed]",
      "text/plain": [
       "<Figure size 600x600 with 9 Axes>"
      ]
     },
     "metadata": {},
     "output_type": "display_data"
    }
   ],
   "source": [
    "\n",
    "samples1 = posterior_samples[:,2].detach()\n",
    "_ = analysis.pairplot([samples1], limits=[[-2, 2], [-2, 2], [-2, 2]], figsize=(6, 6))"
   ]
  },
  {
   "cell_type": "markdown",
   "metadata": {},
   "source": [
    "## Next steps\n",
    "\n",
    "The single-line interface described above provides an easy entry for using `sbi`. However, on almost any real-world problem that goes beyond a simple demonstration, we strongly recommend using the [flexible interface](https://sbi-dev.github.io/sbi/tutorial/02_flexible_interface/)."
   ]
  }
 ],
 "metadata": {
  "kernelspec": {
   "display_name": "Python 3",
   "language": "python",
   "name": "python3"
  },
  "language_info": {
   "codemirror_mode": {
    "name": "ipython",
    "version": 3
   },
   "file_extension": ".py",
   "mimetype": "text/x-python",
   "name": "python",
   "nbconvert_exporter": "python",
   "pygments_lexer": "ipython3",
   "version": "3.11.7"
  }
 },
 "nbformat": 4,
 "nbformat_minor": 4
}
