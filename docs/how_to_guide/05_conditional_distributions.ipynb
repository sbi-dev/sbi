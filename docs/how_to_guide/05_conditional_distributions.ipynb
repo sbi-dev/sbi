{
 "cells": [
  {
   "cell_type": "markdown",
   "metadata": {},
   "source": [
    "# How to visualize the conditional posterior distribution\n",
    "\n",
    "In all tutorials, we used the `pairplot` method to visualize the posterior. This method visualizes the posterior _marginals_. Another option to visualize the posterior _conditionals_. You can do this with the `conditional_pairplot` function:"
   ]
  },
  {
   "cell_type": "markdown",
   "metadata": {},
   "source": [
    "## Main syntax for visualizing 2D-conditional distributions\n"
   ]
  },
  {
   "cell_type": "markdown",
   "metadata": {},
   "source": [
    "```python\n",
    "from sbi.analysis import conditional_pairplot\n",
    "\n",
    "# The posterior must have a `default_x`.\n",
    "posterior = inference.build_posterior().set_default_x(x_o)\n",
    "\n",
    "_ = conditional_pairplot(\n",
    "    density=posterior,\n",
    "    condition=posterior.sample((1,))[0],  # [0] to remove batch dimension.\n",
    "    limits=torch.tensor([[-2.0, 2.0], [-2.0, 2.0]]),\n",
    ")\n",
    "```"
   ]
  },
  {
   "cell_type": "markdown",
   "metadata": {},
   "source": [
    "## Explanation"
   ]
  },
  {
   "cell_type": "markdown",
   "metadata": {},
   "source": [
    "Consider the three-dimensional posterior\n",
    "\n",
    "$$\n",
    "p(\\theta_1, \\theta_2, \\theta_3 | x_o).\n",
    "$$\n",
    "\n",
    "The pairplot visualizes its marginals, for example:\n",
    "\n",
    "$$\n",
    "p(\\theta_1, \\theta_2 | x) = \\int p(\\theta_1, \\theta_2, \\theta_3 | x_o) \\,\\, \\text{d}\\theta_3.\n",
    "$$\n",
    "\n",
    "The conditional_pairplot visualizes its conditional, for example:\n",
    "\n",
    "$$\n",
    "p(\\theta_1, \\theta_2 | \\theta_3 = t, x_o).\n",
    "$$\n",
    "\n",
    "Importantly, this requires a value $t$ which specifies the value we want to condition on. These conditional distributions can be interpreted as a cut through the posterior distribution at $\\theta_3=t$. The value $t$ is passed to the conditional_pairplot() via the condition= argument (note that conditional_pairplot requires a condition value for all parameters. The ones that we do not condition on are simply ignored."
   ]
  },
  {
   "cell_type": "markdown",
   "metadata": {},
   "source": [
    "## Example\n",
    "\n",
    "For a detailed example on interpreting and visualizing conditional distributions, see [this tutorial](). This tutorial also explains how you can draw samples from arbitrary parameter-conditional distributions such as \n",
    "\n",
    "$$\n",
    "p(\\theta_1, \\theta_2 | \\theta_3 = t, x_o).\n",
    "$$"
   ]
  }
 ],
 "metadata": {
  "kernelspec": {
   "display_name": "Python 3 (ipykernel)",
   "language": "python",
   "name": "python3"
  },
  "language_info": {
   "codemirror_mode": {
    "name": "ipython",
    "version": 3
   },
   "file_extension": ".py",
   "mimetype": "text/x-python",
   "name": "python",
   "nbconvert_exporter": "python",
   "pygments_lexer": "ipython3",
   "version": "3.12.4"
  },
  "toc": {
   "base_numbering": 1,
   "nav_menu": {},
   "number_sections": true,
   "sideBar": true,
   "skip_h1_title": false,
   "title_cell": "Table of Contents",
   "title_sidebar": "Contents",
   "toc_cell": false,
   "toc_position": {},
   "toc_section_display": true,
   "toc_window_display": false
  }
 },
 "nbformat": 4,
 "nbformat_minor": 4
}
