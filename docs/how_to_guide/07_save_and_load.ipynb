{
 "cells": [
  {
   "cell_type": "markdown",
   "id": "a8190bdd",
   "metadata": {},
   "source": [
    "# How to save and load objects"
   ]
  },
  {
   "cell_type": "markdown",
   "id": "79e2c679",
   "metadata": {},
   "source": [
    "`NeuralPosterior` objects are picklable.\n",
    "\n",
    "```python\n",
    "import pickle\n",
    "\n",
    "# ... run inference\n",
    "posterior = inference.build_posterior()\n",
    "\n",
    "with open(\"/path/to/my_posterior.pkl\", \"wb\") as handle:\n",
    "    pickle.dump(posterior, handle)\n",
    "```\n",
    "\n",
    "> `posterior` objects that were saved under `sbi v0.22.0` or older cannot be loaded under `sbi v0.23.0` or newer.\n",
    "\n",
    "`NeuralInference` objects are also picklable.\n",
    "\n",
    "```python\n",
    "import pickle\n",
    "\n",
    "# ... run inference\n",
    "posterior = inference.build_posterior()\n",
    "\n",
    "with open(\"/path/to/my_inference.pkl\", \"wb\") as handle:\n",
    "    pickle.dump(inference, handle)\n",
    "```"
   ]
  },
  {
   "cell_type": "markdown",
   "id": "1a5445f7",
   "metadata": {},
   "source": [
    "## I trained a model on a GPU. Can I load it on a CPU?\n",
    "\n",
    "The code snippet below allows to load inference objects on a CPU if they were\n",
    "saved on a GPU. Note that the neural net also needs to be moved to CPU.\n",
    "\n",
    "```python\n",
    "import io\n",
    "import pickle\n",
    "\n",
    "#https://stackoverflow.com/questions/57081727/load-pickle-file-obtained-from-gpu-to-cpu\n",
    "class CPU_Unpickler(pickle.Unpickler):\n",
    "    def find_class(self, module, name):\n",
    "        if module == 'torch.storage' and name == '_load_from_bytes':\n",
    "            return lambda b: torch.load(io.BytesIO(b), map_location='cpu')\n",
    "        else:\n",
    "            return super().find_class(module, name)\n",
    "\n",
    "with open(\"/path/to/my_inference.pkl\", \"rb\") as f:\n",
    "    inference = CPU_Unpickler(f).load()\n",
    "\n",
    "posterior = inference.build_posterior(inference._neural_net.to(\"cpu\"))\n",
    "```\n",
    "\n",
    "Loading inference objects on CPU can be useful for inspection. However, resuming\n",
    "training on CPU for an inference object trained on a GPU is currently not\n",
    "supported. If this is strictly required by your workflow, consider setting\n",
    "`inference._device = \"cpu\"` before calling `inference.train()`.\n"
   ]
  }
 ],
 "metadata": {
  "kernelspec": {
   "display_name": "Python 3 (ipykernel)",
   "language": "python",
   "name": "python3"
  },
  "language_info": {
   "codemirror_mode": {
    "name": "ipython",
    "version": 3
   },
   "file_extension": ".py",
   "mimetype": "text/x-python",
   "name": "python",
   "nbconvert_exporter": "python",
   "pygments_lexer": "ipython3",
   "version": "3.12.4"
  }
 },
 "nbformat": 4,
 "nbformat_minor": 5
}
