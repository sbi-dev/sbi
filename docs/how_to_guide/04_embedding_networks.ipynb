{
 "cells": [
  {
   "cell_type": "markdown",
   "metadata": {},
   "source": [
    "# How to use embedding nets for high-dimensional observations"
   ]
  },
  {
   "cell_type": "markdown",
   "metadata": {},
   "source": [
    "Many simulators return high-dimensional outputs such as time-series or images. To efficiently learn the posterior given such simulation outputs, `sbi` can employ _embedding networks_ which reduce these high-dimensional outputs.\n",
    "\n",
    "`sbi` provides pre-configured embedding networks (MLP, CNN, and permutation-invariant networks) or allows to pass custom-written embedding networks."
   ]
  },
  {
   "cell_type": "markdown",
   "metadata": {},
   "source": [
    "> Only `NPE` and `NRE` methods can use an `embedding_net` to learn summary statistics from simulation outputs. `NLE` does not offer such functionality because the simulation outputs are also the output of the neural density estimator. "
   ]
  },
  {
   "cell_type": "markdown",
   "metadata": {},
   "source": [
    "## Using pre-configured embedding networks"
   ]
  },
  {
   "cell_type": "markdown",
   "metadata": {},
   "source": [
    "```Python\n",
    "# import required modules\n",
    "from sbi.neural_nets import posterior_nn\n",
    "\n",
    "# import the different choices of pre-configured embedding networks\n",
    "from sbi.neural_nets.embedding_nets import (\n",
    "    FCEmbedding,\n",
    "    CNNEmbedding,\n",
    "    PermutationInvariantEmbedding\n",
    ")\n",
    "\n",
    "# Choose which type of pre-configured embedding net to use (e.g. CNN)\n",
    "embedding_net = CNNEmbedding(input_shape=(32, 32))\n",
    "\n",
    "# Instantiate the conditional neural density estimator\n",
    "neural_posterior = posterior_nn(model=\"maf\", embedding_net=embedding_net)\n",
    "\n",
    "# Setup the inference procedure with NPE\n",
    "trainer = NPE(density_estimator=neural_posterior)\n",
    "# Continue as always...\n",
    "```"
   ]
  },
  {
   "cell_type": "markdown",
   "metadata": {},
   "source": [
    "## Defining custom embedding networks\n",
    "\n",
    "Alternatively, it is also possible to define custom embedding networks and pass those to neural density estimator. For example, you can implement a custom CNN as follows:"
   ]
  },
  {
   "cell_type": "markdown",
   "metadata": {},
   "source": [
    "```python\n",
    "class CustomCNN(nn.Module):\n",
    "    def __init__(self):\n",
    "        super().__init__()\n",
    "        # 2D convolutional layer\n",
    "        self.conv1 = nn.Conv2d(in_channels=1, out_channels=6, kernel_size=5, padding=2)\n",
    "        # Maxpool layer that reduces 32x32 image to 4x4\n",
    "        self.pool = nn.MaxPool2d(kernel_size=8, stride=8)\n",
    "        # Fully connected layer taking as input the 6 flattened output arrays\n",
    "        # from the maxpooling layer\n",
    "        self.fc = nn.Linear(in_features=6 * 4 * 4, out_features=8)\n",
    "\n",
    "    def forward(self, x):\n",
    "        x = x.view(-1, 1, 32, 32)\n",
    "        x = self.pool(F.relu(self.conv1(x)))\n",
    "        x = x.view(-1, 6 * 4 * 4)\n",
    "        x = F.relu(self.fc(x))\n",
    "        return x\n",
    "\n",
    "# instantiate the custom embedding_net\n",
    "embedding_net_custom = CustomCNN()\n",
    "\n",
    "# Instantiate the conditional neural density estimator\n",
    "neural_posterior = posterior_nn(model=\"maf\", embedding_net=embedding_net_custom)\n",
    "trainer = NPE(density_estimator=neural_posterior)\n",
    "# Continue as always...\n",
    "```"
   ]
  },
  {
   "cell_type": "markdown",
   "metadata": {},
   "source": [
    "## Example: Inferring parameters from images\n",
    "\n",
    "For a full example on using embedding networks (on simulation outputs that are images), see [this tutorial]()."
   ]
  }
 ],
 "metadata": {
  "kernelspec": {
   "display_name": "Python 3 (ipykernel)",
   "language": "python",
   "name": "python3"
  },
  "language_info": {
   "codemirror_mode": {
    "name": "ipython",
    "version": 3
   },
   "file_extension": ".py",
   "mimetype": "text/x-python",
   "name": "python",
   "nbconvert_exporter": "python",
   "pygments_lexer": "ipython3",
   "version": "3.12.4"
  }
 },
 "nbformat": 4,
 "nbformat_minor": 4
}
