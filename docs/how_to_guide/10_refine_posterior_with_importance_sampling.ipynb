{
 "cells": [
  {
   "cell_type": "markdown",
   "id": "ebc792ba",
   "metadata": {},
   "source": [
    "# How to refine posterior estimates with importance sampling"
   ]
  },
  {
   "cell_type": "markdown",
   "id": "f91df50c",
   "metadata": {},
   "source": [
    "The `sbi` toolbox does not require that the simulator can **evaluate** the likelihood (it only requires samples). If the likelihood can be evaluated, then one can refine the posterior estimate _after training_ with likelihood evaluations. This is typically done with importance sampling (using the posterior estimate as proposal).\n",
    "\n",
    "In `sbi`, this can be implemented as follows:"
   ]
  },
  {
   "cell_type": "markdown",
   "id": "ea3b6412",
   "metadata": {},
   "source": [
    "## Main syntax"
   ]
  },
  {
   "cell_type": "markdown",
   "id": "2abe3610",
   "metadata": {},
   "source": [
    "```python\n",
    "from sbi.inference import ImportanceSamplingPosterior\n",
    "\n",
    "log_prob_fn = lambda theta, x_o: simulator.log_likelihood(theta, x_o) + prior.log_prob(theta)\n",
    "\n",
    "# Obtian posterior with NPE, NLE, or NRE.\n",
    "posterior_estimate = DirectPosterior(posterior_net, prior).set_default_x(x_o)\n",
    "\n",
    "# Importance sampling for refining the posterior_estimate.\n",
    "posterior_sir = ImportanceSamplingPosterior(\n",
    "    potential_fn=log_prob_fn,\n",
    "    proposal=posterior_estimate,\n",
    "    method=\"sir\",\n",
    ")\n",
    "theta_inferred_sir = posterior_sir.sample(\n",
    "    (1000,),\n",
    "    oversampling_factor=32,\n",
    ")\n",
    "```"
   ]
  },
  {
   "cell_type": "markdown",
   "id": "9c480c4f",
   "metadata": {},
   "source": [
    "## Example"
   ]
  },
  {
   "cell_type": "markdown",
   "id": "a10d9afc",
   "metadata": {},
   "source": [
    "More details can be found in the [tutorial on importance sampling for refining the posterior estimate](https://sbi.readthedocs.io/en/latest/advanced_tutorials/15_importance_sampled_posteriors.html)."
   ]
  }
 ],
 "metadata": {
  "kernelspec": {
   "display_name": "Python 3 (ipykernel)",
   "language": "python",
   "name": "python3"
  },
  "language_info": {
   "codemirror_mode": {
    "name": "ipython",
    "version": 3
   },
   "file_extension": ".py",
   "mimetype": "text/x-python",
   "name": "python",
   "nbconvert_exporter": "python",
   "pygments_lexer": "ipython3",
   "version": "3.12.9"
  }
 },
 "nbformat": 4,
 "nbformat_minor": 5
}
