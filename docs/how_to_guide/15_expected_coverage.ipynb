{
 "cells": [
  {
   "cell_type": "markdown",
   "id": "699388aa",
   "metadata": {},
   "source": [
    "# How to run expected coverage"
   ]
  },
  {
   "cell_type": "markdown",
   "id": "4e734b07",
   "metadata": {},
   "source": [
    "Expected coverage provides a simple and interpretable tool to diagnose issues in the posterior. In comparison to other diagnostic tools such as L-C2ST, it requires relatively few additional simulations (~200) and it does not rely on any additional hyperparameters (as TARP would) or additional neural network training.\n",
    "\n",
    "Expected coverage allows you to evaluate whether your posterior is, on average across many observations (prior predictive samples) is over- or under-confident.\n",
    "\n",
    "You can run expected coverage with the `sbi` toolbox as shown below:"
   ]
  },
  {
   "cell_type": "markdown",
   "id": "24ccbf7f",
   "metadata": {},
   "source": [
    "## Main syntax"
   ]
  },
  {
   "cell_type": "markdown",
   "id": "f83b9e30",
   "metadata": {},
   "source": [
    "```python\n",
    "from sbi.diagnostics import run_sbc\n",
    "from sbi.analysis.plot import sbc_rank_plot\n",
    "\n",
    "# Obtain your `posterior_estimator` with NPE, NLE, NRE.\n",
    "posterior = inference.build_posterior()\n",
    "\n",
    "num_sbc_samples = 200  # choose a number of sbc runs, should be ~100s\n",
    "prior_samples = prior.sample((num_sbc_samples,))\n",
    "prior_predictives = simulate(prior_samples)\n",
    "\n",
    "# run SBC: for each inference we draw 1000 posterior samples.\n",
    "num_posterior_samples = 1_000\n",
    "ranks, dap_samples = run_sbc(\n",
    "    prior_samples,\n",
    "    prior_predictives,\n",
    "    posterior,\n",
    "    reduce_fns=lambda theta, x: -posterior.log_prob(theta, x),\n",
    "    num_posterior_samples=num_posterior_samples,\n",
    "    use_batched_sampling=False,  # `True` can give speed-ups, but can cause memory issues.\n",
    ")\n",
    "fig, ax = sbc_rank_plot(\n",
    "    ranks,\n",
    "    num_posterior_samples,\n",
    "    plot_type=\"cdf\",\n",
    "    num_bins=20,\n",
    "    figsize=(5, 3),\n",
    ")\n",
    "```"
   ]
  },
  {
   "cell_type": "markdown",
   "id": "0a683358",
   "metadata": {},
   "source": [
    "This will return a figure such as the following:"
   ]
  },
  {
   "cell_type": "markdown",
   "id": "aa7dc091",
   "metadata": {},
   "source": [
    "<img src=\"data/sbc_rank_plot.png\" width=\"500\">"
   ]
  },
  {
   "cell_type": "markdown",
   "id": "065fae1f",
   "metadata": {},
   "source": [
    "You can interpret this plots as follows:\n",
    "- If the blue line is below the diagonal, then the `posterior` is (on average) over\n",
    "-confident.\n",
    "- If the line is above the gray region, then the `posterior` is, on average, under-confident.\n",
    "- If the line is within the gray region, then we cannot reject the null hypothesis that the posterior is well-calibrated."
   ]
  },
  {
   "cell_type": "markdown",
   "id": "78f37ce0",
   "metadata": {},
   "source": [
    "## Citation\n",
    "\n",
    "The sample-based implementation of expected coverage used in `sbi` is described in:\n",
    "\n",
    "```\n",
    "@article{\n",
    "  deistler2022truncated,\n",
    "  title={Truncated proposals for scalable and hassle-free simulation-based inference},\n",
    "  author={Deistler, Michael and Goncalves, Pedro J and Macke, Jakob H},\n",
    "  journal={Advances in neural information processing systems},\n",
    "  volume={35},\n",
    "  pages={23135--23149},\n",
    "  year={2022}\n",
    "}\n",
    "```\n",
    "\n",
    "Expected coverage had previously been introduced for simulation-based inference here:\n",
    "```\n",
    "@article{  \n",
    "  hermans2022crisis,\n",
    "  title={A crisis in simulation-based inference? beware, your posterior approximations can be unfaithful},\n",
    "  author={Hermans, Joeri and Delaunoy, Arnaud and Rozet, Fran{\\c{c}}ois and Wehenkel, Antoine and Louppe, Gilles},\n",
    "  journal={Transactions on Machine Learning Research},\n",
    "  year={2022},\n",
    "  publisher={OpenReview, Amherst, United States-Massachusetts}\n",
    "}\n",
    "```\n",
    "\n",
    "```\n",
    "@article{\n",
    "  miller2021truncated,\n",
    "  title={Truncated marginal neural ratio estimation},\n",
    "  author={Miller, Benjamin K and Cole, Alex and Forr{\\'e}, Patrick and Louppe, Gilles and Weniger, Christoph},\n",
    "  journal={Advances in Neural Information Processing Systems},\n",
    "  volume={34},\n",
    "  pages={129--143},\n",
    "  year={2021}\n",
    "}\n",
    "```"
   ]
  }
 ],
 "metadata": {
  "kernelspec": {
   "display_name": "Python 3 (ipykernel)",
   "language": "python",
   "name": "python3"
  },
  "language_info": {
   "codemirror_mode": {
    "name": "ipython",
    "version": 3
   },
   "file_extension": ".py",
   "mimetype": "text/x-python",
   "name": "python",
   "nbconvert_exporter": "python",
   "pygments_lexer": "ipython3",
   "version": "3.12.4"
  }
 },
 "nbformat": 4,
 "nbformat_minor": 5
}
