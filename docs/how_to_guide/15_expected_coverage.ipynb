{
 "cells": [
  {
   "cell_type": "markdown",
   "id": "262a8be1",
   "metadata": {},
   "source": [
    "# How to run expected coverage"
   ]
  },
  {
   "cell_type": "markdown",
   "id": "afdf4c0c",
   "metadata": {},
   "source": [
    "Expected coverage provides a simple and interpretable tool to diagnose issues in the posterior. In comparison to other diagnostic tools such as L-C2ST, it requires relatively few additional simulations (~200) and it does not rely on any additional hyperparameters (as TARP would) or additional neural network training.\n",
    "\n",
    "Expected coverage allows you to evaluate whether your posterior is, on average across many observations (prior predictive samples) is over- or under-confident.\n",
    "\n",
    "You can run expected coverage with the `sbi` toolbox as shown below:"
   ]
  },
  {
   "cell_type": "markdown",
   "id": "f897470f",
   "metadata": {},
   "source": [
    "## Main syntax"
   ]
  },
  {
   "cell_type": "markdown",
   "id": "4b758674",
   "metadata": {},
   "source": [
    "```python\n",
    "from sbi.diagnostics import run_sbc\n",
    "from sbi.analysis.plot import sbc_rank_plot\n",
    "\n",
    "# Obtain your `posterior_estimator` with NPE, NLE, NRE.\n",
    "posterior_estimator = DirectPosterior(posterior_net, prior)\n",
    "\n",
    "num_sbc_samples = 200  # choose a number of sbc runs, should be ~100s\n",
    "prior_samples = prior.sample((num_sbc_samples,))\n",
    "prior_predictives = simulate(prior_samples)\n",
    "\n",
    "# run SBC: for each inference we draw 1000 posterior samples.\n",
    "num_posterior_samples = 1_000\n",
    "ranks, dap_samples = run_sbc(\n",
    "    prior_samples,\n",
    "    prior_predictives,\n",
    "    posterior_estimator,\n",
    "    reduce_fns=lambda theta, x: -posterior_estimator.log_prob(theta, x),\n",
    "    num_posterior_samples=num_posterior_samples,\n",
    "    use_batched_sampling=False,  # `True` can give speed-ups, but can cause memory issues.\n",
    ")\n",
    "fig, ax = sbc_rank_plot(\n",
    "    ranks,\n",
    "    num_posterior_samples,\n",
    "    plot_type=\"cdf\",\n",
    "    num_bins=20,\n",
    "    figsize=(5, 3),\n",
    ")\n",
    "```"
   ]
  },
  {
   "cell_type": "markdown",
   "id": "3a700ac9",
   "metadata": {},
   "source": [
    "This will return a figure such as the following:"
   ]
  },
  {
   "cell_type": "markdown",
   "id": "1614d726",
   "metadata": {},
   "source": [
    "<img src=\"sbc_rank_plot.png\" width=\"500\">"
   ]
  },
  {
   "cell_type": "markdown",
   "id": "14c277ea",
   "metadata": {},
   "source": [
    "You can interpret this plots as follows:\n",
    "- If the blue line is below the diagonal, then the `posterior_estimator` is (on average) over\n",
    "-confident.\n",
    "- If the line is above the gray region, then the `posterior_esitmator` is, on average, under-confident.\n",
    "- If the line is within the gray region, then we cannot reject the null hypothesis that the posterior is well-calibrated."
   ]
  }
 ],
 "metadata": {
  "kernelspec": {
   "display_name": "Python 3 (ipykernel)",
   "language": "python",
   "name": "python3"
  },
  "language_info": {
   "codemirror_mode": {
    "name": "ipython",
    "version": 3
   },
   "file_extension": ".py",
   "mimetype": "text/x-python",
   "name": "python",
   "nbconvert_exporter": "python",
   "pygments_lexer": "ipython3",
   "version": "3.12.4"
  }
 },
 "nbformat": 4,
 "nbformat_minor": 5
}
