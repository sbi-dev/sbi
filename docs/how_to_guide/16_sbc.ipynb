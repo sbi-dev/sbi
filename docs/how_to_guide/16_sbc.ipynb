{
 "cells": [
  {
   "cell_type": "markdown",
   "id": "7e0516a5",
   "metadata": {},
   "source": [
    "# How to run simulation-based calibration (SBC)"
   ]
  },
  {
   "cell_type": "markdown",
   "id": "df0d4628",
   "metadata": {},
   "source": [
    "Similar to expected coverage, simulation-based calibration (SBC) provides a simple and interpretable tool to diagnose issues in the posterior. It also requires relatively few additional simulations (~200) and it does not rely on any additional hyperparameters (as TARP would) or additional neural network training.\n",
    "\n",
    "SBC allows you to evaluate whether individual marginals of the posterior are, on average across many observations (prior predictive samples) too narrow, too wide, or skewed.\n",
    "\n",
    "You can run SBC with the `sbi` toolbox as shown below:"
   ]
  },
  {
   "cell_type": "markdown",
   "id": "11650061",
   "metadata": {},
   "source": [
    "## Main syntax"
   ]
  },
  {
   "cell_type": "markdown",
   "id": "8174d1d2",
   "metadata": {},
   "source": [
    "```python\n",
    "from sbi.diagnostics import run_sbc\n",
    "\n",
    "# Obtain your `posterior_estimator` with NPE, NLE, NRE.\n",
    "posterior = inference.build_posterior()\n",
    "\n",
    "num_sbc_samples = 200  # choose a number of sbc runs, should be ~100s\n",
    "prior_samples = prior.sample((num_sbc_samples,))\n",
    "prior_predictives = simulate(prior_samples)\n",
    "\n",
    "# run SBC: for each inference we draw 1000 posterior samples.\n",
    "num_posterior_samples = 1_000\n",
    "ranks, dap_samples = run_sbc(\n",
    "    prior_samples,\n",
    "    prior_predictives,\n",
    "    posterior,\n",
    "    num_posterior_samples=num_posterior_samples,\n",
    "    use_batched_sampling=False,  # `True` can give speed-ups, but can cause memory issues.\n",
    ")\n",
    "fig, ax = sbc_rank_plot(\n",
    "    ranks,\n",
    "    num_posterior_samples,\n",
    "    num_bins=20,\n",
    "    figsize=(5, 3),\n",
    ")\n",
    "```"
   ]
  },
  {
   "cell_type": "markdown",
   "id": "902dcd07",
   "metadata": {},
   "source": [
    "The only difference to running expected coverage is that we did not pass `run_sbc(..., reduce_fns=...)` and we visualize it differently by not passing `sbc_rank_plot(..., plot_type=\"cdf\")`"
   ]
  },
  {
   "cell_type": "markdown",
   "id": "13128f34",
   "metadata": {},
   "source": [
    "This will return a figure such as the following:"
   ]
  },
  {
   "cell_type": "markdown",
   "id": "1c0d27fe",
   "metadata": {},
   "source": [
    "<img src=\"data/sbc_plot.png\" width=\"500\">"
   ]
  },
  {
   "cell_type": "markdown",
   "id": "f8625c0c",
   "metadata": {},
   "source": [
    "This plots as many plots as there are parameters. For each of the parameters you can interpret the the shape of the red bars as follows:\n",
    "- if they are all contained within the gray region, then we cannot reject the null-hypothesis that the posterior marginals are well-calibrated.\n",
    "- If the red bars are higher on the left (i.e. they are sloped downwards), then the posterior estimate is skewed to the right\n",
    "- If the red bars are higher on the right (i.e. they are sloped upwards), then the posterior estimate is skewed to the left\n",
    "- If the red bars are U-shaped, then our posterior estimate is too narrow in that parameter dimension\n",
    "- If the red bars are bell-shaped, then our posterior estimate is too wide in that parameter dimension"
   ]
  },
  {
   "cell_type": "markdown",
   "id": "b7e76003",
   "metadata": {},
   "source": [
    "## Example"
   ]
  },
  {
   "cell_type": "markdown",
   "id": "df48ce24",
   "metadata": {},
   "source": [
    "For a detailed example and further explanation, see [this tutorial](https://sbi.readthedocs.io/en/latest/advanced_tutorials/11_diagnostics_simulation_based_calibration.html)."
   ]
  },
  {
   "cell_type": "markdown",
   "id": "cdba7af6",
   "metadata": {},
   "source": [
    "## Citation\n",
    "\n",
    "```\n",
    "@article{cook2006validation,\n",
    "  title={Validation of software for Bayesian models using posterior quantiles},\n",
    "  author={Cook, Samantha R and Gelman, Andrew and Rubin, Donald B},\n",
    "  journal={Journal of Computational and Graphical Statistics},\n",
    "  volume={15},\n",
    "  number={3},\n",
    "  pages={675--692},\n",
    "  year={2006},\n",
    "  publisher={Taylor \\& Francis}\n",
    "}\n",
    "```\n",
    "\n",
    "```\n",
    "@article{talts2018validating,\n",
    "  title={Validating Bayesian inference algorithms with simulation-based calibration},\n",
    "  author={Talts, Sean and Betancourt, Michael and Simpson, Daniel and Vehtari, Aki and Gelman, Andrew},\n",
    "  journal={arXiv preprint arXiv:1804.06788},\n",
    "  year={2018}\n",
    "}\n",
    "```"
   ]
  }
 ],
 "metadata": {
  "kernelspec": {
   "display_name": "Python 3 (ipykernel)",
   "language": "python",
   "name": "python3"
  },
  "language_info": {
   "codemirror_mode": {
    "name": "ipython",
    "version": 3
   },
   "file_extension": ".py",
   "mimetype": "text/x-python",
   "name": "python",
   "nbconvert_exporter": "python",
   "pygments_lexer": "ipython3",
   "version": "3.12.4"
  }
 },
 "nbformat": 4,
 "nbformat_minor": 5
}
