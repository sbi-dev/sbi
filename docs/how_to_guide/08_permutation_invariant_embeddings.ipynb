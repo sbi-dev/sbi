{
 "cells": [
  {
   "cell_type": "markdown",
   "metadata": {},
   "source": [
    "# How to use permutation-invariant embeddings for iid observations (for NPE)"
   ]
  },
  {
   "cell_type": "markdown",
   "metadata": {},
   "source": [
    "> Important: This how-to guide is only relevant if you have iid observations **and** you are planning to use NPE. NLE and NRE can naturally deal with iid observations and do _not_ need to be modified to deal with iid data. See also [this how-to guide]() on using iid observations with NLE or NRE.\n",
    "\n",
    "In many cases, you want to estimate a parameter set given _multiple_ observations. To use NPE in these scenarios, we advise that you use a `PermutationInvariantEmbedding`. In `sbi`, this can be done as shown below:"
   ]
  },
  {
   "cell_type": "markdown",
   "metadata": {},
   "source": [
    "## Main syntax"
   ]
  },
  {
   "cell_type": "markdown",
   "metadata": {},
   "source": [
    "```python\n",
    "from sbi.neural_nets import posterior_nn\n",
    "from sbi.neural_nets.embedding_nets import FCEmbedding, PermutationInvariantEmbedding\n",
    "\n",
    "latent_dim = 10\n",
    "single_trial_net = FCEmbedding(\n",
    "    input_dim=theta_dim,\n",
    "    num_hiddens=40,\n",
    "    num_layers=2,\n",
    "    output_dim=latent_dim,\n",
    ")\n",
    "embedding_net = PermutationInvariantEmbedding(\n",
    "    single_trial_net,\n",
    "    trial_net_output_dim=latent_dim,\n",
    "    num_layers=1,\n",
    "    num_hiddens=10,\n",
    "    output_dim=10,\n",
    ")\n",
    "density_estimator = posterior_nn(\"maf\", embedding_net=embedding_net)\n",
    "trainer = NPE(density_estimator=density_estimator)\n",
    "```"
   ]
  },
  {
   "cell_type": "markdown",
   "metadata": {},
   "source": [
    "## What to do if you have varying numbers of iid trials?"
   ]
  },
  {
   "cell_type": "markdown",
   "metadata": {},
   "source": [
    "If you have varying numbers of trials across multiple observations, pad the missing simulations with `NaN`."
   ]
  },
  {
   "cell_type": "markdown",
   "metadata": {},
   "source": [
    "## Example"
   ]
  },
  {
   "cell_type": "markdown",
   "metadata": {},
   "source": [
    "For a detailed explanation and example, see [this tutorial]()."
   ]
  }
 ],
 "metadata": {
  "kernelspec": {
   "display_name": "Python 3 (ipykernel)",
   "language": "python",
   "name": "python3"
  },
  "language_info": {
   "codemirror_mode": {
    "name": "ipython",
    "version": 3
   },
   "file_extension": ".py",
   "mimetype": "text/x-python",
   "name": "python",
   "nbconvert_exporter": "python",
   "pygments_lexer": "ipython3",
   "version": "3.12.4"
  },
  "toc": {
   "base_numbering": 1,
   "nav_menu": {},
   "number_sections": true,
   "sideBar": true,
   "skip_h1_title": false,
   "title_cell": "Table of Contents",
   "title_sidebar": "Contents",
   "toc_cell": false,
   "toc_position": {},
   "toc_section_display": true,
   "toc_window_display": false
  },
  "vscode": {
   "interpreter": {
    "hash": "9ef9b53a5ce850816b9705a866e49207a37a04a71269aa157d9f9ab944ea42bf"
   }
  }
 },
 "nbformat": 4,
 "nbformat_minor": 4
}
