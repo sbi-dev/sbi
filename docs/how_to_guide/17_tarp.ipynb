{
 "cells": [
  {
   "cell_type": "markdown",
   "id": "288582ce",
   "metadata": {},
   "source": [
    "# How to run TARP"
   ]
  },
  {
   "cell_type": "markdown",
   "id": "320a2481",
   "metadata": {},
   "source": [
    "TARP is an alternative calibration check proposed recently in https://arxiv.org/abs/2302.03026. \n",
    "\n",
    "In contrast to SBC (Talts et al.) and expected coverage based highest posterior density regions\n",
    "(Deistler et al.,), TARP provides a necessary *and sufficient* condition for posterior\n",
    "accuracy, i.e., it can also detect inaccurate posterior estimators. \n",
    "\n",
    "Note, however, that this property depends on the choice of reference point distribution:\n",
    "to obtain the full diagnostic power of TARP, one would need to sample reference points\n",
    "from a distribution that depends on $x$. Thus, in general, we recommend using and\n",
    "interpreting TARP like SBC and complementing coverage checks with posterior predictive\n",
    "checks.\n",
    "\n",
    "You can run TARP in the `sbi` toolbox as follows:"
   ]
  },
  {
   "cell_type": "markdown",
   "id": "3771bedb",
   "metadata": {},
   "source": [
    "```python\n",
    "from sbi.diagnostics import run_tarp, check_tarp\n",
    "from sbi.analysis.plot import plot_tarp\n",
    "\n",
    "posterior = inference.build_posterior()\n",
    "\n",
    "num_tarp_samples = 200  # choose a number of sbc runs, should be ~100s\n",
    "# generate ground truth parameters and corresponding simulated observations for SBC.\n",
    "prior_samples = prior.sample((num_tarp_samples,))\n",
    "prior_predictives = simulator(thetas)\n",
    "\n",
    "# the tarp method returns the ECP values for a given set of alpha coverage levels.\n",
    "ecp, alpha = run_tarp(\n",
    "    prior_samples,\n",
    "    prior_predictives,\n",
    "    posterior,\n",
    "    references=None,  # will be calculated automatically.\n",
    "    num_posterior_samples=1000,\n",
    "    use_batched_sampling=False,  # `True` can give speed-ups, but can cause memory issues.\n",
    ")\n",
    "# Similar to SBC, we can check then check whether the distribution of ecp is close to\n",
    "# that of alpha.\n",
    "atc, ks_pval = check_tarp(ecp, alpha)\n",
    "print(atc, \"Should be close to 0\")\n",
    "print(ks_pval, \"Should be larger than 0.05\")\n",
    "\n",
    "plot_tarp(ecp, alpha)\n",
    "```"
   ]
  },
  {
   "cell_type": "markdown",
   "id": "f859cfd3",
   "metadata": {},
   "source": [
    "This generates a plot like the following:"
   ]
  },
  {
   "cell_type": "markdown",
   "id": "d3bf8d87",
   "metadata": {},
   "source": [
    "<img src=\"data/tarp_plot.png\" width=\"400\">"
   ]
  },
  {
   "cell_type": "markdown",
   "id": "17c314c1",
   "metadata": {},
   "source": [
    "If the blue curve is above the diagonal, then the posterior estimate is under-confident. If it is under the diagonal, then the posterior estimate is over confident."
   ]
  },
  {
   "cell_type": "markdown",
   "id": "8770c645",
   "metadata": {},
   "source": [
    "## Explanation"
   ]
  },
  {
   "cell_type": "markdown",
   "id": "34751e2b",
   "metadata": {},
   "source": [
    "Given a test set $(\\theta^*, x^*)$ and a set of reference points $\\theta_r$, TARP calculates \n",
    "statistics for posterior calibration by \n",
    "- drawing posterior samples $\\theta$ given each $x_*$\n",
    "- calculating the distance $r$ between $\\theta_*$ and $\\theta_r$\n",
    "- counting for how many of the posterior samples their distance to $\\theta_r$ is smaller than $r$\n",
    "\n",
    "See https://arxiv.org/abs/2302.03026, Figure 2, for an illustration.\n",
    "\n",
    "For each given coverage level $\\alpha$, one can then calculate the corresponding average counts\n",
    "and check, whether they correspond to the given $\\alpha$. "
   ]
  },
  {
   "cell_type": "markdown",
   "id": "30ac8e6a",
   "metadata": {},
   "source": [
    "## Citation\n",
    "\n",
    "```\n",
    "@inproceedings{lemos2023sampling,\n",
    "  title={Sampling-based accuracy testing of posterior estimators for general inference},\n",
    "  author={Lemos, Pablo and Coogan, Adam and Hezaveh, Yashar and Perreault-Levasseur, Laurence},\n",
    "  booktitle={International Conference on Machine Learning},\n",
    "  pages={19256--19273},\n",
    "  year={2023},\n",
    "  organization={PMLR}\n",
    "}\n",
    "```"
   ]
  }
 ],
 "metadata": {
  "kernelspec": {
   "display_name": "Python 3 (ipykernel)",
   "language": "python",
   "name": "python3"
  },
  "language_info": {
   "codemirror_mode": {
    "name": "ipython",
    "version": 3
   },
   "file_extension": ".py",
   "mimetype": "text/x-python",
   "name": "python",
   "nbconvert_exporter": "python",
   "pygments_lexer": "ipython3",
   "version": "3.12.4"
  }
 },
 "nbformat": 4,
 "nbformat_minor": 5
}
