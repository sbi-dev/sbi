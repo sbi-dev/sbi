{
 "cells": [
  {
   "cell_type": "markdown",
   "id": "7087e4ea",
   "metadata": {},
   "source": [
    "# How to choose neural nets"
   ]
  },
  {
   "cell_type": "markdown",
   "id": "05f22e24",
   "metadata": {},
   "source": [
    "`sbi` implements a wide range of neural networks for the different inference methods. By and large, we expect that the default choices of `sbi` perform well. This tutorial describes how you can optimize the performance of `sbi` by choosing the best neural net.\n",
    "\n",
    "## Explicit recommendations\n",
    "    \n",
    "- When your simulation outputs are high-dimensional (e.g., images, time-series,...), we strongly recommend using an embedding net, as described [here]().\n",
    "- For `NPE` and `NLE`, the `nsf` density estimator often outperforms the default (`maf`), but it is slower to train and may be more prone to overfitting. This can be done by setting `trainer = NPE(density_estimator=\"nsf\")`.\n",
    "- For best performance, optimize the hyperparameters of `sbi`, as described [here]()."
   ]
  }
 ],
 "metadata": {
  "kernelspec": {
   "display_name": "Python 3 (ipykernel)",
   "language": "python",
   "name": "python3"
  },
  "language_info": {
   "codemirror_mode": {
    "name": "ipython",
    "version": 3
   },
   "file_extension": ".py",
   "mimetype": "text/x-python",
   "name": "python",
   "nbconvert_exporter": "python",
   "pygments_lexer": "ipython3",
   "version": "3.12.4"
  }
 },
 "nbformat": 4,
 "nbformat_minor": 5
}
