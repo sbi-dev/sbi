{
 "cells": [
  {
   "cell_type": "markdown",
   "metadata": {},
   "source": [
    "# How to choose summary statistics\n"
   ]
  },
  {
   "cell_type": "markdown",
   "metadata": {},
   "source": [
    "Many simulators produce outputs that are high-dimesional. For example, a simulator might\n",
    "generate a time series or an image. In the tutorial [04_embedding_networks](https://sbi.readthedocs.io/en/latest/tutorials/04_embedding_networks.html), we discussed how a\n",
    "neural networks can be used to learn summary statistics from such data. Another option is to hand-craft summary statistics. But how should one choose \"good\" summary statistics?"
   ]
  },
  {
   "cell_type": "markdown",
   "metadata": {},
   "source": [
    "While there is no clear guide, we recommend the following workflow:\n",
    "- start with relatively few summary statistics and see if you can make inference work. Add more summary statistics after initial successes.\n",
    "- make sure that the summary statistic of the observation is covered by the summary statistics of the simulated data. To assess this, visualize the histogram of each summary statistic and plot the value of the observation (e.g., using the `pairplot` method). If, for some summary statistics, the observation is not covered (or is at the very border, e.g. the MSE above), the trained neural network will struggle.\n",
    "- do not use \"error\" as a summary statistic (typically followed by inferring the posterior given error=0). This will almost never give good results."
   ]
  }
 ],
 "metadata": {
  "kernelspec": {
   "display_name": "Python 3 (ipykernel)",
   "language": "python",
   "name": "python3"
  },
  "language_info": {
   "codemirror_mode": {
    "name": "ipython",
    "version": 3
   },
   "file_extension": ".py",
   "mimetype": "text/x-python",
   "name": "python",
   "nbconvert_exporter": "python",
   "pygments_lexer": "ipython3",
   "version": "3.12.4"
  },
  "toc": {
   "base_numbering": 1,
   "nav_menu": {},
   "number_sections": true,
   "sideBar": true,
   "skip_h1_title": false,
   "title_cell": "Table of Contents",
   "title_sidebar": "Contents",
   "toc_cell": false,
   "toc_position": {},
   "toc_section_display": true,
   "toc_window_display": false
  }
 },
 "nbformat": 4,
 "nbformat_minor": 4
}
