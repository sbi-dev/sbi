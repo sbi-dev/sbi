{
 "cells": [
  {
   "cell_type": "markdown",
   "id": "7ae41a99",
   "metadata": {},
   "source": [
    "# How to choose an inference method"
   ]
  },
  {
   "cell_type": "markdown",
   "id": "5321e8f2",
   "metadata": {},
   "source": [
    "`sbi` implements three sets of methods for inferring the posterior:\n",
    "- `NPE` (Neural Posterior Estimation),\n",
    "- `NLE` (Neural Likelihood Estimation), and\n",
    "- `NRE` (Neural Ratio Estimation).\n",
    "\n",
    "For each of these methods, `sbi` implements an amortized version and a sequential version. Which algorithm should you choose?"
   ]
  },
  {
   "cell_type": "markdown",
   "id": "338540cc",
   "metadata": {},
   "source": [
    "## Explicit recommendations\n",
    "\n",
    "- If have high-dimensional simulation-outputs (images, time-series,...), use `NPE` or `NRE`\n",
    "- If you want fast sampling, use `NPE`\n",
    "- If you have iid observations across many trials (and simulations are relatively expensive), use `NRE` or `NLE`\n",
    "- If you want to perform inference for many observations, use amortized methods (which is the default of the `sbi` package).\n",
    "- If you want to perform inference for few observations (<10), then start with amortized methods and switch to sequential methods only if the simulation cost is too high.\n",
    "- Do not use `SNPE_A` or `SNPE_B` unless you are an expert user and know what you are doing."
   ]
  },
  {
   "cell_type": "markdown",
   "id": "dd9df59d",
   "metadata": {},
   "source": [
    "## Additional explanation\n",
    "\n",
    "### NPE vs NLE vs NRE"
   ]
  },
  {
   "cell_type": "markdown",
   "id": "9ea0b579",
   "metadata": {},
   "source": [
    "**`NPE`** is the only method which estimates the posterior directly. This means that it will not require further sampling steps (such as MCMC) _after_ training. This makes NPE the fastest to `.sample()` from the posterior estimate after training. In addition, it can use an embedding network to learn summary statistics (just like NRE, but unlike NLE), see the tutorial [here]().\n",
    "\n",
    "**`NLE`** learns the likelihood. This allows NLE to emulate the simulator after training. To sample from the posterior, NLE is combined with MCMC or variational inference (see [here]()), which makes it slower to `.sample()`. An advantage of NLE is that, if you have multiple iid observations, then it can be much more simulation efficient than NPE (see tutorial [here]()).\n",
    "\n",
    "**`NRE`** learns the likelihood-to-evidence ratio. It trains only a classifier (unlike NPE and NLE, which train a generative model), which makes it fastest to train. Like NLE, NRE has to be combined MCMC or variational inference to run `.sample()`. Like NPE, NRE can use an embedding network to learn summary statistics."
   ]
  },
  {
   "cell_type": "markdown",
   "id": "cb0fdb5f",
   "metadata": {},
   "source": [
    "### Amortized or sequential"
   ]
  },
  {
   "cell_type": "markdown",
   "id": "556c87a3",
   "metadata": {},
   "source": [
    "**Amortized** methods allow you to perform inference for _any_ observation without running new simulations or retraining. In contrast, **sequential** methods tailor inference to a single observation, which can make them more simulation efficient.\n",
    "\n",
    "If you want to perform inference for many observations (>10), use amortized methods. If you have only few observations (or just a single on), then we still recommend you start with amortized methods. Only if simulation cost becomes too large, switch to sequential methods.\n",
    "\n",
    "The default behavior of `sbi` is to run each method in its amortized form. To run sequential methods, you have to build follow the tutorial [here]()."
   ]
  }
 ],
 "metadata": {
  "kernelspec": {
   "display_name": "Python 3 (ipykernel)",
   "language": "python",
   "name": "python3"
  },
  "language_info": {
   "codemirror_mode": {
    "name": "ipython",
    "version": 3
   },
   "file_extension": ".py",
   "mimetype": "text/x-python",
   "name": "python",
   "nbconvert_exporter": "python",
   "pygments_lexer": "ipython3",
   "version": "3.12.4"
  }
 },
 "nbformat": 4,
 "nbformat_minor": 5
}
