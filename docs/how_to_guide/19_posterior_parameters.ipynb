{
 "cells": [
  {
   "cell_type": "markdown",
   "id": "898a1f9b",
   "metadata": {},
   "source": [
    "# How to use `PosteriorParameters` in sbi\n",
    "\n",
    "The `PosteriorParameters` classes in SBI are dataclasses used to initialize parameters for different types of posterior algorithms, when using the `build_posterior` method. This guide shows how to configure and use PosteriorParameters in your workflow.\n",
    "\n",
    "`sbi` currently implements the following PosteriorParameters subclasses. Each subclass of `PosteriorParameters` holds parameters for a specific posterior sampling method. \n",
    "\n",
    "- `DirectPosteriorParameters`: used with DirectPosterior\n",
    "\n",
    "- `ImportanceSamplingPosteriorParameters`: used with ImportanceSamplingPosterior\n",
    "\n",
    "- `MCMCPosteriorParameters`: used with MCMCPosterior\n",
    "\n",
    "- `RejectionPosteriorParameters`: used with RejectionPosterior\n",
    "\n",
    "- `VectorFieldPosteriorParameters`: : used with VectorFieldPosterior\n",
    "\n",
    "- `VIPosteriorParameters`: used with VIPosterior"
   ]
  },
  {
   "cell_type": "markdown",
   "id": "8c4df01a",
   "metadata": {},
   "source": [
    "## Usage"
   ]
  },
  {
   "cell_type": "markdown",
   "id": "a7c6d86e",
   "metadata": {},
   "source": [
    "The example below uses `MCMCPosteriorParameters` for passing MCMC options to a posterior sampling via MCMC. You can follow a similar approach as the example below with your `sbi` workflow when using the other `PosteriorParameters` types."
   ]
  },
  {
   "cell_type": "code",
   "execution_count": null,
   "id": "5c1d2e5a",
   "metadata": {},
   "outputs": [],
   "source": [
    "import torch\n",
    "\n",
    "from sbi.inference import NRE\n",
    "from sbi.utils.torchutils import BoxUniform\n",
    "\n",
    "\n",
    "def simulator(theta):\n",
    "    return 1.0 + theta + torch.randn(theta.shape, device=theta.device) * 0.1\n",
    "\n",
    "num_dim = 3\n",
    "prior = BoxUniform(low=-2 * torch.ones(num_dim), high=2 * torch.ones(num_dim))\n",
    "theta = prior.sample((300,))\n",
    "x = simulator(theta)\n",
    "\n",
    "inference = NRE(prior=prior)\n",
    "inference.append_simulations(theta, x)\n",
    "inference.train();"
   ]
  },
  {
   "cell_type": "markdown",
   "id": "894a2aa3",
   "metadata": {},
   "source": [
    "Create an instance of `MCMCPosteriorParameters` with desired values to configure MCMC sampling."
   ]
  },
  {
   "cell_type": "code",
   "execution_count": null,
   "id": "d41d021b",
   "metadata": {},
   "outputs": [],
   "source": [
    "from sbi.inference.posteriors import MCMCPosteriorParameters\n",
    "\n",
    "params = MCMCPosteriorParameters(\n",
    "    method=\"slice_np_vectorized\",\n",
    "    thin=1,\n",
    "    warmup_steps=100,\n",
    "    num_chains=4,\n",
    "    init_strategy=\"sir\",\n",
    "    init_strategy_parameters={\"num_candidate_samples\": 1000},\n",
    "    num_workers=2,\n",
    "    mp_context=\"spawn\"\n",
    ")"
   ]
  },
  {
   "cell_type": "markdown",
   "id": "b61e8eac",
   "metadata": {},
   "source": [
    "Now pass the instance to `build_posterior()` using the `posterior_parameters` argument."
   ]
  },
  {
   "cell_type": "code",
   "execution_count": null,
   "id": "86c1a6cf",
   "metadata": {},
   "outputs": [],
   "source": [
    "inference.build_posterior(posterior_parameters=params)"
   ]
  },
  {
   "cell_type": "markdown",
   "id": "eaaf79ce",
   "metadata": {},
   "source": [
    "## Modifying Parameters with `.with_param()`\n",
    "You can create a new copy with updated fields without mutating the original.\n"
   ]
  },
  {
   "cell_type": "code",
   "execution_count": null,
   "id": "b62cd717",
   "metadata": {},
   "outputs": [],
   "source": [
    "new_params = params.with_param(num_chains=8, warmup_steps=200)\n",
    "\n",
    "inference.build_posterior(posterior_parameters=new_params)"
   ]
  }
 ],
 "metadata": {
  "kernelspec": {
   "display_name": "sbi",
   "language": "python",
   "name": "python3"
  },
  "language_info": {
   "name": "python",
   "version": "3.10.16"
  }
 },
 "nbformat": 4,
 "nbformat_minor": 5
}
