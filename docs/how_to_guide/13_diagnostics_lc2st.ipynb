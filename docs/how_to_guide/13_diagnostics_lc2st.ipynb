{
 "cells": [
  {
   "cell_type": "markdown",
   "metadata": {},
   "source": [
    "# How to run L-C2ST\n",
    "\n",
    "Tests like expected coverage and simulation-based calibration evaluate whether the posterior is **on average across many observations** well-calibrated. Unlike these tools, L-C2ST allows you to evaluate whether the posterior is correct **for a specific observation**. While this is powerful, L-C2ST requires to train an additional classifier (which must be trained on sufficiently many _new_ simulations, and its statistical power depends on whether the classifier performs well.\n",
    "\n",
    "The `sbi` toolbox implements L-C2ST. Below, we first provide a brief syntax of L-C2ST, followed by a detailed explanation of the mathematical background and a full example."
   ]
  },
  {
   "cell_type": "markdown",
   "metadata": {},
   "source": [
    "## Main syntax"
   ]
  },
  {
   "cell_type": "markdown",
   "metadata": {},
   "source": [
    "```python\n",
    "from sbi.diagnostics.lc2st import LC2ST\n",
    "\n",
    "# Simulate calibration data. Should be at least in the thousands.\n",
    "num_lc2st_samples = 10_000\n",
    "prior_samples = prior.sample((num_lc2st_samples,))\n",
    "prior_predictives = simulator(prior_samples)\n",
    "\n",
    "# Generate one posterior sample for every prior predictive.\n",
    "post_samples_cal = posterior.sample_batched(\n",
    "    (1,),\n",
    "    x=prior_predictives,\n",
    "    max_sampling_batch_size=10\n",
    ")[0]\n",
    "\n",
    "# Train the L-C2ST classifier.\n",
    "lc2st = LC2ST(\n",
    "    thetas=prior_samples,\n",
    "    xs=prior_predictives,\n",
    "    posterior_samples=post_samples_cal,\n",
    "    classifier=\"mlp\",\n",
    "    num_ensemble=1,\n",
    ")\n",
    "_ = lc2st.train_under_null_hypothesis()\n",
    "_ = lc2st.train_on_observed_data()\n",
    "\n",
    "# Note: x_o must have a batch-dimension. I.e. `x_o.shape == (1, observation_shape)`.\n",
    "post_samples_star = posterior.sample((10_000,), x=x_o)\n",
    "probs_data, scores_data = lc2st.get_scores(\n",
    "    theta_o=post_samples_star,\n",
    "    x_o=x_o,\n",
    "    return_probs=True,\n",
    "    trained_clfs=lc2st.trained_clfs\n",
    ")\n",
    "probs_null, scores_null = lc2st.get_statistics_under_null_hypothesis(\n",
    "    theta_o=post_samples_star,\n",
    "    x_o=x_o,\n",
    "    return_probs=True,\n",
    ")\n",
    "\n",
    "conf_alpha = 0.05\n",
    "p_value = lc2st.p_value(post_samples_star, torch.as_tensor(x_o).unsqueeze(0))\n",
    "reject = lc2st.reject_test(post_samples_star, torch.as_tensor(x_o).unsqueeze(0), alpha=conf_alpha)\n",
    "\n",
    "fig, ax = plt.subplots(1, 1, figsize=(5, 3))\n",
    "quantiles = np.quantile(scores_null, [0, 1-conf_alpha])\n",
    "ax.hist(scores_null, bins=50, density=True, alpha=0.5, label=\"Null\")\n",
    "ax.axvline(scores_data, color=\"red\", label=\"Observed\")\n",
    "ax.axvline(quantiles[0], color=\"black\", linestyle=\"--\", label=\"95% CI\")\n",
    "ax.axvline(quantiles[1], color=\"black\", linestyle=\"--\")\n",
    "ax.set_xlabel(\"Test statistic\")\n",
    "ax.set_ylabel(\"Density\")\n",
    "ax.set_title(f\"p-value = {p_value:.3f}, reject = {reject}\")\n",
    "plt.show()\n",
    "```\n",
    "\n",
    "This will return a figure as the following:"
   ]
  },
  {
   "cell_type": "markdown",
   "metadata": {},
   "source": [
    "<img src=\"data/lc2st_hist_of_statistics.png\" width=\"500\">"
   ]
  },
  {
   "cell_type": "markdown",
   "metadata": {},
   "source": [
    "If the red line is outside of the two dotted black lines (as above), then L-C2ST rejects the null-hypothesis that the approximate posterior matches the true posterior (i.e., your posterior is likely wrong).\n",
    "\n",
    "If the posterior is wrong, then you can get insights into whether the posterior is under- or over-confident as follows:"
   ]
  },
  {
   "cell_type": "markdown",
   "metadata": {},
   "source": [
    "```python\n",
    "from sbi.analysis.plot import pp_plot_lc2st\n",
    "\n",
    "pp_plot_lc2st(\n",
    "    probs=[probs_data],\n",
    "    probs_null=probs_null,\n",
    "    conf_alpha=0.05,\n",
    "    labels=[\"Classifier probabilities \\n on observed data\"],\n",
    "    colors=[\"red\"],\n",
    ")\n",
    "```"
   ]
  },
  {
   "cell_type": "markdown",
   "metadata": {},
   "source": [
    "This plots something like the following:"
   ]
  },
  {
   "cell_type": "markdown",
   "metadata": {},
   "source": [
    "<img src=\"data/L_C2ST_pp_plot.png\" width=\"500\">"
   ]
  },
  {
   "cell_type": "markdown",
   "metadata": {},
   "source": [
    "If the red line is below the gray area, then the `posterior` is over-confident. If the red line is above the gray area, then the `posterior` is under-confident."
   ]
  },
  {
   "cell_type": "markdown",
   "metadata": {},
   "source": [
    "## Additional explanation"
   ]
  },
  {
   "cell_type": "markdown",
   "metadata": {},
   "source": [
    "For a detailed example and additional explanation, see [this tutorial](https://sbi.readthedocs.io/en/latest/advanced_tutorials/13_diagnostics_lc2st.html)."
   ]
  },
  {
   "cell_type": "markdown",
   "metadata": {},
   "source": [
    "## Citation\n",
    "\n",
    "```text\n",
    "@article{linhart2023c2st,\n",
    "  title={L-c2st: Local diagnostics for posterior approximations in simulation-based inference},\n",
    "  author={Linhart, Julia and Gramfort, Alexandre and Rodrigues, Pedro},\n",
    "  journal={Advances in Neural Information Processing Systems},\n",
    "  volume={36},\n",
    "  pages={56384--56410},\n",
    "  year={2023}\n",
    "}\n",
    "```"
   ]
  }
 ],
 "metadata": {
  "kernelspec": {
   "display_name": "Python 3 (ipykernel)",
   "language": "python",
   "name": "python3"
  },
  "language_info": {
   "codemirror_mode": {
    "name": "ipython",
    "version": 3
   },
   "file_extension": ".py",
   "mimetype": "text/x-python",
   "name": "python",
   "nbconvert_exporter": "python",
   "pygments_lexer": "ipython3",
   "version": "3.12.9"
  },
  "toc": {
   "base_numbering": 1,
   "nav_menu": {},
   "number_sections": true,
   "sideBar": true,
   "skip_h1_title": false,
   "title_cell": "Table of Contents",
   "title_sidebar": "Contents",
   "toc_cell": false,
   "toc_position": {},
   "toc_section_display": true,
   "toc_window_display": false
  }
 },
 "nbformat": 4,
 "nbformat_minor": 4
}
