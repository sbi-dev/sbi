{
 "cells": [
  {
   "cell_type": "markdown",
   "metadata": {},
   "source": [
    "# How to run L-C2ST\n",
    "\n",
    "Tests like expected coverage and simulation-based calibration evaluate whether the posterior is **on average across many observations** well-calibrated. Unlike these tools, L-C2ST allows you to evaluate whether the posterior is correct **for a specific observation**. While this is powerful, L-C2ST requires to train an additional classifier (which must be trained on sufficiently many _new_ simulations, and its statistical power depends on whether the classifier performs well.\n",
    "\n",
    "The `sbi` toolbox implements L-C2ST. Below, we first provide a brief syntax of L-C2ST, followed by a detailed explanation of the mathematical background and a full example."
   ]
  },
  {
   "cell_type": "markdown",
   "metadata": {},
   "source": [
    "## Main syntax"
   ]
  },
  {
   "cell_type": "markdown",
   "metadata": {},
   "source": [
    "```python\n",
    "from sbi.diagnostics.lc2st import LC2ST\n",
    "from sbi.analysis.plot import pp_plot_lc2st\n",
    "\n",
    "# Sample calibration data.\n",
    "theta_cal = prior.sample((NUM_CAL,))\n",
    "x_cal = simulator(theta_cal)\n",
    "post_samples_cal = posterior.sample_batched((1,), x=x_cal)[0]\n",
    "\n",
    "# Train the L-C2ST classifier.\n",
    "lc2st = LC2ST(\n",
    "    thetas=theta_cal,\n",
    "    xs=x_cal,\n",
    "    posterior_samples=post_samples_cal,\n",
    "    classifier=\"mlp\",\n",
    "    num_ensemble=1,\n",
    ")\n",
    "_ = lc2st.train_under_null_hypothesis()\n",
    "_ = lc2st.train_on_observed_data()\n",
    "\n",
    "post_samples_star = posterior.sample((10_000,), x=x_o)\n",
    "probs_data, _ = lc2st.get_scores(\n",
    "    theta_o=post_samples_star[i],\n",
    "    x_o=x_o,\n",
    "    return_probs=True,\n",
    "    trained_clfs=lc2st.trained_clfs\n",
    ")\n",
    "probs_null, _ = lc2st.get_statistics_under_null_hypothesis(\n",
    "    theta_o=post_samples_star[i],\n",
    "    x_o=x_o,\n",
    "    return_probs=True\n",
    ")\n",
    "\n",
    "pp_plot_lc2st(\n",
    "    probs=[probs_data],\n",
    "    probs_null=probs_null,\n",
    "    conf_alpha=0.05,\n",
    "    labels=[\"Classifier probabilities \\n on observed data\"],\n",
    "    colors=[\"red\"],\n",
    ")\n",
    "```\n",
    "\n",
    "This will return a figure as the following:"
   ]
  },
  {
   "cell_type": "markdown",
   "metadata": {},
   "source": [
    "<img src=\"l_c2st_pp_plot.png\" width=\"500\">"
   ]
  },
  {
   "cell_type": "markdown",
   "metadata": {},
   "source": [
    "If the red line lies within the gray region, the we cannot reject the null-hypothesis that the approximate posterior matches the true posterior. If the red line is below the gray area, then the `posterior_estimator` is over-confident. If the red line is above the gray area, then the `posterior_estimator` is under-confident."
   ]
  },
  {
   "cell_type": "markdown",
   "metadata": {},
   "source": [
    "## Additional explanation"
   ]
  },
  {
   "cell_type": "markdown",
   "metadata": {},
   "source": [
    "For a detailed example and additional explanation, see [this tutorial]()."
   ]
  }
 ],
 "metadata": {
  "kernelspec": {
   "display_name": "Python 3 (ipykernel)",
   "language": "python",
   "name": "python3"
  },
  "language_info": {
   "codemirror_mode": {
    "name": "ipython",
    "version": 3
   },
   "file_extension": ".py",
   "mimetype": "text/x-python",
   "name": "python",
   "nbconvert_exporter": "python",
   "pygments_lexer": "ipython3",
   "version": "3.12.4"
  },
  "toc": {
   "base_numbering": 1,
   "nav_menu": {},
   "number_sections": true,
   "sideBar": true,
   "skip_h1_title": false,
   "title_cell": "Table of Contents",
   "title_sidebar": "Contents",
   "toc_cell": false,
   "toc_position": {},
   "toc_section_display": true,
   "toc_window_display": false
  }
 },
 "nbformat": 4,
 "nbformat_minor": 4
}
