{
 "cells": [
  {
   "cell_type": "markdown",
   "id": "deba432c",
   "metadata": {},
   "source": [
    "# How to use GPUs"
   ]
  },
  {
   "cell_type": "markdown",
   "id": "35571184",
   "metadata": {},
   "source": [
    "`sbi` supports GPU training. GPU will speed up training if you use a very large\n",
    "batch-size, if you use a large embedding network, or if your simulation outputs are\n",
    "high-dimensional. This guide shows you how to train and perform inferencce on GPU."
   ]
  },
  {
   "cell_type": "markdown",
   "id": "ee60754a",
   "metadata": {},
   "source": [
    "## Main syntax"
   ]
  },
  {
   "cell_type": "markdown",
   "id": "7f6b722d",
   "metadata": {},
   "source": [
    "```python\n",
    "inference = NPE(prior, device=\"cuda\", density_estimator=\"maf\")\n",
    "density_estimator = inference.append_simulations(theta, x, data_device=\"cpu\").train()\n",
    "```"
   ]
  },
  {
   "cell_type": "markdown",
   "id": "5b665bf6",
   "metadata": {},
   "source": [
    "## More explanation"
   ]
  },
  {
   "cell_type": "markdown",
   "id": "e801c92e",
   "metadata": {},
   "source": [
    "When creating the inference object, you can pass the `device` as an argument. This\n",
    "will be the device that the neural network lies on, and thus also the device that\n",
    "it is trained on. It is also the device that the returned `density_estimator` is on.\n",
    "\n",
    "Often, you do _not_ want to have your entire simulated data on GPU, but instead only\n",
    "transfer individual batches to GPU. To do this, pass `.append_simulations(..., data_device=\"cpu\")`.\n",
    "\n",
    "Note that the prior must be on the training device already, e.g., when passing\n",
    "`device=\"cuda:0\"`, make sure to pass a prior object that was created on that\n",
    "device, e.g.,\n",
    "\n",
    "```python\n",
    "prior = torch.distributions.MultivariateNormal(\n",
    "    loc=torch.zeros(2, device=\"cuda:0\"),\n",
    "    covariance_matrix=torch.eye(2, device=\"cuda:0\")\n",
    ")\n",
    "```"
   ]
  },
  {
   "cell_type": "markdown",
   "id": "d39e1e07",
   "metadata": {},
   "source": [
    "## Supported devices"
   ]
  },
  {
   "cell_type": "markdown",
   "id": "067fa09e",
   "metadata": {},
   "source": [
    "\n",
    "The device is set to `\"cpu\"` by default. But it can be set to anything, as long\n",
    "as it maps to an existing PyTorch GPU device, e.g., `device=\"cuda\"` or\n",
    "`device=\"cuda:2\"`. `sbi` will take care of copying the `net` and the training\n",
    "data to and from the `device`.\n",
    "We also support MPS as a GPU device for GPU-accelarated training on an Apple\n",
    "Silicon chip, e.g., it is possible to pass `device=\"mps\"`."
   ]
  },
  {
   "cell_type": "markdown",
   "id": "77af65c0",
   "metadata": {},
   "source": [
    "\n",
    "## Performance\n",
    "\n",
    "Whether or not you reduce your training time when training on a GPU depends on\n",
    "the problem at hand. We provide a couple of default density estimators for\n",
    "`NPE`, `NLE` and `NRE`, e.g., a mixture density network\n",
    "(`density_estimator=\"mdn\"`) or a Masked Autoregressive Flow\n",
    "(`density_estimator=\"maf\"`). For these default density estimators, we do **not**\n",
    "expect a speed-up. This is because the underlying neural networks are relatively\n",
    "shallow and not tall, e.g., they do not have many parameters or matrix\n",
    "operations that benefit from being executed on the GPU.\n",
    "\n",
    "A speed-up through training on the GPU will most likely become visible when\n",
    "using convolutional modules in your neural networks. E.g., when passing an\n",
    "embedding net for image processing like in this example:\n",
    "[https://github.com/sbi-dev/sbi/blob/main/tutorials/04_embedding_networks.ipynb](https://github.com/sbi-dev/sbi/blob/main/tutorials/04_embedding_networks.ipynb).\n"
   ]
  }
 ],
 "metadata": {
  "kernelspec": {
   "display_name": "Python 3 (ipykernel)",
   "language": "python",
   "name": "python3"
  },
  "language_info": {
   "codemirror_mode": {
    "name": "ipython",
    "version": 3
   },
   "file_extension": ".py",
   "mimetype": "text/x-python",
   "name": "python",
   "nbconvert_exporter": "python",
   "pygments_lexer": "ipython3",
   "version": "3.12.4"
  }
 },
 "nbformat": 4,
 "nbformat_minor": 5
}
