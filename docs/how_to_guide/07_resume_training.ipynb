{
 "cells": [
  {
   "cell_type": "markdown",
   "id": "a336966c",
   "metadata": {},
   "source": [
    "# How to resume training"
   ]
  },
  {
   "cell_type": "markdown",
   "id": "9e0ec728",
   "metadata": {},
   "source": [
    "In many cases, you might want to continue training after an intitial training run (but with the same data).\n",
    "\n",
    "`sbi` supports this with the `.train(..., resume_training=True)` argument."
   ]
  },
  {
   "cell_type": "markdown",
   "id": "a58a6f38",
   "metadata": {},
   "source": [
    "## Main syntax"
   ]
  },
  {
   "cell_type": "markdown",
   "id": "f37aa0f6",
   "metadata": {},
   "source": [
    "```python\n",
    "inference = NPE(prior=prior)\n",
    "inference = inference.append_simulations(theta, x)\n",
    "inference.train(max_num_epochs=300)  # Pick `max_num_epochs` such that it does not exceed the runtime.\n",
    "\n",
    "with open(\"path/to/my/inference.pkl\", \"wb\") as handle:\n",
    "    pickle.dump(inference, handle)\n",
    "\n",
    "# To resume training:\n",
    "with open(\"path/to/my/inference.pkl\", \"rb\") as handle:\n",
    "    inference_from_disk = pickle.load(handle)\n",
    "inference_from_disk.train(resume_training=True, max_num_epochs=600)  # Run epochs 301 until 600 (or stop early).\n",
    "posterior = inference_from_disk.build_posterior()\n",
    "```"
   ]
  }
 ],
 "metadata": {
  "kernelspec": {
   "display_name": "Python 3 (ipykernel)",
   "language": "python",
   "name": "python3"
  },
  "language_info": {
   "codemirror_mode": {
    "name": "ipython",
    "version": 3
   },
   "file_extension": ".py",
   "mimetype": "text/x-python",
   "name": "python",
   "nbconvert_exporter": "python",
   "pygments_lexer": "ipython3",
   "version": "3.12.4"
  }
 },
 "nbformat": 4,
 "nbformat_minor": 5
}
