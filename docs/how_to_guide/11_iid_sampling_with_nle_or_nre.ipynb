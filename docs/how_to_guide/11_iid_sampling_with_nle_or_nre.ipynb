{
 "cells": [
  {
   "cell_type": "markdown",
   "id": "a56cd237",
   "metadata": {},
   "source": [
    "# How to sample the posterior given iid observations (for NLE and NRE)"
   ]
  },
  {
   "cell_type": "markdown",
   "id": "f8163523",
   "metadata": {},
   "source": [
    "> Important: This how-to guide is only relevant if you have iid observations **and** you are using NLE or NRE. If you have iid observations and want to use NPE, you should construct a permutation-invariant embedding net, which is explained in [this how-to guide]().\n",
    "\n",
    "In many cases, you want to estimate a parameter set given _multiple_ observations. NLE and NRE can naturally deal with this scenario. Both of these methods can be trained on _single_ observations (i.e., just one simulation per parameter set), and can then be used to sample the posterior given an arbitrary number of observations. In `sbi`, this can be done as shown below:"
   ]
  },
  {
   "cell_type": "markdown",
   "id": "b8be843c",
   "metadata": {},
   "source": [
    "```python\n",
    "# Generate training dataset.\n",
    "theta = prior.sample((100,))  # Example shape: (100, 3)\n",
    "x = simulate(theta)  # Example shape: (100, 4)\n",
    "\n",
    "# Train NLE or NRE network.\n",
    "trainer = NLE(prior=prior)\n",
    "trainer.append_simulations(theta, x).train()\n",
    "posterior = trainer.build_posterior()\n",
    "\n",
    "x_o_iid = torch.ones((20, 4))  # 20 iid observations.\n",
    "samples = posterior.sample((1_000,), x=x_o_iid)\n",
    "```"
   ]
  },
  {
   "cell_type": "markdown",
   "id": "2f74abd9",
   "metadata": {},
   "source": [
    "## Example and further explanation"
   ]
  },
  {
   "cell_type": "markdown",
   "id": "5f803be4",
   "metadata": {},
   "source": [
    "For more details, see [this tutorial]()."
   ]
  }
 ],
 "metadata": {
  "kernelspec": {
   "display_name": "Python 3 (ipykernel)",
   "language": "python",
   "name": "python3"
  },
  "language_info": {
   "codemirror_mode": {
    "name": "ipython",
    "version": 3
   },
   "file_extension": ".py",
   "mimetype": "text/x-python",
   "name": "python",
   "nbconvert_exporter": "python",
   "pygments_lexer": "ipython3",
   "version": "3.12.4"
  }
 },
 "nbformat": 4,
 "nbformat_minor": 5
}
