{
 "cells": [
  {
   "cell_type": "markdown",
   "metadata": {},
   "source": [
    "# Getting started with `sbi`"
   ]
  },
  {
   "cell_type": "markdown",
   "metadata": {},
   "source": [
    "In this tutorial, you will learn the basics of the `sbi` toolbox. Here is a code-snippet that you will learn to understand:\n",
    "\n",
    "```python\n",
    "from sbi.inference import NPE\n",
    "from sbi.analysis import pairplot\n",
    "\n",
    "\n",
    "num_simulations = 1000\n",
    "theta = prior.sample((num_simulations,))\n",
    "x = simulate(theta)\n",
    "\n",
    "inference = NPE(prior)\n",
    "density_estimator = inference.append_simulations(theta, x).train()\n",
    "posterior_estimator = inference.build_posterior(density_estimator)\n",
    "posterior_theta = posterior_estimator.sample((100,), x=x_o)\n",
    "pairplot(posterior_theta)\n",
    "```"
   ]
  },
  {
   "cell_type": "markdown",
   "metadata": {},
   "source": [
    "The overall goal of simulation-based inference is to algorithmically identify parameters which are consistent with data and prior knowledge. To do so, `sbi` uses Bayesian inference:\n",
    "\n",
    "$$\n",
    "p(\\theta | x_o) \\propto p(x_o | \\theta) p(\\theta)\n",
    "$$\n",
    "\n",
    "The _prior_ $p(\\theta)$ is a probability distribution which constraint model parameters. The likelihood $p(x_o | \\theta)$ is implemented by a _simulator_. It takes parameters as input and returns simulation outputs $x$. The `sbi` toolbox uses the prior and the simulator to compute the posterior $p(\\theta | x)$, which captures parameters that are consistent with _observations_ $x_o$."
   ]
  },
  {
   "cell_type": "markdown",
   "metadata": {},
   "source": [
    "Let's see how `sbi` achieves this!"
   ]
  },
  {
   "cell_type": "markdown",
   "metadata": {},
   "source": [
    "## Defining the simulator and prior"
   ]
  },
  {
   "cell_type": "markdown",
   "metadata": {},
   "source": [
    "As an illustrative example, we consider a _simulator_ that takes in 3 parameters ($\\theta$). For simplicity, the _simulator_ outputs simulations of the same dimensionality and adds 1.0 and some Gaussian noise to the parameter set. \n",
    "\n",
    "> Note: Here, we are using this simple toy simulator. In practice, the simulator can be\n",
    "anything that takes parameters and returns simulated data. The data simulation process is\n",
    "decoupled from the algorithms implemented in the `sbi` package. That is, you can\n",
    "simulate your data beforehand, e.g., on a cluster or using a different programming\n",
    "language or environment. All that `sbi` needs is a `Tensor` of parameters `theta` and\n",
    "corresponding simulated data `x`."
   ]
  },
  {
   "cell_type": "code",
   "execution_count": 1,
   "metadata": {},
   "outputs": [],
   "source": [
    "import torch\n",
    "\n",
    "_ = torch.manual_seed(0)\n",
    "\n",
    "num_dim = 3\n",
    "def simulator(theta):\n",
    "    # Linear Gaussian.\n",
    "    return theta + 1.0 + torch.randn_like(theta) * 0.1"
   ]
  },
  {
   "cell_type": "markdown",
   "metadata": {},
   "source": [
    "For the 3-dimensional parameter space we consider a uniform _prior_ between [-2,2]."
   ]
  },
  {
   "cell_type": "code",
   "execution_count": 2,
   "metadata": {},
   "outputs": [
    {
     "name": "stderr",
     "output_type": "stream",
     "text": [
      "WARNING (pytensor.tensor.blas): Using NumPy C-API based implementation for BLAS functions.\n"
     ]
    }
   ],
   "source": [
    "from sbi.utils import BoxUniform\n",
    "\n",
    "prior = BoxUniform(low=-2 * torch.ones(num_dim), high=2 * torch.ones(num_dim))"
   ]
  },
  {
   "cell_type": "markdown",
   "metadata": {},
   "source": [
    "The `sbi` toolbox uses neural networks to learn the relationship between parameters and data. In this exampmle, we will use neural perform posterior estimation (NPE). To run NPE, we first instatiate a trainer, which we call `inference`:"
   ]
  },
  {
   "cell_type": "code",
   "execution_count": 3,
   "metadata": {},
   "outputs": [],
   "source": [
    "from sbi.inference import NPE\n",
    "\n",
    "inference = NPE(prior=prior)"
   ]
  },
  {
   "cell_type": "markdown",
   "metadata": {},
   "source": [
    "> You can find all implemented methods [here](https://sbi.readthedocs.io/en/latest/tutorials/16_implemented_methods.html). You can also implement the training loop youself, see [here]()."
   ]
  },
  {
   "cell_type": "markdown",
   "metadata": {},
   "source": [
    "The neural networks in `sbi` are trained on simulations, or more specifically, pairs of parameters $\\theta$ which we sample from the _prior_ and corresponding simulations $x = \\mathrm{simulator} (\\theta)$. Let's generate such a dataset:"
   ]
  },
  {
   "cell_type": "code",
   "execution_count": 4,
   "metadata": {},
   "outputs": [
    {
     "name": "stdout",
     "output_type": "stream",
     "text": [
      "theta.shape torch.Size([2000, 3])\n",
      "x.shape torch.Size([2000, 3])\n"
     ]
    }
   ],
   "source": [
    "num_simulations = 2000\n",
    "theta = prior.sample((num_simulations,))\n",
    "x = simulator(theta)\n",
    "print(\"theta.shape\", theta.shape)\n",
    "print(\"x.shape\", x.shape)"
   ]
  },
  {
   "cell_type": "markdown",
   "metadata": {},
   "source": [
    "> If you already have your own parameters, simulation pairs which were generated elsewhere (e.g., on a compute cluster), you would add them here. The `sbi` helper function called `simulate_for_sbi` allows to parallelize your code with `joblib`."
   ]
  },
  {
   "cell_type": "markdown",
   "metadata": {},
   "source": [
    "We then pass the simulated data to the inference object. Both `theta` and `x` should be a `torch.Tensor` of type `float32`."
   ]
  },
  {
   "cell_type": "code",
   "execution_count": 5,
   "metadata": {},
   "outputs": [],
   "source": [
    "inference = inference.append_simulations(theta, x)"
   ]
  },
  {
   "cell_type": "markdown",
   "metadata": {},
   "source": [
    "Next, we train the neural network to learn the association between the simulated data and the underlying parameters:"
   ]
  },
  {
   "cell_type": "code",
   "execution_count": 6,
   "metadata": {},
   "outputs": [
    {
     "name": "stdout",
     "output_type": "stream",
     "text": [
      " Neural network successfully converged after 62 epochs."
     ]
    }
   ],
   "source": [
    "density_estimator = inference.train()"
   ]
  },
  {
   "cell_type": "markdown",
   "metadata": {},
   "source": [
    "Finally, we use this _density estimator_ to build an estimator for the posterior distribution.\n",
    "\n",
    "> For NPE, you can also use the `density_estimator` as posterior. The `DirectPosterior` (which is returned by `build_posterior`) only adds convenience functions (e.g., MAP) and it automatically rejects posterior samples which are outside of the prior bounds."
   ]
  },
  {
   "cell_type": "code",
   "execution_count": 7,
   "metadata": {},
   "outputs": [
    {
     "name": "stdout",
     "output_type": "stream",
     "text": [
      "Posterior p(θ|x) of type DirectPosterior. It samples the posterior network and rejects samples that\n",
      "            lie outside of the prior bounds.\n"
     ]
    }
   ],
   "source": [
    "posterior_estimator = inference.build_posterior(density_estimator)\n",
    "\n",
    "print(posterior_estimator)"
   ]
  },
  {
   "cell_type": "markdown",
   "metadata": {},
   "source": [
    "## Inferring the posterior\n",
    "\n",
    "Let's say we have made some observation $x_{obs}$ for which we now want to infer the posterior:"
   ]
  },
  {
   "cell_type": "code",
   "execution_count": 8,
   "metadata": {},
   "outputs": [],
   "source": [
    "x_obs = torch.as_tensor([0.8, 0.6, 0.4])"
   ]
  },
  {
   "cell_type": "markdown",
   "metadata": {},
   "source": [
    "The `posterior_estimator` can then be used to sample parameters $\\theta$ from the posterior via `.sample()`, i.e., parameters that are likely given the observation $x$. We can also get log-probabilities under the posterior via `.log_prob()`. \n",
    "\n",
    "For example, given the observation $x_{obs}$, we can sample from the posterior $p(\\theta|x_{obs})$ as follows:"
   ]
  },
  {
   "cell_type": "code",
   "execution_count": 9,
   "metadata": {},
   "outputs": [
    {
     "data": {
      "application/vnd.jupyter.widget-view+json": {
       "model_id": "7cb6fef305a94eadbd86ec197f3441d2",
       "version_major": 2,
       "version_minor": 0
      },
      "text/plain": [
       "Drawing 10000 posterior samples for 1 observations:   0%|          | 0/10000 [00:00<?, ?it/s]"
      ]
     },
     "metadata": {},
     "output_type": "display_data"
    }
   ],
   "source": [
    "samples = posterior_estimator.sample((10000,), x=x_obs)"
   ]
  },
  {
   "cell_type": "markdown",
   "metadata": {},
   "source": [
    "Note that we can infer the posterior distribution for any observation $x_{obs}$ without having to run new simulations and without having to re-train. This property of `sbi` algorithms is called _amortization_."
   ]
  },
  {
   "cell_type": "markdown",
   "metadata": {},
   "source": [
    "## Visualizing the posterior"
   ]
  },
  {
   "cell_type": "markdown",
   "metadata": {},
   "source": [
    "We can then visualize these posterior samples. The `pairplot` function visualizes all\n",
    "univariate marginals on the diagnonal and every combination of\n",
    "pairwise marginals on the upper offdiagonal:"
   ]
  },
  {
   "cell_type": "code",
   "execution_count": 10,
   "metadata": {},
   "outputs": [
    {
     "data": {
      "image/png": "[encoded data removed]",
      "text/plain": [
       "<Figure size 500x500 with 9 Axes>"
      ]
     },
     "metadata": {},
     "output_type": "display_data"
    }
   ],
   "source": [
    "from sbi.analysis import pairplot\n",
    "\n",
    "_ = pairplot(\n",
    "    samples,\n",
    "    limits=[[-2, 2], [-2, 2], [-2, 2]],\n",
    "    figsize=(5, 5),\n",
    "    labels=[r\"$\\theta_1$\", r\"$\\theta_2$\", r\"$\\theta_3$\"]\n",
    ")"
   ]
  },
  {
   "cell_type": "markdown",
   "metadata": {},
   "source": [
    "## Assessing the predictive performance of the posterior\n",
    "\n",
    "Congrats, you have just performed Bayesian inference with the `sbi` toolbox!\n",
    "\n",
    "But, how do we know that the posterior is correct? The `sbi` toolbox implements a wide range\n",
    "of methods that diagnose potential issues (more detail [here]()). For this tutorial,\n",
    "we will show only a brief heuristic check: We check whether posterior samples, when simulated,\n",
    "match the observed data. Such tests are called _Posterior Predictive Checks (PPC)_. Let's\n",
    "simulate posterior samples:"
   ]
  },
  {
   "cell_type": "code",
   "execution_count": 11,
   "metadata": {},
   "outputs": [],
   "source": [
    "theta_posterior = posterior_estimator.sample((10000,), x=x_obs)  # Sample from posterior.\n",
    "x_predictive = simulator(theta_posterior)  # Simulate data from posterior."
   ]
  },
  {
   "cell_type": "markdown",
   "metadata": {},
   "source": [
    "And we can check whether posterior samples roughly match the observation:"
   ]
  },
  {
   "cell_type": "code",
   "execution_count": 12,
   "metadata": {},
   "outputs": [
    {
     "name": "stdout",
     "output_type": "stream",
     "text": [
      "Posterior predictives:  tensor([0.8128, 0.6147, 0.4083])\n",
      "Observation:  tensor([0.8000, 0.6000, 0.4000])\n"
     ]
    }
   ],
   "source": [
    "print(\"Posterior predictives: \", torch.mean(x_predictive, axis=0))\n",
    "print(\"Observation: \", x_obs)"
   ]
  },
  {
   "cell_type": "markdown",
   "metadata": {},
   "source": [
    "Indeed, the posterior predictives are roughly centered around the observation. For any real-world application, we strongly recommend additional checks as described in [this tutorial]()."
   ]
  },
  {
   "cell_type": "markdown",
   "metadata": {},
   "source": [
    "## Next steps\n",
    "\n",
    "This tutorial provided a brief overview of the capabilities of the `sbi` toolbox. Next, we recommend that you check out the tutorial on the [full Bayesian workflow with `sbi`](). Alternatively, you can check our [how-to guide]() for brief tutorials on specific features, or you can read our [API reference](), which provides a complete list of all features in the `sbi` toolbox."
   ]
  }
 ],
 "metadata": {
  "kernelspec": {
   "display_name": "Python 3 (ipykernel)",
   "language": "python",
   "name": "python3"
  },
  "language_info": {
   "codemirror_mode": {
    "name": "ipython",
    "version": 3
   },
   "file_extension": ".py",
   "mimetype": "text/x-python",
   "name": "python",
   "nbconvert_exporter": "python",
   "pygments_lexer": "ipython3",
   "version": "3.12.4"
  }
 },
 "nbformat": 4,
 "nbformat_minor": 4
}
