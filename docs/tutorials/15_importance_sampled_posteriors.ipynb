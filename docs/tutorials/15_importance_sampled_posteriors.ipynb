{
 "cells": [
  {
   "cell_type": "markdown",
   "id": "cf9f505b-f478-4da4-9ccd-5208aa806825",
   "metadata": {},
   "source": [
    "# Refining posterior estimates with importance sampling"
   ]
  },
  {
   "cell_type": "markdown",
   "id": "cb0b9d26-e5f7-4866-ae1b-fad6485d54b1",
   "metadata": {},
   "source": [
    "# Theory\n",
    "\n",
    "SBI estimates the posterior $p(\\theta|x) = {p(\\theta)p(x|\\theta)}/{p(x)}$ based on samples from the prior $\\theta\\sim p(\\theta)$ and the likelihood $x\\sim p(x|\\theta)$. Sometimes, we can do both, *sample* and *evaluate* the prior and likelihood. In this case, we can combine the *simulation-based* estimate $q(\\theta|x)$ with *likelihood-based* importance sampling, and thereby generate an asymptotically exact estimate for $p(\\theta|x)$.\n",
    "\n",
    "### Importance weights\n",
    "\n",
    "The main idea is to interpret $q(\\theta|x)$ as a proposal distribution and generate proposal samples $\\theta_i\\sim q(\\theta|x)$, and then augment each sample with an importance weight $w_i = p(\\theta_i|x) / q(\\theta_i|x)$. The definition of the importance weights is motivated from Monte Carlo estimates for the random variable $f(\\theta)$, \n",
    "\n",
    "$$ \n",
    "\\mathbb{E}_{\\theta\\sim p(\\theta|x)}\\left[f(\\theta)\\right] \n",
    "=\\int p(\\theta|x) f(\\theta)\\,\\text{d}\\theta\n",
    "\\approx \\sum_{\\theta_i\\sim p(\\theta_i|x)} f(\\theta_i).\n",
    "$$\n",
    "\n",
    "We can rewrite this expression as \n",
    "\n",
    "$$ \n",
    "\\mathbb{E}_{\\theta\\sim p(\\theta|x)}\\left[f(\\theta)\\right] \n",
    "=\\int p(\\theta|x) f(\\theta)\\,\\text{d}\\theta\n",
    "=\\int q(\\theta|x) \\frac{p(\\theta|x)}{q(\\theta|x)}f(\\theta)\\,\\text{d}\\theta\n",
    "\\approx \\sum_{\\theta_i\\sim q(\\theta_i|x)} \\frac{p(\\theta_i|x)}{q(\\theta_i|x)}f(\\theta_i)\n",
    "\\approx \\sum_{\\theta_i\\sim q(\\theta_i|x)} w_i\\cdot f(\\theta_i).\n",
    "$$\n",
    "\n",
    "Instead of sampling $\\theta_i\\sim p(\\theta_i|x)$, we can thus sample $\\theta_i\\sim q(\\theta_i|x)$ and attach a corresponding importance weight $w_i$ to each sample. Intuitively, the importance weights downweight samples where $q(\\theta|x)$ overestimates $p(\\theta|x)$ and upweight samples where $p(\\theta|x)$ underestimates $q(\\theta|x)$."
   ]
  },
  {
   "cell_type": "markdown",
   "id": "fe5e6091-285a-4841-b902-7e335fc15513",
   "metadata": {},
   "source": [
    "# Implementation"
   ]
  },
  {
   "cell_type": "code",
   "execution_count": 1,
   "id": "f3284c6a-5205-492a-bbd9-c1b46bb2feb3",
   "metadata": {},
   "outputs": [],
   "source": [
    "import torch\n",
    "from torch import eye, ones\n",
    "from torch.distributions import MultivariateNormal\n",
    "\n",
    "from sbi.analysis import marginal_plot\n",
    "from sbi.inference import NPE, ImportanceSamplingPosterior\n",
    "from sbi.utils import BoxUniform"
   ]
  },
  {
   "cell_type": "markdown",
   "id": "4808d6d3-cb14-4ecd-a0f5-824bf54a5b01",
   "metadata": {},
   "source": [
    "We first define a simulator and a prior which both have a `sample` function (as required for `sbi`) and `log_prob` evaluations (as required for importance sampling)."
   ]
  },
  {
   "cell_type": "markdown",
   "id": "7bafcabf-bf3f-4133-aeaa-ab1e36e89267",
   "metadata": {},
   "source": [
    "Next we train an NPE model for inference."
   ]
  },
  {
   "cell_type": "markdown",
   "id": "cb514776-590a-4c41-93f4-e42a32f8470e",
   "metadata": {},
   "source": [
    "Now we perfrom inference with the model."
   ]
  },
  {
   "cell_type": "code",
   "execution_count": 2,
   "id": "3e72c9d2-7973-499a-8d56-485cd69f2ebb",
   "metadata": {},
   "outputs": [
    {
     "name": "stdout",
     "output_type": "stream",
     "text": [
      " Neural network successfully converged after 70 epochs.observations.shape torch.Size([2])\n"
     ]
    }
   ],
   "source": [
    "# define prior and simulator\n",
    "class Simulator:\n",
    "    def __init__(self):\n",
    "        pass\n",
    "\n",
    "    def log_likelihood(self, theta, x):\n",
    "        return MultivariateNormal(theta, eye(2)).log_prob(x)\n",
    "\n",
    "    def sample(self, theta):\n",
    "        return theta + torch.randn((theta.shape))\n",
    "\n",
    "prior = BoxUniform(-5 * ones((2,)), 5 * ones((2,)))\n",
    "sim = Simulator()\n",
    "log_prob_fn = lambda theta, x_o: sim.log_likelihood(theta, x_o) + prior.log_prob(theta)\n",
    "\n",
    "# generate train data\n",
    "_ = torch.manual_seed(3)\n",
    "theta = prior.sample((10,))\n",
    "x = sim.sample(theta)\n",
    "\n",
    "# train NPE model\n",
    "_ = torch.manual_seed(4)\n",
    "inference = NPE(prior=prior)\n",
    "_ = inference.append_simulations(theta, x).train()\n",
    "posterior = inference.build_posterior()\n",
    "\n",
    "# generate a synthetic observation\n",
    "_ = torch.manual_seed(2)\n",
    "theta_gt = prior.sample((1,))\n",
    "observation = sim.sample(theta_gt)[0]\n",
    "posterior = posterior.set_default_x(observation)\n",
    "print(\"observations.shape\", observation.shape)\n",
    "\n",
    "# sample from posterior\n",
    "theta_inferred = posterior.sample((10_000,))\n",
    "\n",
    "# get samples from ground-truth posterior\n",
    "gt_samples = MultivariateNormal(observation, eye(2)).sample((len(theta_inferred) * 5,))\n",
    "gt_samples = gt_samples[prior.support.check(gt_samples)][:len(theta_inferred)]"
   ]
  },
  {
   "cell_type": "markdown",
   "id": "101e8005-8ac7-4730-bb8a-f51c652c4ecf",
   "metadata": {},
   "source": [
    "In this case, we know the ground truth posterior, so we can compare NPE to it:"
   ]
  },
  {
   "cell_type": "code",
   "execution_count": 17,
   "id": "fe85d9a6-33e9-41fd-8464-864107ff326b",
   "metadata": {},
   "outputs": [
    {
     "data": {
      "image/png": "[encoded data removed]",
      "text/plain": [
       "<Figure size 500x150 with 2 Axes>"
      ]
     },
     "metadata": {},
     "output_type": "display_data"
    }
   ],
   "source": [
    "fig, ax = marginal_plot(\n",
    "    [theta_inferred, gt_samples],\n",
    "    limits=[[-5, 5], [-5, 5]],\n",
    "    figsize=(5, 1.5),\n",
    "    diag=\"kde\",  # smooth histogram\n",
    ")\n",
    "ax[1].legend([\"NPE\", \"Groud Truth\"], loc=\"upper right\", bbox_to_anchor=[2.0, 1.0, 0.0, 0.0]);"
   ]
  },
  {
   "cell_type": "markdown",
   "id": "f5974817-74fd-4549-ad81-6c5bb52e29b7",
   "metadata": {},
   "source": [
    "While NPE is not completely off, it does not provide a perfect fit to the posterior. In cases where the likelihood is tractable, we can fix this with importance sampling."
   ]
  },
  {
   "cell_type": "markdown",
   "id": "26d8d8c7-05a0-4fd4-ac64-0dabf1a848f6",
   "metadata": {},
   "source": [
    "### Importance sampling with the SBI toolbox"
   ]
  },
  {
   "cell_type": "markdown",
   "id": "7150cc13-9911-4656-936f-9cafb867eba4",
   "metadata": {},
   "source": [
    "With the `sbi` toolbox, importance sampling is a one-liner. `sbi` supports two methods\n",
    "for importance sampling:\n",
    "- `\"importance\"`: returns `n_samples` weighted samples (as above) corresponding to\n",
    "  `n_samples * sample_efficiency` samples from the posterior. This results in unbiased\n",
    "  samples, but the number of effective samples may be small when the `sbi` estimate is\n",
    "  inaccurate.\n",
    "- `\"sir\"` (sampling-importance-resampling): performs rejection sampling on a batched\n",
    "  basis with batch size `oversampling_factor`.  This is a guaranteed way to obtain `N /\n",
    "  oversampling_factor` samples, but these may be biased as the weight normalization is\n",
    "  not performed across the entire set of samples."
   ]
  },
  {
   "cell_type": "code",
   "execution_count": 14,
   "id": "1479c986-a677-4367-9037-d72f5f34569d",
   "metadata": {},
   "outputs": [],
   "source": [
    "posterior_sir = ImportanceSamplingPosterior(\n",
    "    potential_fn=log_prob_fn,\n",
    "    proposal=posterior,\n",
    "    method=\"sir\",\n",
    ").set_default_x(observation)\n",
    "\n",
    "theta_inferred_sir = posterior_sir.sample(\n",
    "    (1000,),\n",
    "    oversampling_factor=32,\n",
    ")"
   ]
  },
  {
   "cell_type": "code",
   "execution_count": 16,
   "id": "6efc07ec-6b06-4c77-88c8-6d16685f5c68",
   "metadata": {},
   "outputs": [
    {
     "data": {
      "image/png": "[encoded data removed]",
      "text/plain": [
       "<Figure size 500x150 with 2 Axes>"
      ]
     },
     "metadata": {},
     "output_type": "display_data"
    }
   ],
   "source": [
    "fig, ax = marginal_plot(\n",
    "    [theta_inferred, theta_inferred_sir, gt_samples],\n",
    "    limits=[[-5, 5], [-5, 5]],\n",
    "    figsize=(5, 1.5),\n",
    "    diag=\"kde\",  # smooth histogram\n",
    ")\n",
    "ax[1].legend([\"NPE\", \"NPE-IS\", \"Groud Truth\"], loc=\"upper right\", bbox_to_anchor=[2.0, 1.0, 0.0, 0.0]);"
   ]
  },
  {
   "cell_type": "markdown",
   "id": "eb7e80dd-1534-4158-b112-f55ceb9da50b",
   "metadata": {},
   "source": [
    "Indeed, the importance-sampled posterior matches the ground truth well, despite significant deviations of the initial NPE estimate."
   ]
  },
  {
   "cell_type": "code",
   "execution_count": null,
   "id": "4ac18a2e-16a0-4a94-a0a7-4a30deb54f18",
   "metadata": {},
   "outputs": [],
   "source": []
  }
 ],
 "metadata": {
  "kernelspec": {
   "display_name": "Python 3 (ipykernel)",
   "language": "python",
   "name": "python3"
  },
  "language_info": {
   "codemirror_mode": {
    "name": "ipython",
    "version": 3
   },
   "file_extension": ".py",
   "mimetype": "text/x-python",
   "name": "python",
   "nbconvert_exporter": "python",
   "pygments_lexer": "ipython3",
   "version": "3.10.14"
  }
 },
 "nbformat": 4,
 "nbformat_minor": 5
}
