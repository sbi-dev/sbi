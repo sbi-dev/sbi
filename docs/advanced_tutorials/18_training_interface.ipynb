{
 "cells": [
  {
   "cell_type": "markdown",
   "id": "0610cfc7",
   "metadata": {},
   "source": [
    "\n",
    "# More flexibility over the training loop and samplers"
   ]
  },
  {
   "cell_type": "markdown",
   "id": "a93633d6",
   "metadata": {},
   "source": [
    "Note, you can find the original version of this notebook at [docs/advanced_tutorials/18_training_interface.ipynb](https://github.com/sbi-dev/sbi/blob/main/docs/advanced_tutorials/18_training_interface.ipynb) in the `sbi` repository."
   ]
  },
  {
   "cell_type": "markdown",
   "id": "f4c9e13c",
   "metadata": {},
   "source": [
    "In the previous tutorials, we showed how `sbi` can be used to train neural networks and sample from the posterior. If you are an `sbi` power-user, then you might want more control over individual stages of this process. For example, you might want to write a custom training loop or more flexibility over the samplers that are used. In this tutorial, we will explain how you can achieve this."
   ]
  },
  {
   "cell_type": "code",
   "execution_count": 1,
   "id": "4166515a",
   "metadata": {},
   "outputs": [
    {
     "name": "stderr",
     "output_type": "stream",
     "text": [
      "WARNING (pytensor.tensor.blas): Using NumPy C-API based implementation for BLAS functions.\n"
     ]
    }
   ],
   "source": [
    "from copy import deepcopy\n",
    "from typing import Callable\n",
    "\n",
    "import torch\n",
    "from torch import eye, ones\n",
    "from torch.optim import Adam, AdamW\n",
    "from torch.utils import data\n",
    "\n",
    "from sbi.analysis import pairplot\n",
    "from sbi.utils import BoxUniform"
   ]
  },
  {
   "cell_type": "markdown",
   "id": "3159d05d",
   "metadata": {},
   "source": [
    "As in the previous tutorials, we first define the prior and simulator and use them to generate simulated data: "
   ]
  },
  {
   "cell_type": "code",
   "execution_count": 24,
   "id": "b0bd4667",
   "metadata": {},
   "outputs": [],
   "source": [
    "seed = 0\n",
    "torch.manual_seed(seed)\n",
    "\n",
    "prior = BoxUniform(-3 * ones((2,)), 3 * ones((2,)))\n",
    "\n",
    "def simulator(theta):\n",
    "    return theta + torch.randn_like(theta) * 0.1"
   ]
  },
  {
   "cell_type": "markdown",
   "id": "ec42d3cf",
   "metadata": {},
   "source": [
    "We can also run checks on the prior and simulator"
   ]
  },
  {
   "cell_type": "code",
   "execution_count": 25,
   "id": "7792d343",
   "metadata": {},
   "outputs": [],
   "source": [
    "from sbi.utils.user_input_checks import (\n",
    "    process_prior,\n",
    "    process_simulator,\n",
    ")\n",
    "\n",
    "prior, num_parameters, prior_returns_numpy = process_prior(prior)\n",
    "\n",
    "# Check simulator, returns PyTorch simulator able to simulate batches.\n",
    "simulator = process_simulator(simulator, prior, prior_returns_numpy)"
   ]
  },
  {
   "cell_type": "code",
   "execution_count": 26,
   "id": "6f024e0f",
   "metadata": {},
   "outputs": [],
   "source": [
    "num_simulations = 2000\n",
    "theta = prior.sample((num_simulations,))\n",
    "x = simulator(theta)"
   ]
  },
  {
   "cell_type": "markdown",
   "id": "e025a2d8",
   "metadata": {},
   "source": [
    "Below, we will first describe how you can run `Neural Posterior Estimation (NPE)`. We will attach code snippets for `Neural Likelihood Estimation (NLE)` and `Neural Ratio Estimation (NRE)` at the end."
   ]
  },
  {
   "cell_type": "markdown",
   "id": "6dac157d",
   "metadata": {},
   "source": [
    "## Neural Posterior Estimation"
   ]
  },
  {
   "cell_type": "markdown",
   "id": "f096b0b2",
   "metadata": {},
   "source": [
    "First, we have to decide on what `DensityEstimator` to use. In this tutorial, we will use a `Neural Spline Flow` (NSF) taken from the [`nflows`](https://github.com/bayesiains/nflows) package."
   ]
  },
  {
   "cell_type": "code",
   "execution_count": 29,
   "id": "b18e2743",
   "metadata": {},
   "outputs": [],
   "source": [
    "from sbi.neural_nets.net_builders import build_nsf\n",
    "\n",
    "torch.manual_seed(0)\n",
    "density_estimator = build_nsf(theta, x)"
   ]
  },
  {
   "cell_type": "markdown",
   "id": "d0a80c04",
   "metadata": {},
   "source": [
    "Every `density_estimator` in `sbi` implements at least two methods: `.sample()` and `.loss()`. Their input and output shapes are:\n",
    "\n",
    "\n",
    "**`density_estimator.loss(input, condition)`:**\n",
    "```\n",
    "Args:\n",
    "    input: `(batch_dim, *event_shape_input)`\n",
    "    condition: `(batch_dim, *event_shape_condition)`\n",
    "\n",
    "Returns:\n",
    "    Loss of shape `(batch_dim,)`\n",
    "```\n",
    "\n",
    "**`density_estimator.sample(sample_shape, condition)`:**\n",
    "```\n",
    "Args:\n",
    "    sample_shape: Tuple of ints which indicates the desired number of samples.\n",
    "    condition: `(batch_dim, *event_shape_condition)`\n",
    "\n",
    "Returns:\n",
    "    Samples of shape `(sample_shape, batch_dim, *event_shape_input)`\n",
    "```"
   ]
  },
  {
   "cell_type": "markdown",
   "id": "a1a61f5a",
   "metadata": {},
   "source": [
    "Some `DensityEstimator`s, such as Normalizing flows, also allow to evaluate the `log probability`. In those cases, the `DensityEstimator` also has the following method:\n",
    "\n",
    "**`density_estimator.log_prob(input, condition)`:**\n",
    "```\n",
    "Args:\n",
    "    input: `(sample_dim, batch_dim, *event_shape_input)`\n",
    "    condition: `(batch_dim, *event_shape_condition)`\n",
    "\n",
    "Returns:\n",
    "    Loss of shape `(sample_dim, batch_dim,)`\n",
    "```"
   ]
  },
  {
   "cell_type": "markdown",
   "id": "ae920e58",
   "metadata": {},
   "source": [
    "## Training the density estimator"
   ]
  },
  {
   "cell_type": "markdown",
   "id": "da1225ab",
   "metadata": {},
   "source": [
    "We can now write our own custom training loop to train the above-generated `DensityEstimator` with early stopping after convergence. \n",
    "\n",
    "We recommend that you follow these steps when writing your own training loop"
   ]
  },
  {
   "cell_type": "code",
   "execution_count": 30,
   "id": "08db65e1",
   "metadata": {},
   "outputs": [],
   "source": [
    "# Define training params\n",
    "training_batch_size = 200\n",
    "learning_rate = 5e-4\n",
    "validation_fraction = 0.1  # 10% of the data will be used for validation\n",
    "stop_after_epochs = 20  # Stop training after 20 epochs with no improvement\n",
    "max_num_epochs = 2**31 - 1"
   ]
  },
  {
   "cell_type": "markdown",
   "id": "e0e58745",
   "metadata": {},
   "source": [
    "We make a dataset out of the simulated data and split into train and test and load into dataloaders:"
   ]
  },
  {
   "cell_type": "code",
   "execution_count": 31,
   "id": "65fc7216",
   "metadata": {},
   "outputs": [],
   "source": [
    "from torch.utils.data.sampler import SubsetRandomSampler\n",
    "\n",
    "dataset = data.TensorDataset(theta, x)\n",
    "num_examples = theta.size(0)\n",
    "\n",
    "# Select random train and validation splits from (theta, x) pairs.\n",
    "num_training_examples = int((1 - validation_fraction) * num_examples)\n",
    "num_validation_examples = num_examples - num_training_examples\n",
    "\n",
    "permuted_indices = torch.randperm(num_examples)\n",
    "train_indices, val_indices = (\n",
    "    permuted_indices[:num_training_examples],\n",
    "    permuted_indices[num_training_examples:],\n",
    ")\n",
    "\n",
    "train_loader_kwargs = {\n",
    "    \"batch_size\": min(training_batch_size, num_training_examples),\n",
    "    \"drop_last\": True,\n",
    "    \"sampler\": SubsetRandomSampler(train_indices.tolist()),\n",
    "}\n",
    "val_loader_kwargs = {\n",
    "    \"batch_size\": min(training_batch_size, num_validation_examples),\n",
    "    \"shuffle\": False,\n",
    "    \"drop_last\": True,\n",
    "    \"sampler\": SubsetRandomSampler(val_indices.tolist()),\n",
    "}\n",
    "\n",
    "train_loader_kwargs = dict(train_loader_kwargs)\n",
    "val_loader_kwargs = dict(val_loader_kwargs)\n",
    "\n",
    "train_loader = data.DataLoader(dataset, **train_loader_kwargs)\n",
    "val_loader = data.DataLoader(dataset, **val_loader_kwargs)"
   ]
  },
  {
   "cell_type": "markdown",
   "id": "0c7e100d",
   "metadata": {},
   "source": [
    "Below is a training loop similar to the NPE class `.train()` function:"
   ]
  },
  {
   "cell_type": "code",
   "execution_count": 32,
   "id": "addf2b33",
   "metadata": {},
   "outputs": [
    {
     "name": "stdout",
     "output_type": "stream",
     "text": [
      "Neural network successfully converged after 110 epochs\n"
     ]
    }
   ],
   "source": [
    "optimizer = Adam(list(density_estimator.parameters()), lr=learning_rate)\n",
    "epoch, val_loss = 0, float(\"Inf\")\n",
    "\n",
    "best_val_loss = float(\"Inf\")\n",
    "\n",
    "converged = False\n",
    "\n",
    "while epoch <= max_num_epochs and not converged:\n",
    "    # Train for a single epoch.\n",
    "    density_estimator.train()\n",
    "    train_loss_sum = 0\n",
    "    for batch in train_loader:\n",
    "        optimizer.zero_grad()\n",
    "        theta_batch, x_batch = (\n",
    "            batch[0],\n",
    "            batch[1],\n",
    "        )\n",
    "\n",
    "        train_losses = density_estimator.loss(theta_batch, x_batch)\n",
    "        train_loss = torch.mean(train_losses)\n",
    "        train_loss_sum += train_losses.sum().item()\n",
    "\n",
    "        train_loss.backward()\n",
    "\n",
    "        optimizer.step()\n",
    "\n",
    "    epoch += 1\n",
    "\n",
    "    train_loss_average = train_loss_sum / (\n",
    "        len(train_loader) * train_loader.batch_size\n",
    "    )\n",
    "\n",
    "    # Calculate validation performance.\n",
    "    density_estimator.eval()\n",
    "    val_loss_sum = 0\n",
    "\n",
    "    with torch.no_grad():\n",
    "        for batch in val_loader:\n",
    "            theta_batch, x_batch = (batch[0], batch[1])\n",
    "\n",
    "            val_losses = density_estimator.loss(\n",
    "                theta_batch,\n",
    "                x_batch,\n",
    "            )\n",
    "            val_loss_sum += val_losses.sum().item()\n",
    "\n",
    "    # Take mean over all validation samples.\n",
    "    val_loss = val_loss_sum / (len(val_loader) * val_loader.batch_size)\n",
    "\n",
    "    if val_loss < best_val_loss:\n",
    "        best_val_loss = val_loss\n",
    "        epochs_since_last_improvement = 0\n",
    "        best_model_state_dict = deepcopy(density_estimator.state_dict())\n",
    "    else:\n",
    "        epochs_since_last_improvement += 1\n",
    "\n",
    "    # If no validation improvement over many epochs, stop training.\n",
    "    if epochs_since_last_improvement > stop_after_epochs - 1:\n",
    "        density_estimator.load_state_dict(best_model_state_dict)\n",
    "        converged = True\n",
    "        print(f'Neural network successfully converged after {epoch} epochs')"
   ]
  },
  {
   "cell_type": "markdown",
   "id": "f3647c94",
   "metadata": {},
   "source": [
    "After training, we can sample from the trained `density_estimator`:"
   ]
  },
  {
   "cell_type": "code",
   "execution_count": 33,
   "id": "e6784836",
   "metadata": {},
   "outputs": [
    {
     "name": "stdout",
     "output_type": "stream",
     "text": [
      "Shape of x_o: torch.Size([1, 2])            # Must have a batch dimension\n",
      "Shape of samples: torch.Size([1000, 1, 2])  # Samples are returned with a batch dimension.\n",
      "Shape of samples: torch.Size([1000, 2])     # Removed batch dimension.\n"
     ]
    }
   ],
   "source": [
    "x_o = torch.as_tensor([[1.0, 1.0]])\n",
    "print(f\"Shape of x_o: {x_o.shape}            # Must have a batch dimension\")\n",
    "\n",
    "samples = density_estimator.sample((1000,), condition=x_o).detach()\n",
    "print(\n",
    "    f\"Shape of samples: {samples.shape}  # Samples are returned with a batch dimension.\"\n",
    ")\n",
    "\n",
    "samples = samples.squeeze(dim=1)\n",
    "print(f\"Shape of samples: {samples.shape}     # Removed batch dimension.\")"
   ]
  },
  {
   "cell_type": "code",
   "execution_count": 34,
   "id": "c4e9ae7b",
   "metadata": {},
   "outputs": [
    {
     "data": {
      "image/png": "[encoded data removed]",
      "text/plain": [
       "<Figure size 300x300 with 4 Axes>"
      ]
     },
     "metadata": {},
     "output_type": "display_data"
    }
   ],
   "source": [
    "pairplot(samples, limits=[[-3, 3], [-3, 3]], figsize=(3, 3));"
   ]
  },
  {
   "cell_type": "markdown",
   "id": "bfc34c5e",
   "metadata": {},
   "source": [
    "We perform a sanity check to compare to the inbuilt training function"
   ]
  },
  {
   "cell_type": "code",
   "execution_count": 35,
   "id": "61815d79",
   "metadata": {},
   "outputs": [
    {
     "name": "stdout",
     "output_type": "stream",
     "text": [
      " Neural network successfully converged after 97 epochs."
     ]
    }
   ],
   "source": [
    "from sbi.inference import NPE\n",
    "\n",
    "torch.manual_seed(0)\n",
    "inference = NPE(prior=prior, density_estimator='nsf')\n",
    "\n",
    "inference = inference.append_simulations(theta, x)\n",
    "density_estimator_npe = inference.train()"
   ]
  },
  {
   "cell_type": "code",
   "execution_count": 36,
   "id": "7909fabc",
   "metadata": {},
   "outputs": [
    {
     "name": "stdout",
     "output_type": "stream",
     "text": [
      "Shape of x_o: torch.Size([1, 2])            # Must have a batch dimension\n",
      "Shape of samples: torch.Size([1000, 1, 2])  # Samples are returned with a batch dimension.\n",
      "Shape of samples: torch.Size([1000, 2])     # Removed batch dimension.\n"
     ]
    }
   ],
   "source": [
    "x_o = torch.as_tensor([[1.0, 1.0]])\n",
    "print(f\"Shape of x_o: {x_o.shape}            # Must have a batch dimension\")\n",
    "\n",
    "samples = density_estimator_npe.sample((1000,), condition=x_o).detach()\n",
    "print(\n",
    "    f\"Shape of samples: {samples.shape}  # Samples are returned with a batch dimension.\"\n",
    ")\n",
    "\n",
    "samples = samples.squeeze(dim=1)\n",
    "print(f\"Shape of samples: {samples.shape}     # Removed batch dimension.\")"
   ]
  },
  {
   "cell_type": "code",
   "execution_count": 37,
   "id": "bd1cb574",
   "metadata": {},
   "outputs": [
    {
     "data": {
      "image/png": "[encoded data removed]",
      "text/plain": [
       "<Figure size 300x300 with 4 Axes>"
      ]
     },
     "metadata": {},
     "output_type": "display_data"
    }
   ],
   "source": [
    "pairplot(samples, limits=[[-3, 3], [-3, 3]], figsize=(3, 3));"
   ]
  },
  {
   "cell_type": "markdown",
   "id": "7e3e1f27",
   "metadata": {},
   "source": [
    "Given this trained `density_estimator`, we can already generate samples from the posterior given observations (but we have to adhere to the shape specifications of the `DensityEstimator` explained above:"
   ]
  },
  {
   "cell_type": "markdown",
   "id": "4c261ef6",
   "metadata": {},
   "source": [
    "### Wrapping as a `DirectPosterior`\n",
    "\n",
    "You can also wrap the `DensityEstimator` as a `DirectPosterior`. The `DirectPosterior` is also returned by  `inference.build_posterior` and you have already learned how to use it in the [introduction tutorial](https://sbi-dev.github.io/sbi/dev/tutorials/00_getting_started/). It adds the following functionality over the raw `DensityEstimator`:\n",
    "\n",
    "- automatically reject samples outside of the prior bounds  \n",
    "- compute the Maximum-a-posteriori (MAP) estimate\n",
    "\n"
   ]
  },
  {
   "cell_type": "code",
   "execution_count": 38,
   "id": "c7be9a0a",
   "metadata": {},
   "outputs": [],
   "source": [
    "from sbi.inference.posteriors import DirectPosterior\n",
    "\n",
    "posterior = DirectPosterior(density_estimator, prior)"
   ]
  },
  {
   "cell_type": "code",
   "execution_count": 39,
   "id": "4e549eee",
   "metadata": {},
   "outputs": [
    {
     "name": "stdout",
     "output_type": "stream",
     "text": [
      "Shape of x_o: torch.Size([1, 2])\n"
     ]
    },
    {
     "data": {
      "application/vnd.jupyter.widget-view+json": {
       "model_id": "712cb6a5750d4a27b89c3f63a7dab935",
       "version_major": 2,
       "version_minor": 0
      },
      "text/plain": [
       "Drawing 1000 posterior samples for 1 observations:   0%|          | 0/1000 [00:00<?, ?it/s]"
      ]
     },
     "metadata": {},
     "output_type": "display_data"
    },
    {
     "name": "stdout",
     "output_type": "stream",
     "text": [
      "Shape of samples: torch.Size([1000, 2])\n"
     ]
    }
   ],
   "source": [
    "print(f\"Shape of x_o: {x_o.shape}\")\n",
    "samples = posterior.sample((1000,), x=x_o)\n",
    "print(f\"Shape of samples: {samples.shape}\")"
   ]
  },
  {
   "cell_type": "markdown",
   "id": "59ccdcb6",
   "metadata": {},
   "source": [
    "Note: For the `DirectPosterior`, the batch dimension is optional, i.e., it is possible to sample for multiple observations simultaneously. Use `.sample_batched` in that case."
   ]
  },
  {
   "cell_type": "code",
   "execution_count": 40,
   "id": "b959f8ef",
   "metadata": {},
   "outputs": [
    {
     "data": {
      "image/png": "[encoded data removed]",
      "text/plain": [
       "<Figure size 300x300 with 4 Axes>"
      ]
     },
     "metadata": {},
     "output_type": "display_data"
    }
   ],
   "source": [
    "_ = pairplot(samples, limits=[[-3, 3], [-3, 3]], figsize=(3, 3), upper=\"contour\")"
   ]
  },
  {
   "cell_type": "markdown",
   "id": "648ebfc4",
   "metadata": {},
   "source": [
    "### Custom Data Loaders\n",
    "\n",
    "One helpful advantage of having access to the training loop is that you can now use your own DataLoaders during training of the density estimator. In this fashion, larger datasets can be used as input to `sbi` where `x` is potentially an image or something else. While this will require [embedding the input data](https://sbi.readthedocs.io/en/latest/how_to_guide/04_embedding_networks.html), a more fine grained control over loading the data is possible and allows to manage the memory requirement during training.\n",
    "\n",
    "To demonstrate this, we build a Dataset that complies with the `torch.util.data.Dataset` API. Note, the class below is meant for illustration purposes. In practice, this class can also read the data from disk etc."
   ]
  },
  {
   "cell_type": "code",
   "execution_count": 41,
   "id": "4034bdc4",
   "metadata": {},
   "outputs": [],
   "source": [
    "class NPEData(torch.utils.data.Dataset):\n",
    "    def __init__(\n",
    "        self,\n",
    "        num_samples: int,\n",
    "        prior: torch.distributions.Distribution,\n",
    "        simulator: Callable,\n",
    "        seed: int = 44,\n",
    "    ):\n",
    "        super().__init__()\n",
    "\n",
    "        torch.random.manual_seed(seed)  # will set the seed device wide\n",
    "        self.prior = prior\n",
    "        self.simulator = simulator\n",
    "\n",
    "        self.theta = prior.sample((num_samples,))\n",
    "        self.x = simulator(self.theta)\n",
    "\n",
    "    def __len__(self):\n",
    "        return self.theta.shape[0]\n",
    "\n",
    "    def __getitem__(self, index: int):\n",
    "        return self.theta[index, ...], self.x[index, ...]"
   ]
  },
  {
   "cell_type": "markdown",
   "id": "98865a83",
   "metadata": {},
   "source": [
    "We can now proceed to create a DataLoader and conduct our training with a simplified loop as illustrated above."
   ]
  },
  {
   "cell_type": "code",
   "execution_count": 42,
   "id": "b31045e0",
   "metadata": {},
   "outputs": [],
   "source": [
    "train_data = NPEData(num_samples=2048, prior=prior, simulator=simulator)\n",
    "train_loader = torch.utils.data.DataLoader(train_data, batch_size=128)"
   ]
  },
  {
   "cell_type": "markdown",
   "id": "66a4d447",
   "metadata": {},
   "source": [
    "For sake of demonstration, let's create another estimator using a masked autoregressive flow (maf). For this, we create a second dataset and use only parts of the data to construct the maf estimator."
   ]
  },
  {
   "cell_type": "code",
   "execution_count": 43,
   "id": "13beed5d",
   "metadata": {},
   "outputs": [],
   "source": [
    "from sbi.neural_nets.net_builders import build_maf\n",
    "\n",
    "dummy_data = NPEData(64, prior, simulator, seed=43)\n",
    "dummy_loader = torch.utils.data.DataLoader(dummy_data, batch_size=4)\n",
    "dummy_theta, dummy_x = next(iter(dummy_loader))\n",
    "maf_estimator = build_maf(dummy_theta, dummy_x)"
   ]
  },
  {
   "cell_type": "code",
   "execution_count": 44,
   "id": "b36b8a14",
   "metadata": {},
   "outputs": [
    {
     "name": "stdout",
     "output_type": "stream",
     "text": [
      "last loss 4.49238920211792\n",
      "last loss -1.2831010818481445\n",
      "last loss -1.5764970779418945\n",
      "last loss -1.6195335388183594\n",
      "last loss -1.6439297199249268\n",
      "last loss -1.6492975950241089\n",
      "last loss -1.6488871574401855\n",
      "last loss -1.6473512649536133\n",
      "last loss -1.6515816450119019\n",
      "last loss -1.6809775829315186\n"
     ]
    }
   ],
   "source": [
    "optw = AdamW(list(maf_estimator.parameters()), lr=5e-4)\n",
    "num_epochs = 100\n",
    "\n",
    "for ep in range(num_epochs):\n",
    "    for _, (theta_batch, x_batch) in enumerate(train_loader):\n",
    "        optw.zero_grad()\n",
    "        losses = maf_estimator.loss(theta_batch, condition=x_batch)\n",
    "        loss = torch.mean(losses)\n",
    "        loss.backward()\n",
    "        optw.step()\n",
    "    if ep % 10 == 0:\n",
    "        print(\"last loss\", loss.item())"
   ]
  },
  {
   "cell_type": "code",
   "execution_count": 45,
   "id": "4ad6fb01",
   "metadata": {},
   "outputs": [
    {
     "name": "stdout",
     "output_type": "stream",
     "text": [
      "Shape of samples: torch.Size([1000, 1, 2])  # Samples are returned with a batch dimension.\n",
      "Shape of samples: torch.Size([1000, 2])     # Removed batch dimension.\n"
     ]
    }
   ],
   "source": [
    "# let's compare the trained estimator to the NSF from above\n",
    "samples = maf_estimator.sample((1000,), condition=x_o).detach()\n",
    "print(\n",
    "    f\"Shape of samples: {samples.shape}  # Samples are returned with a batch dimension.\"\n",
    ")\n",
    "\n",
    "samples = samples.squeeze(dim=1)\n",
    "print(f\"Shape of samples: {samples.shape}     # Removed batch dimension.\")"
   ]
  },
  {
   "cell_type": "code",
   "execution_count": 46,
   "id": "786f13ff",
   "metadata": {},
   "outputs": [
    {
     "data": {
      "image/png": "[encoded data removed]",
      "text/plain": [
       "<Figure size 300x300 with 4 Axes>"
      ]
     },
     "metadata": {},
     "output_type": "display_data"
    }
   ],
   "source": [
    "_ = pairplot(samples, limits=[[-3, 3], [-3, 3]], figsize=(3, 3))"
   ]
  },
  {
   "cell_type": "markdown",
   "id": "a6888a75",
   "metadata": {},
   "source": [
    "## Neural Likelihood Estimation"
   ]
  },
  {
   "cell_type": "markdown",
   "id": "9e13d29b",
   "metadata": {},
   "source": [
    "The workflow for Neural Likelihood Estimation is very similar. Unlike for NPE, we have to sample with MCMC (or variational inference) though, so we will build an `MCMCPosterior` after training:"
   ]
  },
  {
   "cell_type": "code",
   "execution_count": 47,
   "id": "f09ca191",
   "metadata": {},
   "outputs": [],
   "source": [
    "from sbi.inference.posteriors import MCMCPosterior\n",
    "from sbi.inference.potentials import likelihood_estimator_based_potential"
   ]
  },
  {
   "cell_type": "code",
   "execution_count": 25,
   "id": "17ce87bb",
   "metadata": {},
   "outputs": [],
   "source": [
    "# Note that the order of x and theta are reversed in comparison to NPE.\n",
    "density_estimator = build_nsf(x, theta)\n",
    "\n",
    "# Training loop.\n",
    "opt = Adam(list(density_estimator.parameters()), lr=5e-4)\n",
    "for _ in range(200):\n",
    "    opt.zero_grad()\n",
    "    losses = density_estimator.loss(x, condition=theta)\n",
    "    loss = torch.mean(losses)\n",
    "    loss.backward()\n",
    "    opt.step()\n",
    "\n",
    "# Build the posterior.\n",
    "potential, tf = likelihood_estimator_based_potential(density_estimator, prior, x_o)\n",
    "posterior = MCMCPosterior(\n",
    "    potential,\n",
    "    proposal=prior,\n",
    "    theta_transform=tf,\n",
    "    num_chains=50,\n",
    "    thin=1,\n",
    "    method=\"slice_np_vectorized\",\n",
    ")"
   ]
  },
  {
   "cell_type": "code",
   "execution_count": 26,
   "id": "37710b2e",
   "metadata": {},
   "outputs": [
    {
     "data": {
      "application/vnd.jupyter.widget-view+json": {
       "model_id": "8a09c4e69e9d43a5ad281c87f07e3e20",
       "version_major": 2,
       "version_minor": 0
      },
      "text/plain": [
       "Generating 50 MCMC inits via resample strategy:   0%|          | 0/50 [00:00<?, ?it/s]"
      ]
     },
     "metadata": {},
     "output_type": "display_data"
    },
    {
     "data": {
      "application/vnd.jupyter.widget-view+json": {
       "model_id": "5a2f99a5720046c6aa56ff09d45bebc4",
       "version_major": 2,
       "version_minor": 0
      },
      "text/plain": [
       "Running vectorized MCMC with 50 chains:   0%|          | 0/13500 [00:00<?, ?it/s]"
      ]
     },
     "metadata": {},
     "output_type": "display_data"
    },
    {
     "data": {
      "image/png": "[encoded data removed]",
      "text/plain": [
       "<Figure size 300x300 with 4 Axes>"
      ]
     },
     "metadata": {},
     "output_type": "display_data"
    }
   ],
   "source": [
    "samples = posterior.sample((1000,), x=x_o)\n",
    "pairplot(samples, limits=[[-3, 3], [-3, 3]], figsize=(3, 3), upper=\"contour\");"
   ]
  },
  {
   "cell_type": "markdown",
   "id": "2502d44f",
   "metadata": {},
   "source": [
    "## Neural Ratio Estimation\n",
    "\n",
    "Finally, for NRE, at this point, you have to implement the loss function yourself:"
   ]
  },
  {
   "cell_type": "code",
   "execution_count": 27,
   "id": "9ca1c07a",
   "metadata": {},
   "outputs": [],
   "source": [
    "from sbi import utils as utils\n",
    "from sbi.inference.potentials import ratio_estimator_based_potential\n",
    "from sbi.neural_nets.net_builders import build_resnet_classifier"
   ]
  },
  {
   "cell_type": "code",
   "execution_count": 28,
   "id": "e25fb1d2",
   "metadata": {},
   "outputs": [],
   "source": [
    "net = build_resnet_classifier(x, theta)"
   ]
  },
  {
   "cell_type": "code",
   "execution_count": 29,
   "id": "c822139c",
   "metadata": {},
   "outputs": [],
   "source": [
    "opt = Adam(list(net.parameters()), lr=5e-4)\n",
    "\n",
    "\n",
    "def classifier_logits(net, theta, x, num_atoms):\n",
    "    batch_size = theta.shape[0]\n",
    "    repeated_x = utils.repeat_rows(x, num_atoms)\n",
    "    probs = ones(batch_size, batch_size) * (1 - eye(batch_size)) / (batch_size - 1)\n",
    "    choices = torch.multinomial(probs, num_samples=num_atoms - 1, replacement=False)\n",
    "    contrasting_theta = theta[choices]\n",
    "    atomic_theta = torch.cat((theta[:, None, :], contrasting_theta), dim=1).reshape(\n",
    "        batch_size * num_atoms, -1\n",
    "    )\n",
    "    return net(atomic_theta, repeated_x)\n",
    "\n",
    "\n",
    "num_atoms = 10\n",
    "for _ in range(300):\n",
    "    opt.zero_grad()\n",
    "    batch_size = theta.shape[0]\n",
    "    logits = classifier_logits(net, theta, x, num_atoms=num_atoms)\n",
    "    logits = logits.reshape(batch_size, num_atoms)\n",
    "    log_probs = logits[:, 0] - torch.logsumexp(logits, dim=-1)\n",
    "    loss = -torch.mean(log_probs)\n",
    "    loss.backward()\n",
    "    opt.step()"
   ]
  },
  {
   "cell_type": "code",
   "execution_count": 30,
   "id": "7cc0f8da",
   "metadata": {},
   "outputs": [],
   "source": [
    "potential, tf = ratio_estimator_based_potential(net, prior, x_o)\n",
    "posterior = MCMCPosterior(\n",
    "    potential,\n",
    "    proposal=prior,\n",
    "    theta_transform=tf,\n",
    "    num_chains=100,\n",
    "    thin=1,\n",
    "    method=\"slice_np_vectorized\",\n",
    ")"
   ]
  },
  {
   "cell_type": "code",
   "execution_count": 31,
   "id": "5c5bd7ec",
   "metadata": {},
   "outputs": [
    {
     "data": {
      "application/vnd.jupyter.widget-view+json": {
       "model_id": "9e8bff891f524f538980797d07456c03",
       "version_major": 2,
       "version_minor": 0
      },
      "text/plain": [
       "Generating 100 MCMC inits via resample strategy:   0%|          | 0/100 [00:00<?, ?it/s]"
      ]
     },
     "metadata": {},
     "output_type": "display_data"
    },
    {
     "data": {
      "application/vnd.jupyter.widget-view+json": {
       "model_id": "9b76fc5cccd346f2b69996c039abcb56",
       "version_major": 2,
       "version_minor": 0
      },
      "text/plain": [
       "Running vectorized MCMC with 100 chains:   0%|          | 0/26000 [00:00<?, ?it/s]"
      ]
     },
     "metadata": {},
     "output_type": "display_data"
    },
    {
     "data": {
      "image/png": "[encoded data removed]",
      "text/plain": [
       "<Figure size 300x300 with 4 Axes>"
      ]
     },
     "metadata": {},
     "output_type": "display_data"
    }
   ],
   "source": [
    "samples = posterior.sample((1000,), x=x_o)\n",
    "pairplot(samples, limits=[[-3, 3], [-3, 3]], figsize=(3, 3));"
   ]
  }
 ],
 "metadata": {
  "kernelspec": {
   "display_name": "Python 3 (ipykernel)",
   "language": "python",
   "name": "python3"
  },
  "language_info": {
   "codemirror_mode": {
    "name": "ipython",
    "version": 3
   },
   "file_extension": ".py",
   "mimetype": "text/x-python",
   "name": "python",
   "nbconvert_exporter": "python",
   "pygments_lexer": "ipython3",
   "version": "3.12.4"
  },
  "name": "18_training_interface.ipynb",
  "toc": {
   "base_numbering": 1,
   "nav_menu": null,
   "number_sections": true,
   "sideBar": true,
   "skip_h1_title": false,
   "title_cell": "Table of Contents",
   "title_sidebar": "Contents",
   "toc_cell": false,
   "toc_position": null,
   "toc_section_display": true,
   "toc_window_display": false
  }
 },
 "nbformat": 4,
 "nbformat_minor": 5
}
