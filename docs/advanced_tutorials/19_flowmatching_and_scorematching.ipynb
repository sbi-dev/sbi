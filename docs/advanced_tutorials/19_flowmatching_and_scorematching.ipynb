{
 "cells": [
  {
   "cell_type": "markdown",
   "metadata": {},
   "source": [
    "# Flow-Matching Posterior Estimation (FMPE) and Neural Posterior Score Estimation (NPSE)\n",
    "\n",
    "`sbi` also incorporates recent algorithms based on Flow Matching and Score Matching generative models, which are also referred to as Continuous Normalizing Flows (CNF) and Denoising Diffusion Probabilistic Models (DDPM), respectively.\n",
    "\n",
    "At the highest level, you can conceptualize FMPE and NPSE as tackling the exact same problem as NPE, i.e., estimating the posterior from simulations, but replacing Normalizing Flows with different conditional density estimators. \n",
    "\n",
    "Flow Matching and Score Matching, as generative models, are also quite similar to Normalizing Flows, where a deep neural network parameterizes the transformation from a base distribution (e.g., Gaussian) to a more complex one that approximates the target density, but they differ in what this transformation looks like (more on that below). \n",
    "\n",
    "Beyond that, Flow Matching and Score Matching offer different benefits and drawbacks compared to Normalizing Flows, which make them better (or worse) choices for some problems. For examples, Score Matching (Diffusion Models) are known to be very flexible and can model high-dimensional distributions, but are comparatively slow during sampling.\n",
    "\n",
    "In this tutorial, we take a brief look at the API for `FMPE` and `NPSE`, their pros and cons, as well as highlight some notable options.\n",
    "\n",
    "For more information, see:\n",
    "\n",
    "**Score Matching**:\n",
    "- Hyvärinen, A. \"Estimation of Non-Normalized Statistical Models by Score Matching.\" JMLR 2005.\n",
    "- Song, Y., et al. \"Score-Based Generative Modeling through Stochastic Differential Equations.\" ICLR 2021.\n",
    "- Geffner, T., Papamakarios, G., and Mnih, A. \"Score modeling for simulation-based inference.\" NeurIPS 2022 Workshop on Score-Based Methods. 2022.\n",
    "- Sharrock, L., Simons, J., et al. \"Sequential neural score estimation: Likelihood-free inference with conditional score based diffusion models.\" ICML 2024.\n",
    "\n",
    "**Flow Matching**:\n",
    "- Lipman, Y., et al. \"Flow Matching for Generative Modeling.\" ICLR 2023\n",
    "- Wildberger, J.B.,  Buchholz, S., et al. \"Flow Matching for Scalable Simulation-Based Inference.\" NeurIPS 2023."
   ]
  },
  {
   "cell_type": "code",
   "execution_count": 16,
   "metadata": {},
   "outputs": [],
   "source": [
    "import torch\n",
    "\n",
    "from sbi.analysis import pairplot\n",
    "from sbi.inference import NPSE\n",
    "from sbi.utils import BoxUniform"
   ]
  },
  {
   "cell_type": "code",
   "execution_count": 2,
   "metadata": {},
   "outputs": [],
   "source": [
    "# Example toy simulator\n",
    "# Define the prior\n",
    "num_dims = 3\n",
    "num_sims = 5000\n",
    "prior = BoxUniform(low=-torch.ones(num_dims), high=torch.ones(num_dims))\n",
    "\n",
    "def simulator(theta):\n",
    "    \"\"\"Linear gaussian simulator.\"\"\"\n",
    "    return theta + 1.0 + torch.randn_like(theta) * 0.1\n",
    "\n",
    "# Produce simulations\n",
    "theta = prior.sample((num_sims,))\n",
    "x = simulator(theta)\n",
    "\n",
    "theta_o = torch.zeros(num_dims)\n",
    "x_o = simulator(theta_o)"
   ]
  },
  {
   "cell_type": "markdown",
   "metadata": {},
   "source": [
    "## FMPE\n",
    "\n",
    "Flow-Matching Posterior Estimation (FMPE) is an approach to Simulation-Based Inference\n",
    "(SBI) that leverages Flow Matching, a generative modeling technique where the\n",
    "transformation from a simple base distribution (like a Gaussian) to the target\n",
    "distribution is learned through matching the flow of probability densities.\n",
    "\n",
    "### Key Concept:\n",
    "- **Flow Matching**: The core idea is to model the probability flow between the base\n",
    "  distribution and the target distribution by minimizing a discrepancy between their\n",
    "  \"flows\" or \"dynamics\" in the latent space. This is typically done by training a neural\n",
    "  network to parameterize a vector field that defines how samples should be moved or\n",
    "  transformed in order to follow the target distribution.\n",
    "\n",
    "### Step-by-Step Process:\n",
    "1. **Base Distribution**: Start with a simple base distribution (e.g., Gaussian).\n",
    "2. **Neural Network Parameterization**: Use a neural network to learn a vector field\n",
    "   that describes the flow from the base distribution to the target distribution.\n",
    "3. **Flow Matching Objective**: Optimize the neural network to minimize a loss function\n",
    "   that captures the difference between the flow of the base distribution and the target\n",
    "   distribution.\n",
    "4. **Sampling**: Once trained, draw samples from the base distribution and apply the\n",
    "   learned flow transformation to obtain samples from the approximate posterior\n",
    "   distribution.\n",
    "\n",
    "FMPE can be more efficient than traditional normalizing flows in some settings,\n",
    "especially when the target distribution has complex structures or when high-dimensional\n",
    "data is involved (see Dax et al., 2023, https://arxiv.org/abs/2305.17161 for an\n",
    "example). However, compared to (discrete time) normalizing flows, flow matching is\n",
    "usually slower at inference time because sampling and evaluation of the target\n",
    "distribution requires solving the underlying ODE (compared to just doing a NN forward\n",
    "pass for normalizing flows). \n",
    "\n",
    "In the next cell, we'll show how to use FMPE using the `sbi` package.\n",
    "\n"
   ]
  },
  {
   "cell_type": "code",
   "execution_count": 3,
   "metadata": {},
   "outputs": [
    {
     "name": "stdout",
     "output_type": "stream",
     "text": [
      " Neural network successfully converged after 131 epochs."
     ]
    },
    {
     "name": "stderr",
     "output_type": "stream",
     "text": [
      "/mnt/lustre/work/macke/mgloeckler90/sbi/sbi/inference/trainers/base.py:569: FutureWarning: The following arguments are deprecated and will be removed in a future version: mcmc_method, vi_method. Please use `posterior_parameters` instead. Refer to this guide for details:\n",
      "https://sbi.readthedocs.io/en/latest/how_to_guide/19_posterior_parameters.html#\n",
      "  self._raise_deprecation_warning(deprecated_params, **kwargs)\n"
     ]
    }
   ],
   "source": [
    "from sbi.inference import FMPE\n",
    "from sbi.neural_nets import posterior_flow_nn\n",
    "\n",
    "# the quick way\n",
    "trainer = FMPE(prior)\n",
    "trainer.append_simulations(theta, x).train()\n",
    "posterior = trainer.build_posterior()"
   ]
  },
  {
   "cell_type": "code",
   "execution_count": 4,
   "metadata": {},
   "outputs": [
    {
     "name": "stdout",
     "output_type": "stream",
     "text": [
      " Neural network successfully converged after 244 epochs."
     ]
    },
    {
     "name": "stderr",
     "output_type": "stream",
     "text": [
      "Drawing 10000 posterior samples for 1 observations: 100%|██████████| 10000/10000 [00:00<00:00, 18763.14it/s]\n"
     ]
    }
   ],
   "source": [
    "# Set up a custom vector field neural network\n",
    "net_builder = posterior_flow_nn(\n",
    "    model=\"mlp\",\n",
    "    num_layers=3,\n",
    "    hidden_features=24,\n",
    "    # embedding_net=CNNEmbedding  # e.g., for image data.\n",
    ")\n",
    "trainer = FMPE(prior, vf_estimator=net_builder)\n",
    "trainer.append_simulations(theta, x).train(training_batch_size=200, learning_rate=5e-4)\n",
    "posterior = trainer.build_posterior()\n",
    "posterior_samples = posterior.sample((10000,), x_o)"
   ]
  },
  {
   "cell_type": "code",
   "execution_count": 5,
   "metadata": {},
   "outputs": [
    {
     "data": {
      "image/png": "[encoded data removed]",
      "text/plain": [
       "<Figure size 500x500 with 9 Axes>"
      ]
     },
     "metadata": {},
     "output_type": "display_data"
    }
   ],
   "source": [
    "# plot posterior samples\n",
    "fig, ax = pairplot(\n",
    "    posterior_samples, limits=[[-2, 2], [-2, 2], [-2, 2]], figsize=(5, 5),\n",
    "    labels=[r\"$\\theta_1$\", r\"$\\theta_2$\", r\"$\\theta_3$\"],\n",
    "    points=theta_o # add ground truth thetas\n",
    ")"
   ]
  },
  {
   "cell_type": "markdown",
   "metadata": {},
   "source": [
    "---"
   ]
  },
  {
   "cell_type": "markdown",
   "metadata": {},
   "source": [
    "## NPSE\n",
    "\n",
    "NPSE approximates the posterior distribution by learning its score function, i.e., gradient of the log-density, using the denoising score matching loss. The class of generative models is referred to as score-based generative models, with close links to diffusion models.\n",
    "\n",
    "- Score-based generative models have been shown to scale well to very high dimensions (e.g., high-resolutions images), which is particularly useful when the parameter space (and hence, the target posterior) is high-dimensional.\n",
    "- On the other hand, sampling can be slower as it involves solving many steps of the stochastic differential equation for reversing the diffusion process.\n",
    "\n",
    "Note that only the single-round version of NPSE is implemented currently.\n",
    "\n",
    "For more details on score-based generative models, see [Song et al., 2020](https://arxiv.org/abs/2011.13456) (in particular, Figure 1 and 2)."
   ]
  },
  {
   "cell_type": "code",
   "execution_count": 6,
   "metadata": {},
   "outputs": [
    {
     "data": {
      "text/plain": [
       "<sbi.inference.trainers.vfpe.npse.NPSE at 0x7f637036c4d0>"
      ]
     },
     "execution_count": 6,
     "metadata": {},
     "output_type": "execute_result"
    }
   ],
   "source": [
    "# Instantiate NPSE and append simulations\n",
    "inference = NPSE(prior=prior, sde_type=\"ve\")\n",
    "inference.append_simulations(theta, x)"
   ]
  },
  {
   "cell_type": "markdown",
   "metadata": {},
   "source": [
    "Note the argument `sde_type`, which defines whether the forward diffusion process has a noising schedule that is Variance Exploding (`ve`, i.e., [SMLD](https://proceedings.neurips.cc/paper/2019/hash/3001ef257407d5a371a96dcd947c7d93-Abstract.html?ref=https://githubhelp.com)), Variance Preserving (`vp`, i.e., [DDPM](https://proceedings.neurips.cc/paper/2020/hash/4c5bcfec8584af0d967f1ab10179ca4b-Abstract.html)), or sub-Variance Preserving (`subvp`) in the limit."
   ]
  },
  {
   "cell_type": "code",
   "execution_count": 7,
   "metadata": {},
   "outputs": [
    {
     "name": "stdout",
     "output_type": "stream",
     "text": [
      " Neural network successfully converged after 498 epochs."
     ]
    }
   ],
   "source": [
    "# Train the score estimator\n",
    "score_estimator = inference.train()"
   ]
  },
  {
   "cell_type": "code",
   "execution_count": 8,
   "metadata": {},
   "outputs": [
    {
     "name": "stderr",
     "output_type": "stream",
     "text": [
      "/mnt/lustre/work/macke/mgloeckler90/sbi/sbi/inference/trainers/base.py:569: FutureWarning: The following arguments are deprecated and will be removed in a future version: mcmc_method, vi_method. Please use `posterior_parameters` instead. Refer to this guide for details:\n",
      "https://sbi.readthedocs.io/en/latest/how_to_guide/19_posterior_parameters.html#\n",
      "  self._raise_deprecation_warning(deprecated_params, **kwargs)\n",
      "Drawing 10000 posterior samples: 100%|██████████| 499/499 [00:40<00:00, 12.42it/s]0<?, ?it/s]\n",
      "Drawing 10000 posterior samples for 1 observations: 100%|██████████| 10000/10000 [00:40<00:00, 248.83it/s]\n"
     ]
    }
   ],
   "source": [
    "# Build the posterior using the trained score estimator, and sample\n",
    "posterior = inference.build_posterior(score_estimator)\n",
    "posterior_samples = posterior.sample((10000,), x=x_o)"
   ]
  },
  {
   "cell_type": "code",
   "execution_count": 9,
   "metadata": {},
   "outputs": [
    {
     "data": {
      "image/png": "[encoded data removed]",
      "text/plain": [
       "<Figure size 500x500 with 9 Axes>"
      ]
     },
     "metadata": {},
     "output_type": "display_data"
    }
   ],
   "source": [
    "# plot posterior samples\n",
    "fig, ax = pairplot(\n",
    "    posterior_samples, limits=[[-2, 2], [-2, 2], [-2, 2]], figsize=(5, 5),\n",
    "    labels=[r\"$\\theta_1$\", r\"$\\theta_2$\", r\"$\\theta_3$\"],\n",
    "    points=theta_o # add ground truth thetas\n",
    ")"
   ]
  },
  {
   "cell_type": "markdown",
   "metadata": {},
   "source": [
    "## Vector field nets\n",
    "\n",
    "While NPE is architecturally limited to conditional density networks, both FMPE and NPSE solve a **regression problem** targeting a specific *vector field* of choice (e.g., marginal scores or transport velocities). This is advantageous because it allows us to use any \"off-the-shelf\" neural network to address our problem, in contrast to NPE, which is typically restricted to normalizing flows.\n",
    "\n",
    "However, their performance can be highly dependent on the suitability of the chosen neural network for the task at hand. For instance, diffusion models achieve state-of-the-art generative performance on images only when paired with a carefully designed U-Net–like architecture.  \n",
    "\n",
    "For both FMPE and NPSE, we provide a selection of neural networks tailored to the task:  \n",
    "- `mlp` and `ada_mlp` (MLP with adaptive layer norm for conditioning) — MLP variants that inject time information at each layer, as is common in diffusion architectures.  \n",
    "- `transformer` and `transformer_cross_attn` — scalable diffusion transformers (e.g., as in [https://arxiv.org/abs/2212.09748](https://arxiv.org/abs/2212.09748)). The cross-attention variant supports arbitrary sequence lengths for conditioning.  \n",
    "\n",
    "For certain data types, such as image-like inputs, it may still be beneficial to use a more specialized architecture.\n"
   ]
  },
  {
   "cell_type": "code",
   "execution_count": 10,
   "metadata": {},
   "outputs": [
    {
     "name": "stderr",
     "output_type": "stream",
     "text": [
      "/mnt/lustre/work/macke/mgloeckler90/sbi/sbi/inference/trainers/vfpe/base_vf_inference.py:176: UserWarning: Data x has device 'cpu'. Moving x to the data_device 'cuda'. Training will proceed on device 'cuda'.\n",
      "  theta, x = validate_theta_and_x(\n",
      "/mnt/lustre/work/macke/mgloeckler90/sbi/sbi/inference/trainers/vfpe/base_vf_inference.py:176: UserWarning: Parameters theta has device 'cpu'. Moving theta to the data_device 'cuda'. Training will proceed on device 'cuda'.\n",
      "  theta, x = validate_theta_and_x(\n"
     ]
    },
    {
     "name": "stdout",
     "output_type": "stream",
     "text": [
      " Neural network successfully converged after 187 epochs."
     ]
    }
   ],
   "source": [
    "net_builder = posterior_flow_nn(\n",
    "    model=\"transformer\",\n",
    "    num_layers=2,\n",
    "    num_heads=2,\n",
    "    hidden_features=64,\n",
    ")\n",
    "\n",
    "# Transformers do benefit from GPU acceleration way more than e.g. NPE.\n",
    "trainer = FMPE(prior.to(\"gpu\"), vf_estimator=net_builder, device=\"cuda\")  # Or NPE\n",
    "estimator = trainer.append_simulations(theta, x).train(training_batch_size=200, learning_rate=5e-4)"
   ]
  },
  {
   "cell_type": "code",
   "execution_count": 11,
   "metadata": {},
   "outputs": [
    {
     "name": "stderr",
     "output_type": "stream",
     "text": [
      "Drawing 10000 posterior samples for 1 observations:   0%|          | 0/10000 [00:00<?, ?it/s]"
     ]
    },
    {
     "name": "stderr",
     "output_type": "stream",
     "text": [
      "Drawing 10000 posterior samples: 100%|██████████| 499/499 [00:01<00:00, 305.83it/s]\n",
      "Drawing 10000 posterior samples for 1 observations: 100%|██████████| 10000/10000 [00:01<00:00, 6094.90it/s]\n"
     ]
    },
    {
     "data": {
      "image/png": "[encoded data removed]",
      "text/plain": [
       "<Figure size 500x500 with 9 Axes>"
      ]
     },
     "metadata": {},
     "output_type": "display_data"
    }
   ],
   "source": [
    "# Build the posterior using the trained score estimator, and sample\n",
    "posterior = inference.build_posterior(estimator)\n",
    "posterior_samples = posterior.sample((10000,), x=x_o)\n",
    "\n",
    "# plot posterior samples\n",
    "fig, ax = pairplot(\n",
    "    posterior_samples.to(\"cpu\"), limits=[[-2, 2], [-2, 2], [-2, 2]], figsize=(5, 5),\n",
    "    labels=[r\"$\\theta_1$\", r\"$\\theta_2$\", r\"$\\theta_3$\"],\n",
    "    points=theta_o # add ground truth thetas\n",
    ")"
   ]
  },
  {
   "cell_type": "markdown",
   "metadata": {},
   "source": [
    "A custom neural net can be an arbirary `torch.nn.Module` that follows the abstract `VectorFieldNet` protocol. You can use any of the shelf neural network implemented in pytorch and e.g. \"wrap\" it to satisfy these constraints."
   ]
  },
  {
   "cell_type": "code",
   "execution_count": 12,
   "metadata": {},
   "outputs": [
    {
     "name": "stdout",
     "output_type": "stream",
     "text": [
      "\u001b[31mSignature:\u001b[39m\n",
      "VectorFieldNet.forward(\n",
      "    self,\n",
      "    theta: torch.Tensor,\n",
      "    x: torch.Tensor,\n",
      "    t: torch.Tensor,\n",
      ") -> torch.Tensor\n",
      "\u001b[31mDocstring:\u001b[39m\n",
      "Forward pass to compute the vector field.\n",
      "\n",
      "Args:\n",
      "    theta: Parameters\n",
      "    x: Conditioning information\n",
      "    t: Time parameter (scalar or batched)\n",
      "\n",
      "Returns:\n",
      "    Vector field evaluation at the provided points\n",
      "\u001b[31mFile:\u001b[39m      /mnt/lustre/work/macke/mgloeckler90/sbi/sbi/utils/vector_field_utils.py\n",
      "\u001b[31mType:\u001b[39m      function"
     ]
    }
   ],
   "source": [
    "from sbi.utils.vector_field_utils import VectorFieldNet\n",
    "\n",
    "?VectorFieldNet.forward"
   ]
  },
  {
   "cell_type": "code",
   "execution_count": 14,
   "metadata": {},
   "outputs": [
    {
     "name": "stdout",
     "output_type": "stream",
     "text": [
      " Neural network successfully converged after 376 epochs."
     ]
    }
   ],
   "source": [
    "class CustomNetExample(VectorFieldNet): # This can also just be torch.nn.Module\n",
    "    def __init__(self):\n",
    "        super().__init__()\n",
    "        self.in_layer1 = torch.nn.Conv1d(1,512, kernel_size=3)\n",
    "        self.in_layer2 = torch.nn.Conv1d(1,512, kernel_size=3)\n",
    "        self.time_layer = torch.nn.Linear(1,512)\n",
    "        self.out_layer = torch.nn.Linear(512,3)\n",
    "\n",
    "    def forward(self, theta, x, t):\n",
    "        # Requires 3 arguments for input (i.e. theta), condition (i.e. x) and \"time\" (a scalar)\n",
    "\n",
    "        # Whatever weird things you want to do, you can do here.\n",
    "        h1 = self.in_layer1(x[...,None,:]).mean(-1)\n",
    "        h2 = self.in_layer2(theta[...,None,:]).mean(-1)\n",
    "        t = self.time_layer(t[...,None])\n",
    "        h = torch.relu(h1 + h2 + t)\n",
    "        out = self.out_layer(h)\n",
    "\n",
    "        # Output dimension must exaclty match \"theta.shape\"\n",
    "        return out\n",
    "\n",
    "net_base = CustomNetExample()\n",
    "# This will still add some of `sbi` standard \"preconditioning\" for\n",
    "# diffusion/fmpe as well as automatic z-scoring transforms.\n",
    "# If you do want this you can also simple write your own builder.\n",
    "net_builder = posterior_flow_nn(\n",
    "    model=net_base,\n",
    ")\n",
    "\n",
    "trainer = FMPE(prior.to(\"cpu\"), vf_estimator=net_builder)\n",
    "estimator = trainer.append_simulations(theta, x).train(training_batch_size=200, learning_rate=5e-4)"
   ]
  },
  {
   "cell_type": "code",
   "execution_count": 15,
   "metadata": {},
   "outputs": [
    {
     "name": "stderr",
     "output_type": "stream",
     "text": [
      "/mnt/lustre/work/macke/mgloeckler90/sbi/sbi/inference/trainers/base.py:569: FutureWarning: The following arguments are deprecated and will be removed in a future version: mcmc_method, vi_method. Please use `posterior_parameters` instead. Refer to this guide for details:\n",
      "https://sbi.readthedocs.io/en/latest/how_to_guide/19_posterior_parameters.html#\n",
      "  self._raise_deprecation_warning(deprecated_params, **kwargs)\n",
      "Drawing 10000 posterior samples: 100%|██████████| 499/499 [00:23<00:00, 20.85it/s]0<?, ?it/s]\n",
      "Drawing 10000 posterior samples for 1 observations: 100%|██████████| 10000/10000 [00:23<00:00, 417.75it/s]\n"
     ]
    },
    {
     "data": {
      "image/png": "[encoded data removed]",
      "text/plain": [
       "<Figure size 500x500 with 9 Axes>"
      ]
     },
     "metadata": {},
     "output_type": "display_data"
    }
   ],
   "source": [
    "# Build the posterior using the trained score estimator, and sample\n",
    "posterior = inference.build_posterior(estimator)\n",
    "posterior_samples = posterior.sample((10000,), x=x_o)\n",
    "\n",
    "# plot posterior samples\n",
    "fig, ax = pairplot(\n",
    "    posterior_samples.to(\"cpu\"), limits=[[-2, 2], [-2, 2], [-2, 2]], figsize=(5, 5),\n",
    "    labels=[r\"$\\theta_1$\", r\"$\\theta_2$\", r\"$\\theta_3$\"],\n",
    "    points=theta_o # add ground truth thetas\n",
    ")"
   ]
  }
 ],
 "metadata": {
  "kernelspec": {
   "display_name": "sbi",
   "language": "python",
   "name": "python3"
  },
  "language_info": {
   "codemirror_mode": {
    "name": "ipython",
    "version": 3
   },
   "file_extension": ".py",
   "mimetype": "text/x-python",
   "name": "python",
   "nbconvert_exporter": "python",
   "pygments_lexer": "ipython3",
   "version": "3.11.11"
  }
 },
 "nbformat": 4,
 "nbformat_minor": 4
}
